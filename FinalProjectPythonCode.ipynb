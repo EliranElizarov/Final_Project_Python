{
  "nbformat": 4,
  "nbformat_minor": 0,
  "metadata": {
    "colab": {
      "name": "FinalProjectPython 2.7.22.ipynb",
      "provenance": [],
      "collapsed_sections": [
        "pH7SYUtLsM3Z",
        "pon3C1SuzP3m",
        "L0Kc-1Q7qUkT",
        "fBnSpqiL5vRO",
        "Efbcc81qtBwz",
        "hSSudxTEqEqT",
        "iWdsAG2gDTmD",
        "uCz_q1NKp-8M",
        "0QwNrDRrpsCZ",
        "jXZWGqIup5TJ"
      ]
    },
    "kernelspec": {
      "name": "python3",
      "display_name": "Python 3"
    },
    "language_info": {
      "name": "python"
    }
  },
  "cells": [
    {
      "cell_type": "markdown",
      "source": [
        "Our goal is to test whether heat waves and air pollution affect the number of hikers in the nature reserves and parks in Israel"
      ],
      "metadata": {
        "id": "2XrOmpsZTPFa"
      }
    },
    {
      "cell_type": "code",
      "source": [
        "import numpy as np\n",
        "import pandas as pd\n",
        "import plotly.graph_objects as go\n",
        "from plotly.subplots import make_subplots\n",
        "import plotly.express as px\n",
        "from scipy import stats\n",
        "from sklearn.preprocessing import MinMaxScaler\n",
        "import calendar"
      ],
      "metadata": {
        "id": "bVLB751kT3hX"
      },
      "execution_count": 173,
      "outputs": []
    },
    {
      "cell_type": "code",
      "source": [
        "Sites_df = pd.read_csv('https://raw.githubusercontent.com/EliranElizarov/Final_Project_Python/main/Sites1.csv')\n",
        "VisitorsInSites_df = pd.read_csv('https://raw.githubusercontent.com/EliranElizarov/Final_Project_Python/main/VisitorsInSites1.csv')\n",
        "Temp_df = pd.read_csv('https://raw.githubusercontent.com/EliranElizarov/Final_Project_Python/main/Temp1.csv')\n",
        "Days_df = pd.read_csv('https://raw.githubusercontent.com/EliranElizarov/Final_Project_Python/main/Days.csv')\n",
        "BeerSheva_Air_Quality_df = pd.read_csv('https://raw.githubusercontent.com/EliranElizarov/Final_Project_Python/main/BeerSheva11.csv')\n",
        "Dalia_Air_Quality_df = pd.read_csv('https://raw.githubusercontent.com/EliranElizarov/Final_Project_Python/main/Dalia11.csv')\n",
        "Haifa_Air_Quality_df = pd.read_csv('https://raw.githubusercontent.com/EliranElizarov/Final_Project_Python/main/Haifa11.csv')\n",
        "Jerusalem_Air_Quality_df = pd.read_csv('https://raw.githubusercontent.com/EliranElizarov/Final_Project_Python/main/Jerusalem11.csv')\n",
        "TelAviv_Air_Quality_df = pd.read_csv('https://raw.githubusercontent.com/EliranElizarov/Final_Project_Python/main/TelAviv11.csv')\n",
        "UpperGalilee_Air_Quality_df = pd.read_csv('https://raw.githubusercontent.com/EliranElizarov/Final_Project_Python/main/UpperGalilee111.csv')\n"
      ],
      "metadata": {
        "id": "huNyAoPhTbPv"
      },
      "execution_count": 174,
      "outputs": []
    },
    {
      "cell_type": "markdown",
      "source": [
        "### **Data preparation**"
      ],
      "metadata": {
        "id": "pH7SYUtLsM3Z"
      }
    },
    {
      "cell_type": "code",
      "source": [
        "Days_df.isnull().sum()"
      ],
      "metadata": {
        "colab": {
          "base_uri": "https://localhost:8080/"
        },
        "id": "5pDmGLOjeBxc",
        "outputId": "dd0e13d7-5ac5-4a59-94da-922c36a3f1bd"
      },
      "execution_count": 175,
      "outputs": [
        {
          "output_type": "execute_result",
          "data": {
            "text/plain": [
              "Date                       0\n",
              "Is_Weekend                 0\n",
              "Is_Jewish_Holiday        981\n",
              "Is_Muslem_Holiday       1059\n",
              "Is_Christian_Holiday    1074\n",
              "Shabbaton               1093\n",
              "dtype: int64"
            ]
          },
          "metadata": {},
          "execution_count": 175
        }
      ]
    },
    {
      "cell_type": "code",
      "source": [
        "Days_cp = Days_df.copy()\n",
        "Days_cp['Is_Jewish_Holiday'].fillna(value = 0,inplace = True)\n",
        "Days_cp['Is_Muslem_Holiday'].fillna(value = 0,inplace = True)\n",
        "Days_cp['Is_Christian_Holiday'].fillna(value = 0,inplace = True)\n",
        "Days_cp['Shabbaton'].fillna(value = 0,inplace = True)\n",
        "#Days_cp"
      ],
      "metadata": {
        "id": "t_1IcZCcfJhB"
      },
      "execution_count": 176,
      "outputs": []
    },
    {
      "cell_type": "code",
      "source": [
        "merge1_df = pd.merge(left=VisitorsInSites_df, right=Days_cp, how='left')\n",
        "#merge1_df.head(5)"
      ],
      "metadata": {
        "id": "7DSVUrR4cwPb"
      },
      "execution_count": 177,
      "outputs": []
    },
    {
      "cell_type": "code",
      "source": [
        "merge2_df = pd.merge(left=merge1_df, right=Sites_df, how='left')\n",
        "#merge2_df.head(5)"
      ],
      "metadata": {
        "id": "rKGYGi0N7ryO"
      },
      "execution_count": 178,
      "outputs": []
    },
    {
      "cell_type": "code",
      "source": [
        "israeli_df = merge2_df[merge2_df['Visitors_type']=='Israeli']\n",
        "#israeli_df.head(5)"
      ],
      "metadata": {
        "id": "qBqg-t9ugcZX"
      },
      "execution_count": 179,
      "outputs": []
    },
    {
      "cell_type": "code",
      "source": [
        "israeli_df.drop('Visitors_type', axis=1, inplace=True)\n",
        "israeli_df.rename({'Quantity': 'Israeli_Visitors'}, axis=1, inplace=True)\n",
        "#israeli_df.head(5)"
      ],
      "metadata": {
        "colab": {
          "base_uri": "https://localhost:8080/"
        },
        "id": "a3IhvsYZhIyt",
        "outputId": "172d3a58-ac9f-4feb-da26-f54886d3efcb"
      },
      "execution_count": 180,
      "outputs": [
        {
          "output_type": "stream",
          "name": "stderr",
          "text": [
            "/usr/local/lib/python3.7/dist-packages/pandas/core/frame.py:4913: SettingWithCopyWarning:\n",
            "\n",
            "\n",
            "A value is trying to be set on a copy of a slice from a DataFrame\n",
            "\n",
            "See the caveats in the documentation: https://pandas.pydata.org/pandas-docs/stable/user_guide/indexing.html#returning-a-view-versus-a-copy\n",
            "\n",
            "/usr/local/lib/python3.7/dist-packages/pandas/core/frame.py:5047: SettingWithCopyWarning:\n",
            "\n",
            "\n",
            "A value is trying to be set on a copy of a slice from a DataFrame\n",
            "\n",
            "See the caveats in the documentation: https://pandas.pydata.org/pandas-docs/stable/user_guide/indexing.html#returning-a-view-versus-a-copy\n",
            "\n"
          ]
        }
      ]
    },
    {
      "cell_type": "code",
      "source": [
        "tourist_df = merge2_df[merge2_df['Visitors_type']=='Tourist']\n",
        "#tourist_df.head(5)"
      ],
      "metadata": {
        "id": "iPDloRuDg4kO"
      },
      "execution_count": 181,
      "outputs": []
    },
    {
      "cell_type": "code",
      "source": [
        "tourist_df.drop('Visitors_type', axis=1, inplace=True)\n",
        "tourist_df.rename({'Quantity': 'Tourist_Visitors'}, axis=1, inplace=True)\n",
        "#tourist_df.head(5)"
      ],
      "metadata": {
        "colab": {
          "base_uri": "https://localhost:8080/"
        },
        "id": "Qg0KP4xbiLmz",
        "outputId": "519f9d5b-26d9-4483-d488-5b29252d10a2"
      },
      "execution_count": 182,
      "outputs": [
        {
          "output_type": "stream",
          "name": "stderr",
          "text": [
            "/usr/local/lib/python3.7/dist-packages/pandas/core/frame.py:4913: SettingWithCopyWarning:\n",
            "\n",
            "\n",
            "A value is trying to be set on a copy of a slice from a DataFrame\n",
            "\n",
            "See the caveats in the documentation: https://pandas.pydata.org/pandas-docs/stable/user_guide/indexing.html#returning-a-view-versus-a-copy\n",
            "\n",
            "/usr/local/lib/python3.7/dist-packages/pandas/core/frame.py:5047: SettingWithCopyWarning:\n",
            "\n",
            "\n",
            "A value is trying to be set on a copy of a slice from a DataFrame\n",
            "\n",
            "See the caveats in the documentation: https://pandas.pydata.org/pandas-docs/stable/user_guide/indexing.html#returning-a-view-versus-a-copy\n",
            "\n"
          ]
        }
      ]
    },
    {
      "cell_type": "code",
      "source": [
        "merge3_df = pd.merge(left=israeli_df, right=tourist_df,left_on=['Date', 'Site_Code'], right_on= ['Date', 'Site_Code'], how='left')\n",
        "#merge3_df.head(5)"
      ],
      "metadata": {
        "id": "zPz9uqsQi0Nk"
      },
      "execution_count": 183,
      "outputs": []
    },
    {
      "cell_type": "code",
      "source": [
        "merge3_df.drop(['Is_Weekend_y','Is_Jewish_Holiday_y','Is_Muslem_Holiday_y','Is_Christian_Holiday_y','Shabbaton_y','Site_Name_y', 'Location_y', 'Temp_location_code_y', 'Is_water_area_y', 'Air_quality_location_y', 'Air_quality_Code_y', 'Is_National_Park_y', 'Is_Reserve_y', 'Is_Jewish_Site_y', 'Is_Christian_Site_y', 'Camping_y', 'Duration_Of_Visit_y'], axis=1, inplace=True)\n",
        "#merge3_df.head(5)"
      ],
      "metadata": {
        "id": "0AGzr9yLjqmO"
      },
      "execution_count": 184,
      "outputs": []
    },
    {
      "cell_type": "code",
      "source": [
        "merge3_df.rename({'Is_Weekend_x': 'Is_Weekend','Is_Jewish_Holiday_x':'Is_Jewish_Holiday','Is_Muslem_Holiday_x':'Is_Muslem_Holiday','Is_Christian_Holiday_x':'Is_Christian_Holiday','Shabbaton_x':'Shabbaton','Site_Name_x':'Site_Name','Location_x':'Location','Temp_location_code_x':'Temp_location_code','Is_water_area_x':'Is_water_area','Air_quality_location_x':'Air_quality_location','Air_quality_Code_x':'Air_quality_Code','Is_National_Park_x':'Is_National_Park','Is_Reserve_x':'Is_Reserve','Is_Jewish_Site_x':'Is_Jewish_Site','Is_Christian_Site_x':'Is_Christian_Site','Camping_x':'Camping','Duration_Of_Visit_x':'Duration_Of_Visit'}, axis=1, inplace=True)\n",
        "#merge3_df.head(5)"
      ],
      "metadata": {
        "id": "HPmZFoQME9NF"
      },
      "execution_count": 185,
      "outputs": []
    },
    {
      "cell_type": "code",
      "source": [
        "merge4_df = pd.merge(left=merge3_df, right=Temp_df,left_on=['Date', 'Temp_location_code'], right_on= ['Date', 'Temp_location_code'], how='left')\n",
        "#merge4_df.head(5)"
      ],
      "metadata": {
        "id": "pJCFsMdU4ZB_"
      },
      "execution_count": 186,
      "outputs": []
    },
    {
      "cell_type": "code",
      "source": [
        "UpperGalilee10_df = merge4_df[merge4_df['Air_quality_Code']==10]\n",
        "BeerSheva3_df = merge4_df[merge4_df['Air_quality_Code']==3]\n",
        "Dalia4_df = merge4_df[merge4_df['Air_quality_Code']==4]\n",
        "Haifa5_df = merge4_df[merge4_df['Air_quality_Code']==5]\n",
        "Jerusalem6_df = merge4_df[merge4_df['Air_quality_Code']==6]\n",
        "TelAviv9_df = merge4_df[merge4_df['Air_quality_Code']==9]"
      ],
      "metadata": {
        "id": "kVnuDopDUbZH"
      },
      "execution_count": 187,
      "outputs": []
    },
    {
      "cell_type": "code",
      "source": [
        "mergeUpperGalilee10_df = pd.merge(left=UpperGalilee10_df, right=UpperGalilee_Air_Quality_df,left_on=['Date', 'Air_quality_Code'], right_on= ['Date', 'Air_quality_Code'], how='left')\n",
        "mergeBeerSheva3_df = pd.merge(left=BeerSheva3_df, right=BeerSheva_Air_Quality_df,left_on=['Date', 'Air_quality_Code'], right_on= ['Date', 'Air_quality_Code'], how='left')\n",
        "mergeDalia4_df = pd.merge(left=Dalia4_df, right=Dalia_Air_Quality_df,left_on=['Date', 'Air_quality_Code'], right_on= ['Date', 'Air_quality_Code'], how='left')\n",
        "mergeHaifa5_df = pd.merge(left=Haifa5_df, right=Haifa_Air_Quality_df,left_on=['Date', 'Air_quality_Code'], right_on= ['Date', 'Air_quality_Code'], how='left')\n",
        "mergeJerusalem6_df = pd.merge(left=Jerusalem6_df, right=Jerusalem_Air_Quality_df,left_on=['Date', 'Air_quality_Code'], right_on= ['Date', 'Air_quality_Code'], how='left')\n",
        "mergeTelAviv9_df = pd.merge(left=TelAviv9_df, right=TelAviv_Air_Quality_df,left_on=['Date', 'Air_quality_Code'], right_on= ['Date', 'Air_quality_Code'], how='left')\n"
      ],
      "metadata": {
        "id": "skEllslcUbHV"
      },
      "execution_count": 188,
      "outputs": []
    },
    {
      "cell_type": "code",
      "source": [
        "MergeNum1 = pd.merge(left=mergeUpperGalilee10_df, right=mergeBeerSheva3_df, how='outer')"
      ],
      "metadata": {
        "id": "YxT4brbVXQ1g"
      },
      "execution_count": 189,
      "outputs": []
    },
    {
      "cell_type": "code",
      "source": [
        "MergeNum2 = pd.merge(left=MergeNum1, right=mergeDalia4_df, how='outer')"
      ],
      "metadata": {
        "id": "wGWPseYZZdSv"
      },
      "execution_count": 190,
      "outputs": []
    },
    {
      "cell_type": "code",
      "source": [
        "MergeNum3 = pd.merge(left=MergeNum2, right=mergeHaifa5_df, how='outer')"
      ],
      "metadata": {
        "id": "sDOd-KOnZucc"
      },
      "execution_count": 191,
      "outputs": []
    },
    {
      "cell_type": "code",
      "source": [
        "MergeNum4 = pd.merge(left=MergeNum3, right=mergeJerusalem6_df, how='outer')"
      ],
      "metadata": {
        "id": "AGNNXZA6Z5sq"
      },
      "execution_count": 192,
      "outputs": []
    },
    {
      "cell_type": "code",
      "source": [
        "MergeNum5 = pd.merge(left=MergeNum4, right=mergeTelAviv9_df, how='outer')"
      ],
      "metadata": {
        "id": "_AspaOgPZ6Zc"
      },
      "execution_count": 193,
      "outputs": []
    },
    {
      "cell_type": "code",
      "source": [
        "#MergeNum5.head(5)"
      ],
      "metadata": {
        "id": "Ma0vfey-cbj8"
      },
      "execution_count": 194,
      "outputs": []
    },
    {
      "cell_type": "code",
      "source": [
        "FinalTable_df = MergeNum5[['Date','Site_Code','Site_Name','Location','Israeli_Visitors','Tourist_Visitors','Temp_location_code','Temp_C','Air_quality_Code','Air_quality_location','pm25','pm10','no2','so2','Is_Weekend','Is_Jewish_Holiday','Is_Muslem_Holiday','Is_Christian_Holiday','Shabbaton','Is_water_area','Is_National_Park','Is_Reserve','Is_Jewish_Site','Is_Christian_Site','Camping','Duration_Of_Visit']]\n",
        "FinalTable_df.head(5)"
      ],
      "metadata": {
        "colab": {
          "base_uri": "https://localhost:8080/",
          "height": 0
        },
        "id": "WCmQutoJTuZa",
        "outputId": "c9b8a772-228b-4e8b-bc1e-b24a74096d1e"
      },
      "execution_count": 195,
      "outputs": [
        {
          "output_type": "execute_result",
          "data": {
            "text/plain": [
              "       Date  Site_Code       Site_Name Location  Israeli_Visitors  \\\n",
              "0  1/1/2017         13          Bar'am    North                21   \n",
              "1  1/1/2017         15      Tel Hatzor    North                19   \n",
              "2  1/1/2017         16        Yechi'am    North                84   \n",
              "3  1/1/2017         17  Mivtzar Nimrod    North               251   \n",
              "4  1/1/2017         18          Banias    North               788   \n",
              "\n",
              "   Tourist_Visitors  Temp_location_code Temp_C  Air_quality_Code  \\\n",
              "0               NaN                8643   15.2                10   \n",
              "1               9.0                8643   15.2                10   \n",
              "2               3.0                 190   15.7                10   \n",
              "3              79.0                8263   15.3                10   \n",
              "4             713.0                8263   15.3                10   \n",
              "\n",
              "  Air_quality_location  ... Is_Muslem_Holiday Is_Christian_Holiday Shabbaton  \\\n",
              "0        Upper Galilee  ...               0.0                  1.0       0.0   \n",
              "1        Upper Galilee  ...               0.0                  1.0       0.0   \n",
              "2        Upper Galilee  ...               0.0                  1.0       0.0   \n",
              "3        Upper Galilee  ...               0.0                  1.0       0.0   \n",
              "4        Upper Galilee  ...               0.0                  1.0       0.0   \n",
              "\n",
              "  Is_water_area  Is_National_Park  Is_Reserve  Is_Jewish_Site  \\\n",
              "0            no                 1           0               1   \n",
              "1            no                 1           0               1   \n",
              "2            no                 1           0               1   \n",
              "3            no                 1           0               0   \n",
              "4            no                 0           1               0   \n",
              "\n",
              "   Is_Christian_Site  Camping Duration_Of_Visit  \n",
              "0                  0        0                 1  \n",
              "1                  0        0                 1  \n",
              "2                  0        0                 1  \n",
              "3                  1        0                 1  \n",
              "4                  1        0                 1  \n",
              "\n",
              "[5 rows x 26 columns]"
            ],
            "text/html": [
              "\n",
              "  <div id=\"df-da4cd47b-7d64-4a65-a4b3-b1b6b16263ae\">\n",
              "    <div class=\"colab-df-container\">\n",
              "      <div>\n",
              "<style scoped>\n",
              "    .dataframe tbody tr th:only-of-type {\n",
              "        vertical-align: middle;\n",
              "    }\n",
              "\n",
              "    .dataframe tbody tr th {\n",
              "        vertical-align: top;\n",
              "    }\n",
              "\n",
              "    .dataframe thead th {\n",
              "        text-align: right;\n",
              "    }\n",
              "</style>\n",
              "<table border=\"1\" class=\"dataframe\">\n",
              "  <thead>\n",
              "    <tr style=\"text-align: right;\">\n",
              "      <th></th>\n",
              "      <th>Date</th>\n",
              "      <th>Site_Code</th>\n",
              "      <th>Site_Name</th>\n",
              "      <th>Location</th>\n",
              "      <th>Israeli_Visitors</th>\n",
              "      <th>Tourist_Visitors</th>\n",
              "      <th>Temp_location_code</th>\n",
              "      <th>Temp_C</th>\n",
              "      <th>Air_quality_Code</th>\n",
              "      <th>Air_quality_location</th>\n",
              "      <th>...</th>\n",
              "      <th>Is_Muslem_Holiday</th>\n",
              "      <th>Is_Christian_Holiday</th>\n",
              "      <th>Shabbaton</th>\n",
              "      <th>Is_water_area</th>\n",
              "      <th>Is_National_Park</th>\n",
              "      <th>Is_Reserve</th>\n",
              "      <th>Is_Jewish_Site</th>\n",
              "      <th>Is_Christian_Site</th>\n",
              "      <th>Camping</th>\n",
              "      <th>Duration_Of_Visit</th>\n",
              "    </tr>\n",
              "  </thead>\n",
              "  <tbody>\n",
              "    <tr>\n",
              "      <th>0</th>\n",
              "      <td>1/1/2017</td>\n",
              "      <td>13</td>\n",
              "      <td>Bar'am</td>\n",
              "      <td>North</td>\n",
              "      <td>21</td>\n",
              "      <td>NaN</td>\n",
              "      <td>8643</td>\n",
              "      <td>15.2</td>\n",
              "      <td>10</td>\n",
              "      <td>Upper Galilee</td>\n",
              "      <td>...</td>\n",
              "      <td>0.0</td>\n",
              "      <td>1.0</td>\n",
              "      <td>0.0</td>\n",
              "      <td>no</td>\n",
              "      <td>1</td>\n",
              "      <td>0</td>\n",
              "      <td>1</td>\n",
              "      <td>0</td>\n",
              "      <td>0</td>\n",
              "      <td>1</td>\n",
              "    </tr>\n",
              "    <tr>\n",
              "      <th>1</th>\n",
              "      <td>1/1/2017</td>\n",
              "      <td>15</td>\n",
              "      <td>Tel Hatzor</td>\n",
              "      <td>North</td>\n",
              "      <td>19</td>\n",
              "      <td>9.0</td>\n",
              "      <td>8643</td>\n",
              "      <td>15.2</td>\n",
              "      <td>10</td>\n",
              "      <td>Upper Galilee</td>\n",
              "      <td>...</td>\n",
              "      <td>0.0</td>\n",
              "      <td>1.0</td>\n",
              "      <td>0.0</td>\n",
              "      <td>no</td>\n",
              "      <td>1</td>\n",
              "      <td>0</td>\n",
              "      <td>1</td>\n",
              "      <td>0</td>\n",
              "      <td>0</td>\n",
              "      <td>1</td>\n",
              "    </tr>\n",
              "    <tr>\n",
              "      <th>2</th>\n",
              "      <td>1/1/2017</td>\n",
              "      <td>16</td>\n",
              "      <td>Yechi'am</td>\n",
              "      <td>North</td>\n",
              "      <td>84</td>\n",
              "      <td>3.0</td>\n",
              "      <td>190</td>\n",
              "      <td>15.7</td>\n",
              "      <td>10</td>\n",
              "      <td>Upper Galilee</td>\n",
              "      <td>...</td>\n",
              "      <td>0.0</td>\n",
              "      <td>1.0</td>\n",
              "      <td>0.0</td>\n",
              "      <td>no</td>\n",
              "      <td>1</td>\n",
              "      <td>0</td>\n",
              "      <td>1</td>\n",
              "      <td>0</td>\n",
              "      <td>0</td>\n",
              "      <td>1</td>\n",
              "    </tr>\n",
              "    <tr>\n",
              "      <th>3</th>\n",
              "      <td>1/1/2017</td>\n",
              "      <td>17</td>\n",
              "      <td>Mivtzar Nimrod</td>\n",
              "      <td>North</td>\n",
              "      <td>251</td>\n",
              "      <td>79.0</td>\n",
              "      <td>8263</td>\n",
              "      <td>15.3</td>\n",
              "      <td>10</td>\n",
              "      <td>Upper Galilee</td>\n",
              "      <td>...</td>\n",
              "      <td>0.0</td>\n",
              "      <td>1.0</td>\n",
              "      <td>0.0</td>\n",
              "      <td>no</td>\n",
              "      <td>1</td>\n",
              "      <td>0</td>\n",
              "      <td>0</td>\n",
              "      <td>1</td>\n",
              "      <td>0</td>\n",
              "      <td>1</td>\n",
              "    </tr>\n",
              "    <tr>\n",
              "      <th>4</th>\n",
              "      <td>1/1/2017</td>\n",
              "      <td>18</td>\n",
              "      <td>Banias</td>\n",
              "      <td>North</td>\n",
              "      <td>788</td>\n",
              "      <td>713.0</td>\n",
              "      <td>8263</td>\n",
              "      <td>15.3</td>\n",
              "      <td>10</td>\n",
              "      <td>Upper Galilee</td>\n",
              "      <td>...</td>\n",
              "      <td>0.0</td>\n",
              "      <td>1.0</td>\n",
              "      <td>0.0</td>\n",
              "      <td>no</td>\n",
              "      <td>0</td>\n",
              "      <td>1</td>\n",
              "      <td>0</td>\n",
              "      <td>1</td>\n",
              "      <td>0</td>\n",
              "      <td>1</td>\n",
              "    </tr>\n",
              "  </tbody>\n",
              "</table>\n",
              "<p>5 rows × 26 columns</p>\n",
              "</div>\n",
              "      <button class=\"colab-df-convert\" onclick=\"convertToInteractive('df-da4cd47b-7d64-4a65-a4b3-b1b6b16263ae')\"\n",
              "              title=\"Convert this dataframe to an interactive table.\"\n",
              "              style=\"display:none;\">\n",
              "        \n",
              "  <svg xmlns=\"http://www.w3.org/2000/svg\" height=\"24px\"viewBox=\"0 0 24 24\"\n",
              "       width=\"24px\">\n",
              "    <path d=\"M0 0h24v24H0V0z\" fill=\"none\"/>\n",
              "    <path d=\"M18.56 5.44l.94 2.06.94-2.06 2.06-.94-2.06-.94-.94-2.06-.94 2.06-2.06.94zm-11 1L8.5 8.5l.94-2.06 2.06-.94-2.06-.94L8.5 2.5l-.94 2.06-2.06.94zm10 10l.94 2.06.94-2.06 2.06-.94-2.06-.94-.94-2.06-.94 2.06-2.06.94z\"/><path d=\"M17.41 7.96l-1.37-1.37c-.4-.4-.92-.59-1.43-.59-.52 0-1.04.2-1.43.59L10.3 9.45l-7.72 7.72c-.78.78-.78 2.05 0 2.83L4 21.41c.39.39.9.59 1.41.59.51 0 1.02-.2 1.41-.59l7.78-7.78 2.81-2.81c.8-.78.8-2.07 0-2.86zM5.41 20L4 18.59l7.72-7.72 1.47 1.35L5.41 20z\"/>\n",
              "  </svg>\n",
              "      </button>\n",
              "      \n",
              "  <style>\n",
              "    .colab-df-container {\n",
              "      display:flex;\n",
              "      flex-wrap:wrap;\n",
              "      gap: 12px;\n",
              "    }\n",
              "\n",
              "    .colab-df-convert {\n",
              "      background-color: #E8F0FE;\n",
              "      border: none;\n",
              "      border-radius: 50%;\n",
              "      cursor: pointer;\n",
              "      display: none;\n",
              "      fill: #1967D2;\n",
              "      height: 32px;\n",
              "      padding: 0 0 0 0;\n",
              "      width: 32px;\n",
              "    }\n",
              "\n",
              "    .colab-df-convert:hover {\n",
              "      background-color: #E2EBFA;\n",
              "      box-shadow: 0px 1px 2px rgba(60, 64, 67, 0.3), 0px 1px 3px 1px rgba(60, 64, 67, 0.15);\n",
              "      fill: #174EA6;\n",
              "    }\n",
              "\n",
              "    [theme=dark] .colab-df-convert {\n",
              "      background-color: #3B4455;\n",
              "      fill: #D2E3FC;\n",
              "    }\n",
              "\n",
              "    [theme=dark] .colab-df-convert:hover {\n",
              "      background-color: #434B5C;\n",
              "      box-shadow: 0px 1px 3px 1px rgba(0, 0, 0, 0.15);\n",
              "      filter: drop-shadow(0px 1px 2px rgba(0, 0, 0, 0.3));\n",
              "      fill: #FFFFFF;\n",
              "    }\n",
              "  </style>\n",
              "\n",
              "      <script>\n",
              "        const buttonEl =\n",
              "          document.querySelector('#df-da4cd47b-7d64-4a65-a4b3-b1b6b16263ae button.colab-df-convert');\n",
              "        buttonEl.style.display =\n",
              "          google.colab.kernel.accessAllowed ? 'block' : 'none';\n",
              "\n",
              "        async function convertToInteractive(key) {\n",
              "          const element = document.querySelector('#df-da4cd47b-7d64-4a65-a4b3-b1b6b16263ae');\n",
              "          const dataTable =\n",
              "            await google.colab.kernel.invokeFunction('convertToInteractive',\n",
              "                                                     [key], {});\n",
              "          if (!dataTable) return;\n",
              "\n",
              "          const docLinkHtml = 'Like what you see? Visit the ' +\n",
              "            '<a target=\"_blank\" href=https://colab.research.google.com/notebooks/data_table.ipynb>data table notebook</a>'\n",
              "            + ' to learn more about interactive tables.';\n",
              "          element.innerHTML = '';\n",
              "          dataTable['output_type'] = 'display_data';\n",
              "          await google.colab.output.renderOutput(dataTable, element);\n",
              "          const docLink = document.createElement('div');\n",
              "          docLink.innerHTML = docLinkHtml;\n",
              "          element.appendChild(docLink);\n",
              "        }\n",
              "      </script>\n",
              "    </div>\n",
              "  </div>\n",
              "  "
            ]
          },
          "metadata": {},
          "execution_count": 195
        }
      ]
    },
    {
      "cell_type": "code",
      "source": [
        "FinalTable_df['Tourist_Visitors'].fillna(value = int(0),inplace = True)\n",
        "FinalTable_df.Is_water_area.replace({'no':0, 'yes':1}, inplace=True)"
      ],
      "metadata": {
        "id": "eUKHOzNwUKZy",
        "colab": {
          "base_uri": "https://localhost:8080/"
        },
        "outputId": "0a82e79f-1e03-4172-a14f-ac02d086b24b"
      },
      "execution_count": 196,
      "outputs": [
        {
          "output_type": "stream",
          "name": "stderr",
          "text": [
            "/usr/local/lib/python3.7/dist-packages/pandas/core/generic.py:6392: SettingWithCopyWarning:\n",
            "\n",
            "\n",
            "A value is trying to be set on a copy of a slice from a DataFrame\n",
            "\n",
            "See the caveats in the documentation: https://pandas.pydata.org/pandas-docs/stable/user_guide/indexing.html#returning-a-view-versus-a-copy\n",
            "\n",
            "/usr/local/lib/python3.7/dist-packages/pandas/core/generic.py:6619: SettingWithCopyWarning:\n",
            "\n",
            "\n",
            "A value is trying to be set on a copy of a slice from a DataFrame\n",
            "\n",
            "See the caveats in the documentation: https://pandas.pydata.org/pandas-docs/stable/user_guide/indexing.html#returning-a-view-versus-a-copy\n",
            "\n"
          ]
        }
      ]
    },
    {
      "cell_type": "code",
      "source": [
        "FinalTable_df[['Tourist_Visitors','Is_Jewish_Holiday','Is_Muslem_Holiday','Is_Christian_Holiday','Shabbaton']] = FinalTable_df[['Tourist_Visitors','Is_Jewish_Holiday','Is_Muslem_Holiday','Is_Christian_Holiday','Shabbaton']].astype(int)\n"
      ],
      "metadata": {
        "id": "pgo5dqD4xNls"
      },
      "execution_count": 197,
      "outputs": []
    },
    {
      "cell_type": "markdown",
      "source": [
        "### **Statistics and graphs**"
      ],
      "metadata": {
        "id": "pon3C1SuzP3m"
      }
    },
    {
      "cell_type": "code",
      "source": [
        "FinalTable_df.info()"
      ],
      "metadata": {
        "id": "8iurn0t3zTeW",
        "colab": {
          "base_uri": "https://localhost:8080/"
        },
        "outputId": "27b8b715-fceb-4a3b-9d83-9bb02e1c4568"
      },
      "execution_count": 198,
      "outputs": [
        {
          "output_type": "stream",
          "name": "stdout",
          "text": [
            "<class 'pandas.core.frame.DataFrame'>\n",
            "Int64Index: 66103 entries, 0 to 66102\n",
            "Data columns (total 26 columns):\n",
            " #   Column                Non-Null Count  Dtype \n",
            "---  ------                --------------  ----- \n",
            " 0   Date                  66103 non-null  object\n",
            " 1   Site_Code             66103 non-null  int64 \n",
            " 2   Site_Name             66103 non-null  object\n",
            " 3   Location              66103 non-null  object\n",
            " 4   Israeli_Visitors      66103 non-null  int64 \n",
            " 5   Tourist_Visitors      66103 non-null  int64 \n",
            " 6   Temp_location_code    66103 non-null  int64 \n",
            " 7   Temp_C                63616 non-null  object\n",
            " 8   Air_quality_Code      66103 non-null  int64 \n",
            " 9   Air_quality_location  66103 non-null  object\n",
            " 10  pm25                  65078 non-null  object\n",
            " 11  pm10                  65023 non-null  object\n",
            " 12  no2                   65003 non-null  object\n",
            " 13  so2                   65058 non-null  object\n",
            " 14  Is_Weekend            66103 non-null  int64 \n",
            " 15  Is_Jewish_Holiday     66103 non-null  int64 \n",
            " 16  Is_Muslem_Holiday     66103 non-null  int64 \n",
            " 17  Is_Christian_Holiday  66103 non-null  int64 \n",
            " 18  Shabbaton             66103 non-null  int64 \n",
            " 19  Is_water_area         66103 non-null  int64 \n",
            " 20  Is_National_Park      66103 non-null  int64 \n",
            " 21  Is_Reserve            66103 non-null  int64 \n",
            " 22  Is_Jewish_Site        66103 non-null  int64 \n",
            " 23  Is_Christian_Site     66103 non-null  int64 \n",
            " 24  Camping               66103 non-null  int64 \n",
            " 25  Duration_Of_Visit     66103 non-null  int64 \n",
            "dtypes: int64(17), object(9)\n",
            "memory usage: 13.6+ MB\n"
          ]
        }
      ]
    },
    {
      "cell_type": "code",
      "source": [
        "FinalTable_df = FinalTable_df.replace('-', np.nan)"
      ],
      "metadata": {
        "id": "ze3mhGXSmIsK"
      },
      "execution_count": 199,
      "outputs": []
    },
    {
      "cell_type": "code",
      "source": [
        "FinalTable_df.pm25.unique()"
      ],
      "metadata": {
        "id": "Wx8tNBRqojaq",
        "colab": {
          "base_uri": "https://localhost:8080/"
        },
        "outputId": "52923ea6-2729-4258-fcab-d2abfb8cd523"
      },
      "execution_count": 200,
      "outputs": [
        {
          "output_type": "execute_result",
          "data": {
            "text/plain": [
              "array(['42', '37', '38', '39', '54', '51', '77', '78', '62', '59', '61',\n",
              "       '47', '57', '66', '73', '58', '33', '46', '55', '67', '44', '31',\n",
              "       '35', '48', '56', '65', '103', '69', '79', '86', '50', '36', '32',\n",
              "       '41', '70', '81', '129', '83', '52', '43', ' ', '133', '45', '40',\n",
              "       '53', '63', '64', '94', '88', '68', '76', '60', '75', '85', '49',\n",
              "       '30', '80', '72', '71', '74', '100', '34', '29', '111', '87', '90',\n",
              "       '104', '98', '96', '28', '27', '84', '82', '12', '25', '97', nan,\n",
              "       '102', '105', '91', '23', '134', '115', '95', '92', '179', '116',\n",
              "       '114', '118', '141', '117', '108', '211', '283', '164', '170',\n",
              "       '142', '169', '236', '89', '113', '112', '146', '99', '167', '24',\n",
              "       '26', '22', '21', '16', '17', '20', '19', '13', '14', '18', '93',\n",
              "       '139', '120', '101', '106', '9', '8', '5', '6', '7', '130', '155',\n",
              "       '187', '127', '124', '135', '126', '110', '122', '119', '123',\n",
              "       '109', '15', '131', '138', '125', '107', '121', '177', '136',\n",
              "       '176', '195', '137', '224', '150', '145', '149', '161', '189',\n",
              "       '156', '140', '132', '143', '147', '154', '128', '174', '171'],\n",
              "      dtype=object)"
            ]
          },
          "metadata": {},
          "execution_count": 200
        }
      ]
    },
    {
      "cell_type": "code",
      "source": [
        "FinalTable_df = FinalTable_df.replace(' ', np.nan)"
      ],
      "metadata": {
        "id": "rJPQfW2NtdhP"
      },
      "execution_count": 201,
      "outputs": []
    },
    {
      "cell_type": "code",
      "source": [
        "FinalTable_df['Temp_C'] = FinalTable_df['Temp_C'].astype(float)\n",
        "FinalTable_df['pm25'] = FinalTable_df['pm25'].astype(float)\n",
        "FinalTable_df['pm10'] = FinalTable_df['pm10'].astype(float)\n",
        "FinalTable_df['no2'] = FinalTable_df['no2'].astype(float)\n",
        "FinalTable_df['so2'] = FinalTable_df['so2'].astype(float)"
      ],
      "metadata": {
        "id": "9vOLL0gBkifz"
      },
      "execution_count": 202,
      "outputs": []
    },
    {
      "cell_type": "code",
      "source": [
        "FinalTable_df.head()"
      ],
      "metadata": {
        "id": "4OzxHqUCzYAr",
        "colab": {
          "base_uri": "https://localhost:8080/",
          "height": 0
        },
        "outputId": "22e77b55-0343-481f-c343-60ed3670547c"
      },
      "execution_count": 203,
      "outputs": [
        {
          "output_type": "execute_result",
          "data": {
            "text/plain": [
              "       Date  Site_Code       Site_Name Location  Israeli_Visitors  \\\n",
              "0  1/1/2017         13          Bar'am    North                21   \n",
              "1  1/1/2017         15      Tel Hatzor    North                19   \n",
              "2  1/1/2017         16        Yechi'am    North                84   \n",
              "3  1/1/2017         17  Mivtzar Nimrod    North               251   \n",
              "4  1/1/2017         18          Banias    North               788   \n",
              "\n",
              "   Tourist_Visitors  Temp_location_code  Temp_C  Air_quality_Code  \\\n",
              "0                 0                8643    15.2                10   \n",
              "1                 9                8643    15.2                10   \n",
              "2                 3                 190    15.7                10   \n",
              "3                79                8263    15.3                10   \n",
              "4               713                8263    15.3                10   \n",
              "\n",
              "  Air_quality_location  ...  Is_Muslem_Holiday  Is_Christian_Holiday  \\\n",
              "0        Upper Galilee  ...                  0                     1   \n",
              "1        Upper Galilee  ...                  0                     1   \n",
              "2        Upper Galilee  ...                  0                     1   \n",
              "3        Upper Galilee  ...                  0                     1   \n",
              "4        Upper Galilee  ...                  0                     1   \n",
              "\n",
              "   Shabbaton  Is_water_area  Is_National_Park  Is_Reserve  Is_Jewish_Site  \\\n",
              "0          0              0                 1           0               1   \n",
              "1          0              0                 1           0               1   \n",
              "2          0              0                 1           0               1   \n",
              "3          0              0                 1           0               0   \n",
              "4          0              0                 0           1               0   \n",
              "\n",
              "   Is_Christian_Site  Camping  Duration_Of_Visit  \n",
              "0                  0        0                  1  \n",
              "1                  0        0                  1  \n",
              "2                  0        0                  1  \n",
              "3                  1        0                  1  \n",
              "4                  1        0                  1  \n",
              "\n",
              "[5 rows x 26 columns]"
            ],
            "text/html": [
              "\n",
              "  <div id=\"df-5ae78f3b-5b83-421c-a324-35afe97588d2\">\n",
              "    <div class=\"colab-df-container\">\n",
              "      <div>\n",
              "<style scoped>\n",
              "    .dataframe tbody tr th:only-of-type {\n",
              "        vertical-align: middle;\n",
              "    }\n",
              "\n",
              "    .dataframe tbody tr th {\n",
              "        vertical-align: top;\n",
              "    }\n",
              "\n",
              "    .dataframe thead th {\n",
              "        text-align: right;\n",
              "    }\n",
              "</style>\n",
              "<table border=\"1\" class=\"dataframe\">\n",
              "  <thead>\n",
              "    <tr style=\"text-align: right;\">\n",
              "      <th></th>\n",
              "      <th>Date</th>\n",
              "      <th>Site_Code</th>\n",
              "      <th>Site_Name</th>\n",
              "      <th>Location</th>\n",
              "      <th>Israeli_Visitors</th>\n",
              "      <th>Tourist_Visitors</th>\n",
              "      <th>Temp_location_code</th>\n",
              "      <th>Temp_C</th>\n",
              "      <th>Air_quality_Code</th>\n",
              "      <th>Air_quality_location</th>\n",
              "      <th>...</th>\n",
              "      <th>Is_Muslem_Holiday</th>\n",
              "      <th>Is_Christian_Holiday</th>\n",
              "      <th>Shabbaton</th>\n",
              "      <th>Is_water_area</th>\n",
              "      <th>Is_National_Park</th>\n",
              "      <th>Is_Reserve</th>\n",
              "      <th>Is_Jewish_Site</th>\n",
              "      <th>Is_Christian_Site</th>\n",
              "      <th>Camping</th>\n",
              "      <th>Duration_Of_Visit</th>\n",
              "    </tr>\n",
              "  </thead>\n",
              "  <tbody>\n",
              "    <tr>\n",
              "      <th>0</th>\n",
              "      <td>1/1/2017</td>\n",
              "      <td>13</td>\n",
              "      <td>Bar'am</td>\n",
              "      <td>North</td>\n",
              "      <td>21</td>\n",
              "      <td>0</td>\n",
              "      <td>8643</td>\n",
              "      <td>15.2</td>\n",
              "      <td>10</td>\n",
              "      <td>Upper Galilee</td>\n",
              "      <td>...</td>\n",
              "      <td>0</td>\n",
              "      <td>1</td>\n",
              "      <td>0</td>\n",
              "      <td>0</td>\n",
              "      <td>1</td>\n",
              "      <td>0</td>\n",
              "      <td>1</td>\n",
              "      <td>0</td>\n",
              "      <td>0</td>\n",
              "      <td>1</td>\n",
              "    </tr>\n",
              "    <tr>\n",
              "      <th>1</th>\n",
              "      <td>1/1/2017</td>\n",
              "      <td>15</td>\n",
              "      <td>Tel Hatzor</td>\n",
              "      <td>North</td>\n",
              "      <td>19</td>\n",
              "      <td>9</td>\n",
              "      <td>8643</td>\n",
              "      <td>15.2</td>\n",
              "      <td>10</td>\n",
              "      <td>Upper Galilee</td>\n",
              "      <td>...</td>\n",
              "      <td>0</td>\n",
              "      <td>1</td>\n",
              "      <td>0</td>\n",
              "      <td>0</td>\n",
              "      <td>1</td>\n",
              "      <td>0</td>\n",
              "      <td>1</td>\n",
              "      <td>0</td>\n",
              "      <td>0</td>\n",
              "      <td>1</td>\n",
              "    </tr>\n",
              "    <tr>\n",
              "      <th>2</th>\n",
              "      <td>1/1/2017</td>\n",
              "      <td>16</td>\n",
              "      <td>Yechi'am</td>\n",
              "      <td>North</td>\n",
              "      <td>84</td>\n",
              "      <td>3</td>\n",
              "      <td>190</td>\n",
              "      <td>15.7</td>\n",
              "      <td>10</td>\n",
              "      <td>Upper Galilee</td>\n",
              "      <td>...</td>\n",
              "      <td>0</td>\n",
              "      <td>1</td>\n",
              "      <td>0</td>\n",
              "      <td>0</td>\n",
              "      <td>1</td>\n",
              "      <td>0</td>\n",
              "      <td>1</td>\n",
              "      <td>0</td>\n",
              "      <td>0</td>\n",
              "      <td>1</td>\n",
              "    </tr>\n",
              "    <tr>\n",
              "      <th>3</th>\n",
              "      <td>1/1/2017</td>\n",
              "      <td>17</td>\n",
              "      <td>Mivtzar Nimrod</td>\n",
              "      <td>North</td>\n",
              "      <td>251</td>\n",
              "      <td>79</td>\n",
              "      <td>8263</td>\n",
              "      <td>15.3</td>\n",
              "      <td>10</td>\n",
              "      <td>Upper Galilee</td>\n",
              "      <td>...</td>\n",
              "      <td>0</td>\n",
              "      <td>1</td>\n",
              "      <td>0</td>\n",
              "      <td>0</td>\n",
              "      <td>1</td>\n",
              "      <td>0</td>\n",
              "      <td>0</td>\n",
              "      <td>1</td>\n",
              "      <td>0</td>\n",
              "      <td>1</td>\n",
              "    </tr>\n",
              "    <tr>\n",
              "      <th>4</th>\n",
              "      <td>1/1/2017</td>\n",
              "      <td>18</td>\n",
              "      <td>Banias</td>\n",
              "      <td>North</td>\n",
              "      <td>788</td>\n",
              "      <td>713</td>\n",
              "      <td>8263</td>\n",
              "      <td>15.3</td>\n",
              "      <td>10</td>\n",
              "      <td>Upper Galilee</td>\n",
              "      <td>...</td>\n",
              "      <td>0</td>\n",
              "      <td>1</td>\n",
              "      <td>0</td>\n",
              "      <td>0</td>\n",
              "      <td>0</td>\n",
              "      <td>1</td>\n",
              "      <td>0</td>\n",
              "      <td>1</td>\n",
              "      <td>0</td>\n",
              "      <td>1</td>\n",
              "    </tr>\n",
              "  </tbody>\n",
              "</table>\n",
              "<p>5 rows × 26 columns</p>\n",
              "</div>\n",
              "      <button class=\"colab-df-convert\" onclick=\"convertToInteractive('df-5ae78f3b-5b83-421c-a324-35afe97588d2')\"\n",
              "              title=\"Convert this dataframe to an interactive table.\"\n",
              "              style=\"display:none;\">\n",
              "        \n",
              "  <svg xmlns=\"http://www.w3.org/2000/svg\" height=\"24px\"viewBox=\"0 0 24 24\"\n",
              "       width=\"24px\">\n",
              "    <path d=\"M0 0h24v24H0V0z\" fill=\"none\"/>\n",
              "    <path d=\"M18.56 5.44l.94 2.06.94-2.06 2.06-.94-2.06-.94-.94-2.06-.94 2.06-2.06.94zm-11 1L8.5 8.5l.94-2.06 2.06-.94-2.06-.94L8.5 2.5l-.94 2.06-2.06.94zm10 10l.94 2.06.94-2.06 2.06-.94-2.06-.94-.94-2.06-.94 2.06-2.06.94z\"/><path d=\"M17.41 7.96l-1.37-1.37c-.4-.4-.92-.59-1.43-.59-.52 0-1.04.2-1.43.59L10.3 9.45l-7.72 7.72c-.78.78-.78 2.05 0 2.83L4 21.41c.39.39.9.59 1.41.59.51 0 1.02-.2 1.41-.59l7.78-7.78 2.81-2.81c.8-.78.8-2.07 0-2.86zM5.41 20L4 18.59l7.72-7.72 1.47 1.35L5.41 20z\"/>\n",
              "  </svg>\n",
              "      </button>\n",
              "      \n",
              "  <style>\n",
              "    .colab-df-container {\n",
              "      display:flex;\n",
              "      flex-wrap:wrap;\n",
              "      gap: 12px;\n",
              "    }\n",
              "\n",
              "    .colab-df-convert {\n",
              "      background-color: #E8F0FE;\n",
              "      border: none;\n",
              "      border-radius: 50%;\n",
              "      cursor: pointer;\n",
              "      display: none;\n",
              "      fill: #1967D2;\n",
              "      height: 32px;\n",
              "      padding: 0 0 0 0;\n",
              "      width: 32px;\n",
              "    }\n",
              "\n",
              "    .colab-df-convert:hover {\n",
              "      background-color: #E2EBFA;\n",
              "      box-shadow: 0px 1px 2px rgba(60, 64, 67, 0.3), 0px 1px 3px 1px rgba(60, 64, 67, 0.15);\n",
              "      fill: #174EA6;\n",
              "    }\n",
              "\n",
              "    [theme=dark] .colab-df-convert {\n",
              "      background-color: #3B4455;\n",
              "      fill: #D2E3FC;\n",
              "    }\n",
              "\n",
              "    [theme=dark] .colab-df-convert:hover {\n",
              "      background-color: #434B5C;\n",
              "      box-shadow: 0px 1px 3px 1px rgba(0, 0, 0, 0.15);\n",
              "      filter: drop-shadow(0px 1px 2px rgba(0, 0, 0, 0.3));\n",
              "      fill: #FFFFFF;\n",
              "    }\n",
              "  </style>\n",
              "\n",
              "      <script>\n",
              "        const buttonEl =\n",
              "          document.querySelector('#df-5ae78f3b-5b83-421c-a324-35afe97588d2 button.colab-df-convert');\n",
              "        buttonEl.style.display =\n",
              "          google.colab.kernel.accessAllowed ? 'block' : 'none';\n",
              "\n",
              "        async function convertToInteractive(key) {\n",
              "          const element = document.querySelector('#df-5ae78f3b-5b83-421c-a324-35afe97588d2');\n",
              "          const dataTable =\n",
              "            await google.colab.kernel.invokeFunction('convertToInteractive',\n",
              "                                                     [key], {});\n",
              "          if (!dataTable) return;\n",
              "\n",
              "          const docLinkHtml = 'Like what you see? Visit the ' +\n",
              "            '<a target=\"_blank\" href=https://colab.research.google.com/notebooks/data_table.ipynb>data table notebook</a>'\n",
              "            + ' to learn more about interactive tables.';\n",
              "          element.innerHTML = '';\n",
              "          dataTable['output_type'] = 'display_data';\n",
              "          await google.colab.output.renderOutput(dataTable, element);\n",
              "          const docLink = document.createElement('div');\n",
              "          docLink.innerHTML = docLinkHtml;\n",
              "          element.appendChild(docLink);\n",
              "        }\n",
              "      </script>\n",
              "    </div>\n",
              "  </div>\n",
              "  "
            ]
          },
          "metadata": {},
          "execution_count": 203
        }
      ]
    },
    {
      "cell_type": "code",
      "source": [
        "missing = FinalTable_df.isnull()\n",
        "missing.sum()"
      ],
      "metadata": {
        "colab": {
          "base_uri": "https://localhost:8080/"
        },
        "id": "SxSUC5ia0Tra",
        "outputId": "ca51ab3a-31e1-4e8e-e924-e65a7d834b10"
      },
      "execution_count": 204,
      "outputs": [
        {
          "output_type": "execute_result",
          "data": {
            "text/plain": [
              "Date                        0\n",
              "Site_Code                   0\n",
              "Site_Name                   0\n",
              "Location                    0\n",
              "Israeli_Visitors            0\n",
              "Tourist_Visitors            0\n",
              "Temp_location_code          0\n",
              "Temp_C                   3415\n",
              "Air_quality_Code            0\n",
              "Air_quality_location        0\n",
              "pm25                     4386\n",
              "pm10                    27405\n",
              "no2                      2753\n",
              "so2                     40142\n",
              "Is_Weekend                  0\n",
              "Is_Jewish_Holiday           0\n",
              "Is_Muslem_Holiday           0\n",
              "Is_Christian_Holiday        0\n",
              "Shabbaton                   0\n",
              "Is_water_area               0\n",
              "Is_National_Park            0\n",
              "Is_Reserve                  0\n",
              "Is_Jewish_Site              0\n",
              "Is_Christian_Site           0\n",
              "Camping                     0\n",
              "Duration_Of_Visit           0\n",
              "dtype: int64"
            ]
          },
          "metadata": {},
          "execution_count": 204
        }
      ]
    },
    {
      "cell_type": "code",
      "source": [
        "FinalTable_df.duplicated().sum()"
      ],
      "metadata": {
        "colab": {
          "base_uri": "https://localhost:8080/"
        },
        "id": "xaUDv-yn1lhu",
        "outputId": "c9a6c1cb-8992-4ce5-f606-1ce9af8a9519"
      },
      "execution_count": 205,
      "outputs": [
        {
          "output_type": "execute_result",
          "data": {
            "text/plain": [
              "0"
            ]
          },
          "metadata": {},
          "execution_count": 205
        }
      ]
    },
    {
      "cell_type": "code",
      "source": [
        "FinalTable_df.dtypes"
      ],
      "metadata": {
        "colab": {
          "base_uri": "https://localhost:8080/"
        },
        "id": "77rteUjW2p4V",
        "outputId": "1e6b9463-38df-4d7a-c2ab-4714c4d53346"
      },
      "execution_count": 206,
      "outputs": [
        {
          "output_type": "execute_result",
          "data": {
            "text/plain": [
              "Date                     object\n",
              "Site_Code                 int64\n",
              "Site_Name                object\n",
              "Location                 object\n",
              "Israeli_Visitors          int64\n",
              "Tourist_Visitors          int64\n",
              "Temp_location_code        int64\n",
              "Temp_C                  float64\n",
              "Air_quality_Code          int64\n",
              "Air_quality_location     object\n",
              "pm25                    float64\n",
              "pm10                    float64\n",
              "no2                     float64\n",
              "so2                     float64\n",
              "Is_Weekend                int64\n",
              "Is_Jewish_Holiday         int64\n",
              "Is_Muslem_Holiday         int64\n",
              "Is_Christian_Holiday      int64\n",
              "Shabbaton                 int64\n",
              "Is_water_area             int64\n",
              "Is_National_Park          int64\n",
              "Is_Reserve                int64\n",
              "Is_Jewish_Site            int64\n",
              "Is_Christian_Site         int64\n",
              "Camping                   int64\n",
              "Duration_Of_Visit         int64\n",
              "dtype: object"
            ]
          },
          "metadata": {},
          "execution_count": 206
        }
      ]
    },
    {
      "cell_type": "code",
      "source": [
        "corr_df = FinalTable_df.corr()\n",
        "corr_df"
      ],
      "metadata": {
        "colab": {
          "base_uri": "https://localhost:8080/",
          "height": 0
        },
        "id": "zCmGOBaM21Z6",
        "outputId": "be60ab3b-34e4-43e1-af44-e1896e5c7dfd"
      },
      "execution_count": 207,
      "outputs": [
        {
          "output_type": "execute_result",
          "data": {
            "text/plain": [
              "                      Site_Code  Israeli_Visitors  Tourist_Visitors  \\\n",
              "Site_Code              1.000000          0.018369          0.092374   \n",
              "Israeli_Visitors       0.018369          1.000000          0.141178   \n",
              "Tourist_Visitors       0.092374          0.141178          1.000000   \n",
              "Temp_location_code     0.234676         -0.014050          0.122462   \n",
              "Temp_C                -0.062081          0.026184          0.008548   \n",
              "Air_quality_Code      -0.672285          0.012532         -0.139743   \n",
              "pm25                  -0.012304          0.023086         -0.041156   \n",
              "pm10                   0.043027          0.002445          0.017623   \n",
              "no2                    0.155388          0.038035         -0.062523   \n",
              "so2                    0.024780         -0.019796          0.017971   \n",
              "Is_Weekend            -0.008603          0.033987         -0.004291   \n",
              "Is_Jewish_Holiday      0.000033          0.069894         -0.026758   \n",
              "Is_Muslem_Holiday     -0.003407          0.012540         -0.011677   \n",
              "Is_Christian_Holiday   0.003611          0.021438         -0.008379   \n",
              "Shabbaton             -0.000085          0.017009          0.007643   \n",
              "Is_water_area         -0.094098          0.080242         -0.160092   \n",
              "Is_National_Park      -0.014189          0.026678          0.121509   \n",
              "Is_Reserve            -0.197228          0.007431         -0.059458   \n",
              "Is_Jewish_Site        -0.019442         -0.009131          0.099566   \n",
              "Is_Christian_Site     -0.142206          0.016409          0.257378   \n",
              "Camping                0.155093          0.056831          0.010112   \n",
              "Duration_Of_Visit      0.197844          0.159633          0.059483   \n",
              "\n",
              "                      Temp_location_code    Temp_C  Air_quality_Code  \\\n",
              "Site_Code                       0.234676 -0.062081         -0.672285   \n",
              "Israeli_Visitors               -0.014050  0.026184          0.012532   \n",
              "Tourist_Visitors                0.122462  0.008548         -0.139743   \n",
              "Temp_location_code              1.000000  0.153737         -0.005746   \n",
              "Temp_C                          0.153737  1.000000          0.023273   \n",
              "Air_quality_Code               -0.005746  0.023273          1.000000   \n",
              "pm25                           -0.083015  0.151978          0.122077   \n",
              "pm10                            0.021015 -0.007236         -0.013195   \n",
              "no2                            -0.141664 -0.194294          0.140965   \n",
              "so2                             0.020143 -0.084611         -0.138809   \n",
              "Is_Weekend                     -0.006672 -0.021520          0.006026   \n",
              "Is_Jewish_Holiday              -0.004719 -0.012601         -0.002182   \n",
              "Is_Muslem_Holiday              -0.002911  0.132188          0.001519   \n",
              "Is_Christian_Holiday            0.000100 -0.138133         -0.002695   \n",
              "Shabbaton                      -0.001158  0.015656         -0.000118   \n",
              "Is_water_area                  -0.067987  0.069643          0.190732   \n",
              "Is_National_Park               -0.066968 -0.028333         -0.024974   \n",
              "Is_Reserve                     -0.010501  0.082777          0.190131   \n",
              "Is_Jewish_Site                  0.065138  0.012258          0.016585   \n",
              "Is_Christian_Site              -0.098458 -0.010675          0.177659   \n",
              "Camping                         0.010931 -0.014028         -0.192980   \n",
              "Duration_Of_Visit              -0.042343 -0.013233         -0.080607   \n",
              "\n",
              "                          pm25      pm10       no2       so2  ...  \\\n",
              "Site_Code            -0.012304  0.043027  0.155388  0.024780  ...   \n",
              "Israeli_Visitors      0.023086  0.002445  0.038035 -0.019796  ...   \n",
              "Tourist_Visitors     -0.041156  0.017623 -0.062523  0.017971  ...   \n",
              "Temp_location_code   -0.083015  0.021015 -0.141664  0.020143  ...   \n",
              "Temp_C                0.151978 -0.007236 -0.194294 -0.084611  ...   \n",
              "Air_quality_Code      0.122077 -0.013195  0.140965 -0.138809  ...   \n",
              "pm25                  1.000000  0.304325  0.200389 -0.011132  ...   \n",
              "pm10                  0.304325  1.000000  0.077304  0.098977  ...   \n",
              "no2                   0.200389  0.077304  1.000000  0.153108  ...   \n",
              "so2                  -0.011132  0.098977  0.153108  1.000000  ...   \n",
              "Is_Weekend           -0.034040 -0.059277 -0.107904 -0.003067  ...   \n",
              "Is_Jewish_Holiday    -0.020176  0.010199 -0.008121  0.000727  ...   \n",
              "Is_Muslem_Holiday     0.012542 -0.034021 -0.024824 -0.043686  ...   \n",
              "Is_Christian_Holiday -0.029998  0.010432 -0.002081 -0.010485  ...   \n",
              "Shabbaton             0.008156 -0.005148 -0.002448  0.010592  ...   \n",
              "Is_water_area         0.033666  0.002281  0.027666 -0.059664  ...   \n",
              "Is_National_Park      0.037715  0.009733  0.054324 -0.063001  ...   \n",
              "Is_Reserve           -0.022082 -0.018224 -0.075386  0.049949  ...   \n",
              "Is_Jewish_Site       -0.025042 -0.006341 -0.027135  0.045406  ...   \n",
              "Is_Christian_Site     0.053393  0.008977  0.095139 -0.097329  ...   \n",
              "Camping               0.004462  0.015530 -0.025141 -0.014420  ...   \n",
              "Duration_Of_Visit     0.070196  0.017416  0.131466 -0.050312  ...   \n",
              "\n",
              "                      Is_Muslem_Holiday  Is_Christian_Holiday  Shabbaton  \\\n",
              "Site_Code                     -0.003407              0.003611  -0.000085   \n",
              "Israeli_Visitors               0.012540              0.021438   0.017009   \n",
              "Tourist_Visitors              -0.011677             -0.008379   0.007643   \n",
              "Temp_location_code            -0.002911              0.000100  -0.001158   \n",
              "Temp_C                         0.132188             -0.138133   0.015656   \n",
              "Air_quality_Code               0.001519             -0.002695  -0.000118   \n",
              "pm25                           0.012542             -0.029998   0.008156   \n",
              "pm10                          -0.034021              0.010432  -0.005148   \n",
              "no2                           -0.024824             -0.002081  -0.002448   \n",
              "so2                           -0.043686             -0.010485   0.010592   \n",
              "Is_Weekend                    -0.014225             -0.042301  -0.027908   \n",
              "Is_Jewish_Holiday             -0.031111              0.238675  -0.015291   \n",
              "Is_Muslem_Holiday              1.000000             -0.026042  -0.008251   \n",
              "Is_Christian_Holiday          -0.026042              1.000000  -0.006171   \n",
              "Shabbaton                     -0.008251             -0.006171   1.000000   \n",
              "Is_water_area                  0.004831             -0.004710   0.001888   \n",
              "Is_National_Park               0.002042             -0.001345  -0.000532   \n",
              "Is_Reserve                    -0.000742             -0.000943   0.000467   \n",
              "Is_Jewish_Site                -0.001301              0.001769  -0.001094   \n",
              "Is_Christian_Site             -0.001759              0.000400  -0.001278   \n",
              "Camping                        0.001940              0.000179   0.000219   \n",
              "Duration_Of_Visit              0.003011              0.001297   0.001410   \n",
              "\n",
              "                      Is_water_area  Is_National_Park  Is_Reserve  \\\n",
              "Site_Code                 -0.094098         -0.014189   -0.197228   \n",
              "Israeli_Visitors           0.080242          0.026678    0.007431   \n",
              "Tourist_Visitors          -0.160092          0.121509   -0.059458   \n",
              "Temp_location_code        -0.067987         -0.066968   -0.010501   \n",
              "Temp_C                     0.069643         -0.028333    0.082777   \n",
              "Air_quality_Code           0.190732         -0.024974    0.190131   \n",
              "pm25                       0.033666          0.037715   -0.022082   \n",
              "pm10                       0.002281          0.009733   -0.018224   \n",
              "no2                        0.027666          0.054324   -0.075386   \n",
              "so2                       -0.059664         -0.063001    0.049949   \n",
              "Is_Weekend                 0.014746          0.003497    0.006473   \n",
              "Is_Jewish_Holiday          0.001814         -0.001770    0.001491   \n",
              "Is_Muslem_Holiday          0.004831          0.002042   -0.000742   \n",
              "Is_Christian_Holiday      -0.004710         -0.001345   -0.000943   \n",
              "Shabbaton                  0.001888         -0.000532    0.000467   \n",
              "Is_water_area              1.000000         -0.232091    0.408239   \n",
              "Is_National_Park          -0.232091          1.000000   -0.806650   \n",
              "Is_Reserve                 0.408239         -0.806650    1.000000   \n",
              "Is_Jewish_Site            -0.294864          0.275874   -0.244753   \n",
              "Is_Christian_Site         -0.230293          0.282334   -0.271444   \n",
              "Camping                    0.182547          0.191888   -0.203493   \n",
              "Duration_Of_Visit          0.515506          0.007259   -0.002665   \n",
              "\n",
              "                      Is_Jewish_Site  Is_Christian_Site   Camping  \\\n",
              "Site_Code                  -0.019442          -0.142206  0.155093   \n",
              "Israeli_Visitors           -0.009131           0.016409  0.056831   \n",
              "Tourist_Visitors            0.099566           0.257378  0.010112   \n",
              "Temp_location_code          0.065138          -0.098458  0.010931   \n",
              "Temp_C                      0.012258          -0.010675 -0.014028   \n",
              "Air_quality_Code            0.016585           0.177659 -0.192980   \n",
              "pm25                       -0.025042           0.053393  0.004462   \n",
              "pm10                       -0.006341           0.008977  0.015530   \n",
              "no2                        -0.027135           0.095139 -0.025141   \n",
              "so2                         0.045406          -0.097329 -0.014420   \n",
              "Is_Weekend                 -0.008728           0.000964  0.001027   \n",
              "Is_Jewish_Holiday          -0.001658          -0.003295  0.003935   \n",
              "Is_Muslem_Holiday          -0.001301          -0.001759  0.001940   \n",
              "Is_Christian_Holiday        0.001769           0.000400  0.000179   \n",
              "Shabbaton                  -0.001094          -0.001278  0.000219   \n",
              "Is_water_area              -0.294864          -0.230293  0.182547   \n",
              "Is_National_Park            0.275874           0.282334  0.191888   \n",
              "Is_Reserve                 -0.244753          -0.271444 -0.203493   \n",
              "Is_Jewish_Site              1.000000          -0.307850 -0.129735   \n",
              "Is_Christian_Site          -0.307850           1.000000  0.009228   \n",
              "Camping                    -0.129735           0.009228  1.000000   \n",
              "Duration_Of_Visit          -0.202558          -0.134125  0.391966   \n",
              "\n",
              "                      Duration_Of_Visit  \n",
              "Site_Code                      0.197844  \n",
              "Israeli_Visitors               0.159633  \n",
              "Tourist_Visitors               0.059483  \n",
              "Temp_location_code            -0.042343  \n",
              "Temp_C                        -0.013233  \n",
              "Air_quality_Code              -0.080607  \n",
              "pm25                           0.070196  \n",
              "pm10                           0.017416  \n",
              "no2                            0.131466  \n",
              "so2                           -0.050312  \n",
              "Is_Weekend                    -0.001623  \n",
              "Is_Jewish_Holiday              0.005430  \n",
              "Is_Muslem_Holiday              0.003011  \n",
              "Is_Christian_Holiday           0.001297  \n",
              "Shabbaton                      0.001410  \n",
              "Is_water_area                  0.515506  \n",
              "Is_National_Park               0.007259  \n",
              "Is_Reserve                    -0.002665  \n",
              "Is_Jewish_Site                -0.202558  \n",
              "Is_Christian_Site             -0.134125  \n",
              "Camping                        0.391966  \n",
              "Duration_Of_Visit              1.000000  \n",
              "\n",
              "[22 rows x 22 columns]"
            ],
            "text/html": [
              "\n",
              "  <div id=\"df-97ee033f-790e-4495-a58a-f47f48f38da0\">\n",
              "    <div class=\"colab-df-container\">\n",
              "      <div>\n",
              "<style scoped>\n",
              "    .dataframe tbody tr th:only-of-type {\n",
              "        vertical-align: middle;\n",
              "    }\n",
              "\n",
              "    .dataframe tbody tr th {\n",
              "        vertical-align: top;\n",
              "    }\n",
              "\n",
              "    .dataframe thead th {\n",
              "        text-align: right;\n",
              "    }\n",
              "</style>\n",
              "<table border=\"1\" class=\"dataframe\">\n",
              "  <thead>\n",
              "    <tr style=\"text-align: right;\">\n",
              "      <th></th>\n",
              "      <th>Site_Code</th>\n",
              "      <th>Israeli_Visitors</th>\n",
              "      <th>Tourist_Visitors</th>\n",
              "      <th>Temp_location_code</th>\n",
              "      <th>Temp_C</th>\n",
              "      <th>Air_quality_Code</th>\n",
              "      <th>pm25</th>\n",
              "      <th>pm10</th>\n",
              "      <th>no2</th>\n",
              "      <th>so2</th>\n",
              "      <th>...</th>\n",
              "      <th>Is_Muslem_Holiday</th>\n",
              "      <th>Is_Christian_Holiday</th>\n",
              "      <th>Shabbaton</th>\n",
              "      <th>Is_water_area</th>\n",
              "      <th>Is_National_Park</th>\n",
              "      <th>Is_Reserve</th>\n",
              "      <th>Is_Jewish_Site</th>\n",
              "      <th>Is_Christian_Site</th>\n",
              "      <th>Camping</th>\n",
              "      <th>Duration_Of_Visit</th>\n",
              "    </tr>\n",
              "  </thead>\n",
              "  <tbody>\n",
              "    <tr>\n",
              "      <th>Site_Code</th>\n",
              "      <td>1.000000</td>\n",
              "      <td>0.018369</td>\n",
              "      <td>0.092374</td>\n",
              "      <td>0.234676</td>\n",
              "      <td>-0.062081</td>\n",
              "      <td>-0.672285</td>\n",
              "      <td>-0.012304</td>\n",
              "      <td>0.043027</td>\n",
              "      <td>0.155388</td>\n",
              "      <td>0.024780</td>\n",
              "      <td>...</td>\n",
              "      <td>-0.003407</td>\n",
              "      <td>0.003611</td>\n",
              "      <td>-0.000085</td>\n",
              "      <td>-0.094098</td>\n",
              "      <td>-0.014189</td>\n",
              "      <td>-0.197228</td>\n",
              "      <td>-0.019442</td>\n",
              "      <td>-0.142206</td>\n",
              "      <td>0.155093</td>\n",
              "      <td>0.197844</td>\n",
              "    </tr>\n",
              "    <tr>\n",
              "      <th>Israeli_Visitors</th>\n",
              "      <td>0.018369</td>\n",
              "      <td>1.000000</td>\n",
              "      <td>0.141178</td>\n",
              "      <td>-0.014050</td>\n",
              "      <td>0.026184</td>\n",
              "      <td>0.012532</td>\n",
              "      <td>0.023086</td>\n",
              "      <td>0.002445</td>\n",
              "      <td>0.038035</td>\n",
              "      <td>-0.019796</td>\n",
              "      <td>...</td>\n",
              "      <td>0.012540</td>\n",
              "      <td>0.021438</td>\n",
              "      <td>0.017009</td>\n",
              "      <td>0.080242</td>\n",
              "      <td>0.026678</td>\n",
              "      <td>0.007431</td>\n",
              "      <td>-0.009131</td>\n",
              "      <td>0.016409</td>\n",
              "      <td>0.056831</td>\n",
              "      <td>0.159633</td>\n",
              "    </tr>\n",
              "    <tr>\n",
              "      <th>Tourist_Visitors</th>\n",
              "      <td>0.092374</td>\n",
              "      <td>0.141178</td>\n",
              "      <td>1.000000</td>\n",
              "      <td>0.122462</td>\n",
              "      <td>0.008548</td>\n",
              "      <td>-0.139743</td>\n",
              "      <td>-0.041156</td>\n",
              "      <td>0.017623</td>\n",
              "      <td>-0.062523</td>\n",
              "      <td>0.017971</td>\n",
              "      <td>...</td>\n",
              "      <td>-0.011677</td>\n",
              "      <td>-0.008379</td>\n",
              "      <td>0.007643</td>\n",
              "      <td>-0.160092</td>\n",
              "      <td>0.121509</td>\n",
              "      <td>-0.059458</td>\n",
              "      <td>0.099566</td>\n",
              "      <td>0.257378</td>\n",
              "      <td>0.010112</td>\n",
              "      <td>0.059483</td>\n",
              "    </tr>\n",
              "    <tr>\n",
              "      <th>Temp_location_code</th>\n",
              "      <td>0.234676</td>\n",
              "      <td>-0.014050</td>\n",
              "      <td>0.122462</td>\n",
              "      <td>1.000000</td>\n",
              "      <td>0.153737</td>\n",
              "      <td>-0.005746</td>\n",
              "      <td>-0.083015</td>\n",
              "      <td>0.021015</td>\n",
              "      <td>-0.141664</td>\n",
              "      <td>0.020143</td>\n",
              "      <td>...</td>\n",
              "      <td>-0.002911</td>\n",
              "      <td>0.000100</td>\n",
              "      <td>-0.001158</td>\n",
              "      <td>-0.067987</td>\n",
              "      <td>-0.066968</td>\n",
              "      <td>-0.010501</td>\n",
              "      <td>0.065138</td>\n",
              "      <td>-0.098458</td>\n",
              "      <td>0.010931</td>\n",
              "      <td>-0.042343</td>\n",
              "    </tr>\n",
              "    <tr>\n",
              "      <th>Temp_C</th>\n",
              "      <td>-0.062081</td>\n",
              "      <td>0.026184</td>\n",
              "      <td>0.008548</td>\n",
              "      <td>0.153737</td>\n",
              "      <td>1.000000</td>\n",
              "      <td>0.023273</td>\n",
              "      <td>0.151978</td>\n",
              "      <td>-0.007236</td>\n",
              "      <td>-0.194294</td>\n",
              "      <td>-0.084611</td>\n",
              "      <td>...</td>\n",
              "      <td>0.132188</td>\n",
              "      <td>-0.138133</td>\n",
              "      <td>0.015656</td>\n",
              "      <td>0.069643</td>\n",
              "      <td>-0.028333</td>\n",
              "      <td>0.082777</td>\n",
              "      <td>0.012258</td>\n",
              "      <td>-0.010675</td>\n",
              "      <td>-0.014028</td>\n",
              "      <td>-0.013233</td>\n",
              "    </tr>\n",
              "    <tr>\n",
              "      <th>Air_quality_Code</th>\n",
              "      <td>-0.672285</td>\n",
              "      <td>0.012532</td>\n",
              "      <td>-0.139743</td>\n",
              "      <td>-0.005746</td>\n",
              "      <td>0.023273</td>\n",
              "      <td>1.000000</td>\n",
              "      <td>0.122077</td>\n",
              "      <td>-0.013195</td>\n",
              "      <td>0.140965</td>\n",
              "      <td>-0.138809</td>\n",
              "      <td>...</td>\n",
              "      <td>0.001519</td>\n",
              "      <td>-0.002695</td>\n",
              "      <td>-0.000118</td>\n",
              "      <td>0.190732</td>\n",
              "      <td>-0.024974</td>\n",
              "      <td>0.190131</td>\n",
              "      <td>0.016585</td>\n",
              "      <td>0.177659</td>\n",
              "      <td>-0.192980</td>\n",
              "      <td>-0.080607</td>\n",
              "    </tr>\n",
              "    <tr>\n",
              "      <th>pm25</th>\n",
              "      <td>-0.012304</td>\n",
              "      <td>0.023086</td>\n",
              "      <td>-0.041156</td>\n",
              "      <td>-0.083015</td>\n",
              "      <td>0.151978</td>\n",
              "      <td>0.122077</td>\n",
              "      <td>1.000000</td>\n",
              "      <td>0.304325</td>\n",
              "      <td>0.200389</td>\n",
              "      <td>-0.011132</td>\n",
              "      <td>...</td>\n",
              "      <td>0.012542</td>\n",
              "      <td>-0.029998</td>\n",
              "      <td>0.008156</td>\n",
              "      <td>0.033666</td>\n",
              "      <td>0.037715</td>\n",
              "      <td>-0.022082</td>\n",
              "      <td>-0.025042</td>\n",
              "      <td>0.053393</td>\n",
              "      <td>0.004462</td>\n",
              "      <td>0.070196</td>\n",
              "    </tr>\n",
              "    <tr>\n",
              "      <th>pm10</th>\n",
              "      <td>0.043027</td>\n",
              "      <td>0.002445</td>\n",
              "      <td>0.017623</td>\n",
              "      <td>0.021015</td>\n",
              "      <td>-0.007236</td>\n",
              "      <td>-0.013195</td>\n",
              "      <td>0.304325</td>\n",
              "      <td>1.000000</td>\n",
              "      <td>0.077304</td>\n",
              "      <td>0.098977</td>\n",
              "      <td>...</td>\n",
              "      <td>-0.034021</td>\n",
              "      <td>0.010432</td>\n",
              "      <td>-0.005148</td>\n",
              "      <td>0.002281</td>\n",
              "      <td>0.009733</td>\n",
              "      <td>-0.018224</td>\n",
              "      <td>-0.006341</td>\n",
              "      <td>0.008977</td>\n",
              "      <td>0.015530</td>\n",
              "      <td>0.017416</td>\n",
              "    </tr>\n",
              "    <tr>\n",
              "      <th>no2</th>\n",
              "      <td>0.155388</td>\n",
              "      <td>0.038035</td>\n",
              "      <td>-0.062523</td>\n",
              "      <td>-0.141664</td>\n",
              "      <td>-0.194294</td>\n",
              "      <td>0.140965</td>\n",
              "      <td>0.200389</td>\n",
              "      <td>0.077304</td>\n",
              "      <td>1.000000</td>\n",
              "      <td>0.153108</td>\n",
              "      <td>...</td>\n",
              "      <td>-0.024824</td>\n",
              "      <td>-0.002081</td>\n",
              "      <td>-0.002448</td>\n",
              "      <td>0.027666</td>\n",
              "      <td>0.054324</td>\n",
              "      <td>-0.075386</td>\n",
              "      <td>-0.027135</td>\n",
              "      <td>0.095139</td>\n",
              "      <td>-0.025141</td>\n",
              "      <td>0.131466</td>\n",
              "    </tr>\n",
              "    <tr>\n",
              "      <th>so2</th>\n",
              "      <td>0.024780</td>\n",
              "      <td>-0.019796</td>\n",
              "      <td>0.017971</td>\n",
              "      <td>0.020143</td>\n",
              "      <td>-0.084611</td>\n",
              "      <td>-0.138809</td>\n",
              "      <td>-0.011132</td>\n",
              "      <td>0.098977</td>\n",
              "      <td>0.153108</td>\n",
              "      <td>1.000000</td>\n",
              "      <td>...</td>\n",
              "      <td>-0.043686</td>\n",
              "      <td>-0.010485</td>\n",
              "      <td>0.010592</td>\n",
              "      <td>-0.059664</td>\n",
              "      <td>-0.063001</td>\n",
              "      <td>0.049949</td>\n",
              "      <td>0.045406</td>\n",
              "      <td>-0.097329</td>\n",
              "      <td>-0.014420</td>\n",
              "      <td>-0.050312</td>\n",
              "    </tr>\n",
              "    <tr>\n",
              "      <th>Is_Weekend</th>\n",
              "      <td>-0.008603</td>\n",
              "      <td>0.033987</td>\n",
              "      <td>-0.004291</td>\n",
              "      <td>-0.006672</td>\n",
              "      <td>-0.021520</td>\n",
              "      <td>0.006026</td>\n",
              "      <td>-0.034040</td>\n",
              "      <td>-0.059277</td>\n",
              "      <td>-0.107904</td>\n",
              "      <td>-0.003067</td>\n",
              "      <td>...</td>\n",
              "      <td>-0.014225</td>\n",
              "      <td>-0.042301</td>\n",
              "      <td>-0.027908</td>\n",
              "      <td>0.014746</td>\n",
              "      <td>0.003497</td>\n",
              "      <td>0.006473</td>\n",
              "      <td>-0.008728</td>\n",
              "      <td>0.000964</td>\n",
              "      <td>0.001027</td>\n",
              "      <td>-0.001623</td>\n",
              "    </tr>\n",
              "    <tr>\n",
              "      <th>Is_Jewish_Holiday</th>\n",
              "      <td>0.000033</td>\n",
              "      <td>0.069894</td>\n",
              "      <td>-0.026758</td>\n",
              "      <td>-0.004719</td>\n",
              "      <td>-0.012601</td>\n",
              "      <td>-0.002182</td>\n",
              "      <td>-0.020176</td>\n",
              "      <td>0.010199</td>\n",
              "      <td>-0.008121</td>\n",
              "      <td>0.000727</td>\n",
              "      <td>...</td>\n",
              "      <td>-0.031111</td>\n",
              "      <td>0.238675</td>\n",
              "      <td>-0.015291</td>\n",
              "      <td>0.001814</td>\n",
              "      <td>-0.001770</td>\n",
              "      <td>0.001491</td>\n",
              "      <td>-0.001658</td>\n",
              "      <td>-0.003295</td>\n",
              "      <td>0.003935</td>\n",
              "      <td>0.005430</td>\n",
              "    </tr>\n",
              "    <tr>\n",
              "      <th>Is_Muslem_Holiday</th>\n",
              "      <td>-0.003407</td>\n",
              "      <td>0.012540</td>\n",
              "      <td>-0.011677</td>\n",
              "      <td>-0.002911</td>\n",
              "      <td>0.132188</td>\n",
              "      <td>0.001519</td>\n",
              "      <td>0.012542</td>\n",
              "      <td>-0.034021</td>\n",
              "      <td>-0.024824</td>\n",
              "      <td>-0.043686</td>\n",
              "      <td>...</td>\n",
              "      <td>1.000000</td>\n",
              "      <td>-0.026042</td>\n",
              "      <td>-0.008251</td>\n",
              "      <td>0.004831</td>\n",
              "      <td>0.002042</td>\n",
              "      <td>-0.000742</td>\n",
              "      <td>-0.001301</td>\n",
              "      <td>-0.001759</td>\n",
              "      <td>0.001940</td>\n",
              "      <td>0.003011</td>\n",
              "    </tr>\n",
              "    <tr>\n",
              "      <th>Is_Christian_Holiday</th>\n",
              "      <td>0.003611</td>\n",
              "      <td>0.021438</td>\n",
              "      <td>-0.008379</td>\n",
              "      <td>0.000100</td>\n",
              "      <td>-0.138133</td>\n",
              "      <td>-0.002695</td>\n",
              "      <td>-0.029998</td>\n",
              "      <td>0.010432</td>\n",
              "      <td>-0.002081</td>\n",
              "      <td>-0.010485</td>\n",
              "      <td>...</td>\n",
              "      <td>-0.026042</td>\n",
              "      <td>1.000000</td>\n",
              "      <td>-0.006171</td>\n",
              "      <td>-0.004710</td>\n",
              "      <td>-0.001345</td>\n",
              "      <td>-0.000943</td>\n",
              "      <td>0.001769</td>\n",
              "      <td>0.000400</td>\n",
              "      <td>0.000179</td>\n",
              "      <td>0.001297</td>\n",
              "    </tr>\n",
              "    <tr>\n",
              "      <th>Shabbaton</th>\n",
              "      <td>-0.000085</td>\n",
              "      <td>0.017009</td>\n",
              "      <td>0.007643</td>\n",
              "      <td>-0.001158</td>\n",
              "      <td>0.015656</td>\n",
              "      <td>-0.000118</td>\n",
              "      <td>0.008156</td>\n",
              "      <td>-0.005148</td>\n",
              "      <td>-0.002448</td>\n",
              "      <td>0.010592</td>\n",
              "      <td>...</td>\n",
              "      <td>-0.008251</td>\n",
              "      <td>-0.006171</td>\n",
              "      <td>1.000000</td>\n",
              "      <td>0.001888</td>\n",
              "      <td>-0.000532</td>\n",
              "      <td>0.000467</td>\n",
              "      <td>-0.001094</td>\n",
              "      <td>-0.001278</td>\n",
              "      <td>0.000219</td>\n",
              "      <td>0.001410</td>\n",
              "    </tr>\n",
              "    <tr>\n",
              "      <th>Is_water_area</th>\n",
              "      <td>-0.094098</td>\n",
              "      <td>0.080242</td>\n",
              "      <td>-0.160092</td>\n",
              "      <td>-0.067987</td>\n",
              "      <td>0.069643</td>\n",
              "      <td>0.190732</td>\n",
              "      <td>0.033666</td>\n",
              "      <td>0.002281</td>\n",
              "      <td>0.027666</td>\n",
              "      <td>-0.059664</td>\n",
              "      <td>...</td>\n",
              "      <td>0.004831</td>\n",
              "      <td>-0.004710</td>\n",
              "      <td>0.001888</td>\n",
              "      <td>1.000000</td>\n",
              "      <td>-0.232091</td>\n",
              "      <td>0.408239</td>\n",
              "      <td>-0.294864</td>\n",
              "      <td>-0.230293</td>\n",
              "      <td>0.182547</td>\n",
              "      <td>0.515506</td>\n",
              "    </tr>\n",
              "    <tr>\n",
              "      <th>Is_National_Park</th>\n",
              "      <td>-0.014189</td>\n",
              "      <td>0.026678</td>\n",
              "      <td>0.121509</td>\n",
              "      <td>-0.066968</td>\n",
              "      <td>-0.028333</td>\n",
              "      <td>-0.024974</td>\n",
              "      <td>0.037715</td>\n",
              "      <td>0.009733</td>\n",
              "      <td>0.054324</td>\n",
              "      <td>-0.063001</td>\n",
              "      <td>...</td>\n",
              "      <td>0.002042</td>\n",
              "      <td>-0.001345</td>\n",
              "      <td>-0.000532</td>\n",
              "      <td>-0.232091</td>\n",
              "      <td>1.000000</td>\n",
              "      <td>-0.806650</td>\n",
              "      <td>0.275874</td>\n",
              "      <td>0.282334</td>\n",
              "      <td>0.191888</td>\n",
              "      <td>0.007259</td>\n",
              "    </tr>\n",
              "    <tr>\n",
              "      <th>Is_Reserve</th>\n",
              "      <td>-0.197228</td>\n",
              "      <td>0.007431</td>\n",
              "      <td>-0.059458</td>\n",
              "      <td>-0.010501</td>\n",
              "      <td>0.082777</td>\n",
              "      <td>0.190131</td>\n",
              "      <td>-0.022082</td>\n",
              "      <td>-0.018224</td>\n",
              "      <td>-0.075386</td>\n",
              "      <td>0.049949</td>\n",
              "      <td>...</td>\n",
              "      <td>-0.000742</td>\n",
              "      <td>-0.000943</td>\n",
              "      <td>0.000467</td>\n",
              "      <td>0.408239</td>\n",
              "      <td>-0.806650</td>\n",
              "      <td>1.000000</td>\n",
              "      <td>-0.244753</td>\n",
              "      <td>-0.271444</td>\n",
              "      <td>-0.203493</td>\n",
              "      <td>-0.002665</td>\n",
              "    </tr>\n",
              "    <tr>\n",
              "      <th>Is_Jewish_Site</th>\n",
              "      <td>-0.019442</td>\n",
              "      <td>-0.009131</td>\n",
              "      <td>0.099566</td>\n",
              "      <td>0.065138</td>\n",
              "      <td>0.012258</td>\n",
              "      <td>0.016585</td>\n",
              "      <td>-0.025042</td>\n",
              "      <td>-0.006341</td>\n",
              "      <td>-0.027135</td>\n",
              "      <td>0.045406</td>\n",
              "      <td>...</td>\n",
              "      <td>-0.001301</td>\n",
              "      <td>0.001769</td>\n",
              "      <td>-0.001094</td>\n",
              "      <td>-0.294864</td>\n",
              "      <td>0.275874</td>\n",
              "      <td>-0.244753</td>\n",
              "      <td>1.000000</td>\n",
              "      <td>-0.307850</td>\n",
              "      <td>-0.129735</td>\n",
              "      <td>-0.202558</td>\n",
              "    </tr>\n",
              "    <tr>\n",
              "      <th>Is_Christian_Site</th>\n",
              "      <td>-0.142206</td>\n",
              "      <td>0.016409</td>\n",
              "      <td>0.257378</td>\n",
              "      <td>-0.098458</td>\n",
              "      <td>-0.010675</td>\n",
              "      <td>0.177659</td>\n",
              "      <td>0.053393</td>\n",
              "      <td>0.008977</td>\n",
              "      <td>0.095139</td>\n",
              "      <td>-0.097329</td>\n",
              "      <td>...</td>\n",
              "      <td>-0.001759</td>\n",
              "      <td>0.000400</td>\n",
              "      <td>-0.001278</td>\n",
              "      <td>-0.230293</td>\n",
              "      <td>0.282334</td>\n",
              "      <td>-0.271444</td>\n",
              "      <td>-0.307850</td>\n",
              "      <td>1.000000</td>\n",
              "      <td>0.009228</td>\n",
              "      <td>-0.134125</td>\n",
              "    </tr>\n",
              "    <tr>\n",
              "      <th>Camping</th>\n",
              "      <td>0.155093</td>\n",
              "      <td>0.056831</td>\n",
              "      <td>0.010112</td>\n",
              "      <td>0.010931</td>\n",
              "      <td>-0.014028</td>\n",
              "      <td>-0.192980</td>\n",
              "      <td>0.004462</td>\n",
              "      <td>0.015530</td>\n",
              "      <td>-0.025141</td>\n",
              "      <td>-0.014420</td>\n",
              "      <td>...</td>\n",
              "      <td>0.001940</td>\n",
              "      <td>0.000179</td>\n",
              "      <td>0.000219</td>\n",
              "      <td>0.182547</td>\n",
              "      <td>0.191888</td>\n",
              "      <td>-0.203493</td>\n",
              "      <td>-0.129735</td>\n",
              "      <td>0.009228</td>\n",
              "      <td>1.000000</td>\n",
              "      <td>0.391966</td>\n",
              "    </tr>\n",
              "    <tr>\n",
              "      <th>Duration_Of_Visit</th>\n",
              "      <td>0.197844</td>\n",
              "      <td>0.159633</td>\n",
              "      <td>0.059483</td>\n",
              "      <td>-0.042343</td>\n",
              "      <td>-0.013233</td>\n",
              "      <td>-0.080607</td>\n",
              "      <td>0.070196</td>\n",
              "      <td>0.017416</td>\n",
              "      <td>0.131466</td>\n",
              "      <td>-0.050312</td>\n",
              "      <td>...</td>\n",
              "      <td>0.003011</td>\n",
              "      <td>0.001297</td>\n",
              "      <td>0.001410</td>\n",
              "      <td>0.515506</td>\n",
              "      <td>0.007259</td>\n",
              "      <td>-0.002665</td>\n",
              "      <td>-0.202558</td>\n",
              "      <td>-0.134125</td>\n",
              "      <td>0.391966</td>\n",
              "      <td>1.000000</td>\n",
              "    </tr>\n",
              "  </tbody>\n",
              "</table>\n",
              "<p>22 rows × 22 columns</p>\n",
              "</div>\n",
              "      <button class=\"colab-df-convert\" onclick=\"convertToInteractive('df-97ee033f-790e-4495-a58a-f47f48f38da0')\"\n",
              "              title=\"Convert this dataframe to an interactive table.\"\n",
              "              style=\"display:none;\">\n",
              "        \n",
              "  <svg xmlns=\"http://www.w3.org/2000/svg\" height=\"24px\"viewBox=\"0 0 24 24\"\n",
              "       width=\"24px\">\n",
              "    <path d=\"M0 0h24v24H0V0z\" fill=\"none\"/>\n",
              "    <path d=\"M18.56 5.44l.94 2.06.94-2.06 2.06-.94-2.06-.94-.94-2.06-.94 2.06-2.06.94zm-11 1L8.5 8.5l.94-2.06 2.06-.94-2.06-.94L8.5 2.5l-.94 2.06-2.06.94zm10 10l.94 2.06.94-2.06 2.06-.94-2.06-.94-.94-2.06-.94 2.06-2.06.94z\"/><path d=\"M17.41 7.96l-1.37-1.37c-.4-.4-.92-.59-1.43-.59-.52 0-1.04.2-1.43.59L10.3 9.45l-7.72 7.72c-.78.78-.78 2.05 0 2.83L4 21.41c.39.39.9.59 1.41.59.51 0 1.02-.2 1.41-.59l7.78-7.78 2.81-2.81c.8-.78.8-2.07 0-2.86zM5.41 20L4 18.59l7.72-7.72 1.47 1.35L5.41 20z\"/>\n",
              "  </svg>\n",
              "      </button>\n",
              "      \n",
              "  <style>\n",
              "    .colab-df-container {\n",
              "      display:flex;\n",
              "      flex-wrap:wrap;\n",
              "      gap: 12px;\n",
              "    }\n",
              "\n",
              "    .colab-df-convert {\n",
              "      background-color: #E8F0FE;\n",
              "      border: none;\n",
              "      border-radius: 50%;\n",
              "      cursor: pointer;\n",
              "      display: none;\n",
              "      fill: #1967D2;\n",
              "      height: 32px;\n",
              "      padding: 0 0 0 0;\n",
              "      width: 32px;\n",
              "    }\n",
              "\n",
              "    .colab-df-convert:hover {\n",
              "      background-color: #E2EBFA;\n",
              "      box-shadow: 0px 1px 2px rgba(60, 64, 67, 0.3), 0px 1px 3px 1px rgba(60, 64, 67, 0.15);\n",
              "      fill: #174EA6;\n",
              "    }\n",
              "\n",
              "    [theme=dark] .colab-df-convert {\n",
              "      background-color: #3B4455;\n",
              "      fill: #D2E3FC;\n",
              "    }\n",
              "\n",
              "    [theme=dark] .colab-df-convert:hover {\n",
              "      background-color: #434B5C;\n",
              "      box-shadow: 0px 1px 3px 1px rgba(0, 0, 0, 0.15);\n",
              "      filter: drop-shadow(0px 1px 2px rgba(0, 0, 0, 0.3));\n",
              "      fill: #FFFFFF;\n",
              "    }\n",
              "  </style>\n",
              "\n",
              "      <script>\n",
              "        const buttonEl =\n",
              "          document.querySelector('#df-97ee033f-790e-4495-a58a-f47f48f38da0 button.colab-df-convert');\n",
              "        buttonEl.style.display =\n",
              "          google.colab.kernel.accessAllowed ? 'block' : 'none';\n",
              "\n",
              "        async function convertToInteractive(key) {\n",
              "          const element = document.querySelector('#df-97ee033f-790e-4495-a58a-f47f48f38da0');\n",
              "          const dataTable =\n",
              "            await google.colab.kernel.invokeFunction('convertToInteractive',\n",
              "                                                     [key], {});\n",
              "          if (!dataTable) return;\n",
              "\n",
              "          const docLinkHtml = 'Like what you see? Visit the ' +\n",
              "            '<a target=\"_blank\" href=https://colab.research.google.com/notebooks/data_table.ipynb>data table notebook</a>'\n",
              "            + ' to learn more about interactive tables.';\n",
              "          element.innerHTML = '';\n",
              "          dataTable['output_type'] = 'display_data';\n",
              "          await google.colab.output.renderOutput(dataTable, element);\n",
              "          const docLink = document.createElement('div');\n",
              "          docLink.innerHTML = docLinkHtml;\n",
              "          element.appendChild(docLink);\n",
              "        }\n",
              "      </script>\n",
              "    </div>\n",
              "  </div>\n",
              "  "
            ]
          },
          "metadata": {},
          "execution_count": 207
        }
      ]
    },
    {
      "cell_type": "code",
      "source": [
        "fig = go.Figure()\n",
        "fig.add_traces(go.Heatmap(\n",
        "    z=corr_df, \n",
        "    x= corr_df.columns,  \n",
        "    y= corr_df.columns,\n",
        "))\n",
        "fig.update_layout({\n",
        "    'title':\"Dataframe Correlation Heatmap\"\n",
        "})\n",
        "\n",
        "fig.show()"
      ],
      "metadata": {
        "colab": {
          "base_uri": "https://localhost:8080/",
          "height": 0
        },
        "id": "XBK41LSj2-gD",
        "outputId": "f839dbea-c7b5-44e4-94e2-08cc15f5cee7"
      },
      "execution_count": 208,
      "outputs": [
        {
          "output_type": "display_data",
          "data": {
            "text/html": [
              "<html>\n",
              "<head><meta charset=\"utf-8\" /></head>\n",
              "<body>\n",
              "    <div>            <script src=\"https://cdnjs.cloudflare.com/ajax/libs/mathjax/2.7.5/MathJax.js?config=TeX-AMS-MML_SVG\"></script><script type=\"text/javascript\">if (window.MathJax) {MathJax.Hub.Config({SVG: {font: \"STIX-Web\"}});}</script>                <script type=\"text/javascript\">window.PlotlyConfig = {MathJaxConfig: 'local'};</script>\n",
              "        <script src=\"https://cdn.plot.ly/plotly-2.8.3.min.js\"></script>                <div id=\"e8677669-c6e1-4bf4-911c-b8d83517f64d\" class=\"plotly-graph-div\" style=\"height:525px; width:100%;\"></div>            <script type=\"text/javascript\">                                    window.PLOTLYENV=window.PLOTLYENV || {};                                    if (document.getElementById(\"e8677669-c6e1-4bf4-911c-b8d83517f64d\")) {                    Plotly.newPlot(                        \"e8677669-c6e1-4bf4-911c-b8d83517f64d\",                        [{\"x\":[\"Site_Code\",\"Israeli_Visitors\",\"Tourist_Visitors\",\"Temp_location_code\",\"Temp_C\",\"Air_quality_Code\",\"pm25\",\"pm10\",\"no2\",\"so2\",\"Is_Weekend\",\"Is_Jewish_Holiday\",\"Is_Muslem_Holiday\",\"Is_Christian_Holiday\",\"Shabbaton\",\"Is_water_area\",\"Is_National_Park\",\"Is_Reserve\",\"Is_Jewish_Site\",\"Is_Christian_Site\",\"Camping\",\"Duration_Of_Visit\"],\"y\":[\"Site_Code\",\"Israeli_Visitors\",\"Tourist_Visitors\",\"Temp_location_code\",\"Temp_C\",\"Air_quality_Code\",\"pm25\",\"pm10\",\"no2\",\"so2\",\"Is_Weekend\",\"Is_Jewish_Holiday\",\"Is_Muslem_Holiday\",\"Is_Christian_Holiday\",\"Shabbaton\",\"Is_water_area\",\"Is_National_Park\",\"Is_Reserve\",\"Is_Jewish_Site\",\"Is_Christian_Site\",\"Camping\",\"Duration_Of_Visit\"],\"z\":[[1.0,0.01836885463720484,0.09237446839556138,0.23467601120229556,-0.06208148236076154,-0.6722846745303516,-0.012303815021303845,0.04302676699116207,0.1553881026152755,0.024780408096320303,-0.008603105117018204,3.257137063655499e-05,-0.0034072333775265144,0.0036108914171713276,-8.545600788320605e-05,-0.09409801853540156,-0.014188544247160694,-0.19722835504724728,-0.019441752294993207,-0.14220582352662633,0.15509270446437917,0.19784414180654422],[0.01836885463720484,1.0,0.14117756055042965,-0.014050363051575197,0.026184273276737245,0.012532177298763667,0.023085738242847247,0.002444908802486751,0.03803455526019099,-0.01979566178308768,0.03398726160297824,0.06989392116724367,0.012539890300713352,0.021437541576465213,0.017009054457319598,0.08024172161522951,0.026678399884936962,0.007431443946000978,-0.009130737032373474,0.016408677085758005,0.05683142322357087,0.15963344502935817],[0.09237446839556138,0.14117756055042965,1.0,0.12246227380097471,0.00854753283172401,-0.1397427595950091,-0.04115592780998846,0.017622693715700025,-0.06252324150570461,0.01797058663606801,-0.004290946199846811,-0.026757580144984257,-0.011676502337853991,-0.00837929291427577,0.007643027419182476,-0.16009221127479173,0.12150893488521888,-0.0594576273799014,0.09956577547585949,0.2573784655359901,0.010112064029903318,0.05948299142177598],[0.23467601120229556,-0.014050363051575197,0.12246227380097471,1.0,0.15373710660243436,-0.005746360460292355,-0.08301537262754537,0.02101493618309125,-0.14166425156173326,0.020142814289276167,-0.006671707990640217,-0.004718862932576926,-0.002911183666395263,9.954006101814082e-05,-0.0011583976122941063,-0.06798696087198046,-0.06696845764150618,-0.010500545324433322,0.06513760898804692,-0.09845815413163216,0.010931195061542207,-0.04234272808167491],[-0.06208148236076154,0.026184273276737245,0.00854753283172401,0.15373710660243436,1.0,0.023272799118734262,0.1519778670182556,-0.00723595212318617,-0.19429380679673253,-0.08461114123569892,-0.021519981594840882,-0.012601380090164033,0.1321880985376645,-0.1381325198783618,0.015655743135733667,0.06964347782453456,-0.028333064184292357,0.08277738075609407,0.012257790121977743,-0.010674514545883446,-0.014027558764804247,-0.013232888658568174],[-0.6722846745303516,0.012532177298763667,-0.1397427595950091,-0.005746360460292355,0.023272799118734262,1.0,0.12207730150684759,-0.013194881270724572,0.1409647482090351,-0.13880897977503293,0.006025871507906378,-0.002182158436854526,0.001519077426688875,-0.0026949576725703367,-0.00011815337281961956,0.19073249080086968,-0.024974404186505032,0.19013091621319245,0.01658491940731847,0.1776588143932902,-0.19297973240678534,-0.08060699674675231],[-0.012303815021303845,0.023085738242847247,-0.04115592780998846,-0.08301537262754537,0.1519778670182556,0.12207730150684759,1.0,0.30432503056035415,0.20038894952379535,-0.011132347011336644,-0.03403985912147044,-0.020176229818828977,0.012542034322229171,-0.029998274961514717,0.008156392760770305,0.03366598548986733,0.03771489839594571,-0.022082310040643666,-0.0250419132908674,0.05339264001928729,0.004461906610201353,0.07019613874183996],[0.04302676699116207,0.002444908802486751,0.017622693715700025,0.02101493618309125,-0.00723595212318617,-0.013194881270724572,0.30432503056035415,1.0,0.07730422955108049,0.09897720670657947,-0.0592766533376564,0.010198799919329182,-0.03402088774827027,0.010431778381069953,-0.005148163642723696,0.0022807887309546724,0.009733497382261007,-0.01822393738145855,-0.006341367298969385,0.008977263106222438,0.015530460195959016,0.01741557804336808],[0.1553881026152755,0.03803455526019099,-0.06252324150570461,-0.14166425156173326,-0.19429380679673253,0.1409647482090351,0.20038894952379535,0.07730422955108049,1.0,0.1531082495402822,-0.10790445405197743,-0.008120862142785897,-0.02482419100511273,-0.002081445196006682,-0.002447504287655146,0.027665806317530777,0.05432385975046122,-0.07538641032494423,-0.02713540515557233,0.09513920440386202,-0.025141092569361184,0.13146620513116306],[0.024780408096320303,-0.01979566178308768,0.01797058663606801,0.020142814289276167,-0.08461114123569892,-0.13880897977503293,-0.011132347011336644,0.09897720670657947,0.1531082495402822,1.0,-0.0030674738669339147,0.0007269865885863043,-0.04368550460805402,-0.01048531306724606,0.010591819210939582,-0.05966384439042265,-0.06300105028795053,0.04994874420685699,0.045406267503863944,-0.09732943078109142,-0.014419515463448855,-0.05031173738837808],[-0.008603105117018204,0.03398726160297824,-0.004290946199846811,-0.006671707990640217,-0.021519981594840882,0.006025871507906378,-0.03403985912147044,-0.0592766533376564,-0.10790445405197743,-0.0030674738669339147,1.0,-0.0315897620347683,-0.01422485254856995,-0.042300968796543166,-0.027907891449947955,0.014745651760005874,0.003496985290930489,0.006473237125422529,-0.00872827062852065,0.0009642195952117311,0.0010265530642412418,-0.0016234869104541755],[3.257137063655499e-05,0.06989392116724367,-0.026757580144984257,-0.004718862932576926,-0.012601380090164033,-0.002182158436854526,-0.020176229818828977,0.010198799919329182,-0.008120862142785897,0.0007269865885863043,-0.0315897620347683,1.0,-0.0311105081970005,0.23867528101810187,-0.015290672606141928,0.0018140929713099036,-0.0017698800951853194,0.0014905164617572773,-0.0016579034020201492,-0.003295157767788786,0.003935461460867782,0.005430309538321406],[-0.0034072333775265144,0.012539890300713352,-0.011676502337853991,-0.002911183666395263,0.1321880985376645,0.001519077426688875,0.012542034322229171,-0.03402088774827027,-0.02482419100511273,-0.04368550460805402,-0.01422485254856995,-0.0311105081970005,1.0,-0.026041650692767933,-0.008250813758868982,0.004830622813742537,0.0020418200046153196,-0.0007420557060899095,-0.0013007869284126614,-0.00175880039213123,0.0019395232431454511,0.0030114832966979164],[0.0036108914171713276,0.021437541576465213,-0.00837929291427577,9.954006101814082e-05,-0.1381325198783618,-0.0026949576725703367,-0.029998274961514717,0.010431778381069953,-0.002081445196006682,-0.01048531306724606,-0.042300968796543166,0.23867528101810187,-0.026041650692767933,1.0,-0.0061714699585164665,-0.004709995609933472,-0.001345401285705123,-0.0009428725141661457,0.0017685874686161004,0.00040000635518099676,0.0001793233744616074,0.0012974142728687844],[-8.545600788320605e-05,0.017009054457319598,0.007643027419182476,-0.0011583976122941063,0.015655743135733667,-0.00011815337281961956,0.008156392760770305,-0.005148163642723696,-0.002447504287655146,0.010591819210939582,-0.027907891449947955,-0.015290672606141928,-0.008250813758868982,-0.0061714699585164665,1.0,0.0018879403604251316,-0.0005318300252839959,0.00046710888445542534,-0.0010939882462878585,-0.0012782971685792383,0.00021923179380977056,0.0014104390613474019],[-0.09409801853540156,0.08024172161522951,-0.16009221127479173,-0.06798696087198046,0.06964347782453456,0.19073249080086968,0.03366598548986733,0.0022807887309546724,0.027665806317530777,-0.05966384439042265,0.014745651760005874,0.0018140929713099036,0.004830622813742537,-0.004709995609933472,0.0018879403604251316,1.0,-0.2320906453409784,0.4082387451216552,-0.29486352679345257,-0.2302932996609456,0.18254700642706886,0.5155056982986476],[-0.014188544247160694,0.026678399884936962,0.12150893488521888,-0.06696845764150618,-0.028333064184292357,-0.024974404186505032,0.03771489839594571,0.009733497382261007,0.05432385975046122,-0.06300105028795053,0.003496985290930489,-0.0017698800951853194,0.0020418200046153196,-0.001345401285705123,-0.0005318300252839959,-0.2320906453409784,1.0,-0.8066502240614271,0.2758736430101037,0.28233392272228924,0.19188756451587105,0.007259321602465671],[-0.19722835504724728,0.007431443946000978,-0.0594576273799014,-0.010500545324433322,0.08277738075609407,0.19013091621319245,-0.022082310040643666,-0.01822393738145855,-0.07538641032494423,0.04994874420685699,0.006473237125422529,0.0014905164617572773,-0.0007420557060899095,-0.0009428725141661457,0.00046710888445542534,0.4082387451216552,-0.8066502240614271,1.0,-0.2447530692657062,-0.271443879295691,-0.20349278126660683,-0.002664616168620477],[-0.019441752294993207,-0.009130737032373474,0.09956577547585949,0.06513760898804692,0.012257790121977743,0.01658491940731847,-0.0250419132908674,-0.006341367298969385,-0.02713540515557233,0.045406267503863944,-0.00872827062852065,-0.0016579034020201492,-0.0013007869284126614,0.0017685874686161004,-0.0010939882462878585,-0.29486352679345257,0.2758736430101037,-0.2447530692657062,1.0,-0.30785008131999214,-0.12973505947523076,-0.2025582153971454],[-0.14220582352662633,0.016408677085758005,0.2573784655359901,-0.09845815413163216,-0.010674514545883446,0.1776588143932902,0.05339264001928729,0.008977263106222438,0.09513920440386202,-0.09732943078109142,0.0009642195952117311,-0.003295157767788786,-0.00175880039213123,0.00040000635518099676,-0.0012782971685792383,-0.2302932996609456,0.28233392272228924,-0.271443879295691,-0.30785008131999214,1.0,0.009227563972796471,-0.13412479427478083],[0.15509270446437917,0.05683142322357087,0.010112064029903318,0.010931195061542207,-0.014027558764804247,-0.19297973240678534,0.004461906610201353,0.015530460195959016,-0.025141092569361184,-0.014419515463448855,0.0010265530642412418,0.003935461460867782,0.0019395232431454511,0.0001793233744616074,0.00021923179380977056,0.18254700642706886,0.19188756451587105,-0.20349278126660683,-0.12973505947523076,0.009227563972796471,1.0,0.39196637972688747],[0.19784414180654422,0.15963344502935817,0.05948299142177598,-0.04234272808167491,-0.013232888658568174,-0.08060699674675231,0.07019613874183996,0.01741557804336808,0.13146620513116306,-0.05031173738837808,-0.0016234869104541755,0.005430309538321406,0.0030114832966979164,0.0012974142728687844,0.0014104390613474019,0.5155056982986476,0.007259321602465671,-0.002664616168620477,-0.2025582153971454,-0.13412479427478083,0.39196637972688747,1.0]],\"type\":\"heatmap\"}],                        {\"template\":{\"data\":{\"bar\":[{\"error_x\":{\"color\":\"#2a3f5f\"},\"error_y\":{\"color\":\"#2a3f5f\"},\"marker\":{\"line\":{\"color\":\"#E5ECF6\",\"width\":0.5},\"pattern\":{\"fillmode\":\"overlay\",\"size\":10,\"solidity\":0.2}},\"type\":\"bar\"}],\"barpolar\":[{\"marker\":{\"line\":{\"color\":\"#E5ECF6\",\"width\":0.5},\"pattern\":{\"fillmode\":\"overlay\",\"size\":10,\"solidity\":0.2}},\"type\":\"barpolar\"}],\"carpet\":[{\"aaxis\":{\"endlinecolor\":\"#2a3f5f\",\"gridcolor\":\"white\",\"linecolor\":\"white\",\"minorgridcolor\":\"white\",\"startlinecolor\":\"#2a3f5f\"},\"baxis\":{\"endlinecolor\":\"#2a3f5f\",\"gridcolor\":\"white\",\"linecolor\":\"white\",\"minorgridcolor\":\"white\",\"startlinecolor\":\"#2a3f5f\"},\"type\":\"carpet\"}],\"choropleth\":[{\"colorbar\":{\"outlinewidth\":0,\"ticks\":\"\"},\"type\":\"choropleth\"}],\"contour\":[{\"colorbar\":{\"outlinewidth\":0,\"ticks\":\"\"},\"colorscale\":[[0.0,\"#0d0887\"],[0.1111111111111111,\"#46039f\"],[0.2222222222222222,\"#7201a8\"],[0.3333333333333333,\"#9c179e\"],[0.4444444444444444,\"#bd3786\"],[0.5555555555555556,\"#d8576b\"],[0.6666666666666666,\"#ed7953\"],[0.7777777777777778,\"#fb9f3a\"],[0.8888888888888888,\"#fdca26\"],[1.0,\"#f0f921\"]],\"type\":\"contour\"}],\"contourcarpet\":[{\"colorbar\":{\"outlinewidth\":0,\"ticks\":\"\"},\"type\":\"contourcarpet\"}],\"heatmap\":[{\"colorbar\":{\"outlinewidth\":0,\"ticks\":\"\"},\"colorscale\":[[0.0,\"#0d0887\"],[0.1111111111111111,\"#46039f\"],[0.2222222222222222,\"#7201a8\"],[0.3333333333333333,\"#9c179e\"],[0.4444444444444444,\"#bd3786\"],[0.5555555555555556,\"#d8576b\"],[0.6666666666666666,\"#ed7953\"],[0.7777777777777778,\"#fb9f3a\"],[0.8888888888888888,\"#fdca26\"],[1.0,\"#f0f921\"]],\"type\":\"heatmap\"}],\"heatmapgl\":[{\"colorbar\":{\"outlinewidth\":0,\"ticks\":\"\"},\"colorscale\":[[0.0,\"#0d0887\"],[0.1111111111111111,\"#46039f\"],[0.2222222222222222,\"#7201a8\"],[0.3333333333333333,\"#9c179e\"],[0.4444444444444444,\"#bd3786\"],[0.5555555555555556,\"#d8576b\"],[0.6666666666666666,\"#ed7953\"],[0.7777777777777778,\"#fb9f3a\"],[0.8888888888888888,\"#fdca26\"],[1.0,\"#f0f921\"]],\"type\":\"heatmapgl\"}],\"histogram\":[{\"marker\":{\"pattern\":{\"fillmode\":\"overlay\",\"size\":10,\"solidity\":0.2}},\"type\":\"histogram\"}],\"histogram2d\":[{\"colorbar\":{\"outlinewidth\":0,\"ticks\":\"\"},\"colorscale\":[[0.0,\"#0d0887\"],[0.1111111111111111,\"#46039f\"],[0.2222222222222222,\"#7201a8\"],[0.3333333333333333,\"#9c179e\"],[0.4444444444444444,\"#bd3786\"],[0.5555555555555556,\"#d8576b\"],[0.6666666666666666,\"#ed7953\"],[0.7777777777777778,\"#fb9f3a\"],[0.8888888888888888,\"#fdca26\"],[1.0,\"#f0f921\"]],\"type\":\"histogram2d\"}],\"histogram2dcontour\":[{\"colorbar\":{\"outlinewidth\":0,\"ticks\":\"\"},\"colorscale\":[[0.0,\"#0d0887\"],[0.1111111111111111,\"#46039f\"],[0.2222222222222222,\"#7201a8\"],[0.3333333333333333,\"#9c179e\"],[0.4444444444444444,\"#bd3786\"],[0.5555555555555556,\"#d8576b\"],[0.6666666666666666,\"#ed7953\"],[0.7777777777777778,\"#fb9f3a\"],[0.8888888888888888,\"#fdca26\"],[1.0,\"#f0f921\"]],\"type\":\"histogram2dcontour\"}],\"mesh3d\":[{\"colorbar\":{\"outlinewidth\":0,\"ticks\":\"\"},\"type\":\"mesh3d\"}],\"parcoords\":[{\"line\":{\"colorbar\":{\"outlinewidth\":0,\"ticks\":\"\"}},\"type\":\"parcoords\"}],\"pie\":[{\"automargin\":true,\"type\":\"pie\"}],\"scatter\":[{\"marker\":{\"colorbar\":{\"outlinewidth\":0,\"ticks\":\"\"}},\"type\":\"scatter\"}],\"scatter3d\":[{\"line\":{\"colorbar\":{\"outlinewidth\":0,\"ticks\":\"\"}},\"marker\":{\"colorbar\":{\"outlinewidth\":0,\"ticks\":\"\"}},\"type\":\"scatter3d\"}],\"scattercarpet\":[{\"marker\":{\"colorbar\":{\"outlinewidth\":0,\"ticks\":\"\"}},\"type\":\"scattercarpet\"}],\"scattergeo\":[{\"marker\":{\"colorbar\":{\"outlinewidth\":0,\"ticks\":\"\"}},\"type\":\"scattergeo\"}],\"scattergl\":[{\"marker\":{\"colorbar\":{\"outlinewidth\":0,\"ticks\":\"\"}},\"type\":\"scattergl\"}],\"scattermapbox\":[{\"marker\":{\"colorbar\":{\"outlinewidth\":0,\"ticks\":\"\"}},\"type\":\"scattermapbox\"}],\"scatterpolar\":[{\"marker\":{\"colorbar\":{\"outlinewidth\":0,\"ticks\":\"\"}},\"type\":\"scatterpolar\"}],\"scatterpolargl\":[{\"marker\":{\"colorbar\":{\"outlinewidth\":0,\"ticks\":\"\"}},\"type\":\"scatterpolargl\"}],\"scatterternary\":[{\"marker\":{\"colorbar\":{\"outlinewidth\":0,\"ticks\":\"\"}},\"type\":\"scatterternary\"}],\"surface\":[{\"colorbar\":{\"outlinewidth\":0,\"ticks\":\"\"},\"colorscale\":[[0.0,\"#0d0887\"],[0.1111111111111111,\"#46039f\"],[0.2222222222222222,\"#7201a8\"],[0.3333333333333333,\"#9c179e\"],[0.4444444444444444,\"#bd3786\"],[0.5555555555555556,\"#d8576b\"],[0.6666666666666666,\"#ed7953\"],[0.7777777777777778,\"#fb9f3a\"],[0.8888888888888888,\"#fdca26\"],[1.0,\"#f0f921\"]],\"type\":\"surface\"}],\"table\":[{\"cells\":{\"fill\":{\"color\":\"#EBF0F8\"},\"line\":{\"color\":\"white\"}},\"header\":{\"fill\":{\"color\":\"#C8D4E3\"},\"line\":{\"color\":\"white\"}},\"type\":\"table\"}]},\"layout\":{\"annotationdefaults\":{\"arrowcolor\":\"#2a3f5f\",\"arrowhead\":0,\"arrowwidth\":1},\"autotypenumbers\":\"strict\",\"coloraxis\":{\"colorbar\":{\"outlinewidth\":0,\"ticks\":\"\"}},\"colorscale\":{\"diverging\":[[0,\"#8e0152\"],[0.1,\"#c51b7d\"],[0.2,\"#de77ae\"],[0.3,\"#f1b6da\"],[0.4,\"#fde0ef\"],[0.5,\"#f7f7f7\"],[0.6,\"#e6f5d0\"],[0.7,\"#b8e186\"],[0.8,\"#7fbc41\"],[0.9,\"#4d9221\"],[1,\"#276419\"]],\"sequential\":[[0.0,\"#0d0887\"],[0.1111111111111111,\"#46039f\"],[0.2222222222222222,\"#7201a8\"],[0.3333333333333333,\"#9c179e\"],[0.4444444444444444,\"#bd3786\"],[0.5555555555555556,\"#d8576b\"],[0.6666666666666666,\"#ed7953\"],[0.7777777777777778,\"#fb9f3a\"],[0.8888888888888888,\"#fdca26\"],[1.0,\"#f0f921\"]],\"sequentialminus\":[[0.0,\"#0d0887\"],[0.1111111111111111,\"#46039f\"],[0.2222222222222222,\"#7201a8\"],[0.3333333333333333,\"#9c179e\"],[0.4444444444444444,\"#bd3786\"],[0.5555555555555556,\"#d8576b\"],[0.6666666666666666,\"#ed7953\"],[0.7777777777777778,\"#fb9f3a\"],[0.8888888888888888,\"#fdca26\"],[1.0,\"#f0f921\"]]},\"colorway\":[\"#636efa\",\"#EF553B\",\"#00cc96\",\"#ab63fa\",\"#FFA15A\",\"#19d3f3\",\"#FF6692\",\"#B6E880\",\"#FF97FF\",\"#FECB52\"],\"font\":{\"color\":\"#2a3f5f\"},\"geo\":{\"bgcolor\":\"white\",\"lakecolor\":\"white\",\"landcolor\":\"#E5ECF6\",\"showlakes\":true,\"showland\":true,\"subunitcolor\":\"white\"},\"hoverlabel\":{\"align\":\"left\"},\"hovermode\":\"closest\",\"mapbox\":{\"style\":\"light\"},\"paper_bgcolor\":\"white\",\"plot_bgcolor\":\"#E5ECF6\",\"polar\":{\"angularaxis\":{\"gridcolor\":\"white\",\"linecolor\":\"white\",\"ticks\":\"\"},\"bgcolor\":\"#E5ECF6\",\"radialaxis\":{\"gridcolor\":\"white\",\"linecolor\":\"white\",\"ticks\":\"\"}},\"scene\":{\"xaxis\":{\"backgroundcolor\":\"#E5ECF6\",\"gridcolor\":\"white\",\"gridwidth\":2,\"linecolor\":\"white\",\"showbackground\":true,\"ticks\":\"\",\"zerolinecolor\":\"white\"},\"yaxis\":{\"backgroundcolor\":\"#E5ECF6\",\"gridcolor\":\"white\",\"gridwidth\":2,\"linecolor\":\"white\",\"showbackground\":true,\"ticks\":\"\",\"zerolinecolor\":\"white\"},\"zaxis\":{\"backgroundcolor\":\"#E5ECF6\",\"gridcolor\":\"white\",\"gridwidth\":2,\"linecolor\":\"white\",\"showbackground\":true,\"ticks\":\"\",\"zerolinecolor\":\"white\"}},\"shapedefaults\":{\"line\":{\"color\":\"#2a3f5f\"}},\"ternary\":{\"aaxis\":{\"gridcolor\":\"white\",\"linecolor\":\"white\",\"ticks\":\"\"},\"baxis\":{\"gridcolor\":\"white\",\"linecolor\":\"white\",\"ticks\":\"\"},\"bgcolor\":\"#E5ECF6\",\"caxis\":{\"gridcolor\":\"white\",\"linecolor\":\"white\",\"ticks\":\"\"}},\"title\":{\"x\":0.05},\"xaxis\":{\"automargin\":true,\"gridcolor\":\"white\",\"linecolor\":\"white\",\"ticks\":\"\",\"title\":{\"standoff\":15},\"zerolinecolor\":\"white\",\"zerolinewidth\":2},\"yaxis\":{\"automargin\":true,\"gridcolor\":\"white\",\"linecolor\":\"white\",\"ticks\":\"\",\"title\":{\"standoff\":15},\"zerolinecolor\":\"white\",\"zerolinewidth\":2}}},\"title\":{\"text\":\"Dataframe Correlation Heatmap\"}},                        {\"responsive\": true}                    ).then(function(){\n",
              "                            \n",
              "var gd = document.getElementById('e8677669-c6e1-4bf4-911c-b8d83517f64d');\n",
              "var x = new MutationObserver(function (mutations, observer) {{\n",
              "        var display = window.getComputedStyle(gd).display;\n",
              "        if (!display || display === 'none') {{\n",
              "            console.log([gd, 'removed!']);\n",
              "            Plotly.purge(gd);\n",
              "            observer.disconnect();\n",
              "        }}\n",
              "}});\n",
              "\n",
              "// Listen for the removal of the full notebook cells\n",
              "var notebookContainer = gd.closest('#notebook-container');\n",
              "if (notebookContainer) {{\n",
              "    x.observe(notebookContainer, {childList: true});\n",
              "}}\n",
              "\n",
              "// Listen for the clearing of the current output cell\n",
              "var outputEl = gd.closest('.output');\n",
              "if (outputEl) {{\n",
              "    x.observe(outputEl, {childList: true});\n",
              "}}\n",
              "\n",
              "                        })                };                            </script>        </div>\n",
              "</body>\n",
              "</html>"
            ]
          },
          "metadata": {}
        }
      ]
    },
    {
      "cell_type": "code",
      "source": [
        "for i in range(len(corr_df.columns)-1):\n",
        "  print(corr_df.columns[i], 'is correlated to: ')\n",
        "  for j in range(len(corr_df.columns)-1):\n",
        "    if abs(corr_df.iloc[i,j])>=0.85 and i is not j:\n",
        "      print(corr_df.columns[j], end=', ')\n",
        "  print('\\n----------------------')"
      ],
      "metadata": {
        "id": "F1TsjweR393J",
        "colab": {
          "base_uri": "https://localhost:8080/"
        },
        "outputId": "b266ab24-a8a9-4fab-fb8e-02de413a9631"
      },
      "execution_count": 209,
      "outputs": [
        {
          "output_type": "stream",
          "name": "stdout",
          "text": [
            "Site_Code is correlated to: \n",
            "\n",
            "----------------------\n",
            "Israeli_Visitors is correlated to: \n",
            "\n",
            "----------------------\n",
            "Tourist_Visitors is correlated to: \n",
            "\n",
            "----------------------\n",
            "Temp_location_code is correlated to: \n",
            "\n",
            "----------------------\n",
            "Temp_C is correlated to: \n",
            "\n",
            "----------------------\n",
            "Air_quality_Code is correlated to: \n",
            "\n",
            "----------------------\n",
            "pm25 is correlated to: \n",
            "\n",
            "----------------------\n",
            "pm10 is correlated to: \n",
            "\n",
            "----------------------\n",
            "no2 is correlated to: \n",
            "\n",
            "----------------------\n",
            "so2 is correlated to: \n",
            "\n",
            "----------------------\n",
            "Is_Weekend is correlated to: \n",
            "\n",
            "----------------------\n",
            "Is_Jewish_Holiday is correlated to: \n",
            "\n",
            "----------------------\n",
            "Is_Muslem_Holiday is correlated to: \n",
            "\n",
            "----------------------\n",
            "Is_Christian_Holiday is correlated to: \n",
            "\n",
            "----------------------\n",
            "Shabbaton is correlated to: \n",
            "\n",
            "----------------------\n",
            "Is_water_area is correlated to: \n",
            "\n",
            "----------------------\n",
            "Is_National_Park is correlated to: \n",
            "\n",
            "----------------------\n",
            "Is_Reserve is correlated to: \n",
            "\n",
            "----------------------\n",
            "Is_Jewish_Site is correlated to: \n",
            "\n",
            "----------------------\n",
            "Is_Christian_Site is correlated to: \n",
            "\n",
            "----------------------\n",
            "Camping is correlated to: \n",
            "\n",
            "----------------------\n"
          ]
        }
      ]
    },
    {
      "cell_type": "markdown",
      "source": [
        "As we can see, there is no correlated features"
      ],
      "metadata": {
        "id": "0z5_0paO4CJP"
      }
    },
    {
      "cell_type": "code",
      "source": [
        "# כל השורות שיש בהן ערכים חסרים\n",
        "FinalTable_df[missing.any(axis=1)]"
      ],
      "metadata": {
        "colab": {
          "base_uri": "https://localhost:8080/",
          "height": 0
        },
        "id": "nujpM4guS3Uw",
        "outputId": "de4a4ca1-2e88-4e0f-99e4-e7a3262caa77"
      },
      "execution_count": 210,
      "outputs": [
        {
          "output_type": "execute_result",
          "data": {
            "text/plain": [
              "             Date  Site_Code     Site_Name Location  Israeli_Visitors  \\\n",
              "16       1/1/2017         71  Hamat Tveria    North                32   \n",
              "30       1/2/2017         71  Hamat Tveria    North                43   \n",
              "44       1/3/2017         71  Hamat Tveria    North                22   \n",
              "59       1/4/2017         71  Hamat Tveria    North                42   \n",
              "74       1/5/2017         71  Hamat Tveria    North                32   \n",
              "...           ...        ...           ...      ...               ...   \n",
              "66098  12/31/2019        153      Tel Afek  Central               284   \n",
              "66099  12/31/2019        158      Apolonia  Central               118   \n",
              "66100  12/31/2019        159   Beit Govrin  Central               423   \n",
              "66101  12/31/2019        162      Ashkelon  Central              6313   \n",
              "66102  12/31/2019        167      Palmahim  Central              4216   \n",
              "\n",
              "       Tourist_Visitors  Temp_location_code  Temp_C  Air_quality_Code  \\\n",
              "16                    4                 911     NaN                10   \n",
              "30                    0                 911     NaN                10   \n",
              "44                    0                 911     NaN                10   \n",
              "59                   85                 911     NaN                10   \n",
              "74                    0                 911     NaN                10   \n",
              "...                 ...                 ...     ...               ...   \n",
              "66098                 0                2410    17.2                 9   \n",
              "66099                 7                2410    17.2                 9   \n",
              "66100               151                3541    17.7                 9   \n",
              "66101                 5                3541    17.7                 9   \n",
              "66102                 0                3014    17.0                 9   \n",
              "\n",
              "      Air_quality_location  ...  Is_Muslem_Holiday  Is_Christian_Holiday  \\\n",
              "16           Upper Galilee  ...                  0                     1   \n",
              "30           Upper Galilee  ...                  0                     0   \n",
              "44           Upper Galilee  ...                  0                     0   \n",
              "59           Upper Galilee  ...                  0                     0   \n",
              "74           Upper Galilee  ...                  0                     0   \n",
              "...                    ...  ...                ...                   ...   \n",
              "66098             Tel Aviv  ...                  0                     0   \n",
              "66099             Tel Aviv  ...                  0                     0   \n",
              "66100             Tel Aviv  ...                  0                     0   \n",
              "66101             Tel Aviv  ...                  0                     0   \n",
              "66102             Tel Aviv  ...                  0                     0   \n",
              "\n",
              "       Shabbaton  Is_water_area  Is_National_Park  Is_Reserve  Is_Jewish_Site  \\\n",
              "16             0              1                 1           0               1   \n",
              "30             0              1                 1           0               1   \n",
              "44             0              1                 1           0               1   \n",
              "59             0              1                 1           0               1   \n",
              "74             0              1                 1           0               1   \n",
              "...          ...            ...               ...         ...             ...   \n",
              "66098          0              1                 1           0               0   \n",
              "66099          0              0                 1           0               0   \n",
              "66100          0              0                 1           0               0   \n",
              "66101          0              1                 1           0               0   \n",
              "66102          0              1                 1           0               0   \n",
              "\n",
              "       Is_Christian_Site  Camping  Duration_Of_Visit  \n",
              "16                     0        0                  1  \n",
              "30                     0        0                  1  \n",
              "44                     0        0                  1  \n",
              "59                     0        0                  1  \n",
              "74                     0        0                  1  \n",
              "...                  ...      ...                ...  \n",
              "66098                  1        1                  2  \n",
              "66099                  1        0                  1  \n",
              "66100                  0        0                  2  \n",
              "66101                  1        1                  3  \n",
              "66102                  0        0                  3  \n",
              "\n",
              "[50443 rows x 26 columns]"
            ],
            "text/html": [
              "\n",
              "  <div id=\"df-d7deff8c-197a-4fa1-99a7-8d7e5b11ab7e\">\n",
              "    <div class=\"colab-df-container\">\n",
              "      <div>\n",
              "<style scoped>\n",
              "    .dataframe tbody tr th:only-of-type {\n",
              "        vertical-align: middle;\n",
              "    }\n",
              "\n",
              "    .dataframe tbody tr th {\n",
              "        vertical-align: top;\n",
              "    }\n",
              "\n",
              "    .dataframe thead th {\n",
              "        text-align: right;\n",
              "    }\n",
              "</style>\n",
              "<table border=\"1\" class=\"dataframe\">\n",
              "  <thead>\n",
              "    <tr style=\"text-align: right;\">\n",
              "      <th></th>\n",
              "      <th>Date</th>\n",
              "      <th>Site_Code</th>\n",
              "      <th>Site_Name</th>\n",
              "      <th>Location</th>\n",
              "      <th>Israeli_Visitors</th>\n",
              "      <th>Tourist_Visitors</th>\n",
              "      <th>Temp_location_code</th>\n",
              "      <th>Temp_C</th>\n",
              "      <th>Air_quality_Code</th>\n",
              "      <th>Air_quality_location</th>\n",
              "      <th>...</th>\n",
              "      <th>Is_Muslem_Holiday</th>\n",
              "      <th>Is_Christian_Holiday</th>\n",
              "      <th>Shabbaton</th>\n",
              "      <th>Is_water_area</th>\n",
              "      <th>Is_National_Park</th>\n",
              "      <th>Is_Reserve</th>\n",
              "      <th>Is_Jewish_Site</th>\n",
              "      <th>Is_Christian_Site</th>\n",
              "      <th>Camping</th>\n",
              "      <th>Duration_Of_Visit</th>\n",
              "    </tr>\n",
              "  </thead>\n",
              "  <tbody>\n",
              "    <tr>\n",
              "      <th>16</th>\n",
              "      <td>1/1/2017</td>\n",
              "      <td>71</td>\n",
              "      <td>Hamat Tveria</td>\n",
              "      <td>North</td>\n",
              "      <td>32</td>\n",
              "      <td>4</td>\n",
              "      <td>911</td>\n",
              "      <td>NaN</td>\n",
              "      <td>10</td>\n",
              "      <td>Upper Galilee</td>\n",
              "      <td>...</td>\n",
              "      <td>0</td>\n",
              "      <td>1</td>\n",
              "      <td>0</td>\n",
              "      <td>1</td>\n",
              "      <td>1</td>\n",
              "      <td>0</td>\n",
              "      <td>1</td>\n",
              "      <td>0</td>\n",
              "      <td>0</td>\n",
              "      <td>1</td>\n",
              "    </tr>\n",
              "    <tr>\n",
              "      <th>30</th>\n",
              "      <td>1/2/2017</td>\n",
              "      <td>71</td>\n",
              "      <td>Hamat Tveria</td>\n",
              "      <td>North</td>\n",
              "      <td>43</td>\n",
              "      <td>0</td>\n",
              "      <td>911</td>\n",
              "      <td>NaN</td>\n",
              "      <td>10</td>\n",
              "      <td>Upper Galilee</td>\n",
              "      <td>...</td>\n",
              "      <td>0</td>\n",
              "      <td>0</td>\n",
              "      <td>0</td>\n",
              "      <td>1</td>\n",
              "      <td>1</td>\n",
              "      <td>0</td>\n",
              "      <td>1</td>\n",
              "      <td>0</td>\n",
              "      <td>0</td>\n",
              "      <td>1</td>\n",
              "    </tr>\n",
              "    <tr>\n",
              "      <th>44</th>\n",
              "      <td>1/3/2017</td>\n",
              "      <td>71</td>\n",
              "      <td>Hamat Tveria</td>\n",
              "      <td>North</td>\n",
              "      <td>22</td>\n",
              "      <td>0</td>\n",
              "      <td>911</td>\n",
              "      <td>NaN</td>\n",
              "      <td>10</td>\n",
              "      <td>Upper Galilee</td>\n",
              "      <td>...</td>\n",
              "      <td>0</td>\n",
              "      <td>0</td>\n",
              "      <td>0</td>\n",
              "      <td>1</td>\n",
              "      <td>1</td>\n",
              "      <td>0</td>\n",
              "      <td>1</td>\n",
              "      <td>0</td>\n",
              "      <td>0</td>\n",
              "      <td>1</td>\n",
              "    </tr>\n",
              "    <tr>\n",
              "      <th>59</th>\n",
              "      <td>1/4/2017</td>\n",
              "      <td>71</td>\n",
              "      <td>Hamat Tveria</td>\n",
              "      <td>North</td>\n",
              "      <td>42</td>\n",
              "      <td>85</td>\n",
              "      <td>911</td>\n",
              "      <td>NaN</td>\n",
              "      <td>10</td>\n",
              "      <td>Upper Galilee</td>\n",
              "      <td>...</td>\n",
              "      <td>0</td>\n",
              "      <td>0</td>\n",
              "      <td>0</td>\n",
              "      <td>1</td>\n",
              "      <td>1</td>\n",
              "      <td>0</td>\n",
              "      <td>1</td>\n",
              "      <td>0</td>\n",
              "      <td>0</td>\n",
              "      <td>1</td>\n",
              "    </tr>\n",
              "    <tr>\n",
              "      <th>74</th>\n",
              "      <td>1/5/2017</td>\n",
              "      <td>71</td>\n",
              "      <td>Hamat Tveria</td>\n",
              "      <td>North</td>\n",
              "      <td>32</td>\n",
              "      <td>0</td>\n",
              "      <td>911</td>\n",
              "      <td>NaN</td>\n",
              "      <td>10</td>\n",
              "      <td>Upper Galilee</td>\n",
              "      <td>...</td>\n",
              "      <td>0</td>\n",
              "      <td>0</td>\n",
              "      <td>0</td>\n",
              "      <td>1</td>\n",
              "      <td>1</td>\n",
              "      <td>0</td>\n",
              "      <td>1</td>\n",
              "      <td>0</td>\n",
              "      <td>0</td>\n",
              "      <td>1</td>\n",
              "    </tr>\n",
              "    <tr>\n",
              "      <th>...</th>\n",
              "      <td>...</td>\n",
              "      <td>...</td>\n",
              "      <td>...</td>\n",
              "      <td>...</td>\n",
              "      <td>...</td>\n",
              "      <td>...</td>\n",
              "      <td>...</td>\n",
              "      <td>...</td>\n",
              "      <td>...</td>\n",
              "      <td>...</td>\n",
              "      <td>...</td>\n",
              "      <td>...</td>\n",
              "      <td>...</td>\n",
              "      <td>...</td>\n",
              "      <td>...</td>\n",
              "      <td>...</td>\n",
              "      <td>...</td>\n",
              "      <td>...</td>\n",
              "      <td>...</td>\n",
              "      <td>...</td>\n",
              "      <td>...</td>\n",
              "    </tr>\n",
              "    <tr>\n",
              "      <th>66098</th>\n",
              "      <td>12/31/2019</td>\n",
              "      <td>153</td>\n",
              "      <td>Tel Afek</td>\n",
              "      <td>Central</td>\n",
              "      <td>284</td>\n",
              "      <td>0</td>\n",
              "      <td>2410</td>\n",
              "      <td>17.2</td>\n",
              "      <td>9</td>\n",
              "      <td>Tel Aviv</td>\n",
              "      <td>...</td>\n",
              "      <td>0</td>\n",
              "      <td>0</td>\n",
              "      <td>0</td>\n",
              "      <td>1</td>\n",
              "      <td>1</td>\n",
              "      <td>0</td>\n",
              "      <td>0</td>\n",
              "      <td>1</td>\n",
              "      <td>1</td>\n",
              "      <td>2</td>\n",
              "    </tr>\n",
              "    <tr>\n",
              "      <th>66099</th>\n",
              "      <td>12/31/2019</td>\n",
              "      <td>158</td>\n",
              "      <td>Apolonia</td>\n",
              "      <td>Central</td>\n",
              "      <td>118</td>\n",
              "      <td>7</td>\n",
              "      <td>2410</td>\n",
              "      <td>17.2</td>\n",
              "      <td>9</td>\n",
              "      <td>Tel Aviv</td>\n",
              "      <td>...</td>\n",
              "      <td>0</td>\n",
              "      <td>0</td>\n",
              "      <td>0</td>\n",
              "      <td>0</td>\n",
              "      <td>1</td>\n",
              "      <td>0</td>\n",
              "      <td>0</td>\n",
              "      <td>1</td>\n",
              "      <td>0</td>\n",
              "      <td>1</td>\n",
              "    </tr>\n",
              "    <tr>\n",
              "      <th>66100</th>\n",
              "      <td>12/31/2019</td>\n",
              "      <td>159</td>\n",
              "      <td>Beit Govrin</td>\n",
              "      <td>Central</td>\n",
              "      <td>423</td>\n",
              "      <td>151</td>\n",
              "      <td>3541</td>\n",
              "      <td>17.7</td>\n",
              "      <td>9</td>\n",
              "      <td>Tel Aviv</td>\n",
              "      <td>...</td>\n",
              "      <td>0</td>\n",
              "      <td>0</td>\n",
              "      <td>0</td>\n",
              "      <td>0</td>\n",
              "      <td>1</td>\n",
              "      <td>0</td>\n",
              "      <td>0</td>\n",
              "      <td>0</td>\n",
              "      <td>0</td>\n",
              "      <td>2</td>\n",
              "    </tr>\n",
              "    <tr>\n",
              "      <th>66101</th>\n",
              "      <td>12/31/2019</td>\n",
              "      <td>162</td>\n",
              "      <td>Ashkelon</td>\n",
              "      <td>Central</td>\n",
              "      <td>6313</td>\n",
              "      <td>5</td>\n",
              "      <td>3541</td>\n",
              "      <td>17.7</td>\n",
              "      <td>9</td>\n",
              "      <td>Tel Aviv</td>\n",
              "      <td>...</td>\n",
              "      <td>0</td>\n",
              "      <td>0</td>\n",
              "      <td>0</td>\n",
              "      <td>1</td>\n",
              "      <td>1</td>\n",
              "      <td>0</td>\n",
              "      <td>0</td>\n",
              "      <td>1</td>\n",
              "      <td>1</td>\n",
              "      <td>3</td>\n",
              "    </tr>\n",
              "    <tr>\n",
              "      <th>66102</th>\n",
              "      <td>12/31/2019</td>\n",
              "      <td>167</td>\n",
              "      <td>Palmahim</td>\n",
              "      <td>Central</td>\n",
              "      <td>4216</td>\n",
              "      <td>0</td>\n",
              "      <td>3014</td>\n",
              "      <td>17.0</td>\n",
              "      <td>9</td>\n",
              "      <td>Tel Aviv</td>\n",
              "      <td>...</td>\n",
              "      <td>0</td>\n",
              "      <td>0</td>\n",
              "      <td>0</td>\n",
              "      <td>1</td>\n",
              "      <td>1</td>\n",
              "      <td>0</td>\n",
              "      <td>0</td>\n",
              "      <td>0</td>\n",
              "      <td>0</td>\n",
              "      <td>3</td>\n",
              "    </tr>\n",
              "  </tbody>\n",
              "</table>\n",
              "<p>50443 rows × 26 columns</p>\n",
              "</div>\n",
              "      <button class=\"colab-df-convert\" onclick=\"convertToInteractive('df-d7deff8c-197a-4fa1-99a7-8d7e5b11ab7e')\"\n",
              "              title=\"Convert this dataframe to an interactive table.\"\n",
              "              style=\"display:none;\">\n",
              "        \n",
              "  <svg xmlns=\"http://www.w3.org/2000/svg\" height=\"24px\"viewBox=\"0 0 24 24\"\n",
              "       width=\"24px\">\n",
              "    <path d=\"M0 0h24v24H0V0z\" fill=\"none\"/>\n",
              "    <path d=\"M18.56 5.44l.94 2.06.94-2.06 2.06-.94-2.06-.94-.94-2.06-.94 2.06-2.06.94zm-11 1L8.5 8.5l.94-2.06 2.06-.94-2.06-.94L8.5 2.5l-.94 2.06-2.06.94zm10 10l.94 2.06.94-2.06 2.06-.94-2.06-.94-.94-2.06-.94 2.06-2.06.94z\"/><path d=\"M17.41 7.96l-1.37-1.37c-.4-.4-.92-.59-1.43-.59-.52 0-1.04.2-1.43.59L10.3 9.45l-7.72 7.72c-.78.78-.78 2.05 0 2.83L4 21.41c.39.39.9.59 1.41.59.51 0 1.02-.2 1.41-.59l7.78-7.78 2.81-2.81c.8-.78.8-2.07 0-2.86zM5.41 20L4 18.59l7.72-7.72 1.47 1.35L5.41 20z\"/>\n",
              "  </svg>\n",
              "      </button>\n",
              "      \n",
              "  <style>\n",
              "    .colab-df-container {\n",
              "      display:flex;\n",
              "      flex-wrap:wrap;\n",
              "      gap: 12px;\n",
              "    }\n",
              "\n",
              "    .colab-df-convert {\n",
              "      background-color: #E8F0FE;\n",
              "      border: none;\n",
              "      border-radius: 50%;\n",
              "      cursor: pointer;\n",
              "      display: none;\n",
              "      fill: #1967D2;\n",
              "      height: 32px;\n",
              "      padding: 0 0 0 0;\n",
              "      width: 32px;\n",
              "    }\n",
              "\n",
              "    .colab-df-convert:hover {\n",
              "      background-color: #E2EBFA;\n",
              "      box-shadow: 0px 1px 2px rgba(60, 64, 67, 0.3), 0px 1px 3px 1px rgba(60, 64, 67, 0.15);\n",
              "      fill: #174EA6;\n",
              "    }\n",
              "\n",
              "    [theme=dark] .colab-df-convert {\n",
              "      background-color: #3B4455;\n",
              "      fill: #D2E3FC;\n",
              "    }\n",
              "\n",
              "    [theme=dark] .colab-df-convert:hover {\n",
              "      background-color: #434B5C;\n",
              "      box-shadow: 0px 1px 3px 1px rgba(0, 0, 0, 0.15);\n",
              "      filter: drop-shadow(0px 1px 2px rgba(0, 0, 0, 0.3));\n",
              "      fill: #FFFFFF;\n",
              "    }\n",
              "  </style>\n",
              "\n",
              "      <script>\n",
              "        const buttonEl =\n",
              "          document.querySelector('#df-d7deff8c-197a-4fa1-99a7-8d7e5b11ab7e button.colab-df-convert');\n",
              "        buttonEl.style.display =\n",
              "          google.colab.kernel.accessAllowed ? 'block' : 'none';\n",
              "\n",
              "        async function convertToInteractive(key) {\n",
              "          const element = document.querySelector('#df-d7deff8c-197a-4fa1-99a7-8d7e5b11ab7e');\n",
              "          const dataTable =\n",
              "            await google.colab.kernel.invokeFunction('convertToInteractive',\n",
              "                                                     [key], {});\n",
              "          if (!dataTable) return;\n",
              "\n",
              "          const docLinkHtml = 'Like what you see? Visit the ' +\n",
              "            '<a target=\"_blank\" href=https://colab.research.google.com/notebooks/data_table.ipynb>data table notebook</a>'\n",
              "            + ' to learn more about interactive tables.';\n",
              "          element.innerHTML = '';\n",
              "          dataTable['output_type'] = 'display_data';\n",
              "          await google.colab.output.renderOutput(dataTable, element);\n",
              "          const docLink = document.createElement('div');\n",
              "          docLink.innerHTML = docLinkHtml;\n",
              "          element.appendChild(docLink);\n",
              "        }\n",
              "      </script>\n",
              "    </div>\n",
              "  </div>\n",
              "  "
            ]
          },
          "metadata": {},
          "execution_count": 210
        }
      ]
    },
    {
      "cell_type": "code",
      "source": [
        "Metzada_df = FinalTable_df.loc[FinalTable_df['Site_Code'] == 258]"
      ],
      "metadata": {
        "id": "lHHKxNfQ6Kqr"
      },
      "execution_count": 211,
      "outputs": []
    },
    {
      "cell_type": "code",
      "source": [
        "Megido_df = FinalTable_df.loc[FinalTable_df['Site_Code'] == 82]"
      ],
      "metadata": {
        "id": "6HyGLCJTCdb-"
      },
      "execution_count": 212,
      "outputs": []
    },
    {
      "cell_type": "code",
      "source": [
        "Gamla_df = FinalTable_df.loc[FinalTable_df['Site_Code'] == 23]"
      ],
      "metadata": {
        "id": "41wlmqdECeCH"
      },
      "execution_count": 213,
      "outputs": []
    },
    {
      "cell_type": "code",
      "source": [
        "Banias_df = FinalTable_df.loc[FinalTable_df['Site_Code'] == 18]"
      ],
      "metadata": {
        "id": "9zoS1Fa4Cd1z"
      },
      "execution_count": 214,
      "outputs": []
    },
    {
      "cell_type": "code",
      "source": [
        "fig1 = go.Figure(data=go.Scatter(x=Metzada_df.Date, y=Metzada_df.Israeli_Visitors, mode='markers+lines'))\n",
        "fig1.add_trace(go.Scatter(x=Metzada_df.Date, y=Metzada_df.Israeli_Visitors,\n",
        "                    mode='lines',\n",
        "                    name='Israeli Visitors'))\n",
        "\n",
        "fig1.add_trace(go.Scatter(x=Metzada_df.Date, y=Metzada_df.Tourist_Visitors,\n",
        "                    mode='markers',\n",
        "                    marker_line_width=1,\n",
        "                    marker_size=6,\n",
        "                    name='Tourist Visitors'))\n",
        "\n",
        "fig1.update_layout(\n",
        "    title=\"Israeli and Tourist Visitors in Metzada site\",\n",
        "    xaxis_title=\"Date\",\n",
        "    yaxis_title=\"Visitors\",\n",
        "    font=dict(\n",
        "        family=\"Courier New, monospace\",\n",
        "        size=16,\n",
        "        color=\"RebeccaPurple\"\n",
        "    )\n",
        ")\n",
        "\n",
        "fig1.show()"
      ],
      "metadata": {
        "id": "KzkoQ5FF-dlD",
        "colab": {
          "base_uri": "https://localhost:8080/",
          "height": 0
        },
        "outputId": "372113d0-d0b9-4cbd-b91b-294e96835211"
      },
      "execution_count": 215,
      "outputs": [
        {
          "output_type": "display_data",
          "data": {
            "text/html": [
              "<html>\n",
              "<head><meta charset=\"utf-8\" /></head>\n",
              "<body>\n",
              "    <div>            <script src=\"https://cdnjs.cloudflare.com/ajax/libs/mathjax/2.7.5/MathJax.js?config=TeX-AMS-MML_SVG\"></script><script type=\"text/javascript\">if (window.MathJax) {MathJax.Hub.Config({SVG: {font: \"STIX-Web\"}});}</script>                <script type=\"text/javascript\">window.PlotlyConfig = {MathJaxConfig: 'local'};</script>\n",
              "        <script src=\"https://cdn.plot.ly/plotly-2.8.3.min.js\"></script>                <div id=\"c23675ef-86de-43f5-aaec-41947d98b09e\" class=\"plotly-graph-div\" style=\"height:525px; width:100%;\"></div>            <script type=\"text/javascript\">                                    window.PLOTLYENV=window.PLOTLYENV || {};                                    if (document.getElementById(\"c23675ef-86de-43f5-aaec-41947d98b09e\")) {                    Plotly.newPlot(                        \"c23675ef-86de-43f5-aaec-41947d98b09e\",                        [{\"mode\":\"markers+lines\",\"x\":[\"1/1/2017\",\"1/2/2017\",\"1/3/2017\",\"1/4/2017\",\"1/5/2017\",\"1/6/2017\",\"1/7/2017\",\"1/8/2017\",\"1/9/2017\",\"1/10/2017\",\"1/11/2017\",\"1/12/2017\",\"1/13/2017\",\"1/14/2017\",\"1/15/2017\",\"1/16/2017\",\"1/17/2017\",\"1/18/2017\",\"1/19/2017\",\"1/20/2017\",\"1/21/2017\",\"1/22/2017\",\"1/23/2017\",\"1/24/2017\",\"1/25/2017\",\"1/26/2017\",\"1/27/2017\",\"1/28/2017\",\"1/29/2017\",\"1/30/2017\",\"1/31/2017\",\"2/1/2017\",\"2/2/2017\",\"2/3/2017\",\"2/4/2017\",\"2/5/2017\",\"2/6/2017\",\"2/7/2017\",\"2/8/2017\",\"2/9/2017\",\"2/10/2017\",\"2/11/2017\",\"2/12/2017\",\"2/13/2017\",\"2/14/2017\",\"2/15/2017\",\"2/16/2017\",\"2/17/2017\",\"2/18/2017\",\"2/19/2017\",\"2/20/2017\",\"2/21/2017\",\"2/22/2017\",\"2/23/2017\",\"2/24/2017\",\"2/25/2017\",\"2/26/2017\",\"2/27/2017\",\"2/28/2017\",\"3/1/2017\",\"3/2/2017\",\"3/3/2017\",\"3/4/2017\",\"3/5/2017\",\"3/6/2017\",\"3/7/2017\",\"3/8/2017\",\"3/9/2017\",\"3/10/2017\",\"3/11/2017\",\"3/12/2017\",\"3/13/2017\",\"3/14/2017\",\"3/15/2017\",\"3/16/2017\",\"3/17/2017\",\"3/18/2017\",\"3/19/2017\",\"3/20/2017\",\"3/21/2017\",\"3/22/2017\",\"3/23/2017\",\"3/24/2017\",\"3/25/2017\",\"3/26/2017\",\"3/27/2017\",\"3/28/2017\",\"3/29/2017\",\"3/30/2017\",\"3/31/2017\",\"4/1/2017\",\"4/2/2017\",\"4/3/2017\",\"4/4/2017\",\"4/5/2017\",\"4/6/2017\",\"4/7/2017\",\"4/8/2017\",\"4/9/2017\",\"4/10/2017\",\"4/11/2017\",\"4/12/2017\",\"4/13/2017\",\"4/14/2017\",\"4/15/2017\",\"4/16/2017\",\"4/17/2017\",\"4/18/2017\",\"4/19/2017\",\"4/20/2017\",\"4/21/2017\",\"4/22/2017\",\"4/23/2017\",\"4/24/2017\",\"4/25/2017\",\"4/26/2017\",\"4/27/2017\",\"4/28/2017\",\"4/29/2017\",\"4/30/2017\",\"5/1/2017\",\"5/2/2017\",\"5/3/2017\",\"5/4/2017\",\"5/5/2017\",\"5/6/2017\",\"5/7/2017\",\"5/8/2017\",\"5/9/2017\",\"5/10/2017\",\"5/11/2017\",\"5/12/2017\",\"5/13/2017\",\"5/14/2017\",\"5/15/2017\",\"5/16/2017\",\"5/17/2017\",\"5/18/2017\",\"5/19/2017\",\"5/20/2017\",\"5/21/2017\",\"5/22/2017\",\"5/23/2017\",\"5/24/2017\",\"5/25/2017\",\"5/26/2017\",\"5/27/2017\",\"5/28/2017\",\"5/29/2017\",\"5/30/2017\",\"5/31/2017\",\"6/1/2017\",\"6/2/2017\",\"6/3/2017\",\"6/4/2017\",\"6/5/2017\",\"6/6/2017\",\"6/7/2017\",\"6/8/2017\",\"6/9/2017\",\"6/10/2017\",\"6/11/2017\",\"6/12/2017\",\"6/13/2017\",\"6/14/2017\",\"6/15/2017\",\"6/16/2017\",\"6/17/2017\",\"6/18/2017\",\"6/19/2017\",\"6/20/2017\",\"6/21/2017\",\"6/22/2017\",\"6/23/2017\",\"6/24/2017\",\"6/25/2017\",\"6/26/2017\",\"6/27/2017\",\"6/28/2017\",\"6/29/2017\",\"6/30/2017\",\"7/1/2017\",\"7/2/2017\",\"7/3/2017\",\"7/4/2017\",\"7/5/2017\",\"7/6/2017\",\"7/7/2017\",\"7/8/2017\",\"7/9/2017\",\"7/10/2017\",\"7/11/2017\",\"7/12/2017\",\"7/13/2017\",\"7/14/2017\",\"7/15/2017\",\"7/16/2017\",\"7/17/2017\",\"7/18/2017\",\"7/19/2017\",\"7/20/2017\",\"7/21/2017\",\"7/22/2017\",\"7/23/2017\",\"7/24/2017\",\"7/25/2017\",\"7/26/2017\",\"7/27/2017\",\"7/28/2017\",\"7/29/2017\",\"7/31/2017\",\"8/1/2017\",\"8/2/2017\",\"8/3/2017\",\"8/4/2017\",\"8/5/2017\",\"8/6/2017\",\"8/7/2017\",\"8/8/2017\",\"8/9/2017\",\"8/10/2017\",\"8/11/2017\",\"8/12/2017\",\"8/13/2017\",\"8/14/2017\",\"8/15/2017\",\"8/16/2017\",\"8/17/2017\",\"8/18/2017\",\"8/19/2017\",\"8/20/2017\",\"8/21/2017\",\"8/22/2017\",\"8/23/2017\",\"8/24/2017\",\"8/25/2017\",\"8/26/2017\",\"8/27/2017\",\"8/28/2017\",\"8/29/2017\",\"8/30/2017\",\"8/31/2017\",\"9/1/2017\",\"9/2/2017\",\"9/3/2017\",\"9/4/2017\",\"9/5/2017\",\"9/6/2017\",\"9/7/2017\",\"9/8/2017\",\"9/9/2017\",\"9/10/2017\",\"9/11/2017\",\"9/12/2017\",\"9/13/2017\",\"9/14/2017\",\"9/15/2017\",\"9/16/2017\",\"9/17/2017\",\"9/18/2017\",\"9/19/2017\",\"9/20/2017\",\"9/21/2017\",\"9/22/2017\",\"9/23/2017\",\"9/24/2017\",\"9/25/2017\",\"9/26/2017\",\"9/27/2017\",\"9/28/2017\",\"9/29/2017\",\"10/1/2017\",\"10/2/2017\",\"10/3/2017\",\"10/4/2017\",\"10/5/2017\",\"10/6/2017\",\"10/7/2017\",\"10/8/2017\",\"10/9/2017\",\"10/10/2017\",\"10/11/2017\",\"10/12/2017\",\"10/13/2017\",\"10/14/2017\",\"10/15/2017\",\"10/16/2017\",\"10/17/2017\",\"10/18/2017\",\"10/19/2017\",\"10/20/2017\",\"10/21/2017\",\"10/22/2017\",\"10/23/2017\",\"10/24/2017\",\"10/25/2017\",\"10/26/2017\",\"10/27/2017\",\"10/28/2017\",\"10/29/2017\",\"10/30/2017\",\"10/31/2017\",\"11/1/2017\",\"11/2/2017\",\"11/3/2017\",\"11/4/2017\",\"11/5/2017\",\"11/6/2017\",\"11/7/2017\",\"11/8/2017\",\"11/9/2017\",\"11/10/2017\",\"11/11/2017\",\"11/12/2017\",\"11/13/2017\",\"11/14/2017\",\"11/15/2017\",\"11/16/2017\",\"11/17/2017\",\"11/18/2017\",\"11/19/2017\",\"11/20/2017\",\"11/21/2017\",\"11/22/2017\",\"11/23/2017\",\"11/24/2017\",\"11/25/2017\",\"11/26/2017\",\"11/27/2017\",\"11/28/2017\",\"11/29/2017\",\"11/30/2017\",\"12/1/2017\",\"12/2/2017\",\"12/3/2017\",\"12/4/2017\",\"12/5/2017\",\"12/6/2017\",\"12/7/2017\",\"12/8/2017\",\"12/9/2017\",\"12/10/2017\",\"12/11/2017\",\"12/12/2017\",\"12/13/2017\",\"12/14/2017\",\"12/15/2017\",\"12/16/2017\",\"12/17/2017\",\"12/18/2017\",\"12/19/2017\",\"12/20/2017\",\"12/21/2017\",\"12/22/2017\",\"12/23/2017\",\"12/24/2017\",\"12/25/2017\",\"12/26/2017\",\"12/27/2017\",\"12/28/2017\",\"12/29/2017\",\"12/30/2017\",\"12/31/2017\",\"1/1/2018\",\"1/2/2018\",\"1/3/2018\",\"1/4/2018\",\"1/5/2018\",\"1/6/2018\",\"1/7/2018\",\"1/8/2018\",\"1/9/2018\",\"1/10/2018\",\"1/11/2018\",\"1/12/2018\",\"1/13/2018\",\"1/14/2018\",\"1/15/2018\",\"1/16/2018\",\"1/17/2018\",\"1/18/2018\",\"1/19/2018\",\"1/20/2018\",\"1/21/2018\",\"1/22/2018\",\"1/23/2018\",\"1/24/2018\",\"1/25/2018\",\"1/26/2018\",\"1/27/2018\",\"1/28/2018\",\"1/29/2018\",\"1/30/2018\",\"1/31/2018\",\"2/1/2018\",\"2/2/2018\",\"2/3/2018\",\"2/4/2018\",\"2/5/2018\",\"2/6/2018\",\"2/7/2018\",\"2/8/2018\",\"2/9/2018\",\"2/10/2018\",\"2/11/2018\",\"2/12/2018\",\"2/13/2018\",\"2/14/2018\",\"2/15/2018\",\"2/16/2018\",\"2/17/2018\",\"2/18/2018\",\"2/19/2018\",\"2/20/2018\",\"2/21/2018\",\"2/22/2018\",\"2/23/2018\",\"2/24/2018\",\"2/25/2018\",\"2/26/2018\",\"2/27/2018\",\"2/28/2018\",\"3/1/2018\",\"3/2/2018\",\"3/3/2018\",\"3/4/2018\",\"3/5/2018\",\"3/6/2018\",\"3/7/2018\",\"3/8/2018\",\"3/9/2018\",\"3/10/2018\",\"3/11/2018\",\"3/12/2018\",\"3/13/2018\",\"3/14/2018\",\"3/15/2018\",\"3/16/2018\",\"3/17/2018\",\"3/18/2018\",\"3/19/2018\",\"3/20/2018\",\"3/21/2018\",\"3/22/2018\",\"3/23/2018\",\"3/24/2018\",\"3/25/2018\",\"3/26/2018\",\"3/27/2018\",\"3/28/2018\",\"3/29/2018\",\"3/30/2018\",\"3/31/2018\",\"4/1/2018\",\"4/2/2018\",\"4/3/2018\",\"4/4/2018\",\"4/5/2018\",\"4/6/2018\",\"4/7/2018\",\"4/8/2018\",\"4/9/2018\",\"4/10/2018\",\"4/11/2018\",\"4/12/2018\",\"4/13/2018\",\"4/14/2018\",\"4/15/2018\",\"4/16/2018\",\"4/17/2018\",\"4/18/2018\",\"4/19/2018\",\"4/20/2018\",\"4/21/2018\",\"4/22/2018\",\"4/23/2018\",\"4/24/2018\",\"4/25/2018\",\"4/26/2018\",\"4/29/2018\",\"4/30/2018\",\"5/1/2018\",\"5/2/2018\",\"5/3/2018\",\"5/4/2018\",\"5/5/2018\",\"5/6/2018\",\"5/7/2018\",\"5/8/2018\",\"5/9/2018\",\"5/10/2018\",\"5/11/2018\",\"5/12/2018\",\"5/13/2018\",\"5/14/2018\",\"5/15/2018\",\"5/16/2018\",\"5/17/2018\",\"5/18/2018\",\"5/19/2018\",\"5/20/2018\",\"5/21/2018\",\"5/22/2018\",\"5/23/2018\",\"5/24/2018\",\"5/25/2018\",\"5/26/2018\",\"5/27/2018\",\"5/28/2018\",\"5/29/2018\",\"5/30/2018\",\"5/31/2018\",\"6/1/2018\",\"6/2/2018\",\"6/3/2018\",\"6/4/2018\",\"6/5/2018\",\"6/6/2018\",\"6/7/2018\",\"6/8/2018\",\"6/9/2018\",\"6/10/2018\",\"6/11/2018\",\"6/12/2018\",\"6/13/2018\",\"6/14/2018\",\"6/15/2018\",\"6/16/2018\",\"6/17/2018\",\"6/18/2018\",\"6/19/2018\",\"6/20/2018\",\"6/21/2018\",\"6/22/2018\",\"6/23/2018\",\"6/24/2018\",\"6/25/2018\",\"6/26/2018\",\"6/27/2018\",\"6/28/2018\",\"6/29/2018\",\"6/30/2018\",\"7/1/2018\",\"7/2/2018\",\"7/3/2018\",\"7/4/2018\",\"7/5/2018\",\"7/6/2018\",\"7/7/2018\",\"7/8/2018\",\"7/9/2018\",\"7/10/2018\",\"7/11/2018\",\"7/12/2018\",\"7/13/2018\",\"7/14/2018\",\"7/15/2018\",\"7/16/2018\",\"7/17/2018\",\"7/18/2018\",\"7/19/2018\",\"7/20/2018\",\"7/21/2018\",\"7/22/2018\",\"7/23/2018\",\"7/24/2018\",\"7/25/2018\",\"7/26/2018\",\"7/27/2018\",\"7/28/2018\",\"7/29/2018\",\"7/30/2018\",\"7/31/2018\",\"8/1/2018\",\"8/2/2018\",\"8/3/2018\",\"8/4/2018\",\"8/5/2018\",\"8/6/2018\",\"8/7/2018\",\"8/8/2018\",\"8/9/2018\",\"8/10/2018\",\"8/11/2018\",\"8/12/2018\",\"8/13/2018\",\"8/14/2018\",\"8/15/2018\",\"8/16/2018\",\"8/17/2018\",\"8/18/2018\",\"8/19/2018\",\"8/20/2018\",\"8/21/2018\",\"8/22/2018\",\"8/23/2018\",\"8/24/2018\",\"8/25/2018\",\"8/26/2018\",\"8/27/2018\",\"8/28/2018\",\"8/29/2018\",\"8/30/2018\",\"8/31/2018\",\"9/1/2018\",\"9/2/2018\",\"9/3/2018\",\"9/4/2018\",\"9/5/2018\",\"9/6/2018\",\"9/7/2018\",\"9/8/2018\",\"9/9/2018\",\"9/10/2018\",\"9/11/2018\",\"9/12/2018\",\"9/13/2018\",\"9/14/2018\",\"9/15/2018\",\"9/16/2018\",\"9/17/2018\",\"9/18/2018\",\"9/20/2018\",\"9/21/2018\",\"9/22/2018\",\"9/23/2018\",\"9/24/2018\",\"9/25/2018\",\"9/26/2018\",\"9/27/2018\",\"9/28/2018\",\"9/29/2018\",\"9/30/2018\",\"10/1/2018\",\"10/2/2018\",\"10/3/2018\",\"10/4/2018\",\"10/5/2018\",\"10/6/2018\",\"10/7/2018\",\"10/8/2018\",\"10/9/2018\",\"10/10/2018\",\"10/11/2018\",\"10/12/2018\",\"10/13/2018\",\"10/14/2018\",\"10/15/2018\",\"10/16/2018\",\"10/17/2018\",\"10/18/2018\",\"10/19/2018\",\"10/20/2018\",\"10/21/2018\",\"10/22/2018\",\"10/23/2018\",\"10/24/2018\",\"10/25/2018\",\"10/26/2018\",\"10/27/2018\",\"10/28/2018\",\"10/29/2018\",\"10/30/2018\",\"10/31/2018\",\"11/1/2018\",\"11/2/2018\",\"11/3/2018\",\"11/4/2018\",\"11/5/2018\",\"11/6/2018\",\"11/7/2018\",\"11/8/2018\",\"11/9/2018\",\"11/10/2018\",\"11/11/2018\",\"11/12/2018\",\"11/13/2018\",\"11/14/2018\",\"11/15/2018\",\"11/16/2018\",\"11/17/2018\",\"11/18/2018\",\"11/19/2018\",\"11/20/2018\",\"11/21/2018\",\"11/22/2018\",\"11/23/2018\",\"11/24/2018\",\"11/25/2018\",\"11/26/2018\",\"11/27/2018\",\"11/28/2018\",\"11/29/2018\",\"11/30/2018\",\"12/1/2018\",\"12/2/2018\",\"12/3/2018\",\"12/4/2018\",\"12/5/2018\",\"12/6/2018\",\"12/7/2018\",\"12/8/2018\",\"12/9/2018\",\"12/10/2018\",\"12/11/2018\",\"12/12/2018\",\"12/13/2018\",\"12/14/2018\",\"12/15/2018\",\"12/16/2018\",\"12/17/2018\",\"12/18/2018\",\"12/19/2018\",\"12/20/2018\",\"12/21/2018\",\"12/22/2018\",\"12/23/2018\",\"12/24/2018\",\"12/25/2018\",\"12/26/2018\",\"12/27/2018\",\"12/28/2018\",\"12/29/2018\",\"12/30/2018\",\"12/31/2018\",\"1/1/2019\",\"1/2/2019\",\"1/3/2019\",\"1/4/2019\",\"1/5/2019\",\"1/6/2019\",\"1/7/2019\",\"1/8/2019\",\"1/9/2019\",\"1/10/2019\",\"1/11/2019\",\"1/12/2019\",\"1/13/2019\",\"1/14/2019\",\"1/15/2019\",\"1/16/2019\",\"1/17/2019\",\"1/18/2019\",\"1/19/2019\",\"1/20/2019\",\"1/21/2019\",\"1/22/2019\",\"1/23/2019\",\"1/24/2019\",\"1/25/2019\",\"1/26/2019\",\"1/27/2019\",\"1/28/2019\",\"1/29/2019\",\"1/30/2019\",\"1/31/2019\",\"2/1/2019\",\"2/2/2019\",\"2/3/2019\",\"2/4/2019\",\"2/5/2019\",\"2/6/2019\",\"2/8/2019\",\"2/9/2019\",\"2/10/2019\",\"2/11/2019\",\"2/12/2019\",\"2/13/2019\",\"2/14/2019\",\"2/15/2019\",\"2/16/2019\",\"2/17/2019\",\"2/18/2019\",\"2/19/2019\",\"2/20/2019\",\"2/21/2019\",\"2/22/2019\",\"2/23/2019\",\"2/24/2019\",\"2/25/2019\",\"2/26/2019\",\"2/27/2019\",\"2/28/2019\",\"3/1/2019\",\"3/2/2019\",\"3/3/2019\",\"3/4/2019\",\"3/5/2019\",\"3/6/2019\",\"3/7/2019\",\"3/8/2019\",\"3/9/2019\",\"3/10/2019\",\"3/11/2019\",\"3/12/2019\",\"3/13/2019\",\"3/14/2019\",\"3/15/2019\",\"3/16/2019\",\"3/17/2019\",\"3/18/2019\",\"3/19/2019\",\"3/20/2019\",\"3/21/2019\",\"3/22/2019\",\"3/23/2019\",\"3/24/2019\",\"3/25/2019\",\"3/26/2019\",\"3/27/2019\",\"3/28/2019\",\"3/29/2019\",\"3/30/2019\",\"3/31/2019\",\"4/1/2019\",\"4/2/2019\",\"4/3/2019\",\"4/4/2019\",\"4/5/2019\",\"4/6/2019\",\"4/7/2019\",\"4/8/2019\",\"4/9/2019\",\"4/10/2019\",\"4/11/2019\",\"4/12/2019\",\"4/13/2019\",\"4/14/2019\",\"4/15/2019\",\"4/16/2019\",\"4/17/2019\",\"4/18/2019\",\"4/19/2019\",\"4/20/2019\",\"4/21/2019\",\"4/22/2019\",\"4/23/2019\",\"4/24/2019\",\"4/25/2019\",\"4/26/2019\",\"4/27/2019\",\"4/28/2019\",\"4/29/2019\",\"4/30/2019\",\"5/1/2019\",\"5/2/2019\",\"5/3/2019\",\"5/4/2019\",\"5/5/2019\",\"5/6/2019\",\"5/7/2019\",\"5/8/2019\",\"5/9/2019\",\"5/10/2019\",\"5/11/2019\",\"5/12/2019\",\"5/13/2019\",\"5/14/2019\",\"5/15/2019\",\"5/16/2019\",\"5/17/2019\",\"5/18/2019\",\"5/19/2019\",\"5/20/2019\",\"5/21/2019\",\"5/22/2019\",\"5/23/2019\",\"5/24/2019\",\"5/25/2019\",\"5/26/2019\",\"5/27/2019\",\"5/28/2019\",\"5/29/2019\",\"5/30/2019\",\"5/31/2019\",\"6/1/2019\",\"6/2/2019\",\"6/3/2019\",\"6/4/2019\",\"6/5/2019\",\"6/6/2019\",\"6/7/2019\",\"6/8/2019\",\"6/9/2019\",\"6/10/2019\",\"6/11/2019\",\"6/12/2019\",\"6/13/2019\",\"6/14/2019\",\"6/15/2019\",\"6/16/2019\",\"6/17/2019\",\"6/18/2019\",\"6/19/2019\",\"6/20/2019\",\"6/21/2019\",\"6/22/2019\",\"6/23/2019\",\"6/24/2019\",\"6/25/2019\",\"6/26/2019\",\"6/27/2019\",\"6/28/2019\",\"6/29/2019\",\"6/30/2019\",\"7/1/2019\",\"7/2/2019\",\"7/3/2019\",\"7/4/2019\",\"7/5/2019\",\"7/6/2019\",\"7/7/2019\",\"7/8/2019\",\"7/9/2019\",\"7/10/2019\",\"7/11/2019\",\"7/12/2019\",\"7/13/2019\",\"7/14/2019\",\"7/15/2019\",\"7/16/2019\",\"7/17/2019\",\"7/18/2019\",\"7/19/2019\",\"7/20/2019\",\"7/21/2019\",\"7/22/2019\",\"7/23/2019\",\"7/24/2019\",\"7/25/2019\",\"7/26/2019\",\"7/27/2019\",\"7/28/2019\",\"7/29/2019\",\"7/30/2019\",\"7/31/2019\",\"8/1/2019\",\"8/2/2019\",\"8/3/2019\",\"8/4/2019\",\"8/5/2019\",\"8/6/2019\",\"8/7/2019\",\"8/8/2019\",\"8/9/2019\",\"8/10/2019\",\"8/11/2019\",\"8/12/2019\",\"8/13/2019\",\"8/14/2019\",\"8/15/2019\",\"8/16/2019\",\"8/17/2019\",\"8/18/2019\",\"8/19/2019\",\"8/20/2019\",\"8/21/2019\",\"8/22/2019\",\"8/23/2019\",\"8/24/2019\",\"8/25/2019\",\"8/26/2019\",\"8/27/2019\",\"8/28/2019\",\"8/29/2019\",\"8/30/2019\",\"8/31/2019\",\"9/1/2019\",\"9/2/2019\",\"9/3/2019\",\"9/4/2019\",\"9/5/2019\",\"9/6/2019\",\"9/7/2019\",\"9/8/2019\",\"9/9/2019\",\"9/10/2019\",\"9/11/2019\",\"9/12/2019\",\"9/13/2019\",\"9/14/2019\",\"9/15/2019\",\"9/16/2019\",\"9/17/2019\",\"9/18/2019\",\"9/19/2019\",\"9/20/2019\",\"9/21/2019\",\"9/22/2019\",\"9/23/2019\",\"9/24/2019\",\"9/25/2019\",\"9/26/2019\",\"9/27/2019\",\"9/28/2019\",\"9/29/2019\",\"9/30/2019\",\"10/1/2019\",\"10/2/2019\",\"10/3/2019\",\"10/4/2019\",\"10/5/2019\",\"10/6/2019\",\"10/7/2019\",\"10/8/2019\",\"10/10/2019\",\"10/11/2019\",\"10/12/2019\",\"10/13/2019\",\"10/14/2019\",\"10/15/2019\",\"10/16/2019\",\"10/17/2019\",\"10/18/2019\",\"10/19/2019\",\"10/20/2019\",\"10/21/2019\",\"10/22/2019\",\"10/23/2019\",\"10/24/2019\",\"10/25/2019\",\"10/26/2019\",\"10/27/2019\",\"10/28/2019\",\"10/29/2019\",\"10/30/2019\",\"10/31/2019\",\"11/1/2019\",\"11/2/2019\",\"11/3/2019\",\"11/4/2019\",\"11/5/2019\",\"11/6/2019\",\"11/7/2019\",\"11/8/2019\",\"11/9/2019\",\"11/10/2019\",\"11/11/2019\",\"11/12/2019\",\"11/13/2019\",\"11/14/2019\",\"11/15/2019\",\"11/16/2019\",\"11/17/2019\",\"11/18/2019\",\"11/19/2019\",\"11/20/2019\",\"11/21/2019\",\"11/22/2019\",\"11/23/2019\",\"11/24/2019\",\"11/25/2019\",\"11/26/2019\",\"11/27/2019\",\"11/28/2019\",\"11/29/2019\",\"11/30/2019\",\"12/1/2019\",\"12/2/2019\",\"12/3/2019\",\"12/4/2019\",\"12/5/2019\",\"12/6/2019\",\"12/7/2019\",\"12/8/2019\",\"12/9/2019\",\"12/10/2019\",\"12/11/2019\",\"12/12/2019\",\"12/13/2019\",\"12/14/2019\",\"12/15/2019\",\"12/16/2019\",\"12/17/2019\",\"12/18/2019\",\"12/19/2019\",\"12/20/2019\",\"12/21/2019\",\"12/22/2019\",\"12/23/2019\",\"12/24/2019\",\"12/25/2019\",\"12/26/2019\",\"12/27/2019\",\"12/28/2019\",\"12/29/2019\",\"12/30/2019\",\"12/31/2019\"],\"y\":[1203,2361,1729,2481,1878,1442,1245,915,1249,1311,1444,1081,824,1281,1001,1447,1993,1853,1067,745,1306,953,1294,1435,2504,1578,1390,410,1683,1580,1462,1390,1344,896,1275,930,2107,2063,2042,1943,1009,1796,1796,1441,1185,1011,1760,1407,1944,1915,2101,2269,2703,3237,1355,2087,1830,2440,1669,3694,2235,1576,2031,1589,2178,2889,2294,2466,984,2169,1731,1180,2420,2464,2785,2689,2593,3188,2137,2741,2595,2992,1787,2238,2734,2813,2815,2285,4177,2234,2633,3949,2447,1748,1699,1858,1274,1595,1121,1145,1671,2564,2384,2461,2804,2044,1347,1071,969,1201,918,1190,1395,2820,1557,1754,3020,2361,2769,1291,1516,2204,1804,1855,1768,1989,1418,1582,2293,2092,1787,2163,1750,1256,2029,1725,2149,1995,1390,1277,2232,3831,1589,2885,2442,1676,2242,1183,1218,1639,1438,1256,1444,765,913,806,1130,1262,1482,1923,1617,1391,2408,2124,2170,1489,1617,1707,1467,2061,1437,1640,1934,1329,1593,965,1196,1595,1361,1128,974,1209,2184,1470,3130,1344,2115,910,1924,783,1389,601,1085,1036,948,1395,761,917,983,928,1306,1935,870,1176,451,747,829,1035,1549,862,563,451,285,1065,975,1196,740,1002,884,1083,801,886,833,425,1089,1195,1268,1187,683,897,799,1156,831,1041,735,802,703,312,513,758,447,611,426,867,556,972,775,1064,1037,1472,2136,1337,1186,1114,942,1575,1376,1474,1241,1305,807,482,853,1285,1105,1062,904,1006,723,835,299,954,1382,2684,2013,2229,2518,2352,1973,2733,2647,2329,2566,1821,1785,1791,1370,2016,2357,3124,3265,3209,2795,3139,3795,2925,3106,2572,2889,2524,3982,2139,1776,2908,2003,2739,2265,2572,2565,2845,3110,2085,2722,3016,3473,4883,2941,1837,1389,2783,1540,2076,1665,2655,2373,1845,1982,1922,1739,1539,1453,2586,1303,1911,2474,1757,2002,1640,1335,1346,1446,900,1901,1011,1696,2092,1496,1567,2638,1821,1839,1465,751,924,1111,648,1788,2107,2419,2034,1819,2248,1408,2039,2713,2024,2024,293,291,1283,1185,1495,2080,1564,1578,2296,881,2359,2333,2048,1239,162,539,1665,1405,2295,1267,1499,1013,1177,1028,1513,1232,1267,1684,907,2122,922,2979,1902,1378,2807,1384,2208,1710,1449,3249,2256,3188,1503,276,886,2298,2827,4278,2228,2670,3169,3101,2876,1384,2210,2538,2106,2530,2266,2193,3353,2061,2775,2506,2734,2710,3633,2909,3186,3000,3411,2857,3348,4704,2855,2109,2692,1638,1730,1848,2189,2218,1884,1167,545,1230,3414,3140,3504,2508,2367,1761,1330,652,1682,1088,1687,1452,1611,2439,1797,2272,3646,1796,1862,2538,3087,2576,2271,3515,1673,932,4006,2384,1969,2266,1993,2729,1494,2335,865,1654,2239,3365,2427,2148,1471,1545,2481,2116,1251,1299,1430,1579,968,1083,1703,2258,1377,1640,1578,1856,1577,1846,1479,2145,1678,872,1020,1033,938,1078,1581,1748,1090,1382,1309,1458,1642,973,1201,788,1813,1145,1449,1290,1430,1141,1017,1601,1841,860,990,1144,1276,609,844,1288,1639,1439,1468,1623,275,704,1859,1149,539,904,815,529,1837,556,720,371,714,515,594,480,1565,611,1427,932,585,508,737,820,1011,1140,1087,832,864,1087,1150,1211,1138,1084,665,436,1182,588,963,729,591,1074,612,1004,1010,763,1054,612,800,502,625,1076,1402,714,619,619,268,743,359,727,995,610,1305,270,1287,885,866,609,548,557,608,843,259,786,593,1438,1185,1281,1726,3665,2316,1443,1770,1332,1193,1179,1424,1898,1181,1881,1751,2754,2463,2687,2131,1894,2367,2112,2710,2166,2043,2551,2148,1960,2968,1785,2803,3001,1245,748,4155,2105,2287,2240,2509,3136,1873,2972,1368,1824,2229,2078,2575,2266,1234,2365,2336,3860,1759,1388,1461,2078,1490,1836,2344,2426,2260,1063,80,1996,1717,1422,1836,2377,1708,2483,2623,1550,3763,3317,2518,1201,1442,1370,1311,657,1459,888,632,1004,612,1303,655,675,768,741,1001,1088,1380,1463,2235,2019,1374,1882,1432,2347,1641,2067,1738,2519,1371,762,788,1001,1535,1047,1031,2427,409,883,324,61,162,79,272,271,728,850,578,519,203,385,730,1454,903,2020,1844,940,1226,1109,1605,1884,2138,1891,2315,1787,1914,2035,2403,2344,1126,1925,1738,2804,2209,2854,4325,2446,3290,2276,2892,2309,2179,606,693,2179,2079,3121,2928,3388,2101,2179,3471,2165,2657,2647,3123,2729,2956,2837,2780,3087,2638,2944,3787,2870,3157,3102,209,3399,3608,3185,2916,3653,1914,2529,2687,3706,3336,2890,3277,2150,3305,2468,2068,2669,2505,2418,1411,1947,1940,2288,1953,672,1623,2680,5153,5457,4844,3036,2230,1796,1249,1611,2535,1664,1741,2549,2818,2324,3133,1875,3063,3021,3270,3559,1512,2019,2168,2506,3226,1806,2449,2574,3464,1641,1961,2578,1848,2648,1984,1743,1612,1390,2819,2210,2214,1160,1615,1232,1265,1133,2004,2795,1810,1356,1558,1089,1930,2106,1835,1170,1669,1480,1368,1691,1291,2582,1350,1433,2323,1074,2181,960,1474,566,987,982,2012,1347,971,1345,923,1062,1212,974,1662,1199,783,680,627,978,446,1464,713,717,232,934,1580,654,1692,1271,816,548,567,1216,507,1270,799,754,600,638,668,934,1034,726,765,514,628,1573,1092,1215,1080,1058,640,640,2118,1082,2343,785,913,825,812,853,958,872,572,556,289,600,900,678,1129,889,1569,865,1457,1486,1499,1809,1514,2624,1541,1694,2144,1102,1511,1987,2911,1785,1427,1802,1375,1805,1203,1777,631,1360,1877,1046,955,1305,1115,1346,1651,390,1622,1778,1735,1534,1547,1929,3375,2880,1764,2368,2095,2110,1666,1934,3269,2026,2031,2703,2987,3038,3799,3613,2688,2584,2793,2886,3284,3579,2790,2364,4392,2211,2794,2811,2727,3570,2269,2488,2025,2767,2728,2699,1830,2279,2575,2029,2733,2765,2581,2351,1412,1907,1578,2381,1431,1573,2072,1609,2947,1917,1251,2221,1222,2142,1098,1609,497,1054,971,895,878,1202,1637,563,1457,4721,3811,3215,1514,3161,2170,4101,3140],\"type\":\"scatter\"},{\"mode\":\"lines\",\"name\":\"Israeli Visitors\",\"x\":[\"1/1/2017\",\"1/2/2017\",\"1/3/2017\",\"1/4/2017\",\"1/5/2017\",\"1/6/2017\",\"1/7/2017\",\"1/8/2017\",\"1/9/2017\",\"1/10/2017\",\"1/11/2017\",\"1/12/2017\",\"1/13/2017\",\"1/14/2017\",\"1/15/2017\",\"1/16/2017\",\"1/17/2017\",\"1/18/2017\",\"1/19/2017\",\"1/20/2017\",\"1/21/2017\",\"1/22/2017\",\"1/23/2017\",\"1/24/2017\",\"1/25/2017\",\"1/26/2017\",\"1/27/2017\",\"1/28/2017\",\"1/29/2017\",\"1/30/2017\",\"1/31/2017\",\"2/1/2017\",\"2/2/2017\",\"2/3/2017\",\"2/4/2017\",\"2/5/2017\",\"2/6/2017\",\"2/7/2017\",\"2/8/2017\",\"2/9/2017\",\"2/10/2017\",\"2/11/2017\",\"2/12/2017\",\"2/13/2017\",\"2/14/2017\",\"2/15/2017\",\"2/16/2017\",\"2/17/2017\",\"2/18/2017\",\"2/19/2017\",\"2/20/2017\",\"2/21/2017\",\"2/22/2017\",\"2/23/2017\",\"2/24/2017\",\"2/25/2017\",\"2/26/2017\",\"2/27/2017\",\"2/28/2017\",\"3/1/2017\",\"3/2/2017\",\"3/3/2017\",\"3/4/2017\",\"3/5/2017\",\"3/6/2017\",\"3/7/2017\",\"3/8/2017\",\"3/9/2017\",\"3/10/2017\",\"3/11/2017\",\"3/12/2017\",\"3/13/2017\",\"3/14/2017\",\"3/15/2017\",\"3/16/2017\",\"3/17/2017\",\"3/18/2017\",\"3/19/2017\",\"3/20/2017\",\"3/21/2017\",\"3/22/2017\",\"3/23/2017\",\"3/24/2017\",\"3/25/2017\",\"3/26/2017\",\"3/27/2017\",\"3/28/2017\",\"3/29/2017\",\"3/30/2017\",\"3/31/2017\",\"4/1/2017\",\"4/2/2017\",\"4/3/2017\",\"4/4/2017\",\"4/5/2017\",\"4/6/2017\",\"4/7/2017\",\"4/8/2017\",\"4/9/2017\",\"4/10/2017\",\"4/11/2017\",\"4/12/2017\",\"4/13/2017\",\"4/14/2017\",\"4/15/2017\",\"4/16/2017\",\"4/17/2017\",\"4/18/2017\",\"4/19/2017\",\"4/20/2017\",\"4/21/2017\",\"4/22/2017\",\"4/23/2017\",\"4/24/2017\",\"4/25/2017\",\"4/26/2017\",\"4/27/2017\",\"4/28/2017\",\"4/29/2017\",\"4/30/2017\",\"5/1/2017\",\"5/2/2017\",\"5/3/2017\",\"5/4/2017\",\"5/5/2017\",\"5/6/2017\",\"5/7/2017\",\"5/8/2017\",\"5/9/2017\",\"5/10/2017\",\"5/11/2017\",\"5/12/2017\",\"5/13/2017\",\"5/14/2017\",\"5/15/2017\",\"5/16/2017\",\"5/17/2017\",\"5/18/2017\",\"5/19/2017\",\"5/20/2017\",\"5/21/2017\",\"5/22/2017\",\"5/23/2017\",\"5/24/2017\",\"5/25/2017\",\"5/26/2017\",\"5/27/2017\",\"5/28/2017\",\"5/29/2017\",\"5/30/2017\",\"5/31/2017\",\"6/1/2017\",\"6/2/2017\",\"6/3/2017\",\"6/4/2017\",\"6/5/2017\",\"6/6/2017\",\"6/7/2017\",\"6/8/2017\",\"6/9/2017\",\"6/10/2017\",\"6/11/2017\",\"6/12/2017\",\"6/13/2017\",\"6/14/2017\",\"6/15/2017\",\"6/16/2017\",\"6/17/2017\",\"6/18/2017\",\"6/19/2017\",\"6/20/2017\",\"6/21/2017\",\"6/22/2017\",\"6/23/2017\",\"6/24/2017\",\"6/25/2017\",\"6/26/2017\",\"6/27/2017\",\"6/28/2017\",\"6/29/2017\",\"6/30/2017\",\"7/1/2017\",\"7/2/2017\",\"7/3/2017\",\"7/4/2017\",\"7/5/2017\",\"7/6/2017\",\"7/7/2017\",\"7/8/2017\",\"7/9/2017\",\"7/10/2017\",\"7/11/2017\",\"7/12/2017\",\"7/13/2017\",\"7/14/2017\",\"7/15/2017\",\"7/16/2017\",\"7/17/2017\",\"7/18/2017\",\"7/19/2017\",\"7/20/2017\",\"7/21/2017\",\"7/22/2017\",\"7/23/2017\",\"7/24/2017\",\"7/25/2017\",\"7/26/2017\",\"7/27/2017\",\"7/28/2017\",\"7/29/2017\",\"7/31/2017\",\"8/1/2017\",\"8/2/2017\",\"8/3/2017\",\"8/4/2017\",\"8/5/2017\",\"8/6/2017\",\"8/7/2017\",\"8/8/2017\",\"8/9/2017\",\"8/10/2017\",\"8/11/2017\",\"8/12/2017\",\"8/13/2017\",\"8/14/2017\",\"8/15/2017\",\"8/16/2017\",\"8/17/2017\",\"8/18/2017\",\"8/19/2017\",\"8/20/2017\",\"8/21/2017\",\"8/22/2017\",\"8/23/2017\",\"8/24/2017\",\"8/25/2017\",\"8/26/2017\",\"8/27/2017\",\"8/28/2017\",\"8/29/2017\",\"8/30/2017\",\"8/31/2017\",\"9/1/2017\",\"9/2/2017\",\"9/3/2017\",\"9/4/2017\",\"9/5/2017\",\"9/6/2017\",\"9/7/2017\",\"9/8/2017\",\"9/9/2017\",\"9/10/2017\",\"9/11/2017\",\"9/12/2017\",\"9/13/2017\",\"9/14/2017\",\"9/15/2017\",\"9/16/2017\",\"9/17/2017\",\"9/18/2017\",\"9/19/2017\",\"9/20/2017\",\"9/21/2017\",\"9/22/2017\",\"9/23/2017\",\"9/24/2017\",\"9/25/2017\",\"9/26/2017\",\"9/27/2017\",\"9/28/2017\",\"9/29/2017\",\"10/1/2017\",\"10/2/2017\",\"10/3/2017\",\"10/4/2017\",\"10/5/2017\",\"10/6/2017\",\"10/7/2017\",\"10/8/2017\",\"10/9/2017\",\"10/10/2017\",\"10/11/2017\",\"10/12/2017\",\"10/13/2017\",\"10/14/2017\",\"10/15/2017\",\"10/16/2017\",\"10/17/2017\",\"10/18/2017\",\"10/19/2017\",\"10/20/2017\",\"10/21/2017\",\"10/22/2017\",\"10/23/2017\",\"10/24/2017\",\"10/25/2017\",\"10/26/2017\",\"10/27/2017\",\"10/28/2017\",\"10/29/2017\",\"10/30/2017\",\"10/31/2017\",\"11/1/2017\",\"11/2/2017\",\"11/3/2017\",\"11/4/2017\",\"11/5/2017\",\"11/6/2017\",\"11/7/2017\",\"11/8/2017\",\"11/9/2017\",\"11/10/2017\",\"11/11/2017\",\"11/12/2017\",\"11/13/2017\",\"11/14/2017\",\"11/15/2017\",\"11/16/2017\",\"11/17/2017\",\"11/18/2017\",\"11/19/2017\",\"11/20/2017\",\"11/21/2017\",\"11/22/2017\",\"11/23/2017\",\"11/24/2017\",\"11/25/2017\",\"11/26/2017\",\"11/27/2017\",\"11/28/2017\",\"11/29/2017\",\"11/30/2017\",\"12/1/2017\",\"12/2/2017\",\"12/3/2017\",\"12/4/2017\",\"12/5/2017\",\"12/6/2017\",\"12/7/2017\",\"12/8/2017\",\"12/9/2017\",\"12/10/2017\",\"12/11/2017\",\"12/12/2017\",\"12/13/2017\",\"12/14/2017\",\"12/15/2017\",\"12/16/2017\",\"12/17/2017\",\"12/18/2017\",\"12/19/2017\",\"12/20/2017\",\"12/21/2017\",\"12/22/2017\",\"12/23/2017\",\"12/24/2017\",\"12/25/2017\",\"12/26/2017\",\"12/27/2017\",\"12/28/2017\",\"12/29/2017\",\"12/30/2017\",\"12/31/2017\",\"1/1/2018\",\"1/2/2018\",\"1/3/2018\",\"1/4/2018\",\"1/5/2018\",\"1/6/2018\",\"1/7/2018\",\"1/8/2018\",\"1/9/2018\",\"1/10/2018\",\"1/11/2018\",\"1/12/2018\",\"1/13/2018\",\"1/14/2018\",\"1/15/2018\",\"1/16/2018\",\"1/17/2018\",\"1/18/2018\",\"1/19/2018\",\"1/20/2018\",\"1/21/2018\",\"1/22/2018\",\"1/23/2018\",\"1/24/2018\",\"1/25/2018\",\"1/26/2018\",\"1/27/2018\",\"1/28/2018\",\"1/29/2018\",\"1/30/2018\",\"1/31/2018\",\"2/1/2018\",\"2/2/2018\",\"2/3/2018\",\"2/4/2018\",\"2/5/2018\",\"2/6/2018\",\"2/7/2018\",\"2/8/2018\",\"2/9/2018\",\"2/10/2018\",\"2/11/2018\",\"2/12/2018\",\"2/13/2018\",\"2/14/2018\",\"2/15/2018\",\"2/16/2018\",\"2/17/2018\",\"2/18/2018\",\"2/19/2018\",\"2/20/2018\",\"2/21/2018\",\"2/22/2018\",\"2/23/2018\",\"2/24/2018\",\"2/25/2018\",\"2/26/2018\",\"2/27/2018\",\"2/28/2018\",\"3/1/2018\",\"3/2/2018\",\"3/3/2018\",\"3/4/2018\",\"3/5/2018\",\"3/6/2018\",\"3/7/2018\",\"3/8/2018\",\"3/9/2018\",\"3/10/2018\",\"3/11/2018\",\"3/12/2018\",\"3/13/2018\",\"3/14/2018\",\"3/15/2018\",\"3/16/2018\",\"3/17/2018\",\"3/18/2018\",\"3/19/2018\",\"3/20/2018\",\"3/21/2018\",\"3/22/2018\",\"3/23/2018\",\"3/24/2018\",\"3/25/2018\",\"3/26/2018\",\"3/27/2018\",\"3/28/2018\",\"3/29/2018\",\"3/30/2018\",\"3/31/2018\",\"4/1/2018\",\"4/2/2018\",\"4/3/2018\",\"4/4/2018\",\"4/5/2018\",\"4/6/2018\",\"4/7/2018\",\"4/8/2018\",\"4/9/2018\",\"4/10/2018\",\"4/11/2018\",\"4/12/2018\",\"4/13/2018\",\"4/14/2018\",\"4/15/2018\",\"4/16/2018\",\"4/17/2018\",\"4/18/2018\",\"4/19/2018\",\"4/20/2018\",\"4/21/2018\",\"4/22/2018\",\"4/23/2018\",\"4/24/2018\",\"4/25/2018\",\"4/26/2018\",\"4/29/2018\",\"4/30/2018\",\"5/1/2018\",\"5/2/2018\",\"5/3/2018\",\"5/4/2018\",\"5/5/2018\",\"5/6/2018\",\"5/7/2018\",\"5/8/2018\",\"5/9/2018\",\"5/10/2018\",\"5/11/2018\",\"5/12/2018\",\"5/13/2018\",\"5/14/2018\",\"5/15/2018\",\"5/16/2018\",\"5/17/2018\",\"5/18/2018\",\"5/19/2018\",\"5/20/2018\",\"5/21/2018\",\"5/22/2018\",\"5/23/2018\",\"5/24/2018\",\"5/25/2018\",\"5/26/2018\",\"5/27/2018\",\"5/28/2018\",\"5/29/2018\",\"5/30/2018\",\"5/31/2018\",\"6/1/2018\",\"6/2/2018\",\"6/3/2018\",\"6/4/2018\",\"6/5/2018\",\"6/6/2018\",\"6/7/2018\",\"6/8/2018\",\"6/9/2018\",\"6/10/2018\",\"6/11/2018\",\"6/12/2018\",\"6/13/2018\",\"6/14/2018\",\"6/15/2018\",\"6/16/2018\",\"6/17/2018\",\"6/18/2018\",\"6/19/2018\",\"6/20/2018\",\"6/21/2018\",\"6/22/2018\",\"6/23/2018\",\"6/24/2018\",\"6/25/2018\",\"6/26/2018\",\"6/27/2018\",\"6/28/2018\",\"6/29/2018\",\"6/30/2018\",\"7/1/2018\",\"7/2/2018\",\"7/3/2018\",\"7/4/2018\",\"7/5/2018\",\"7/6/2018\",\"7/7/2018\",\"7/8/2018\",\"7/9/2018\",\"7/10/2018\",\"7/11/2018\",\"7/12/2018\",\"7/13/2018\",\"7/14/2018\",\"7/15/2018\",\"7/16/2018\",\"7/17/2018\",\"7/18/2018\",\"7/19/2018\",\"7/20/2018\",\"7/21/2018\",\"7/22/2018\",\"7/23/2018\",\"7/24/2018\",\"7/25/2018\",\"7/26/2018\",\"7/27/2018\",\"7/28/2018\",\"7/29/2018\",\"7/30/2018\",\"7/31/2018\",\"8/1/2018\",\"8/2/2018\",\"8/3/2018\",\"8/4/2018\",\"8/5/2018\",\"8/6/2018\",\"8/7/2018\",\"8/8/2018\",\"8/9/2018\",\"8/10/2018\",\"8/11/2018\",\"8/12/2018\",\"8/13/2018\",\"8/14/2018\",\"8/15/2018\",\"8/16/2018\",\"8/17/2018\",\"8/18/2018\",\"8/19/2018\",\"8/20/2018\",\"8/21/2018\",\"8/22/2018\",\"8/23/2018\",\"8/24/2018\",\"8/25/2018\",\"8/26/2018\",\"8/27/2018\",\"8/28/2018\",\"8/29/2018\",\"8/30/2018\",\"8/31/2018\",\"9/1/2018\",\"9/2/2018\",\"9/3/2018\",\"9/4/2018\",\"9/5/2018\",\"9/6/2018\",\"9/7/2018\",\"9/8/2018\",\"9/9/2018\",\"9/10/2018\",\"9/11/2018\",\"9/12/2018\",\"9/13/2018\",\"9/14/2018\",\"9/15/2018\",\"9/16/2018\",\"9/17/2018\",\"9/18/2018\",\"9/20/2018\",\"9/21/2018\",\"9/22/2018\",\"9/23/2018\",\"9/24/2018\",\"9/25/2018\",\"9/26/2018\",\"9/27/2018\",\"9/28/2018\",\"9/29/2018\",\"9/30/2018\",\"10/1/2018\",\"10/2/2018\",\"10/3/2018\",\"10/4/2018\",\"10/5/2018\",\"10/6/2018\",\"10/7/2018\",\"10/8/2018\",\"10/9/2018\",\"10/10/2018\",\"10/11/2018\",\"10/12/2018\",\"10/13/2018\",\"10/14/2018\",\"10/15/2018\",\"10/16/2018\",\"10/17/2018\",\"10/18/2018\",\"10/19/2018\",\"10/20/2018\",\"10/21/2018\",\"10/22/2018\",\"10/23/2018\",\"10/24/2018\",\"10/25/2018\",\"10/26/2018\",\"10/27/2018\",\"10/28/2018\",\"10/29/2018\",\"10/30/2018\",\"10/31/2018\",\"11/1/2018\",\"11/2/2018\",\"11/3/2018\",\"11/4/2018\",\"11/5/2018\",\"11/6/2018\",\"11/7/2018\",\"11/8/2018\",\"11/9/2018\",\"11/10/2018\",\"11/11/2018\",\"11/12/2018\",\"11/13/2018\",\"11/14/2018\",\"11/15/2018\",\"11/16/2018\",\"11/17/2018\",\"11/18/2018\",\"11/19/2018\",\"11/20/2018\",\"11/21/2018\",\"11/22/2018\",\"11/23/2018\",\"11/24/2018\",\"11/25/2018\",\"11/26/2018\",\"11/27/2018\",\"11/28/2018\",\"11/29/2018\",\"11/30/2018\",\"12/1/2018\",\"12/2/2018\",\"12/3/2018\",\"12/4/2018\",\"12/5/2018\",\"12/6/2018\",\"12/7/2018\",\"12/8/2018\",\"12/9/2018\",\"12/10/2018\",\"12/11/2018\",\"12/12/2018\",\"12/13/2018\",\"12/14/2018\",\"12/15/2018\",\"12/16/2018\",\"12/17/2018\",\"12/18/2018\",\"12/19/2018\",\"12/20/2018\",\"12/21/2018\",\"12/22/2018\",\"12/23/2018\",\"12/24/2018\",\"12/25/2018\",\"12/26/2018\",\"12/27/2018\",\"12/28/2018\",\"12/29/2018\",\"12/30/2018\",\"12/31/2018\",\"1/1/2019\",\"1/2/2019\",\"1/3/2019\",\"1/4/2019\",\"1/5/2019\",\"1/6/2019\",\"1/7/2019\",\"1/8/2019\",\"1/9/2019\",\"1/10/2019\",\"1/11/2019\",\"1/12/2019\",\"1/13/2019\",\"1/14/2019\",\"1/15/2019\",\"1/16/2019\",\"1/17/2019\",\"1/18/2019\",\"1/19/2019\",\"1/20/2019\",\"1/21/2019\",\"1/22/2019\",\"1/23/2019\",\"1/24/2019\",\"1/25/2019\",\"1/26/2019\",\"1/27/2019\",\"1/28/2019\",\"1/29/2019\",\"1/30/2019\",\"1/31/2019\",\"2/1/2019\",\"2/2/2019\",\"2/3/2019\",\"2/4/2019\",\"2/5/2019\",\"2/6/2019\",\"2/8/2019\",\"2/9/2019\",\"2/10/2019\",\"2/11/2019\",\"2/12/2019\",\"2/13/2019\",\"2/14/2019\",\"2/15/2019\",\"2/16/2019\",\"2/17/2019\",\"2/18/2019\",\"2/19/2019\",\"2/20/2019\",\"2/21/2019\",\"2/22/2019\",\"2/23/2019\",\"2/24/2019\",\"2/25/2019\",\"2/26/2019\",\"2/27/2019\",\"2/28/2019\",\"3/1/2019\",\"3/2/2019\",\"3/3/2019\",\"3/4/2019\",\"3/5/2019\",\"3/6/2019\",\"3/7/2019\",\"3/8/2019\",\"3/9/2019\",\"3/10/2019\",\"3/11/2019\",\"3/12/2019\",\"3/13/2019\",\"3/14/2019\",\"3/15/2019\",\"3/16/2019\",\"3/17/2019\",\"3/18/2019\",\"3/19/2019\",\"3/20/2019\",\"3/21/2019\",\"3/22/2019\",\"3/23/2019\",\"3/24/2019\",\"3/25/2019\",\"3/26/2019\",\"3/27/2019\",\"3/28/2019\",\"3/29/2019\",\"3/30/2019\",\"3/31/2019\",\"4/1/2019\",\"4/2/2019\",\"4/3/2019\",\"4/4/2019\",\"4/5/2019\",\"4/6/2019\",\"4/7/2019\",\"4/8/2019\",\"4/9/2019\",\"4/10/2019\",\"4/11/2019\",\"4/12/2019\",\"4/13/2019\",\"4/14/2019\",\"4/15/2019\",\"4/16/2019\",\"4/17/2019\",\"4/18/2019\",\"4/19/2019\",\"4/20/2019\",\"4/21/2019\",\"4/22/2019\",\"4/23/2019\",\"4/24/2019\",\"4/25/2019\",\"4/26/2019\",\"4/27/2019\",\"4/28/2019\",\"4/29/2019\",\"4/30/2019\",\"5/1/2019\",\"5/2/2019\",\"5/3/2019\",\"5/4/2019\",\"5/5/2019\",\"5/6/2019\",\"5/7/2019\",\"5/8/2019\",\"5/9/2019\",\"5/10/2019\",\"5/11/2019\",\"5/12/2019\",\"5/13/2019\",\"5/14/2019\",\"5/15/2019\",\"5/16/2019\",\"5/17/2019\",\"5/18/2019\",\"5/19/2019\",\"5/20/2019\",\"5/21/2019\",\"5/22/2019\",\"5/23/2019\",\"5/24/2019\",\"5/25/2019\",\"5/26/2019\",\"5/27/2019\",\"5/28/2019\",\"5/29/2019\",\"5/30/2019\",\"5/31/2019\",\"6/1/2019\",\"6/2/2019\",\"6/3/2019\",\"6/4/2019\",\"6/5/2019\",\"6/6/2019\",\"6/7/2019\",\"6/8/2019\",\"6/9/2019\",\"6/10/2019\",\"6/11/2019\",\"6/12/2019\",\"6/13/2019\",\"6/14/2019\",\"6/15/2019\",\"6/16/2019\",\"6/17/2019\",\"6/18/2019\",\"6/19/2019\",\"6/20/2019\",\"6/21/2019\",\"6/22/2019\",\"6/23/2019\",\"6/24/2019\",\"6/25/2019\",\"6/26/2019\",\"6/27/2019\",\"6/28/2019\",\"6/29/2019\",\"6/30/2019\",\"7/1/2019\",\"7/2/2019\",\"7/3/2019\",\"7/4/2019\",\"7/5/2019\",\"7/6/2019\",\"7/7/2019\",\"7/8/2019\",\"7/9/2019\",\"7/10/2019\",\"7/11/2019\",\"7/12/2019\",\"7/13/2019\",\"7/14/2019\",\"7/15/2019\",\"7/16/2019\",\"7/17/2019\",\"7/18/2019\",\"7/19/2019\",\"7/20/2019\",\"7/21/2019\",\"7/22/2019\",\"7/23/2019\",\"7/24/2019\",\"7/25/2019\",\"7/26/2019\",\"7/27/2019\",\"7/28/2019\",\"7/29/2019\",\"7/30/2019\",\"7/31/2019\",\"8/1/2019\",\"8/2/2019\",\"8/3/2019\",\"8/4/2019\",\"8/5/2019\",\"8/6/2019\",\"8/7/2019\",\"8/8/2019\",\"8/9/2019\",\"8/10/2019\",\"8/11/2019\",\"8/12/2019\",\"8/13/2019\",\"8/14/2019\",\"8/15/2019\",\"8/16/2019\",\"8/17/2019\",\"8/18/2019\",\"8/19/2019\",\"8/20/2019\",\"8/21/2019\",\"8/22/2019\",\"8/23/2019\",\"8/24/2019\",\"8/25/2019\",\"8/26/2019\",\"8/27/2019\",\"8/28/2019\",\"8/29/2019\",\"8/30/2019\",\"8/31/2019\",\"9/1/2019\",\"9/2/2019\",\"9/3/2019\",\"9/4/2019\",\"9/5/2019\",\"9/6/2019\",\"9/7/2019\",\"9/8/2019\",\"9/9/2019\",\"9/10/2019\",\"9/11/2019\",\"9/12/2019\",\"9/13/2019\",\"9/14/2019\",\"9/15/2019\",\"9/16/2019\",\"9/17/2019\",\"9/18/2019\",\"9/19/2019\",\"9/20/2019\",\"9/21/2019\",\"9/22/2019\",\"9/23/2019\",\"9/24/2019\",\"9/25/2019\",\"9/26/2019\",\"9/27/2019\",\"9/28/2019\",\"9/29/2019\",\"9/30/2019\",\"10/1/2019\",\"10/2/2019\",\"10/3/2019\",\"10/4/2019\",\"10/5/2019\",\"10/6/2019\",\"10/7/2019\",\"10/8/2019\",\"10/10/2019\",\"10/11/2019\",\"10/12/2019\",\"10/13/2019\",\"10/14/2019\",\"10/15/2019\",\"10/16/2019\",\"10/17/2019\",\"10/18/2019\",\"10/19/2019\",\"10/20/2019\",\"10/21/2019\",\"10/22/2019\",\"10/23/2019\",\"10/24/2019\",\"10/25/2019\",\"10/26/2019\",\"10/27/2019\",\"10/28/2019\",\"10/29/2019\",\"10/30/2019\",\"10/31/2019\",\"11/1/2019\",\"11/2/2019\",\"11/3/2019\",\"11/4/2019\",\"11/5/2019\",\"11/6/2019\",\"11/7/2019\",\"11/8/2019\",\"11/9/2019\",\"11/10/2019\",\"11/11/2019\",\"11/12/2019\",\"11/13/2019\",\"11/14/2019\",\"11/15/2019\",\"11/16/2019\",\"11/17/2019\",\"11/18/2019\",\"11/19/2019\",\"11/20/2019\",\"11/21/2019\",\"11/22/2019\",\"11/23/2019\",\"11/24/2019\",\"11/25/2019\",\"11/26/2019\",\"11/27/2019\",\"11/28/2019\",\"11/29/2019\",\"11/30/2019\",\"12/1/2019\",\"12/2/2019\",\"12/3/2019\",\"12/4/2019\",\"12/5/2019\",\"12/6/2019\",\"12/7/2019\",\"12/8/2019\",\"12/9/2019\",\"12/10/2019\",\"12/11/2019\",\"12/12/2019\",\"12/13/2019\",\"12/14/2019\",\"12/15/2019\",\"12/16/2019\",\"12/17/2019\",\"12/18/2019\",\"12/19/2019\",\"12/20/2019\",\"12/21/2019\",\"12/22/2019\",\"12/23/2019\",\"12/24/2019\",\"12/25/2019\",\"12/26/2019\",\"12/27/2019\",\"12/28/2019\",\"12/29/2019\",\"12/30/2019\",\"12/31/2019\"],\"y\":[1203,2361,1729,2481,1878,1442,1245,915,1249,1311,1444,1081,824,1281,1001,1447,1993,1853,1067,745,1306,953,1294,1435,2504,1578,1390,410,1683,1580,1462,1390,1344,896,1275,930,2107,2063,2042,1943,1009,1796,1796,1441,1185,1011,1760,1407,1944,1915,2101,2269,2703,3237,1355,2087,1830,2440,1669,3694,2235,1576,2031,1589,2178,2889,2294,2466,984,2169,1731,1180,2420,2464,2785,2689,2593,3188,2137,2741,2595,2992,1787,2238,2734,2813,2815,2285,4177,2234,2633,3949,2447,1748,1699,1858,1274,1595,1121,1145,1671,2564,2384,2461,2804,2044,1347,1071,969,1201,918,1190,1395,2820,1557,1754,3020,2361,2769,1291,1516,2204,1804,1855,1768,1989,1418,1582,2293,2092,1787,2163,1750,1256,2029,1725,2149,1995,1390,1277,2232,3831,1589,2885,2442,1676,2242,1183,1218,1639,1438,1256,1444,765,913,806,1130,1262,1482,1923,1617,1391,2408,2124,2170,1489,1617,1707,1467,2061,1437,1640,1934,1329,1593,965,1196,1595,1361,1128,974,1209,2184,1470,3130,1344,2115,910,1924,783,1389,601,1085,1036,948,1395,761,917,983,928,1306,1935,870,1176,451,747,829,1035,1549,862,563,451,285,1065,975,1196,740,1002,884,1083,801,886,833,425,1089,1195,1268,1187,683,897,799,1156,831,1041,735,802,703,312,513,758,447,611,426,867,556,972,775,1064,1037,1472,2136,1337,1186,1114,942,1575,1376,1474,1241,1305,807,482,853,1285,1105,1062,904,1006,723,835,299,954,1382,2684,2013,2229,2518,2352,1973,2733,2647,2329,2566,1821,1785,1791,1370,2016,2357,3124,3265,3209,2795,3139,3795,2925,3106,2572,2889,2524,3982,2139,1776,2908,2003,2739,2265,2572,2565,2845,3110,2085,2722,3016,3473,4883,2941,1837,1389,2783,1540,2076,1665,2655,2373,1845,1982,1922,1739,1539,1453,2586,1303,1911,2474,1757,2002,1640,1335,1346,1446,900,1901,1011,1696,2092,1496,1567,2638,1821,1839,1465,751,924,1111,648,1788,2107,2419,2034,1819,2248,1408,2039,2713,2024,2024,293,291,1283,1185,1495,2080,1564,1578,2296,881,2359,2333,2048,1239,162,539,1665,1405,2295,1267,1499,1013,1177,1028,1513,1232,1267,1684,907,2122,922,2979,1902,1378,2807,1384,2208,1710,1449,3249,2256,3188,1503,276,886,2298,2827,4278,2228,2670,3169,3101,2876,1384,2210,2538,2106,2530,2266,2193,3353,2061,2775,2506,2734,2710,3633,2909,3186,3000,3411,2857,3348,4704,2855,2109,2692,1638,1730,1848,2189,2218,1884,1167,545,1230,3414,3140,3504,2508,2367,1761,1330,652,1682,1088,1687,1452,1611,2439,1797,2272,3646,1796,1862,2538,3087,2576,2271,3515,1673,932,4006,2384,1969,2266,1993,2729,1494,2335,865,1654,2239,3365,2427,2148,1471,1545,2481,2116,1251,1299,1430,1579,968,1083,1703,2258,1377,1640,1578,1856,1577,1846,1479,2145,1678,872,1020,1033,938,1078,1581,1748,1090,1382,1309,1458,1642,973,1201,788,1813,1145,1449,1290,1430,1141,1017,1601,1841,860,990,1144,1276,609,844,1288,1639,1439,1468,1623,275,704,1859,1149,539,904,815,529,1837,556,720,371,714,515,594,480,1565,611,1427,932,585,508,737,820,1011,1140,1087,832,864,1087,1150,1211,1138,1084,665,436,1182,588,963,729,591,1074,612,1004,1010,763,1054,612,800,502,625,1076,1402,714,619,619,268,743,359,727,995,610,1305,270,1287,885,866,609,548,557,608,843,259,786,593,1438,1185,1281,1726,3665,2316,1443,1770,1332,1193,1179,1424,1898,1181,1881,1751,2754,2463,2687,2131,1894,2367,2112,2710,2166,2043,2551,2148,1960,2968,1785,2803,3001,1245,748,4155,2105,2287,2240,2509,3136,1873,2972,1368,1824,2229,2078,2575,2266,1234,2365,2336,3860,1759,1388,1461,2078,1490,1836,2344,2426,2260,1063,80,1996,1717,1422,1836,2377,1708,2483,2623,1550,3763,3317,2518,1201,1442,1370,1311,657,1459,888,632,1004,612,1303,655,675,768,741,1001,1088,1380,1463,2235,2019,1374,1882,1432,2347,1641,2067,1738,2519,1371,762,788,1001,1535,1047,1031,2427,409,883,324,61,162,79,272,271,728,850,578,519,203,385,730,1454,903,2020,1844,940,1226,1109,1605,1884,2138,1891,2315,1787,1914,2035,2403,2344,1126,1925,1738,2804,2209,2854,4325,2446,3290,2276,2892,2309,2179,606,693,2179,2079,3121,2928,3388,2101,2179,3471,2165,2657,2647,3123,2729,2956,2837,2780,3087,2638,2944,3787,2870,3157,3102,209,3399,3608,3185,2916,3653,1914,2529,2687,3706,3336,2890,3277,2150,3305,2468,2068,2669,2505,2418,1411,1947,1940,2288,1953,672,1623,2680,5153,5457,4844,3036,2230,1796,1249,1611,2535,1664,1741,2549,2818,2324,3133,1875,3063,3021,3270,3559,1512,2019,2168,2506,3226,1806,2449,2574,3464,1641,1961,2578,1848,2648,1984,1743,1612,1390,2819,2210,2214,1160,1615,1232,1265,1133,2004,2795,1810,1356,1558,1089,1930,2106,1835,1170,1669,1480,1368,1691,1291,2582,1350,1433,2323,1074,2181,960,1474,566,987,982,2012,1347,971,1345,923,1062,1212,974,1662,1199,783,680,627,978,446,1464,713,717,232,934,1580,654,1692,1271,816,548,567,1216,507,1270,799,754,600,638,668,934,1034,726,765,514,628,1573,1092,1215,1080,1058,640,640,2118,1082,2343,785,913,825,812,853,958,872,572,556,289,600,900,678,1129,889,1569,865,1457,1486,1499,1809,1514,2624,1541,1694,2144,1102,1511,1987,2911,1785,1427,1802,1375,1805,1203,1777,631,1360,1877,1046,955,1305,1115,1346,1651,390,1622,1778,1735,1534,1547,1929,3375,2880,1764,2368,2095,2110,1666,1934,3269,2026,2031,2703,2987,3038,3799,3613,2688,2584,2793,2886,3284,3579,2790,2364,4392,2211,2794,2811,2727,3570,2269,2488,2025,2767,2728,2699,1830,2279,2575,2029,2733,2765,2581,2351,1412,1907,1578,2381,1431,1573,2072,1609,2947,1917,1251,2221,1222,2142,1098,1609,497,1054,971,895,878,1202,1637,563,1457,4721,3811,3215,1514,3161,2170,4101,3140],\"type\":\"scatter\"},{\"marker\":{\"line\":{\"width\":1},\"size\":6},\"mode\":\"markers\",\"name\":\"Tourist Visitors\",\"x\":[\"1/1/2017\",\"1/2/2017\",\"1/3/2017\",\"1/4/2017\",\"1/5/2017\",\"1/6/2017\",\"1/7/2017\",\"1/8/2017\",\"1/9/2017\",\"1/10/2017\",\"1/11/2017\",\"1/12/2017\",\"1/13/2017\",\"1/14/2017\",\"1/15/2017\",\"1/16/2017\",\"1/17/2017\",\"1/18/2017\",\"1/19/2017\",\"1/20/2017\",\"1/21/2017\",\"1/22/2017\",\"1/23/2017\",\"1/24/2017\",\"1/25/2017\",\"1/26/2017\",\"1/27/2017\",\"1/28/2017\",\"1/29/2017\",\"1/30/2017\",\"1/31/2017\",\"2/1/2017\",\"2/2/2017\",\"2/3/2017\",\"2/4/2017\",\"2/5/2017\",\"2/6/2017\",\"2/7/2017\",\"2/8/2017\",\"2/9/2017\",\"2/10/2017\",\"2/11/2017\",\"2/12/2017\",\"2/13/2017\",\"2/14/2017\",\"2/15/2017\",\"2/16/2017\",\"2/17/2017\",\"2/18/2017\",\"2/19/2017\",\"2/20/2017\",\"2/21/2017\",\"2/22/2017\",\"2/23/2017\",\"2/24/2017\",\"2/25/2017\",\"2/26/2017\",\"2/27/2017\",\"2/28/2017\",\"3/1/2017\",\"3/2/2017\",\"3/3/2017\",\"3/4/2017\",\"3/5/2017\",\"3/6/2017\",\"3/7/2017\",\"3/8/2017\",\"3/9/2017\",\"3/10/2017\",\"3/11/2017\",\"3/12/2017\",\"3/13/2017\",\"3/14/2017\",\"3/15/2017\",\"3/16/2017\",\"3/17/2017\",\"3/18/2017\",\"3/19/2017\",\"3/20/2017\",\"3/21/2017\",\"3/22/2017\",\"3/23/2017\",\"3/24/2017\",\"3/25/2017\",\"3/26/2017\",\"3/27/2017\",\"3/28/2017\",\"3/29/2017\",\"3/30/2017\",\"3/31/2017\",\"4/1/2017\",\"4/2/2017\",\"4/3/2017\",\"4/4/2017\",\"4/5/2017\",\"4/6/2017\",\"4/7/2017\",\"4/8/2017\",\"4/9/2017\",\"4/10/2017\",\"4/11/2017\",\"4/12/2017\",\"4/13/2017\",\"4/14/2017\",\"4/15/2017\",\"4/16/2017\",\"4/17/2017\",\"4/18/2017\",\"4/19/2017\",\"4/20/2017\",\"4/21/2017\",\"4/22/2017\",\"4/23/2017\",\"4/24/2017\",\"4/25/2017\",\"4/26/2017\",\"4/27/2017\",\"4/28/2017\",\"4/29/2017\",\"4/30/2017\",\"5/1/2017\",\"5/2/2017\",\"5/3/2017\",\"5/4/2017\",\"5/5/2017\",\"5/6/2017\",\"5/7/2017\",\"5/8/2017\",\"5/9/2017\",\"5/10/2017\",\"5/11/2017\",\"5/12/2017\",\"5/13/2017\",\"5/14/2017\",\"5/15/2017\",\"5/16/2017\",\"5/17/2017\",\"5/18/2017\",\"5/19/2017\",\"5/20/2017\",\"5/21/2017\",\"5/22/2017\",\"5/23/2017\",\"5/24/2017\",\"5/25/2017\",\"5/26/2017\",\"5/27/2017\",\"5/28/2017\",\"5/29/2017\",\"5/30/2017\",\"5/31/2017\",\"6/1/2017\",\"6/2/2017\",\"6/3/2017\",\"6/4/2017\",\"6/5/2017\",\"6/6/2017\",\"6/7/2017\",\"6/8/2017\",\"6/9/2017\",\"6/10/2017\",\"6/11/2017\",\"6/12/2017\",\"6/13/2017\",\"6/14/2017\",\"6/15/2017\",\"6/16/2017\",\"6/17/2017\",\"6/18/2017\",\"6/19/2017\",\"6/20/2017\",\"6/21/2017\",\"6/22/2017\",\"6/23/2017\",\"6/24/2017\",\"6/25/2017\",\"6/26/2017\",\"6/27/2017\",\"6/28/2017\",\"6/29/2017\",\"6/30/2017\",\"7/1/2017\",\"7/2/2017\",\"7/3/2017\",\"7/4/2017\",\"7/5/2017\",\"7/6/2017\",\"7/7/2017\",\"7/8/2017\",\"7/9/2017\",\"7/10/2017\",\"7/11/2017\",\"7/12/2017\",\"7/13/2017\",\"7/14/2017\",\"7/15/2017\",\"7/16/2017\",\"7/17/2017\",\"7/18/2017\",\"7/19/2017\",\"7/20/2017\",\"7/21/2017\",\"7/22/2017\",\"7/23/2017\",\"7/24/2017\",\"7/25/2017\",\"7/26/2017\",\"7/27/2017\",\"7/28/2017\",\"7/29/2017\",\"7/31/2017\",\"8/1/2017\",\"8/2/2017\",\"8/3/2017\",\"8/4/2017\",\"8/5/2017\",\"8/6/2017\",\"8/7/2017\",\"8/8/2017\",\"8/9/2017\",\"8/10/2017\",\"8/11/2017\",\"8/12/2017\",\"8/13/2017\",\"8/14/2017\",\"8/15/2017\",\"8/16/2017\",\"8/17/2017\",\"8/18/2017\",\"8/19/2017\",\"8/20/2017\",\"8/21/2017\",\"8/22/2017\",\"8/23/2017\",\"8/24/2017\",\"8/25/2017\",\"8/26/2017\",\"8/27/2017\",\"8/28/2017\",\"8/29/2017\",\"8/30/2017\",\"8/31/2017\",\"9/1/2017\",\"9/2/2017\",\"9/3/2017\",\"9/4/2017\",\"9/5/2017\",\"9/6/2017\",\"9/7/2017\",\"9/8/2017\",\"9/9/2017\",\"9/10/2017\",\"9/11/2017\",\"9/12/2017\",\"9/13/2017\",\"9/14/2017\",\"9/15/2017\",\"9/16/2017\",\"9/17/2017\",\"9/18/2017\",\"9/19/2017\",\"9/20/2017\",\"9/21/2017\",\"9/22/2017\",\"9/23/2017\",\"9/24/2017\",\"9/25/2017\",\"9/26/2017\",\"9/27/2017\",\"9/28/2017\",\"9/29/2017\",\"10/1/2017\",\"10/2/2017\",\"10/3/2017\",\"10/4/2017\",\"10/5/2017\",\"10/6/2017\",\"10/7/2017\",\"10/8/2017\",\"10/9/2017\",\"10/10/2017\",\"10/11/2017\",\"10/12/2017\",\"10/13/2017\",\"10/14/2017\",\"10/15/2017\",\"10/16/2017\",\"10/17/2017\",\"10/18/2017\",\"10/19/2017\",\"10/20/2017\",\"10/21/2017\",\"10/22/2017\",\"10/23/2017\",\"10/24/2017\",\"10/25/2017\",\"10/26/2017\",\"10/27/2017\",\"10/28/2017\",\"10/29/2017\",\"10/30/2017\",\"10/31/2017\",\"11/1/2017\",\"11/2/2017\",\"11/3/2017\",\"11/4/2017\",\"11/5/2017\",\"11/6/2017\",\"11/7/2017\",\"11/8/2017\",\"11/9/2017\",\"11/10/2017\",\"11/11/2017\",\"11/12/2017\",\"11/13/2017\",\"11/14/2017\",\"11/15/2017\",\"11/16/2017\",\"11/17/2017\",\"11/18/2017\",\"11/19/2017\",\"11/20/2017\",\"11/21/2017\",\"11/22/2017\",\"11/23/2017\",\"11/24/2017\",\"11/25/2017\",\"11/26/2017\",\"11/27/2017\",\"11/28/2017\",\"11/29/2017\",\"11/30/2017\",\"12/1/2017\",\"12/2/2017\",\"12/3/2017\",\"12/4/2017\",\"12/5/2017\",\"12/6/2017\",\"12/7/2017\",\"12/8/2017\",\"12/9/2017\",\"12/10/2017\",\"12/11/2017\",\"12/12/2017\",\"12/13/2017\",\"12/14/2017\",\"12/15/2017\",\"12/16/2017\",\"12/17/2017\",\"12/18/2017\",\"12/19/2017\",\"12/20/2017\",\"12/21/2017\",\"12/22/2017\",\"12/23/2017\",\"12/24/2017\",\"12/25/2017\",\"12/26/2017\",\"12/27/2017\",\"12/28/2017\",\"12/29/2017\",\"12/30/2017\",\"12/31/2017\",\"1/1/2018\",\"1/2/2018\",\"1/3/2018\",\"1/4/2018\",\"1/5/2018\",\"1/6/2018\",\"1/7/2018\",\"1/8/2018\",\"1/9/2018\",\"1/10/2018\",\"1/11/2018\",\"1/12/2018\",\"1/13/2018\",\"1/14/2018\",\"1/15/2018\",\"1/16/2018\",\"1/17/2018\",\"1/18/2018\",\"1/19/2018\",\"1/20/2018\",\"1/21/2018\",\"1/22/2018\",\"1/23/2018\",\"1/24/2018\",\"1/25/2018\",\"1/26/2018\",\"1/27/2018\",\"1/28/2018\",\"1/29/2018\",\"1/30/2018\",\"1/31/2018\",\"2/1/2018\",\"2/2/2018\",\"2/3/2018\",\"2/4/2018\",\"2/5/2018\",\"2/6/2018\",\"2/7/2018\",\"2/8/2018\",\"2/9/2018\",\"2/10/2018\",\"2/11/2018\",\"2/12/2018\",\"2/13/2018\",\"2/14/2018\",\"2/15/2018\",\"2/16/2018\",\"2/17/2018\",\"2/18/2018\",\"2/19/2018\",\"2/20/2018\",\"2/21/2018\",\"2/22/2018\",\"2/23/2018\",\"2/24/2018\",\"2/25/2018\",\"2/26/2018\",\"2/27/2018\",\"2/28/2018\",\"3/1/2018\",\"3/2/2018\",\"3/3/2018\",\"3/4/2018\",\"3/5/2018\",\"3/6/2018\",\"3/7/2018\",\"3/8/2018\",\"3/9/2018\",\"3/10/2018\",\"3/11/2018\",\"3/12/2018\",\"3/13/2018\",\"3/14/2018\",\"3/15/2018\",\"3/16/2018\",\"3/17/2018\",\"3/18/2018\",\"3/19/2018\",\"3/20/2018\",\"3/21/2018\",\"3/22/2018\",\"3/23/2018\",\"3/24/2018\",\"3/25/2018\",\"3/26/2018\",\"3/27/2018\",\"3/28/2018\",\"3/29/2018\",\"3/30/2018\",\"3/31/2018\",\"4/1/2018\",\"4/2/2018\",\"4/3/2018\",\"4/4/2018\",\"4/5/2018\",\"4/6/2018\",\"4/7/2018\",\"4/8/2018\",\"4/9/2018\",\"4/10/2018\",\"4/11/2018\",\"4/12/2018\",\"4/13/2018\",\"4/14/2018\",\"4/15/2018\",\"4/16/2018\",\"4/17/2018\",\"4/18/2018\",\"4/19/2018\",\"4/20/2018\",\"4/21/2018\",\"4/22/2018\",\"4/23/2018\",\"4/24/2018\",\"4/25/2018\",\"4/26/2018\",\"4/29/2018\",\"4/30/2018\",\"5/1/2018\",\"5/2/2018\",\"5/3/2018\",\"5/4/2018\",\"5/5/2018\",\"5/6/2018\",\"5/7/2018\",\"5/8/2018\",\"5/9/2018\",\"5/10/2018\",\"5/11/2018\",\"5/12/2018\",\"5/13/2018\",\"5/14/2018\",\"5/15/2018\",\"5/16/2018\",\"5/17/2018\",\"5/18/2018\",\"5/19/2018\",\"5/20/2018\",\"5/21/2018\",\"5/22/2018\",\"5/23/2018\",\"5/24/2018\",\"5/25/2018\",\"5/26/2018\",\"5/27/2018\",\"5/28/2018\",\"5/29/2018\",\"5/30/2018\",\"5/31/2018\",\"6/1/2018\",\"6/2/2018\",\"6/3/2018\",\"6/4/2018\",\"6/5/2018\",\"6/6/2018\",\"6/7/2018\",\"6/8/2018\",\"6/9/2018\",\"6/10/2018\",\"6/11/2018\",\"6/12/2018\",\"6/13/2018\",\"6/14/2018\",\"6/15/2018\",\"6/16/2018\",\"6/17/2018\",\"6/18/2018\",\"6/19/2018\",\"6/20/2018\",\"6/21/2018\",\"6/22/2018\",\"6/23/2018\",\"6/24/2018\",\"6/25/2018\",\"6/26/2018\",\"6/27/2018\",\"6/28/2018\",\"6/29/2018\",\"6/30/2018\",\"7/1/2018\",\"7/2/2018\",\"7/3/2018\",\"7/4/2018\",\"7/5/2018\",\"7/6/2018\",\"7/7/2018\",\"7/8/2018\",\"7/9/2018\",\"7/10/2018\",\"7/11/2018\",\"7/12/2018\",\"7/13/2018\",\"7/14/2018\",\"7/15/2018\",\"7/16/2018\",\"7/17/2018\",\"7/18/2018\",\"7/19/2018\",\"7/20/2018\",\"7/21/2018\",\"7/22/2018\",\"7/23/2018\",\"7/24/2018\",\"7/25/2018\",\"7/26/2018\",\"7/27/2018\",\"7/28/2018\",\"7/29/2018\",\"7/30/2018\",\"7/31/2018\",\"8/1/2018\",\"8/2/2018\",\"8/3/2018\",\"8/4/2018\",\"8/5/2018\",\"8/6/2018\",\"8/7/2018\",\"8/8/2018\",\"8/9/2018\",\"8/10/2018\",\"8/11/2018\",\"8/12/2018\",\"8/13/2018\",\"8/14/2018\",\"8/15/2018\",\"8/16/2018\",\"8/17/2018\",\"8/18/2018\",\"8/19/2018\",\"8/20/2018\",\"8/21/2018\",\"8/22/2018\",\"8/23/2018\",\"8/24/2018\",\"8/25/2018\",\"8/26/2018\",\"8/27/2018\",\"8/28/2018\",\"8/29/2018\",\"8/30/2018\",\"8/31/2018\",\"9/1/2018\",\"9/2/2018\",\"9/3/2018\",\"9/4/2018\",\"9/5/2018\",\"9/6/2018\",\"9/7/2018\",\"9/8/2018\",\"9/9/2018\",\"9/10/2018\",\"9/11/2018\",\"9/12/2018\",\"9/13/2018\",\"9/14/2018\",\"9/15/2018\",\"9/16/2018\",\"9/17/2018\",\"9/18/2018\",\"9/20/2018\",\"9/21/2018\",\"9/22/2018\",\"9/23/2018\",\"9/24/2018\",\"9/25/2018\",\"9/26/2018\",\"9/27/2018\",\"9/28/2018\",\"9/29/2018\",\"9/30/2018\",\"10/1/2018\",\"10/2/2018\",\"10/3/2018\",\"10/4/2018\",\"10/5/2018\",\"10/6/2018\",\"10/7/2018\",\"10/8/2018\",\"10/9/2018\",\"10/10/2018\",\"10/11/2018\",\"10/12/2018\",\"10/13/2018\",\"10/14/2018\",\"10/15/2018\",\"10/16/2018\",\"10/17/2018\",\"10/18/2018\",\"10/19/2018\",\"10/20/2018\",\"10/21/2018\",\"10/22/2018\",\"10/23/2018\",\"10/24/2018\",\"10/25/2018\",\"10/26/2018\",\"10/27/2018\",\"10/28/2018\",\"10/29/2018\",\"10/30/2018\",\"10/31/2018\",\"11/1/2018\",\"11/2/2018\",\"11/3/2018\",\"11/4/2018\",\"11/5/2018\",\"11/6/2018\",\"11/7/2018\",\"11/8/2018\",\"11/9/2018\",\"11/10/2018\",\"11/11/2018\",\"11/12/2018\",\"11/13/2018\",\"11/14/2018\",\"11/15/2018\",\"11/16/2018\",\"11/17/2018\",\"11/18/2018\",\"11/19/2018\",\"11/20/2018\",\"11/21/2018\",\"11/22/2018\",\"11/23/2018\",\"11/24/2018\",\"11/25/2018\",\"11/26/2018\",\"11/27/2018\",\"11/28/2018\",\"11/29/2018\",\"11/30/2018\",\"12/1/2018\",\"12/2/2018\",\"12/3/2018\",\"12/4/2018\",\"12/5/2018\",\"12/6/2018\",\"12/7/2018\",\"12/8/2018\",\"12/9/2018\",\"12/10/2018\",\"12/11/2018\",\"12/12/2018\",\"12/13/2018\",\"12/14/2018\",\"12/15/2018\",\"12/16/2018\",\"12/17/2018\",\"12/18/2018\",\"12/19/2018\",\"12/20/2018\",\"12/21/2018\",\"12/22/2018\",\"12/23/2018\",\"12/24/2018\",\"12/25/2018\",\"12/26/2018\",\"12/27/2018\",\"12/28/2018\",\"12/29/2018\",\"12/30/2018\",\"12/31/2018\",\"1/1/2019\",\"1/2/2019\",\"1/3/2019\",\"1/4/2019\",\"1/5/2019\",\"1/6/2019\",\"1/7/2019\",\"1/8/2019\",\"1/9/2019\",\"1/10/2019\",\"1/11/2019\",\"1/12/2019\",\"1/13/2019\",\"1/14/2019\",\"1/15/2019\",\"1/16/2019\",\"1/17/2019\",\"1/18/2019\",\"1/19/2019\",\"1/20/2019\",\"1/21/2019\",\"1/22/2019\",\"1/23/2019\",\"1/24/2019\",\"1/25/2019\",\"1/26/2019\",\"1/27/2019\",\"1/28/2019\",\"1/29/2019\",\"1/30/2019\",\"1/31/2019\",\"2/1/2019\",\"2/2/2019\",\"2/3/2019\",\"2/4/2019\",\"2/5/2019\",\"2/6/2019\",\"2/8/2019\",\"2/9/2019\",\"2/10/2019\",\"2/11/2019\",\"2/12/2019\",\"2/13/2019\",\"2/14/2019\",\"2/15/2019\",\"2/16/2019\",\"2/17/2019\",\"2/18/2019\",\"2/19/2019\",\"2/20/2019\",\"2/21/2019\",\"2/22/2019\",\"2/23/2019\",\"2/24/2019\",\"2/25/2019\",\"2/26/2019\",\"2/27/2019\",\"2/28/2019\",\"3/1/2019\",\"3/2/2019\",\"3/3/2019\",\"3/4/2019\",\"3/5/2019\",\"3/6/2019\",\"3/7/2019\",\"3/8/2019\",\"3/9/2019\",\"3/10/2019\",\"3/11/2019\",\"3/12/2019\",\"3/13/2019\",\"3/14/2019\",\"3/15/2019\",\"3/16/2019\",\"3/17/2019\",\"3/18/2019\",\"3/19/2019\",\"3/20/2019\",\"3/21/2019\",\"3/22/2019\",\"3/23/2019\",\"3/24/2019\",\"3/25/2019\",\"3/26/2019\",\"3/27/2019\",\"3/28/2019\",\"3/29/2019\",\"3/30/2019\",\"3/31/2019\",\"4/1/2019\",\"4/2/2019\",\"4/3/2019\",\"4/4/2019\",\"4/5/2019\",\"4/6/2019\",\"4/7/2019\",\"4/8/2019\",\"4/9/2019\",\"4/10/2019\",\"4/11/2019\",\"4/12/2019\",\"4/13/2019\",\"4/14/2019\",\"4/15/2019\",\"4/16/2019\",\"4/17/2019\",\"4/18/2019\",\"4/19/2019\",\"4/20/2019\",\"4/21/2019\",\"4/22/2019\",\"4/23/2019\",\"4/24/2019\",\"4/25/2019\",\"4/26/2019\",\"4/27/2019\",\"4/28/2019\",\"4/29/2019\",\"4/30/2019\",\"5/1/2019\",\"5/2/2019\",\"5/3/2019\",\"5/4/2019\",\"5/5/2019\",\"5/6/2019\",\"5/7/2019\",\"5/8/2019\",\"5/9/2019\",\"5/10/2019\",\"5/11/2019\",\"5/12/2019\",\"5/13/2019\",\"5/14/2019\",\"5/15/2019\",\"5/16/2019\",\"5/17/2019\",\"5/18/2019\",\"5/19/2019\",\"5/20/2019\",\"5/21/2019\",\"5/22/2019\",\"5/23/2019\",\"5/24/2019\",\"5/25/2019\",\"5/26/2019\",\"5/27/2019\",\"5/28/2019\",\"5/29/2019\",\"5/30/2019\",\"5/31/2019\",\"6/1/2019\",\"6/2/2019\",\"6/3/2019\",\"6/4/2019\",\"6/5/2019\",\"6/6/2019\",\"6/7/2019\",\"6/8/2019\",\"6/9/2019\",\"6/10/2019\",\"6/11/2019\",\"6/12/2019\",\"6/13/2019\",\"6/14/2019\",\"6/15/2019\",\"6/16/2019\",\"6/17/2019\",\"6/18/2019\",\"6/19/2019\",\"6/20/2019\",\"6/21/2019\",\"6/22/2019\",\"6/23/2019\",\"6/24/2019\",\"6/25/2019\",\"6/26/2019\",\"6/27/2019\",\"6/28/2019\",\"6/29/2019\",\"6/30/2019\",\"7/1/2019\",\"7/2/2019\",\"7/3/2019\",\"7/4/2019\",\"7/5/2019\",\"7/6/2019\",\"7/7/2019\",\"7/8/2019\",\"7/9/2019\",\"7/10/2019\",\"7/11/2019\",\"7/12/2019\",\"7/13/2019\",\"7/14/2019\",\"7/15/2019\",\"7/16/2019\",\"7/17/2019\",\"7/18/2019\",\"7/19/2019\",\"7/20/2019\",\"7/21/2019\",\"7/22/2019\",\"7/23/2019\",\"7/24/2019\",\"7/25/2019\",\"7/26/2019\",\"7/27/2019\",\"7/28/2019\",\"7/29/2019\",\"7/30/2019\",\"7/31/2019\",\"8/1/2019\",\"8/2/2019\",\"8/3/2019\",\"8/4/2019\",\"8/5/2019\",\"8/6/2019\",\"8/7/2019\",\"8/8/2019\",\"8/9/2019\",\"8/10/2019\",\"8/11/2019\",\"8/12/2019\",\"8/13/2019\",\"8/14/2019\",\"8/15/2019\",\"8/16/2019\",\"8/17/2019\",\"8/18/2019\",\"8/19/2019\",\"8/20/2019\",\"8/21/2019\",\"8/22/2019\",\"8/23/2019\",\"8/24/2019\",\"8/25/2019\",\"8/26/2019\",\"8/27/2019\",\"8/28/2019\",\"8/29/2019\",\"8/30/2019\",\"8/31/2019\",\"9/1/2019\",\"9/2/2019\",\"9/3/2019\",\"9/4/2019\",\"9/5/2019\",\"9/6/2019\",\"9/7/2019\",\"9/8/2019\",\"9/9/2019\",\"9/10/2019\",\"9/11/2019\",\"9/12/2019\",\"9/13/2019\",\"9/14/2019\",\"9/15/2019\",\"9/16/2019\",\"9/17/2019\",\"9/18/2019\",\"9/19/2019\",\"9/20/2019\",\"9/21/2019\",\"9/22/2019\",\"9/23/2019\",\"9/24/2019\",\"9/25/2019\",\"9/26/2019\",\"9/27/2019\",\"9/28/2019\",\"9/29/2019\",\"9/30/2019\",\"10/1/2019\",\"10/2/2019\",\"10/3/2019\",\"10/4/2019\",\"10/5/2019\",\"10/6/2019\",\"10/7/2019\",\"10/8/2019\",\"10/10/2019\",\"10/11/2019\",\"10/12/2019\",\"10/13/2019\",\"10/14/2019\",\"10/15/2019\",\"10/16/2019\",\"10/17/2019\",\"10/18/2019\",\"10/19/2019\",\"10/20/2019\",\"10/21/2019\",\"10/22/2019\",\"10/23/2019\",\"10/24/2019\",\"10/25/2019\",\"10/26/2019\",\"10/27/2019\",\"10/28/2019\",\"10/29/2019\",\"10/30/2019\",\"10/31/2019\",\"11/1/2019\",\"11/2/2019\",\"11/3/2019\",\"11/4/2019\",\"11/5/2019\",\"11/6/2019\",\"11/7/2019\",\"11/8/2019\",\"11/9/2019\",\"11/10/2019\",\"11/11/2019\",\"11/12/2019\",\"11/13/2019\",\"11/14/2019\",\"11/15/2019\",\"11/16/2019\",\"11/17/2019\",\"11/18/2019\",\"11/19/2019\",\"11/20/2019\",\"11/21/2019\",\"11/22/2019\",\"11/23/2019\",\"11/24/2019\",\"11/25/2019\",\"11/26/2019\",\"11/27/2019\",\"11/28/2019\",\"11/29/2019\",\"11/30/2019\",\"12/1/2019\",\"12/2/2019\",\"12/3/2019\",\"12/4/2019\",\"12/5/2019\",\"12/6/2019\",\"12/7/2019\",\"12/8/2019\",\"12/9/2019\",\"12/10/2019\",\"12/11/2019\",\"12/12/2019\",\"12/13/2019\",\"12/14/2019\",\"12/15/2019\",\"12/16/2019\",\"12/17/2019\",\"12/18/2019\",\"12/19/2019\",\"12/20/2019\",\"12/21/2019\",\"12/22/2019\",\"12/23/2019\",\"12/24/2019\",\"12/25/2019\",\"12/26/2019\",\"12/27/2019\",\"12/28/2019\",\"12/29/2019\",\"12/30/2019\",\"12/31/2019\"],\"y\":[2306,2765,2485,1535,1153,1157,731,832,1723,1076,1669,660,1032,1014,540,846,1031,1745,456,655,1196,695,1102,601,745,255,792,601,602,792,844,804,847,872,1103,614,1496,597,777,708,1108,1321,1264,1225,1025,896,899,1435,2137,1853,1506,1422,1346,1476,1402,2410,1344,1182,1981,1278,1996,1279,1636,809,1461,1251,1723,1351,1363,2405,2074,787,1657,1890,1600,3129,2178,1846,1874,1923,1545,2196,1720,2005,2074,1737,1742,1329,1712,1427,2242,1602,984,902,1289,1127,1497,1675,1381,597,846,1146,1777,798,1832,1584,1137,948,740,972,1228,1594,907,2402,1667,2814,3744,2159,2156,1907,1488,1946,1692,1763,1679,2507,1493,1563,1050,2191,1331,2184,1678,1133,1521,1114,1730,1448,2308,2071,1784,4789,2424,2117,1810,2603,2081,1228,1165,575,1134,1425,1170,1411,1043,1268,1069,1189,751,2199,1569,1621,3436,2075,2086,1486,1121,1560,487,2328,893,900,1058,1948,1421,679,1245,2276,1313,1353,919,1016,900,1137,1231,1310,1111,1294,570,774,1952,1724,1655,1194,766,671,1439,1823,2239,1511,990,1630,973,262,1865,958,1280,790,1470,542,1375,1111,952,842,979,803,942,2135,1024,1633,1272,938,783,948,1527,1019,1168,927,1052,765,724,1160,1023,941,1402,522,806,603,772,778,520,337,494,748,689,798,759,510,1594,1417,2137,1162,1936,1479,1479,1779,1414,1568,782,683,658,649,582,993,617,281,730,551,520,726,351,758,1059,617,1563,1480,2532,1831,1483,1513,856,795,1670,813,1482,918,1421,1412,1838,1839,1472,3513,2855,2482,3428,3056,2874,3163,3665,2571,2281,3412,3550,2829,2017,3726,2945,2301,1460,2367,1996,2314,3125,2658,2474,1955,2051,2599,1947,2575,953,1640,1885,1812,1592,2182,2351,1233,1174,753,1591,606,1544,1717,2014,1179,1357,1168,1022,995,1525,702,620,1016,533,904,905,1077,673,1239,1216,959,555,1105,1266,1176,1887,2877,2134,2492,2488,3317,2505,2236,3655,3764,2009,0,296,1320,1972,1273,1937,1406,944,1701,1365,1070,1351,1600,1149,166,690,1387,1035,1683,1243,852,512,1258,891,888,1089,817,842,936,1748,1109,993,1312,1216,1499,1424,1477,1637,1602,1243,2669,1920,1808,90,524,2651,2378,1413,1888,2098,2695,2661,1871,1351,1538,1618,1319,1918,1832,1557,2499,1966,1764,2017,4347,3357,3338,3101,2630,2242,3232,3266,2427,2345,2490,2504,2170,2470,2028,2284,2289,2047,1526,1472,843,1996,1965,2120,1810,2846,1116,1575,1419,1333,1003,1389,1815,1265,1780,2850,1926,3862,3004,1950,2304,2032,3012,2249,2925,3266,2289,1052,3672,4017,3825,2864,3211,2451,2992,2957,1795,1826,2939,1998,2454,3661,2562,3081,2233,1811,1580,2557,2241,2155,1860,1462,1814,1928,2261,3007,2496,3009,3218,3493,3611,3082,2062,1651,2427,2425,2172,1748,2195,2129,1781,2529,2846,2064,2076,1781,2313,1214,2130,1911,1137,2120,1260,2378,1401,1703,2448,1775,1890,981,1788,1051,2262,1847,1668,2070,1228,1717,1009,1948,1308,2191,1813,1176,1260,1496,1292,1800,1311,1413,1812,1297,676,1963,1522,1757,1714,1137,1112,1409,1597,1770,1454,1627,1057,1551,665,1754,1773,1386,1370,1004,1277,730,1248,1908,1165,1033,924,1219,1328,1457,1620,1248,1175,1080,1676,849,1324,922,732,1027,946,1184,622,1086,770,1031,1045,1108,1673,965,1216,1241,632,1206,661,1090,1090,717,361,595,865,1011,1681,1316,982,1864,947,1405,1727,1371,1374,1518,1920,978,1956,2842,2549,2773,2660,2510,3369,3629,4195,3082,3267,2337,3003,3914,2805,3630,3708,3536,2877,3593,1338,941,4716,3953,3616,3389,2447,3490,2762,4541,2579,2455,2622,2634,3055,3265,1684,3738,3402,4514,2495,2184,1974,2923,2375,2489,2292,3020,2685,1444,252,1905,1495,1447,1872,1737,1995,2902,2921,1672,1639,1883,1232,934,1335,1379,1508,1290,633,625,515,1293,746,941,865,1121,857,695,1350,1293,2186,3348,4192,2830,2984,4278,3397,5325,4162,3674,2899,3276,1782,1265,1410,1746,1500,1485,1414,1943,221,1082,835,339,145,469,398,198,827,673,682,298,632,406,232,1655,1546,1082,1061,1220,1427,1387,2142,1238,1684,1896,2761,2324,1776,1722,2164,2175,1909,2713,2866,2309,2528,2928,2841,2634,3118,2885,2378,2585,1724,441,1475,3400,2214,2497,2261,3140,2171,2027,4040,2620,2664,2499,3530,2247,3524,3279,2996,3253,3571,3091,3675,3251,5069,3750,203,4231,3826,3191,3076,4436,3860,2805,3115,3349,3015,2877,4548,2310,2667,2993,2966,2892,2861,3071,1938,2583,2755,3267,2501,976,2640,1895,2625,2106,2442,1939,1839,1873,1394,1801,2180,2248,2711,2832,4180,2869,2781,3261,2385,2807,1733,2474,2268,3493,2918,3448,2031,3174,2991,1925,3208,2857,3372,2494,1521,2726,2377,3635,2987,3434,1786,3004,3721,2139,3646,2965,2550,1997,1995,2589,2262,1118,2081,1983,2418,2079,3085,2170,2205,3605,2980,2431,1889,2405,1627,2607,3033,2675,2207,1425,2476,1038,2279,2142,1870,1538,1680,1558,1554,2302,2488,2213,2128,1562,1787,1483,2609,1735,1533,1653,1530,1436,1023,2238,2218,2460,1921,1828,1719,1178,2050,1756,1743,1388,1126,1387,1194,2444,1565,1590,1787,914,2071,915,1451,1974,1604,1699,1226,1999,1011,2205,2012,1807,2172,1352,1407,1559,1728,1379,1156,1183,922,1100,728,1236,1093,1536,1540,1722,2357,1867,2329,2235,3125,2937,2726,3549,2704,2438,3639,3215,2634,3127,4296,2954,2018,2282,2948,2809,1773,2388,1451,1838,1896,2013,1629,3317,3078,2609,2123,855,2286,1749,1817,2245,2281,1633,2728,2503,1620,2075,1907,2834,2285,3122,2204,2381,2861,3248,4280,4443,4035,4435,3689,4566,3706,4024,3748,3859,3864,3154,5680,3429,3323,3277,3356,3892,2619,3706,2635,3029,2906,3060,2869,2596,3457,2480,2310,2127,2944,1763,1930,2606,2148,1543,1285,1809,1700,1811,3192,2674,921,2222,1394,1202,1154,1340,911,1361,924,859,1184,880,1128,1052,2797,2104,3657,2678,2263,4022,4239,5838,3043],\"type\":\"scatter\"}],                        {\"template\":{\"data\":{\"bar\":[{\"error_x\":{\"color\":\"#2a3f5f\"},\"error_y\":{\"color\":\"#2a3f5f\"},\"marker\":{\"line\":{\"color\":\"#E5ECF6\",\"width\":0.5},\"pattern\":{\"fillmode\":\"overlay\",\"size\":10,\"solidity\":0.2}},\"type\":\"bar\"}],\"barpolar\":[{\"marker\":{\"line\":{\"color\":\"#E5ECF6\",\"width\":0.5},\"pattern\":{\"fillmode\":\"overlay\",\"size\":10,\"solidity\":0.2}},\"type\":\"barpolar\"}],\"carpet\":[{\"aaxis\":{\"endlinecolor\":\"#2a3f5f\",\"gridcolor\":\"white\",\"linecolor\":\"white\",\"minorgridcolor\":\"white\",\"startlinecolor\":\"#2a3f5f\"},\"baxis\":{\"endlinecolor\":\"#2a3f5f\",\"gridcolor\":\"white\",\"linecolor\":\"white\",\"minorgridcolor\":\"white\",\"startlinecolor\":\"#2a3f5f\"},\"type\":\"carpet\"}],\"choropleth\":[{\"colorbar\":{\"outlinewidth\":0,\"ticks\":\"\"},\"type\":\"choropleth\"}],\"contour\":[{\"colorbar\":{\"outlinewidth\":0,\"ticks\":\"\"},\"colorscale\":[[0.0,\"#0d0887\"],[0.1111111111111111,\"#46039f\"],[0.2222222222222222,\"#7201a8\"],[0.3333333333333333,\"#9c179e\"],[0.4444444444444444,\"#bd3786\"],[0.5555555555555556,\"#d8576b\"],[0.6666666666666666,\"#ed7953\"],[0.7777777777777778,\"#fb9f3a\"],[0.8888888888888888,\"#fdca26\"],[1.0,\"#f0f921\"]],\"type\":\"contour\"}],\"contourcarpet\":[{\"colorbar\":{\"outlinewidth\":0,\"ticks\":\"\"},\"type\":\"contourcarpet\"}],\"heatmap\":[{\"colorbar\":{\"outlinewidth\":0,\"ticks\":\"\"},\"colorscale\":[[0.0,\"#0d0887\"],[0.1111111111111111,\"#46039f\"],[0.2222222222222222,\"#7201a8\"],[0.3333333333333333,\"#9c179e\"],[0.4444444444444444,\"#bd3786\"],[0.5555555555555556,\"#d8576b\"],[0.6666666666666666,\"#ed7953\"],[0.7777777777777778,\"#fb9f3a\"],[0.8888888888888888,\"#fdca26\"],[1.0,\"#f0f921\"]],\"type\":\"heatmap\"}],\"heatmapgl\":[{\"colorbar\":{\"outlinewidth\":0,\"ticks\":\"\"},\"colorscale\":[[0.0,\"#0d0887\"],[0.1111111111111111,\"#46039f\"],[0.2222222222222222,\"#7201a8\"],[0.3333333333333333,\"#9c179e\"],[0.4444444444444444,\"#bd3786\"],[0.5555555555555556,\"#d8576b\"],[0.6666666666666666,\"#ed7953\"],[0.7777777777777778,\"#fb9f3a\"],[0.8888888888888888,\"#fdca26\"],[1.0,\"#f0f921\"]],\"type\":\"heatmapgl\"}],\"histogram\":[{\"marker\":{\"pattern\":{\"fillmode\":\"overlay\",\"size\":10,\"solidity\":0.2}},\"type\":\"histogram\"}],\"histogram2d\":[{\"colorbar\":{\"outlinewidth\":0,\"ticks\":\"\"},\"colorscale\":[[0.0,\"#0d0887\"],[0.1111111111111111,\"#46039f\"],[0.2222222222222222,\"#7201a8\"],[0.3333333333333333,\"#9c179e\"],[0.4444444444444444,\"#bd3786\"],[0.5555555555555556,\"#d8576b\"],[0.6666666666666666,\"#ed7953\"],[0.7777777777777778,\"#fb9f3a\"],[0.8888888888888888,\"#fdca26\"],[1.0,\"#f0f921\"]],\"type\":\"histogram2d\"}],\"histogram2dcontour\":[{\"colorbar\":{\"outlinewidth\":0,\"ticks\":\"\"},\"colorscale\":[[0.0,\"#0d0887\"],[0.1111111111111111,\"#46039f\"],[0.2222222222222222,\"#7201a8\"],[0.3333333333333333,\"#9c179e\"],[0.4444444444444444,\"#bd3786\"],[0.5555555555555556,\"#d8576b\"],[0.6666666666666666,\"#ed7953\"],[0.7777777777777778,\"#fb9f3a\"],[0.8888888888888888,\"#fdca26\"],[1.0,\"#f0f921\"]],\"type\":\"histogram2dcontour\"}],\"mesh3d\":[{\"colorbar\":{\"outlinewidth\":0,\"ticks\":\"\"},\"type\":\"mesh3d\"}],\"parcoords\":[{\"line\":{\"colorbar\":{\"outlinewidth\":0,\"ticks\":\"\"}},\"type\":\"parcoords\"}],\"pie\":[{\"automargin\":true,\"type\":\"pie\"}],\"scatter\":[{\"marker\":{\"colorbar\":{\"outlinewidth\":0,\"ticks\":\"\"}},\"type\":\"scatter\"}],\"scatter3d\":[{\"line\":{\"colorbar\":{\"outlinewidth\":0,\"ticks\":\"\"}},\"marker\":{\"colorbar\":{\"outlinewidth\":0,\"ticks\":\"\"}},\"type\":\"scatter3d\"}],\"scattercarpet\":[{\"marker\":{\"colorbar\":{\"outlinewidth\":0,\"ticks\":\"\"}},\"type\":\"scattercarpet\"}],\"scattergeo\":[{\"marker\":{\"colorbar\":{\"outlinewidth\":0,\"ticks\":\"\"}},\"type\":\"scattergeo\"}],\"scattergl\":[{\"marker\":{\"colorbar\":{\"outlinewidth\":0,\"ticks\":\"\"}},\"type\":\"scattergl\"}],\"scattermapbox\":[{\"marker\":{\"colorbar\":{\"outlinewidth\":0,\"ticks\":\"\"}},\"type\":\"scattermapbox\"}],\"scatterpolar\":[{\"marker\":{\"colorbar\":{\"outlinewidth\":0,\"ticks\":\"\"}},\"type\":\"scatterpolar\"}],\"scatterpolargl\":[{\"marker\":{\"colorbar\":{\"outlinewidth\":0,\"ticks\":\"\"}},\"type\":\"scatterpolargl\"}],\"scatterternary\":[{\"marker\":{\"colorbar\":{\"outlinewidth\":0,\"ticks\":\"\"}},\"type\":\"scatterternary\"}],\"surface\":[{\"colorbar\":{\"outlinewidth\":0,\"ticks\":\"\"},\"colorscale\":[[0.0,\"#0d0887\"],[0.1111111111111111,\"#46039f\"],[0.2222222222222222,\"#7201a8\"],[0.3333333333333333,\"#9c179e\"],[0.4444444444444444,\"#bd3786\"],[0.5555555555555556,\"#d8576b\"],[0.6666666666666666,\"#ed7953\"],[0.7777777777777778,\"#fb9f3a\"],[0.8888888888888888,\"#fdca26\"],[1.0,\"#f0f921\"]],\"type\":\"surface\"}],\"table\":[{\"cells\":{\"fill\":{\"color\":\"#EBF0F8\"},\"line\":{\"color\":\"white\"}},\"header\":{\"fill\":{\"color\":\"#C8D4E3\"},\"line\":{\"color\":\"white\"}},\"type\":\"table\"}]},\"layout\":{\"annotationdefaults\":{\"arrowcolor\":\"#2a3f5f\",\"arrowhead\":0,\"arrowwidth\":1},\"autotypenumbers\":\"strict\",\"coloraxis\":{\"colorbar\":{\"outlinewidth\":0,\"ticks\":\"\"}},\"colorscale\":{\"diverging\":[[0,\"#8e0152\"],[0.1,\"#c51b7d\"],[0.2,\"#de77ae\"],[0.3,\"#f1b6da\"],[0.4,\"#fde0ef\"],[0.5,\"#f7f7f7\"],[0.6,\"#e6f5d0\"],[0.7,\"#b8e186\"],[0.8,\"#7fbc41\"],[0.9,\"#4d9221\"],[1,\"#276419\"]],\"sequential\":[[0.0,\"#0d0887\"],[0.1111111111111111,\"#46039f\"],[0.2222222222222222,\"#7201a8\"],[0.3333333333333333,\"#9c179e\"],[0.4444444444444444,\"#bd3786\"],[0.5555555555555556,\"#d8576b\"],[0.6666666666666666,\"#ed7953\"],[0.7777777777777778,\"#fb9f3a\"],[0.8888888888888888,\"#fdca26\"],[1.0,\"#f0f921\"]],\"sequentialminus\":[[0.0,\"#0d0887\"],[0.1111111111111111,\"#46039f\"],[0.2222222222222222,\"#7201a8\"],[0.3333333333333333,\"#9c179e\"],[0.4444444444444444,\"#bd3786\"],[0.5555555555555556,\"#d8576b\"],[0.6666666666666666,\"#ed7953\"],[0.7777777777777778,\"#fb9f3a\"],[0.8888888888888888,\"#fdca26\"],[1.0,\"#f0f921\"]]},\"colorway\":[\"#636efa\",\"#EF553B\",\"#00cc96\",\"#ab63fa\",\"#FFA15A\",\"#19d3f3\",\"#FF6692\",\"#B6E880\",\"#FF97FF\",\"#FECB52\"],\"font\":{\"color\":\"#2a3f5f\"},\"geo\":{\"bgcolor\":\"white\",\"lakecolor\":\"white\",\"landcolor\":\"#E5ECF6\",\"showlakes\":true,\"showland\":true,\"subunitcolor\":\"white\"},\"hoverlabel\":{\"align\":\"left\"},\"hovermode\":\"closest\",\"mapbox\":{\"style\":\"light\"},\"paper_bgcolor\":\"white\",\"plot_bgcolor\":\"#E5ECF6\",\"polar\":{\"angularaxis\":{\"gridcolor\":\"white\",\"linecolor\":\"white\",\"ticks\":\"\"},\"bgcolor\":\"#E5ECF6\",\"radialaxis\":{\"gridcolor\":\"white\",\"linecolor\":\"white\",\"ticks\":\"\"}},\"scene\":{\"xaxis\":{\"backgroundcolor\":\"#E5ECF6\",\"gridcolor\":\"white\",\"gridwidth\":2,\"linecolor\":\"white\",\"showbackground\":true,\"ticks\":\"\",\"zerolinecolor\":\"white\"},\"yaxis\":{\"backgroundcolor\":\"#E5ECF6\",\"gridcolor\":\"white\",\"gridwidth\":2,\"linecolor\":\"white\",\"showbackground\":true,\"ticks\":\"\",\"zerolinecolor\":\"white\"},\"zaxis\":{\"backgroundcolor\":\"#E5ECF6\",\"gridcolor\":\"white\",\"gridwidth\":2,\"linecolor\":\"white\",\"showbackground\":true,\"ticks\":\"\",\"zerolinecolor\":\"white\"}},\"shapedefaults\":{\"line\":{\"color\":\"#2a3f5f\"}},\"ternary\":{\"aaxis\":{\"gridcolor\":\"white\",\"linecolor\":\"white\",\"ticks\":\"\"},\"baxis\":{\"gridcolor\":\"white\",\"linecolor\":\"white\",\"ticks\":\"\"},\"bgcolor\":\"#E5ECF6\",\"caxis\":{\"gridcolor\":\"white\",\"linecolor\":\"white\",\"ticks\":\"\"}},\"title\":{\"x\":0.05},\"xaxis\":{\"automargin\":true,\"gridcolor\":\"white\",\"linecolor\":\"white\",\"ticks\":\"\",\"title\":{\"standoff\":15},\"zerolinecolor\":\"white\",\"zerolinewidth\":2},\"yaxis\":{\"automargin\":true,\"gridcolor\":\"white\",\"linecolor\":\"white\",\"ticks\":\"\",\"title\":{\"standoff\":15},\"zerolinecolor\":\"white\",\"zerolinewidth\":2}}},\"font\":{\"family\":\"Courier New, monospace\",\"size\":16,\"color\":\"RebeccaPurple\"},\"title\":{\"text\":\"Israeli and Tourist Visitors in Metzada site\"},\"xaxis\":{\"title\":{\"text\":\"Date\"}},\"yaxis\":{\"title\":{\"text\":\"Visitors\"}}},                        {\"responsive\": true}                    ).then(function(){\n",
              "                            \n",
              "var gd = document.getElementById('c23675ef-86de-43f5-aaec-41947d98b09e');\n",
              "var x = new MutationObserver(function (mutations, observer) {{\n",
              "        var display = window.getComputedStyle(gd).display;\n",
              "        if (!display || display === 'none') {{\n",
              "            console.log([gd, 'removed!']);\n",
              "            Plotly.purge(gd);\n",
              "            observer.disconnect();\n",
              "        }}\n",
              "}});\n",
              "\n",
              "// Listen for the removal of the full notebook cells\n",
              "var notebookContainer = gd.closest('#notebook-container');\n",
              "if (notebookContainer) {{\n",
              "    x.observe(notebookContainer, {childList: true});\n",
              "}}\n",
              "\n",
              "// Listen for the clearing of the current output cell\n",
              "var outputEl = gd.closest('.output');\n",
              "if (outputEl) {{\n",
              "    x.observe(outputEl, {childList: true});\n",
              "}}\n",
              "\n",
              "                        })                };                            </script>        </div>\n",
              "</body>\n",
              "</html>"
            ]
          },
          "metadata": {}
        }
      ]
    },
    {
      "cell_type": "code",
      "source": [
        "fig1 = go.Figure(data=go.Scatter(x=Gamla_df.Date, y=Gamla_df.Israeli_Visitors, mode='markers+lines'))\n",
        "fig1.add_trace(go.Scatter(x=Gamla_df.Date, y=Gamla_df.Israeli_Visitors,\n",
        "                    mode='lines',\n",
        "                    name='Israeli Visitors'))\n",
        "\n",
        "fig1.add_trace(go.Scatter(x=Gamla_df.Date, y=Gamla_df.Tourist_Visitors,\n",
        "                    mode='markers',\n",
        "                    marker_line_width=1,\n",
        "                    marker_size=6,\n",
        "                    name='Tourist Visitors'))\n",
        "\n",
        "fig1.update_layout(\n",
        "    title=\"Israeli and Tourist Visitors in Gamla site\",\n",
        "    xaxis_title=\"Date\",\n",
        "    yaxis_title=\"Visitors\",\n",
        "    font=dict(\n",
        "        family=\"Courier New, monospace\",\n",
        "        size=16,\n",
        "        color=\"RebeccaPurple\"\n",
        "    )\n",
        ")\n",
        "\n",
        "fig1.show()"
      ],
      "metadata": {
        "colab": {
          "base_uri": "https://localhost:8080/",
          "height": 0
        },
        "id": "TG2qd_-lBV32",
        "outputId": "cd600e8e-0d7a-47b3-9861-8283b3ca2ace"
      },
      "execution_count": 216,
      "outputs": [
        {
          "output_type": "display_data",
          "data": {
            "text/html": [
              "<html>\n",
              "<head><meta charset=\"utf-8\" /></head>\n",
              "<body>\n",
              "    <div>            <script src=\"https://cdnjs.cloudflare.com/ajax/libs/mathjax/2.7.5/MathJax.js?config=TeX-AMS-MML_SVG\"></script><script type=\"text/javascript\">if (window.MathJax) {MathJax.Hub.Config({SVG: {font: \"STIX-Web\"}});}</script>                <script type=\"text/javascript\">window.PlotlyConfig = {MathJaxConfig: 'local'};</script>\n",
              "        <script src=\"https://cdn.plot.ly/plotly-2.8.3.min.js\"></script>                <div id=\"3143bc7d-ce95-41bb-8872-381d887bd90d\" class=\"plotly-graph-div\" style=\"height:525px; width:100%;\"></div>            <script type=\"text/javascript\">                                    window.PLOTLYENV=window.PLOTLYENV || {};                                    if (document.getElementById(\"3143bc7d-ce95-41bb-8872-381d887bd90d\")) {                    Plotly.newPlot(                        \"3143bc7d-ce95-41bb-8872-381d887bd90d\",                        [{\"mode\":\"markers+lines\",\"x\":[\"1/1/2017\",\"1/2/2017\",\"1/3/2017\",\"1/4/2017\",\"1/5/2017\",\"1/6/2017\",\"1/7/2017\",\"1/8/2017\",\"1/9/2017\",\"1/10/2017\",\"1/11/2017\",\"1/12/2017\",\"1/13/2017\",\"1/14/2017\",\"1/15/2017\",\"1/16/2017\",\"1/17/2017\",\"1/18/2017\",\"1/19/2017\",\"1/20/2017\",\"1/21/2017\",\"1/22/2017\",\"1/23/2017\",\"1/24/2017\",\"1/25/2017\",\"1/26/2017\",\"1/27/2017\",\"1/28/2017\",\"1/29/2017\",\"1/30/2017\",\"1/31/2017\",\"2/1/2017\",\"2/2/2017\",\"2/3/2017\",\"2/4/2017\",\"2/5/2017\",\"2/6/2017\",\"2/7/2017\",\"2/8/2017\",\"2/9/2017\",\"2/10/2017\",\"2/11/2017\",\"2/12/2017\",\"2/13/2017\",\"2/14/2017\",\"2/15/2017\",\"2/16/2017\",\"2/17/2017\",\"2/18/2017\",\"2/19/2017\",\"2/20/2017\",\"2/21/2017\",\"2/22/2017\",\"2/23/2017\",\"2/24/2017\",\"2/25/2017\",\"2/26/2017\",\"2/27/2017\",\"2/28/2017\",\"3/1/2017\",\"3/2/2017\",\"3/3/2017\",\"3/4/2017\",\"3/5/2017\",\"3/6/2017\",\"3/7/2017\",\"3/8/2017\",\"3/9/2017\",\"3/10/2017\",\"3/11/2017\",\"3/12/2017\",\"3/13/2017\",\"3/14/2017\",\"3/15/2017\",\"3/16/2017\",\"3/17/2017\",\"3/18/2017\",\"3/19/2017\",\"3/20/2017\",\"3/21/2017\",\"3/22/2017\",\"3/23/2017\",\"3/24/2017\",\"3/25/2017\",\"3/26/2017\",\"3/27/2017\",\"3/28/2017\",\"3/29/2017\",\"3/30/2017\",\"3/31/2017\",\"4/1/2017\",\"4/2/2017\",\"4/3/2017\",\"4/4/2017\",\"4/5/2017\",\"4/6/2017\",\"4/7/2017\",\"4/8/2017\",\"4/9/2017\",\"4/10/2017\",\"4/11/2017\",\"4/12/2017\",\"4/13/2017\",\"4/14/2017\",\"4/15/2017\",\"4/16/2017\",\"4/17/2017\",\"4/18/2017\",\"4/19/2017\",\"4/20/2017\",\"4/21/2017\",\"4/22/2017\",\"4/23/2017\",\"4/24/2017\",\"4/25/2017\",\"4/26/2017\",\"4/27/2017\",\"4/28/2017\",\"4/29/2017\",\"4/30/2017\",\"5/1/2017\",\"5/2/2017\",\"5/3/2017\",\"5/4/2017\",\"5/5/2017\",\"5/6/2017\",\"5/7/2017\",\"5/8/2017\",\"5/9/2017\",\"5/10/2017\",\"5/11/2017\",\"5/12/2017\",\"5/13/2017\",\"5/14/2017\",\"5/15/2017\",\"5/16/2017\",\"5/17/2017\",\"5/18/2017\",\"5/19/2017\",\"5/20/2017\",\"5/21/2017\",\"5/22/2017\",\"5/23/2017\",\"5/24/2017\",\"5/25/2017\",\"5/26/2017\",\"5/27/2017\",\"5/28/2017\",\"5/29/2017\",\"5/30/2017\",\"5/31/2017\",\"6/1/2017\",\"6/2/2017\",\"6/3/2017\",\"6/4/2017\",\"6/5/2017\",\"6/6/2017\",\"6/7/2017\",\"6/8/2017\",\"6/9/2017\",\"6/10/2017\",\"6/11/2017\",\"6/12/2017\",\"6/13/2017\",\"6/14/2017\",\"6/15/2017\",\"6/16/2017\",\"6/17/2017\",\"6/18/2017\",\"6/19/2017\",\"6/20/2017\",\"6/21/2017\",\"6/22/2017\",\"6/23/2017\",\"6/24/2017\",\"6/25/2017\",\"6/26/2017\",\"6/27/2017\",\"6/28/2017\",\"6/29/2017\",\"6/30/2017\",\"7/1/2017\",\"7/2/2017\",\"7/3/2017\",\"7/4/2017\",\"7/5/2017\",\"7/6/2017\",\"7/7/2017\",\"7/8/2017\",\"7/9/2017\",\"7/10/2017\",\"7/11/2017\",\"7/12/2017\",\"7/13/2017\",\"7/14/2017\",\"7/15/2017\",\"7/16/2017\",\"7/17/2017\",\"7/18/2017\",\"7/19/2017\",\"7/20/2017\",\"7/21/2017\",\"7/22/2017\",\"7/23/2017\",\"7/24/2017\",\"7/25/2017\",\"7/26/2017\",\"7/27/2017\",\"7/28/2017\",\"7/29/2017\",\"7/30/2017\",\"7/31/2017\",\"8/1/2017\",\"8/2/2017\",\"8/3/2017\",\"8/4/2017\",\"8/5/2017\",\"8/6/2017\",\"8/7/2017\",\"8/8/2017\",\"8/9/2017\",\"8/10/2017\",\"8/11/2017\",\"8/12/2017\",\"8/13/2017\",\"8/14/2017\",\"8/15/2017\",\"8/16/2017\",\"8/17/2017\",\"8/18/2017\",\"8/19/2017\",\"8/20/2017\",\"8/21/2017\",\"8/22/2017\",\"8/23/2017\",\"8/24/2017\",\"8/25/2017\",\"8/26/2017\",\"8/27/2017\",\"8/28/2017\",\"8/29/2017\",\"8/30/2017\",\"8/31/2017\",\"9/1/2017\",\"9/2/2017\",\"9/3/2017\",\"9/4/2017\",\"9/5/2017\",\"9/6/2017\",\"9/7/2017\",\"9/8/2017\",\"9/9/2017\",\"9/10/2017\",\"9/11/2017\",\"9/12/2017\",\"9/13/2017\",\"9/14/2017\",\"9/15/2017\",\"9/16/2017\",\"9/17/2017\",\"9/18/2017\",\"9/19/2017\",\"9/20/2017\",\"9/21/2017\",\"9/22/2017\",\"9/23/2017\",\"9/24/2017\",\"9/25/2017\",\"9/26/2017\",\"9/27/2017\",\"9/28/2017\",\"9/29/2017\",\"10/1/2017\",\"10/2/2017\",\"10/3/2017\",\"10/4/2017\",\"10/5/2017\",\"10/6/2017\",\"10/7/2017\",\"10/8/2017\",\"10/9/2017\",\"10/10/2017\",\"10/11/2017\",\"10/12/2017\",\"10/13/2017\",\"10/14/2017\",\"10/15/2017\",\"10/16/2017\",\"10/17/2017\",\"10/18/2017\",\"10/19/2017\",\"10/20/2017\",\"10/21/2017\",\"10/22/2017\",\"10/23/2017\",\"10/24/2017\",\"10/25/2017\",\"10/26/2017\",\"10/27/2017\",\"10/28/2017\",\"10/29/2017\",\"10/30/2017\",\"10/31/2017\",\"11/1/2017\",\"11/2/2017\",\"11/3/2017\",\"11/4/2017\",\"11/5/2017\",\"11/6/2017\",\"11/7/2017\",\"11/8/2017\",\"11/9/2017\",\"11/10/2017\",\"11/11/2017\",\"11/12/2017\",\"11/13/2017\",\"11/14/2017\",\"11/15/2017\",\"11/16/2017\",\"11/17/2017\",\"11/18/2017\",\"11/19/2017\",\"11/20/2017\",\"11/21/2017\",\"11/22/2017\",\"11/23/2017\",\"11/24/2017\",\"11/25/2017\",\"11/26/2017\",\"11/27/2017\",\"11/28/2017\",\"11/29/2017\",\"11/30/2017\",\"12/1/2017\",\"12/2/2017\",\"12/3/2017\",\"12/4/2017\",\"12/5/2017\",\"12/6/2017\",\"12/7/2017\",\"12/8/2017\",\"12/9/2017\",\"12/10/2017\",\"12/11/2017\",\"12/12/2017\",\"12/13/2017\",\"12/14/2017\",\"12/15/2017\",\"12/16/2017\",\"12/17/2017\",\"12/18/2017\",\"12/19/2017\",\"12/20/2017\",\"12/21/2017\",\"12/22/2017\",\"12/23/2017\",\"12/24/2017\",\"12/25/2017\",\"12/26/2017\",\"12/27/2017\",\"12/28/2017\",\"12/29/2017\",\"12/30/2017\",\"12/31/2017\",\"1/1/2018\",\"1/2/2018\",\"1/3/2018\",\"1/4/2018\",\"1/5/2018\",\"1/6/2018\",\"1/7/2018\",\"1/8/2018\",\"1/9/2018\",\"1/10/2018\",\"1/11/2018\",\"1/12/2018\",\"1/13/2018\",\"1/14/2018\",\"1/15/2018\",\"1/16/2018\",\"1/17/2018\",\"1/18/2018\",\"1/19/2018\",\"1/20/2018\",\"1/21/2018\",\"1/22/2018\",\"1/24/2018\",\"1/25/2018\",\"1/26/2018\",\"1/27/2018\",\"1/28/2018\",\"1/29/2018\",\"1/30/2018\",\"1/31/2018\",\"2/1/2018\",\"2/2/2018\",\"2/3/2018\",\"2/4/2018\",\"2/5/2018\",\"2/6/2018\",\"2/7/2018\",\"2/8/2018\",\"2/9/2018\",\"2/10/2018\",\"2/11/2018\",\"2/12/2018\",\"2/13/2018\",\"2/14/2018\",\"2/15/2018\",\"2/16/2018\",\"2/17/2018\",\"2/18/2018\",\"2/19/2018\",\"2/20/2018\",\"2/21/2018\",\"2/22/2018\",\"2/23/2018\",\"2/24/2018\",\"2/25/2018\",\"2/26/2018\",\"2/27/2018\",\"2/28/2018\",\"3/1/2018\",\"3/2/2018\",\"3/3/2018\",\"3/4/2018\",\"3/5/2018\",\"3/6/2018\",\"3/7/2018\",\"3/8/2018\",\"3/9/2018\",\"3/10/2018\",\"3/11/2018\",\"3/12/2018\",\"3/13/2018\",\"3/14/2018\",\"3/15/2018\",\"3/16/2018\",\"3/17/2018\",\"3/18/2018\",\"3/19/2018\",\"3/20/2018\",\"3/21/2018\",\"3/22/2018\",\"3/23/2018\",\"3/24/2018\",\"3/25/2018\",\"3/26/2018\",\"3/27/2018\",\"3/28/2018\",\"3/29/2018\",\"3/30/2018\",\"3/31/2018\",\"4/1/2018\",\"4/2/2018\",\"4/3/2018\",\"4/4/2018\",\"4/5/2018\",\"4/6/2018\",\"4/7/2018\",\"4/8/2018\",\"4/9/2018\",\"4/10/2018\",\"4/11/2018\",\"4/12/2018\",\"4/13/2018\",\"4/14/2018\",\"4/15/2018\",\"4/16/2018\",\"4/17/2018\",\"4/18/2018\",\"4/19/2018\",\"4/20/2018\",\"4/21/2018\",\"4/22/2018\",\"4/23/2018\",\"4/24/2018\",\"4/25/2018\",\"4/26/2018\",\"4/27/2018\",\"4/28/2018\",\"4/29/2018\",\"4/30/2018\",\"5/1/2018\",\"5/2/2018\",\"5/3/2018\",\"5/4/2018\",\"5/5/2018\",\"5/6/2018\",\"5/7/2018\",\"5/8/2018\",\"5/9/2018\",\"5/10/2018\",\"5/11/2018\",\"5/12/2018\",\"5/13/2018\",\"5/14/2018\",\"5/15/2018\",\"5/16/2018\",\"5/17/2018\",\"5/18/2018\",\"5/19/2018\",\"5/20/2018\",\"5/21/2018\",\"5/22/2018\",\"5/23/2018\",\"5/24/2018\",\"5/25/2018\",\"5/26/2018\",\"5/27/2018\",\"5/28/2018\",\"5/29/2018\",\"5/30/2018\",\"5/31/2018\",\"6/1/2018\",\"6/2/2018\",\"6/3/2018\",\"6/4/2018\",\"6/5/2018\",\"6/6/2018\",\"6/7/2018\",\"6/8/2018\",\"6/9/2018\",\"6/10/2018\",\"6/11/2018\",\"6/12/2018\",\"6/13/2018\",\"6/14/2018\",\"6/15/2018\",\"6/16/2018\",\"6/17/2018\",\"6/18/2018\",\"6/19/2018\",\"6/20/2018\",\"6/21/2018\",\"6/22/2018\",\"6/23/2018\",\"6/24/2018\",\"6/25/2018\",\"6/26/2018\",\"6/27/2018\",\"6/28/2018\",\"6/29/2018\",\"6/30/2018\",\"7/1/2018\",\"7/2/2018\",\"7/3/2018\",\"7/4/2018\",\"7/5/2018\",\"7/6/2018\",\"7/7/2018\",\"7/8/2018\",\"7/9/2018\",\"7/10/2018\",\"7/11/2018\",\"7/12/2018\",\"7/13/2018\",\"7/14/2018\",\"7/15/2018\",\"7/16/2018\",\"7/17/2018\",\"7/18/2018\",\"7/19/2018\",\"7/20/2018\",\"7/21/2018\",\"7/22/2018\",\"7/23/2018\",\"7/24/2018\",\"7/25/2018\",\"7/26/2018\",\"7/27/2018\",\"7/28/2018\",\"7/29/2018\",\"7/30/2018\",\"7/31/2018\",\"8/1/2018\",\"8/2/2018\",\"8/3/2018\",\"8/4/2018\",\"8/5/2018\",\"8/6/2018\",\"8/7/2018\",\"8/8/2018\",\"8/9/2018\",\"8/10/2018\",\"8/11/2018\",\"8/12/2018\",\"8/13/2018\",\"8/14/2018\",\"8/15/2018\",\"8/16/2018\",\"8/17/2018\",\"8/18/2018\",\"8/19/2018\",\"8/20/2018\",\"8/21/2018\",\"8/22/2018\",\"8/23/2018\",\"8/24/2018\",\"8/25/2018\",\"8/26/2018\",\"8/27/2018\",\"8/28/2018\",\"8/29/2018\",\"8/30/2018\",\"8/31/2018\",\"9/1/2018\",\"9/2/2018\",\"9/3/2018\",\"9/4/2018\",\"9/5/2018\",\"9/6/2018\",\"9/7/2018\",\"9/8/2018\",\"9/9/2018\",\"9/10/2018\",\"9/11/2018\",\"9/12/2018\",\"9/13/2018\",\"9/14/2018\",\"9/15/2018\",\"9/16/2018\",\"9/17/2018\",\"9/18/2018\",\"9/20/2018\",\"9/21/2018\",\"9/22/2018\",\"9/23/2018\",\"9/24/2018\",\"9/25/2018\",\"9/26/2018\",\"9/27/2018\",\"9/28/2018\",\"9/29/2018\",\"9/30/2018\",\"10/1/2018\",\"10/2/2018\",\"10/3/2018\",\"10/4/2018\",\"10/5/2018\",\"10/6/2018\",\"10/7/2018\",\"10/8/2018\",\"10/9/2018\",\"10/10/2018\",\"10/11/2018\",\"10/12/2018\",\"10/13/2018\",\"10/14/2018\",\"10/15/2018\",\"10/16/2018\",\"10/17/2018\",\"10/18/2018\",\"10/19/2018\",\"10/20/2018\",\"10/21/2018\",\"10/22/2018\",\"10/23/2018\",\"10/24/2018\",\"10/25/2018\",\"10/26/2018\",\"10/27/2018\",\"10/28/2018\",\"10/29/2018\",\"10/30/2018\",\"10/31/2018\",\"11/1/2018\",\"11/2/2018\",\"11/3/2018\",\"11/4/2018\",\"11/5/2018\",\"11/6/2018\",\"11/7/2018\",\"11/8/2018\",\"11/9/2018\",\"11/10/2018\",\"11/11/2018\",\"11/12/2018\",\"11/13/2018\",\"11/14/2018\",\"11/15/2018\",\"11/16/2018\",\"11/17/2018\",\"11/18/2018\",\"11/19/2018\",\"11/20/2018\",\"11/21/2018\",\"11/22/2018\",\"11/23/2018\",\"11/24/2018\",\"11/25/2018\",\"11/26/2018\",\"11/27/2018\",\"11/28/2018\",\"11/29/2018\",\"11/30/2018\",\"12/1/2018\",\"12/2/2018\",\"12/3/2018\",\"12/4/2018\",\"12/5/2018\",\"12/6/2018\",\"12/7/2018\",\"12/8/2018\",\"12/9/2018\",\"12/10/2018\",\"12/11/2018\",\"12/12/2018\",\"12/13/2018\",\"12/14/2018\",\"12/15/2018\",\"12/16/2018\",\"12/17/2018\",\"12/18/2018\",\"12/19/2018\",\"12/20/2018\",\"12/21/2018\",\"12/22/2018\",\"12/23/2018\",\"12/24/2018\",\"12/25/2018\",\"12/26/2018\",\"12/27/2018\",\"12/28/2018\",\"12/29/2018\",\"12/30/2018\",\"12/31/2018\",\"1/1/2019\",\"1/2/2019\",\"1/3/2019\",\"1/4/2019\",\"1/5/2019\",\"1/6/2019\",\"1/7/2019\",\"1/8/2019\",\"1/9/2019\",\"1/10/2019\",\"1/11/2019\",\"1/12/2019\",\"1/13/2019\",\"1/14/2019\",\"1/15/2019\",\"1/16/2019\",\"1/17/2019\",\"1/18/2019\",\"1/19/2019\",\"1/20/2019\",\"1/21/2019\",\"1/22/2019\",\"1/23/2019\",\"1/24/2019\",\"1/25/2019\",\"1/26/2019\",\"1/27/2019\",\"1/28/2019\",\"1/29/2019\",\"1/30/2019\",\"1/31/2019\",\"2/1/2019\",\"2/2/2019\",\"2/3/2019\",\"2/4/2019\",\"2/5/2019\",\"2/6/2019\",\"2/7/2019\",\"2/8/2019\",\"2/9/2019\",\"2/10/2019\",\"2/11/2019\",\"2/12/2019\",\"2/13/2019\",\"2/14/2019\",\"2/15/2019\",\"2/16/2019\",\"2/17/2019\",\"2/18/2019\",\"2/19/2019\",\"2/20/2019\",\"2/21/2019\",\"2/22/2019\",\"2/23/2019\",\"2/24/2019\",\"2/25/2019\",\"2/26/2019\",\"2/27/2019\",\"2/28/2019\",\"3/1/2019\",\"3/2/2019\",\"3/3/2019\",\"3/4/2019\",\"3/5/2019\",\"3/6/2019\",\"3/7/2019\",\"3/8/2019\",\"3/9/2019\",\"3/10/2019\",\"3/11/2019\",\"3/12/2019\",\"3/13/2019\",\"3/14/2019\",\"3/15/2019\",\"3/16/2019\",\"3/17/2019\",\"3/18/2019\",\"3/19/2019\",\"3/20/2019\",\"3/21/2019\",\"3/22/2019\",\"3/23/2019\",\"3/24/2019\",\"3/25/2019\",\"3/26/2019\",\"3/27/2019\",\"3/28/2019\",\"3/29/2019\",\"3/30/2019\",\"3/31/2019\",\"4/1/2019\",\"4/2/2019\",\"4/3/2019\",\"4/4/2019\",\"4/5/2019\",\"4/6/2019\",\"4/7/2019\",\"4/8/2019\",\"4/9/2019\",\"4/10/2019\",\"4/11/2019\",\"4/12/2019\",\"4/13/2019\",\"4/14/2019\",\"4/15/2019\",\"4/16/2019\",\"4/17/2019\",\"4/18/2019\",\"4/19/2019\",\"4/20/2019\",\"4/21/2019\",\"4/22/2019\",\"4/23/2019\",\"4/24/2019\",\"4/25/2019\",\"4/26/2019\",\"4/27/2019\",\"4/28/2019\",\"4/29/2019\",\"4/30/2019\",\"5/1/2019\",\"5/2/2019\",\"5/3/2019\",\"5/4/2019\",\"5/5/2019\",\"5/6/2019\",\"5/7/2019\",\"5/8/2019\",\"5/9/2019\",\"5/10/2019\",\"5/11/2019\",\"5/12/2019\",\"5/13/2019\",\"5/14/2019\",\"5/15/2019\",\"5/16/2019\",\"5/17/2019\",\"5/18/2019\",\"5/19/2019\",\"5/20/2019\",\"5/21/2019\",\"5/22/2019\",\"5/23/2019\",\"5/24/2019\",\"5/25/2019\",\"5/26/2019\",\"5/27/2019\",\"5/28/2019\",\"5/29/2019\",\"5/30/2019\",\"5/31/2019\",\"6/1/2019\",\"6/2/2019\",\"6/3/2019\",\"6/4/2019\",\"6/5/2019\",\"6/6/2019\",\"6/7/2019\",\"6/8/2019\",\"6/9/2019\",\"6/10/2019\",\"6/11/2019\",\"6/12/2019\",\"6/13/2019\",\"6/14/2019\",\"6/15/2019\",\"6/16/2019\",\"6/17/2019\",\"6/18/2019\",\"6/19/2019\",\"6/20/2019\",\"6/21/2019\",\"6/22/2019\",\"6/23/2019\",\"6/24/2019\",\"6/25/2019\",\"6/26/2019\",\"6/27/2019\",\"6/28/2019\",\"6/29/2019\",\"6/30/2019\",\"7/1/2019\",\"7/2/2019\",\"7/3/2019\",\"7/4/2019\",\"7/5/2019\",\"7/6/2019\",\"7/7/2019\",\"7/8/2019\",\"7/9/2019\",\"7/10/2019\",\"7/11/2019\",\"7/12/2019\",\"7/13/2019\",\"7/14/2019\",\"7/15/2019\",\"7/16/2019\",\"7/17/2019\",\"7/18/2019\",\"7/19/2019\",\"7/20/2019\",\"7/21/2019\",\"7/22/2019\",\"7/23/2019\",\"7/24/2019\",\"7/25/2019\",\"7/26/2019\",\"7/27/2019\",\"7/28/2019\",\"7/29/2019\",\"7/30/2019\",\"7/31/2019\",\"8/1/2019\",\"8/2/2019\",\"8/3/2019\",\"8/4/2019\",\"8/5/2019\",\"8/6/2019\",\"8/7/2019\",\"8/8/2019\",\"8/9/2019\",\"8/10/2019\",\"8/11/2019\",\"8/12/2019\",\"8/13/2019\",\"8/14/2019\",\"8/15/2019\",\"8/16/2019\",\"8/17/2019\",\"8/18/2019\",\"8/19/2019\",\"8/20/2019\",\"8/21/2019\",\"8/22/2019\",\"8/23/2019\",\"8/24/2019\",\"8/25/2019\",\"8/26/2019\",\"8/27/2019\",\"8/28/2019\",\"8/29/2019\",\"8/30/2019\",\"8/31/2019\",\"9/1/2019\",\"9/2/2019\",\"9/3/2019\",\"9/4/2019\",\"9/5/2019\",\"9/6/2019\",\"9/7/2019\",\"9/8/2019\",\"9/9/2019\",\"9/10/2019\",\"9/11/2019\",\"9/12/2019\",\"9/13/2019\",\"9/14/2019\",\"9/15/2019\",\"9/16/2019\",\"9/17/2019\",\"9/18/2019\",\"9/19/2019\",\"9/20/2019\",\"9/21/2019\",\"9/22/2019\",\"9/23/2019\",\"9/24/2019\",\"9/25/2019\",\"9/26/2019\",\"9/27/2019\",\"9/28/2019\",\"9/29/2019\",\"9/30/2019\",\"10/1/2019\",\"10/2/2019\",\"10/3/2019\",\"10/4/2019\",\"10/5/2019\",\"10/6/2019\",\"10/7/2019\",\"10/8/2019\",\"10/10/2019\",\"10/11/2019\",\"10/12/2019\",\"10/13/2019\",\"10/14/2019\",\"10/15/2019\",\"10/16/2019\",\"10/17/2019\",\"10/18/2019\",\"10/19/2019\",\"10/20/2019\",\"10/21/2019\",\"10/22/2019\",\"10/23/2019\",\"10/24/2019\",\"10/25/2019\",\"10/26/2019\",\"10/27/2019\",\"10/28/2019\",\"10/29/2019\",\"10/30/2019\",\"10/31/2019\",\"11/1/2019\",\"11/2/2019\",\"11/3/2019\",\"11/4/2019\",\"11/5/2019\",\"11/6/2019\",\"11/7/2019\",\"11/8/2019\",\"11/9/2019\",\"11/10/2019\",\"11/11/2019\",\"11/12/2019\",\"11/13/2019\",\"11/14/2019\",\"11/15/2019\",\"11/16/2019\",\"11/17/2019\",\"11/18/2019\",\"11/19/2019\",\"11/20/2019\",\"11/21/2019\",\"11/22/2019\",\"11/23/2019\",\"11/24/2019\",\"11/25/2019\",\"11/26/2019\",\"11/27/2019\",\"11/28/2019\",\"11/29/2019\",\"11/30/2019\",\"12/1/2019\",\"12/2/2019\",\"12/3/2019\",\"12/4/2019\",\"12/5/2019\",\"12/6/2019\",\"12/7/2019\",\"12/8/2019\",\"12/9/2019\",\"12/10/2019\",\"12/11/2019\",\"12/12/2019\",\"12/13/2019\",\"12/14/2019\",\"12/15/2019\",\"12/16/2019\",\"12/17/2019\",\"12/18/2019\",\"12/19/2019\",\"12/20/2019\",\"12/21/2019\",\"12/22/2019\",\"12/23/2019\",\"12/24/2019\",\"12/25/2019\",\"12/26/2019\",\"12/27/2019\",\"12/28/2019\",\"12/29/2019\",\"12/30/2019\",\"12/31/2019\"],\"y\":[176,32,17,64,55,92,500,43,81,49,233,72,150,335,17,32,41,57,66,194,509,135,33,42,39,46,40,89,27,143,16,67,38,155,700,31,164,276,25,41,130,324,23,20,10,149,16,169,514,408,30,236,133,140,285,640,42,144,246,337,184,116,431,32,101,649,496,82,118,222,206,171,68,472,288,164,515,93,791,405,605,139,275,506,116,483,815,88,465,270,319,136,408,935,571,542,316,997,171,53,359,634,847,790,957,820,326,88,47,347,44,146,52,86,192,127,213,34,212,76,1511,223,82,142,503,284,178,158,113,14,290,121,106,13,105,231,266,152,48,123,154,56,232,40,27,125,62,63,3,31,115,247,114,139,42,83,106,26,146,20,60,48,16,16,146,108,6,81,98,62,15,95,55,96,89,42,9,11,14,15,26,12,18,19,7,31,33,22,12,24,58,2,80,24,53,22,14,63,22,72,71,10,38,48,102,35,44,7,35,46,17,23,17,72,101,38,25,49,72,65,108,71,45,24,57,85,136,136,119,72,64,93,108,130,141,66,48,29,41,93,118,202,75,10,90,2,15,26,53,150,2,27,37,11,68,18,4,61,86,16,72,2,5,153,255,107,26,73,130,163,37,57,2,27,20,29,278,442,361,238,515,427,610,570,263,245,25,171,56,56,174,157,242,464,72,35,473,26,76,123,137,368,115,587,41,96,107,152,19,274,141,179,104,244,129,169,354,244,205,341,244,6,74,189,314,85,75,220,59,95,41,223,124,65,260,17,15,174,193,48,75,196,95,130,50,13,99,252,383,186,329,229,85,144,74,164,21,35,207,70,81,86,273,19,26,39,124,18,3,241,31,32,118,50,110,96,521,15,17,33,2,32,44,443,24,98,18,11,19,245,30,31,146,188,42,165,571,99,86,358,287,104,203,223,311,31,17,466,439,161,51,263,52,435,39,68,285,618,53,91,82,47,247,692,564,257,801,417,419,256,157,422,668,446,265,782,742,314,510,271,299,287,135,222,503,391,368,900,224,680,63,7,452,784,837,921,765,324,514,165,156,62,151,234,94,213,256,34,293,59,1515,255,152,282,400,985,72,47,25,114,200,758,384,332,25,114,103,154,60,240,9,29,31,45,123,109,191,141,42,21,11,62,32,17,14,143,76,23,52,54,201,76,65,49,52,136,17,112,426,20,27,156,34,98,21,33,44,53,110,51,9,56,16,79,36,64,102,14,61,84,68,21,29,71,22,25,22,36,69,33,17,6,45,38,63,48,58,47,250,70,10,16,14,45,49,79,66,45,25,143,57,68,65,143,83,119,132,48,52,51,143,134,170,112,49,62,57,178,179,113,136,79,84,118,175,191,124,87,86,58,48,119,52,89,168,46,38,4,12,14,266,1,14,146,38,159,129,8,12,21,71,78,158,2,30,31,113,72,191,174,235,276,163,195,107,139,24,16,191,30,110,54,172,238,31,26,135,106,95,62,767,239,25,86,105,118,347,385,629,47,31,175,49,54,243,140,38,51,147,359,180,373,774,39,65,161,328,99,8,178,17,43,240,159,290,376,32,54,20,179,79,403,361,115,160,61,160,72,160,293,401,94,29,126,173,111,37,20,140,194,326,113,233,10,35,14,62,423,76,29,192,63,18,55,122,95,57,70,41,27,123,546,26,10,35,127,165,510,794,53,9,135,33,171,450,779,186,238,189,143,138,418,677,162,258,142,74,156,278,671,169,109,180,99,43,199,247,20,41,105,208,89,100,83,156,100,157,505,276,432,765,161,263,407,54,40,304,470,170,394,49,743,304,565,749,215,581,328,454,120,161,94,82,143,217,290,615,665,654,532,202,384,549,188,99,169,40,22,648,345,721,567,848,394,238,933,278,439,556,864,202,350,659,330,154,102,468,759,1116,1093,1137,747,786,486,85,454,394,275,87,181,330,297,87,91,1549,508,500,471,177,276,184,326,541,44,171,66,72,197,82,25,10,49,24,202,177,69,19,88,82,22,38,37,51,23,72,149,134,182,52,31,31,50,65,12,40,259,53,40,16,93,42,118,95,25,15,29,67,55,30,11,100,55,83,71,15,51,99,102,67,23,31,13,42,36,21,91,47,50,50,68,89,33,66,70,49,30,70,59,55,39,76,42,53,18,63,21,40,29,56,11,16,122,122,131,32,40,114,171,118,255,113,91,51,54,166,149,84,82,35,39,10,35,8,16,7,15,50,8,14,249,40,154,43,57,27,6,125,21,39,66,79,174,56,106,48,37,29,98,39,128,181,14,19,44,127,23,18,10,45,28,168,103,97,233,226,428,228,442,325,208,75,99,53,91,81,179,182,758,151,60,66,142,16,738,47,311,149,130,278,199,306,427,450,56,296,157,473,177,426,114,154,83,261,121,193,72,39,147,91,204,34,34,322,40,67,67,273,33,6,22,50,36,50,140,18,65,99,125,30,105,274,133,465,239,108,75,163,411,554,172,80],\"type\":\"scatter\"},{\"mode\":\"lines\",\"name\":\"Israeli Visitors\",\"x\":[\"1/1/2017\",\"1/2/2017\",\"1/3/2017\",\"1/4/2017\",\"1/5/2017\",\"1/6/2017\",\"1/7/2017\",\"1/8/2017\",\"1/9/2017\",\"1/10/2017\",\"1/11/2017\",\"1/12/2017\",\"1/13/2017\",\"1/14/2017\",\"1/15/2017\",\"1/16/2017\",\"1/17/2017\",\"1/18/2017\",\"1/19/2017\",\"1/20/2017\",\"1/21/2017\",\"1/22/2017\",\"1/23/2017\",\"1/24/2017\",\"1/25/2017\",\"1/26/2017\",\"1/27/2017\",\"1/28/2017\",\"1/29/2017\",\"1/30/2017\",\"1/31/2017\",\"2/1/2017\",\"2/2/2017\",\"2/3/2017\",\"2/4/2017\",\"2/5/2017\",\"2/6/2017\",\"2/7/2017\",\"2/8/2017\",\"2/9/2017\",\"2/10/2017\",\"2/11/2017\",\"2/12/2017\",\"2/13/2017\",\"2/14/2017\",\"2/15/2017\",\"2/16/2017\",\"2/17/2017\",\"2/18/2017\",\"2/19/2017\",\"2/20/2017\",\"2/21/2017\",\"2/22/2017\",\"2/23/2017\",\"2/24/2017\",\"2/25/2017\",\"2/26/2017\",\"2/27/2017\",\"2/28/2017\",\"3/1/2017\",\"3/2/2017\",\"3/3/2017\",\"3/4/2017\",\"3/5/2017\",\"3/6/2017\",\"3/7/2017\",\"3/8/2017\",\"3/9/2017\",\"3/10/2017\",\"3/11/2017\",\"3/12/2017\",\"3/13/2017\",\"3/14/2017\",\"3/15/2017\",\"3/16/2017\",\"3/17/2017\",\"3/18/2017\",\"3/19/2017\",\"3/20/2017\",\"3/21/2017\",\"3/22/2017\",\"3/23/2017\",\"3/24/2017\",\"3/25/2017\",\"3/26/2017\",\"3/27/2017\",\"3/28/2017\",\"3/29/2017\",\"3/30/2017\",\"3/31/2017\",\"4/1/2017\",\"4/2/2017\",\"4/3/2017\",\"4/4/2017\",\"4/5/2017\",\"4/6/2017\",\"4/7/2017\",\"4/8/2017\",\"4/9/2017\",\"4/10/2017\",\"4/11/2017\",\"4/12/2017\",\"4/13/2017\",\"4/14/2017\",\"4/15/2017\",\"4/16/2017\",\"4/17/2017\",\"4/18/2017\",\"4/19/2017\",\"4/20/2017\",\"4/21/2017\",\"4/22/2017\",\"4/23/2017\",\"4/24/2017\",\"4/25/2017\",\"4/26/2017\",\"4/27/2017\",\"4/28/2017\",\"4/29/2017\",\"4/30/2017\",\"5/1/2017\",\"5/2/2017\",\"5/3/2017\",\"5/4/2017\",\"5/5/2017\",\"5/6/2017\",\"5/7/2017\",\"5/8/2017\",\"5/9/2017\",\"5/10/2017\",\"5/11/2017\",\"5/12/2017\",\"5/13/2017\",\"5/14/2017\",\"5/15/2017\",\"5/16/2017\",\"5/17/2017\",\"5/18/2017\",\"5/19/2017\",\"5/20/2017\",\"5/21/2017\",\"5/22/2017\",\"5/23/2017\",\"5/24/2017\",\"5/25/2017\",\"5/26/2017\",\"5/27/2017\",\"5/28/2017\",\"5/29/2017\",\"5/30/2017\",\"5/31/2017\",\"6/1/2017\",\"6/2/2017\",\"6/3/2017\",\"6/4/2017\",\"6/5/2017\",\"6/6/2017\",\"6/7/2017\",\"6/8/2017\",\"6/9/2017\",\"6/10/2017\",\"6/11/2017\",\"6/12/2017\",\"6/13/2017\",\"6/14/2017\",\"6/15/2017\",\"6/16/2017\",\"6/17/2017\",\"6/18/2017\",\"6/19/2017\",\"6/20/2017\",\"6/21/2017\",\"6/22/2017\",\"6/23/2017\",\"6/24/2017\",\"6/25/2017\",\"6/26/2017\",\"6/27/2017\",\"6/28/2017\",\"6/29/2017\",\"6/30/2017\",\"7/1/2017\",\"7/2/2017\",\"7/3/2017\",\"7/4/2017\",\"7/5/2017\",\"7/6/2017\",\"7/7/2017\",\"7/8/2017\",\"7/9/2017\",\"7/10/2017\",\"7/11/2017\",\"7/12/2017\",\"7/13/2017\",\"7/14/2017\",\"7/15/2017\",\"7/16/2017\",\"7/17/2017\",\"7/18/2017\",\"7/19/2017\",\"7/20/2017\",\"7/21/2017\",\"7/22/2017\",\"7/23/2017\",\"7/24/2017\",\"7/25/2017\",\"7/26/2017\",\"7/27/2017\",\"7/28/2017\",\"7/29/2017\",\"7/30/2017\",\"7/31/2017\",\"8/1/2017\",\"8/2/2017\",\"8/3/2017\",\"8/4/2017\",\"8/5/2017\",\"8/6/2017\",\"8/7/2017\",\"8/8/2017\",\"8/9/2017\",\"8/10/2017\",\"8/11/2017\",\"8/12/2017\",\"8/13/2017\",\"8/14/2017\",\"8/15/2017\",\"8/16/2017\",\"8/17/2017\",\"8/18/2017\",\"8/19/2017\",\"8/20/2017\",\"8/21/2017\",\"8/22/2017\",\"8/23/2017\",\"8/24/2017\",\"8/25/2017\",\"8/26/2017\",\"8/27/2017\",\"8/28/2017\",\"8/29/2017\",\"8/30/2017\",\"8/31/2017\",\"9/1/2017\",\"9/2/2017\",\"9/3/2017\",\"9/4/2017\",\"9/5/2017\",\"9/6/2017\",\"9/7/2017\",\"9/8/2017\",\"9/9/2017\",\"9/10/2017\",\"9/11/2017\",\"9/12/2017\",\"9/13/2017\",\"9/14/2017\",\"9/15/2017\",\"9/16/2017\",\"9/17/2017\",\"9/18/2017\",\"9/19/2017\",\"9/20/2017\",\"9/21/2017\",\"9/22/2017\",\"9/23/2017\",\"9/24/2017\",\"9/25/2017\",\"9/26/2017\",\"9/27/2017\",\"9/28/2017\",\"9/29/2017\",\"10/1/2017\",\"10/2/2017\",\"10/3/2017\",\"10/4/2017\",\"10/5/2017\",\"10/6/2017\",\"10/7/2017\",\"10/8/2017\",\"10/9/2017\",\"10/10/2017\",\"10/11/2017\",\"10/12/2017\",\"10/13/2017\",\"10/14/2017\",\"10/15/2017\",\"10/16/2017\",\"10/17/2017\",\"10/18/2017\",\"10/19/2017\",\"10/20/2017\",\"10/21/2017\",\"10/22/2017\",\"10/23/2017\",\"10/24/2017\",\"10/25/2017\",\"10/26/2017\",\"10/27/2017\",\"10/28/2017\",\"10/29/2017\",\"10/30/2017\",\"10/31/2017\",\"11/1/2017\",\"11/2/2017\",\"11/3/2017\",\"11/4/2017\",\"11/5/2017\",\"11/6/2017\",\"11/7/2017\",\"11/8/2017\",\"11/9/2017\",\"11/10/2017\",\"11/11/2017\",\"11/12/2017\",\"11/13/2017\",\"11/14/2017\",\"11/15/2017\",\"11/16/2017\",\"11/17/2017\",\"11/18/2017\",\"11/19/2017\",\"11/20/2017\",\"11/21/2017\",\"11/22/2017\",\"11/23/2017\",\"11/24/2017\",\"11/25/2017\",\"11/26/2017\",\"11/27/2017\",\"11/28/2017\",\"11/29/2017\",\"11/30/2017\",\"12/1/2017\",\"12/2/2017\",\"12/3/2017\",\"12/4/2017\",\"12/5/2017\",\"12/6/2017\",\"12/7/2017\",\"12/8/2017\",\"12/9/2017\",\"12/10/2017\",\"12/11/2017\",\"12/12/2017\",\"12/13/2017\",\"12/14/2017\",\"12/15/2017\",\"12/16/2017\",\"12/17/2017\",\"12/18/2017\",\"12/19/2017\",\"12/20/2017\",\"12/21/2017\",\"12/22/2017\",\"12/23/2017\",\"12/24/2017\",\"12/25/2017\",\"12/26/2017\",\"12/27/2017\",\"12/28/2017\",\"12/29/2017\",\"12/30/2017\",\"12/31/2017\",\"1/1/2018\",\"1/2/2018\",\"1/3/2018\",\"1/4/2018\",\"1/5/2018\",\"1/6/2018\",\"1/7/2018\",\"1/8/2018\",\"1/9/2018\",\"1/10/2018\",\"1/11/2018\",\"1/12/2018\",\"1/13/2018\",\"1/14/2018\",\"1/15/2018\",\"1/16/2018\",\"1/17/2018\",\"1/18/2018\",\"1/19/2018\",\"1/20/2018\",\"1/21/2018\",\"1/22/2018\",\"1/24/2018\",\"1/25/2018\",\"1/26/2018\",\"1/27/2018\",\"1/28/2018\",\"1/29/2018\",\"1/30/2018\",\"1/31/2018\",\"2/1/2018\",\"2/2/2018\",\"2/3/2018\",\"2/4/2018\",\"2/5/2018\",\"2/6/2018\",\"2/7/2018\",\"2/8/2018\",\"2/9/2018\",\"2/10/2018\",\"2/11/2018\",\"2/12/2018\",\"2/13/2018\",\"2/14/2018\",\"2/15/2018\",\"2/16/2018\",\"2/17/2018\",\"2/18/2018\",\"2/19/2018\",\"2/20/2018\",\"2/21/2018\",\"2/22/2018\",\"2/23/2018\",\"2/24/2018\",\"2/25/2018\",\"2/26/2018\",\"2/27/2018\",\"2/28/2018\",\"3/1/2018\",\"3/2/2018\",\"3/3/2018\",\"3/4/2018\",\"3/5/2018\",\"3/6/2018\",\"3/7/2018\",\"3/8/2018\",\"3/9/2018\",\"3/10/2018\",\"3/11/2018\",\"3/12/2018\",\"3/13/2018\",\"3/14/2018\",\"3/15/2018\",\"3/16/2018\",\"3/17/2018\",\"3/18/2018\",\"3/19/2018\",\"3/20/2018\",\"3/21/2018\",\"3/22/2018\",\"3/23/2018\",\"3/24/2018\",\"3/25/2018\",\"3/26/2018\",\"3/27/2018\",\"3/28/2018\",\"3/29/2018\",\"3/30/2018\",\"3/31/2018\",\"4/1/2018\",\"4/2/2018\",\"4/3/2018\",\"4/4/2018\",\"4/5/2018\",\"4/6/2018\",\"4/7/2018\",\"4/8/2018\",\"4/9/2018\",\"4/10/2018\",\"4/11/2018\",\"4/12/2018\",\"4/13/2018\",\"4/14/2018\",\"4/15/2018\",\"4/16/2018\",\"4/17/2018\",\"4/18/2018\",\"4/19/2018\",\"4/20/2018\",\"4/21/2018\",\"4/22/2018\",\"4/23/2018\",\"4/24/2018\",\"4/25/2018\",\"4/26/2018\",\"4/27/2018\",\"4/28/2018\",\"4/29/2018\",\"4/30/2018\",\"5/1/2018\",\"5/2/2018\",\"5/3/2018\",\"5/4/2018\",\"5/5/2018\",\"5/6/2018\",\"5/7/2018\",\"5/8/2018\",\"5/9/2018\",\"5/10/2018\",\"5/11/2018\",\"5/12/2018\",\"5/13/2018\",\"5/14/2018\",\"5/15/2018\",\"5/16/2018\",\"5/17/2018\",\"5/18/2018\",\"5/19/2018\",\"5/20/2018\",\"5/21/2018\",\"5/22/2018\",\"5/23/2018\",\"5/24/2018\",\"5/25/2018\",\"5/26/2018\",\"5/27/2018\",\"5/28/2018\",\"5/29/2018\",\"5/30/2018\",\"5/31/2018\",\"6/1/2018\",\"6/2/2018\",\"6/3/2018\",\"6/4/2018\",\"6/5/2018\",\"6/6/2018\",\"6/7/2018\",\"6/8/2018\",\"6/9/2018\",\"6/10/2018\",\"6/11/2018\",\"6/12/2018\",\"6/13/2018\",\"6/14/2018\",\"6/15/2018\",\"6/16/2018\",\"6/17/2018\",\"6/18/2018\",\"6/19/2018\",\"6/20/2018\",\"6/21/2018\",\"6/22/2018\",\"6/23/2018\",\"6/24/2018\",\"6/25/2018\",\"6/26/2018\",\"6/27/2018\",\"6/28/2018\",\"6/29/2018\",\"6/30/2018\",\"7/1/2018\",\"7/2/2018\",\"7/3/2018\",\"7/4/2018\",\"7/5/2018\",\"7/6/2018\",\"7/7/2018\",\"7/8/2018\",\"7/9/2018\",\"7/10/2018\",\"7/11/2018\",\"7/12/2018\",\"7/13/2018\",\"7/14/2018\",\"7/15/2018\",\"7/16/2018\",\"7/17/2018\",\"7/18/2018\",\"7/19/2018\",\"7/20/2018\",\"7/21/2018\",\"7/22/2018\",\"7/23/2018\",\"7/24/2018\",\"7/25/2018\",\"7/26/2018\",\"7/27/2018\",\"7/28/2018\",\"7/29/2018\",\"7/30/2018\",\"7/31/2018\",\"8/1/2018\",\"8/2/2018\",\"8/3/2018\",\"8/4/2018\",\"8/5/2018\",\"8/6/2018\",\"8/7/2018\",\"8/8/2018\",\"8/9/2018\",\"8/10/2018\",\"8/11/2018\",\"8/12/2018\",\"8/13/2018\",\"8/14/2018\",\"8/15/2018\",\"8/16/2018\",\"8/17/2018\",\"8/18/2018\",\"8/19/2018\",\"8/20/2018\",\"8/21/2018\",\"8/22/2018\",\"8/23/2018\",\"8/24/2018\",\"8/25/2018\",\"8/26/2018\",\"8/27/2018\",\"8/28/2018\",\"8/29/2018\",\"8/30/2018\",\"8/31/2018\",\"9/1/2018\",\"9/2/2018\",\"9/3/2018\",\"9/4/2018\",\"9/5/2018\",\"9/6/2018\",\"9/7/2018\",\"9/8/2018\",\"9/9/2018\",\"9/10/2018\",\"9/11/2018\",\"9/12/2018\",\"9/13/2018\",\"9/14/2018\",\"9/15/2018\",\"9/16/2018\",\"9/17/2018\",\"9/18/2018\",\"9/20/2018\",\"9/21/2018\",\"9/22/2018\",\"9/23/2018\",\"9/24/2018\",\"9/25/2018\",\"9/26/2018\",\"9/27/2018\",\"9/28/2018\",\"9/29/2018\",\"9/30/2018\",\"10/1/2018\",\"10/2/2018\",\"10/3/2018\",\"10/4/2018\",\"10/5/2018\",\"10/6/2018\",\"10/7/2018\",\"10/8/2018\",\"10/9/2018\",\"10/10/2018\",\"10/11/2018\",\"10/12/2018\",\"10/13/2018\",\"10/14/2018\",\"10/15/2018\",\"10/16/2018\",\"10/17/2018\",\"10/18/2018\",\"10/19/2018\",\"10/20/2018\",\"10/21/2018\",\"10/22/2018\",\"10/23/2018\",\"10/24/2018\",\"10/25/2018\",\"10/26/2018\",\"10/27/2018\",\"10/28/2018\",\"10/29/2018\",\"10/30/2018\",\"10/31/2018\",\"11/1/2018\",\"11/2/2018\",\"11/3/2018\",\"11/4/2018\",\"11/5/2018\",\"11/6/2018\",\"11/7/2018\",\"11/8/2018\",\"11/9/2018\",\"11/10/2018\",\"11/11/2018\",\"11/12/2018\",\"11/13/2018\",\"11/14/2018\",\"11/15/2018\",\"11/16/2018\",\"11/17/2018\",\"11/18/2018\",\"11/19/2018\",\"11/20/2018\",\"11/21/2018\",\"11/22/2018\",\"11/23/2018\",\"11/24/2018\",\"11/25/2018\",\"11/26/2018\",\"11/27/2018\",\"11/28/2018\",\"11/29/2018\",\"11/30/2018\",\"12/1/2018\",\"12/2/2018\",\"12/3/2018\",\"12/4/2018\",\"12/5/2018\",\"12/6/2018\",\"12/7/2018\",\"12/8/2018\",\"12/9/2018\",\"12/10/2018\",\"12/11/2018\",\"12/12/2018\",\"12/13/2018\",\"12/14/2018\",\"12/15/2018\",\"12/16/2018\",\"12/17/2018\",\"12/18/2018\",\"12/19/2018\",\"12/20/2018\",\"12/21/2018\",\"12/22/2018\",\"12/23/2018\",\"12/24/2018\",\"12/25/2018\",\"12/26/2018\",\"12/27/2018\",\"12/28/2018\",\"12/29/2018\",\"12/30/2018\",\"12/31/2018\",\"1/1/2019\",\"1/2/2019\",\"1/3/2019\",\"1/4/2019\",\"1/5/2019\",\"1/6/2019\",\"1/7/2019\",\"1/8/2019\",\"1/9/2019\",\"1/10/2019\",\"1/11/2019\",\"1/12/2019\",\"1/13/2019\",\"1/14/2019\",\"1/15/2019\",\"1/16/2019\",\"1/17/2019\",\"1/18/2019\",\"1/19/2019\",\"1/20/2019\",\"1/21/2019\",\"1/22/2019\",\"1/23/2019\",\"1/24/2019\",\"1/25/2019\",\"1/26/2019\",\"1/27/2019\",\"1/28/2019\",\"1/29/2019\",\"1/30/2019\",\"1/31/2019\",\"2/1/2019\",\"2/2/2019\",\"2/3/2019\",\"2/4/2019\",\"2/5/2019\",\"2/6/2019\",\"2/7/2019\",\"2/8/2019\",\"2/9/2019\",\"2/10/2019\",\"2/11/2019\",\"2/12/2019\",\"2/13/2019\",\"2/14/2019\",\"2/15/2019\",\"2/16/2019\",\"2/17/2019\",\"2/18/2019\",\"2/19/2019\",\"2/20/2019\",\"2/21/2019\",\"2/22/2019\",\"2/23/2019\",\"2/24/2019\",\"2/25/2019\",\"2/26/2019\",\"2/27/2019\",\"2/28/2019\",\"3/1/2019\",\"3/2/2019\",\"3/3/2019\",\"3/4/2019\",\"3/5/2019\",\"3/6/2019\",\"3/7/2019\",\"3/8/2019\",\"3/9/2019\",\"3/10/2019\",\"3/11/2019\",\"3/12/2019\",\"3/13/2019\",\"3/14/2019\",\"3/15/2019\",\"3/16/2019\",\"3/17/2019\",\"3/18/2019\",\"3/19/2019\",\"3/20/2019\",\"3/21/2019\",\"3/22/2019\",\"3/23/2019\",\"3/24/2019\",\"3/25/2019\",\"3/26/2019\",\"3/27/2019\",\"3/28/2019\",\"3/29/2019\",\"3/30/2019\",\"3/31/2019\",\"4/1/2019\",\"4/2/2019\",\"4/3/2019\",\"4/4/2019\",\"4/5/2019\",\"4/6/2019\",\"4/7/2019\",\"4/8/2019\",\"4/9/2019\",\"4/10/2019\",\"4/11/2019\",\"4/12/2019\",\"4/13/2019\",\"4/14/2019\",\"4/15/2019\",\"4/16/2019\",\"4/17/2019\",\"4/18/2019\",\"4/19/2019\",\"4/20/2019\",\"4/21/2019\",\"4/22/2019\",\"4/23/2019\",\"4/24/2019\",\"4/25/2019\",\"4/26/2019\",\"4/27/2019\",\"4/28/2019\",\"4/29/2019\",\"4/30/2019\",\"5/1/2019\",\"5/2/2019\",\"5/3/2019\",\"5/4/2019\",\"5/5/2019\",\"5/6/2019\",\"5/7/2019\",\"5/8/2019\",\"5/9/2019\",\"5/10/2019\",\"5/11/2019\",\"5/12/2019\",\"5/13/2019\",\"5/14/2019\",\"5/15/2019\",\"5/16/2019\",\"5/17/2019\",\"5/18/2019\",\"5/19/2019\",\"5/20/2019\",\"5/21/2019\",\"5/22/2019\",\"5/23/2019\",\"5/24/2019\",\"5/25/2019\",\"5/26/2019\",\"5/27/2019\",\"5/28/2019\",\"5/29/2019\",\"5/30/2019\",\"5/31/2019\",\"6/1/2019\",\"6/2/2019\",\"6/3/2019\",\"6/4/2019\",\"6/5/2019\",\"6/6/2019\",\"6/7/2019\",\"6/8/2019\",\"6/9/2019\",\"6/10/2019\",\"6/11/2019\",\"6/12/2019\",\"6/13/2019\",\"6/14/2019\",\"6/15/2019\",\"6/16/2019\",\"6/17/2019\",\"6/18/2019\",\"6/19/2019\",\"6/20/2019\",\"6/21/2019\",\"6/22/2019\",\"6/23/2019\",\"6/24/2019\",\"6/25/2019\",\"6/26/2019\",\"6/27/2019\",\"6/28/2019\",\"6/29/2019\",\"6/30/2019\",\"7/1/2019\",\"7/2/2019\",\"7/3/2019\",\"7/4/2019\",\"7/5/2019\",\"7/6/2019\",\"7/7/2019\",\"7/8/2019\",\"7/9/2019\",\"7/10/2019\",\"7/11/2019\",\"7/12/2019\",\"7/13/2019\",\"7/14/2019\",\"7/15/2019\",\"7/16/2019\",\"7/17/2019\",\"7/18/2019\",\"7/19/2019\",\"7/20/2019\",\"7/21/2019\",\"7/22/2019\",\"7/23/2019\",\"7/24/2019\",\"7/25/2019\",\"7/26/2019\",\"7/27/2019\",\"7/28/2019\",\"7/29/2019\",\"7/30/2019\",\"7/31/2019\",\"8/1/2019\",\"8/2/2019\",\"8/3/2019\",\"8/4/2019\",\"8/5/2019\",\"8/6/2019\",\"8/7/2019\",\"8/8/2019\",\"8/9/2019\",\"8/10/2019\",\"8/11/2019\",\"8/12/2019\",\"8/13/2019\",\"8/14/2019\",\"8/15/2019\",\"8/16/2019\",\"8/17/2019\",\"8/18/2019\",\"8/19/2019\",\"8/20/2019\",\"8/21/2019\",\"8/22/2019\",\"8/23/2019\",\"8/24/2019\",\"8/25/2019\",\"8/26/2019\",\"8/27/2019\",\"8/28/2019\",\"8/29/2019\",\"8/30/2019\",\"8/31/2019\",\"9/1/2019\",\"9/2/2019\",\"9/3/2019\",\"9/4/2019\",\"9/5/2019\",\"9/6/2019\",\"9/7/2019\",\"9/8/2019\",\"9/9/2019\",\"9/10/2019\",\"9/11/2019\",\"9/12/2019\",\"9/13/2019\",\"9/14/2019\",\"9/15/2019\",\"9/16/2019\",\"9/17/2019\",\"9/18/2019\",\"9/19/2019\",\"9/20/2019\",\"9/21/2019\",\"9/22/2019\",\"9/23/2019\",\"9/24/2019\",\"9/25/2019\",\"9/26/2019\",\"9/27/2019\",\"9/28/2019\",\"9/29/2019\",\"9/30/2019\",\"10/1/2019\",\"10/2/2019\",\"10/3/2019\",\"10/4/2019\",\"10/5/2019\",\"10/6/2019\",\"10/7/2019\",\"10/8/2019\",\"10/10/2019\",\"10/11/2019\",\"10/12/2019\",\"10/13/2019\",\"10/14/2019\",\"10/15/2019\",\"10/16/2019\",\"10/17/2019\",\"10/18/2019\",\"10/19/2019\",\"10/20/2019\",\"10/21/2019\",\"10/22/2019\",\"10/23/2019\",\"10/24/2019\",\"10/25/2019\",\"10/26/2019\",\"10/27/2019\",\"10/28/2019\",\"10/29/2019\",\"10/30/2019\",\"10/31/2019\",\"11/1/2019\",\"11/2/2019\",\"11/3/2019\",\"11/4/2019\",\"11/5/2019\",\"11/6/2019\",\"11/7/2019\",\"11/8/2019\",\"11/9/2019\",\"11/10/2019\",\"11/11/2019\",\"11/12/2019\",\"11/13/2019\",\"11/14/2019\",\"11/15/2019\",\"11/16/2019\",\"11/17/2019\",\"11/18/2019\",\"11/19/2019\",\"11/20/2019\",\"11/21/2019\",\"11/22/2019\",\"11/23/2019\",\"11/24/2019\",\"11/25/2019\",\"11/26/2019\",\"11/27/2019\",\"11/28/2019\",\"11/29/2019\",\"11/30/2019\",\"12/1/2019\",\"12/2/2019\",\"12/3/2019\",\"12/4/2019\",\"12/5/2019\",\"12/6/2019\",\"12/7/2019\",\"12/8/2019\",\"12/9/2019\",\"12/10/2019\",\"12/11/2019\",\"12/12/2019\",\"12/13/2019\",\"12/14/2019\",\"12/15/2019\",\"12/16/2019\",\"12/17/2019\",\"12/18/2019\",\"12/19/2019\",\"12/20/2019\",\"12/21/2019\",\"12/22/2019\",\"12/23/2019\",\"12/24/2019\",\"12/25/2019\",\"12/26/2019\",\"12/27/2019\",\"12/28/2019\",\"12/29/2019\",\"12/30/2019\",\"12/31/2019\"],\"y\":[176,32,17,64,55,92,500,43,81,49,233,72,150,335,17,32,41,57,66,194,509,135,33,42,39,46,40,89,27,143,16,67,38,155,700,31,164,276,25,41,130,324,23,20,10,149,16,169,514,408,30,236,133,140,285,640,42,144,246,337,184,116,431,32,101,649,496,82,118,222,206,171,68,472,288,164,515,93,791,405,605,139,275,506,116,483,815,88,465,270,319,136,408,935,571,542,316,997,171,53,359,634,847,790,957,820,326,88,47,347,44,146,52,86,192,127,213,34,212,76,1511,223,82,142,503,284,178,158,113,14,290,121,106,13,105,231,266,152,48,123,154,56,232,40,27,125,62,63,3,31,115,247,114,139,42,83,106,26,146,20,60,48,16,16,146,108,6,81,98,62,15,95,55,96,89,42,9,11,14,15,26,12,18,19,7,31,33,22,12,24,58,2,80,24,53,22,14,63,22,72,71,10,38,48,102,35,44,7,35,46,17,23,17,72,101,38,25,49,72,65,108,71,45,24,57,85,136,136,119,72,64,93,108,130,141,66,48,29,41,93,118,202,75,10,90,2,15,26,53,150,2,27,37,11,68,18,4,61,86,16,72,2,5,153,255,107,26,73,130,163,37,57,2,27,20,29,278,442,361,238,515,427,610,570,263,245,25,171,56,56,174,157,242,464,72,35,473,26,76,123,137,368,115,587,41,96,107,152,19,274,141,179,104,244,129,169,354,244,205,341,244,6,74,189,314,85,75,220,59,95,41,223,124,65,260,17,15,174,193,48,75,196,95,130,50,13,99,252,383,186,329,229,85,144,74,164,21,35,207,70,81,86,273,19,26,39,124,18,3,241,31,32,118,50,110,96,521,15,17,33,2,32,44,443,24,98,18,11,19,245,30,31,146,188,42,165,571,99,86,358,287,104,203,223,311,31,17,466,439,161,51,263,52,435,39,68,285,618,53,91,82,47,247,692,564,257,801,417,419,256,157,422,668,446,265,782,742,314,510,271,299,287,135,222,503,391,368,900,224,680,63,7,452,784,837,921,765,324,514,165,156,62,151,234,94,213,256,34,293,59,1515,255,152,282,400,985,72,47,25,114,200,758,384,332,25,114,103,154,60,240,9,29,31,45,123,109,191,141,42,21,11,62,32,17,14,143,76,23,52,54,201,76,65,49,52,136,17,112,426,20,27,156,34,98,21,33,44,53,110,51,9,56,16,79,36,64,102,14,61,84,68,21,29,71,22,25,22,36,69,33,17,6,45,38,63,48,58,47,250,70,10,16,14,45,49,79,66,45,25,143,57,68,65,143,83,119,132,48,52,51,143,134,170,112,49,62,57,178,179,113,136,79,84,118,175,191,124,87,86,58,48,119,52,89,168,46,38,4,12,14,266,1,14,146,38,159,129,8,12,21,71,78,158,2,30,31,113,72,191,174,235,276,163,195,107,139,24,16,191,30,110,54,172,238,31,26,135,106,95,62,767,239,25,86,105,118,347,385,629,47,31,175,49,54,243,140,38,51,147,359,180,373,774,39,65,161,328,99,8,178,17,43,240,159,290,376,32,54,20,179,79,403,361,115,160,61,160,72,160,293,401,94,29,126,173,111,37,20,140,194,326,113,233,10,35,14,62,423,76,29,192,63,18,55,122,95,57,70,41,27,123,546,26,10,35,127,165,510,794,53,9,135,33,171,450,779,186,238,189,143,138,418,677,162,258,142,74,156,278,671,169,109,180,99,43,199,247,20,41,105,208,89,100,83,156,100,157,505,276,432,765,161,263,407,54,40,304,470,170,394,49,743,304,565,749,215,581,328,454,120,161,94,82,143,217,290,615,665,654,532,202,384,549,188,99,169,40,22,648,345,721,567,848,394,238,933,278,439,556,864,202,350,659,330,154,102,468,759,1116,1093,1137,747,786,486,85,454,394,275,87,181,330,297,87,91,1549,508,500,471,177,276,184,326,541,44,171,66,72,197,82,25,10,49,24,202,177,69,19,88,82,22,38,37,51,23,72,149,134,182,52,31,31,50,65,12,40,259,53,40,16,93,42,118,95,25,15,29,67,55,30,11,100,55,83,71,15,51,99,102,67,23,31,13,42,36,21,91,47,50,50,68,89,33,66,70,49,30,70,59,55,39,76,42,53,18,63,21,40,29,56,11,16,122,122,131,32,40,114,171,118,255,113,91,51,54,166,149,84,82,35,39,10,35,8,16,7,15,50,8,14,249,40,154,43,57,27,6,125,21,39,66,79,174,56,106,48,37,29,98,39,128,181,14,19,44,127,23,18,10,45,28,168,103,97,233,226,428,228,442,325,208,75,99,53,91,81,179,182,758,151,60,66,142,16,738,47,311,149,130,278,199,306,427,450,56,296,157,473,177,426,114,154,83,261,121,193,72,39,147,91,204,34,34,322,40,67,67,273,33,6,22,50,36,50,140,18,65,99,125,30,105,274,133,465,239,108,75,163,411,554,172,80],\"type\":\"scatter\"},{\"marker\":{\"line\":{\"width\":1},\"size\":6},\"mode\":\"markers\",\"name\":\"Tourist Visitors\",\"x\":[\"1/1/2017\",\"1/2/2017\",\"1/3/2017\",\"1/4/2017\",\"1/5/2017\",\"1/6/2017\",\"1/7/2017\",\"1/8/2017\",\"1/9/2017\",\"1/10/2017\",\"1/11/2017\",\"1/12/2017\",\"1/13/2017\",\"1/14/2017\",\"1/15/2017\",\"1/16/2017\",\"1/17/2017\",\"1/18/2017\",\"1/19/2017\",\"1/20/2017\",\"1/21/2017\",\"1/22/2017\",\"1/23/2017\",\"1/24/2017\",\"1/25/2017\",\"1/26/2017\",\"1/27/2017\",\"1/28/2017\",\"1/29/2017\",\"1/30/2017\",\"1/31/2017\",\"2/1/2017\",\"2/2/2017\",\"2/3/2017\",\"2/4/2017\",\"2/5/2017\",\"2/6/2017\",\"2/7/2017\",\"2/8/2017\",\"2/9/2017\",\"2/10/2017\",\"2/11/2017\",\"2/12/2017\",\"2/13/2017\",\"2/14/2017\",\"2/15/2017\",\"2/16/2017\",\"2/17/2017\",\"2/18/2017\",\"2/19/2017\",\"2/20/2017\",\"2/21/2017\",\"2/22/2017\",\"2/23/2017\",\"2/24/2017\",\"2/25/2017\",\"2/26/2017\",\"2/27/2017\",\"2/28/2017\",\"3/1/2017\",\"3/2/2017\",\"3/3/2017\",\"3/4/2017\",\"3/5/2017\",\"3/6/2017\",\"3/7/2017\",\"3/8/2017\",\"3/9/2017\",\"3/10/2017\",\"3/11/2017\",\"3/12/2017\",\"3/13/2017\",\"3/14/2017\",\"3/15/2017\",\"3/16/2017\",\"3/17/2017\",\"3/18/2017\",\"3/19/2017\",\"3/20/2017\",\"3/21/2017\",\"3/22/2017\",\"3/23/2017\",\"3/24/2017\",\"3/25/2017\",\"3/26/2017\",\"3/27/2017\",\"3/28/2017\",\"3/29/2017\",\"3/30/2017\",\"3/31/2017\",\"4/1/2017\",\"4/2/2017\",\"4/3/2017\",\"4/4/2017\",\"4/5/2017\",\"4/6/2017\",\"4/7/2017\",\"4/8/2017\",\"4/9/2017\",\"4/10/2017\",\"4/11/2017\",\"4/12/2017\",\"4/13/2017\",\"4/14/2017\",\"4/15/2017\",\"4/16/2017\",\"4/17/2017\",\"4/18/2017\",\"4/19/2017\",\"4/20/2017\",\"4/21/2017\",\"4/22/2017\",\"4/23/2017\",\"4/24/2017\",\"4/25/2017\",\"4/26/2017\",\"4/27/2017\",\"4/28/2017\",\"4/29/2017\",\"4/30/2017\",\"5/1/2017\",\"5/2/2017\",\"5/3/2017\",\"5/4/2017\",\"5/5/2017\",\"5/6/2017\",\"5/7/2017\",\"5/8/2017\",\"5/9/2017\",\"5/10/2017\",\"5/11/2017\",\"5/12/2017\",\"5/13/2017\",\"5/14/2017\",\"5/15/2017\",\"5/16/2017\",\"5/17/2017\",\"5/18/2017\",\"5/19/2017\",\"5/20/2017\",\"5/21/2017\",\"5/22/2017\",\"5/23/2017\",\"5/24/2017\",\"5/25/2017\",\"5/26/2017\",\"5/27/2017\",\"5/28/2017\",\"5/29/2017\",\"5/30/2017\",\"5/31/2017\",\"6/1/2017\",\"6/2/2017\",\"6/3/2017\",\"6/4/2017\",\"6/5/2017\",\"6/6/2017\",\"6/7/2017\",\"6/8/2017\",\"6/9/2017\",\"6/10/2017\",\"6/11/2017\",\"6/12/2017\",\"6/13/2017\",\"6/14/2017\",\"6/15/2017\",\"6/16/2017\",\"6/17/2017\",\"6/18/2017\",\"6/19/2017\",\"6/20/2017\",\"6/21/2017\",\"6/22/2017\",\"6/23/2017\",\"6/24/2017\",\"6/25/2017\",\"6/26/2017\",\"6/27/2017\",\"6/28/2017\",\"6/29/2017\",\"6/30/2017\",\"7/1/2017\",\"7/2/2017\",\"7/3/2017\",\"7/4/2017\",\"7/5/2017\",\"7/6/2017\",\"7/7/2017\",\"7/8/2017\",\"7/9/2017\",\"7/10/2017\",\"7/11/2017\",\"7/12/2017\",\"7/13/2017\",\"7/14/2017\",\"7/15/2017\",\"7/16/2017\",\"7/17/2017\",\"7/18/2017\",\"7/19/2017\",\"7/20/2017\",\"7/21/2017\",\"7/22/2017\",\"7/23/2017\",\"7/24/2017\",\"7/25/2017\",\"7/26/2017\",\"7/27/2017\",\"7/28/2017\",\"7/29/2017\",\"7/30/2017\",\"7/31/2017\",\"8/1/2017\",\"8/2/2017\",\"8/3/2017\",\"8/4/2017\",\"8/5/2017\",\"8/6/2017\",\"8/7/2017\",\"8/8/2017\",\"8/9/2017\",\"8/10/2017\",\"8/11/2017\",\"8/12/2017\",\"8/13/2017\",\"8/14/2017\",\"8/15/2017\",\"8/16/2017\",\"8/17/2017\",\"8/18/2017\",\"8/19/2017\",\"8/20/2017\",\"8/21/2017\",\"8/22/2017\",\"8/23/2017\",\"8/24/2017\",\"8/25/2017\",\"8/26/2017\",\"8/27/2017\",\"8/28/2017\",\"8/29/2017\",\"8/30/2017\",\"8/31/2017\",\"9/1/2017\",\"9/2/2017\",\"9/3/2017\",\"9/4/2017\",\"9/5/2017\",\"9/6/2017\",\"9/7/2017\",\"9/8/2017\",\"9/9/2017\",\"9/10/2017\",\"9/11/2017\",\"9/12/2017\",\"9/13/2017\",\"9/14/2017\",\"9/15/2017\",\"9/16/2017\",\"9/17/2017\",\"9/18/2017\",\"9/19/2017\",\"9/20/2017\",\"9/21/2017\",\"9/22/2017\",\"9/23/2017\",\"9/24/2017\",\"9/25/2017\",\"9/26/2017\",\"9/27/2017\",\"9/28/2017\",\"9/29/2017\",\"10/1/2017\",\"10/2/2017\",\"10/3/2017\",\"10/4/2017\",\"10/5/2017\",\"10/6/2017\",\"10/7/2017\",\"10/8/2017\",\"10/9/2017\",\"10/10/2017\",\"10/11/2017\",\"10/12/2017\",\"10/13/2017\",\"10/14/2017\",\"10/15/2017\",\"10/16/2017\",\"10/17/2017\",\"10/18/2017\",\"10/19/2017\",\"10/20/2017\",\"10/21/2017\",\"10/22/2017\",\"10/23/2017\",\"10/24/2017\",\"10/25/2017\",\"10/26/2017\",\"10/27/2017\",\"10/28/2017\",\"10/29/2017\",\"10/30/2017\",\"10/31/2017\",\"11/1/2017\",\"11/2/2017\",\"11/3/2017\",\"11/4/2017\",\"11/5/2017\",\"11/6/2017\",\"11/7/2017\",\"11/8/2017\",\"11/9/2017\",\"11/10/2017\",\"11/11/2017\",\"11/12/2017\",\"11/13/2017\",\"11/14/2017\",\"11/15/2017\",\"11/16/2017\",\"11/17/2017\",\"11/18/2017\",\"11/19/2017\",\"11/20/2017\",\"11/21/2017\",\"11/22/2017\",\"11/23/2017\",\"11/24/2017\",\"11/25/2017\",\"11/26/2017\",\"11/27/2017\",\"11/28/2017\",\"11/29/2017\",\"11/30/2017\",\"12/1/2017\",\"12/2/2017\",\"12/3/2017\",\"12/4/2017\",\"12/5/2017\",\"12/6/2017\",\"12/7/2017\",\"12/8/2017\",\"12/9/2017\",\"12/10/2017\",\"12/11/2017\",\"12/12/2017\",\"12/13/2017\",\"12/14/2017\",\"12/15/2017\",\"12/16/2017\",\"12/17/2017\",\"12/18/2017\",\"12/19/2017\",\"12/20/2017\",\"12/21/2017\",\"12/22/2017\",\"12/23/2017\",\"12/24/2017\",\"12/25/2017\",\"12/26/2017\",\"12/27/2017\",\"12/28/2017\",\"12/29/2017\",\"12/30/2017\",\"12/31/2017\",\"1/1/2018\",\"1/2/2018\",\"1/3/2018\",\"1/4/2018\",\"1/5/2018\",\"1/6/2018\",\"1/7/2018\",\"1/8/2018\",\"1/9/2018\",\"1/10/2018\",\"1/11/2018\",\"1/12/2018\",\"1/13/2018\",\"1/14/2018\",\"1/15/2018\",\"1/16/2018\",\"1/17/2018\",\"1/18/2018\",\"1/19/2018\",\"1/20/2018\",\"1/21/2018\",\"1/22/2018\",\"1/24/2018\",\"1/25/2018\",\"1/26/2018\",\"1/27/2018\",\"1/28/2018\",\"1/29/2018\",\"1/30/2018\",\"1/31/2018\",\"2/1/2018\",\"2/2/2018\",\"2/3/2018\",\"2/4/2018\",\"2/5/2018\",\"2/6/2018\",\"2/7/2018\",\"2/8/2018\",\"2/9/2018\",\"2/10/2018\",\"2/11/2018\",\"2/12/2018\",\"2/13/2018\",\"2/14/2018\",\"2/15/2018\",\"2/16/2018\",\"2/17/2018\",\"2/18/2018\",\"2/19/2018\",\"2/20/2018\",\"2/21/2018\",\"2/22/2018\",\"2/23/2018\",\"2/24/2018\",\"2/25/2018\",\"2/26/2018\",\"2/27/2018\",\"2/28/2018\",\"3/1/2018\",\"3/2/2018\",\"3/3/2018\",\"3/4/2018\",\"3/5/2018\",\"3/6/2018\",\"3/7/2018\",\"3/8/2018\",\"3/9/2018\",\"3/10/2018\",\"3/11/2018\",\"3/12/2018\",\"3/13/2018\",\"3/14/2018\",\"3/15/2018\",\"3/16/2018\",\"3/17/2018\",\"3/18/2018\",\"3/19/2018\",\"3/20/2018\",\"3/21/2018\",\"3/22/2018\",\"3/23/2018\",\"3/24/2018\",\"3/25/2018\",\"3/26/2018\",\"3/27/2018\",\"3/28/2018\",\"3/29/2018\",\"3/30/2018\",\"3/31/2018\",\"4/1/2018\",\"4/2/2018\",\"4/3/2018\",\"4/4/2018\",\"4/5/2018\",\"4/6/2018\",\"4/7/2018\",\"4/8/2018\",\"4/9/2018\",\"4/10/2018\",\"4/11/2018\",\"4/12/2018\",\"4/13/2018\",\"4/14/2018\",\"4/15/2018\",\"4/16/2018\",\"4/17/2018\",\"4/18/2018\",\"4/19/2018\",\"4/20/2018\",\"4/21/2018\",\"4/22/2018\",\"4/23/2018\",\"4/24/2018\",\"4/25/2018\",\"4/26/2018\",\"4/27/2018\",\"4/28/2018\",\"4/29/2018\",\"4/30/2018\",\"5/1/2018\",\"5/2/2018\",\"5/3/2018\",\"5/4/2018\",\"5/5/2018\",\"5/6/2018\",\"5/7/2018\",\"5/8/2018\",\"5/9/2018\",\"5/10/2018\",\"5/11/2018\",\"5/12/2018\",\"5/13/2018\",\"5/14/2018\",\"5/15/2018\",\"5/16/2018\",\"5/17/2018\",\"5/18/2018\",\"5/19/2018\",\"5/20/2018\",\"5/21/2018\",\"5/22/2018\",\"5/23/2018\",\"5/24/2018\",\"5/25/2018\",\"5/26/2018\",\"5/27/2018\",\"5/28/2018\",\"5/29/2018\",\"5/30/2018\",\"5/31/2018\",\"6/1/2018\",\"6/2/2018\",\"6/3/2018\",\"6/4/2018\",\"6/5/2018\",\"6/6/2018\",\"6/7/2018\",\"6/8/2018\",\"6/9/2018\",\"6/10/2018\",\"6/11/2018\",\"6/12/2018\",\"6/13/2018\",\"6/14/2018\",\"6/15/2018\",\"6/16/2018\",\"6/17/2018\",\"6/18/2018\",\"6/19/2018\",\"6/20/2018\",\"6/21/2018\",\"6/22/2018\",\"6/23/2018\",\"6/24/2018\",\"6/25/2018\",\"6/26/2018\",\"6/27/2018\",\"6/28/2018\",\"6/29/2018\",\"6/30/2018\",\"7/1/2018\",\"7/2/2018\",\"7/3/2018\",\"7/4/2018\",\"7/5/2018\",\"7/6/2018\",\"7/7/2018\",\"7/8/2018\",\"7/9/2018\",\"7/10/2018\",\"7/11/2018\",\"7/12/2018\",\"7/13/2018\",\"7/14/2018\",\"7/15/2018\",\"7/16/2018\",\"7/17/2018\",\"7/18/2018\",\"7/19/2018\",\"7/20/2018\",\"7/21/2018\",\"7/22/2018\",\"7/23/2018\",\"7/24/2018\",\"7/25/2018\",\"7/26/2018\",\"7/27/2018\",\"7/28/2018\",\"7/29/2018\",\"7/30/2018\",\"7/31/2018\",\"8/1/2018\",\"8/2/2018\",\"8/3/2018\",\"8/4/2018\",\"8/5/2018\",\"8/6/2018\",\"8/7/2018\",\"8/8/2018\",\"8/9/2018\",\"8/10/2018\",\"8/11/2018\",\"8/12/2018\",\"8/13/2018\",\"8/14/2018\",\"8/15/2018\",\"8/16/2018\",\"8/17/2018\",\"8/18/2018\",\"8/19/2018\",\"8/20/2018\",\"8/21/2018\",\"8/22/2018\",\"8/23/2018\",\"8/24/2018\",\"8/25/2018\",\"8/26/2018\",\"8/27/2018\",\"8/28/2018\",\"8/29/2018\",\"8/30/2018\",\"8/31/2018\",\"9/1/2018\",\"9/2/2018\",\"9/3/2018\",\"9/4/2018\",\"9/5/2018\",\"9/6/2018\",\"9/7/2018\",\"9/8/2018\",\"9/9/2018\",\"9/10/2018\",\"9/11/2018\",\"9/12/2018\",\"9/13/2018\",\"9/14/2018\",\"9/15/2018\",\"9/16/2018\",\"9/17/2018\",\"9/18/2018\",\"9/20/2018\",\"9/21/2018\",\"9/22/2018\",\"9/23/2018\",\"9/24/2018\",\"9/25/2018\",\"9/26/2018\",\"9/27/2018\",\"9/28/2018\",\"9/29/2018\",\"9/30/2018\",\"10/1/2018\",\"10/2/2018\",\"10/3/2018\",\"10/4/2018\",\"10/5/2018\",\"10/6/2018\",\"10/7/2018\",\"10/8/2018\",\"10/9/2018\",\"10/10/2018\",\"10/11/2018\",\"10/12/2018\",\"10/13/2018\",\"10/14/2018\",\"10/15/2018\",\"10/16/2018\",\"10/17/2018\",\"10/18/2018\",\"10/19/2018\",\"10/20/2018\",\"10/21/2018\",\"10/22/2018\",\"10/23/2018\",\"10/24/2018\",\"10/25/2018\",\"10/26/2018\",\"10/27/2018\",\"10/28/2018\",\"10/29/2018\",\"10/30/2018\",\"10/31/2018\",\"11/1/2018\",\"11/2/2018\",\"11/3/2018\",\"11/4/2018\",\"11/5/2018\",\"11/6/2018\",\"11/7/2018\",\"11/8/2018\",\"11/9/2018\",\"11/10/2018\",\"11/11/2018\",\"11/12/2018\",\"11/13/2018\",\"11/14/2018\",\"11/15/2018\",\"11/16/2018\",\"11/17/2018\",\"11/18/2018\",\"11/19/2018\",\"11/20/2018\",\"11/21/2018\",\"11/22/2018\",\"11/23/2018\",\"11/24/2018\",\"11/25/2018\",\"11/26/2018\",\"11/27/2018\",\"11/28/2018\",\"11/29/2018\",\"11/30/2018\",\"12/1/2018\",\"12/2/2018\",\"12/3/2018\",\"12/4/2018\",\"12/5/2018\",\"12/6/2018\",\"12/7/2018\",\"12/8/2018\",\"12/9/2018\",\"12/10/2018\",\"12/11/2018\",\"12/12/2018\",\"12/13/2018\",\"12/14/2018\",\"12/15/2018\",\"12/16/2018\",\"12/17/2018\",\"12/18/2018\",\"12/19/2018\",\"12/20/2018\",\"12/21/2018\",\"12/22/2018\",\"12/23/2018\",\"12/24/2018\",\"12/25/2018\",\"12/26/2018\",\"12/27/2018\",\"12/28/2018\",\"12/29/2018\",\"12/30/2018\",\"12/31/2018\",\"1/1/2019\",\"1/2/2019\",\"1/3/2019\",\"1/4/2019\",\"1/5/2019\",\"1/6/2019\",\"1/7/2019\",\"1/8/2019\",\"1/9/2019\",\"1/10/2019\",\"1/11/2019\",\"1/12/2019\",\"1/13/2019\",\"1/14/2019\",\"1/15/2019\",\"1/16/2019\",\"1/17/2019\",\"1/18/2019\",\"1/19/2019\",\"1/20/2019\",\"1/21/2019\",\"1/22/2019\",\"1/23/2019\",\"1/24/2019\",\"1/25/2019\",\"1/26/2019\",\"1/27/2019\",\"1/28/2019\",\"1/29/2019\",\"1/30/2019\",\"1/31/2019\",\"2/1/2019\",\"2/2/2019\",\"2/3/2019\",\"2/4/2019\",\"2/5/2019\",\"2/6/2019\",\"2/7/2019\",\"2/8/2019\",\"2/9/2019\",\"2/10/2019\",\"2/11/2019\",\"2/12/2019\",\"2/13/2019\",\"2/14/2019\",\"2/15/2019\",\"2/16/2019\",\"2/17/2019\",\"2/18/2019\",\"2/19/2019\",\"2/20/2019\",\"2/21/2019\",\"2/22/2019\",\"2/23/2019\",\"2/24/2019\",\"2/25/2019\",\"2/26/2019\",\"2/27/2019\",\"2/28/2019\",\"3/1/2019\",\"3/2/2019\",\"3/3/2019\",\"3/4/2019\",\"3/5/2019\",\"3/6/2019\",\"3/7/2019\",\"3/8/2019\",\"3/9/2019\",\"3/10/2019\",\"3/11/2019\",\"3/12/2019\",\"3/13/2019\",\"3/14/2019\",\"3/15/2019\",\"3/16/2019\",\"3/17/2019\",\"3/18/2019\",\"3/19/2019\",\"3/20/2019\",\"3/21/2019\",\"3/22/2019\",\"3/23/2019\",\"3/24/2019\",\"3/25/2019\",\"3/26/2019\",\"3/27/2019\",\"3/28/2019\",\"3/29/2019\",\"3/30/2019\",\"3/31/2019\",\"4/1/2019\",\"4/2/2019\",\"4/3/2019\",\"4/4/2019\",\"4/5/2019\",\"4/6/2019\",\"4/7/2019\",\"4/8/2019\",\"4/9/2019\",\"4/10/2019\",\"4/11/2019\",\"4/12/2019\",\"4/13/2019\",\"4/14/2019\",\"4/15/2019\",\"4/16/2019\",\"4/17/2019\",\"4/18/2019\",\"4/19/2019\",\"4/20/2019\",\"4/21/2019\",\"4/22/2019\",\"4/23/2019\",\"4/24/2019\",\"4/25/2019\",\"4/26/2019\",\"4/27/2019\",\"4/28/2019\",\"4/29/2019\",\"4/30/2019\",\"5/1/2019\",\"5/2/2019\",\"5/3/2019\",\"5/4/2019\",\"5/5/2019\",\"5/6/2019\",\"5/7/2019\",\"5/8/2019\",\"5/9/2019\",\"5/10/2019\",\"5/11/2019\",\"5/12/2019\",\"5/13/2019\",\"5/14/2019\",\"5/15/2019\",\"5/16/2019\",\"5/17/2019\",\"5/18/2019\",\"5/19/2019\",\"5/20/2019\",\"5/21/2019\",\"5/22/2019\",\"5/23/2019\",\"5/24/2019\",\"5/25/2019\",\"5/26/2019\",\"5/27/2019\",\"5/28/2019\",\"5/29/2019\",\"5/30/2019\",\"5/31/2019\",\"6/1/2019\",\"6/2/2019\",\"6/3/2019\",\"6/4/2019\",\"6/5/2019\",\"6/6/2019\",\"6/7/2019\",\"6/8/2019\",\"6/9/2019\",\"6/10/2019\",\"6/11/2019\",\"6/12/2019\",\"6/13/2019\",\"6/14/2019\",\"6/15/2019\",\"6/16/2019\",\"6/17/2019\",\"6/18/2019\",\"6/19/2019\",\"6/20/2019\",\"6/21/2019\",\"6/22/2019\",\"6/23/2019\",\"6/24/2019\",\"6/25/2019\",\"6/26/2019\",\"6/27/2019\",\"6/28/2019\",\"6/29/2019\",\"6/30/2019\",\"7/1/2019\",\"7/2/2019\",\"7/3/2019\",\"7/4/2019\",\"7/5/2019\",\"7/6/2019\",\"7/7/2019\",\"7/8/2019\",\"7/9/2019\",\"7/10/2019\",\"7/11/2019\",\"7/12/2019\",\"7/13/2019\",\"7/14/2019\",\"7/15/2019\",\"7/16/2019\",\"7/17/2019\",\"7/18/2019\",\"7/19/2019\",\"7/20/2019\",\"7/21/2019\",\"7/22/2019\",\"7/23/2019\",\"7/24/2019\",\"7/25/2019\",\"7/26/2019\",\"7/27/2019\",\"7/28/2019\",\"7/29/2019\",\"7/30/2019\",\"7/31/2019\",\"8/1/2019\",\"8/2/2019\",\"8/3/2019\",\"8/4/2019\",\"8/5/2019\",\"8/6/2019\",\"8/7/2019\",\"8/8/2019\",\"8/9/2019\",\"8/10/2019\",\"8/11/2019\",\"8/12/2019\",\"8/13/2019\",\"8/14/2019\",\"8/15/2019\",\"8/16/2019\",\"8/17/2019\",\"8/18/2019\",\"8/19/2019\",\"8/20/2019\",\"8/21/2019\",\"8/22/2019\",\"8/23/2019\",\"8/24/2019\",\"8/25/2019\",\"8/26/2019\",\"8/27/2019\",\"8/28/2019\",\"8/29/2019\",\"8/30/2019\",\"8/31/2019\",\"9/1/2019\",\"9/2/2019\",\"9/3/2019\",\"9/4/2019\",\"9/5/2019\",\"9/6/2019\",\"9/7/2019\",\"9/8/2019\",\"9/9/2019\",\"9/10/2019\",\"9/11/2019\",\"9/12/2019\",\"9/13/2019\",\"9/14/2019\",\"9/15/2019\",\"9/16/2019\",\"9/17/2019\",\"9/18/2019\",\"9/19/2019\",\"9/20/2019\",\"9/21/2019\",\"9/22/2019\",\"9/23/2019\",\"9/24/2019\",\"9/25/2019\",\"9/26/2019\",\"9/27/2019\",\"9/28/2019\",\"9/29/2019\",\"9/30/2019\",\"10/1/2019\",\"10/2/2019\",\"10/3/2019\",\"10/4/2019\",\"10/5/2019\",\"10/6/2019\",\"10/7/2019\",\"10/8/2019\",\"10/10/2019\",\"10/11/2019\",\"10/12/2019\",\"10/13/2019\",\"10/14/2019\",\"10/15/2019\",\"10/16/2019\",\"10/17/2019\",\"10/18/2019\",\"10/19/2019\",\"10/20/2019\",\"10/21/2019\",\"10/22/2019\",\"10/23/2019\",\"10/24/2019\",\"10/25/2019\",\"10/26/2019\",\"10/27/2019\",\"10/28/2019\",\"10/29/2019\",\"10/30/2019\",\"10/31/2019\",\"11/1/2019\",\"11/2/2019\",\"11/3/2019\",\"11/4/2019\",\"11/5/2019\",\"11/6/2019\",\"11/7/2019\",\"11/8/2019\",\"11/9/2019\",\"11/10/2019\",\"11/11/2019\",\"11/12/2019\",\"11/13/2019\",\"11/14/2019\",\"11/15/2019\",\"11/16/2019\",\"11/17/2019\",\"11/18/2019\",\"11/19/2019\",\"11/20/2019\",\"11/21/2019\",\"11/22/2019\",\"11/23/2019\",\"11/24/2019\",\"11/25/2019\",\"11/26/2019\",\"11/27/2019\",\"11/28/2019\",\"11/29/2019\",\"11/30/2019\",\"12/1/2019\",\"12/2/2019\",\"12/3/2019\",\"12/4/2019\",\"12/5/2019\",\"12/6/2019\",\"12/7/2019\",\"12/8/2019\",\"12/9/2019\",\"12/10/2019\",\"12/11/2019\",\"12/12/2019\",\"12/13/2019\",\"12/14/2019\",\"12/15/2019\",\"12/16/2019\",\"12/17/2019\",\"12/18/2019\",\"12/19/2019\",\"12/20/2019\",\"12/21/2019\",\"12/22/2019\",\"12/23/2019\",\"12/24/2019\",\"12/25/2019\",\"12/26/2019\",\"12/27/2019\",\"12/28/2019\",\"12/29/2019\",\"12/30/2019\",\"12/31/2019\"],\"y\":[154,56,102,74,116,3,64,204,2,78,56,0,70,5,49,83,49,48,70,0,20,2,40,12,5,49,43,42,2,6,7,52,14,5,4,6,5,59,17,4,42,54,0,51,4,59,21,22,33,92,54,33,21,81,1,96,81,11,110,4,104,35,30,27,67,38,49,94,64,61,60,31,99,92,230,5,89,112,63,85,152,12,51,85,107,57,170,34,132,15,124,13,24,21,45,28,4,81,75,4,45,11,132,53,65,19,21,32,46,49,143,32,63,147,26,64,102,26,19,37,71,116,47,92,77,126,71,158,49,4,91,79,33,45,65,161,118,49,102,66,97,25,106,33,71,46,22,107,25,68,66,17,45,77,33,135,145,4,29,134,50,35,54,16,46,45,2,94,189,11,31,67,70,7,81,40,17,46,73,0,21,27,0,33,0,47,52,33,1,3,11,100,34,6,27,15,3,17,54,2,14,9,19,2,26,64,126,45,9,0,7,81,0,65,15,12,41,72,35,89,59,29,10,17,0,78,5,4,0,2,11,4,0,130,3,7,15,8,8,2,31,99,0,0,3,8,16,5,119,31,29,28,114,77,20,58,8,4,26,5,4,24,2,7,13,12,59,78,20,33,21,7,13,22,9,43,12,8,20,50,19,23,87,8,44,98,137,61,82,126,54,13,195,88,71,67,156,173,57,48,75,40,128,116,15,65,48,81,92,7,128,6,48,58,42,58,107,56,81,32,78,40,48,30,35,67,3,20,11,10,60,35,6,16,47,0,51,22,2,7,13,23,94,52,90,47,7,6,41,7,5,44,72,8,2,41,53,54,224,124,231,115,41,47,48,65,73,50,0,28,185,5,106,94,32,5,11,23,50,160,97,66,5,21,130,5,57,3,0,16,0,7,44,20,5,2,18,0,2,78,64,95,5,49,2,12,26,12,24,103,56,52,70,27,92,83,30,171,8,54,27,73,113,53,15,39,49,64,82,151,117,180,82,238,69,127,106,97,121,141,16,83,71,103,72,61,87,61,60,86,49,0,104,9,4,13,13,12,79,34,3,101,75,156,109,6,32,7,236,122,50,143,16,110,64,34,89,111,24,32,52,199,146,174,98,53,8,30,23,113,57,86,51,47,152,80,19,120,9,8,4,34,19,64,79,26,103,114,118,88,66,110,159,30,78,3,151,64,49,102,42,73,6,66,5,206,100,39,62,100,4,54,71,70,42,27,55,24,48,24,58,83,109,85,0,35,9,67,6,135,17,37,1,56,110,5,14,5,0,26,4,136,7,42,4,27,32,52,5,5,9,0,9,14,18,5,0,4,5,17,30,61,34,3,7,16,8,16,50,112,10,7,2,8,25,43,3,3,4,16,3,15,0,49,49,5,34,7,1,26,2,7,27,68,23,12,65,8,36,2,16,0,18,0,0,16,5,2,24,17,51,19,34,4,22,22,57,52,157,198,28,107,154,28,108,74,53,134,136,218,151,140,10,55,54,97,102,70,127,55,168,82,19,89,150,73,187,27,66,44,54,192,31,35,31,88,3,42,13,55,84,40,30,38,58,119,11,18,14,12,2,46,32,44,15,22,11,20,97,12,120,0,0,2,0,37,200,44,2,35,28,5,0,90,190,129,59,20,12,14,417,207,5,213,17,105,60,30,10,58,230,84,92,53,69,39,13,19,10,2,40,103,0,103,71,27,74,168,73,24,50,0,22,5,0,55,58,41,1,23,2,118,73,46,125,15,16,35,31,74,8,31,21,20,44,23,83,84,40,61,87,4,75,47,47,69,41,61,34,47,27,83,192,111,186,66,72,64,205,36,109,72,67,174,166,67,177,130,86,21,110,408,191,134,2,163,108,16,11,142,91,151,63,81,84,72,116,54,16,34,71,7,80,91,63,0,34,44,65,19,32,15,7,45,24,42,43,156,143,7,95,148,88,93,93,66,59,108,157,20,114,25,13,3,48,129,101,81,77,58,38,86,91,74,55,13,35,109,21,14,27,101,108,6,55,53,8,6,14,45,16,34,21,91,49,76,88,79,63,40,24,61,69,93,83,4,14,38,77,47,147,162,159,53,48,13,130,0,160,28,28,93,0,176,64,9,82,4,0,5,15,54,183,84,3,7,49,95,86,37,46,10,2,1,11,10,21,22,8,60,4,58,15,20,1,0,11,12,57,7,5,0,41,0,95,1,7,5,0,4,4,9,3,1,27,10,33,61,25,50,80,41,25,26,77,36,89,10,7,101,33,106,50,18,12,53,23,94,1,45,87,15,31,75,46,11,53,0,36,57,65,43,56,7,28,52,60,51,100,29,126,65,55,7,7,201,120,41,101,95,2,124,51,27,32,104,51,71,63,10,13,98,29,38,14,58,60,17,8,3,4,7,40,61,29,39,13,39,0,29,47,85,31,48,52,5,145,0,39,50,44,58,12,39,11,50,40,47,42,42,28,3,16,179,54,43,70,52,154,14,69],\"type\":\"scatter\"}],                        {\"template\":{\"data\":{\"bar\":[{\"error_x\":{\"color\":\"#2a3f5f\"},\"error_y\":{\"color\":\"#2a3f5f\"},\"marker\":{\"line\":{\"color\":\"#E5ECF6\",\"width\":0.5},\"pattern\":{\"fillmode\":\"overlay\",\"size\":10,\"solidity\":0.2}},\"type\":\"bar\"}],\"barpolar\":[{\"marker\":{\"line\":{\"color\":\"#E5ECF6\",\"width\":0.5},\"pattern\":{\"fillmode\":\"overlay\",\"size\":10,\"solidity\":0.2}},\"type\":\"barpolar\"}],\"carpet\":[{\"aaxis\":{\"endlinecolor\":\"#2a3f5f\",\"gridcolor\":\"white\",\"linecolor\":\"white\",\"minorgridcolor\":\"white\",\"startlinecolor\":\"#2a3f5f\"},\"baxis\":{\"endlinecolor\":\"#2a3f5f\",\"gridcolor\":\"white\",\"linecolor\":\"white\",\"minorgridcolor\":\"white\",\"startlinecolor\":\"#2a3f5f\"},\"type\":\"carpet\"}],\"choropleth\":[{\"colorbar\":{\"outlinewidth\":0,\"ticks\":\"\"},\"type\":\"choropleth\"}],\"contour\":[{\"colorbar\":{\"outlinewidth\":0,\"ticks\":\"\"},\"colorscale\":[[0.0,\"#0d0887\"],[0.1111111111111111,\"#46039f\"],[0.2222222222222222,\"#7201a8\"],[0.3333333333333333,\"#9c179e\"],[0.4444444444444444,\"#bd3786\"],[0.5555555555555556,\"#d8576b\"],[0.6666666666666666,\"#ed7953\"],[0.7777777777777778,\"#fb9f3a\"],[0.8888888888888888,\"#fdca26\"],[1.0,\"#f0f921\"]],\"type\":\"contour\"}],\"contourcarpet\":[{\"colorbar\":{\"outlinewidth\":0,\"ticks\":\"\"},\"type\":\"contourcarpet\"}],\"heatmap\":[{\"colorbar\":{\"outlinewidth\":0,\"ticks\":\"\"},\"colorscale\":[[0.0,\"#0d0887\"],[0.1111111111111111,\"#46039f\"],[0.2222222222222222,\"#7201a8\"],[0.3333333333333333,\"#9c179e\"],[0.4444444444444444,\"#bd3786\"],[0.5555555555555556,\"#d8576b\"],[0.6666666666666666,\"#ed7953\"],[0.7777777777777778,\"#fb9f3a\"],[0.8888888888888888,\"#fdca26\"],[1.0,\"#f0f921\"]],\"type\":\"heatmap\"}],\"heatmapgl\":[{\"colorbar\":{\"outlinewidth\":0,\"ticks\":\"\"},\"colorscale\":[[0.0,\"#0d0887\"],[0.1111111111111111,\"#46039f\"],[0.2222222222222222,\"#7201a8\"],[0.3333333333333333,\"#9c179e\"],[0.4444444444444444,\"#bd3786\"],[0.5555555555555556,\"#d8576b\"],[0.6666666666666666,\"#ed7953\"],[0.7777777777777778,\"#fb9f3a\"],[0.8888888888888888,\"#fdca26\"],[1.0,\"#f0f921\"]],\"type\":\"heatmapgl\"}],\"histogram\":[{\"marker\":{\"pattern\":{\"fillmode\":\"overlay\",\"size\":10,\"solidity\":0.2}},\"type\":\"histogram\"}],\"histogram2d\":[{\"colorbar\":{\"outlinewidth\":0,\"ticks\":\"\"},\"colorscale\":[[0.0,\"#0d0887\"],[0.1111111111111111,\"#46039f\"],[0.2222222222222222,\"#7201a8\"],[0.3333333333333333,\"#9c179e\"],[0.4444444444444444,\"#bd3786\"],[0.5555555555555556,\"#d8576b\"],[0.6666666666666666,\"#ed7953\"],[0.7777777777777778,\"#fb9f3a\"],[0.8888888888888888,\"#fdca26\"],[1.0,\"#f0f921\"]],\"type\":\"histogram2d\"}],\"histogram2dcontour\":[{\"colorbar\":{\"outlinewidth\":0,\"ticks\":\"\"},\"colorscale\":[[0.0,\"#0d0887\"],[0.1111111111111111,\"#46039f\"],[0.2222222222222222,\"#7201a8\"],[0.3333333333333333,\"#9c179e\"],[0.4444444444444444,\"#bd3786\"],[0.5555555555555556,\"#d8576b\"],[0.6666666666666666,\"#ed7953\"],[0.7777777777777778,\"#fb9f3a\"],[0.8888888888888888,\"#fdca26\"],[1.0,\"#f0f921\"]],\"type\":\"histogram2dcontour\"}],\"mesh3d\":[{\"colorbar\":{\"outlinewidth\":0,\"ticks\":\"\"},\"type\":\"mesh3d\"}],\"parcoords\":[{\"line\":{\"colorbar\":{\"outlinewidth\":0,\"ticks\":\"\"}},\"type\":\"parcoords\"}],\"pie\":[{\"automargin\":true,\"type\":\"pie\"}],\"scatter\":[{\"marker\":{\"colorbar\":{\"outlinewidth\":0,\"ticks\":\"\"}},\"type\":\"scatter\"}],\"scatter3d\":[{\"line\":{\"colorbar\":{\"outlinewidth\":0,\"ticks\":\"\"}},\"marker\":{\"colorbar\":{\"outlinewidth\":0,\"ticks\":\"\"}},\"type\":\"scatter3d\"}],\"scattercarpet\":[{\"marker\":{\"colorbar\":{\"outlinewidth\":0,\"ticks\":\"\"}},\"type\":\"scattercarpet\"}],\"scattergeo\":[{\"marker\":{\"colorbar\":{\"outlinewidth\":0,\"ticks\":\"\"}},\"type\":\"scattergeo\"}],\"scattergl\":[{\"marker\":{\"colorbar\":{\"outlinewidth\":0,\"ticks\":\"\"}},\"type\":\"scattergl\"}],\"scattermapbox\":[{\"marker\":{\"colorbar\":{\"outlinewidth\":0,\"ticks\":\"\"}},\"type\":\"scattermapbox\"}],\"scatterpolar\":[{\"marker\":{\"colorbar\":{\"outlinewidth\":0,\"ticks\":\"\"}},\"type\":\"scatterpolar\"}],\"scatterpolargl\":[{\"marker\":{\"colorbar\":{\"outlinewidth\":0,\"ticks\":\"\"}},\"type\":\"scatterpolargl\"}],\"scatterternary\":[{\"marker\":{\"colorbar\":{\"outlinewidth\":0,\"ticks\":\"\"}},\"type\":\"scatterternary\"}],\"surface\":[{\"colorbar\":{\"outlinewidth\":0,\"ticks\":\"\"},\"colorscale\":[[0.0,\"#0d0887\"],[0.1111111111111111,\"#46039f\"],[0.2222222222222222,\"#7201a8\"],[0.3333333333333333,\"#9c179e\"],[0.4444444444444444,\"#bd3786\"],[0.5555555555555556,\"#d8576b\"],[0.6666666666666666,\"#ed7953\"],[0.7777777777777778,\"#fb9f3a\"],[0.8888888888888888,\"#fdca26\"],[1.0,\"#f0f921\"]],\"type\":\"surface\"}],\"table\":[{\"cells\":{\"fill\":{\"color\":\"#EBF0F8\"},\"line\":{\"color\":\"white\"}},\"header\":{\"fill\":{\"color\":\"#C8D4E3\"},\"line\":{\"color\":\"white\"}},\"type\":\"table\"}]},\"layout\":{\"annotationdefaults\":{\"arrowcolor\":\"#2a3f5f\",\"arrowhead\":0,\"arrowwidth\":1},\"autotypenumbers\":\"strict\",\"coloraxis\":{\"colorbar\":{\"outlinewidth\":0,\"ticks\":\"\"}},\"colorscale\":{\"diverging\":[[0,\"#8e0152\"],[0.1,\"#c51b7d\"],[0.2,\"#de77ae\"],[0.3,\"#f1b6da\"],[0.4,\"#fde0ef\"],[0.5,\"#f7f7f7\"],[0.6,\"#e6f5d0\"],[0.7,\"#b8e186\"],[0.8,\"#7fbc41\"],[0.9,\"#4d9221\"],[1,\"#276419\"]],\"sequential\":[[0.0,\"#0d0887\"],[0.1111111111111111,\"#46039f\"],[0.2222222222222222,\"#7201a8\"],[0.3333333333333333,\"#9c179e\"],[0.4444444444444444,\"#bd3786\"],[0.5555555555555556,\"#d8576b\"],[0.6666666666666666,\"#ed7953\"],[0.7777777777777778,\"#fb9f3a\"],[0.8888888888888888,\"#fdca26\"],[1.0,\"#f0f921\"]],\"sequentialminus\":[[0.0,\"#0d0887\"],[0.1111111111111111,\"#46039f\"],[0.2222222222222222,\"#7201a8\"],[0.3333333333333333,\"#9c179e\"],[0.4444444444444444,\"#bd3786\"],[0.5555555555555556,\"#d8576b\"],[0.6666666666666666,\"#ed7953\"],[0.7777777777777778,\"#fb9f3a\"],[0.8888888888888888,\"#fdca26\"],[1.0,\"#f0f921\"]]},\"colorway\":[\"#636efa\",\"#EF553B\",\"#00cc96\",\"#ab63fa\",\"#FFA15A\",\"#19d3f3\",\"#FF6692\",\"#B6E880\",\"#FF97FF\",\"#FECB52\"],\"font\":{\"color\":\"#2a3f5f\"},\"geo\":{\"bgcolor\":\"white\",\"lakecolor\":\"white\",\"landcolor\":\"#E5ECF6\",\"showlakes\":true,\"showland\":true,\"subunitcolor\":\"white\"},\"hoverlabel\":{\"align\":\"left\"},\"hovermode\":\"closest\",\"mapbox\":{\"style\":\"light\"},\"paper_bgcolor\":\"white\",\"plot_bgcolor\":\"#E5ECF6\",\"polar\":{\"angularaxis\":{\"gridcolor\":\"white\",\"linecolor\":\"white\",\"ticks\":\"\"},\"bgcolor\":\"#E5ECF6\",\"radialaxis\":{\"gridcolor\":\"white\",\"linecolor\":\"white\",\"ticks\":\"\"}},\"scene\":{\"xaxis\":{\"backgroundcolor\":\"#E5ECF6\",\"gridcolor\":\"white\",\"gridwidth\":2,\"linecolor\":\"white\",\"showbackground\":true,\"ticks\":\"\",\"zerolinecolor\":\"white\"},\"yaxis\":{\"backgroundcolor\":\"#E5ECF6\",\"gridcolor\":\"white\",\"gridwidth\":2,\"linecolor\":\"white\",\"showbackground\":true,\"ticks\":\"\",\"zerolinecolor\":\"white\"},\"zaxis\":{\"backgroundcolor\":\"#E5ECF6\",\"gridcolor\":\"white\",\"gridwidth\":2,\"linecolor\":\"white\",\"showbackground\":true,\"ticks\":\"\",\"zerolinecolor\":\"white\"}},\"shapedefaults\":{\"line\":{\"color\":\"#2a3f5f\"}},\"ternary\":{\"aaxis\":{\"gridcolor\":\"white\",\"linecolor\":\"white\",\"ticks\":\"\"},\"baxis\":{\"gridcolor\":\"white\",\"linecolor\":\"white\",\"ticks\":\"\"},\"bgcolor\":\"#E5ECF6\",\"caxis\":{\"gridcolor\":\"white\",\"linecolor\":\"white\",\"ticks\":\"\"}},\"title\":{\"x\":0.05},\"xaxis\":{\"automargin\":true,\"gridcolor\":\"white\",\"linecolor\":\"white\",\"ticks\":\"\",\"title\":{\"standoff\":15},\"zerolinecolor\":\"white\",\"zerolinewidth\":2},\"yaxis\":{\"automargin\":true,\"gridcolor\":\"white\",\"linecolor\":\"white\",\"ticks\":\"\",\"title\":{\"standoff\":15},\"zerolinecolor\":\"white\",\"zerolinewidth\":2}}},\"font\":{\"family\":\"Courier New, monospace\",\"size\":16,\"color\":\"RebeccaPurple\"},\"title\":{\"text\":\"Israeli and Tourist Visitors in Gamla site\"},\"xaxis\":{\"title\":{\"text\":\"Date\"}},\"yaxis\":{\"title\":{\"text\":\"Visitors\"}}},                        {\"responsive\": true}                    ).then(function(){\n",
              "                            \n",
              "var gd = document.getElementById('3143bc7d-ce95-41bb-8872-381d887bd90d');\n",
              "var x = new MutationObserver(function (mutations, observer) {{\n",
              "        var display = window.getComputedStyle(gd).display;\n",
              "        if (!display || display === 'none') {{\n",
              "            console.log([gd, 'removed!']);\n",
              "            Plotly.purge(gd);\n",
              "            observer.disconnect();\n",
              "        }}\n",
              "}});\n",
              "\n",
              "// Listen for the removal of the full notebook cells\n",
              "var notebookContainer = gd.closest('#notebook-container');\n",
              "if (notebookContainer) {{\n",
              "    x.observe(notebookContainer, {childList: true});\n",
              "}}\n",
              "\n",
              "// Listen for the clearing of the current output cell\n",
              "var outputEl = gd.closest('.output');\n",
              "if (outputEl) {{\n",
              "    x.observe(outputEl, {childList: true});\n",
              "}}\n",
              "\n",
              "                        })                };                            </script>        </div>\n",
              "</body>\n",
              "</html>"
            ]
          },
          "metadata": {}
        }
      ]
    },
    {
      "cell_type": "code",
      "source": [
        "fig1 = go.Figure(data=go.Scatter(x=Banias_df.Date, y=Banias_df.Israeli_Visitors, mode='markers+lines'))\n",
        "fig1.add_trace(go.Scatter(x=Banias_df.Date, y=Banias_df.Israeli_Visitors,\n",
        "                    mode='lines',\n",
        "                    name='Israeli Visitors'))\n",
        "\n",
        "fig1.add_trace(go.Scatter(x=Banias_df.Date, y=Banias_df.Tourist_Visitors,\n",
        "                    mode='markers',\n",
        "                    marker_line_width=1,\n",
        "                    marker_size=6,\n",
        "                    name='Tourist Visitors'))\n",
        "\n",
        "fig1.update_layout(\n",
        "    title=\"Israeli and Tourist Visitors in Banias site\",\n",
        "    xaxis_title=\"Date\",\n",
        "    yaxis_title=\"Visitors\",\n",
        "    font=dict(\n",
        "        family=\"Courier New, monospace\",\n",
        "        size=16,\n",
        "        color=\"RebeccaPurple\"\n",
        "    )\n",
        ")\n",
        "\n",
        "fig1.show()"
      ],
      "metadata": {
        "colab": {
          "base_uri": "https://localhost:8080/",
          "height": 0
        },
        "id": "0ZbqaEu_BWQz",
        "outputId": "01e9f02c-c077-47f4-cd79-78ffdc4b546c"
      },
      "execution_count": 217,
      "outputs": [
        {
          "output_type": "display_data",
          "data": {
            "text/html": [
              "<html>\n",
              "<head><meta charset=\"utf-8\" /></head>\n",
              "<body>\n",
              "    <div>            <script src=\"https://cdnjs.cloudflare.com/ajax/libs/mathjax/2.7.5/MathJax.js?config=TeX-AMS-MML_SVG\"></script><script type=\"text/javascript\">if (window.MathJax) {MathJax.Hub.Config({SVG: {font: \"STIX-Web\"}});}</script>                <script type=\"text/javascript\">window.PlotlyConfig = {MathJaxConfig: 'local'};</script>\n",
              "        <script src=\"https://cdn.plot.ly/plotly-2.8.3.min.js\"></script>                <div id=\"702187fd-583c-4935-ab4e-095ee3e82fe9\" class=\"plotly-graph-div\" style=\"height:525px; width:100%;\"></div>            <script type=\"text/javascript\">                                    window.PLOTLYENV=window.PLOTLYENV || {};                                    if (document.getElementById(\"702187fd-583c-4935-ab4e-095ee3e82fe9\")) {                    Plotly.newPlot(                        \"702187fd-583c-4935-ab4e-095ee3e82fe9\",                        [{\"mode\":\"markers+lines\",\"x\":[\"1/1/2017\",\"1/2/2017\",\"1/3/2017\",\"1/4/2017\",\"1/5/2017\",\"1/6/2017\",\"1/7/2017\",\"1/8/2017\",\"1/9/2017\",\"1/10/2017\",\"1/11/2017\",\"1/12/2017\",\"1/13/2017\",\"1/14/2017\",\"1/15/2017\",\"1/16/2017\",\"1/17/2017\",\"1/18/2017\",\"1/19/2017\",\"1/20/2017\",\"1/21/2017\",\"1/22/2017\",\"1/23/2017\",\"1/24/2017\",\"1/25/2017\",\"1/26/2017\",\"1/27/2017\",\"1/28/2017\",\"1/29/2017\",\"1/30/2017\",\"1/31/2017\",\"2/1/2017\",\"2/2/2017\",\"2/3/2017\",\"2/4/2017\",\"2/5/2017\",\"2/6/2017\",\"2/7/2017\",\"2/8/2017\",\"2/9/2017\",\"2/10/2017\",\"2/11/2017\",\"2/12/2017\",\"2/13/2017\",\"2/14/2017\",\"2/15/2017\",\"2/16/2017\",\"2/17/2017\",\"2/18/2017\",\"2/19/2017\",\"2/20/2017\",\"2/21/2017\",\"2/22/2017\",\"2/23/2017\",\"2/24/2017\",\"2/25/2017\",\"2/26/2017\",\"2/27/2017\",\"2/28/2017\",\"3/1/2017\",\"3/2/2017\",\"3/3/2017\",\"3/4/2017\",\"3/5/2017\",\"3/6/2017\",\"3/7/2017\",\"3/8/2017\",\"3/9/2017\",\"3/10/2017\",\"3/11/2017\",\"3/12/2017\",\"3/13/2017\",\"3/14/2017\",\"3/15/2017\",\"3/16/2017\",\"3/17/2017\",\"3/18/2017\",\"3/19/2017\",\"3/20/2017\",\"3/21/2017\",\"3/22/2017\",\"3/23/2017\",\"3/24/2017\",\"3/25/2017\",\"3/26/2017\",\"3/27/2017\",\"3/28/2017\",\"3/29/2017\",\"3/30/2017\",\"3/31/2017\",\"4/1/2017\",\"4/2/2017\",\"4/3/2017\",\"4/4/2017\",\"4/5/2017\",\"4/6/2017\",\"4/7/2017\",\"4/8/2017\",\"4/9/2017\",\"4/10/2017\",\"4/11/2017\",\"4/12/2017\",\"4/13/2017\",\"4/14/2017\",\"4/15/2017\",\"4/16/2017\",\"4/17/2017\",\"4/18/2017\",\"4/19/2017\",\"4/20/2017\",\"4/21/2017\",\"4/22/2017\",\"4/23/2017\",\"4/24/2017\",\"4/25/2017\",\"4/26/2017\",\"4/27/2017\",\"4/28/2017\",\"4/29/2017\",\"4/30/2017\",\"5/1/2017\",\"5/2/2017\",\"5/3/2017\",\"5/4/2017\",\"5/5/2017\",\"5/6/2017\",\"5/7/2017\",\"5/8/2017\",\"5/9/2017\",\"5/10/2017\",\"5/11/2017\",\"5/12/2017\",\"5/13/2017\",\"5/14/2017\",\"5/15/2017\",\"5/16/2017\",\"5/17/2017\",\"5/18/2017\",\"5/19/2017\",\"5/20/2017\",\"5/21/2017\",\"5/22/2017\",\"5/23/2017\",\"5/24/2017\",\"5/25/2017\",\"5/26/2017\",\"5/27/2017\",\"5/28/2017\",\"5/29/2017\",\"5/30/2017\",\"5/31/2017\",\"6/1/2017\",\"6/2/2017\",\"6/3/2017\",\"6/4/2017\",\"6/5/2017\",\"6/6/2017\",\"6/7/2017\",\"6/8/2017\",\"6/9/2017\",\"6/10/2017\",\"6/11/2017\",\"6/12/2017\",\"6/13/2017\",\"6/14/2017\",\"6/15/2017\",\"6/16/2017\",\"6/17/2017\",\"6/18/2017\",\"6/19/2017\",\"6/20/2017\",\"6/21/2017\",\"6/22/2017\",\"6/23/2017\",\"6/24/2017\",\"6/25/2017\",\"6/26/2017\",\"6/27/2017\",\"6/28/2017\",\"6/29/2017\",\"6/30/2017\",\"7/1/2017\",\"7/2/2017\",\"7/3/2017\",\"7/4/2017\",\"7/5/2017\",\"7/6/2017\",\"7/7/2017\",\"7/8/2017\",\"7/9/2017\",\"7/10/2017\",\"7/11/2017\",\"7/12/2017\",\"7/13/2017\",\"7/14/2017\",\"7/15/2017\",\"7/16/2017\",\"7/17/2017\",\"7/18/2017\",\"7/19/2017\",\"7/20/2017\",\"7/21/2017\",\"7/22/2017\",\"7/23/2017\",\"7/24/2017\",\"7/25/2017\",\"7/26/2017\",\"7/27/2017\",\"7/28/2017\",\"7/29/2017\",\"7/30/2017\",\"7/31/2017\",\"8/1/2017\",\"8/2/2017\",\"8/3/2017\",\"8/4/2017\",\"8/5/2017\",\"8/6/2017\",\"8/7/2017\",\"8/8/2017\",\"8/9/2017\",\"8/10/2017\",\"8/11/2017\",\"8/12/2017\",\"8/13/2017\",\"8/14/2017\",\"8/15/2017\",\"8/16/2017\",\"8/17/2017\",\"8/18/2017\",\"8/19/2017\",\"8/20/2017\",\"8/21/2017\",\"8/22/2017\",\"8/23/2017\",\"8/24/2017\",\"8/25/2017\",\"8/26/2017\",\"8/27/2017\",\"8/28/2017\",\"8/29/2017\",\"8/30/2017\",\"8/31/2017\",\"9/1/2017\",\"9/2/2017\",\"9/3/2017\",\"9/4/2017\",\"9/5/2017\",\"9/6/2017\",\"9/7/2017\",\"9/8/2017\",\"9/9/2017\",\"9/10/2017\",\"9/11/2017\",\"9/12/2017\",\"9/13/2017\",\"9/14/2017\",\"9/15/2017\",\"9/16/2017\",\"9/17/2017\",\"9/18/2017\",\"9/19/2017\",\"9/20/2017\",\"9/21/2017\",\"9/22/2017\",\"9/23/2017\",\"9/24/2017\",\"9/25/2017\",\"9/26/2017\",\"9/27/2017\",\"9/28/2017\",\"9/29/2017\",\"10/1/2017\",\"10/2/2017\",\"10/3/2017\",\"10/4/2017\",\"10/5/2017\",\"10/6/2017\",\"10/7/2017\",\"10/8/2017\",\"10/9/2017\",\"10/10/2017\",\"10/11/2017\",\"10/12/2017\",\"10/13/2017\",\"10/14/2017\",\"10/15/2017\",\"10/16/2017\",\"10/17/2017\",\"10/18/2017\",\"10/19/2017\",\"10/20/2017\",\"10/21/2017\",\"10/22/2017\",\"10/23/2017\",\"10/24/2017\",\"10/25/2017\",\"10/26/2017\",\"10/27/2017\",\"10/28/2017\",\"10/29/2017\",\"10/30/2017\",\"10/31/2017\",\"11/1/2017\",\"11/2/2017\",\"11/3/2017\",\"11/4/2017\",\"11/5/2017\",\"11/6/2017\",\"11/7/2017\",\"11/8/2017\",\"11/9/2017\",\"11/10/2017\",\"11/11/2017\",\"11/12/2017\",\"11/13/2017\",\"11/14/2017\",\"11/15/2017\",\"11/16/2017\",\"11/17/2017\",\"11/18/2017\",\"11/19/2017\",\"11/20/2017\",\"11/21/2017\",\"11/22/2017\",\"11/23/2017\",\"11/24/2017\",\"11/25/2017\",\"11/26/2017\",\"11/27/2017\",\"11/28/2017\",\"11/29/2017\",\"11/30/2017\",\"12/1/2017\",\"12/2/2017\",\"12/3/2017\",\"12/4/2017\",\"12/5/2017\",\"12/6/2017\",\"12/7/2017\",\"12/8/2017\",\"12/9/2017\",\"12/10/2017\",\"12/11/2017\",\"12/12/2017\",\"12/13/2017\",\"12/14/2017\",\"12/15/2017\",\"12/16/2017\",\"12/17/2017\",\"12/18/2017\",\"12/19/2017\",\"12/20/2017\",\"12/21/2017\",\"12/22/2017\",\"12/23/2017\",\"12/24/2017\",\"12/25/2017\",\"12/26/2017\",\"12/27/2017\",\"12/28/2017\",\"12/29/2017\",\"12/30/2017\",\"12/31/2017\",\"1/1/2018\",\"1/2/2018\",\"1/3/2018\",\"1/4/2018\",\"1/5/2018\",\"1/6/2018\",\"1/7/2018\",\"1/8/2018\",\"1/9/2018\",\"1/10/2018\",\"1/11/2018\",\"1/12/2018\",\"1/13/2018\",\"1/14/2018\",\"1/15/2018\",\"1/16/2018\",\"1/17/2018\",\"1/18/2018\",\"1/19/2018\",\"1/20/2018\",\"1/21/2018\",\"1/22/2018\",\"1/23/2018\",\"1/24/2018\",\"1/25/2018\",\"1/26/2018\",\"1/27/2018\",\"1/28/2018\",\"1/29/2018\",\"1/30/2018\",\"1/31/2018\",\"2/1/2018\",\"2/2/2018\",\"2/3/2018\",\"2/4/2018\",\"2/5/2018\",\"2/6/2018\",\"2/7/2018\",\"2/8/2018\",\"2/9/2018\",\"2/10/2018\",\"2/11/2018\",\"2/12/2018\",\"2/13/2018\",\"2/14/2018\",\"2/15/2018\",\"2/16/2018\",\"2/17/2018\",\"2/18/2018\",\"2/19/2018\",\"2/20/2018\",\"2/21/2018\",\"2/22/2018\",\"2/23/2018\",\"2/24/2018\",\"2/25/2018\",\"2/26/2018\",\"2/27/2018\",\"2/28/2018\",\"3/1/2018\",\"3/2/2018\",\"3/3/2018\",\"3/4/2018\",\"3/5/2018\",\"3/6/2018\",\"3/7/2018\",\"3/8/2018\",\"3/9/2018\",\"3/10/2018\",\"3/11/2018\",\"3/12/2018\",\"3/13/2018\",\"3/14/2018\",\"3/15/2018\",\"3/16/2018\",\"3/17/2018\",\"3/18/2018\",\"3/19/2018\",\"3/20/2018\",\"3/21/2018\",\"3/22/2018\",\"3/23/2018\",\"3/24/2018\",\"3/25/2018\",\"3/26/2018\",\"3/27/2018\",\"3/28/2018\",\"3/29/2018\",\"3/30/2018\",\"3/31/2018\",\"4/1/2018\",\"4/2/2018\",\"4/3/2018\",\"4/4/2018\",\"4/5/2018\",\"4/6/2018\",\"4/7/2018\",\"4/8/2018\",\"4/9/2018\",\"4/10/2018\",\"4/11/2018\",\"4/12/2018\",\"4/13/2018\",\"4/14/2018\",\"4/15/2018\",\"4/16/2018\",\"4/17/2018\",\"4/18/2018\",\"4/19/2018\",\"4/20/2018\",\"4/21/2018\",\"4/22/2018\",\"4/23/2018\",\"4/24/2018\",\"4/25/2018\",\"4/26/2018\",\"4/27/2018\",\"4/28/2018\",\"4/29/2018\",\"4/30/2018\",\"5/1/2018\",\"5/2/2018\",\"5/3/2018\",\"5/4/2018\",\"5/5/2018\",\"5/6/2018\",\"5/7/2018\",\"5/8/2018\",\"5/9/2018\",\"5/10/2018\",\"5/11/2018\",\"5/12/2018\",\"5/13/2018\",\"5/14/2018\",\"5/15/2018\",\"5/16/2018\",\"5/17/2018\",\"5/18/2018\",\"5/19/2018\",\"5/20/2018\",\"5/21/2018\",\"5/22/2018\",\"5/23/2018\",\"5/24/2018\",\"5/25/2018\",\"5/26/2018\",\"5/27/2018\",\"5/28/2018\",\"5/29/2018\",\"5/30/2018\",\"5/31/2018\",\"6/1/2018\",\"6/2/2018\",\"6/3/2018\",\"6/4/2018\",\"6/5/2018\",\"6/6/2018\",\"6/7/2018\",\"6/8/2018\",\"6/9/2018\",\"6/10/2018\",\"6/11/2018\",\"6/12/2018\",\"6/13/2018\",\"6/14/2018\",\"6/15/2018\",\"6/16/2018\",\"6/17/2018\",\"6/18/2018\",\"6/19/2018\",\"6/20/2018\",\"6/21/2018\",\"6/22/2018\",\"6/23/2018\",\"6/24/2018\",\"6/25/2018\",\"6/26/2018\",\"6/27/2018\",\"6/28/2018\",\"6/29/2018\",\"6/30/2018\",\"7/1/2018\",\"7/2/2018\",\"7/3/2018\",\"7/4/2018\",\"7/5/2018\",\"7/6/2018\",\"7/7/2018\",\"7/8/2018\",\"7/9/2018\",\"7/10/2018\",\"7/11/2018\",\"7/12/2018\",\"7/13/2018\",\"7/14/2018\",\"7/15/2018\",\"7/16/2018\",\"7/17/2018\",\"7/18/2018\",\"7/19/2018\",\"7/20/2018\",\"7/21/2018\",\"7/22/2018\",\"7/23/2018\",\"7/24/2018\",\"7/25/2018\",\"7/26/2018\",\"7/27/2018\",\"7/28/2018\",\"7/29/2018\",\"7/30/2018\",\"7/31/2018\",\"8/1/2018\",\"8/2/2018\",\"8/3/2018\",\"8/4/2018\",\"8/5/2018\",\"8/6/2018\",\"8/7/2018\",\"8/8/2018\",\"8/9/2018\",\"8/10/2018\",\"8/11/2018\",\"8/12/2018\",\"8/13/2018\",\"8/14/2018\",\"8/15/2018\",\"8/16/2018\",\"8/17/2018\",\"8/18/2018\",\"8/19/2018\",\"8/20/2018\",\"8/21/2018\",\"8/22/2018\",\"8/23/2018\",\"8/24/2018\",\"8/25/2018\",\"8/26/2018\",\"8/27/2018\",\"8/28/2018\",\"8/29/2018\",\"8/30/2018\",\"8/31/2018\",\"9/1/2018\",\"9/2/2018\",\"9/3/2018\",\"9/4/2018\",\"9/5/2018\",\"9/6/2018\",\"9/7/2018\",\"9/8/2018\",\"9/9/2018\",\"9/10/2018\",\"9/11/2018\",\"9/12/2018\",\"9/13/2018\",\"9/14/2018\",\"9/15/2018\",\"9/16/2018\",\"9/17/2018\",\"9/18/2018\",\"9/20/2018\",\"9/21/2018\",\"9/22/2018\",\"9/23/2018\",\"9/24/2018\",\"9/25/2018\",\"9/26/2018\",\"9/27/2018\",\"9/28/2018\",\"9/29/2018\",\"9/30/2018\",\"10/1/2018\",\"10/2/2018\",\"10/3/2018\",\"10/4/2018\",\"10/5/2018\",\"10/6/2018\",\"10/7/2018\",\"10/8/2018\",\"10/9/2018\",\"10/10/2018\",\"10/11/2018\",\"10/12/2018\",\"10/13/2018\",\"10/14/2018\",\"10/15/2018\",\"10/16/2018\",\"10/17/2018\",\"10/18/2018\",\"10/19/2018\",\"10/20/2018\",\"10/21/2018\",\"10/22/2018\",\"10/23/2018\",\"10/24/2018\",\"10/25/2018\",\"10/26/2018\",\"10/27/2018\",\"10/28/2018\",\"10/29/2018\",\"10/30/2018\",\"10/31/2018\",\"11/1/2018\",\"11/2/2018\",\"11/3/2018\",\"11/4/2018\",\"11/5/2018\",\"11/6/2018\",\"11/7/2018\",\"11/8/2018\",\"11/9/2018\",\"11/10/2018\",\"11/11/2018\",\"11/12/2018\",\"11/13/2018\",\"11/14/2018\",\"11/15/2018\",\"11/16/2018\",\"11/17/2018\",\"11/18/2018\",\"11/19/2018\",\"11/20/2018\",\"11/21/2018\",\"11/22/2018\",\"11/23/2018\",\"11/24/2018\",\"11/25/2018\",\"11/26/2018\",\"11/27/2018\",\"11/28/2018\",\"11/29/2018\",\"11/30/2018\",\"12/1/2018\",\"12/2/2018\",\"12/3/2018\",\"12/4/2018\",\"12/5/2018\",\"12/6/2018\",\"12/7/2018\",\"12/8/2018\",\"12/9/2018\",\"12/10/2018\",\"12/11/2018\",\"12/12/2018\",\"12/13/2018\",\"12/14/2018\",\"12/15/2018\",\"12/16/2018\",\"12/17/2018\",\"12/18/2018\",\"12/19/2018\",\"12/20/2018\",\"12/21/2018\",\"12/22/2018\",\"12/23/2018\",\"12/24/2018\",\"12/25/2018\",\"12/26/2018\",\"12/27/2018\",\"12/28/2018\",\"12/29/2018\",\"12/30/2018\",\"12/31/2018\",\"1/1/2019\",\"1/2/2019\",\"1/3/2019\",\"1/4/2019\",\"1/5/2019\",\"1/6/2019\",\"1/7/2019\",\"1/8/2019\",\"1/9/2019\",\"1/10/2019\",\"1/11/2019\",\"1/12/2019\",\"1/13/2019\",\"1/14/2019\",\"1/15/2019\",\"1/16/2019\",\"1/17/2019\",\"1/18/2019\",\"1/19/2019\",\"1/20/2019\",\"1/21/2019\",\"1/22/2019\",\"1/23/2019\",\"1/24/2019\",\"1/25/2019\",\"1/26/2019\",\"1/27/2019\",\"1/28/2019\",\"1/29/2019\",\"1/30/2019\",\"1/31/2019\",\"2/1/2019\",\"2/2/2019\",\"2/3/2019\",\"2/4/2019\",\"2/5/2019\",\"2/6/2019\",\"2/7/2019\",\"2/8/2019\",\"2/9/2019\",\"2/10/2019\",\"2/11/2019\",\"2/12/2019\",\"2/13/2019\",\"2/14/2019\",\"2/15/2019\",\"2/16/2019\",\"2/17/2019\",\"2/18/2019\",\"2/19/2019\",\"2/20/2019\",\"2/21/2019\",\"2/22/2019\",\"2/23/2019\",\"2/24/2019\",\"2/25/2019\",\"2/26/2019\",\"2/27/2019\",\"2/28/2019\",\"3/1/2019\",\"3/2/2019\",\"3/3/2019\",\"3/4/2019\",\"3/5/2019\",\"3/6/2019\",\"3/7/2019\",\"3/8/2019\",\"3/9/2019\",\"3/10/2019\",\"3/11/2019\",\"3/12/2019\",\"3/13/2019\",\"3/14/2019\",\"3/15/2019\",\"3/16/2019\",\"3/17/2019\",\"3/18/2019\",\"3/19/2019\",\"3/20/2019\",\"3/21/2019\",\"3/22/2019\",\"3/23/2019\",\"3/24/2019\",\"3/25/2019\",\"3/26/2019\",\"3/27/2019\",\"3/28/2019\",\"3/29/2019\",\"3/30/2019\",\"3/31/2019\",\"4/1/2019\",\"4/2/2019\",\"4/3/2019\",\"4/4/2019\",\"4/5/2019\",\"4/6/2019\",\"4/7/2019\",\"4/8/2019\",\"4/9/2019\",\"4/10/2019\",\"4/11/2019\",\"4/12/2019\",\"4/13/2019\",\"4/14/2019\",\"4/15/2019\",\"4/16/2019\",\"4/17/2019\",\"4/18/2019\",\"4/19/2019\",\"4/20/2019\",\"4/21/2019\",\"4/22/2019\",\"4/23/2019\",\"4/24/2019\",\"4/25/2019\",\"4/26/2019\",\"4/27/2019\",\"4/28/2019\",\"4/29/2019\",\"4/30/2019\",\"5/1/2019\",\"5/2/2019\",\"5/3/2019\",\"5/4/2019\",\"5/5/2019\",\"5/6/2019\",\"5/7/2019\",\"5/8/2019\",\"5/9/2019\",\"5/10/2019\",\"5/11/2019\",\"5/12/2019\",\"5/13/2019\",\"5/14/2019\",\"5/15/2019\",\"5/16/2019\",\"5/17/2019\",\"5/18/2019\",\"5/19/2019\",\"5/20/2019\",\"5/21/2019\",\"5/22/2019\",\"5/23/2019\",\"5/24/2019\",\"5/25/2019\",\"5/26/2019\",\"5/27/2019\",\"5/28/2019\",\"5/29/2019\",\"5/30/2019\",\"5/31/2019\",\"6/1/2019\",\"6/2/2019\",\"6/3/2019\",\"6/4/2019\",\"6/5/2019\",\"6/6/2019\",\"6/7/2019\",\"6/8/2019\",\"6/9/2019\",\"6/10/2019\",\"6/11/2019\",\"6/12/2019\",\"6/13/2019\",\"6/14/2019\",\"6/15/2019\",\"6/16/2019\",\"6/17/2019\",\"6/18/2019\",\"6/19/2019\",\"6/20/2019\",\"6/21/2019\",\"6/22/2019\",\"6/23/2019\",\"6/24/2019\",\"6/25/2019\",\"6/26/2019\",\"6/27/2019\",\"6/28/2019\",\"6/29/2019\",\"6/30/2019\",\"7/1/2019\",\"7/2/2019\",\"7/3/2019\",\"7/4/2019\",\"7/5/2019\",\"7/6/2019\",\"7/7/2019\",\"7/8/2019\",\"7/9/2019\",\"7/10/2019\",\"7/11/2019\",\"7/12/2019\",\"7/13/2019\",\"7/14/2019\",\"7/15/2019\",\"7/16/2019\",\"7/17/2019\",\"7/18/2019\",\"7/19/2019\",\"7/20/2019\",\"7/21/2019\",\"7/22/2019\",\"7/23/2019\",\"7/24/2019\",\"7/25/2019\",\"7/26/2019\",\"7/27/2019\",\"7/28/2019\",\"7/29/2019\",\"7/30/2019\",\"7/31/2019\",\"8/1/2019\",\"8/2/2019\",\"8/3/2019\",\"8/4/2019\",\"8/5/2019\",\"8/6/2019\",\"8/7/2019\",\"8/8/2019\",\"8/9/2019\",\"8/10/2019\",\"8/11/2019\",\"8/12/2019\",\"8/13/2019\",\"8/14/2019\",\"8/15/2019\",\"8/16/2019\",\"8/17/2019\",\"8/18/2019\",\"8/19/2019\",\"8/20/2019\",\"8/21/2019\",\"8/22/2019\",\"8/23/2019\",\"8/24/2019\",\"8/25/2019\",\"8/26/2019\",\"8/27/2019\",\"8/28/2019\",\"8/29/2019\",\"8/30/2019\",\"8/31/2019\",\"9/1/2019\",\"9/2/2019\",\"9/3/2019\",\"9/4/2019\",\"9/5/2019\",\"9/6/2019\",\"9/7/2019\",\"9/8/2019\",\"9/9/2019\",\"9/10/2019\",\"9/11/2019\",\"9/12/2019\",\"9/13/2019\",\"9/14/2019\",\"9/15/2019\",\"9/16/2019\",\"9/17/2019\",\"9/18/2019\",\"9/19/2019\",\"9/20/2019\",\"9/21/2019\",\"9/22/2019\",\"9/23/2019\",\"9/24/2019\",\"9/25/2019\",\"9/26/2019\",\"9/27/2019\",\"9/28/2019\",\"9/29/2019\",\"9/30/2019\",\"10/1/2019\",\"10/2/2019\",\"10/3/2019\",\"10/4/2019\",\"10/5/2019\",\"10/6/2019\",\"10/7/2019\",\"10/8/2019\",\"10/10/2019\",\"10/11/2019\",\"10/12/2019\",\"10/13/2019\",\"10/14/2019\",\"10/15/2019\",\"10/16/2019\",\"10/17/2019\",\"10/18/2019\",\"10/19/2019\",\"10/20/2019\",\"10/21/2019\",\"10/22/2019\",\"10/23/2019\",\"10/24/2019\",\"10/25/2019\",\"10/26/2019\",\"10/27/2019\",\"10/28/2019\",\"10/29/2019\",\"10/30/2019\",\"10/31/2019\",\"11/1/2019\",\"11/2/2019\",\"11/3/2019\",\"11/4/2019\",\"11/5/2019\",\"11/6/2019\",\"11/7/2019\",\"11/8/2019\",\"11/9/2019\",\"11/10/2019\",\"11/11/2019\",\"11/12/2019\",\"11/13/2019\",\"11/14/2019\",\"11/15/2019\",\"11/16/2019\",\"11/17/2019\",\"11/18/2019\",\"11/19/2019\",\"11/20/2019\",\"11/21/2019\",\"11/22/2019\",\"11/23/2019\",\"11/24/2019\",\"11/25/2019\",\"11/26/2019\",\"11/27/2019\",\"11/28/2019\",\"11/29/2019\",\"11/30/2019\",\"12/1/2019\",\"12/2/2019\",\"12/3/2019\",\"12/4/2019\",\"12/5/2019\",\"12/6/2019\",\"12/7/2019\",\"12/8/2019\",\"12/9/2019\",\"12/10/2019\",\"12/11/2019\",\"12/12/2019\",\"12/13/2019\",\"12/14/2019\",\"12/15/2019\",\"12/16/2019\",\"12/17/2019\",\"12/18/2019\",\"12/19/2019\",\"12/20/2019\",\"12/21/2019\",\"12/22/2019\",\"12/23/2019\",\"12/24/2019\",\"12/25/2019\",\"12/26/2019\",\"12/27/2019\",\"12/28/2019\",\"12/29/2019\",\"12/30/2019\",\"12/31/2019\"],\"y\":[788,142,122,243,247,932,1975,157,30,148,176,430,638,1606,127,333,233,282,422,877,1395,257,515,393,374,332,282,346,259,150,365,278,411,983,2242,312,263,337,432,367,706,1475,223,101,172,256,257,695,1951,475,976,1247,1505,1410,927,2538,684,827,902,604,528,350,1550,618,1348,1028,1518,1366,493,930,878,362,445,570,944,670,1092,616,833,713,1350,2409,625,2178,764,1975,1097,2399,1413,918,1087,424,891,2341,994,1356,1296,2303,1154,373,1866,2776,2418,2163,3010,2585,2692,634,543,1144,800,1268,397,425,1147,1791,2225,940,1632,812,478,1259,600,1169,812,1532,753,1806,2207,3128,2513,707,1449,551,941,1309,2984,2360,887,1493,1197,1735,1440,1769,2592,840,966,1034,519,395,1381,1062,945,1238,379,1157,629,1126,730,408,898,366,745,1297,492,889,513,636,662,367,532,585,537,410,824,382,1206,1106,1082,695,235,448,228,554,379,924,390,380,488,206,286,160,504,443,315,610,423,387,241,517,435,355,517,203,272,584,681,321,296,532,192,448,213,395,550,386,487,567,902,961,975,635,506,581,734,1179,1305,1376,835,545,855,582,1149,1303,1150,825,579,628,548,727,747,507,223,192,969,1018,531,303,168,338,318,462,137,320,371,262,227,270,720,171,488,102,68,1194,1828,908,126,241,478,619,249,33,275,1006,253,261,1716,1679,1612,1249,1108,1549,1115,2644,1351,1076,172,475,1040,894,871,603,1023,308,1671,756,1308,792,559,620,550,450,801,480,825,349,873,134,767,1235,1554,1432,515,1022,96,798,353,1236,1100,320,778,308,112,276,497,804,299,629,332,590,621,605,530,370,815,84,184,405,47,159,199,666,59,129,56,317,355,647,970,291,615,541,321,190,319,632,46,165,336,284,296,407,595,280,120,150,271,71,61,1011,296,450,348,298,415,529,1614,105,51,314,72,473,222,1678,305,293,99,317,227,186,1685,284,537,671,527,603,1498,3539,938,538,615,507,1529,1320,1765,532,607,416,542,768,755,439,214,447,372,819,1169,928,2362,535,985,296,568,1802,1923,2381,880,972,987,1894,2289,920,1812,566,1492,1008,1866,1204,937,1837,785,1346,1556,1443,1240,1052,1677,1071,836,1086,356,476,71,1393,2542,3390,3455,3370,1986,3087,1713,686,1164,566,732,752,935,1635,584,1067,622,259,1710,1254,1480,1223,1097,1247,1880,449,412,1051,1476,2010,1320,1244,1182,896,1272,704,907,146,334,689,516,419,344,562,923,605,551,248,575,733,376,692,822,1500,362,864,524,627,938,1000,876,449,1120,533,1765,1003,895,546,343,889,483,953,605,948,760,522,1338,1648,910,1135,624,718,646,787,684,767,1024,829,448,311,953,239,962,553,339,504,794,654,353,563,442,525,429,689,772,232,287,215,485,283,479,900,304,528,965,545,1049,820,666,484,1160,959,1320,679,350,607,500,927,1002,972,661,392,637,365,728,924,714,713,577,547,355,1113,999,922,1193,775,671,379,735,795,802,271,475,264,195,132,160,339,113,214,644,207,950,700,278,157,277,568,247,271,22,336,359,1242,781,1044,595,1248,1176,852,1817,826,802,196,344,594,262,645,339,294,674,1460,1377,443,799,329,1075,661,2106,1721,345,728,130,1122,1014,1370,614,192,878,121,741,767,407,851,403,939,273,902,1110,955,752,309,580,571,428,373,534,321,175,743,114,623,879,1114,438,154,484,222,463,701,800,397,187,421,63,78,188,289,184,172,502,552,343,163,283,205,319,1227,230,613,132,130,102,339,1206,266,549,334,451,113,241,679,187,287,522,548,171,625,2224,262,67,178,539,1280,2513,4142,753,249,490,162,866,1587,3010,798,1176,1188,1076,949,1435,3222,716,156,825,1057,826,1462,2642,720,576,992,387,834,907,665,201,793,644,784,552,527,543,221,273,1316,1213,831,1147,2568,898,1578,1086,332,178,740,689,412,473,844,1498,2348,1505,3087,1262,1214,1454,1687,566,641,303,392,1059,1169,1265,2311,2477,2813,1274,738,1702,1333,1981,511,502,100,252,1022,2484,2980,2230,3889,1654,3846,3794,1827,2988,3397,3136,1350,1460,1313,735,975,212,1504,931,3382,6535,5908,3325,4573,2708,1466,1859,1413,1111,800,1563,2312,989,2023,370,266,2335,1520,1739,881,2100,1949,1956,1658,499,1273,332,2236,1322,900,240,357,1117,284,1534,2134,2031,681,564,920,257,861,1697,1005,2809,1318,2466,1391,556,584,1625,849,747,1553,845,1693,932,1247,648,917,1374,1005,948,1347,1097,560,973,894,430,481,1163,698,781,536,865,494,708,817,981,605,455,849,521,744,725,453,707,490,980,764,658,1404,1033,566,656,782,380,780,719,947,377,497,756,234,333,426,321,241,583,854,291,1237,2372,1766,1278,734,1038,961,1756,1995,1814,1114,866,892,789,1253,1315,995,651,422,426,116,72,386,491,220,251,508,194,249,406,543,194,403,751,557,671,477,484,601,460,851,444,719,1175,1005,832,331,904,331,1124,994,164,490,296,723,756,291,40,700,531,1616,861,1406,1297,1513,1672,1256,2629,1425,1417,494,876,586,336,544,294,629,841,903,945,427,720,1135,1244,1049,1695,1659,396,915,252,700,913,762,1238,393,720,280,825,492,1477,650,210,752,320,1172,1077,855,612,307,702,151,792,277,183,170,179,579,36,73,52,93,81,17,409,183,79,418,201,397,416,915,106,186,436,135,252,487,1010,1068,818,405],\"type\":\"scatter\"},{\"mode\":\"lines\",\"name\":\"Israeli Visitors\",\"x\":[\"1/1/2017\",\"1/2/2017\",\"1/3/2017\",\"1/4/2017\",\"1/5/2017\",\"1/6/2017\",\"1/7/2017\",\"1/8/2017\",\"1/9/2017\",\"1/10/2017\",\"1/11/2017\",\"1/12/2017\",\"1/13/2017\",\"1/14/2017\",\"1/15/2017\",\"1/16/2017\",\"1/17/2017\",\"1/18/2017\",\"1/19/2017\",\"1/20/2017\",\"1/21/2017\",\"1/22/2017\",\"1/23/2017\",\"1/24/2017\",\"1/25/2017\",\"1/26/2017\",\"1/27/2017\",\"1/28/2017\",\"1/29/2017\",\"1/30/2017\",\"1/31/2017\",\"2/1/2017\",\"2/2/2017\",\"2/3/2017\",\"2/4/2017\",\"2/5/2017\",\"2/6/2017\",\"2/7/2017\",\"2/8/2017\",\"2/9/2017\",\"2/10/2017\",\"2/11/2017\",\"2/12/2017\",\"2/13/2017\",\"2/14/2017\",\"2/15/2017\",\"2/16/2017\",\"2/17/2017\",\"2/18/2017\",\"2/19/2017\",\"2/20/2017\",\"2/21/2017\",\"2/22/2017\",\"2/23/2017\",\"2/24/2017\",\"2/25/2017\",\"2/26/2017\",\"2/27/2017\",\"2/28/2017\",\"3/1/2017\",\"3/2/2017\",\"3/3/2017\",\"3/4/2017\",\"3/5/2017\",\"3/6/2017\",\"3/7/2017\",\"3/8/2017\",\"3/9/2017\",\"3/10/2017\",\"3/11/2017\",\"3/12/2017\",\"3/13/2017\",\"3/14/2017\",\"3/15/2017\",\"3/16/2017\",\"3/17/2017\",\"3/18/2017\",\"3/19/2017\",\"3/20/2017\",\"3/21/2017\",\"3/22/2017\",\"3/23/2017\",\"3/24/2017\",\"3/25/2017\",\"3/26/2017\",\"3/27/2017\",\"3/28/2017\",\"3/29/2017\",\"3/30/2017\",\"3/31/2017\",\"4/1/2017\",\"4/2/2017\",\"4/3/2017\",\"4/4/2017\",\"4/5/2017\",\"4/6/2017\",\"4/7/2017\",\"4/8/2017\",\"4/9/2017\",\"4/10/2017\",\"4/11/2017\",\"4/12/2017\",\"4/13/2017\",\"4/14/2017\",\"4/15/2017\",\"4/16/2017\",\"4/17/2017\",\"4/18/2017\",\"4/19/2017\",\"4/20/2017\",\"4/21/2017\",\"4/22/2017\",\"4/23/2017\",\"4/24/2017\",\"4/25/2017\",\"4/26/2017\",\"4/27/2017\",\"4/28/2017\",\"4/29/2017\",\"4/30/2017\",\"5/1/2017\",\"5/2/2017\",\"5/3/2017\",\"5/4/2017\",\"5/5/2017\",\"5/6/2017\",\"5/7/2017\",\"5/8/2017\",\"5/9/2017\",\"5/10/2017\",\"5/11/2017\",\"5/12/2017\",\"5/13/2017\",\"5/14/2017\",\"5/15/2017\",\"5/16/2017\",\"5/17/2017\",\"5/18/2017\",\"5/19/2017\",\"5/20/2017\",\"5/21/2017\",\"5/22/2017\",\"5/23/2017\",\"5/24/2017\",\"5/25/2017\",\"5/26/2017\",\"5/27/2017\",\"5/28/2017\",\"5/29/2017\",\"5/30/2017\",\"5/31/2017\",\"6/1/2017\",\"6/2/2017\",\"6/3/2017\",\"6/4/2017\",\"6/5/2017\",\"6/6/2017\",\"6/7/2017\",\"6/8/2017\",\"6/9/2017\",\"6/10/2017\",\"6/11/2017\",\"6/12/2017\",\"6/13/2017\",\"6/14/2017\",\"6/15/2017\",\"6/16/2017\",\"6/17/2017\",\"6/18/2017\",\"6/19/2017\",\"6/20/2017\",\"6/21/2017\",\"6/22/2017\",\"6/23/2017\",\"6/24/2017\",\"6/25/2017\",\"6/26/2017\",\"6/27/2017\",\"6/28/2017\",\"6/29/2017\",\"6/30/2017\",\"7/1/2017\",\"7/2/2017\",\"7/3/2017\",\"7/4/2017\",\"7/5/2017\",\"7/6/2017\",\"7/7/2017\",\"7/8/2017\",\"7/9/2017\",\"7/10/2017\",\"7/11/2017\",\"7/12/2017\",\"7/13/2017\",\"7/14/2017\",\"7/15/2017\",\"7/16/2017\",\"7/17/2017\",\"7/18/2017\",\"7/19/2017\",\"7/20/2017\",\"7/21/2017\",\"7/22/2017\",\"7/23/2017\",\"7/24/2017\",\"7/25/2017\",\"7/26/2017\",\"7/27/2017\",\"7/28/2017\",\"7/29/2017\",\"7/30/2017\",\"7/31/2017\",\"8/1/2017\",\"8/2/2017\",\"8/3/2017\",\"8/4/2017\",\"8/5/2017\",\"8/6/2017\",\"8/7/2017\",\"8/8/2017\",\"8/9/2017\",\"8/10/2017\",\"8/11/2017\",\"8/12/2017\",\"8/13/2017\",\"8/14/2017\",\"8/15/2017\",\"8/16/2017\",\"8/17/2017\",\"8/18/2017\",\"8/19/2017\",\"8/20/2017\",\"8/21/2017\",\"8/22/2017\",\"8/23/2017\",\"8/24/2017\",\"8/25/2017\",\"8/26/2017\",\"8/27/2017\",\"8/28/2017\",\"8/29/2017\",\"8/30/2017\",\"8/31/2017\",\"9/1/2017\",\"9/2/2017\",\"9/3/2017\",\"9/4/2017\",\"9/5/2017\",\"9/6/2017\",\"9/7/2017\",\"9/8/2017\",\"9/9/2017\",\"9/10/2017\",\"9/11/2017\",\"9/12/2017\",\"9/13/2017\",\"9/14/2017\",\"9/15/2017\",\"9/16/2017\",\"9/17/2017\",\"9/18/2017\",\"9/19/2017\",\"9/20/2017\",\"9/21/2017\",\"9/22/2017\",\"9/23/2017\",\"9/24/2017\",\"9/25/2017\",\"9/26/2017\",\"9/27/2017\",\"9/28/2017\",\"9/29/2017\",\"10/1/2017\",\"10/2/2017\",\"10/3/2017\",\"10/4/2017\",\"10/5/2017\",\"10/6/2017\",\"10/7/2017\",\"10/8/2017\",\"10/9/2017\",\"10/10/2017\",\"10/11/2017\",\"10/12/2017\",\"10/13/2017\",\"10/14/2017\",\"10/15/2017\",\"10/16/2017\",\"10/17/2017\",\"10/18/2017\",\"10/19/2017\",\"10/20/2017\",\"10/21/2017\",\"10/22/2017\",\"10/23/2017\",\"10/24/2017\",\"10/25/2017\",\"10/26/2017\",\"10/27/2017\",\"10/28/2017\",\"10/29/2017\",\"10/30/2017\",\"10/31/2017\",\"11/1/2017\",\"11/2/2017\",\"11/3/2017\",\"11/4/2017\",\"11/5/2017\",\"11/6/2017\",\"11/7/2017\",\"11/8/2017\",\"11/9/2017\",\"11/10/2017\",\"11/11/2017\",\"11/12/2017\",\"11/13/2017\",\"11/14/2017\",\"11/15/2017\",\"11/16/2017\",\"11/17/2017\",\"11/18/2017\",\"11/19/2017\",\"11/20/2017\",\"11/21/2017\",\"11/22/2017\",\"11/23/2017\",\"11/24/2017\",\"11/25/2017\",\"11/26/2017\",\"11/27/2017\",\"11/28/2017\",\"11/29/2017\",\"11/30/2017\",\"12/1/2017\",\"12/2/2017\",\"12/3/2017\",\"12/4/2017\",\"12/5/2017\",\"12/6/2017\",\"12/7/2017\",\"12/8/2017\",\"12/9/2017\",\"12/10/2017\",\"12/11/2017\",\"12/12/2017\",\"12/13/2017\",\"12/14/2017\",\"12/15/2017\",\"12/16/2017\",\"12/17/2017\",\"12/18/2017\",\"12/19/2017\",\"12/20/2017\",\"12/21/2017\",\"12/22/2017\",\"12/23/2017\",\"12/24/2017\",\"12/25/2017\",\"12/26/2017\",\"12/27/2017\",\"12/28/2017\",\"12/29/2017\",\"12/30/2017\",\"12/31/2017\",\"1/1/2018\",\"1/2/2018\",\"1/3/2018\",\"1/4/2018\",\"1/5/2018\",\"1/6/2018\",\"1/7/2018\",\"1/8/2018\",\"1/9/2018\",\"1/10/2018\",\"1/11/2018\",\"1/12/2018\",\"1/13/2018\",\"1/14/2018\",\"1/15/2018\",\"1/16/2018\",\"1/17/2018\",\"1/18/2018\",\"1/19/2018\",\"1/20/2018\",\"1/21/2018\",\"1/22/2018\",\"1/23/2018\",\"1/24/2018\",\"1/25/2018\",\"1/26/2018\",\"1/27/2018\",\"1/28/2018\",\"1/29/2018\",\"1/30/2018\",\"1/31/2018\",\"2/1/2018\",\"2/2/2018\",\"2/3/2018\",\"2/4/2018\",\"2/5/2018\",\"2/6/2018\",\"2/7/2018\",\"2/8/2018\",\"2/9/2018\",\"2/10/2018\",\"2/11/2018\",\"2/12/2018\",\"2/13/2018\",\"2/14/2018\",\"2/15/2018\",\"2/16/2018\",\"2/17/2018\",\"2/18/2018\",\"2/19/2018\",\"2/20/2018\",\"2/21/2018\",\"2/22/2018\",\"2/23/2018\",\"2/24/2018\",\"2/25/2018\",\"2/26/2018\",\"2/27/2018\",\"2/28/2018\",\"3/1/2018\",\"3/2/2018\",\"3/3/2018\",\"3/4/2018\",\"3/5/2018\",\"3/6/2018\",\"3/7/2018\",\"3/8/2018\",\"3/9/2018\",\"3/10/2018\",\"3/11/2018\",\"3/12/2018\",\"3/13/2018\",\"3/14/2018\",\"3/15/2018\",\"3/16/2018\",\"3/17/2018\",\"3/18/2018\",\"3/19/2018\",\"3/20/2018\",\"3/21/2018\",\"3/22/2018\",\"3/23/2018\",\"3/24/2018\",\"3/25/2018\",\"3/26/2018\",\"3/27/2018\",\"3/28/2018\",\"3/29/2018\",\"3/30/2018\",\"3/31/2018\",\"4/1/2018\",\"4/2/2018\",\"4/3/2018\",\"4/4/2018\",\"4/5/2018\",\"4/6/2018\",\"4/7/2018\",\"4/8/2018\",\"4/9/2018\",\"4/10/2018\",\"4/11/2018\",\"4/12/2018\",\"4/13/2018\",\"4/14/2018\",\"4/15/2018\",\"4/16/2018\",\"4/17/2018\",\"4/18/2018\",\"4/19/2018\",\"4/20/2018\",\"4/21/2018\",\"4/22/2018\",\"4/23/2018\",\"4/24/2018\",\"4/25/2018\",\"4/26/2018\",\"4/27/2018\",\"4/28/2018\",\"4/29/2018\",\"4/30/2018\",\"5/1/2018\",\"5/2/2018\",\"5/3/2018\",\"5/4/2018\",\"5/5/2018\",\"5/6/2018\",\"5/7/2018\",\"5/8/2018\",\"5/9/2018\",\"5/10/2018\",\"5/11/2018\",\"5/12/2018\",\"5/13/2018\",\"5/14/2018\",\"5/15/2018\",\"5/16/2018\",\"5/17/2018\",\"5/18/2018\",\"5/19/2018\",\"5/20/2018\",\"5/21/2018\",\"5/22/2018\",\"5/23/2018\",\"5/24/2018\",\"5/25/2018\",\"5/26/2018\",\"5/27/2018\",\"5/28/2018\",\"5/29/2018\",\"5/30/2018\",\"5/31/2018\",\"6/1/2018\",\"6/2/2018\",\"6/3/2018\",\"6/4/2018\",\"6/5/2018\",\"6/6/2018\",\"6/7/2018\",\"6/8/2018\",\"6/9/2018\",\"6/10/2018\",\"6/11/2018\",\"6/12/2018\",\"6/13/2018\",\"6/14/2018\",\"6/15/2018\",\"6/16/2018\",\"6/17/2018\",\"6/18/2018\",\"6/19/2018\",\"6/20/2018\",\"6/21/2018\",\"6/22/2018\",\"6/23/2018\",\"6/24/2018\",\"6/25/2018\",\"6/26/2018\",\"6/27/2018\",\"6/28/2018\",\"6/29/2018\",\"6/30/2018\",\"7/1/2018\",\"7/2/2018\",\"7/3/2018\",\"7/4/2018\",\"7/5/2018\",\"7/6/2018\",\"7/7/2018\",\"7/8/2018\",\"7/9/2018\",\"7/10/2018\",\"7/11/2018\",\"7/12/2018\",\"7/13/2018\",\"7/14/2018\",\"7/15/2018\",\"7/16/2018\",\"7/17/2018\",\"7/18/2018\",\"7/19/2018\",\"7/20/2018\",\"7/21/2018\",\"7/22/2018\",\"7/23/2018\",\"7/24/2018\",\"7/25/2018\",\"7/26/2018\",\"7/27/2018\",\"7/28/2018\",\"7/29/2018\",\"7/30/2018\",\"7/31/2018\",\"8/1/2018\",\"8/2/2018\",\"8/3/2018\",\"8/4/2018\",\"8/5/2018\",\"8/6/2018\",\"8/7/2018\",\"8/8/2018\",\"8/9/2018\",\"8/10/2018\",\"8/11/2018\",\"8/12/2018\",\"8/13/2018\",\"8/14/2018\",\"8/15/2018\",\"8/16/2018\",\"8/17/2018\",\"8/18/2018\",\"8/19/2018\",\"8/20/2018\",\"8/21/2018\",\"8/22/2018\",\"8/23/2018\",\"8/24/2018\",\"8/25/2018\",\"8/26/2018\",\"8/27/2018\",\"8/28/2018\",\"8/29/2018\",\"8/30/2018\",\"8/31/2018\",\"9/1/2018\",\"9/2/2018\",\"9/3/2018\",\"9/4/2018\",\"9/5/2018\",\"9/6/2018\",\"9/7/2018\",\"9/8/2018\",\"9/9/2018\",\"9/10/2018\",\"9/11/2018\",\"9/12/2018\",\"9/13/2018\",\"9/14/2018\",\"9/15/2018\",\"9/16/2018\",\"9/17/2018\",\"9/18/2018\",\"9/20/2018\",\"9/21/2018\",\"9/22/2018\",\"9/23/2018\",\"9/24/2018\",\"9/25/2018\",\"9/26/2018\",\"9/27/2018\",\"9/28/2018\",\"9/29/2018\",\"9/30/2018\",\"10/1/2018\",\"10/2/2018\",\"10/3/2018\",\"10/4/2018\",\"10/5/2018\",\"10/6/2018\",\"10/7/2018\",\"10/8/2018\",\"10/9/2018\",\"10/10/2018\",\"10/11/2018\",\"10/12/2018\",\"10/13/2018\",\"10/14/2018\",\"10/15/2018\",\"10/16/2018\",\"10/17/2018\",\"10/18/2018\",\"10/19/2018\",\"10/20/2018\",\"10/21/2018\",\"10/22/2018\",\"10/23/2018\",\"10/24/2018\",\"10/25/2018\",\"10/26/2018\",\"10/27/2018\",\"10/28/2018\",\"10/29/2018\",\"10/30/2018\",\"10/31/2018\",\"11/1/2018\",\"11/2/2018\",\"11/3/2018\",\"11/4/2018\",\"11/5/2018\",\"11/6/2018\",\"11/7/2018\",\"11/8/2018\",\"11/9/2018\",\"11/10/2018\",\"11/11/2018\",\"11/12/2018\",\"11/13/2018\",\"11/14/2018\",\"11/15/2018\",\"11/16/2018\",\"11/17/2018\",\"11/18/2018\",\"11/19/2018\",\"11/20/2018\",\"11/21/2018\",\"11/22/2018\",\"11/23/2018\",\"11/24/2018\",\"11/25/2018\",\"11/26/2018\",\"11/27/2018\",\"11/28/2018\",\"11/29/2018\",\"11/30/2018\",\"12/1/2018\",\"12/2/2018\",\"12/3/2018\",\"12/4/2018\",\"12/5/2018\",\"12/6/2018\",\"12/7/2018\",\"12/8/2018\",\"12/9/2018\",\"12/10/2018\",\"12/11/2018\",\"12/12/2018\",\"12/13/2018\",\"12/14/2018\",\"12/15/2018\",\"12/16/2018\",\"12/17/2018\",\"12/18/2018\",\"12/19/2018\",\"12/20/2018\",\"12/21/2018\",\"12/22/2018\",\"12/23/2018\",\"12/24/2018\",\"12/25/2018\",\"12/26/2018\",\"12/27/2018\",\"12/28/2018\",\"12/29/2018\",\"12/30/2018\",\"12/31/2018\",\"1/1/2019\",\"1/2/2019\",\"1/3/2019\",\"1/4/2019\",\"1/5/2019\",\"1/6/2019\",\"1/7/2019\",\"1/8/2019\",\"1/9/2019\",\"1/10/2019\",\"1/11/2019\",\"1/12/2019\",\"1/13/2019\",\"1/14/2019\",\"1/15/2019\",\"1/16/2019\",\"1/17/2019\",\"1/18/2019\",\"1/19/2019\",\"1/20/2019\",\"1/21/2019\",\"1/22/2019\",\"1/23/2019\",\"1/24/2019\",\"1/25/2019\",\"1/26/2019\",\"1/27/2019\",\"1/28/2019\",\"1/29/2019\",\"1/30/2019\",\"1/31/2019\",\"2/1/2019\",\"2/2/2019\",\"2/3/2019\",\"2/4/2019\",\"2/5/2019\",\"2/6/2019\",\"2/7/2019\",\"2/8/2019\",\"2/9/2019\",\"2/10/2019\",\"2/11/2019\",\"2/12/2019\",\"2/13/2019\",\"2/14/2019\",\"2/15/2019\",\"2/16/2019\",\"2/17/2019\",\"2/18/2019\",\"2/19/2019\",\"2/20/2019\",\"2/21/2019\",\"2/22/2019\",\"2/23/2019\",\"2/24/2019\",\"2/25/2019\",\"2/26/2019\",\"2/27/2019\",\"2/28/2019\",\"3/1/2019\",\"3/2/2019\",\"3/3/2019\",\"3/4/2019\",\"3/5/2019\",\"3/6/2019\",\"3/7/2019\",\"3/8/2019\",\"3/9/2019\",\"3/10/2019\",\"3/11/2019\",\"3/12/2019\",\"3/13/2019\",\"3/14/2019\",\"3/15/2019\",\"3/16/2019\",\"3/17/2019\",\"3/18/2019\",\"3/19/2019\",\"3/20/2019\",\"3/21/2019\",\"3/22/2019\",\"3/23/2019\",\"3/24/2019\",\"3/25/2019\",\"3/26/2019\",\"3/27/2019\",\"3/28/2019\",\"3/29/2019\",\"3/30/2019\",\"3/31/2019\",\"4/1/2019\",\"4/2/2019\",\"4/3/2019\",\"4/4/2019\",\"4/5/2019\",\"4/6/2019\",\"4/7/2019\",\"4/8/2019\",\"4/9/2019\",\"4/10/2019\",\"4/11/2019\",\"4/12/2019\",\"4/13/2019\",\"4/14/2019\",\"4/15/2019\",\"4/16/2019\",\"4/17/2019\",\"4/18/2019\",\"4/19/2019\",\"4/20/2019\",\"4/21/2019\",\"4/22/2019\",\"4/23/2019\",\"4/24/2019\",\"4/25/2019\",\"4/26/2019\",\"4/27/2019\",\"4/28/2019\",\"4/29/2019\",\"4/30/2019\",\"5/1/2019\",\"5/2/2019\",\"5/3/2019\",\"5/4/2019\",\"5/5/2019\",\"5/6/2019\",\"5/7/2019\",\"5/8/2019\",\"5/9/2019\",\"5/10/2019\",\"5/11/2019\",\"5/12/2019\",\"5/13/2019\",\"5/14/2019\",\"5/15/2019\",\"5/16/2019\",\"5/17/2019\",\"5/18/2019\",\"5/19/2019\",\"5/20/2019\",\"5/21/2019\",\"5/22/2019\",\"5/23/2019\",\"5/24/2019\",\"5/25/2019\",\"5/26/2019\",\"5/27/2019\",\"5/28/2019\",\"5/29/2019\",\"5/30/2019\",\"5/31/2019\",\"6/1/2019\",\"6/2/2019\",\"6/3/2019\",\"6/4/2019\",\"6/5/2019\",\"6/6/2019\",\"6/7/2019\",\"6/8/2019\",\"6/9/2019\",\"6/10/2019\",\"6/11/2019\",\"6/12/2019\",\"6/13/2019\",\"6/14/2019\",\"6/15/2019\",\"6/16/2019\",\"6/17/2019\",\"6/18/2019\",\"6/19/2019\",\"6/20/2019\",\"6/21/2019\",\"6/22/2019\",\"6/23/2019\",\"6/24/2019\",\"6/25/2019\",\"6/26/2019\",\"6/27/2019\",\"6/28/2019\",\"6/29/2019\",\"6/30/2019\",\"7/1/2019\",\"7/2/2019\",\"7/3/2019\",\"7/4/2019\",\"7/5/2019\",\"7/6/2019\",\"7/7/2019\",\"7/8/2019\",\"7/9/2019\",\"7/10/2019\",\"7/11/2019\",\"7/12/2019\",\"7/13/2019\",\"7/14/2019\",\"7/15/2019\",\"7/16/2019\",\"7/17/2019\",\"7/18/2019\",\"7/19/2019\",\"7/20/2019\",\"7/21/2019\",\"7/22/2019\",\"7/23/2019\",\"7/24/2019\",\"7/25/2019\",\"7/26/2019\",\"7/27/2019\",\"7/28/2019\",\"7/29/2019\",\"7/30/2019\",\"7/31/2019\",\"8/1/2019\",\"8/2/2019\",\"8/3/2019\",\"8/4/2019\",\"8/5/2019\",\"8/6/2019\",\"8/7/2019\",\"8/8/2019\",\"8/9/2019\",\"8/10/2019\",\"8/11/2019\",\"8/12/2019\",\"8/13/2019\",\"8/14/2019\",\"8/15/2019\",\"8/16/2019\",\"8/17/2019\",\"8/18/2019\",\"8/19/2019\",\"8/20/2019\",\"8/21/2019\",\"8/22/2019\",\"8/23/2019\",\"8/24/2019\",\"8/25/2019\",\"8/26/2019\",\"8/27/2019\",\"8/28/2019\",\"8/29/2019\",\"8/30/2019\",\"8/31/2019\",\"9/1/2019\",\"9/2/2019\",\"9/3/2019\",\"9/4/2019\",\"9/5/2019\",\"9/6/2019\",\"9/7/2019\",\"9/8/2019\",\"9/9/2019\",\"9/10/2019\",\"9/11/2019\",\"9/12/2019\",\"9/13/2019\",\"9/14/2019\",\"9/15/2019\",\"9/16/2019\",\"9/17/2019\",\"9/18/2019\",\"9/19/2019\",\"9/20/2019\",\"9/21/2019\",\"9/22/2019\",\"9/23/2019\",\"9/24/2019\",\"9/25/2019\",\"9/26/2019\",\"9/27/2019\",\"9/28/2019\",\"9/29/2019\",\"9/30/2019\",\"10/1/2019\",\"10/2/2019\",\"10/3/2019\",\"10/4/2019\",\"10/5/2019\",\"10/6/2019\",\"10/7/2019\",\"10/8/2019\",\"10/10/2019\",\"10/11/2019\",\"10/12/2019\",\"10/13/2019\",\"10/14/2019\",\"10/15/2019\",\"10/16/2019\",\"10/17/2019\",\"10/18/2019\",\"10/19/2019\",\"10/20/2019\",\"10/21/2019\",\"10/22/2019\",\"10/23/2019\",\"10/24/2019\",\"10/25/2019\",\"10/26/2019\",\"10/27/2019\",\"10/28/2019\",\"10/29/2019\",\"10/30/2019\",\"10/31/2019\",\"11/1/2019\",\"11/2/2019\",\"11/3/2019\",\"11/4/2019\",\"11/5/2019\",\"11/6/2019\",\"11/7/2019\",\"11/8/2019\",\"11/9/2019\",\"11/10/2019\",\"11/11/2019\",\"11/12/2019\",\"11/13/2019\",\"11/14/2019\",\"11/15/2019\",\"11/16/2019\",\"11/17/2019\",\"11/18/2019\",\"11/19/2019\",\"11/20/2019\",\"11/21/2019\",\"11/22/2019\",\"11/23/2019\",\"11/24/2019\",\"11/25/2019\",\"11/26/2019\",\"11/27/2019\",\"11/28/2019\",\"11/29/2019\",\"11/30/2019\",\"12/1/2019\",\"12/2/2019\",\"12/3/2019\",\"12/4/2019\",\"12/5/2019\",\"12/6/2019\",\"12/7/2019\",\"12/8/2019\",\"12/9/2019\",\"12/10/2019\",\"12/11/2019\",\"12/12/2019\",\"12/13/2019\",\"12/14/2019\",\"12/15/2019\",\"12/16/2019\",\"12/17/2019\",\"12/18/2019\",\"12/19/2019\",\"12/20/2019\",\"12/21/2019\",\"12/22/2019\",\"12/23/2019\",\"12/24/2019\",\"12/25/2019\",\"12/26/2019\",\"12/27/2019\",\"12/28/2019\",\"12/29/2019\",\"12/30/2019\",\"12/31/2019\"],\"y\":[788,142,122,243,247,932,1975,157,30,148,176,430,638,1606,127,333,233,282,422,877,1395,257,515,393,374,332,282,346,259,150,365,278,411,983,2242,312,263,337,432,367,706,1475,223,101,172,256,257,695,1951,475,976,1247,1505,1410,927,2538,684,827,902,604,528,350,1550,618,1348,1028,1518,1366,493,930,878,362,445,570,944,670,1092,616,833,713,1350,2409,625,2178,764,1975,1097,2399,1413,918,1087,424,891,2341,994,1356,1296,2303,1154,373,1866,2776,2418,2163,3010,2585,2692,634,543,1144,800,1268,397,425,1147,1791,2225,940,1632,812,478,1259,600,1169,812,1532,753,1806,2207,3128,2513,707,1449,551,941,1309,2984,2360,887,1493,1197,1735,1440,1769,2592,840,966,1034,519,395,1381,1062,945,1238,379,1157,629,1126,730,408,898,366,745,1297,492,889,513,636,662,367,532,585,537,410,824,382,1206,1106,1082,695,235,448,228,554,379,924,390,380,488,206,286,160,504,443,315,610,423,387,241,517,435,355,517,203,272,584,681,321,296,532,192,448,213,395,550,386,487,567,902,961,975,635,506,581,734,1179,1305,1376,835,545,855,582,1149,1303,1150,825,579,628,548,727,747,507,223,192,969,1018,531,303,168,338,318,462,137,320,371,262,227,270,720,171,488,102,68,1194,1828,908,126,241,478,619,249,33,275,1006,253,261,1716,1679,1612,1249,1108,1549,1115,2644,1351,1076,172,475,1040,894,871,603,1023,308,1671,756,1308,792,559,620,550,450,801,480,825,349,873,134,767,1235,1554,1432,515,1022,96,798,353,1236,1100,320,778,308,112,276,497,804,299,629,332,590,621,605,530,370,815,84,184,405,47,159,199,666,59,129,56,317,355,647,970,291,615,541,321,190,319,632,46,165,336,284,296,407,595,280,120,150,271,71,61,1011,296,450,348,298,415,529,1614,105,51,314,72,473,222,1678,305,293,99,317,227,186,1685,284,537,671,527,603,1498,3539,938,538,615,507,1529,1320,1765,532,607,416,542,768,755,439,214,447,372,819,1169,928,2362,535,985,296,568,1802,1923,2381,880,972,987,1894,2289,920,1812,566,1492,1008,1866,1204,937,1837,785,1346,1556,1443,1240,1052,1677,1071,836,1086,356,476,71,1393,2542,3390,3455,3370,1986,3087,1713,686,1164,566,732,752,935,1635,584,1067,622,259,1710,1254,1480,1223,1097,1247,1880,449,412,1051,1476,2010,1320,1244,1182,896,1272,704,907,146,334,689,516,419,344,562,923,605,551,248,575,733,376,692,822,1500,362,864,524,627,938,1000,876,449,1120,533,1765,1003,895,546,343,889,483,953,605,948,760,522,1338,1648,910,1135,624,718,646,787,684,767,1024,829,448,311,953,239,962,553,339,504,794,654,353,563,442,525,429,689,772,232,287,215,485,283,479,900,304,528,965,545,1049,820,666,484,1160,959,1320,679,350,607,500,927,1002,972,661,392,637,365,728,924,714,713,577,547,355,1113,999,922,1193,775,671,379,735,795,802,271,475,264,195,132,160,339,113,214,644,207,950,700,278,157,277,568,247,271,22,336,359,1242,781,1044,595,1248,1176,852,1817,826,802,196,344,594,262,645,339,294,674,1460,1377,443,799,329,1075,661,2106,1721,345,728,130,1122,1014,1370,614,192,878,121,741,767,407,851,403,939,273,902,1110,955,752,309,580,571,428,373,534,321,175,743,114,623,879,1114,438,154,484,222,463,701,800,397,187,421,63,78,188,289,184,172,502,552,343,163,283,205,319,1227,230,613,132,130,102,339,1206,266,549,334,451,113,241,679,187,287,522,548,171,625,2224,262,67,178,539,1280,2513,4142,753,249,490,162,866,1587,3010,798,1176,1188,1076,949,1435,3222,716,156,825,1057,826,1462,2642,720,576,992,387,834,907,665,201,793,644,784,552,527,543,221,273,1316,1213,831,1147,2568,898,1578,1086,332,178,740,689,412,473,844,1498,2348,1505,3087,1262,1214,1454,1687,566,641,303,392,1059,1169,1265,2311,2477,2813,1274,738,1702,1333,1981,511,502,100,252,1022,2484,2980,2230,3889,1654,3846,3794,1827,2988,3397,3136,1350,1460,1313,735,975,212,1504,931,3382,6535,5908,3325,4573,2708,1466,1859,1413,1111,800,1563,2312,989,2023,370,266,2335,1520,1739,881,2100,1949,1956,1658,499,1273,332,2236,1322,900,240,357,1117,284,1534,2134,2031,681,564,920,257,861,1697,1005,2809,1318,2466,1391,556,584,1625,849,747,1553,845,1693,932,1247,648,917,1374,1005,948,1347,1097,560,973,894,430,481,1163,698,781,536,865,494,708,817,981,605,455,849,521,744,725,453,707,490,980,764,658,1404,1033,566,656,782,380,780,719,947,377,497,756,234,333,426,321,241,583,854,291,1237,2372,1766,1278,734,1038,961,1756,1995,1814,1114,866,892,789,1253,1315,995,651,422,426,116,72,386,491,220,251,508,194,249,406,543,194,403,751,557,671,477,484,601,460,851,444,719,1175,1005,832,331,904,331,1124,994,164,490,296,723,756,291,40,700,531,1616,861,1406,1297,1513,1672,1256,2629,1425,1417,494,876,586,336,544,294,629,841,903,945,427,720,1135,1244,1049,1695,1659,396,915,252,700,913,762,1238,393,720,280,825,492,1477,650,210,752,320,1172,1077,855,612,307,702,151,792,277,183,170,179,579,36,73,52,93,81,17,409,183,79,418,201,397,416,915,106,186,436,135,252,487,1010,1068,818,405],\"type\":\"scatter\"},{\"marker\":{\"line\":{\"width\":1},\"size\":6},\"mode\":\"markers\",\"name\":\"Tourist Visitors\",\"x\":[\"1/1/2017\",\"1/2/2017\",\"1/3/2017\",\"1/4/2017\",\"1/5/2017\",\"1/6/2017\",\"1/7/2017\",\"1/8/2017\",\"1/9/2017\",\"1/10/2017\",\"1/11/2017\",\"1/12/2017\",\"1/13/2017\",\"1/14/2017\",\"1/15/2017\",\"1/16/2017\",\"1/17/2017\",\"1/18/2017\",\"1/19/2017\",\"1/20/2017\",\"1/21/2017\",\"1/22/2017\",\"1/23/2017\",\"1/24/2017\",\"1/25/2017\",\"1/26/2017\",\"1/27/2017\",\"1/28/2017\",\"1/29/2017\",\"1/30/2017\",\"1/31/2017\",\"2/1/2017\",\"2/2/2017\",\"2/3/2017\",\"2/4/2017\",\"2/5/2017\",\"2/6/2017\",\"2/7/2017\",\"2/8/2017\",\"2/9/2017\",\"2/10/2017\",\"2/11/2017\",\"2/12/2017\",\"2/13/2017\",\"2/14/2017\",\"2/15/2017\",\"2/16/2017\",\"2/17/2017\",\"2/18/2017\",\"2/19/2017\",\"2/20/2017\",\"2/21/2017\",\"2/22/2017\",\"2/23/2017\",\"2/24/2017\",\"2/25/2017\",\"2/26/2017\",\"2/27/2017\",\"2/28/2017\",\"3/1/2017\",\"3/2/2017\",\"3/3/2017\",\"3/4/2017\",\"3/5/2017\",\"3/6/2017\",\"3/7/2017\",\"3/8/2017\",\"3/9/2017\",\"3/10/2017\",\"3/11/2017\",\"3/12/2017\",\"3/13/2017\",\"3/14/2017\",\"3/15/2017\",\"3/16/2017\",\"3/17/2017\",\"3/18/2017\",\"3/19/2017\",\"3/20/2017\",\"3/21/2017\",\"3/22/2017\",\"3/23/2017\",\"3/24/2017\",\"3/25/2017\",\"3/26/2017\",\"3/27/2017\",\"3/28/2017\",\"3/29/2017\",\"3/30/2017\",\"3/31/2017\",\"4/1/2017\",\"4/2/2017\",\"4/3/2017\",\"4/4/2017\",\"4/5/2017\",\"4/6/2017\",\"4/7/2017\",\"4/8/2017\",\"4/9/2017\",\"4/10/2017\",\"4/11/2017\",\"4/12/2017\",\"4/13/2017\",\"4/14/2017\",\"4/15/2017\",\"4/16/2017\",\"4/17/2017\",\"4/18/2017\",\"4/19/2017\",\"4/20/2017\",\"4/21/2017\",\"4/22/2017\",\"4/23/2017\",\"4/24/2017\",\"4/25/2017\",\"4/26/2017\",\"4/27/2017\",\"4/28/2017\",\"4/29/2017\",\"4/30/2017\",\"5/1/2017\",\"5/2/2017\",\"5/3/2017\",\"5/4/2017\",\"5/5/2017\",\"5/6/2017\",\"5/7/2017\",\"5/8/2017\",\"5/9/2017\",\"5/10/2017\",\"5/11/2017\",\"5/12/2017\",\"5/13/2017\",\"5/14/2017\",\"5/15/2017\",\"5/16/2017\",\"5/17/2017\",\"5/18/2017\",\"5/19/2017\",\"5/20/2017\",\"5/21/2017\",\"5/22/2017\",\"5/23/2017\",\"5/24/2017\",\"5/25/2017\",\"5/26/2017\",\"5/27/2017\",\"5/28/2017\",\"5/29/2017\",\"5/30/2017\",\"5/31/2017\",\"6/1/2017\",\"6/2/2017\",\"6/3/2017\",\"6/4/2017\",\"6/5/2017\",\"6/6/2017\",\"6/7/2017\",\"6/8/2017\",\"6/9/2017\",\"6/10/2017\",\"6/11/2017\",\"6/12/2017\",\"6/13/2017\",\"6/14/2017\",\"6/15/2017\",\"6/16/2017\",\"6/17/2017\",\"6/18/2017\",\"6/19/2017\",\"6/20/2017\",\"6/21/2017\",\"6/22/2017\",\"6/23/2017\",\"6/24/2017\",\"6/25/2017\",\"6/26/2017\",\"6/27/2017\",\"6/28/2017\",\"6/29/2017\",\"6/30/2017\",\"7/1/2017\",\"7/2/2017\",\"7/3/2017\",\"7/4/2017\",\"7/5/2017\",\"7/6/2017\",\"7/7/2017\",\"7/8/2017\",\"7/9/2017\",\"7/10/2017\",\"7/11/2017\",\"7/12/2017\",\"7/13/2017\",\"7/14/2017\",\"7/15/2017\",\"7/16/2017\",\"7/17/2017\",\"7/18/2017\",\"7/19/2017\",\"7/20/2017\",\"7/21/2017\",\"7/22/2017\",\"7/23/2017\",\"7/24/2017\",\"7/25/2017\",\"7/26/2017\",\"7/27/2017\",\"7/28/2017\",\"7/29/2017\",\"7/30/2017\",\"7/31/2017\",\"8/1/2017\",\"8/2/2017\",\"8/3/2017\",\"8/4/2017\",\"8/5/2017\",\"8/6/2017\",\"8/7/2017\",\"8/8/2017\",\"8/9/2017\",\"8/10/2017\",\"8/11/2017\",\"8/12/2017\",\"8/13/2017\",\"8/14/2017\",\"8/15/2017\",\"8/16/2017\",\"8/17/2017\",\"8/18/2017\",\"8/19/2017\",\"8/20/2017\",\"8/21/2017\",\"8/22/2017\",\"8/23/2017\",\"8/24/2017\",\"8/25/2017\",\"8/26/2017\",\"8/27/2017\",\"8/28/2017\",\"8/29/2017\",\"8/30/2017\",\"8/31/2017\",\"9/1/2017\",\"9/2/2017\",\"9/3/2017\",\"9/4/2017\",\"9/5/2017\",\"9/6/2017\",\"9/7/2017\",\"9/8/2017\",\"9/9/2017\",\"9/10/2017\",\"9/11/2017\",\"9/12/2017\",\"9/13/2017\",\"9/14/2017\",\"9/15/2017\",\"9/16/2017\",\"9/17/2017\",\"9/18/2017\",\"9/19/2017\",\"9/20/2017\",\"9/21/2017\",\"9/22/2017\",\"9/23/2017\",\"9/24/2017\",\"9/25/2017\",\"9/26/2017\",\"9/27/2017\",\"9/28/2017\",\"9/29/2017\",\"10/1/2017\",\"10/2/2017\",\"10/3/2017\",\"10/4/2017\",\"10/5/2017\",\"10/6/2017\",\"10/7/2017\",\"10/8/2017\",\"10/9/2017\",\"10/10/2017\",\"10/11/2017\",\"10/12/2017\",\"10/13/2017\",\"10/14/2017\",\"10/15/2017\",\"10/16/2017\",\"10/17/2017\",\"10/18/2017\",\"10/19/2017\",\"10/20/2017\",\"10/21/2017\",\"10/22/2017\",\"10/23/2017\",\"10/24/2017\",\"10/25/2017\",\"10/26/2017\",\"10/27/2017\",\"10/28/2017\",\"10/29/2017\",\"10/30/2017\",\"10/31/2017\",\"11/1/2017\",\"11/2/2017\",\"11/3/2017\",\"11/4/2017\",\"11/5/2017\",\"11/6/2017\",\"11/7/2017\",\"11/8/2017\",\"11/9/2017\",\"11/10/2017\",\"11/11/2017\",\"11/12/2017\",\"11/13/2017\",\"11/14/2017\",\"11/15/2017\",\"11/16/2017\",\"11/17/2017\",\"11/18/2017\",\"11/19/2017\",\"11/20/2017\",\"11/21/2017\",\"11/22/2017\",\"11/23/2017\",\"11/24/2017\",\"11/25/2017\",\"11/26/2017\",\"11/27/2017\",\"11/28/2017\",\"11/29/2017\",\"11/30/2017\",\"12/1/2017\",\"12/2/2017\",\"12/3/2017\",\"12/4/2017\",\"12/5/2017\",\"12/6/2017\",\"12/7/2017\",\"12/8/2017\",\"12/9/2017\",\"12/10/2017\",\"12/11/2017\",\"12/12/2017\",\"12/13/2017\",\"12/14/2017\",\"12/15/2017\",\"12/16/2017\",\"12/17/2017\",\"12/18/2017\",\"12/19/2017\",\"12/20/2017\",\"12/21/2017\",\"12/22/2017\",\"12/23/2017\",\"12/24/2017\",\"12/25/2017\",\"12/26/2017\",\"12/27/2017\",\"12/28/2017\",\"12/29/2017\",\"12/30/2017\",\"12/31/2017\",\"1/1/2018\",\"1/2/2018\",\"1/3/2018\",\"1/4/2018\",\"1/5/2018\",\"1/6/2018\",\"1/7/2018\",\"1/8/2018\",\"1/9/2018\",\"1/10/2018\",\"1/11/2018\",\"1/12/2018\",\"1/13/2018\",\"1/14/2018\",\"1/15/2018\",\"1/16/2018\",\"1/17/2018\",\"1/18/2018\",\"1/19/2018\",\"1/20/2018\",\"1/21/2018\",\"1/22/2018\",\"1/23/2018\",\"1/24/2018\",\"1/25/2018\",\"1/26/2018\",\"1/27/2018\",\"1/28/2018\",\"1/29/2018\",\"1/30/2018\",\"1/31/2018\",\"2/1/2018\",\"2/2/2018\",\"2/3/2018\",\"2/4/2018\",\"2/5/2018\",\"2/6/2018\",\"2/7/2018\",\"2/8/2018\",\"2/9/2018\",\"2/10/2018\",\"2/11/2018\",\"2/12/2018\",\"2/13/2018\",\"2/14/2018\",\"2/15/2018\",\"2/16/2018\",\"2/17/2018\",\"2/18/2018\",\"2/19/2018\",\"2/20/2018\",\"2/21/2018\",\"2/22/2018\",\"2/23/2018\",\"2/24/2018\",\"2/25/2018\",\"2/26/2018\",\"2/27/2018\",\"2/28/2018\",\"3/1/2018\",\"3/2/2018\",\"3/3/2018\",\"3/4/2018\",\"3/5/2018\",\"3/6/2018\",\"3/7/2018\",\"3/8/2018\",\"3/9/2018\",\"3/10/2018\",\"3/11/2018\",\"3/12/2018\",\"3/13/2018\",\"3/14/2018\",\"3/15/2018\",\"3/16/2018\",\"3/17/2018\",\"3/18/2018\",\"3/19/2018\",\"3/20/2018\",\"3/21/2018\",\"3/22/2018\",\"3/23/2018\",\"3/24/2018\",\"3/25/2018\",\"3/26/2018\",\"3/27/2018\",\"3/28/2018\",\"3/29/2018\",\"3/30/2018\",\"3/31/2018\",\"4/1/2018\",\"4/2/2018\",\"4/3/2018\",\"4/4/2018\",\"4/5/2018\",\"4/6/2018\",\"4/7/2018\",\"4/8/2018\",\"4/9/2018\",\"4/10/2018\",\"4/11/2018\",\"4/12/2018\",\"4/13/2018\",\"4/14/2018\",\"4/15/2018\",\"4/16/2018\",\"4/17/2018\",\"4/18/2018\",\"4/19/2018\",\"4/20/2018\",\"4/21/2018\",\"4/22/2018\",\"4/23/2018\",\"4/24/2018\",\"4/25/2018\",\"4/26/2018\",\"4/27/2018\",\"4/28/2018\",\"4/29/2018\",\"4/30/2018\",\"5/1/2018\",\"5/2/2018\",\"5/3/2018\",\"5/4/2018\",\"5/5/2018\",\"5/6/2018\",\"5/7/2018\",\"5/8/2018\",\"5/9/2018\",\"5/10/2018\",\"5/11/2018\",\"5/12/2018\",\"5/13/2018\",\"5/14/2018\",\"5/15/2018\",\"5/16/2018\",\"5/17/2018\",\"5/18/2018\",\"5/19/2018\",\"5/20/2018\",\"5/21/2018\",\"5/22/2018\",\"5/23/2018\",\"5/24/2018\",\"5/25/2018\",\"5/26/2018\",\"5/27/2018\",\"5/28/2018\",\"5/29/2018\",\"5/30/2018\",\"5/31/2018\",\"6/1/2018\",\"6/2/2018\",\"6/3/2018\",\"6/4/2018\",\"6/5/2018\",\"6/6/2018\",\"6/7/2018\",\"6/8/2018\",\"6/9/2018\",\"6/10/2018\",\"6/11/2018\",\"6/12/2018\",\"6/13/2018\",\"6/14/2018\",\"6/15/2018\",\"6/16/2018\",\"6/17/2018\",\"6/18/2018\",\"6/19/2018\",\"6/20/2018\",\"6/21/2018\",\"6/22/2018\",\"6/23/2018\",\"6/24/2018\",\"6/25/2018\",\"6/26/2018\",\"6/27/2018\",\"6/28/2018\",\"6/29/2018\",\"6/30/2018\",\"7/1/2018\",\"7/2/2018\",\"7/3/2018\",\"7/4/2018\",\"7/5/2018\",\"7/6/2018\",\"7/7/2018\",\"7/8/2018\",\"7/9/2018\",\"7/10/2018\",\"7/11/2018\",\"7/12/2018\",\"7/13/2018\",\"7/14/2018\",\"7/15/2018\",\"7/16/2018\",\"7/17/2018\",\"7/18/2018\",\"7/19/2018\",\"7/20/2018\",\"7/21/2018\",\"7/22/2018\",\"7/23/2018\",\"7/24/2018\",\"7/25/2018\",\"7/26/2018\",\"7/27/2018\",\"7/28/2018\",\"7/29/2018\",\"7/30/2018\",\"7/31/2018\",\"8/1/2018\",\"8/2/2018\",\"8/3/2018\",\"8/4/2018\",\"8/5/2018\",\"8/6/2018\",\"8/7/2018\",\"8/8/2018\",\"8/9/2018\",\"8/10/2018\",\"8/11/2018\",\"8/12/2018\",\"8/13/2018\",\"8/14/2018\",\"8/15/2018\",\"8/16/2018\",\"8/17/2018\",\"8/18/2018\",\"8/19/2018\",\"8/20/2018\",\"8/21/2018\",\"8/22/2018\",\"8/23/2018\",\"8/24/2018\",\"8/25/2018\",\"8/26/2018\",\"8/27/2018\",\"8/28/2018\",\"8/29/2018\",\"8/30/2018\",\"8/31/2018\",\"9/1/2018\",\"9/2/2018\",\"9/3/2018\",\"9/4/2018\",\"9/5/2018\",\"9/6/2018\",\"9/7/2018\",\"9/8/2018\",\"9/9/2018\",\"9/10/2018\",\"9/11/2018\",\"9/12/2018\",\"9/13/2018\",\"9/14/2018\",\"9/15/2018\",\"9/16/2018\",\"9/17/2018\",\"9/18/2018\",\"9/20/2018\",\"9/21/2018\",\"9/22/2018\",\"9/23/2018\",\"9/24/2018\",\"9/25/2018\",\"9/26/2018\",\"9/27/2018\",\"9/28/2018\",\"9/29/2018\",\"9/30/2018\",\"10/1/2018\",\"10/2/2018\",\"10/3/2018\",\"10/4/2018\",\"10/5/2018\",\"10/6/2018\",\"10/7/2018\",\"10/8/2018\",\"10/9/2018\",\"10/10/2018\",\"10/11/2018\",\"10/12/2018\",\"10/13/2018\",\"10/14/2018\",\"10/15/2018\",\"10/16/2018\",\"10/17/2018\",\"10/18/2018\",\"10/19/2018\",\"10/20/2018\",\"10/21/2018\",\"10/22/2018\",\"10/23/2018\",\"10/24/2018\",\"10/25/2018\",\"10/26/2018\",\"10/27/2018\",\"10/28/2018\",\"10/29/2018\",\"10/30/2018\",\"10/31/2018\",\"11/1/2018\",\"11/2/2018\",\"11/3/2018\",\"11/4/2018\",\"11/5/2018\",\"11/6/2018\",\"11/7/2018\",\"11/8/2018\",\"11/9/2018\",\"11/10/2018\",\"11/11/2018\",\"11/12/2018\",\"11/13/2018\",\"11/14/2018\",\"11/15/2018\",\"11/16/2018\",\"11/17/2018\",\"11/18/2018\",\"11/19/2018\",\"11/20/2018\",\"11/21/2018\",\"11/22/2018\",\"11/23/2018\",\"11/24/2018\",\"11/25/2018\",\"11/26/2018\",\"11/27/2018\",\"11/28/2018\",\"11/29/2018\",\"11/30/2018\",\"12/1/2018\",\"12/2/2018\",\"12/3/2018\",\"12/4/2018\",\"12/5/2018\",\"12/6/2018\",\"12/7/2018\",\"12/8/2018\",\"12/9/2018\",\"12/10/2018\",\"12/11/2018\",\"12/12/2018\",\"12/13/2018\",\"12/14/2018\",\"12/15/2018\",\"12/16/2018\",\"12/17/2018\",\"12/18/2018\",\"12/19/2018\",\"12/20/2018\",\"12/21/2018\",\"12/22/2018\",\"12/23/2018\",\"12/24/2018\",\"12/25/2018\",\"12/26/2018\",\"12/27/2018\",\"12/28/2018\",\"12/29/2018\",\"12/30/2018\",\"12/31/2018\",\"1/1/2019\",\"1/2/2019\",\"1/3/2019\",\"1/4/2019\",\"1/5/2019\",\"1/6/2019\",\"1/7/2019\",\"1/8/2019\",\"1/9/2019\",\"1/10/2019\",\"1/11/2019\",\"1/12/2019\",\"1/13/2019\",\"1/14/2019\",\"1/15/2019\",\"1/16/2019\",\"1/17/2019\",\"1/18/2019\",\"1/19/2019\",\"1/20/2019\",\"1/21/2019\",\"1/22/2019\",\"1/23/2019\",\"1/24/2019\",\"1/25/2019\",\"1/26/2019\",\"1/27/2019\",\"1/28/2019\",\"1/29/2019\",\"1/30/2019\",\"1/31/2019\",\"2/1/2019\",\"2/2/2019\",\"2/3/2019\",\"2/4/2019\",\"2/5/2019\",\"2/6/2019\",\"2/7/2019\",\"2/8/2019\",\"2/9/2019\",\"2/10/2019\",\"2/11/2019\",\"2/12/2019\",\"2/13/2019\",\"2/14/2019\",\"2/15/2019\",\"2/16/2019\",\"2/17/2019\",\"2/18/2019\",\"2/19/2019\",\"2/20/2019\",\"2/21/2019\",\"2/22/2019\",\"2/23/2019\",\"2/24/2019\",\"2/25/2019\",\"2/26/2019\",\"2/27/2019\",\"2/28/2019\",\"3/1/2019\",\"3/2/2019\",\"3/3/2019\",\"3/4/2019\",\"3/5/2019\",\"3/6/2019\",\"3/7/2019\",\"3/8/2019\",\"3/9/2019\",\"3/10/2019\",\"3/11/2019\",\"3/12/2019\",\"3/13/2019\",\"3/14/2019\",\"3/15/2019\",\"3/16/2019\",\"3/17/2019\",\"3/18/2019\",\"3/19/2019\",\"3/20/2019\",\"3/21/2019\",\"3/22/2019\",\"3/23/2019\",\"3/24/2019\",\"3/25/2019\",\"3/26/2019\",\"3/27/2019\",\"3/28/2019\",\"3/29/2019\",\"3/30/2019\",\"3/31/2019\",\"4/1/2019\",\"4/2/2019\",\"4/3/2019\",\"4/4/2019\",\"4/5/2019\",\"4/6/2019\",\"4/7/2019\",\"4/8/2019\",\"4/9/2019\",\"4/10/2019\",\"4/11/2019\",\"4/12/2019\",\"4/13/2019\",\"4/14/2019\",\"4/15/2019\",\"4/16/2019\",\"4/17/2019\",\"4/18/2019\",\"4/19/2019\",\"4/20/2019\",\"4/21/2019\",\"4/22/2019\",\"4/23/2019\",\"4/24/2019\",\"4/25/2019\",\"4/26/2019\",\"4/27/2019\",\"4/28/2019\",\"4/29/2019\",\"4/30/2019\",\"5/1/2019\",\"5/2/2019\",\"5/3/2019\",\"5/4/2019\",\"5/5/2019\",\"5/6/2019\",\"5/7/2019\",\"5/8/2019\",\"5/9/2019\",\"5/10/2019\",\"5/11/2019\",\"5/12/2019\",\"5/13/2019\",\"5/14/2019\",\"5/15/2019\",\"5/16/2019\",\"5/17/2019\",\"5/18/2019\",\"5/19/2019\",\"5/20/2019\",\"5/21/2019\",\"5/22/2019\",\"5/23/2019\",\"5/24/2019\",\"5/25/2019\",\"5/26/2019\",\"5/27/2019\",\"5/28/2019\",\"5/29/2019\",\"5/30/2019\",\"5/31/2019\",\"6/1/2019\",\"6/2/2019\",\"6/3/2019\",\"6/4/2019\",\"6/5/2019\",\"6/6/2019\",\"6/7/2019\",\"6/8/2019\",\"6/9/2019\",\"6/10/2019\",\"6/11/2019\",\"6/12/2019\",\"6/13/2019\",\"6/14/2019\",\"6/15/2019\",\"6/16/2019\",\"6/17/2019\",\"6/18/2019\",\"6/19/2019\",\"6/20/2019\",\"6/21/2019\",\"6/22/2019\",\"6/23/2019\",\"6/24/2019\",\"6/25/2019\",\"6/26/2019\",\"6/27/2019\",\"6/28/2019\",\"6/29/2019\",\"6/30/2019\",\"7/1/2019\",\"7/2/2019\",\"7/3/2019\",\"7/4/2019\",\"7/5/2019\",\"7/6/2019\",\"7/7/2019\",\"7/8/2019\",\"7/9/2019\",\"7/10/2019\",\"7/11/2019\",\"7/12/2019\",\"7/13/2019\",\"7/14/2019\",\"7/15/2019\",\"7/16/2019\",\"7/17/2019\",\"7/18/2019\",\"7/19/2019\",\"7/20/2019\",\"7/21/2019\",\"7/22/2019\",\"7/23/2019\",\"7/24/2019\",\"7/25/2019\",\"7/26/2019\",\"7/27/2019\",\"7/28/2019\",\"7/29/2019\",\"7/30/2019\",\"7/31/2019\",\"8/1/2019\",\"8/2/2019\",\"8/3/2019\",\"8/4/2019\",\"8/5/2019\",\"8/6/2019\",\"8/7/2019\",\"8/8/2019\",\"8/9/2019\",\"8/10/2019\",\"8/11/2019\",\"8/12/2019\",\"8/13/2019\",\"8/14/2019\",\"8/15/2019\",\"8/16/2019\",\"8/17/2019\",\"8/18/2019\",\"8/19/2019\",\"8/20/2019\",\"8/21/2019\",\"8/22/2019\",\"8/23/2019\",\"8/24/2019\",\"8/25/2019\",\"8/26/2019\",\"8/27/2019\",\"8/28/2019\",\"8/29/2019\",\"8/30/2019\",\"8/31/2019\",\"9/1/2019\",\"9/2/2019\",\"9/3/2019\",\"9/4/2019\",\"9/5/2019\",\"9/6/2019\",\"9/7/2019\",\"9/8/2019\",\"9/9/2019\",\"9/10/2019\",\"9/11/2019\",\"9/12/2019\",\"9/13/2019\",\"9/14/2019\",\"9/15/2019\",\"9/16/2019\",\"9/17/2019\",\"9/18/2019\",\"9/19/2019\",\"9/20/2019\",\"9/21/2019\",\"9/22/2019\",\"9/23/2019\",\"9/24/2019\",\"9/25/2019\",\"9/26/2019\",\"9/27/2019\",\"9/28/2019\",\"9/29/2019\",\"9/30/2019\",\"10/1/2019\",\"10/2/2019\",\"10/3/2019\",\"10/4/2019\",\"10/5/2019\",\"10/6/2019\",\"10/7/2019\",\"10/8/2019\",\"10/10/2019\",\"10/11/2019\",\"10/12/2019\",\"10/13/2019\",\"10/14/2019\",\"10/15/2019\",\"10/16/2019\",\"10/17/2019\",\"10/18/2019\",\"10/19/2019\",\"10/20/2019\",\"10/21/2019\",\"10/22/2019\",\"10/23/2019\",\"10/24/2019\",\"10/25/2019\",\"10/26/2019\",\"10/27/2019\",\"10/28/2019\",\"10/29/2019\",\"10/30/2019\",\"10/31/2019\",\"11/1/2019\",\"11/2/2019\",\"11/3/2019\",\"11/4/2019\",\"11/5/2019\",\"11/6/2019\",\"11/7/2019\",\"11/8/2019\",\"11/9/2019\",\"11/10/2019\",\"11/11/2019\",\"11/12/2019\",\"11/13/2019\",\"11/14/2019\",\"11/15/2019\",\"11/16/2019\",\"11/17/2019\",\"11/18/2019\",\"11/19/2019\",\"11/20/2019\",\"11/21/2019\",\"11/22/2019\",\"11/23/2019\",\"11/24/2019\",\"11/25/2019\",\"11/26/2019\",\"11/27/2019\",\"11/28/2019\",\"11/29/2019\",\"11/30/2019\",\"12/1/2019\",\"12/2/2019\",\"12/3/2019\",\"12/4/2019\",\"12/5/2019\",\"12/6/2019\",\"12/7/2019\",\"12/8/2019\",\"12/9/2019\",\"12/10/2019\",\"12/11/2019\",\"12/12/2019\",\"12/13/2019\",\"12/14/2019\",\"12/15/2019\",\"12/16/2019\",\"12/17/2019\",\"12/18/2019\",\"12/19/2019\",\"12/20/2019\",\"12/21/2019\",\"12/22/2019\",\"12/23/2019\",\"12/24/2019\",\"12/25/2019\",\"12/26/2019\",\"12/27/2019\",\"12/28/2019\",\"12/29/2019\",\"12/30/2019\",\"12/31/2019\"],\"y\":[713,450,313,783,544,483,370,395,198,235,294,543,350,531,469,235,303,308,432,314,305,167,220,173,437,472,555,337,470,272,567,384,429,314,858,522,749,360,847,673,731,762,611,221,837,1156,1290,685,1110,1011,918,1309,1195,659,1378,1044,652,951,816,940,841,615,988,1313,1038,1148,756,1297,1234,891,1290,815,814,1206,1317,1038,990,1207,1053,1206,1545,1215,1195,1505,610,878,875,753,1144,915,610,905,1004,1092,688,556,726,543,181,220,587,210,650,723,180,65,208,358,572,1099,1393,1837,687,1072,703,1705,1729,981,911,1476,1220,614,970,1492,687,1091,945,1235,643,1130,722,789,792,1047,568,1637,1343,804,1359,1549,1295,801,1101,807,1077,840,606,1406,731,441,919,759,429,1115,697,1290,1797,1607,1464,1143,1842,987,1171,908,1424,1078,518,384,812,754,849,736,850,529,995,604,575,583,958,597,662,535,814,272,737,601,456,176,297,157,676,657,690,981,600,108,550,348,1017,660,329,521,594,241,519,553,557,262,249,709,392,588,616,960,652,226,409,431,290,189,421,389,107,189,454,231,330,336,320,332,304,283,298,353,342,316,130,98,162,112,291,162,285,660,227,104,342,1191,400,1028,1020,811,460,913,1383,1567,944,524,331,483,508,653,141,562,621,633,260,269,481,631,648,136,264,832,1159,1069,582,332,1021,590,690,291,908,1163,678,1124,1072,1107,1570,1981,1197,2008,1873,1069,1430,2224,1393,2403,1743,958,1175,1109,1530,954,2051,920,2114,1016,975,1291,1567,1931,2067,1685,515,1380,1756,1385,1094,789,966,765,703,1149,1759,1415,671,257,817,669,427,723,1395,1013,1036,365,463,757,743,803,315,284,268,490,326,390,380,149,272,48,272,699,410,475,146,222,264,559,1136,679,935,1521,631,667,478,591,665,800,205,633,1216,637,664,448,1184,361,858,456,429,995,683,690,567,461,421,508,595,727,786,449,815,188,476,793,730,1268,415,555,855,800,816,608,965,890,1133,682,598,1250,778,798,1031,1060,812,1096,1528,1279,1713,1296,1559,958,660,714,1085,1335,1286,1079,1605,821,1121,1817,1758,2064,1371,1592,1143,1557,1617,2254,1258,1314,1282,870,1406,1153,973,676,326,897,432,652,309,528,181,484,183,113,380,600,405,543,472,1078,829,770,1087,1289,1607,1978,881,1631,1839,1240,1973,1070,1924,1559,1178,1381,1512,2774,1375,1707,1089,1143,1872,1057,2260,1600,1500,890,525,976,1704,1451,760,929,673,1070,948,1557,1169,651,894,913,889,1264,1659,1482,1573,1085,1415,1084,1916,2010,1777,863,668,801,773,1300,1543,1105,1450,1176,502,1002,1624,1228,819,550,800,505,562,1410,593,906,926,639,567,418,1268,954,815,192,635,447,514,547,550,534,628,274,639,226,959,802,812,521,383,262,337,274,836,429,565,493,338,727,1066,590,742,521,384,350,697,1085,538,532,201,349,336,444,614,241,752,270,334,224,133,413,270,251,242,302,412,201,236,505,503,144,488,205,125,371,517,207,766,197,501,450,505,212,437,700,328,165,171,321,430,236,486,504,478,214,148,357,513,921,460,520,497,416,801,501,672,634,450,646,595,1697,845,947,1756,852,1855,1118,1965,1868,1436,1170,1455,1650,1722,1968,1236,1423,1307,1598,2287,1481,1124,1969,1328,999,918,1733,1116,1386,944,1489,1209,946,1693,1284,2113,1793,2027,1523,1427,1811,1349,957,1203,1101,772,1098,1141,1400,1572,832,1137,873,586,1240,1536,2063,854,973,550,278,947,780,1013,503,401,195,358,268,397,466,182,175,65,279,378,699,460,156,304,423,395,1130,1073,725,744,905,1048,859,766,545,612,801,519,553,587,833,843,899,493,521,448,712,613,496,1174,777,437,699,734,674,792,671,727,937,538,211,239,668,811,478,1049,1245,1129,924,1451,1447,865,1502,670,936,859,1001,1558,822,1036,1865,986,1443,1274,1301,1747,1602,1100,1178,1794,990,1803,1062,1153,1140,777,1184,1477,2014,1270,1469,1577,1427,1532,1577,1329,1499,1428,1432,1544,2062,1772,1632,2408,2087,1676,781,1511,1262,2030,1131,1405,1251,1252,756,983,1601,1114,1466,1204,1127,1110,1337,1181,654,776,539,485,467,526,482,218,509,259,226,169,359,796,295,339,551,798,1339,1191,1436,1594,1634,1249,717,1238,1350,1260,1003,1199,782,777,1425,1742,1906,1190,1175,969,1066,1352,1470,1300,604,1217,1095,707,1549,2229,1231,1018,968,891,777,1180,982,1349,640,1188,620,410,1336,960,1557,1256,1284,941,517,739,827,1525,772,613,884,592,711,1288,932,686,441,840,562,596,874,838,477,615,868,503,701,820,762,455,446,357,289,483,631,580,486,531,807,227,555,732,552,520,306,466,209,706,487,370,161,237,221,222,394,347,610,372,507,427,617,671,641,485,287,245,492,447,301,488,596,372,647,344,321,622,430,274,244,156,63,594,425,672,692,823,537,963,963,959,900,1149,1284,1099,752,484,1448,943,992,1209,1097,1047,517,666,1120,841,673,878,289,484,552,664,582,724,503,494,655,150,632,550,1411,538,578,754,497,594,799,1040,650,689,1341,1238,1800,2112,982,1472,941,1588,1374,1964,1845,1841,905,1333,1685,1327,2042,1172,1525,1854,1039,1433,1546,1453,1483,1818,568,541,1120,1452,960,725,1124,795,568,1053,866,1197,448,681,481,541,573,1349,1548,747,1060,290,621,285,545,475,253,264,102,307,184,291,231,242,276,208,233,994,567,330,251,537,1411,1262,1142],\"type\":\"scatter\"}],                        {\"template\":{\"data\":{\"bar\":[{\"error_x\":{\"color\":\"#2a3f5f\"},\"error_y\":{\"color\":\"#2a3f5f\"},\"marker\":{\"line\":{\"color\":\"#E5ECF6\",\"width\":0.5},\"pattern\":{\"fillmode\":\"overlay\",\"size\":10,\"solidity\":0.2}},\"type\":\"bar\"}],\"barpolar\":[{\"marker\":{\"line\":{\"color\":\"#E5ECF6\",\"width\":0.5},\"pattern\":{\"fillmode\":\"overlay\",\"size\":10,\"solidity\":0.2}},\"type\":\"barpolar\"}],\"carpet\":[{\"aaxis\":{\"endlinecolor\":\"#2a3f5f\",\"gridcolor\":\"white\",\"linecolor\":\"white\",\"minorgridcolor\":\"white\",\"startlinecolor\":\"#2a3f5f\"},\"baxis\":{\"endlinecolor\":\"#2a3f5f\",\"gridcolor\":\"white\",\"linecolor\":\"white\",\"minorgridcolor\":\"white\",\"startlinecolor\":\"#2a3f5f\"},\"type\":\"carpet\"}],\"choropleth\":[{\"colorbar\":{\"outlinewidth\":0,\"ticks\":\"\"},\"type\":\"choropleth\"}],\"contour\":[{\"colorbar\":{\"outlinewidth\":0,\"ticks\":\"\"},\"colorscale\":[[0.0,\"#0d0887\"],[0.1111111111111111,\"#46039f\"],[0.2222222222222222,\"#7201a8\"],[0.3333333333333333,\"#9c179e\"],[0.4444444444444444,\"#bd3786\"],[0.5555555555555556,\"#d8576b\"],[0.6666666666666666,\"#ed7953\"],[0.7777777777777778,\"#fb9f3a\"],[0.8888888888888888,\"#fdca26\"],[1.0,\"#f0f921\"]],\"type\":\"contour\"}],\"contourcarpet\":[{\"colorbar\":{\"outlinewidth\":0,\"ticks\":\"\"},\"type\":\"contourcarpet\"}],\"heatmap\":[{\"colorbar\":{\"outlinewidth\":0,\"ticks\":\"\"},\"colorscale\":[[0.0,\"#0d0887\"],[0.1111111111111111,\"#46039f\"],[0.2222222222222222,\"#7201a8\"],[0.3333333333333333,\"#9c179e\"],[0.4444444444444444,\"#bd3786\"],[0.5555555555555556,\"#d8576b\"],[0.6666666666666666,\"#ed7953\"],[0.7777777777777778,\"#fb9f3a\"],[0.8888888888888888,\"#fdca26\"],[1.0,\"#f0f921\"]],\"type\":\"heatmap\"}],\"heatmapgl\":[{\"colorbar\":{\"outlinewidth\":0,\"ticks\":\"\"},\"colorscale\":[[0.0,\"#0d0887\"],[0.1111111111111111,\"#46039f\"],[0.2222222222222222,\"#7201a8\"],[0.3333333333333333,\"#9c179e\"],[0.4444444444444444,\"#bd3786\"],[0.5555555555555556,\"#d8576b\"],[0.6666666666666666,\"#ed7953\"],[0.7777777777777778,\"#fb9f3a\"],[0.8888888888888888,\"#fdca26\"],[1.0,\"#f0f921\"]],\"type\":\"heatmapgl\"}],\"histogram\":[{\"marker\":{\"pattern\":{\"fillmode\":\"overlay\",\"size\":10,\"solidity\":0.2}},\"type\":\"histogram\"}],\"histogram2d\":[{\"colorbar\":{\"outlinewidth\":0,\"ticks\":\"\"},\"colorscale\":[[0.0,\"#0d0887\"],[0.1111111111111111,\"#46039f\"],[0.2222222222222222,\"#7201a8\"],[0.3333333333333333,\"#9c179e\"],[0.4444444444444444,\"#bd3786\"],[0.5555555555555556,\"#d8576b\"],[0.6666666666666666,\"#ed7953\"],[0.7777777777777778,\"#fb9f3a\"],[0.8888888888888888,\"#fdca26\"],[1.0,\"#f0f921\"]],\"type\":\"histogram2d\"}],\"histogram2dcontour\":[{\"colorbar\":{\"outlinewidth\":0,\"ticks\":\"\"},\"colorscale\":[[0.0,\"#0d0887\"],[0.1111111111111111,\"#46039f\"],[0.2222222222222222,\"#7201a8\"],[0.3333333333333333,\"#9c179e\"],[0.4444444444444444,\"#bd3786\"],[0.5555555555555556,\"#d8576b\"],[0.6666666666666666,\"#ed7953\"],[0.7777777777777778,\"#fb9f3a\"],[0.8888888888888888,\"#fdca26\"],[1.0,\"#f0f921\"]],\"type\":\"histogram2dcontour\"}],\"mesh3d\":[{\"colorbar\":{\"outlinewidth\":0,\"ticks\":\"\"},\"type\":\"mesh3d\"}],\"parcoords\":[{\"line\":{\"colorbar\":{\"outlinewidth\":0,\"ticks\":\"\"}},\"type\":\"parcoords\"}],\"pie\":[{\"automargin\":true,\"type\":\"pie\"}],\"scatter\":[{\"marker\":{\"colorbar\":{\"outlinewidth\":0,\"ticks\":\"\"}},\"type\":\"scatter\"}],\"scatter3d\":[{\"line\":{\"colorbar\":{\"outlinewidth\":0,\"ticks\":\"\"}},\"marker\":{\"colorbar\":{\"outlinewidth\":0,\"ticks\":\"\"}},\"type\":\"scatter3d\"}],\"scattercarpet\":[{\"marker\":{\"colorbar\":{\"outlinewidth\":0,\"ticks\":\"\"}},\"type\":\"scattercarpet\"}],\"scattergeo\":[{\"marker\":{\"colorbar\":{\"outlinewidth\":0,\"ticks\":\"\"}},\"type\":\"scattergeo\"}],\"scattergl\":[{\"marker\":{\"colorbar\":{\"outlinewidth\":0,\"ticks\":\"\"}},\"type\":\"scattergl\"}],\"scattermapbox\":[{\"marker\":{\"colorbar\":{\"outlinewidth\":0,\"ticks\":\"\"}},\"type\":\"scattermapbox\"}],\"scatterpolar\":[{\"marker\":{\"colorbar\":{\"outlinewidth\":0,\"ticks\":\"\"}},\"type\":\"scatterpolar\"}],\"scatterpolargl\":[{\"marker\":{\"colorbar\":{\"outlinewidth\":0,\"ticks\":\"\"}},\"type\":\"scatterpolargl\"}],\"scatterternary\":[{\"marker\":{\"colorbar\":{\"outlinewidth\":0,\"ticks\":\"\"}},\"type\":\"scatterternary\"}],\"surface\":[{\"colorbar\":{\"outlinewidth\":0,\"ticks\":\"\"},\"colorscale\":[[0.0,\"#0d0887\"],[0.1111111111111111,\"#46039f\"],[0.2222222222222222,\"#7201a8\"],[0.3333333333333333,\"#9c179e\"],[0.4444444444444444,\"#bd3786\"],[0.5555555555555556,\"#d8576b\"],[0.6666666666666666,\"#ed7953\"],[0.7777777777777778,\"#fb9f3a\"],[0.8888888888888888,\"#fdca26\"],[1.0,\"#f0f921\"]],\"type\":\"surface\"}],\"table\":[{\"cells\":{\"fill\":{\"color\":\"#EBF0F8\"},\"line\":{\"color\":\"white\"}},\"header\":{\"fill\":{\"color\":\"#C8D4E3\"},\"line\":{\"color\":\"white\"}},\"type\":\"table\"}]},\"layout\":{\"annotationdefaults\":{\"arrowcolor\":\"#2a3f5f\",\"arrowhead\":0,\"arrowwidth\":1},\"autotypenumbers\":\"strict\",\"coloraxis\":{\"colorbar\":{\"outlinewidth\":0,\"ticks\":\"\"}},\"colorscale\":{\"diverging\":[[0,\"#8e0152\"],[0.1,\"#c51b7d\"],[0.2,\"#de77ae\"],[0.3,\"#f1b6da\"],[0.4,\"#fde0ef\"],[0.5,\"#f7f7f7\"],[0.6,\"#e6f5d0\"],[0.7,\"#b8e186\"],[0.8,\"#7fbc41\"],[0.9,\"#4d9221\"],[1,\"#276419\"]],\"sequential\":[[0.0,\"#0d0887\"],[0.1111111111111111,\"#46039f\"],[0.2222222222222222,\"#7201a8\"],[0.3333333333333333,\"#9c179e\"],[0.4444444444444444,\"#bd3786\"],[0.5555555555555556,\"#d8576b\"],[0.6666666666666666,\"#ed7953\"],[0.7777777777777778,\"#fb9f3a\"],[0.8888888888888888,\"#fdca26\"],[1.0,\"#f0f921\"]],\"sequentialminus\":[[0.0,\"#0d0887\"],[0.1111111111111111,\"#46039f\"],[0.2222222222222222,\"#7201a8\"],[0.3333333333333333,\"#9c179e\"],[0.4444444444444444,\"#bd3786\"],[0.5555555555555556,\"#d8576b\"],[0.6666666666666666,\"#ed7953\"],[0.7777777777777778,\"#fb9f3a\"],[0.8888888888888888,\"#fdca26\"],[1.0,\"#f0f921\"]]},\"colorway\":[\"#636efa\",\"#EF553B\",\"#00cc96\",\"#ab63fa\",\"#FFA15A\",\"#19d3f3\",\"#FF6692\",\"#B6E880\",\"#FF97FF\",\"#FECB52\"],\"font\":{\"color\":\"#2a3f5f\"},\"geo\":{\"bgcolor\":\"white\",\"lakecolor\":\"white\",\"landcolor\":\"#E5ECF6\",\"showlakes\":true,\"showland\":true,\"subunitcolor\":\"white\"},\"hoverlabel\":{\"align\":\"left\"},\"hovermode\":\"closest\",\"mapbox\":{\"style\":\"light\"},\"paper_bgcolor\":\"white\",\"plot_bgcolor\":\"#E5ECF6\",\"polar\":{\"angularaxis\":{\"gridcolor\":\"white\",\"linecolor\":\"white\",\"ticks\":\"\"},\"bgcolor\":\"#E5ECF6\",\"radialaxis\":{\"gridcolor\":\"white\",\"linecolor\":\"white\",\"ticks\":\"\"}},\"scene\":{\"xaxis\":{\"backgroundcolor\":\"#E5ECF6\",\"gridcolor\":\"white\",\"gridwidth\":2,\"linecolor\":\"white\",\"showbackground\":true,\"ticks\":\"\",\"zerolinecolor\":\"white\"},\"yaxis\":{\"backgroundcolor\":\"#E5ECF6\",\"gridcolor\":\"white\",\"gridwidth\":2,\"linecolor\":\"white\",\"showbackground\":true,\"ticks\":\"\",\"zerolinecolor\":\"white\"},\"zaxis\":{\"backgroundcolor\":\"#E5ECF6\",\"gridcolor\":\"white\",\"gridwidth\":2,\"linecolor\":\"white\",\"showbackground\":true,\"ticks\":\"\",\"zerolinecolor\":\"white\"}},\"shapedefaults\":{\"line\":{\"color\":\"#2a3f5f\"}},\"ternary\":{\"aaxis\":{\"gridcolor\":\"white\",\"linecolor\":\"white\",\"ticks\":\"\"},\"baxis\":{\"gridcolor\":\"white\",\"linecolor\":\"white\",\"ticks\":\"\"},\"bgcolor\":\"#E5ECF6\",\"caxis\":{\"gridcolor\":\"white\",\"linecolor\":\"white\",\"ticks\":\"\"}},\"title\":{\"x\":0.05},\"xaxis\":{\"automargin\":true,\"gridcolor\":\"white\",\"linecolor\":\"white\",\"ticks\":\"\",\"title\":{\"standoff\":15},\"zerolinecolor\":\"white\",\"zerolinewidth\":2},\"yaxis\":{\"automargin\":true,\"gridcolor\":\"white\",\"linecolor\":\"white\",\"ticks\":\"\",\"title\":{\"standoff\":15},\"zerolinecolor\":\"white\",\"zerolinewidth\":2}}},\"font\":{\"family\":\"Courier New, monospace\",\"size\":16,\"color\":\"RebeccaPurple\"},\"title\":{\"text\":\"Israeli and Tourist Visitors in Banias site\"},\"xaxis\":{\"title\":{\"text\":\"Date\"}},\"yaxis\":{\"title\":{\"text\":\"Visitors\"}}},                        {\"responsive\": true}                    ).then(function(){\n",
              "                            \n",
              "var gd = document.getElementById('702187fd-583c-4935-ab4e-095ee3e82fe9');\n",
              "var x = new MutationObserver(function (mutations, observer) {{\n",
              "        var display = window.getComputedStyle(gd).display;\n",
              "        if (!display || display === 'none') {{\n",
              "            console.log([gd, 'removed!']);\n",
              "            Plotly.purge(gd);\n",
              "            observer.disconnect();\n",
              "        }}\n",
              "}});\n",
              "\n",
              "// Listen for the removal of the full notebook cells\n",
              "var notebookContainer = gd.closest('#notebook-container');\n",
              "if (notebookContainer) {{\n",
              "    x.observe(notebookContainer, {childList: true});\n",
              "}}\n",
              "\n",
              "// Listen for the clearing of the current output cell\n",
              "var outputEl = gd.closest('.output');\n",
              "if (outputEl) {{\n",
              "    x.observe(outputEl, {childList: true});\n",
              "}}\n",
              "\n",
              "                        })                };                            </script>        </div>\n",
              "</body>\n",
              "</html>"
            ]
          },
          "metadata": {}
        }
      ]
    },
    {
      "cell_type": "code",
      "source": [
        "fig1 = go.Figure(data=go.Scatter(x=Megido_df.Date, y=Megido_df.Israeli_Visitors, mode='markers+lines'))\n",
        "fig1.add_trace(go.Scatter(x=Megido_df.Date, y=Megido_df.Israeli_Visitors,\n",
        "                    mode='lines',\n",
        "                    name='Israeli Visitors'))\n",
        "\n",
        "fig1.add_trace(go.Scatter(x=Megido_df.Date, y=Megido_df.Tourist_Visitors,\n",
        "                    mode='markers',\n",
        "                    marker_line_width=1,\n",
        "                    marker_size=6,\n",
        "                    name='Tourist Visitors'))\n",
        "\n",
        "fig1.update_layout(\n",
        "    title=\"Israeli and Tourist Visitors in Megido site\",\n",
        "    xaxis_title=\"Date\",\n",
        "    yaxis_title=\"Visitors\",\n",
        "    font=dict(\n",
        "        family=\"Courier New, monospace\",\n",
        "        size=16,\n",
        "        color=\"RebeccaPurple\"\n",
        "    )\n",
        ")\n",
        "\n",
        "fig1.show()"
      ],
      "metadata": {
        "id": "rQNFjIG1Ddso",
        "colab": {
          "base_uri": "https://localhost:8080/",
          "height": 0
        },
        "outputId": "f4ecdc3f-bd77-4710-b3c0-e0c00341ef5f"
      },
      "execution_count": 218,
      "outputs": [
        {
          "output_type": "display_data",
          "data": {
            "text/html": [
              "<html>\n",
              "<head><meta charset=\"utf-8\" /></head>\n",
              "<body>\n",
              "    <div>            <script src=\"https://cdnjs.cloudflare.com/ajax/libs/mathjax/2.7.5/MathJax.js?config=TeX-AMS-MML_SVG\"></script><script type=\"text/javascript\">if (window.MathJax) {MathJax.Hub.Config({SVG: {font: \"STIX-Web\"}});}</script>                <script type=\"text/javascript\">window.PlotlyConfig = {MathJaxConfig: 'local'};</script>\n",
              "        <script src=\"https://cdn.plot.ly/plotly-2.8.3.min.js\"></script>                <div id=\"6452958a-5b55-4d4b-90ef-07208c91fe51\" class=\"plotly-graph-div\" style=\"height:525px; width:100%;\"></div>            <script type=\"text/javascript\">                                    window.PLOTLYENV=window.PLOTLYENV || {};                                    if (document.getElementById(\"6452958a-5b55-4d4b-90ef-07208c91fe51\")) {                    Plotly.newPlot(                        \"6452958a-5b55-4d4b-90ef-07208c91fe51\",                        [{\"mode\":\"markers+lines\",\"x\":[\"1/1/2017\",\"1/2/2017\",\"1/3/2017\",\"1/4/2017\",\"1/5/2017\",\"1/6/2017\",\"1/7/2017\",\"1/8/2017\",\"1/9/2017\",\"1/10/2017\",\"1/11/2017\",\"1/12/2017\",\"1/13/2017\",\"1/14/2017\",\"1/15/2017\",\"1/16/2017\",\"1/17/2017\",\"1/18/2017\",\"1/19/2017\",\"1/20/2017\",\"1/21/2017\",\"1/22/2017\",\"1/23/2017\",\"1/24/2017\",\"1/25/2017\",\"1/26/2017\",\"1/27/2017\",\"1/28/2017\",\"1/29/2017\",\"1/30/2017\",\"1/31/2017\",\"2/1/2017\",\"2/2/2017\",\"2/3/2017\",\"2/4/2017\",\"2/5/2017\",\"2/6/2017\",\"2/7/2017\",\"2/8/2017\",\"2/9/2017\",\"2/10/2017\",\"2/11/2017\",\"2/12/2017\",\"2/13/2017\",\"2/14/2017\",\"2/15/2017\",\"2/16/2017\",\"2/17/2017\",\"2/18/2017\",\"2/19/2017\",\"2/20/2017\",\"2/21/2017\",\"2/22/2017\",\"2/23/2017\",\"2/24/2017\",\"2/25/2017\",\"2/26/2017\",\"2/27/2017\",\"2/28/2017\",\"3/1/2017\",\"3/2/2017\",\"3/3/2017\",\"3/4/2017\",\"3/5/2017\",\"3/6/2017\",\"3/7/2017\",\"3/8/2017\",\"3/9/2017\",\"3/10/2017\",\"3/11/2017\",\"3/12/2017\",\"3/13/2017\",\"3/14/2017\",\"3/15/2017\",\"3/16/2017\",\"3/17/2017\",\"3/18/2017\",\"3/19/2017\",\"3/20/2017\",\"3/21/2017\",\"3/22/2017\",\"3/23/2017\",\"3/24/2017\",\"3/25/2017\",\"3/26/2017\",\"3/27/2017\",\"3/28/2017\",\"3/29/2017\",\"3/30/2017\",\"3/31/2017\",\"4/1/2017\",\"4/2/2017\",\"4/3/2017\",\"4/4/2017\",\"4/5/2017\",\"4/6/2017\",\"4/7/2017\",\"4/8/2017\",\"4/9/2017\",\"4/10/2017\",\"4/11/2017\",\"4/12/2017\",\"4/13/2017\",\"4/14/2017\",\"4/15/2017\",\"4/16/2017\",\"4/17/2017\",\"4/18/2017\",\"4/19/2017\",\"4/20/2017\",\"4/21/2017\",\"4/22/2017\",\"4/23/2017\",\"4/24/2017\",\"4/25/2017\",\"4/26/2017\",\"4/27/2017\",\"4/28/2017\",\"4/29/2017\",\"4/30/2017\",\"5/1/2017\",\"5/2/2017\",\"5/3/2017\",\"5/4/2017\",\"5/5/2017\",\"5/6/2017\",\"5/7/2017\",\"5/8/2017\",\"5/9/2017\",\"5/10/2017\",\"5/11/2017\",\"5/12/2017\",\"5/13/2017\",\"5/14/2017\",\"5/15/2017\",\"5/16/2017\",\"5/17/2017\",\"5/18/2017\",\"5/19/2017\",\"5/20/2017\",\"5/21/2017\",\"5/22/2017\",\"5/23/2017\",\"5/24/2017\",\"5/25/2017\",\"5/26/2017\",\"5/27/2017\",\"5/28/2017\",\"5/29/2017\",\"5/30/2017\",\"5/31/2017\",\"6/1/2017\",\"6/2/2017\",\"6/3/2017\",\"6/4/2017\",\"6/5/2017\",\"6/6/2017\",\"6/7/2017\",\"6/8/2017\",\"6/9/2017\",\"6/10/2017\",\"6/11/2017\",\"6/12/2017\",\"6/13/2017\",\"6/14/2017\",\"6/15/2017\",\"6/16/2017\",\"6/17/2017\",\"6/18/2017\",\"6/19/2017\",\"6/20/2017\",\"6/21/2017\",\"6/22/2017\",\"6/23/2017\",\"6/24/2017\",\"6/25/2017\",\"6/27/2017\",\"6/28/2017\",\"6/29/2017\",\"6/30/2017\",\"7/1/2017\",\"7/2/2017\",\"7/3/2017\",\"7/4/2017\",\"7/5/2017\",\"7/6/2017\",\"7/7/2017\",\"7/8/2017\",\"7/9/2017\",\"7/10/2017\",\"7/11/2017\",\"7/12/2017\",\"7/13/2017\",\"7/14/2017\",\"7/15/2017\",\"7/16/2017\",\"7/17/2017\",\"7/18/2017\",\"7/19/2017\",\"7/20/2017\",\"7/21/2017\",\"7/22/2017\",\"7/23/2017\",\"7/24/2017\",\"7/25/2017\",\"7/26/2017\",\"7/27/2017\",\"7/28/2017\",\"7/29/2017\",\"7/30/2017\",\"8/1/2017\",\"8/2/2017\",\"8/3/2017\",\"8/4/2017\",\"8/5/2017\",\"8/6/2017\",\"8/7/2017\",\"8/8/2017\",\"8/9/2017\",\"8/10/2017\",\"8/11/2017\",\"8/12/2017\",\"8/13/2017\",\"8/14/2017\",\"8/15/2017\",\"8/16/2017\",\"8/17/2017\",\"8/18/2017\",\"8/19/2017\",\"8/20/2017\",\"8/21/2017\",\"8/22/2017\",\"8/23/2017\",\"8/24/2017\",\"8/25/2017\",\"8/26/2017\",\"8/27/2017\",\"8/28/2017\",\"8/29/2017\",\"8/30/2017\",\"8/31/2017\",\"9/1/2017\",\"9/2/2017\",\"9/3/2017\",\"9/4/2017\",\"9/5/2017\",\"9/6/2017\",\"9/7/2017\",\"9/8/2017\",\"9/9/2017\",\"9/10/2017\",\"9/11/2017\",\"9/12/2017\",\"9/13/2017\",\"9/14/2017\",\"9/15/2017\",\"9/16/2017\",\"9/17/2017\",\"9/18/2017\",\"9/19/2017\",\"9/20/2017\",\"9/21/2017\",\"9/22/2017\",\"9/23/2017\",\"9/24/2017\",\"9/25/2017\",\"9/26/2017\",\"9/27/2017\",\"9/28/2017\",\"9/29/2017\",\"10/1/2017\",\"10/2/2017\",\"10/3/2017\",\"10/4/2017\",\"10/5/2017\",\"10/6/2017\",\"10/7/2017\",\"10/8/2017\",\"10/9/2017\",\"10/10/2017\",\"10/11/2017\",\"10/12/2017\",\"10/13/2017\",\"10/14/2017\",\"10/15/2017\",\"10/16/2017\",\"10/17/2017\",\"10/18/2017\",\"10/19/2017\",\"10/20/2017\",\"10/21/2017\",\"10/22/2017\",\"10/23/2017\",\"10/24/2017\",\"10/25/2017\",\"10/26/2017\",\"10/27/2017\",\"10/28/2017\",\"10/29/2017\",\"10/30/2017\",\"10/31/2017\",\"11/1/2017\",\"11/2/2017\",\"11/3/2017\",\"11/4/2017\",\"11/5/2017\",\"11/6/2017\",\"11/7/2017\",\"11/8/2017\",\"11/9/2017\",\"11/10/2017\",\"11/11/2017\",\"11/12/2017\",\"11/13/2017\",\"11/14/2017\",\"11/15/2017\",\"11/16/2017\",\"11/17/2017\",\"11/18/2017\",\"11/19/2017\",\"11/20/2017\",\"11/21/2017\",\"11/22/2017\",\"11/23/2017\",\"11/24/2017\",\"11/25/2017\",\"11/26/2017\",\"11/27/2017\",\"11/28/2017\",\"11/29/2017\",\"11/30/2017\",\"12/1/2017\",\"12/2/2017\",\"12/3/2017\",\"12/4/2017\",\"12/5/2017\",\"12/6/2017\",\"12/7/2017\",\"12/8/2017\",\"12/9/2017\",\"12/10/2017\",\"12/11/2017\",\"12/12/2017\",\"12/13/2017\",\"12/14/2017\",\"12/15/2017\",\"12/16/2017\",\"12/17/2017\",\"12/18/2017\",\"12/19/2017\",\"12/20/2017\",\"12/21/2017\",\"12/22/2017\",\"12/23/2017\",\"12/24/2017\",\"12/25/2017\",\"12/26/2017\",\"12/27/2017\",\"12/28/2017\",\"12/29/2017\",\"12/30/2017\",\"12/31/2017\",\"1/1/2018\",\"1/2/2018\",\"1/3/2018\",\"1/5/2018\",\"1/6/2018\",\"1/7/2018\",\"1/8/2018\",\"1/9/2018\",\"1/10/2018\",\"1/11/2018\",\"1/12/2018\",\"1/13/2018\",\"1/14/2018\",\"1/15/2018\",\"1/16/2018\",\"1/17/2018\",\"1/18/2018\",\"1/19/2018\",\"1/20/2018\",\"1/21/2018\",\"1/22/2018\",\"1/23/2018\",\"1/24/2018\",\"1/25/2018\",\"1/26/2018\",\"1/27/2018\",\"1/28/2018\",\"1/29/2018\",\"1/30/2018\",\"1/31/2018\",\"2/1/2018\",\"2/2/2018\",\"2/3/2018\",\"2/4/2018\",\"2/5/2018\",\"2/6/2018\",\"2/7/2018\",\"2/8/2018\",\"2/9/2018\",\"2/10/2018\",\"2/11/2018\",\"2/12/2018\",\"2/13/2018\",\"2/14/2018\",\"2/15/2018\",\"2/16/2018\",\"2/17/2018\",\"2/18/2018\",\"2/19/2018\",\"2/20/2018\",\"2/21/2018\",\"2/22/2018\",\"2/23/2018\",\"2/24/2018\",\"2/25/2018\",\"2/26/2018\",\"2/27/2018\",\"2/28/2018\",\"3/1/2018\",\"3/2/2018\",\"3/3/2018\",\"3/4/2018\",\"3/5/2018\",\"3/6/2018\",\"3/7/2018\",\"3/8/2018\",\"3/9/2018\",\"3/10/2018\",\"3/11/2018\",\"3/12/2018\",\"3/13/2018\",\"3/14/2018\",\"3/15/2018\",\"3/16/2018\",\"3/17/2018\",\"3/18/2018\",\"3/19/2018\",\"3/20/2018\",\"3/21/2018\",\"3/22/2018\",\"3/23/2018\",\"3/24/2018\",\"3/25/2018\",\"3/26/2018\",\"3/27/2018\",\"3/28/2018\",\"3/29/2018\",\"3/30/2018\",\"3/31/2018\",\"4/1/2018\",\"4/2/2018\",\"4/3/2018\",\"4/4/2018\",\"4/5/2018\",\"4/6/2018\",\"4/7/2018\",\"4/8/2018\",\"4/9/2018\",\"4/10/2018\",\"4/11/2018\",\"4/12/2018\",\"4/13/2018\",\"4/14/2018\",\"4/15/2018\",\"4/16/2018\",\"4/17/2018\",\"4/18/2018\",\"4/19/2018\",\"4/20/2018\",\"4/21/2018\",\"4/22/2018\",\"4/23/2018\",\"4/24/2018\",\"4/25/2018\",\"4/26/2018\",\"4/27/2018\",\"4/28/2018\",\"4/29/2018\",\"4/30/2018\",\"5/1/2018\",\"5/2/2018\",\"5/3/2018\",\"5/4/2018\",\"5/5/2018\",\"5/6/2018\",\"5/7/2018\",\"5/8/2018\",\"5/10/2018\",\"5/11/2018\",\"5/12/2018\",\"5/13/2018\",\"5/14/2018\",\"5/15/2018\",\"5/16/2018\",\"5/17/2018\",\"5/18/2018\",\"5/19/2018\",\"5/20/2018\",\"5/21/2018\",\"5/22/2018\",\"5/23/2018\",\"5/24/2018\",\"5/25/2018\",\"5/26/2018\",\"5/27/2018\",\"5/28/2018\",\"5/29/2018\",\"5/30/2018\",\"5/31/2018\",\"6/1/2018\",\"6/2/2018\",\"6/3/2018\",\"6/4/2018\",\"6/5/2018\",\"6/6/2018\",\"6/7/2018\",\"6/8/2018\",\"6/9/2018\",\"6/10/2018\",\"6/11/2018\",\"6/12/2018\",\"6/13/2018\",\"6/14/2018\",\"6/15/2018\",\"6/16/2018\",\"6/17/2018\",\"6/18/2018\",\"6/19/2018\",\"6/20/2018\",\"6/21/2018\",\"6/22/2018\",\"6/23/2018\",\"6/24/2018\",\"6/25/2018\",\"6/26/2018\",\"6/27/2018\",\"6/28/2018\",\"6/29/2018\",\"6/30/2018\",\"7/1/2018\",\"7/2/2018\",\"7/3/2018\",\"7/4/2018\",\"7/5/2018\",\"7/6/2018\",\"7/7/2018\",\"7/8/2018\",\"7/9/2018\",\"7/10/2018\",\"7/11/2018\",\"7/12/2018\",\"7/13/2018\",\"7/14/2018\",\"7/15/2018\",\"7/16/2018\",\"7/17/2018\",\"7/18/2018\",\"7/19/2018\",\"7/20/2018\",\"7/21/2018\",\"7/22/2018\",\"7/23/2018\",\"7/24/2018\",\"7/25/2018\",\"7/26/2018\",\"7/27/2018\",\"7/28/2018\",\"7/29/2018\",\"7/30/2018\",\"7/31/2018\",\"8/1/2018\",\"8/2/2018\",\"8/3/2018\",\"8/4/2018\",\"8/5/2018\",\"8/6/2018\",\"8/7/2018\",\"8/8/2018\",\"8/9/2018\",\"8/10/2018\",\"8/11/2018\",\"8/12/2018\",\"8/13/2018\",\"8/14/2018\",\"8/15/2018\",\"8/16/2018\",\"8/17/2018\",\"8/18/2018\",\"8/19/2018\",\"8/20/2018\",\"8/21/2018\",\"8/22/2018\",\"8/23/2018\",\"8/24/2018\",\"8/25/2018\",\"8/26/2018\",\"8/27/2018\",\"8/28/2018\",\"8/29/2018\",\"8/30/2018\",\"8/31/2018\",\"9/1/2018\",\"9/2/2018\",\"9/3/2018\",\"9/4/2018\",\"9/5/2018\",\"9/6/2018\",\"9/7/2018\",\"9/8/2018\",\"9/9/2018\",\"9/10/2018\",\"9/11/2018\",\"9/12/2018\",\"9/13/2018\",\"9/14/2018\",\"9/15/2018\",\"9/16/2018\",\"9/17/2018\",\"9/18/2018\",\"9/20/2018\",\"9/21/2018\",\"9/22/2018\",\"9/23/2018\",\"9/24/2018\",\"9/25/2018\",\"9/26/2018\",\"9/27/2018\",\"9/28/2018\",\"9/29/2018\",\"9/30/2018\",\"10/1/2018\",\"10/2/2018\",\"10/3/2018\",\"10/4/2018\",\"10/5/2018\",\"10/6/2018\",\"10/7/2018\",\"10/8/2018\",\"10/9/2018\",\"10/10/2018\",\"10/11/2018\",\"10/12/2018\",\"10/13/2018\",\"10/14/2018\",\"10/15/2018\",\"10/16/2018\",\"10/17/2018\",\"10/18/2018\",\"10/19/2018\",\"10/20/2018\",\"10/21/2018\",\"10/22/2018\",\"10/23/2018\",\"10/24/2018\",\"10/25/2018\",\"10/26/2018\",\"10/27/2018\",\"10/28/2018\",\"10/29/2018\",\"10/30/2018\",\"10/31/2018\",\"11/1/2018\",\"11/2/2018\",\"11/3/2018\",\"11/4/2018\",\"11/5/2018\",\"11/6/2018\",\"11/7/2018\",\"11/8/2018\",\"11/9/2018\",\"11/10/2018\",\"11/11/2018\",\"11/12/2018\",\"11/13/2018\",\"11/14/2018\",\"11/15/2018\",\"11/16/2018\",\"11/17/2018\",\"11/18/2018\",\"11/19/2018\",\"11/20/2018\",\"11/21/2018\",\"11/22/2018\",\"11/23/2018\",\"11/24/2018\",\"11/25/2018\",\"11/26/2018\",\"11/27/2018\",\"11/28/2018\",\"11/29/2018\",\"11/30/2018\",\"12/1/2018\",\"12/2/2018\",\"12/3/2018\",\"12/4/2018\",\"12/5/2018\",\"12/6/2018\",\"12/7/2018\",\"12/8/2018\",\"12/9/2018\",\"12/10/2018\",\"12/11/2018\",\"12/12/2018\",\"12/13/2018\",\"12/14/2018\",\"12/15/2018\",\"12/16/2018\",\"12/17/2018\",\"12/18/2018\",\"12/19/2018\",\"12/20/2018\",\"12/21/2018\",\"12/22/2018\",\"12/23/2018\",\"12/24/2018\",\"12/25/2018\",\"12/26/2018\",\"12/27/2018\",\"12/28/2018\",\"12/29/2018\",\"12/30/2018\",\"12/31/2018\",\"1/1/2019\",\"1/2/2019\",\"1/3/2019\",\"1/4/2019\",\"1/5/2019\",\"1/7/2019\",\"1/8/2019\",\"1/9/2019\",\"1/10/2019\",\"1/11/2019\",\"1/12/2019\",\"1/13/2019\",\"1/15/2019\",\"1/16/2019\",\"1/17/2019\",\"1/18/2019\",\"1/19/2019\",\"1/20/2019\",\"1/21/2019\",\"1/22/2019\",\"1/23/2019\",\"1/24/2019\",\"1/25/2019\",\"1/26/2019\",\"1/27/2019\",\"1/28/2019\",\"1/29/2019\",\"1/30/2019\",\"1/31/2019\",\"2/1/2019\",\"2/2/2019\",\"2/3/2019\",\"2/4/2019\",\"2/5/2019\",\"2/6/2019\",\"2/7/2019\",\"2/8/2019\",\"2/9/2019\",\"2/10/2019\",\"2/11/2019\",\"2/12/2019\",\"2/13/2019\",\"2/14/2019\",\"2/15/2019\",\"2/16/2019\",\"2/17/2019\",\"2/18/2019\",\"2/19/2019\",\"2/20/2019\",\"2/21/2019\",\"2/22/2019\",\"2/23/2019\",\"2/24/2019\",\"2/25/2019\",\"2/26/2019\",\"2/27/2019\",\"2/28/2019\",\"3/1/2019\",\"3/2/2019\",\"3/3/2019\",\"3/4/2019\",\"3/5/2019\",\"3/6/2019\",\"3/7/2019\",\"3/8/2019\",\"3/9/2019\",\"3/10/2019\",\"3/11/2019\",\"3/12/2019\",\"3/13/2019\",\"3/14/2019\",\"3/15/2019\",\"3/16/2019\",\"3/17/2019\",\"3/18/2019\",\"3/19/2019\",\"3/20/2019\",\"3/21/2019\",\"3/22/2019\",\"3/23/2019\",\"3/24/2019\",\"3/25/2019\",\"3/26/2019\",\"3/27/2019\",\"3/28/2019\",\"3/29/2019\",\"3/30/2019\",\"3/31/2019\",\"4/1/2019\",\"4/2/2019\",\"4/3/2019\",\"4/4/2019\",\"4/5/2019\",\"4/6/2019\",\"4/7/2019\",\"4/8/2019\",\"4/9/2019\",\"4/10/2019\",\"4/11/2019\",\"4/12/2019\",\"4/13/2019\",\"4/14/2019\",\"4/15/2019\",\"4/16/2019\",\"4/17/2019\",\"4/18/2019\",\"4/19/2019\",\"4/20/2019\",\"4/21/2019\",\"4/22/2019\",\"4/23/2019\",\"4/24/2019\",\"4/25/2019\",\"4/26/2019\",\"4/27/2019\",\"4/28/2019\",\"4/29/2019\",\"4/30/2019\",\"5/1/2019\",\"5/2/2019\",\"5/3/2019\",\"5/4/2019\",\"5/5/2019\",\"5/6/2019\",\"5/7/2019\",\"5/8/2019\",\"5/9/2019\",\"5/10/2019\",\"5/11/2019\",\"5/12/2019\",\"5/13/2019\",\"5/14/2019\",\"5/15/2019\",\"5/16/2019\",\"5/17/2019\",\"5/18/2019\",\"5/19/2019\",\"5/20/2019\",\"5/21/2019\",\"5/22/2019\",\"5/23/2019\",\"5/24/2019\",\"5/25/2019\",\"5/26/2019\",\"5/27/2019\",\"5/28/2019\",\"5/29/2019\",\"5/30/2019\",\"5/31/2019\",\"6/1/2019\",\"6/2/2019\",\"6/3/2019\",\"6/4/2019\",\"6/5/2019\",\"6/6/2019\",\"6/7/2019\",\"6/8/2019\",\"6/9/2019\",\"6/10/2019\",\"6/11/2019\",\"6/12/2019\",\"6/13/2019\",\"6/14/2019\",\"6/15/2019\",\"6/16/2019\",\"6/17/2019\",\"6/18/2019\",\"6/19/2019\",\"6/20/2019\",\"6/21/2019\",\"6/22/2019\",\"6/23/2019\",\"6/24/2019\",\"6/25/2019\",\"6/26/2019\",\"6/27/2019\",\"6/28/2019\",\"6/29/2019\",\"6/30/2019\",\"7/1/2019\",\"7/2/2019\",\"7/3/2019\",\"7/4/2019\",\"7/5/2019\",\"7/6/2019\",\"7/7/2019\",\"7/8/2019\",\"7/9/2019\",\"7/10/2019\",\"7/11/2019\",\"7/12/2019\",\"7/13/2019\",\"7/14/2019\",\"7/15/2019\",\"7/16/2019\",\"7/17/2019\",\"7/18/2019\",\"7/19/2019\",\"7/20/2019\",\"7/21/2019\",\"7/22/2019\",\"7/23/2019\",\"7/24/2019\",\"7/25/2019\",\"7/26/2019\",\"7/27/2019\",\"7/28/2019\",\"7/29/2019\",\"7/30/2019\",\"7/31/2019\",\"8/1/2019\",\"8/2/2019\",\"8/3/2019\",\"8/4/2019\",\"8/5/2019\",\"8/6/2019\",\"8/7/2019\",\"8/8/2019\",\"8/9/2019\",\"8/10/2019\",\"8/11/2019\",\"8/12/2019\",\"8/13/2019\",\"8/14/2019\",\"8/16/2019\",\"8/17/2019\",\"8/18/2019\",\"8/19/2019\",\"8/20/2019\",\"8/21/2019\",\"8/22/2019\",\"8/23/2019\",\"8/24/2019\",\"8/25/2019\",\"8/26/2019\",\"8/27/2019\",\"8/28/2019\",\"8/29/2019\",\"8/30/2019\",\"8/31/2019\",\"9/1/2019\",\"9/2/2019\",\"9/3/2019\",\"9/4/2019\",\"9/5/2019\",\"9/6/2019\",\"9/7/2019\",\"9/8/2019\",\"9/9/2019\",\"9/10/2019\",\"9/11/2019\",\"9/12/2019\",\"9/13/2019\",\"9/14/2019\",\"9/15/2019\",\"9/16/2019\",\"9/17/2019\",\"9/18/2019\",\"9/19/2019\",\"9/20/2019\",\"9/21/2019\",\"9/22/2019\",\"9/23/2019\",\"9/24/2019\",\"9/25/2019\",\"9/26/2019\",\"9/27/2019\",\"9/28/2019\",\"9/29/2019\",\"9/30/2019\",\"10/1/2019\",\"10/2/2019\",\"10/3/2019\",\"10/4/2019\",\"10/5/2019\",\"10/6/2019\",\"10/7/2019\",\"10/8/2019\",\"10/10/2019\",\"10/11/2019\",\"10/12/2019\",\"10/13/2019\",\"10/14/2019\",\"10/15/2019\",\"10/16/2019\",\"10/17/2019\",\"10/18/2019\",\"10/19/2019\",\"10/20/2019\",\"10/21/2019\",\"10/22/2019\",\"10/23/2019\",\"10/24/2019\",\"10/25/2019\",\"10/26/2019\",\"10/27/2019\",\"10/28/2019\",\"10/29/2019\",\"10/30/2019\",\"10/31/2019\",\"11/1/2019\",\"11/2/2019\",\"11/3/2019\",\"11/4/2019\",\"11/5/2019\",\"11/6/2019\",\"11/7/2019\",\"11/8/2019\",\"11/9/2019\",\"11/10/2019\",\"11/11/2019\",\"11/12/2019\",\"11/13/2019\",\"11/14/2019\",\"11/15/2019\",\"11/16/2019\",\"11/17/2019\",\"11/18/2019\",\"11/19/2019\",\"11/20/2019\",\"11/21/2019\",\"11/22/2019\",\"11/23/2019\",\"11/24/2019\",\"11/25/2019\",\"11/26/2019\",\"11/27/2019\",\"11/28/2019\",\"11/29/2019\",\"11/30/2019\",\"12/1/2019\",\"12/2/2019\",\"12/3/2019\",\"12/4/2019\",\"12/5/2019\",\"12/6/2019\",\"12/7/2019\",\"12/8/2019\",\"12/9/2019\",\"12/10/2019\",\"12/11/2019\",\"12/12/2019\",\"12/13/2019\",\"12/14/2019\",\"12/15/2019\",\"12/16/2019\",\"12/17/2019\",\"12/18/2019\",\"12/19/2019\",\"12/20/2019\",\"12/21/2019\",\"12/22/2019\",\"12/23/2019\",\"12/24/2019\",\"12/25/2019\",\"12/27/2019\",\"12/28/2019\",\"12/29/2019\",\"12/30/2019\",\"12/31/2019\"],\"y\":[70,32,35,34,65,148,286,53,16,35,101,81,102,147,40,24,10,60,137,79,233,26,89,45,97,77,20,50,48,34,10,36,20,78,382,168,143,37,132,71,85,347,13,179,165,35,24,62,555,173,172,126,206,148,112,653,59,57,50,50,27,49,428,60,65,163,73,14,86,380,109,107,167,43,83,82,400,81,70,82,63,52,87,563,93,21,46,60,50,134,255,155,133,57,77,21,156,320,82,32,192,221,212,222,504,204,303,60,65,44,69,119,67,70,13,11,138,51,216,53,19,192,51,41,41,353,20,3,135,15,86,80,160,13,24,4,51,6,78,231,33,68,26,7,17,26,88,38,16,52,109,73,95,121,87,50,11,10,27,30,70,65,12,16,23,9,21,62,59,43,25,14,34,135,59,73,12,55,20,10,17,60,250,42,15,19,135,75,25,2,28,2,69,22,18,30,14,3,14,20,20,38,92,26,29,1,30,27,39,14,7,77,30,13,50,67,23,43,31,27,23,33,53,42,32,31,92,38,43,59,83,35,5,49,27,38,60,34,56,35,11,10,72,26,64,10,21,51,22,39,43,14,7,4,7,11,71,4,17,13,22,105,214,160,11,28,23,18,13,4,32,8,15,29,249,221,125,176,120,209,100,270,172,138,80,55,62,49,52,62,151,24,52,15,17,48,134,265,56,8,107,27,33,154,217,77,93,22,11,43,111,266,31,66,82,165,29,67,190,37,21,46,7,5,238,237,61,51,80,59,34,26,202,28,106,59,2,29,32,350,24,10,7,9,44,138,308,86,71,97,33,20,46,288,16,68,114,12,57,21,251,18,4,31,58,22,128,31,26,69,26,38,148,236,12,9,24,133,38,36,278,8,10,47,38,37,123,105,30,15,29,170,51,54,410,26,124,80,88,141,160,466,203,116,28,48,48,74,25,94,76,99,98,170,106,394,154,41,59,93,280,148,633,47,207,149,149,32,89,334,4,20,101,51,80,46,411,67,86,60,13,106,83,263,45,69,87,77,27,19,203,285,194,435,293,85,310,201,42,29,36,21,25,43,252,14,74,24,15,50,40,301,44,65,163,13,26,20,222,176,152,12,53,23,105,157,89,60,10,56,91,197,33,125,23,51,11,30,62,54,59,16,60,53,74,94,7,9,29,271,5,92,85,17,15,16,56,44,37,48,94,32,10,63,33,21,20,19,72,21,18,34,11,117,53,4,66,33,85,17,52,9,16,29,66,28,8,41,10,7,11,142,48,10,67,9,53,16,20,24,17,58,30,30,117,31,26,16,68,63,82,67,29,25,37,47,56,56,25,46,70,16,38,14,73,16,38,28,18,48,114,22,64,27,23,13,72,25,17,27,31,26,4,31,6,13,6,28,33,64,113,21,123,142,72,63,7,93,27,20,8,11,17,443,87,147,131,86,116,100,80,54,164,277,69,26,16,115,39,24,112,83,13,64,181,4,11,6,13,59,74,227,20,62,18,21,17,36,288,26,239,184,61,62,142,133,75,164,63,16,72,17,234,7,2,61,16,25,40,273,26,146,138,54,111,19,119,59,24,78,47,14,43,82,20,15,45,28,20,18,49,49,25,4,56,164,41,246,1,62,14,15,7,17,190,53,8,49,73,9,41,104,11,16,33,26,32,45,356,4,30,60,36,119,566,12,95,29,78,79,490,25,98,81,83,97,117,576,31,2,2,27,124,90,656,93,75,32,112,28,137,240,142,162,35,78,138,35,55,72,98,120,15,80,68,623,16,33,48,9,22,52,136,22,58,20,79,140,47,473,20,55,22,59,6,38,31,42,153,67,33,152,160,320,17,76,98,45,24,30,153,6,13,15,26,141,87,272,24,52,197,22,79,51,196,91,23,52,38,32,12,177,129,446,383,211,147,222,147,21,49,24,55,52,7,194,21,109,22,52,168,88,285,219,68,20,19,29,28,257,70,114,70,61,14,13,126,30,28,130,9,38,47,99,21,20,43,45,45,27,99,77,68,122,32,258,42,66,25,33,27,26,22,31,35,19,24,23,29,26,25,60,59,21,22,16,50,6,52,19,26,42,7,21,53,27,53,15,19,13,13,86,84,19,36,47,15,125,22,48,19,22,14,16,19,18,32,28,3,21,23,47,9,83,22,52,56,57,26,33,87,33,34,45,33,10,87,49,35,29,31,37,16,32,17,5,63,35,12,18,46,29,26,41,53,20,6,72,20,9,120,54,2,25,65,29,50,6,6,22,14,120,22,129,138,8,8,74,121,22,7,9,43,82,194,63,130,156,263,412,54,187,119,173,41,191,69,16,198,17,17,59,63,43,67,154,20,8,27,16,56,43,236,23,45,111,16,21,45,213,19,12,74,57,117,32,176,65,20,23,16,57,35,170,78,17,38,3,52,35,199,58,2,57,20,23,28,151,15,70,9,59,43,77,298,24,9,207,58,46,136,336,185,22],\"type\":\"scatter\"},{\"mode\":\"lines\",\"name\":\"Israeli Visitors\",\"x\":[\"1/1/2017\",\"1/2/2017\",\"1/3/2017\",\"1/4/2017\",\"1/5/2017\",\"1/6/2017\",\"1/7/2017\",\"1/8/2017\",\"1/9/2017\",\"1/10/2017\",\"1/11/2017\",\"1/12/2017\",\"1/13/2017\",\"1/14/2017\",\"1/15/2017\",\"1/16/2017\",\"1/17/2017\",\"1/18/2017\",\"1/19/2017\",\"1/20/2017\",\"1/21/2017\",\"1/22/2017\",\"1/23/2017\",\"1/24/2017\",\"1/25/2017\",\"1/26/2017\",\"1/27/2017\",\"1/28/2017\",\"1/29/2017\",\"1/30/2017\",\"1/31/2017\",\"2/1/2017\",\"2/2/2017\",\"2/3/2017\",\"2/4/2017\",\"2/5/2017\",\"2/6/2017\",\"2/7/2017\",\"2/8/2017\",\"2/9/2017\",\"2/10/2017\",\"2/11/2017\",\"2/12/2017\",\"2/13/2017\",\"2/14/2017\",\"2/15/2017\",\"2/16/2017\",\"2/17/2017\",\"2/18/2017\",\"2/19/2017\",\"2/20/2017\",\"2/21/2017\",\"2/22/2017\",\"2/23/2017\",\"2/24/2017\",\"2/25/2017\",\"2/26/2017\",\"2/27/2017\",\"2/28/2017\",\"3/1/2017\",\"3/2/2017\",\"3/3/2017\",\"3/4/2017\",\"3/5/2017\",\"3/6/2017\",\"3/7/2017\",\"3/8/2017\",\"3/9/2017\",\"3/10/2017\",\"3/11/2017\",\"3/12/2017\",\"3/13/2017\",\"3/14/2017\",\"3/15/2017\",\"3/16/2017\",\"3/17/2017\",\"3/18/2017\",\"3/19/2017\",\"3/20/2017\",\"3/21/2017\",\"3/22/2017\",\"3/23/2017\",\"3/24/2017\",\"3/25/2017\",\"3/26/2017\",\"3/27/2017\",\"3/28/2017\",\"3/29/2017\",\"3/30/2017\",\"3/31/2017\",\"4/1/2017\",\"4/2/2017\",\"4/3/2017\",\"4/4/2017\",\"4/5/2017\",\"4/6/2017\",\"4/7/2017\",\"4/8/2017\",\"4/9/2017\",\"4/10/2017\",\"4/11/2017\",\"4/12/2017\",\"4/13/2017\",\"4/14/2017\",\"4/15/2017\",\"4/16/2017\",\"4/17/2017\",\"4/18/2017\",\"4/19/2017\",\"4/20/2017\",\"4/21/2017\",\"4/22/2017\",\"4/23/2017\",\"4/24/2017\",\"4/25/2017\",\"4/26/2017\",\"4/27/2017\",\"4/28/2017\",\"4/29/2017\",\"4/30/2017\",\"5/1/2017\",\"5/2/2017\",\"5/3/2017\",\"5/4/2017\",\"5/5/2017\",\"5/6/2017\",\"5/7/2017\",\"5/8/2017\",\"5/9/2017\",\"5/10/2017\",\"5/11/2017\",\"5/12/2017\",\"5/13/2017\",\"5/14/2017\",\"5/15/2017\",\"5/16/2017\",\"5/17/2017\",\"5/18/2017\",\"5/19/2017\",\"5/20/2017\",\"5/21/2017\",\"5/22/2017\",\"5/23/2017\",\"5/24/2017\",\"5/25/2017\",\"5/26/2017\",\"5/27/2017\",\"5/28/2017\",\"5/29/2017\",\"5/30/2017\",\"5/31/2017\",\"6/1/2017\",\"6/2/2017\",\"6/3/2017\",\"6/4/2017\",\"6/5/2017\",\"6/6/2017\",\"6/7/2017\",\"6/8/2017\",\"6/9/2017\",\"6/10/2017\",\"6/11/2017\",\"6/12/2017\",\"6/13/2017\",\"6/14/2017\",\"6/15/2017\",\"6/16/2017\",\"6/17/2017\",\"6/18/2017\",\"6/19/2017\",\"6/20/2017\",\"6/21/2017\",\"6/22/2017\",\"6/23/2017\",\"6/24/2017\",\"6/25/2017\",\"6/27/2017\",\"6/28/2017\",\"6/29/2017\",\"6/30/2017\",\"7/1/2017\",\"7/2/2017\",\"7/3/2017\",\"7/4/2017\",\"7/5/2017\",\"7/6/2017\",\"7/7/2017\",\"7/8/2017\",\"7/9/2017\",\"7/10/2017\",\"7/11/2017\",\"7/12/2017\",\"7/13/2017\",\"7/14/2017\",\"7/15/2017\",\"7/16/2017\",\"7/17/2017\",\"7/18/2017\",\"7/19/2017\",\"7/20/2017\",\"7/21/2017\",\"7/22/2017\",\"7/23/2017\",\"7/24/2017\",\"7/25/2017\",\"7/26/2017\",\"7/27/2017\",\"7/28/2017\",\"7/29/2017\",\"7/30/2017\",\"8/1/2017\",\"8/2/2017\",\"8/3/2017\",\"8/4/2017\",\"8/5/2017\",\"8/6/2017\",\"8/7/2017\",\"8/8/2017\",\"8/9/2017\",\"8/10/2017\",\"8/11/2017\",\"8/12/2017\",\"8/13/2017\",\"8/14/2017\",\"8/15/2017\",\"8/16/2017\",\"8/17/2017\",\"8/18/2017\",\"8/19/2017\",\"8/20/2017\",\"8/21/2017\",\"8/22/2017\",\"8/23/2017\",\"8/24/2017\",\"8/25/2017\",\"8/26/2017\",\"8/27/2017\",\"8/28/2017\",\"8/29/2017\",\"8/30/2017\",\"8/31/2017\",\"9/1/2017\",\"9/2/2017\",\"9/3/2017\",\"9/4/2017\",\"9/5/2017\",\"9/6/2017\",\"9/7/2017\",\"9/8/2017\",\"9/9/2017\",\"9/10/2017\",\"9/11/2017\",\"9/12/2017\",\"9/13/2017\",\"9/14/2017\",\"9/15/2017\",\"9/16/2017\",\"9/17/2017\",\"9/18/2017\",\"9/19/2017\",\"9/20/2017\",\"9/21/2017\",\"9/22/2017\",\"9/23/2017\",\"9/24/2017\",\"9/25/2017\",\"9/26/2017\",\"9/27/2017\",\"9/28/2017\",\"9/29/2017\",\"10/1/2017\",\"10/2/2017\",\"10/3/2017\",\"10/4/2017\",\"10/5/2017\",\"10/6/2017\",\"10/7/2017\",\"10/8/2017\",\"10/9/2017\",\"10/10/2017\",\"10/11/2017\",\"10/12/2017\",\"10/13/2017\",\"10/14/2017\",\"10/15/2017\",\"10/16/2017\",\"10/17/2017\",\"10/18/2017\",\"10/19/2017\",\"10/20/2017\",\"10/21/2017\",\"10/22/2017\",\"10/23/2017\",\"10/24/2017\",\"10/25/2017\",\"10/26/2017\",\"10/27/2017\",\"10/28/2017\",\"10/29/2017\",\"10/30/2017\",\"10/31/2017\",\"11/1/2017\",\"11/2/2017\",\"11/3/2017\",\"11/4/2017\",\"11/5/2017\",\"11/6/2017\",\"11/7/2017\",\"11/8/2017\",\"11/9/2017\",\"11/10/2017\",\"11/11/2017\",\"11/12/2017\",\"11/13/2017\",\"11/14/2017\",\"11/15/2017\",\"11/16/2017\",\"11/17/2017\",\"11/18/2017\",\"11/19/2017\",\"11/20/2017\",\"11/21/2017\",\"11/22/2017\",\"11/23/2017\",\"11/24/2017\",\"11/25/2017\",\"11/26/2017\",\"11/27/2017\",\"11/28/2017\",\"11/29/2017\",\"11/30/2017\",\"12/1/2017\",\"12/2/2017\",\"12/3/2017\",\"12/4/2017\",\"12/5/2017\",\"12/6/2017\",\"12/7/2017\",\"12/8/2017\",\"12/9/2017\",\"12/10/2017\",\"12/11/2017\",\"12/12/2017\",\"12/13/2017\",\"12/14/2017\",\"12/15/2017\",\"12/16/2017\",\"12/17/2017\",\"12/18/2017\",\"12/19/2017\",\"12/20/2017\",\"12/21/2017\",\"12/22/2017\",\"12/23/2017\",\"12/24/2017\",\"12/25/2017\",\"12/26/2017\",\"12/27/2017\",\"12/28/2017\",\"12/29/2017\",\"12/30/2017\",\"12/31/2017\",\"1/1/2018\",\"1/2/2018\",\"1/3/2018\",\"1/5/2018\",\"1/6/2018\",\"1/7/2018\",\"1/8/2018\",\"1/9/2018\",\"1/10/2018\",\"1/11/2018\",\"1/12/2018\",\"1/13/2018\",\"1/14/2018\",\"1/15/2018\",\"1/16/2018\",\"1/17/2018\",\"1/18/2018\",\"1/19/2018\",\"1/20/2018\",\"1/21/2018\",\"1/22/2018\",\"1/23/2018\",\"1/24/2018\",\"1/25/2018\",\"1/26/2018\",\"1/27/2018\",\"1/28/2018\",\"1/29/2018\",\"1/30/2018\",\"1/31/2018\",\"2/1/2018\",\"2/2/2018\",\"2/3/2018\",\"2/4/2018\",\"2/5/2018\",\"2/6/2018\",\"2/7/2018\",\"2/8/2018\",\"2/9/2018\",\"2/10/2018\",\"2/11/2018\",\"2/12/2018\",\"2/13/2018\",\"2/14/2018\",\"2/15/2018\",\"2/16/2018\",\"2/17/2018\",\"2/18/2018\",\"2/19/2018\",\"2/20/2018\",\"2/21/2018\",\"2/22/2018\",\"2/23/2018\",\"2/24/2018\",\"2/25/2018\",\"2/26/2018\",\"2/27/2018\",\"2/28/2018\",\"3/1/2018\",\"3/2/2018\",\"3/3/2018\",\"3/4/2018\",\"3/5/2018\",\"3/6/2018\",\"3/7/2018\",\"3/8/2018\",\"3/9/2018\",\"3/10/2018\",\"3/11/2018\",\"3/12/2018\",\"3/13/2018\",\"3/14/2018\",\"3/15/2018\",\"3/16/2018\",\"3/17/2018\",\"3/18/2018\",\"3/19/2018\",\"3/20/2018\",\"3/21/2018\",\"3/22/2018\",\"3/23/2018\",\"3/24/2018\",\"3/25/2018\",\"3/26/2018\",\"3/27/2018\",\"3/28/2018\",\"3/29/2018\",\"3/30/2018\",\"3/31/2018\",\"4/1/2018\",\"4/2/2018\",\"4/3/2018\",\"4/4/2018\",\"4/5/2018\",\"4/6/2018\",\"4/7/2018\",\"4/8/2018\",\"4/9/2018\",\"4/10/2018\",\"4/11/2018\",\"4/12/2018\",\"4/13/2018\",\"4/14/2018\",\"4/15/2018\",\"4/16/2018\",\"4/17/2018\",\"4/18/2018\",\"4/19/2018\",\"4/20/2018\",\"4/21/2018\",\"4/22/2018\",\"4/23/2018\",\"4/24/2018\",\"4/25/2018\",\"4/26/2018\",\"4/27/2018\",\"4/28/2018\",\"4/29/2018\",\"4/30/2018\",\"5/1/2018\",\"5/2/2018\",\"5/3/2018\",\"5/4/2018\",\"5/5/2018\",\"5/6/2018\",\"5/7/2018\",\"5/8/2018\",\"5/10/2018\",\"5/11/2018\",\"5/12/2018\",\"5/13/2018\",\"5/14/2018\",\"5/15/2018\",\"5/16/2018\",\"5/17/2018\",\"5/18/2018\",\"5/19/2018\",\"5/20/2018\",\"5/21/2018\",\"5/22/2018\",\"5/23/2018\",\"5/24/2018\",\"5/25/2018\",\"5/26/2018\",\"5/27/2018\",\"5/28/2018\",\"5/29/2018\",\"5/30/2018\",\"5/31/2018\",\"6/1/2018\",\"6/2/2018\",\"6/3/2018\",\"6/4/2018\",\"6/5/2018\",\"6/6/2018\",\"6/7/2018\",\"6/8/2018\",\"6/9/2018\",\"6/10/2018\",\"6/11/2018\",\"6/12/2018\",\"6/13/2018\",\"6/14/2018\",\"6/15/2018\",\"6/16/2018\",\"6/17/2018\",\"6/18/2018\",\"6/19/2018\",\"6/20/2018\",\"6/21/2018\",\"6/22/2018\",\"6/23/2018\",\"6/24/2018\",\"6/25/2018\",\"6/26/2018\",\"6/27/2018\",\"6/28/2018\",\"6/29/2018\",\"6/30/2018\",\"7/1/2018\",\"7/2/2018\",\"7/3/2018\",\"7/4/2018\",\"7/5/2018\",\"7/6/2018\",\"7/7/2018\",\"7/8/2018\",\"7/9/2018\",\"7/10/2018\",\"7/11/2018\",\"7/12/2018\",\"7/13/2018\",\"7/14/2018\",\"7/15/2018\",\"7/16/2018\",\"7/17/2018\",\"7/18/2018\",\"7/19/2018\",\"7/20/2018\",\"7/21/2018\",\"7/22/2018\",\"7/23/2018\",\"7/24/2018\",\"7/25/2018\",\"7/26/2018\",\"7/27/2018\",\"7/28/2018\",\"7/29/2018\",\"7/30/2018\",\"7/31/2018\",\"8/1/2018\",\"8/2/2018\",\"8/3/2018\",\"8/4/2018\",\"8/5/2018\",\"8/6/2018\",\"8/7/2018\",\"8/8/2018\",\"8/9/2018\",\"8/10/2018\",\"8/11/2018\",\"8/12/2018\",\"8/13/2018\",\"8/14/2018\",\"8/15/2018\",\"8/16/2018\",\"8/17/2018\",\"8/18/2018\",\"8/19/2018\",\"8/20/2018\",\"8/21/2018\",\"8/22/2018\",\"8/23/2018\",\"8/24/2018\",\"8/25/2018\",\"8/26/2018\",\"8/27/2018\",\"8/28/2018\",\"8/29/2018\",\"8/30/2018\",\"8/31/2018\",\"9/1/2018\",\"9/2/2018\",\"9/3/2018\",\"9/4/2018\",\"9/5/2018\",\"9/6/2018\",\"9/7/2018\",\"9/8/2018\",\"9/9/2018\",\"9/10/2018\",\"9/11/2018\",\"9/12/2018\",\"9/13/2018\",\"9/14/2018\",\"9/15/2018\",\"9/16/2018\",\"9/17/2018\",\"9/18/2018\",\"9/20/2018\",\"9/21/2018\",\"9/22/2018\",\"9/23/2018\",\"9/24/2018\",\"9/25/2018\",\"9/26/2018\",\"9/27/2018\",\"9/28/2018\",\"9/29/2018\",\"9/30/2018\",\"10/1/2018\",\"10/2/2018\",\"10/3/2018\",\"10/4/2018\",\"10/5/2018\",\"10/6/2018\",\"10/7/2018\",\"10/8/2018\",\"10/9/2018\",\"10/10/2018\",\"10/11/2018\",\"10/12/2018\",\"10/13/2018\",\"10/14/2018\",\"10/15/2018\",\"10/16/2018\",\"10/17/2018\",\"10/18/2018\",\"10/19/2018\",\"10/20/2018\",\"10/21/2018\",\"10/22/2018\",\"10/23/2018\",\"10/24/2018\",\"10/25/2018\",\"10/26/2018\",\"10/27/2018\",\"10/28/2018\",\"10/29/2018\",\"10/30/2018\",\"10/31/2018\",\"11/1/2018\",\"11/2/2018\",\"11/3/2018\",\"11/4/2018\",\"11/5/2018\",\"11/6/2018\",\"11/7/2018\",\"11/8/2018\",\"11/9/2018\",\"11/10/2018\",\"11/11/2018\",\"11/12/2018\",\"11/13/2018\",\"11/14/2018\",\"11/15/2018\",\"11/16/2018\",\"11/17/2018\",\"11/18/2018\",\"11/19/2018\",\"11/20/2018\",\"11/21/2018\",\"11/22/2018\",\"11/23/2018\",\"11/24/2018\",\"11/25/2018\",\"11/26/2018\",\"11/27/2018\",\"11/28/2018\",\"11/29/2018\",\"11/30/2018\",\"12/1/2018\",\"12/2/2018\",\"12/3/2018\",\"12/4/2018\",\"12/5/2018\",\"12/6/2018\",\"12/7/2018\",\"12/8/2018\",\"12/9/2018\",\"12/10/2018\",\"12/11/2018\",\"12/12/2018\",\"12/13/2018\",\"12/14/2018\",\"12/15/2018\",\"12/16/2018\",\"12/17/2018\",\"12/18/2018\",\"12/19/2018\",\"12/20/2018\",\"12/21/2018\",\"12/22/2018\",\"12/23/2018\",\"12/24/2018\",\"12/25/2018\",\"12/26/2018\",\"12/27/2018\",\"12/28/2018\",\"12/29/2018\",\"12/30/2018\",\"12/31/2018\",\"1/1/2019\",\"1/2/2019\",\"1/3/2019\",\"1/4/2019\",\"1/5/2019\",\"1/7/2019\",\"1/8/2019\",\"1/9/2019\",\"1/10/2019\",\"1/11/2019\",\"1/12/2019\",\"1/13/2019\",\"1/15/2019\",\"1/16/2019\",\"1/17/2019\",\"1/18/2019\",\"1/19/2019\",\"1/20/2019\",\"1/21/2019\",\"1/22/2019\",\"1/23/2019\",\"1/24/2019\",\"1/25/2019\",\"1/26/2019\",\"1/27/2019\",\"1/28/2019\",\"1/29/2019\",\"1/30/2019\",\"1/31/2019\",\"2/1/2019\",\"2/2/2019\",\"2/3/2019\",\"2/4/2019\",\"2/5/2019\",\"2/6/2019\",\"2/7/2019\",\"2/8/2019\",\"2/9/2019\",\"2/10/2019\",\"2/11/2019\",\"2/12/2019\",\"2/13/2019\",\"2/14/2019\",\"2/15/2019\",\"2/16/2019\",\"2/17/2019\",\"2/18/2019\",\"2/19/2019\",\"2/20/2019\",\"2/21/2019\",\"2/22/2019\",\"2/23/2019\",\"2/24/2019\",\"2/25/2019\",\"2/26/2019\",\"2/27/2019\",\"2/28/2019\",\"3/1/2019\",\"3/2/2019\",\"3/3/2019\",\"3/4/2019\",\"3/5/2019\",\"3/6/2019\",\"3/7/2019\",\"3/8/2019\",\"3/9/2019\",\"3/10/2019\",\"3/11/2019\",\"3/12/2019\",\"3/13/2019\",\"3/14/2019\",\"3/15/2019\",\"3/16/2019\",\"3/17/2019\",\"3/18/2019\",\"3/19/2019\",\"3/20/2019\",\"3/21/2019\",\"3/22/2019\",\"3/23/2019\",\"3/24/2019\",\"3/25/2019\",\"3/26/2019\",\"3/27/2019\",\"3/28/2019\",\"3/29/2019\",\"3/30/2019\",\"3/31/2019\",\"4/1/2019\",\"4/2/2019\",\"4/3/2019\",\"4/4/2019\",\"4/5/2019\",\"4/6/2019\",\"4/7/2019\",\"4/8/2019\",\"4/9/2019\",\"4/10/2019\",\"4/11/2019\",\"4/12/2019\",\"4/13/2019\",\"4/14/2019\",\"4/15/2019\",\"4/16/2019\",\"4/17/2019\",\"4/18/2019\",\"4/19/2019\",\"4/20/2019\",\"4/21/2019\",\"4/22/2019\",\"4/23/2019\",\"4/24/2019\",\"4/25/2019\",\"4/26/2019\",\"4/27/2019\",\"4/28/2019\",\"4/29/2019\",\"4/30/2019\",\"5/1/2019\",\"5/2/2019\",\"5/3/2019\",\"5/4/2019\",\"5/5/2019\",\"5/6/2019\",\"5/7/2019\",\"5/8/2019\",\"5/9/2019\",\"5/10/2019\",\"5/11/2019\",\"5/12/2019\",\"5/13/2019\",\"5/14/2019\",\"5/15/2019\",\"5/16/2019\",\"5/17/2019\",\"5/18/2019\",\"5/19/2019\",\"5/20/2019\",\"5/21/2019\",\"5/22/2019\",\"5/23/2019\",\"5/24/2019\",\"5/25/2019\",\"5/26/2019\",\"5/27/2019\",\"5/28/2019\",\"5/29/2019\",\"5/30/2019\",\"5/31/2019\",\"6/1/2019\",\"6/2/2019\",\"6/3/2019\",\"6/4/2019\",\"6/5/2019\",\"6/6/2019\",\"6/7/2019\",\"6/8/2019\",\"6/9/2019\",\"6/10/2019\",\"6/11/2019\",\"6/12/2019\",\"6/13/2019\",\"6/14/2019\",\"6/15/2019\",\"6/16/2019\",\"6/17/2019\",\"6/18/2019\",\"6/19/2019\",\"6/20/2019\",\"6/21/2019\",\"6/22/2019\",\"6/23/2019\",\"6/24/2019\",\"6/25/2019\",\"6/26/2019\",\"6/27/2019\",\"6/28/2019\",\"6/29/2019\",\"6/30/2019\",\"7/1/2019\",\"7/2/2019\",\"7/3/2019\",\"7/4/2019\",\"7/5/2019\",\"7/6/2019\",\"7/7/2019\",\"7/8/2019\",\"7/9/2019\",\"7/10/2019\",\"7/11/2019\",\"7/12/2019\",\"7/13/2019\",\"7/14/2019\",\"7/15/2019\",\"7/16/2019\",\"7/17/2019\",\"7/18/2019\",\"7/19/2019\",\"7/20/2019\",\"7/21/2019\",\"7/22/2019\",\"7/23/2019\",\"7/24/2019\",\"7/25/2019\",\"7/26/2019\",\"7/27/2019\",\"7/28/2019\",\"7/29/2019\",\"7/30/2019\",\"7/31/2019\",\"8/1/2019\",\"8/2/2019\",\"8/3/2019\",\"8/4/2019\",\"8/5/2019\",\"8/6/2019\",\"8/7/2019\",\"8/8/2019\",\"8/9/2019\",\"8/10/2019\",\"8/11/2019\",\"8/12/2019\",\"8/13/2019\",\"8/14/2019\",\"8/16/2019\",\"8/17/2019\",\"8/18/2019\",\"8/19/2019\",\"8/20/2019\",\"8/21/2019\",\"8/22/2019\",\"8/23/2019\",\"8/24/2019\",\"8/25/2019\",\"8/26/2019\",\"8/27/2019\",\"8/28/2019\",\"8/29/2019\",\"8/30/2019\",\"8/31/2019\",\"9/1/2019\",\"9/2/2019\",\"9/3/2019\",\"9/4/2019\",\"9/5/2019\",\"9/6/2019\",\"9/7/2019\",\"9/8/2019\",\"9/9/2019\",\"9/10/2019\",\"9/11/2019\",\"9/12/2019\",\"9/13/2019\",\"9/14/2019\",\"9/15/2019\",\"9/16/2019\",\"9/17/2019\",\"9/18/2019\",\"9/19/2019\",\"9/20/2019\",\"9/21/2019\",\"9/22/2019\",\"9/23/2019\",\"9/24/2019\",\"9/25/2019\",\"9/26/2019\",\"9/27/2019\",\"9/28/2019\",\"9/29/2019\",\"9/30/2019\",\"10/1/2019\",\"10/2/2019\",\"10/3/2019\",\"10/4/2019\",\"10/5/2019\",\"10/6/2019\",\"10/7/2019\",\"10/8/2019\",\"10/10/2019\",\"10/11/2019\",\"10/12/2019\",\"10/13/2019\",\"10/14/2019\",\"10/15/2019\",\"10/16/2019\",\"10/17/2019\",\"10/18/2019\",\"10/19/2019\",\"10/20/2019\",\"10/21/2019\",\"10/22/2019\",\"10/23/2019\",\"10/24/2019\",\"10/25/2019\",\"10/26/2019\",\"10/27/2019\",\"10/28/2019\",\"10/29/2019\",\"10/30/2019\",\"10/31/2019\",\"11/1/2019\",\"11/2/2019\",\"11/3/2019\",\"11/4/2019\",\"11/5/2019\",\"11/6/2019\",\"11/7/2019\",\"11/8/2019\",\"11/9/2019\",\"11/10/2019\",\"11/11/2019\",\"11/12/2019\",\"11/13/2019\",\"11/14/2019\",\"11/15/2019\",\"11/16/2019\",\"11/17/2019\",\"11/18/2019\",\"11/19/2019\",\"11/20/2019\",\"11/21/2019\",\"11/22/2019\",\"11/23/2019\",\"11/24/2019\",\"11/25/2019\",\"11/26/2019\",\"11/27/2019\",\"11/28/2019\",\"11/29/2019\",\"11/30/2019\",\"12/1/2019\",\"12/2/2019\",\"12/3/2019\",\"12/4/2019\",\"12/5/2019\",\"12/6/2019\",\"12/7/2019\",\"12/8/2019\",\"12/9/2019\",\"12/10/2019\",\"12/11/2019\",\"12/12/2019\",\"12/13/2019\",\"12/14/2019\",\"12/15/2019\",\"12/16/2019\",\"12/17/2019\",\"12/18/2019\",\"12/19/2019\",\"12/20/2019\",\"12/21/2019\",\"12/22/2019\",\"12/23/2019\",\"12/24/2019\",\"12/25/2019\",\"12/27/2019\",\"12/28/2019\",\"12/29/2019\",\"12/30/2019\",\"12/31/2019\"],\"y\":[70,32,35,34,65,148,286,53,16,35,101,81,102,147,40,24,10,60,137,79,233,26,89,45,97,77,20,50,48,34,10,36,20,78,382,168,143,37,132,71,85,347,13,179,165,35,24,62,555,173,172,126,206,148,112,653,59,57,50,50,27,49,428,60,65,163,73,14,86,380,109,107,167,43,83,82,400,81,70,82,63,52,87,563,93,21,46,60,50,134,255,155,133,57,77,21,156,320,82,32,192,221,212,222,504,204,303,60,65,44,69,119,67,70,13,11,138,51,216,53,19,192,51,41,41,353,20,3,135,15,86,80,160,13,24,4,51,6,78,231,33,68,26,7,17,26,88,38,16,52,109,73,95,121,87,50,11,10,27,30,70,65,12,16,23,9,21,62,59,43,25,14,34,135,59,73,12,55,20,10,17,60,250,42,15,19,135,75,25,2,28,2,69,22,18,30,14,3,14,20,20,38,92,26,29,1,30,27,39,14,7,77,30,13,50,67,23,43,31,27,23,33,53,42,32,31,92,38,43,59,83,35,5,49,27,38,60,34,56,35,11,10,72,26,64,10,21,51,22,39,43,14,7,4,7,11,71,4,17,13,22,105,214,160,11,28,23,18,13,4,32,8,15,29,249,221,125,176,120,209,100,270,172,138,80,55,62,49,52,62,151,24,52,15,17,48,134,265,56,8,107,27,33,154,217,77,93,22,11,43,111,266,31,66,82,165,29,67,190,37,21,46,7,5,238,237,61,51,80,59,34,26,202,28,106,59,2,29,32,350,24,10,7,9,44,138,308,86,71,97,33,20,46,288,16,68,114,12,57,21,251,18,4,31,58,22,128,31,26,69,26,38,148,236,12,9,24,133,38,36,278,8,10,47,38,37,123,105,30,15,29,170,51,54,410,26,124,80,88,141,160,466,203,116,28,48,48,74,25,94,76,99,98,170,106,394,154,41,59,93,280,148,633,47,207,149,149,32,89,334,4,20,101,51,80,46,411,67,86,60,13,106,83,263,45,69,87,77,27,19,203,285,194,435,293,85,310,201,42,29,36,21,25,43,252,14,74,24,15,50,40,301,44,65,163,13,26,20,222,176,152,12,53,23,105,157,89,60,10,56,91,197,33,125,23,51,11,30,62,54,59,16,60,53,74,94,7,9,29,271,5,92,85,17,15,16,56,44,37,48,94,32,10,63,33,21,20,19,72,21,18,34,11,117,53,4,66,33,85,17,52,9,16,29,66,28,8,41,10,7,11,142,48,10,67,9,53,16,20,24,17,58,30,30,117,31,26,16,68,63,82,67,29,25,37,47,56,56,25,46,70,16,38,14,73,16,38,28,18,48,114,22,64,27,23,13,72,25,17,27,31,26,4,31,6,13,6,28,33,64,113,21,123,142,72,63,7,93,27,20,8,11,17,443,87,147,131,86,116,100,80,54,164,277,69,26,16,115,39,24,112,83,13,64,181,4,11,6,13,59,74,227,20,62,18,21,17,36,288,26,239,184,61,62,142,133,75,164,63,16,72,17,234,7,2,61,16,25,40,273,26,146,138,54,111,19,119,59,24,78,47,14,43,82,20,15,45,28,20,18,49,49,25,4,56,164,41,246,1,62,14,15,7,17,190,53,8,49,73,9,41,104,11,16,33,26,32,45,356,4,30,60,36,119,566,12,95,29,78,79,490,25,98,81,83,97,117,576,31,2,2,27,124,90,656,93,75,32,112,28,137,240,142,162,35,78,138,35,55,72,98,120,15,80,68,623,16,33,48,9,22,52,136,22,58,20,79,140,47,473,20,55,22,59,6,38,31,42,153,67,33,152,160,320,17,76,98,45,24,30,153,6,13,15,26,141,87,272,24,52,197,22,79,51,196,91,23,52,38,32,12,177,129,446,383,211,147,222,147,21,49,24,55,52,7,194,21,109,22,52,168,88,285,219,68,20,19,29,28,257,70,114,70,61,14,13,126,30,28,130,9,38,47,99,21,20,43,45,45,27,99,77,68,122,32,258,42,66,25,33,27,26,22,31,35,19,24,23,29,26,25,60,59,21,22,16,50,6,52,19,26,42,7,21,53,27,53,15,19,13,13,86,84,19,36,47,15,125,22,48,19,22,14,16,19,18,32,28,3,21,23,47,9,83,22,52,56,57,26,33,87,33,34,45,33,10,87,49,35,29,31,37,16,32,17,5,63,35,12,18,46,29,26,41,53,20,6,72,20,9,120,54,2,25,65,29,50,6,6,22,14,120,22,129,138,8,8,74,121,22,7,9,43,82,194,63,130,156,263,412,54,187,119,173,41,191,69,16,198,17,17,59,63,43,67,154,20,8,27,16,56,43,236,23,45,111,16,21,45,213,19,12,74,57,117,32,176,65,20,23,16,57,35,170,78,17,38,3,52,35,199,58,2,57,20,23,28,151,15,70,9,59,43,77,298,24,9,207,58,46,136,336,185,22],\"type\":\"scatter\"},{\"marker\":{\"line\":{\"width\":1},\"size\":6},\"mode\":\"markers\",\"name\":\"Tourist Visitors\",\"x\":[\"1/1/2017\",\"1/2/2017\",\"1/3/2017\",\"1/4/2017\",\"1/5/2017\",\"1/6/2017\",\"1/7/2017\",\"1/8/2017\",\"1/9/2017\",\"1/10/2017\",\"1/11/2017\",\"1/12/2017\",\"1/13/2017\",\"1/14/2017\",\"1/15/2017\",\"1/16/2017\",\"1/17/2017\",\"1/18/2017\",\"1/19/2017\",\"1/20/2017\",\"1/21/2017\",\"1/22/2017\",\"1/23/2017\",\"1/24/2017\",\"1/25/2017\",\"1/26/2017\",\"1/27/2017\",\"1/28/2017\",\"1/29/2017\",\"1/30/2017\",\"1/31/2017\",\"2/1/2017\",\"2/2/2017\",\"2/3/2017\",\"2/4/2017\",\"2/5/2017\",\"2/6/2017\",\"2/7/2017\",\"2/8/2017\",\"2/9/2017\",\"2/10/2017\",\"2/11/2017\",\"2/12/2017\",\"2/13/2017\",\"2/14/2017\",\"2/15/2017\",\"2/16/2017\",\"2/17/2017\",\"2/18/2017\",\"2/19/2017\",\"2/20/2017\",\"2/21/2017\",\"2/22/2017\",\"2/23/2017\",\"2/24/2017\",\"2/25/2017\",\"2/26/2017\",\"2/27/2017\",\"2/28/2017\",\"3/1/2017\",\"3/2/2017\",\"3/3/2017\",\"3/4/2017\",\"3/5/2017\",\"3/6/2017\",\"3/7/2017\",\"3/8/2017\",\"3/9/2017\",\"3/10/2017\",\"3/11/2017\",\"3/12/2017\",\"3/13/2017\",\"3/14/2017\",\"3/15/2017\",\"3/16/2017\",\"3/17/2017\",\"3/18/2017\",\"3/19/2017\",\"3/20/2017\",\"3/21/2017\",\"3/22/2017\",\"3/23/2017\",\"3/24/2017\",\"3/25/2017\",\"3/26/2017\",\"3/27/2017\",\"3/28/2017\",\"3/29/2017\",\"3/30/2017\",\"3/31/2017\",\"4/1/2017\",\"4/2/2017\",\"4/3/2017\",\"4/4/2017\",\"4/5/2017\",\"4/6/2017\",\"4/7/2017\",\"4/8/2017\",\"4/9/2017\",\"4/10/2017\",\"4/11/2017\",\"4/12/2017\",\"4/13/2017\",\"4/14/2017\",\"4/15/2017\",\"4/16/2017\",\"4/17/2017\",\"4/18/2017\",\"4/19/2017\",\"4/20/2017\",\"4/21/2017\",\"4/22/2017\",\"4/23/2017\",\"4/24/2017\",\"4/25/2017\",\"4/26/2017\",\"4/27/2017\",\"4/28/2017\",\"4/29/2017\",\"4/30/2017\",\"5/1/2017\",\"5/2/2017\",\"5/3/2017\",\"5/4/2017\",\"5/5/2017\",\"5/6/2017\",\"5/7/2017\",\"5/8/2017\",\"5/9/2017\",\"5/10/2017\",\"5/11/2017\",\"5/12/2017\",\"5/13/2017\",\"5/14/2017\",\"5/15/2017\",\"5/16/2017\",\"5/17/2017\",\"5/18/2017\",\"5/19/2017\",\"5/20/2017\",\"5/21/2017\",\"5/22/2017\",\"5/23/2017\",\"5/24/2017\",\"5/25/2017\",\"5/26/2017\",\"5/27/2017\",\"5/28/2017\",\"5/29/2017\",\"5/30/2017\",\"5/31/2017\",\"6/1/2017\",\"6/2/2017\",\"6/3/2017\",\"6/4/2017\",\"6/5/2017\",\"6/6/2017\",\"6/7/2017\",\"6/8/2017\",\"6/9/2017\",\"6/10/2017\",\"6/11/2017\",\"6/12/2017\",\"6/13/2017\",\"6/14/2017\",\"6/15/2017\",\"6/16/2017\",\"6/17/2017\",\"6/18/2017\",\"6/19/2017\",\"6/20/2017\",\"6/21/2017\",\"6/22/2017\",\"6/23/2017\",\"6/24/2017\",\"6/25/2017\",\"6/27/2017\",\"6/28/2017\",\"6/29/2017\",\"6/30/2017\",\"7/1/2017\",\"7/2/2017\",\"7/3/2017\",\"7/4/2017\",\"7/5/2017\",\"7/6/2017\",\"7/7/2017\",\"7/8/2017\",\"7/9/2017\",\"7/10/2017\",\"7/11/2017\",\"7/12/2017\",\"7/13/2017\",\"7/14/2017\",\"7/15/2017\",\"7/16/2017\",\"7/17/2017\",\"7/18/2017\",\"7/19/2017\",\"7/20/2017\",\"7/21/2017\",\"7/22/2017\",\"7/23/2017\",\"7/24/2017\",\"7/25/2017\",\"7/26/2017\",\"7/27/2017\",\"7/28/2017\",\"7/29/2017\",\"7/30/2017\",\"8/1/2017\",\"8/2/2017\",\"8/3/2017\",\"8/4/2017\",\"8/5/2017\",\"8/6/2017\",\"8/7/2017\",\"8/8/2017\",\"8/9/2017\",\"8/10/2017\",\"8/11/2017\",\"8/12/2017\",\"8/13/2017\",\"8/14/2017\",\"8/15/2017\",\"8/16/2017\",\"8/17/2017\",\"8/18/2017\",\"8/19/2017\",\"8/20/2017\",\"8/21/2017\",\"8/22/2017\",\"8/23/2017\",\"8/24/2017\",\"8/25/2017\",\"8/26/2017\",\"8/27/2017\",\"8/28/2017\",\"8/29/2017\",\"8/30/2017\",\"8/31/2017\",\"9/1/2017\",\"9/2/2017\",\"9/3/2017\",\"9/4/2017\",\"9/5/2017\",\"9/6/2017\",\"9/7/2017\",\"9/8/2017\",\"9/9/2017\",\"9/10/2017\",\"9/11/2017\",\"9/12/2017\",\"9/13/2017\",\"9/14/2017\",\"9/15/2017\",\"9/16/2017\",\"9/17/2017\",\"9/18/2017\",\"9/19/2017\",\"9/20/2017\",\"9/21/2017\",\"9/22/2017\",\"9/23/2017\",\"9/24/2017\",\"9/25/2017\",\"9/26/2017\",\"9/27/2017\",\"9/28/2017\",\"9/29/2017\",\"10/1/2017\",\"10/2/2017\",\"10/3/2017\",\"10/4/2017\",\"10/5/2017\",\"10/6/2017\",\"10/7/2017\",\"10/8/2017\",\"10/9/2017\",\"10/10/2017\",\"10/11/2017\",\"10/12/2017\",\"10/13/2017\",\"10/14/2017\",\"10/15/2017\",\"10/16/2017\",\"10/17/2017\",\"10/18/2017\",\"10/19/2017\",\"10/20/2017\",\"10/21/2017\",\"10/22/2017\",\"10/23/2017\",\"10/24/2017\",\"10/25/2017\",\"10/26/2017\",\"10/27/2017\",\"10/28/2017\",\"10/29/2017\",\"10/30/2017\",\"10/31/2017\",\"11/1/2017\",\"11/2/2017\",\"11/3/2017\",\"11/4/2017\",\"11/5/2017\",\"11/6/2017\",\"11/7/2017\",\"11/8/2017\",\"11/9/2017\",\"11/10/2017\",\"11/11/2017\",\"11/12/2017\",\"11/13/2017\",\"11/14/2017\",\"11/15/2017\",\"11/16/2017\",\"11/17/2017\",\"11/18/2017\",\"11/19/2017\",\"11/20/2017\",\"11/21/2017\",\"11/22/2017\",\"11/23/2017\",\"11/24/2017\",\"11/25/2017\",\"11/26/2017\",\"11/27/2017\",\"11/28/2017\",\"11/29/2017\",\"11/30/2017\",\"12/1/2017\",\"12/2/2017\",\"12/3/2017\",\"12/4/2017\",\"12/5/2017\",\"12/6/2017\",\"12/7/2017\",\"12/8/2017\",\"12/9/2017\",\"12/10/2017\",\"12/11/2017\",\"12/12/2017\",\"12/13/2017\",\"12/14/2017\",\"12/15/2017\",\"12/16/2017\",\"12/17/2017\",\"12/18/2017\",\"12/19/2017\",\"12/20/2017\",\"12/21/2017\",\"12/22/2017\",\"12/23/2017\",\"12/24/2017\",\"12/25/2017\",\"12/26/2017\",\"12/27/2017\",\"12/28/2017\",\"12/29/2017\",\"12/30/2017\",\"12/31/2017\",\"1/1/2018\",\"1/2/2018\",\"1/3/2018\",\"1/5/2018\",\"1/6/2018\",\"1/7/2018\",\"1/8/2018\",\"1/9/2018\",\"1/10/2018\",\"1/11/2018\",\"1/12/2018\",\"1/13/2018\",\"1/14/2018\",\"1/15/2018\",\"1/16/2018\",\"1/17/2018\",\"1/18/2018\",\"1/19/2018\",\"1/20/2018\",\"1/21/2018\",\"1/22/2018\",\"1/23/2018\",\"1/24/2018\",\"1/25/2018\",\"1/26/2018\",\"1/27/2018\",\"1/28/2018\",\"1/29/2018\",\"1/30/2018\",\"1/31/2018\",\"2/1/2018\",\"2/2/2018\",\"2/3/2018\",\"2/4/2018\",\"2/5/2018\",\"2/6/2018\",\"2/7/2018\",\"2/8/2018\",\"2/9/2018\",\"2/10/2018\",\"2/11/2018\",\"2/12/2018\",\"2/13/2018\",\"2/14/2018\",\"2/15/2018\",\"2/16/2018\",\"2/17/2018\",\"2/18/2018\",\"2/19/2018\",\"2/20/2018\",\"2/21/2018\",\"2/22/2018\",\"2/23/2018\",\"2/24/2018\",\"2/25/2018\",\"2/26/2018\",\"2/27/2018\",\"2/28/2018\",\"3/1/2018\",\"3/2/2018\",\"3/3/2018\",\"3/4/2018\",\"3/5/2018\",\"3/6/2018\",\"3/7/2018\",\"3/8/2018\",\"3/9/2018\",\"3/10/2018\",\"3/11/2018\",\"3/12/2018\",\"3/13/2018\",\"3/14/2018\",\"3/15/2018\",\"3/16/2018\",\"3/17/2018\",\"3/18/2018\",\"3/19/2018\",\"3/20/2018\",\"3/21/2018\",\"3/22/2018\",\"3/23/2018\",\"3/24/2018\",\"3/25/2018\",\"3/26/2018\",\"3/27/2018\",\"3/28/2018\",\"3/29/2018\",\"3/30/2018\",\"3/31/2018\",\"4/1/2018\",\"4/2/2018\",\"4/3/2018\",\"4/4/2018\",\"4/5/2018\",\"4/6/2018\",\"4/7/2018\",\"4/8/2018\",\"4/9/2018\",\"4/10/2018\",\"4/11/2018\",\"4/12/2018\",\"4/13/2018\",\"4/14/2018\",\"4/15/2018\",\"4/16/2018\",\"4/17/2018\",\"4/18/2018\",\"4/19/2018\",\"4/20/2018\",\"4/21/2018\",\"4/22/2018\",\"4/23/2018\",\"4/24/2018\",\"4/25/2018\",\"4/26/2018\",\"4/27/2018\",\"4/28/2018\",\"4/29/2018\",\"4/30/2018\",\"5/1/2018\",\"5/2/2018\",\"5/3/2018\",\"5/4/2018\",\"5/5/2018\",\"5/6/2018\",\"5/7/2018\",\"5/8/2018\",\"5/10/2018\",\"5/11/2018\",\"5/12/2018\",\"5/13/2018\",\"5/14/2018\",\"5/15/2018\",\"5/16/2018\",\"5/17/2018\",\"5/18/2018\",\"5/19/2018\",\"5/20/2018\",\"5/21/2018\",\"5/22/2018\",\"5/23/2018\",\"5/24/2018\",\"5/25/2018\",\"5/26/2018\",\"5/27/2018\",\"5/28/2018\",\"5/29/2018\",\"5/30/2018\",\"5/31/2018\",\"6/1/2018\",\"6/2/2018\",\"6/3/2018\",\"6/4/2018\",\"6/5/2018\",\"6/6/2018\",\"6/7/2018\",\"6/8/2018\",\"6/9/2018\",\"6/10/2018\",\"6/11/2018\",\"6/12/2018\",\"6/13/2018\",\"6/14/2018\",\"6/15/2018\",\"6/16/2018\",\"6/17/2018\",\"6/18/2018\",\"6/19/2018\",\"6/20/2018\",\"6/21/2018\",\"6/22/2018\",\"6/23/2018\",\"6/24/2018\",\"6/25/2018\",\"6/26/2018\",\"6/27/2018\",\"6/28/2018\",\"6/29/2018\",\"6/30/2018\",\"7/1/2018\",\"7/2/2018\",\"7/3/2018\",\"7/4/2018\",\"7/5/2018\",\"7/6/2018\",\"7/7/2018\",\"7/8/2018\",\"7/9/2018\",\"7/10/2018\",\"7/11/2018\",\"7/12/2018\",\"7/13/2018\",\"7/14/2018\",\"7/15/2018\",\"7/16/2018\",\"7/17/2018\",\"7/18/2018\",\"7/19/2018\",\"7/20/2018\",\"7/21/2018\",\"7/22/2018\",\"7/23/2018\",\"7/24/2018\",\"7/25/2018\",\"7/26/2018\",\"7/27/2018\",\"7/28/2018\",\"7/29/2018\",\"7/30/2018\",\"7/31/2018\",\"8/1/2018\",\"8/2/2018\",\"8/3/2018\",\"8/4/2018\",\"8/5/2018\",\"8/6/2018\",\"8/7/2018\",\"8/8/2018\",\"8/9/2018\",\"8/10/2018\",\"8/11/2018\",\"8/12/2018\",\"8/13/2018\",\"8/14/2018\",\"8/15/2018\",\"8/16/2018\",\"8/17/2018\",\"8/18/2018\",\"8/19/2018\",\"8/20/2018\",\"8/21/2018\",\"8/22/2018\",\"8/23/2018\",\"8/24/2018\",\"8/25/2018\",\"8/26/2018\",\"8/27/2018\",\"8/28/2018\",\"8/29/2018\",\"8/30/2018\",\"8/31/2018\",\"9/1/2018\",\"9/2/2018\",\"9/3/2018\",\"9/4/2018\",\"9/5/2018\",\"9/6/2018\",\"9/7/2018\",\"9/8/2018\",\"9/9/2018\",\"9/10/2018\",\"9/11/2018\",\"9/12/2018\",\"9/13/2018\",\"9/14/2018\",\"9/15/2018\",\"9/16/2018\",\"9/17/2018\",\"9/18/2018\",\"9/20/2018\",\"9/21/2018\",\"9/22/2018\",\"9/23/2018\",\"9/24/2018\",\"9/25/2018\",\"9/26/2018\",\"9/27/2018\",\"9/28/2018\",\"9/29/2018\",\"9/30/2018\",\"10/1/2018\",\"10/2/2018\",\"10/3/2018\",\"10/4/2018\",\"10/5/2018\",\"10/6/2018\",\"10/7/2018\",\"10/8/2018\",\"10/9/2018\",\"10/10/2018\",\"10/11/2018\",\"10/12/2018\",\"10/13/2018\",\"10/14/2018\",\"10/15/2018\",\"10/16/2018\",\"10/17/2018\",\"10/18/2018\",\"10/19/2018\",\"10/20/2018\",\"10/21/2018\",\"10/22/2018\",\"10/23/2018\",\"10/24/2018\",\"10/25/2018\",\"10/26/2018\",\"10/27/2018\",\"10/28/2018\",\"10/29/2018\",\"10/30/2018\",\"10/31/2018\",\"11/1/2018\",\"11/2/2018\",\"11/3/2018\",\"11/4/2018\",\"11/5/2018\",\"11/6/2018\",\"11/7/2018\",\"11/8/2018\",\"11/9/2018\",\"11/10/2018\",\"11/11/2018\",\"11/12/2018\",\"11/13/2018\",\"11/14/2018\",\"11/15/2018\",\"11/16/2018\",\"11/17/2018\",\"11/18/2018\",\"11/19/2018\",\"11/20/2018\",\"11/21/2018\",\"11/22/2018\",\"11/23/2018\",\"11/24/2018\",\"11/25/2018\",\"11/26/2018\",\"11/27/2018\",\"11/28/2018\",\"11/29/2018\",\"11/30/2018\",\"12/1/2018\",\"12/2/2018\",\"12/3/2018\",\"12/4/2018\",\"12/5/2018\",\"12/6/2018\",\"12/7/2018\",\"12/8/2018\",\"12/9/2018\",\"12/10/2018\",\"12/11/2018\",\"12/12/2018\",\"12/13/2018\",\"12/14/2018\",\"12/15/2018\",\"12/16/2018\",\"12/17/2018\",\"12/18/2018\",\"12/19/2018\",\"12/20/2018\",\"12/21/2018\",\"12/22/2018\",\"12/23/2018\",\"12/24/2018\",\"12/25/2018\",\"12/26/2018\",\"12/27/2018\",\"12/28/2018\",\"12/29/2018\",\"12/30/2018\",\"12/31/2018\",\"1/1/2019\",\"1/2/2019\",\"1/3/2019\",\"1/4/2019\",\"1/5/2019\",\"1/7/2019\",\"1/8/2019\",\"1/9/2019\",\"1/10/2019\",\"1/11/2019\",\"1/12/2019\",\"1/13/2019\",\"1/15/2019\",\"1/16/2019\",\"1/17/2019\",\"1/18/2019\",\"1/19/2019\",\"1/20/2019\",\"1/21/2019\",\"1/22/2019\",\"1/23/2019\",\"1/24/2019\",\"1/25/2019\",\"1/26/2019\",\"1/27/2019\",\"1/28/2019\",\"1/29/2019\",\"1/30/2019\",\"1/31/2019\",\"2/1/2019\",\"2/2/2019\",\"2/3/2019\",\"2/4/2019\",\"2/5/2019\",\"2/6/2019\",\"2/7/2019\",\"2/8/2019\",\"2/9/2019\",\"2/10/2019\",\"2/11/2019\",\"2/12/2019\",\"2/13/2019\",\"2/14/2019\",\"2/15/2019\",\"2/16/2019\",\"2/17/2019\",\"2/18/2019\",\"2/19/2019\",\"2/20/2019\",\"2/21/2019\",\"2/22/2019\",\"2/23/2019\",\"2/24/2019\",\"2/25/2019\",\"2/26/2019\",\"2/27/2019\",\"2/28/2019\",\"3/1/2019\",\"3/2/2019\",\"3/3/2019\",\"3/4/2019\",\"3/5/2019\",\"3/6/2019\",\"3/7/2019\",\"3/8/2019\",\"3/9/2019\",\"3/10/2019\",\"3/11/2019\",\"3/12/2019\",\"3/13/2019\",\"3/14/2019\",\"3/15/2019\",\"3/16/2019\",\"3/17/2019\",\"3/18/2019\",\"3/19/2019\",\"3/20/2019\",\"3/21/2019\",\"3/22/2019\",\"3/23/2019\",\"3/24/2019\",\"3/25/2019\",\"3/26/2019\",\"3/27/2019\",\"3/28/2019\",\"3/29/2019\",\"3/30/2019\",\"3/31/2019\",\"4/1/2019\",\"4/2/2019\",\"4/3/2019\",\"4/4/2019\",\"4/5/2019\",\"4/6/2019\",\"4/7/2019\",\"4/8/2019\",\"4/9/2019\",\"4/10/2019\",\"4/11/2019\",\"4/12/2019\",\"4/13/2019\",\"4/14/2019\",\"4/15/2019\",\"4/16/2019\",\"4/17/2019\",\"4/18/2019\",\"4/19/2019\",\"4/20/2019\",\"4/21/2019\",\"4/22/2019\",\"4/23/2019\",\"4/24/2019\",\"4/25/2019\",\"4/26/2019\",\"4/27/2019\",\"4/28/2019\",\"4/29/2019\",\"4/30/2019\",\"5/1/2019\",\"5/2/2019\",\"5/3/2019\",\"5/4/2019\",\"5/5/2019\",\"5/6/2019\",\"5/7/2019\",\"5/8/2019\",\"5/9/2019\",\"5/10/2019\",\"5/11/2019\",\"5/12/2019\",\"5/13/2019\",\"5/14/2019\",\"5/15/2019\",\"5/16/2019\",\"5/17/2019\",\"5/18/2019\",\"5/19/2019\",\"5/20/2019\",\"5/21/2019\",\"5/22/2019\",\"5/23/2019\",\"5/24/2019\",\"5/25/2019\",\"5/26/2019\",\"5/27/2019\",\"5/28/2019\",\"5/29/2019\",\"5/30/2019\",\"5/31/2019\",\"6/1/2019\",\"6/2/2019\",\"6/3/2019\",\"6/4/2019\",\"6/5/2019\",\"6/6/2019\",\"6/7/2019\",\"6/8/2019\",\"6/9/2019\",\"6/10/2019\",\"6/11/2019\",\"6/12/2019\",\"6/13/2019\",\"6/14/2019\",\"6/15/2019\",\"6/16/2019\",\"6/17/2019\",\"6/18/2019\",\"6/19/2019\",\"6/20/2019\",\"6/21/2019\",\"6/22/2019\",\"6/23/2019\",\"6/24/2019\",\"6/25/2019\",\"6/26/2019\",\"6/27/2019\",\"6/28/2019\",\"6/29/2019\",\"6/30/2019\",\"7/1/2019\",\"7/2/2019\",\"7/3/2019\",\"7/4/2019\",\"7/5/2019\",\"7/6/2019\",\"7/7/2019\",\"7/8/2019\",\"7/9/2019\",\"7/10/2019\",\"7/11/2019\",\"7/12/2019\",\"7/13/2019\",\"7/14/2019\",\"7/15/2019\",\"7/16/2019\",\"7/17/2019\",\"7/18/2019\",\"7/19/2019\",\"7/20/2019\",\"7/21/2019\",\"7/22/2019\",\"7/23/2019\",\"7/24/2019\",\"7/25/2019\",\"7/26/2019\",\"7/27/2019\",\"7/28/2019\",\"7/29/2019\",\"7/30/2019\",\"7/31/2019\",\"8/1/2019\",\"8/2/2019\",\"8/3/2019\",\"8/4/2019\",\"8/5/2019\",\"8/6/2019\",\"8/7/2019\",\"8/8/2019\",\"8/9/2019\",\"8/10/2019\",\"8/11/2019\",\"8/12/2019\",\"8/13/2019\",\"8/14/2019\",\"8/16/2019\",\"8/17/2019\",\"8/18/2019\",\"8/19/2019\",\"8/20/2019\",\"8/21/2019\",\"8/22/2019\",\"8/23/2019\",\"8/24/2019\",\"8/25/2019\",\"8/26/2019\",\"8/27/2019\",\"8/28/2019\",\"8/29/2019\",\"8/30/2019\",\"8/31/2019\",\"9/1/2019\",\"9/2/2019\",\"9/3/2019\",\"9/4/2019\",\"9/5/2019\",\"9/6/2019\",\"9/7/2019\",\"9/8/2019\",\"9/9/2019\",\"9/10/2019\",\"9/11/2019\",\"9/12/2019\",\"9/13/2019\",\"9/14/2019\",\"9/15/2019\",\"9/16/2019\",\"9/17/2019\",\"9/18/2019\",\"9/19/2019\",\"9/20/2019\",\"9/21/2019\",\"9/22/2019\",\"9/23/2019\",\"9/24/2019\",\"9/25/2019\",\"9/26/2019\",\"9/27/2019\",\"9/28/2019\",\"9/29/2019\",\"9/30/2019\",\"10/1/2019\",\"10/2/2019\",\"10/3/2019\",\"10/4/2019\",\"10/5/2019\",\"10/6/2019\",\"10/7/2019\",\"10/8/2019\",\"10/10/2019\",\"10/11/2019\",\"10/12/2019\",\"10/13/2019\",\"10/14/2019\",\"10/15/2019\",\"10/16/2019\",\"10/17/2019\",\"10/18/2019\",\"10/19/2019\",\"10/20/2019\",\"10/21/2019\",\"10/22/2019\",\"10/23/2019\",\"10/24/2019\",\"10/25/2019\",\"10/26/2019\",\"10/27/2019\",\"10/28/2019\",\"10/29/2019\",\"10/30/2019\",\"10/31/2019\",\"11/1/2019\",\"11/2/2019\",\"11/3/2019\",\"11/4/2019\",\"11/5/2019\",\"11/6/2019\",\"11/7/2019\",\"11/8/2019\",\"11/9/2019\",\"11/10/2019\",\"11/11/2019\",\"11/12/2019\",\"11/13/2019\",\"11/14/2019\",\"11/15/2019\",\"11/16/2019\",\"11/17/2019\",\"11/18/2019\",\"11/19/2019\",\"11/20/2019\",\"11/21/2019\",\"11/22/2019\",\"11/23/2019\",\"11/24/2019\",\"11/25/2019\",\"11/26/2019\",\"11/27/2019\",\"11/28/2019\",\"11/29/2019\",\"11/30/2019\",\"12/1/2019\",\"12/2/2019\",\"12/3/2019\",\"12/4/2019\",\"12/5/2019\",\"12/6/2019\",\"12/7/2019\",\"12/8/2019\",\"12/9/2019\",\"12/10/2019\",\"12/11/2019\",\"12/12/2019\",\"12/13/2019\",\"12/14/2019\",\"12/15/2019\",\"12/16/2019\",\"12/17/2019\",\"12/18/2019\",\"12/19/2019\",\"12/20/2019\",\"12/21/2019\",\"12/22/2019\",\"12/23/2019\",\"12/24/2019\",\"12/25/2019\",\"12/27/2019\",\"12/28/2019\",\"12/29/2019\",\"12/30/2019\",\"12/31/2019\"],\"y\":[191,206,226,277,284,440,219,93,169,135,287,155,359,334,248,191,162,302,204,198,198,57,117,228,329,275,315,257,125,377,109,291,376,200,133,188,248,202,681,529,429,329,149,348,590,1072,677,384,473,781,237,586,760,697,539,352,433,262,316,380,462,430,516,429,338,714,811,523,659,864,463,425,746,751,981,337,352,817,323,812,979,906,352,408,582,479,514,568,388,236,325,289,561,295,366,227,130,105,134,30,240,308,135,58,126,61,183,193,457,441,592,562,712,384,1007,583,594,390,628,571,577,285,485,524,418,346,414,375,532,532,461,348,441,289,388,443,697,551,527,322,641,512,274,274,499,184,285,470,330,357,196,212,369,314,574,415,470,562,713,996,335,372,425,554,528,483,337,421,265,340,228,288,460,242,143,176,213,292,231,97,148,61,214,74,226,61,198,47,173,197,159,165,206,99,217,170,273,118,438,86,157,147,124,106,216,218,171,140,116,151,225,216,81,224,65,130,142,111,283,169,104,165,126,124,124,100,60,125,232,157,37,64,49,22,88,46,291,154,157,170,52,172,122,194,250,344,303,470,389,394,383,524,465,273,328,279,129,141,195,94,107,116,214,197,85,196,168,135,76,22,256,277,396,316,445,375,364,263,244,240,407,384,460,591,445,719,735,1047,985,720,858,683,1059,1040,916,1071,749,753,608,714,621,888,894,833,867,308,875,723,1136,1529,788,441,503,679,565,730,526,555,314,495,689,609,547,500,497,266,452,496,628,717,914,538,371,407,230,274,349,595,628,217,133,202,123,137,58,188,40,60,106,90,60,119,101,110,64,322,179,107,843,424,419,378,236,258,181,335,446,110,318,306,777,571,699,686,130,244,319,473,477,362,403,124,228,236,408,467,468,231,167,368,265,536,322,244,369,219,354,267,665,517,701,338,410,509,398,771,810,593,552,730,996,689,950,1208,796,902,238,420,699,894,764,666,816,459,637,1084,1512,1268,778,954,1781,831,929,1599,1228,855,630,841,725,650,402,518,329,425,255,288,119,205,102,118,252,88,165,257,185,191,268,413,126,280,444,825,874,680,532,403,912,476,819,1299,909,913,551,819,435,1155,1175,717,636,515,700,643,504,657,619,569,312,421,1496,1036,485,466,534,594,790,396,457,342,333,401,609,861,759,617,544,660,552,750,525,585,455,649,381,187,491,321,694,548,680,211,578,446,318,567,613,507,126,221,425,313,344,391,358,280,339,328,295,187,397,120,142,115,209,174,145,319,261,615,216,399,256,261,316,178,43,79,116,123,244,194,255,119,116,182,302,205,94,90,115,125,143,167,221,107,129,136,191,88,290,139,79,131,152,104,122,67,151,121,161,71,170,142,235,199,70,221,65,96,310,78,127,239,197,412,179,304,336,275,203,95,221,95,128,256,45,192,234,142,68,85,166,163,211,233,122,414,142,284,279,192,197,570,370,298,695,1059,626,658,468,793,578,641,940,918,936,611,645,867,1258,917,728,646,527,773,873,1239,829,870,724,993,675,1044,1136,1009,838,738,556,1130,786,1497,1694,1937,769,638,748,833,738,571,178,748,538,634,607,441,633,909,850,530,348,445,1114,1590,1440,337,608,695,370,771,454,137,186,130,151,253,220,182,242,149,47,58,115,41,58,111,52,175,270,279,79,100,623,554,565,647,63,244,277,316,270,194,390,415,473,764,338,311,283,644,393,306,290,114,183,275,839,694,453,347,284,186,144,408,799,508,675,569,494,556,797,996,737,380,263,334,685,665,827,1091,578,679,791,750,969,1054,781,824,770,660,639,949,665,853,319,541,368,852,1564,1530,665,959,926,790,728,1258,1177,794,698,1003,924,983,1668,2121,1091,882,724,1002,792,1727,1267,968,767,624,795,865,870,895,957,595,681,1044,537,274,292,305,292,176,462,331,184,198,123,497,139,132,164,415,281,139,256,198,755,708,419,958,663,615,344,498,644,668,833,645,452,327,599,547,504,1261,744,713,624,705,586,723,369,716,271,347,898,557,682,585,636,285,313,498,298,1185,721,676,348,595,606,366,565,583,891,582,316,224,450,525,397,696,558,321,622,421,354,231,204,277,385,230,144,210,96,204,133,461,199,207,259,319,364,197,145,112,206,69,133,283,323,115,107,259,358,195,226,289,80,258,236,154,105,130,169,146,159,261,118,199,186,261,90,196,77,249,143,161,30,71,126,64,71,116,198,111,256,75,159,140,90,174,123,455,416,427,358,480,394,779,600,535,488,772,688,556,257,699,567,1091,676,941,497,324,355,423,376,369,296,198,204,153,580,451,424,311,358,160,165,81,217,352,347,451,414,356,273,459,337,371,461,633,466,687,1442,1001,719,1063,1445,1053,1294,1111,959,721,683,985,904,1534,1344,1026,1061,491,1001,887,1075,1343,796,814,502,625,676,578,450,407,509,734,644,426,803,600,895,461,389,340,721,1104,1118,903,269,414,266,310,314,218,132,229,156,47,352,62,121,51,94,129,211,132,81,284,527,734,941,535],\"type\":\"scatter\"}],                        {\"template\":{\"data\":{\"bar\":[{\"error_x\":{\"color\":\"#2a3f5f\"},\"error_y\":{\"color\":\"#2a3f5f\"},\"marker\":{\"line\":{\"color\":\"#E5ECF6\",\"width\":0.5},\"pattern\":{\"fillmode\":\"overlay\",\"size\":10,\"solidity\":0.2}},\"type\":\"bar\"}],\"barpolar\":[{\"marker\":{\"line\":{\"color\":\"#E5ECF6\",\"width\":0.5},\"pattern\":{\"fillmode\":\"overlay\",\"size\":10,\"solidity\":0.2}},\"type\":\"barpolar\"}],\"carpet\":[{\"aaxis\":{\"endlinecolor\":\"#2a3f5f\",\"gridcolor\":\"white\",\"linecolor\":\"white\",\"minorgridcolor\":\"white\",\"startlinecolor\":\"#2a3f5f\"},\"baxis\":{\"endlinecolor\":\"#2a3f5f\",\"gridcolor\":\"white\",\"linecolor\":\"white\",\"minorgridcolor\":\"white\",\"startlinecolor\":\"#2a3f5f\"},\"type\":\"carpet\"}],\"choropleth\":[{\"colorbar\":{\"outlinewidth\":0,\"ticks\":\"\"},\"type\":\"choropleth\"}],\"contour\":[{\"colorbar\":{\"outlinewidth\":0,\"ticks\":\"\"},\"colorscale\":[[0.0,\"#0d0887\"],[0.1111111111111111,\"#46039f\"],[0.2222222222222222,\"#7201a8\"],[0.3333333333333333,\"#9c179e\"],[0.4444444444444444,\"#bd3786\"],[0.5555555555555556,\"#d8576b\"],[0.6666666666666666,\"#ed7953\"],[0.7777777777777778,\"#fb9f3a\"],[0.8888888888888888,\"#fdca26\"],[1.0,\"#f0f921\"]],\"type\":\"contour\"}],\"contourcarpet\":[{\"colorbar\":{\"outlinewidth\":0,\"ticks\":\"\"},\"type\":\"contourcarpet\"}],\"heatmap\":[{\"colorbar\":{\"outlinewidth\":0,\"ticks\":\"\"},\"colorscale\":[[0.0,\"#0d0887\"],[0.1111111111111111,\"#46039f\"],[0.2222222222222222,\"#7201a8\"],[0.3333333333333333,\"#9c179e\"],[0.4444444444444444,\"#bd3786\"],[0.5555555555555556,\"#d8576b\"],[0.6666666666666666,\"#ed7953\"],[0.7777777777777778,\"#fb9f3a\"],[0.8888888888888888,\"#fdca26\"],[1.0,\"#f0f921\"]],\"type\":\"heatmap\"}],\"heatmapgl\":[{\"colorbar\":{\"outlinewidth\":0,\"ticks\":\"\"},\"colorscale\":[[0.0,\"#0d0887\"],[0.1111111111111111,\"#46039f\"],[0.2222222222222222,\"#7201a8\"],[0.3333333333333333,\"#9c179e\"],[0.4444444444444444,\"#bd3786\"],[0.5555555555555556,\"#d8576b\"],[0.6666666666666666,\"#ed7953\"],[0.7777777777777778,\"#fb9f3a\"],[0.8888888888888888,\"#fdca26\"],[1.0,\"#f0f921\"]],\"type\":\"heatmapgl\"}],\"histogram\":[{\"marker\":{\"pattern\":{\"fillmode\":\"overlay\",\"size\":10,\"solidity\":0.2}},\"type\":\"histogram\"}],\"histogram2d\":[{\"colorbar\":{\"outlinewidth\":0,\"ticks\":\"\"},\"colorscale\":[[0.0,\"#0d0887\"],[0.1111111111111111,\"#46039f\"],[0.2222222222222222,\"#7201a8\"],[0.3333333333333333,\"#9c179e\"],[0.4444444444444444,\"#bd3786\"],[0.5555555555555556,\"#d8576b\"],[0.6666666666666666,\"#ed7953\"],[0.7777777777777778,\"#fb9f3a\"],[0.8888888888888888,\"#fdca26\"],[1.0,\"#f0f921\"]],\"type\":\"histogram2d\"}],\"histogram2dcontour\":[{\"colorbar\":{\"outlinewidth\":0,\"ticks\":\"\"},\"colorscale\":[[0.0,\"#0d0887\"],[0.1111111111111111,\"#46039f\"],[0.2222222222222222,\"#7201a8\"],[0.3333333333333333,\"#9c179e\"],[0.4444444444444444,\"#bd3786\"],[0.5555555555555556,\"#d8576b\"],[0.6666666666666666,\"#ed7953\"],[0.7777777777777778,\"#fb9f3a\"],[0.8888888888888888,\"#fdca26\"],[1.0,\"#f0f921\"]],\"type\":\"histogram2dcontour\"}],\"mesh3d\":[{\"colorbar\":{\"outlinewidth\":0,\"ticks\":\"\"},\"type\":\"mesh3d\"}],\"parcoords\":[{\"line\":{\"colorbar\":{\"outlinewidth\":0,\"ticks\":\"\"}},\"type\":\"parcoords\"}],\"pie\":[{\"automargin\":true,\"type\":\"pie\"}],\"scatter\":[{\"marker\":{\"colorbar\":{\"outlinewidth\":0,\"ticks\":\"\"}},\"type\":\"scatter\"}],\"scatter3d\":[{\"line\":{\"colorbar\":{\"outlinewidth\":0,\"ticks\":\"\"}},\"marker\":{\"colorbar\":{\"outlinewidth\":0,\"ticks\":\"\"}},\"type\":\"scatter3d\"}],\"scattercarpet\":[{\"marker\":{\"colorbar\":{\"outlinewidth\":0,\"ticks\":\"\"}},\"type\":\"scattercarpet\"}],\"scattergeo\":[{\"marker\":{\"colorbar\":{\"outlinewidth\":0,\"ticks\":\"\"}},\"type\":\"scattergeo\"}],\"scattergl\":[{\"marker\":{\"colorbar\":{\"outlinewidth\":0,\"ticks\":\"\"}},\"type\":\"scattergl\"}],\"scattermapbox\":[{\"marker\":{\"colorbar\":{\"outlinewidth\":0,\"ticks\":\"\"}},\"type\":\"scattermapbox\"}],\"scatterpolar\":[{\"marker\":{\"colorbar\":{\"outlinewidth\":0,\"ticks\":\"\"}},\"type\":\"scatterpolar\"}],\"scatterpolargl\":[{\"marker\":{\"colorbar\":{\"outlinewidth\":0,\"ticks\":\"\"}},\"type\":\"scatterpolargl\"}],\"scatterternary\":[{\"marker\":{\"colorbar\":{\"outlinewidth\":0,\"ticks\":\"\"}},\"type\":\"scatterternary\"}],\"surface\":[{\"colorbar\":{\"outlinewidth\":0,\"ticks\":\"\"},\"colorscale\":[[0.0,\"#0d0887\"],[0.1111111111111111,\"#46039f\"],[0.2222222222222222,\"#7201a8\"],[0.3333333333333333,\"#9c179e\"],[0.4444444444444444,\"#bd3786\"],[0.5555555555555556,\"#d8576b\"],[0.6666666666666666,\"#ed7953\"],[0.7777777777777778,\"#fb9f3a\"],[0.8888888888888888,\"#fdca26\"],[1.0,\"#f0f921\"]],\"type\":\"surface\"}],\"table\":[{\"cells\":{\"fill\":{\"color\":\"#EBF0F8\"},\"line\":{\"color\":\"white\"}},\"header\":{\"fill\":{\"color\":\"#C8D4E3\"},\"line\":{\"color\":\"white\"}},\"type\":\"table\"}]},\"layout\":{\"annotationdefaults\":{\"arrowcolor\":\"#2a3f5f\",\"arrowhead\":0,\"arrowwidth\":1},\"autotypenumbers\":\"strict\",\"coloraxis\":{\"colorbar\":{\"outlinewidth\":0,\"ticks\":\"\"}},\"colorscale\":{\"diverging\":[[0,\"#8e0152\"],[0.1,\"#c51b7d\"],[0.2,\"#de77ae\"],[0.3,\"#f1b6da\"],[0.4,\"#fde0ef\"],[0.5,\"#f7f7f7\"],[0.6,\"#e6f5d0\"],[0.7,\"#b8e186\"],[0.8,\"#7fbc41\"],[0.9,\"#4d9221\"],[1,\"#276419\"]],\"sequential\":[[0.0,\"#0d0887\"],[0.1111111111111111,\"#46039f\"],[0.2222222222222222,\"#7201a8\"],[0.3333333333333333,\"#9c179e\"],[0.4444444444444444,\"#bd3786\"],[0.5555555555555556,\"#d8576b\"],[0.6666666666666666,\"#ed7953\"],[0.7777777777777778,\"#fb9f3a\"],[0.8888888888888888,\"#fdca26\"],[1.0,\"#f0f921\"]],\"sequentialminus\":[[0.0,\"#0d0887\"],[0.1111111111111111,\"#46039f\"],[0.2222222222222222,\"#7201a8\"],[0.3333333333333333,\"#9c179e\"],[0.4444444444444444,\"#bd3786\"],[0.5555555555555556,\"#d8576b\"],[0.6666666666666666,\"#ed7953\"],[0.7777777777777778,\"#fb9f3a\"],[0.8888888888888888,\"#fdca26\"],[1.0,\"#f0f921\"]]},\"colorway\":[\"#636efa\",\"#EF553B\",\"#00cc96\",\"#ab63fa\",\"#FFA15A\",\"#19d3f3\",\"#FF6692\",\"#B6E880\",\"#FF97FF\",\"#FECB52\"],\"font\":{\"color\":\"#2a3f5f\"},\"geo\":{\"bgcolor\":\"white\",\"lakecolor\":\"white\",\"landcolor\":\"#E5ECF6\",\"showlakes\":true,\"showland\":true,\"subunitcolor\":\"white\"},\"hoverlabel\":{\"align\":\"left\"},\"hovermode\":\"closest\",\"mapbox\":{\"style\":\"light\"},\"paper_bgcolor\":\"white\",\"plot_bgcolor\":\"#E5ECF6\",\"polar\":{\"angularaxis\":{\"gridcolor\":\"white\",\"linecolor\":\"white\",\"ticks\":\"\"},\"bgcolor\":\"#E5ECF6\",\"radialaxis\":{\"gridcolor\":\"white\",\"linecolor\":\"white\",\"ticks\":\"\"}},\"scene\":{\"xaxis\":{\"backgroundcolor\":\"#E5ECF6\",\"gridcolor\":\"white\",\"gridwidth\":2,\"linecolor\":\"white\",\"showbackground\":true,\"ticks\":\"\",\"zerolinecolor\":\"white\"},\"yaxis\":{\"backgroundcolor\":\"#E5ECF6\",\"gridcolor\":\"white\",\"gridwidth\":2,\"linecolor\":\"white\",\"showbackground\":true,\"ticks\":\"\",\"zerolinecolor\":\"white\"},\"zaxis\":{\"backgroundcolor\":\"#E5ECF6\",\"gridcolor\":\"white\",\"gridwidth\":2,\"linecolor\":\"white\",\"showbackground\":true,\"ticks\":\"\",\"zerolinecolor\":\"white\"}},\"shapedefaults\":{\"line\":{\"color\":\"#2a3f5f\"}},\"ternary\":{\"aaxis\":{\"gridcolor\":\"white\",\"linecolor\":\"white\",\"ticks\":\"\"},\"baxis\":{\"gridcolor\":\"white\",\"linecolor\":\"white\",\"ticks\":\"\"},\"bgcolor\":\"#E5ECF6\",\"caxis\":{\"gridcolor\":\"white\",\"linecolor\":\"white\",\"ticks\":\"\"}},\"title\":{\"x\":0.05},\"xaxis\":{\"automargin\":true,\"gridcolor\":\"white\",\"linecolor\":\"white\",\"ticks\":\"\",\"title\":{\"standoff\":15},\"zerolinecolor\":\"white\",\"zerolinewidth\":2},\"yaxis\":{\"automargin\":true,\"gridcolor\":\"white\",\"linecolor\":\"white\",\"ticks\":\"\",\"title\":{\"standoff\":15},\"zerolinecolor\":\"white\",\"zerolinewidth\":2}}},\"font\":{\"family\":\"Courier New, monospace\",\"size\":16,\"color\":\"RebeccaPurple\"},\"title\":{\"text\":\"Israeli and Tourist Visitors in Megido site\"},\"xaxis\":{\"title\":{\"text\":\"Date\"}},\"yaxis\":{\"title\":{\"text\":\"Visitors\"}}},                        {\"responsive\": true}                    ).then(function(){\n",
              "                            \n",
              "var gd = document.getElementById('6452958a-5b55-4d4b-90ef-07208c91fe51');\n",
              "var x = new MutationObserver(function (mutations, observer) {{\n",
              "        var display = window.getComputedStyle(gd).display;\n",
              "        if (!display || display === 'none') {{\n",
              "            console.log([gd, 'removed!']);\n",
              "            Plotly.purge(gd);\n",
              "            observer.disconnect();\n",
              "        }}\n",
              "}});\n",
              "\n",
              "// Listen for the removal of the full notebook cells\n",
              "var notebookContainer = gd.closest('#notebook-container');\n",
              "if (notebookContainer) {{\n",
              "    x.observe(notebookContainer, {childList: true});\n",
              "}}\n",
              "\n",
              "// Listen for the clearing of the current output cell\n",
              "var outputEl = gd.closest('.output');\n",
              "if (outputEl) {{\n",
              "    x.observe(outputEl, {childList: true});\n",
              "}}\n",
              "\n",
              "                        })                };                            </script>        </div>\n",
              "</body>\n",
              "</html>"
            ]
          },
          "metadata": {}
        }
      ]
    },
    {
      "cell_type": "code",
      "source": [
        "pm25_df = FinalTable_df.copy()\n",
        "pm25_df.loc[pm25_df['pm25'] >= 37.5, 'pm25'] = 1\n",
        "pm25_df.loc[pm25_df['pm25'] != 1, 'pm25'] = 0"
      ],
      "metadata": {
        "id": "tMQrbpdlDeNC"
      },
      "execution_count": 219,
      "outputs": []
    },
    {
      "cell_type": "code",
      "source": [
        "numofcases = pm25_df.pm25.value_counts()\n",
        "numofcases"
      ],
      "metadata": {
        "id": "zFVqixaBDejh",
        "colab": {
          "base_uri": "https://localhost:8080/"
        },
        "outputId": "8bc6ba9a-0f4d-4234-b107-d843c084da12"
      },
      "execution_count": 220,
      "outputs": [
        {
          "output_type": "execute_result",
          "data": {
            "text/plain": [
              "1.0    56132\n",
              "0.0     9971\n",
              "Name: pm25, dtype: int64"
            ]
          },
          "metadata": {},
          "execution_count": 220
        }
      ]
    },
    {
      "cell_type": "code",
      "source": [
        "precentage = [str(round(i/numofcases.sum()*100,2)) +'%' for i in numofcases]\n",
        "precentage"
      ],
      "metadata": {
        "id": "qpXKT0pmKnYW",
        "colab": {
          "base_uri": "https://localhost:8080/"
        },
        "outputId": "6a9617a4-3608-4b60-b506-0653153bd9c3"
      },
      "execution_count": 221,
      "outputs": [
        {
          "output_type": "execute_result",
          "data": {
            "text/plain": [
              "['84.92%', '15.08%']"
            ]
          },
          "metadata": {},
          "execution_count": 221
        }
      ]
    },
    {
      "cell_type": "code",
      "source": [
        "fig = go.Figure()\n",
        "fig.add_trace(go.Bar(\n",
        "    x=['Yes', 'No'],\n",
        "    y=numofcases,\n",
        "    marker_color=['red','green'],\n",
        "    text=precentage,\n",
        "    textposition='outside',\n",
        ")) \n",
        "fig.update_layout(\n",
        "    title='pm25 Air Pollution Days', \n",
        "    yaxis_title='Number of cases',\n",
        "    )\n",
        "fig.show()"
      ],
      "metadata": {
        "id": "hPA60ST5KqX_",
        "colab": {
          "base_uri": "https://localhost:8080/",
          "height": 0
        },
        "outputId": "59edb0c9-551e-407b-c400-3341aab2503e"
      },
      "execution_count": 222,
      "outputs": [
        {
          "output_type": "display_data",
          "data": {
            "text/html": [
              "<html>\n",
              "<head><meta charset=\"utf-8\" /></head>\n",
              "<body>\n",
              "    <div>            <script src=\"https://cdnjs.cloudflare.com/ajax/libs/mathjax/2.7.5/MathJax.js?config=TeX-AMS-MML_SVG\"></script><script type=\"text/javascript\">if (window.MathJax) {MathJax.Hub.Config({SVG: {font: \"STIX-Web\"}});}</script>                <script type=\"text/javascript\">window.PlotlyConfig = {MathJaxConfig: 'local'};</script>\n",
              "        <script src=\"https://cdn.plot.ly/plotly-2.8.3.min.js\"></script>                <div id=\"56684d22-2123-46f1-b5b2-4694146cc3b1\" class=\"plotly-graph-div\" style=\"height:525px; width:100%;\"></div>            <script type=\"text/javascript\">                                    window.PLOTLYENV=window.PLOTLYENV || {};                                    if (document.getElementById(\"56684d22-2123-46f1-b5b2-4694146cc3b1\")) {                    Plotly.newPlot(                        \"56684d22-2123-46f1-b5b2-4694146cc3b1\",                        [{\"marker\":{\"color\":[\"red\",\"green\"]},\"text\":[\"84.92%\",\"15.08%\"],\"textposition\":\"outside\",\"x\":[\"Yes\",\"No\"],\"y\":[56132,9971],\"type\":\"bar\"}],                        {\"template\":{\"data\":{\"bar\":[{\"error_x\":{\"color\":\"#2a3f5f\"},\"error_y\":{\"color\":\"#2a3f5f\"},\"marker\":{\"line\":{\"color\":\"#E5ECF6\",\"width\":0.5},\"pattern\":{\"fillmode\":\"overlay\",\"size\":10,\"solidity\":0.2}},\"type\":\"bar\"}],\"barpolar\":[{\"marker\":{\"line\":{\"color\":\"#E5ECF6\",\"width\":0.5},\"pattern\":{\"fillmode\":\"overlay\",\"size\":10,\"solidity\":0.2}},\"type\":\"barpolar\"}],\"carpet\":[{\"aaxis\":{\"endlinecolor\":\"#2a3f5f\",\"gridcolor\":\"white\",\"linecolor\":\"white\",\"minorgridcolor\":\"white\",\"startlinecolor\":\"#2a3f5f\"},\"baxis\":{\"endlinecolor\":\"#2a3f5f\",\"gridcolor\":\"white\",\"linecolor\":\"white\",\"minorgridcolor\":\"white\",\"startlinecolor\":\"#2a3f5f\"},\"type\":\"carpet\"}],\"choropleth\":[{\"colorbar\":{\"outlinewidth\":0,\"ticks\":\"\"},\"type\":\"choropleth\"}],\"contour\":[{\"colorbar\":{\"outlinewidth\":0,\"ticks\":\"\"},\"colorscale\":[[0.0,\"#0d0887\"],[0.1111111111111111,\"#46039f\"],[0.2222222222222222,\"#7201a8\"],[0.3333333333333333,\"#9c179e\"],[0.4444444444444444,\"#bd3786\"],[0.5555555555555556,\"#d8576b\"],[0.6666666666666666,\"#ed7953\"],[0.7777777777777778,\"#fb9f3a\"],[0.8888888888888888,\"#fdca26\"],[1.0,\"#f0f921\"]],\"type\":\"contour\"}],\"contourcarpet\":[{\"colorbar\":{\"outlinewidth\":0,\"ticks\":\"\"},\"type\":\"contourcarpet\"}],\"heatmap\":[{\"colorbar\":{\"outlinewidth\":0,\"ticks\":\"\"},\"colorscale\":[[0.0,\"#0d0887\"],[0.1111111111111111,\"#46039f\"],[0.2222222222222222,\"#7201a8\"],[0.3333333333333333,\"#9c179e\"],[0.4444444444444444,\"#bd3786\"],[0.5555555555555556,\"#d8576b\"],[0.6666666666666666,\"#ed7953\"],[0.7777777777777778,\"#fb9f3a\"],[0.8888888888888888,\"#fdca26\"],[1.0,\"#f0f921\"]],\"type\":\"heatmap\"}],\"heatmapgl\":[{\"colorbar\":{\"outlinewidth\":0,\"ticks\":\"\"},\"colorscale\":[[0.0,\"#0d0887\"],[0.1111111111111111,\"#46039f\"],[0.2222222222222222,\"#7201a8\"],[0.3333333333333333,\"#9c179e\"],[0.4444444444444444,\"#bd3786\"],[0.5555555555555556,\"#d8576b\"],[0.6666666666666666,\"#ed7953\"],[0.7777777777777778,\"#fb9f3a\"],[0.8888888888888888,\"#fdca26\"],[1.0,\"#f0f921\"]],\"type\":\"heatmapgl\"}],\"histogram\":[{\"marker\":{\"pattern\":{\"fillmode\":\"overlay\",\"size\":10,\"solidity\":0.2}},\"type\":\"histogram\"}],\"histogram2d\":[{\"colorbar\":{\"outlinewidth\":0,\"ticks\":\"\"},\"colorscale\":[[0.0,\"#0d0887\"],[0.1111111111111111,\"#46039f\"],[0.2222222222222222,\"#7201a8\"],[0.3333333333333333,\"#9c179e\"],[0.4444444444444444,\"#bd3786\"],[0.5555555555555556,\"#d8576b\"],[0.6666666666666666,\"#ed7953\"],[0.7777777777777778,\"#fb9f3a\"],[0.8888888888888888,\"#fdca26\"],[1.0,\"#f0f921\"]],\"type\":\"histogram2d\"}],\"histogram2dcontour\":[{\"colorbar\":{\"outlinewidth\":0,\"ticks\":\"\"},\"colorscale\":[[0.0,\"#0d0887\"],[0.1111111111111111,\"#46039f\"],[0.2222222222222222,\"#7201a8\"],[0.3333333333333333,\"#9c179e\"],[0.4444444444444444,\"#bd3786\"],[0.5555555555555556,\"#d8576b\"],[0.6666666666666666,\"#ed7953\"],[0.7777777777777778,\"#fb9f3a\"],[0.8888888888888888,\"#fdca26\"],[1.0,\"#f0f921\"]],\"type\":\"histogram2dcontour\"}],\"mesh3d\":[{\"colorbar\":{\"outlinewidth\":0,\"ticks\":\"\"},\"type\":\"mesh3d\"}],\"parcoords\":[{\"line\":{\"colorbar\":{\"outlinewidth\":0,\"ticks\":\"\"}},\"type\":\"parcoords\"}],\"pie\":[{\"automargin\":true,\"type\":\"pie\"}],\"scatter\":[{\"marker\":{\"colorbar\":{\"outlinewidth\":0,\"ticks\":\"\"}},\"type\":\"scatter\"}],\"scatter3d\":[{\"line\":{\"colorbar\":{\"outlinewidth\":0,\"ticks\":\"\"}},\"marker\":{\"colorbar\":{\"outlinewidth\":0,\"ticks\":\"\"}},\"type\":\"scatter3d\"}],\"scattercarpet\":[{\"marker\":{\"colorbar\":{\"outlinewidth\":0,\"ticks\":\"\"}},\"type\":\"scattercarpet\"}],\"scattergeo\":[{\"marker\":{\"colorbar\":{\"outlinewidth\":0,\"ticks\":\"\"}},\"type\":\"scattergeo\"}],\"scattergl\":[{\"marker\":{\"colorbar\":{\"outlinewidth\":0,\"ticks\":\"\"}},\"type\":\"scattergl\"}],\"scattermapbox\":[{\"marker\":{\"colorbar\":{\"outlinewidth\":0,\"ticks\":\"\"}},\"type\":\"scattermapbox\"}],\"scatterpolar\":[{\"marker\":{\"colorbar\":{\"outlinewidth\":0,\"ticks\":\"\"}},\"type\":\"scatterpolar\"}],\"scatterpolargl\":[{\"marker\":{\"colorbar\":{\"outlinewidth\":0,\"ticks\":\"\"}},\"type\":\"scatterpolargl\"}],\"scatterternary\":[{\"marker\":{\"colorbar\":{\"outlinewidth\":0,\"ticks\":\"\"}},\"type\":\"scatterternary\"}],\"surface\":[{\"colorbar\":{\"outlinewidth\":0,\"ticks\":\"\"},\"colorscale\":[[0.0,\"#0d0887\"],[0.1111111111111111,\"#46039f\"],[0.2222222222222222,\"#7201a8\"],[0.3333333333333333,\"#9c179e\"],[0.4444444444444444,\"#bd3786\"],[0.5555555555555556,\"#d8576b\"],[0.6666666666666666,\"#ed7953\"],[0.7777777777777778,\"#fb9f3a\"],[0.8888888888888888,\"#fdca26\"],[1.0,\"#f0f921\"]],\"type\":\"surface\"}],\"table\":[{\"cells\":{\"fill\":{\"color\":\"#EBF0F8\"},\"line\":{\"color\":\"white\"}},\"header\":{\"fill\":{\"color\":\"#C8D4E3\"},\"line\":{\"color\":\"white\"}},\"type\":\"table\"}]},\"layout\":{\"annotationdefaults\":{\"arrowcolor\":\"#2a3f5f\",\"arrowhead\":0,\"arrowwidth\":1},\"autotypenumbers\":\"strict\",\"coloraxis\":{\"colorbar\":{\"outlinewidth\":0,\"ticks\":\"\"}},\"colorscale\":{\"diverging\":[[0,\"#8e0152\"],[0.1,\"#c51b7d\"],[0.2,\"#de77ae\"],[0.3,\"#f1b6da\"],[0.4,\"#fde0ef\"],[0.5,\"#f7f7f7\"],[0.6,\"#e6f5d0\"],[0.7,\"#b8e186\"],[0.8,\"#7fbc41\"],[0.9,\"#4d9221\"],[1,\"#276419\"]],\"sequential\":[[0.0,\"#0d0887\"],[0.1111111111111111,\"#46039f\"],[0.2222222222222222,\"#7201a8\"],[0.3333333333333333,\"#9c179e\"],[0.4444444444444444,\"#bd3786\"],[0.5555555555555556,\"#d8576b\"],[0.6666666666666666,\"#ed7953\"],[0.7777777777777778,\"#fb9f3a\"],[0.8888888888888888,\"#fdca26\"],[1.0,\"#f0f921\"]],\"sequentialminus\":[[0.0,\"#0d0887\"],[0.1111111111111111,\"#46039f\"],[0.2222222222222222,\"#7201a8\"],[0.3333333333333333,\"#9c179e\"],[0.4444444444444444,\"#bd3786\"],[0.5555555555555556,\"#d8576b\"],[0.6666666666666666,\"#ed7953\"],[0.7777777777777778,\"#fb9f3a\"],[0.8888888888888888,\"#fdca26\"],[1.0,\"#f0f921\"]]},\"colorway\":[\"#636efa\",\"#EF553B\",\"#00cc96\",\"#ab63fa\",\"#FFA15A\",\"#19d3f3\",\"#FF6692\",\"#B6E880\",\"#FF97FF\",\"#FECB52\"],\"font\":{\"color\":\"#2a3f5f\"},\"geo\":{\"bgcolor\":\"white\",\"lakecolor\":\"white\",\"landcolor\":\"#E5ECF6\",\"showlakes\":true,\"showland\":true,\"subunitcolor\":\"white\"},\"hoverlabel\":{\"align\":\"left\"},\"hovermode\":\"closest\",\"mapbox\":{\"style\":\"light\"},\"paper_bgcolor\":\"white\",\"plot_bgcolor\":\"#E5ECF6\",\"polar\":{\"angularaxis\":{\"gridcolor\":\"white\",\"linecolor\":\"white\",\"ticks\":\"\"},\"bgcolor\":\"#E5ECF6\",\"radialaxis\":{\"gridcolor\":\"white\",\"linecolor\":\"white\",\"ticks\":\"\"}},\"scene\":{\"xaxis\":{\"backgroundcolor\":\"#E5ECF6\",\"gridcolor\":\"white\",\"gridwidth\":2,\"linecolor\":\"white\",\"showbackground\":true,\"ticks\":\"\",\"zerolinecolor\":\"white\"},\"yaxis\":{\"backgroundcolor\":\"#E5ECF6\",\"gridcolor\":\"white\",\"gridwidth\":2,\"linecolor\":\"white\",\"showbackground\":true,\"ticks\":\"\",\"zerolinecolor\":\"white\"},\"zaxis\":{\"backgroundcolor\":\"#E5ECF6\",\"gridcolor\":\"white\",\"gridwidth\":2,\"linecolor\":\"white\",\"showbackground\":true,\"ticks\":\"\",\"zerolinecolor\":\"white\"}},\"shapedefaults\":{\"line\":{\"color\":\"#2a3f5f\"}},\"ternary\":{\"aaxis\":{\"gridcolor\":\"white\",\"linecolor\":\"white\",\"ticks\":\"\"},\"baxis\":{\"gridcolor\":\"white\",\"linecolor\":\"white\",\"ticks\":\"\"},\"bgcolor\":\"#E5ECF6\",\"caxis\":{\"gridcolor\":\"white\",\"linecolor\":\"white\",\"ticks\":\"\"}},\"title\":{\"x\":0.05},\"xaxis\":{\"automargin\":true,\"gridcolor\":\"white\",\"linecolor\":\"white\",\"ticks\":\"\",\"title\":{\"standoff\":15},\"zerolinecolor\":\"white\",\"zerolinewidth\":2},\"yaxis\":{\"automargin\":true,\"gridcolor\":\"white\",\"linecolor\":\"white\",\"ticks\":\"\",\"title\":{\"standoff\":15},\"zerolinecolor\":\"white\",\"zerolinewidth\":2}}},\"title\":{\"text\":\"pm25 Air Pollution Days\"},\"yaxis\":{\"title\":{\"text\":\"Number of cases\"}}},                        {\"responsive\": true}                    ).then(function(){\n",
              "                            \n",
              "var gd = document.getElementById('56684d22-2123-46f1-b5b2-4694146cc3b1');\n",
              "var x = new MutationObserver(function (mutations, observer) {{\n",
              "        var display = window.getComputedStyle(gd).display;\n",
              "        if (!display || display === 'none') {{\n",
              "            console.log([gd, 'removed!']);\n",
              "            Plotly.purge(gd);\n",
              "            observer.disconnect();\n",
              "        }}\n",
              "}});\n",
              "\n",
              "// Listen for the removal of the full notebook cells\n",
              "var notebookContainer = gd.closest('#notebook-container');\n",
              "if (notebookContainer) {{\n",
              "    x.observe(notebookContainer, {childList: true});\n",
              "}}\n",
              "\n",
              "// Listen for the clearing of the current output cell\n",
              "var outputEl = gd.closest('.output');\n",
              "if (outputEl) {{\n",
              "    x.observe(outputEl, {childList: true});\n",
              "}}\n",
              "\n",
              "                        })                };                            </script>        </div>\n",
              "</body>\n",
              "</html>"
            ]
          },
          "metadata": {}
        }
      ]
    },
    {
      "cell_type": "code",
      "source": [
        "pm10_df = FinalTable_df.copy()\n",
        "pm10_df.loc[pm10_df['pm10'] >= 130, 'pm10'] = 1\n",
        "pm10_df.loc[pm10_df['pm10'] != 1, 'pm10'] = 0"
      ],
      "metadata": {
        "id": "Y9yODcNlP6Is"
      },
      "execution_count": 223,
      "outputs": []
    },
    {
      "cell_type": "code",
      "source": [
        "numofcases2 = pm10_df.pm10.value_counts()\n",
        "numofcases2"
      ],
      "metadata": {
        "id": "dKB0eOBuP6GW",
        "colab": {
          "base_uri": "https://localhost:8080/"
        },
        "outputId": "df683921-6a2d-4982-c789-da8ac5d45207"
      },
      "execution_count": 224,
      "outputs": [
        {
          "output_type": "execute_result",
          "data": {
            "text/plain": [
              "0.0    65584\n",
              "1.0      519\n",
              "Name: pm10, dtype: int64"
            ]
          },
          "metadata": {},
          "execution_count": 224
        }
      ]
    },
    {
      "cell_type": "code",
      "source": [
        "precentage2 = [str(round(i/numofcases2.sum()*100,2)) +'%' for i in numofcases2]\n",
        "precentage2"
      ],
      "metadata": {
        "id": "cQU72C_hP6Dz",
        "colab": {
          "base_uri": "https://localhost:8080/"
        },
        "outputId": "f1c1a701-5562-446a-c058-f0ecd088943d"
      },
      "execution_count": 225,
      "outputs": [
        {
          "output_type": "execute_result",
          "data": {
            "text/plain": [
              "['99.21%', '0.79%']"
            ]
          },
          "metadata": {},
          "execution_count": 225
        }
      ]
    },
    {
      "cell_type": "code",
      "source": [
        "fig = go.Figure()\n",
        "fig.add_trace(go.Bar(\n",
        "    x=['No', 'Yes'],\n",
        "    y=numofcases2,\n",
        "    marker_color=['green','red'],\n",
        "    text=precentage2,\n",
        "    textposition='outside',\n",
        ")) \n",
        "fig.update_layout(\n",
        "    title='pm10 Air Pollution Days', \n",
        "    yaxis_title='Number of cases',\n",
        "    )\n",
        "fig.show()"
      ],
      "metadata": {
        "id": "OnZcgbF3P6Bl",
        "colab": {
          "base_uri": "https://localhost:8080/",
          "height": 0
        },
        "outputId": "2b7b577f-0686-47ba-bb01-2437dbd6b2b3"
      },
      "execution_count": 226,
      "outputs": [
        {
          "output_type": "display_data",
          "data": {
            "text/html": [
              "<html>\n",
              "<head><meta charset=\"utf-8\" /></head>\n",
              "<body>\n",
              "    <div>            <script src=\"https://cdnjs.cloudflare.com/ajax/libs/mathjax/2.7.5/MathJax.js?config=TeX-AMS-MML_SVG\"></script><script type=\"text/javascript\">if (window.MathJax) {MathJax.Hub.Config({SVG: {font: \"STIX-Web\"}});}</script>                <script type=\"text/javascript\">window.PlotlyConfig = {MathJaxConfig: 'local'};</script>\n",
              "        <script src=\"https://cdn.plot.ly/plotly-2.8.3.min.js\"></script>                <div id=\"d537c99b-3ae5-452d-8bce-1a061e3209c7\" class=\"plotly-graph-div\" style=\"height:525px; width:100%;\"></div>            <script type=\"text/javascript\">                                    window.PLOTLYENV=window.PLOTLYENV || {};                                    if (document.getElementById(\"d537c99b-3ae5-452d-8bce-1a061e3209c7\")) {                    Plotly.newPlot(                        \"d537c99b-3ae5-452d-8bce-1a061e3209c7\",                        [{\"marker\":{\"color\":[\"green\",\"red\"]},\"text\":[\"99.21%\",\"0.79%\"],\"textposition\":\"outside\",\"x\":[\"No\",\"Yes\"],\"y\":[65584,519],\"type\":\"bar\"}],                        {\"template\":{\"data\":{\"bar\":[{\"error_x\":{\"color\":\"#2a3f5f\"},\"error_y\":{\"color\":\"#2a3f5f\"},\"marker\":{\"line\":{\"color\":\"#E5ECF6\",\"width\":0.5},\"pattern\":{\"fillmode\":\"overlay\",\"size\":10,\"solidity\":0.2}},\"type\":\"bar\"}],\"barpolar\":[{\"marker\":{\"line\":{\"color\":\"#E5ECF6\",\"width\":0.5},\"pattern\":{\"fillmode\":\"overlay\",\"size\":10,\"solidity\":0.2}},\"type\":\"barpolar\"}],\"carpet\":[{\"aaxis\":{\"endlinecolor\":\"#2a3f5f\",\"gridcolor\":\"white\",\"linecolor\":\"white\",\"minorgridcolor\":\"white\",\"startlinecolor\":\"#2a3f5f\"},\"baxis\":{\"endlinecolor\":\"#2a3f5f\",\"gridcolor\":\"white\",\"linecolor\":\"white\",\"minorgridcolor\":\"white\",\"startlinecolor\":\"#2a3f5f\"},\"type\":\"carpet\"}],\"choropleth\":[{\"colorbar\":{\"outlinewidth\":0,\"ticks\":\"\"},\"type\":\"choropleth\"}],\"contour\":[{\"colorbar\":{\"outlinewidth\":0,\"ticks\":\"\"},\"colorscale\":[[0.0,\"#0d0887\"],[0.1111111111111111,\"#46039f\"],[0.2222222222222222,\"#7201a8\"],[0.3333333333333333,\"#9c179e\"],[0.4444444444444444,\"#bd3786\"],[0.5555555555555556,\"#d8576b\"],[0.6666666666666666,\"#ed7953\"],[0.7777777777777778,\"#fb9f3a\"],[0.8888888888888888,\"#fdca26\"],[1.0,\"#f0f921\"]],\"type\":\"contour\"}],\"contourcarpet\":[{\"colorbar\":{\"outlinewidth\":0,\"ticks\":\"\"},\"type\":\"contourcarpet\"}],\"heatmap\":[{\"colorbar\":{\"outlinewidth\":0,\"ticks\":\"\"},\"colorscale\":[[0.0,\"#0d0887\"],[0.1111111111111111,\"#46039f\"],[0.2222222222222222,\"#7201a8\"],[0.3333333333333333,\"#9c179e\"],[0.4444444444444444,\"#bd3786\"],[0.5555555555555556,\"#d8576b\"],[0.6666666666666666,\"#ed7953\"],[0.7777777777777778,\"#fb9f3a\"],[0.8888888888888888,\"#fdca26\"],[1.0,\"#f0f921\"]],\"type\":\"heatmap\"}],\"heatmapgl\":[{\"colorbar\":{\"outlinewidth\":0,\"ticks\":\"\"},\"colorscale\":[[0.0,\"#0d0887\"],[0.1111111111111111,\"#46039f\"],[0.2222222222222222,\"#7201a8\"],[0.3333333333333333,\"#9c179e\"],[0.4444444444444444,\"#bd3786\"],[0.5555555555555556,\"#d8576b\"],[0.6666666666666666,\"#ed7953\"],[0.7777777777777778,\"#fb9f3a\"],[0.8888888888888888,\"#fdca26\"],[1.0,\"#f0f921\"]],\"type\":\"heatmapgl\"}],\"histogram\":[{\"marker\":{\"pattern\":{\"fillmode\":\"overlay\",\"size\":10,\"solidity\":0.2}},\"type\":\"histogram\"}],\"histogram2d\":[{\"colorbar\":{\"outlinewidth\":0,\"ticks\":\"\"},\"colorscale\":[[0.0,\"#0d0887\"],[0.1111111111111111,\"#46039f\"],[0.2222222222222222,\"#7201a8\"],[0.3333333333333333,\"#9c179e\"],[0.4444444444444444,\"#bd3786\"],[0.5555555555555556,\"#d8576b\"],[0.6666666666666666,\"#ed7953\"],[0.7777777777777778,\"#fb9f3a\"],[0.8888888888888888,\"#fdca26\"],[1.0,\"#f0f921\"]],\"type\":\"histogram2d\"}],\"histogram2dcontour\":[{\"colorbar\":{\"outlinewidth\":0,\"ticks\":\"\"},\"colorscale\":[[0.0,\"#0d0887\"],[0.1111111111111111,\"#46039f\"],[0.2222222222222222,\"#7201a8\"],[0.3333333333333333,\"#9c179e\"],[0.4444444444444444,\"#bd3786\"],[0.5555555555555556,\"#d8576b\"],[0.6666666666666666,\"#ed7953\"],[0.7777777777777778,\"#fb9f3a\"],[0.8888888888888888,\"#fdca26\"],[1.0,\"#f0f921\"]],\"type\":\"histogram2dcontour\"}],\"mesh3d\":[{\"colorbar\":{\"outlinewidth\":0,\"ticks\":\"\"},\"type\":\"mesh3d\"}],\"parcoords\":[{\"line\":{\"colorbar\":{\"outlinewidth\":0,\"ticks\":\"\"}},\"type\":\"parcoords\"}],\"pie\":[{\"automargin\":true,\"type\":\"pie\"}],\"scatter\":[{\"marker\":{\"colorbar\":{\"outlinewidth\":0,\"ticks\":\"\"}},\"type\":\"scatter\"}],\"scatter3d\":[{\"line\":{\"colorbar\":{\"outlinewidth\":0,\"ticks\":\"\"}},\"marker\":{\"colorbar\":{\"outlinewidth\":0,\"ticks\":\"\"}},\"type\":\"scatter3d\"}],\"scattercarpet\":[{\"marker\":{\"colorbar\":{\"outlinewidth\":0,\"ticks\":\"\"}},\"type\":\"scattercarpet\"}],\"scattergeo\":[{\"marker\":{\"colorbar\":{\"outlinewidth\":0,\"ticks\":\"\"}},\"type\":\"scattergeo\"}],\"scattergl\":[{\"marker\":{\"colorbar\":{\"outlinewidth\":0,\"ticks\":\"\"}},\"type\":\"scattergl\"}],\"scattermapbox\":[{\"marker\":{\"colorbar\":{\"outlinewidth\":0,\"ticks\":\"\"}},\"type\":\"scattermapbox\"}],\"scatterpolar\":[{\"marker\":{\"colorbar\":{\"outlinewidth\":0,\"ticks\":\"\"}},\"type\":\"scatterpolar\"}],\"scatterpolargl\":[{\"marker\":{\"colorbar\":{\"outlinewidth\":0,\"ticks\":\"\"}},\"type\":\"scatterpolargl\"}],\"scatterternary\":[{\"marker\":{\"colorbar\":{\"outlinewidth\":0,\"ticks\":\"\"}},\"type\":\"scatterternary\"}],\"surface\":[{\"colorbar\":{\"outlinewidth\":0,\"ticks\":\"\"},\"colorscale\":[[0.0,\"#0d0887\"],[0.1111111111111111,\"#46039f\"],[0.2222222222222222,\"#7201a8\"],[0.3333333333333333,\"#9c179e\"],[0.4444444444444444,\"#bd3786\"],[0.5555555555555556,\"#d8576b\"],[0.6666666666666666,\"#ed7953\"],[0.7777777777777778,\"#fb9f3a\"],[0.8888888888888888,\"#fdca26\"],[1.0,\"#f0f921\"]],\"type\":\"surface\"}],\"table\":[{\"cells\":{\"fill\":{\"color\":\"#EBF0F8\"},\"line\":{\"color\":\"white\"}},\"header\":{\"fill\":{\"color\":\"#C8D4E3\"},\"line\":{\"color\":\"white\"}},\"type\":\"table\"}]},\"layout\":{\"annotationdefaults\":{\"arrowcolor\":\"#2a3f5f\",\"arrowhead\":0,\"arrowwidth\":1},\"autotypenumbers\":\"strict\",\"coloraxis\":{\"colorbar\":{\"outlinewidth\":0,\"ticks\":\"\"}},\"colorscale\":{\"diverging\":[[0,\"#8e0152\"],[0.1,\"#c51b7d\"],[0.2,\"#de77ae\"],[0.3,\"#f1b6da\"],[0.4,\"#fde0ef\"],[0.5,\"#f7f7f7\"],[0.6,\"#e6f5d0\"],[0.7,\"#b8e186\"],[0.8,\"#7fbc41\"],[0.9,\"#4d9221\"],[1,\"#276419\"]],\"sequential\":[[0.0,\"#0d0887\"],[0.1111111111111111,\"#46039f\"],[0.2222222222222222,\"#7201a8\"],[0.3333333333333333,\"#9c179e\"],[0.4444444444444444,\"#bd3786\"],[0.5555555555555556,\"#d8576b\"],[0.6666666666666666,\"#ed7953\"],[0.7777777777777778,\"#fb9f3a\"],[0.8888888888888888,\"#fdca26\"],[1.0,\"#f0f921\"]],\"sequentialminus\":[[0.0,\"#0d0887\"],[0.1111111111111111,\"#46039f\"],[0.2222222222222222,\"#7201a8\"],[0.3333333333333333,\"#9c179e\"],[0.4444444444444444,\"#bd3786\"],[0.5555555555555556,\"#d8576b\"],[0.6666666666666666,\"#ed7953\"],[0.7777777777777778,\"#fb9f3a\"],[0.8888888888888888,\"#fdca26\"],[1.0,\"#f0f921\"]]},\"colorway\":[\"#636efa\",\"#EF553B\",\"#00cc96\",\"#ab63fa\",\"#FFA15A\",\"#19d3f3\",\"#FF6692\",\"#B6E880\",\"#FF97FF\",\"#FECB52\"],\"font\":{\"color\":\"#2a3f5f\"},\"geo\":{\"bgcolor\":\"white\",\"lakecolor\":\"white\",\"landcolor\":\"#E5ECF6\",\"showlakes\":true,\"showland\":true,\"subunitcolor\":\"white\"},\"hoverlabel\":{\"align\":\"left\"},\"hovermode\":\"closest\",\"mapbox\":{\"style\":\"light\"},\"paper_bgcolor\":\"white\",\"plot_bgcolor\":\"#E5ECF6\",\"polar\":{\"angularaxis\":{\"gridcolor\":\"white\",\"linecolor\":\"white\",\"ticks\":\"\"},\"bgcolor\":\"#E5ECF6\",\"radialaxis\":{\"gridcolor\":\"white\",\"linecolor\":\"white\",\"ticks\":\"\"}},\"scene\":{\"xaxis\":{\"backgroundcolor\":\"#E5ECF6\",\"gridcolor\":\"white\",\"gridwidth\":2,\"linecolor\":\"white\",\"showbackground\":true,\"ticks\":\"\",\"zerolinecolor\":\"white\"},\"yaxis\":{\"backgroundcolor\":\"#E5ECF6\",\"gridcolor\":\"white\",\"gridwidth\":2,\"linecolor\":\"white\",\"showbackground\":true,\"ticks\":\"\",\"zerolinecolor\":\"white\"},\"zaxis\":{\"backgroundcolor\":\"#E5ECF6\",\"gridcolor\":\"white\",\"gridwidth\":2,\"linecolor\":\"white\",\"showbackground\":true,\"ticks\":\"\",\"zerolinecolor\":\"white\"}},\"shapedefaults\":{\"line\":{\"color\":\"#2a3f5f\"}},\"ternary\":{\"aaxis\":{\"gridcolor\":\"white\",\"linecolor\":\"white\",\"ticks\":\"\"},\"baxis\":{\"gridcolor\":\"white\",\"linecolor\":\"white\",\"ticks\":\"\"},\"bgcolor\":\"#E5ECF6\",\"caxis\":{\"gridcolor\":\"white\",\"linecolor\":\"white\",\"ticks\":\"\"}},\"title\":{\"x\":0.05},\"xaxis\":{\"automargin\":true,\"gridcolor\":\"white\",\"linecolor\":\"white\",\"ticks\":\"\",\"title\":{\"standoff\":15},\"zerolinecolor\":\"white\",\"zerolinewidth\":2},\"yaxis\":{\"automargin\":true,\"gridcolor\":\"white\",\"linecolor\":\"white\",\"ticks\":\"\",\"title\":{\"standoff\":15},\"zerolinecolor\":\"white\",\"zerolinewidth\":2}}},\"title\":{\"text\":\"pm10 Air Pollution Days\"},\"yaxis\":{\"title\":{\"text\":\"Number of cases\"}}},                        {\"responsive\": true}                    ).then(function(){\n",
              "                            \n",
              "var gd = document.getElementById('d537c99b-3ae5-452d-8bce-1a061e3209c7');\n",
              "var x = new MutationObserver(function (mutations, observer) {{\n",
              "        var display = window.getComputedStyle(gd).display;\n",
              "        if (!display || display === 'none') {{\n",
              "            console.log([gd, 'removed!']);\n",
              "            Plotly.purge(gd);\n",
              "            observer.disconnect();\n",
              "        }}\n",
              "}});\n",
              "\n",
              "// Listen for the removal of the full notebook cells\n",
              "var notebookContainer = gd.closest('#notebook-container');\n",
              "if (notebookContainer) {{\n",
              "    x.observe(notebookContainer, {childList: true});\n",
              "}}\n",
              "\n",
              "// Listen for the clearing of the current output cell\n",
              "var outputEl = gd.closest('.output');\n",
              "if (outputEl) {{\n",
              "    x.observe(outputEl, {childList: true});\n",
              "}}\n",
              "\n",
              "                        })                };                            </script>        </div>\n",
              "</body>\n",
              "</html>"
            ]
          },
          "metadata": {}
        }
      ]
    },
    {
      "cell_type": "code",
      "source": [
        "no2_df = FinalTable_df.copy()\n",
        "no2_df.loc[no2_df['no2'] >= 200, 'no2'] = 1\n",
        "no2_df.loc[no2_df['no2'] != 1, 'no2'] = 0"
      ],
      "metadata": {
        "id": "6QqW-iKgP5_Z"
      },
      "execution_count": 227,
      "outputs": []
    },
    {
      "cell_type": "code",
      "source": [
        "numofcases3 = no2_df.no2.value_counts()\n",
        "numofcases3"
      ],
      "metadata": {
        "id": "IJ5cDLvmRI4N",
        "colab": {
          "base_uri": "https://localhost:8080/"
        },
        "outputId": "cc950ce6-6464-4bb5-b1a5-7aeb622c2c36"
      },
      "execution_count": 228,
      "outputs": [
        {
          "output_type": "execute_result",
          "data": {
            "text/plain": [
              "0.0    64176\n",
              "1.0     1927\n",
              "Name: no2, dtype: int64"
            ]
          },
          "metadata": {},
          "execution_count": 228
        }
      ]
    },
    {
      "cell_type": "code",
      "source": [
        "precentage3 = [str(round(i/numofcases3.sum()*100,2)) +'%' for i in numofcases3]\n",
        "precentage3"
      ],
      "metadata": {
        "id": "Ewvjgo0YRI15",
        "colab": {
          "base_uri": "https://localhost:8080/"
        },
        "outputId": "af62946d-287a-42cb-9323-aa3b85dbd601"
      },
      "execution_count": 229,
      "outputs": [
        {
          "output_type": "execute_result",
          "data": {
            "text/plain": [
              "['97.08%', '2.92%']"
            ]
          },
          "metadata": {},
          "execution_count": 229
        }
      ]
    },
    {
      "cell_type": "code",
      "source": [
        "fig = go.Figure()\n",
        "fig.add_trace(go.Bar(\n",
        "    x=['No', 'Yes'],\n",
        "    y=numofcases3,\n",
        "    marker_color=['green','red'],\n",
        "    text=precentage3,\n",
        "    textposition='outside',\n",
        ")) \n",
        "fig.update_layout(\n",
        "    title='no2 Air Pollution Days', \n",
        "    yaxis_title='Number of cases',\n",
        "    )\n",
        "fig.show()"
      ],
      "metadata": {
        "id": "IgwqC5WDRIzU",
        "colab": {
          "base_uri": "https://localhost:8080/",
          "height": 0
        },
        "outputId": "73ab6fb4-d3c2-4daa-d0c8-422430a5b7d1"
      },
      "execution_count": 230,
      "outputs": [
        {
          "output_type": "display_data",
          "data": {
            "text/html": [
              "<html>\n",
              "<head><meta charset=\"utf-8\" /></head>\n",
              "<body>\n",
              "    <div>            <script src=\"https://cdnjs.cloudflare.com/ajax/libs/mathjax/2.7.5/MathJax.js?config=TeX-AMS-MML_SVG\"></script><script type=\"text/javascript\">if (window.MathJax) {MathJax.Hub.Config({SVG: {font: \"STIX-Web\"}});}</script>                <script type=\"text/javascript\">window.PlotlyConfig = {MathJaxConfig: 'local'};</script>\n",
              "        <script src=\"https://cdn.plot.ly/plotly-2.8.3.min.js\"></script>                <div id=\"2179cd40-4e02-4e60-ac62-1c9ee278b376\" class=\"plotly-graph-div\" style=\"height:525px; width:100%;\"></div>            <script type=\"text/javascript\">                                    window.PLOTLYENV=window.PLOTLYENV || {};                                    if (document.getElementById(\"2179cd40-4e02-4e60-ac62-1c9ee278b376\")) {                    Plotly.newPlot(                        \"2179cd40-4e02-4e60-ac62-1c9ee278b376\",                        [{\"marker\":{\"color\":[\"green\",\"red\"]},\"text\":[\"97.08%\",\"2.92%\"],\"textposition\":\"outside\",\"x\":[\"No\",\"Yes\"],\"y\":[64176,1927],\"type\":\"bar\"}],                        {\"template\":{\"data\":{\"bar\":[{\"error_x\":{\"color\":\"#2a3f5f\"},\"error_y\":{\"color\":\"#2a3f5f\"},\"marker\":{\"line\":{\"color\":\"#E5ECF6\",\"width\":0.5},\"pattern\":{\"fillmode\":\"overlay\",\"size\":10,\"solidity\":0.2}},\"type\":\"bar\"}],\"barpolar\":[{\"marker\":{\"line\":{\"color\":\"#E5ECF6\",\"width\":0.5},\"pattern\":{\"fillmode\":\"overlay\",\"size\":10,\"solidity\":0.2}},\"type\":\"barpolar\"}],\"carpet\":[{\"aaxis\":{\"endlinecolor\":\"#2a3f5f\",\"gridcolor\":\"white\",\"linecolor\":\"white\",\"minorgridcolor\":\"white\",\"startlinecolor\":\"#2a3f5f\"},\"baxis\":{\"endlinecolor\":\"#2a3f5f\",\"gridcolor\":\"white\",\"linecolor\":\"white\",\"minorgridcolor\":\"white\",\"startlinecolor\":\"#2a3f5f\"},\"type\":\"carpet\"}],\"choropleth\":[{\"colorbar\":{\"outlinewidth\":0,\"ticks\":\"\"},\"type\":\"choropleth\"}],\"contour\":[{\"colorbar\":{\"outlinewidth\":0,\"ticks\":\"\"},\"colorscale\":[[0.0,\"#0d0887\"],[0.1111111111111111,\"#46039f\"],[0.2222222222222222,\"#7201a8\"],[0.3333333333333333,\"#9c179e\"],[0.4444444444444444,\"#bd3786\"],[0.5555555555555556,\"#d8576b\"],[0.6666666666666666,\"#ed7953\"],[0.7777777777777778,\"#fb9f3a\"],[0.8888888888888888,\"#fdca26\"],[1.0,\"#f0f921\"]],\"type\":\"contour\"}],\"contourcarpet\":[{\"colorbar\":{\"outlinewidth\":0,\"ticks\":\"\"},\"type\":\"contourcarpet\"}],\"heatmap\":[{\"colorbar\":{\"outlinewidth\":0,\"ticks\":\"\"},\"colorscale\":[[0.0,\"#0d0887\"],[0.1111111111111111,\"#46039f\"],[0.2222222222222222,\"#7201a8\"],[0.3333333333333333,\"#9c179e\"],[0.4444444444444444,\"#bd3786\"],[0.5555555555555556,\"#d8576b\"],[0.6666666666666666,\"#ed7953\"],[0.7777777777777778,\"#fb9f3a\"],[0.8888888888888888,\"#fdca26\"],[1.0,\"#f0f921\"]],\"type\":\"heatmap\"}],\"heatmapgl\":[{\"colorbar\":{\"outlinewidth\":0,\"ticks\":\"\"},\"colorscale\":[[0.0,\"#0d0887\"],[0.1111111111111111,\"#46039f\"],[0.2222222222222222,\"#7201a8\"],[0.3333333333333333,\"#9c179e\"],[0.4444444444444444,\"#bd3786\"],[0.5555555555555556,\"#d8576b\"],[0.6666666666666666,\"#ed7953\"],[0.7777777777777778,\"#fb9f3a\"],[0.8888888888888888,\"#fdca26\"],[1.0,\"#f0f921\"]],\"type\":\"heatmapgl\"}],\"histogram\":[{\"marker\":{\"pattern\":{\"fillmode\":\"overlay\",\"size\":10,\"solidity\":0.2}},\"type\":\"histogram\"}],\"histogram2d\":[{\"colorbar\":{\"outlinewidth\":0,\"ticks\":\"\"},\"colorscale\":[[0.0,\"#0d0887\"],[0.1111111111111111,\"#46039f\"],[0.2222222222222222,\"#7201a8\"],[0.3333333333333333,\"#9c179e\"],[0.4444444444444444,\"#bd3786\"],[0.5555555555555556,\"#d8576b\"],[0.6666666666666666,\"#ed7953\"],[0.7777777777777778,\"#fb9f3a\"],[0.8888888888888888,\"#fdca26\"],[1.0,\"#f0f921\"]],\"type\":\"histogram2d\"}],\"histogram2dcontour\":[{\"colorbar\":{\"outlinewidth\":0,\"ticks\":\"\"},\"colorscale\":[[0.0,\"#0d0887\"],[0.1111111111111111,\"#46039f\"],[0.2222222222222222,\"#7201a8\"],[0.3333333333333333,\"#9c179e\"],[0.4444444444444444,\"#bd3786\"],[0.5555555555555556,\"#d8576b\"],[0.6666666666666666,\"#ed7953\"],[0.7777777777777778,\"#fb9f3a\"],[0.8888888888888888,\"#fdca26\"],[1.0,\"#f0f921\"]],\"type\":\"histogram2dcontour\"}],\"mesh3d\":[{\"colorbar\":{\"outlinewidth\":0,\"ticks\":\"\"},\"type\":\"mesh3d\"}],\"parcoords\":[{\"line\":{\"colorbar\":{\"outlinewidth\":0,\"ticks\":\"\"}},\"type\":\"parcoords\"}],\"pie\":[{\"automargin\":true,\"type\":\"pie\"}],\"scatter\":[{\"marker\":{\"colorbar\":{\"outlinewidth\":0,\"ticks\":\"\"}},\"type\":\"scatter\"}],\"scatter3d\":[{\"line\":{\"colorbar\":{\"outlinewidth\":0,\"ticks\":\"\"}},\"marker\":{\"colorbar\":{\"outlinewidth\":0,\"ticks\":\"\"}},\"type\":\"scatter3d\"}],\"scattercarpet\":[{\"marker\":{\"colorbar\":{\"outlinewidth\":0,\"ticks\":\"\"}},\"type\":\"scattercarpet\"}],\"scattergeo\":[{\"marker\":{\"colorbar\":{\"outlinewidth\":0,\"ticks\":\"\"}},\"type\":\"scattergeo\"}],\"scattergl\":[{\"marker\":{\"colorbar\":{\"outlinewidth\":0,\"ticks\":\"\"}},\"type\":\"scattergl\"}],\"scattermapbox\":[{\"marker\":{\"colorbar\":{\"outlinewidth\":0,\"ticks\":\"\"}},\"type\":\"scattermapbox\"}],\"scatterpolar\":[{\"marker\":{\"colorbar\":{\"outlinewidth\":0,\"ticks\":\"\"}},\"type\":\"scatterpolar\"}],\"scatterpolargl\":[{\"marker\":{\"colorbar\":{\"outlinewidth\":0,\"ticks\":\"\"}},\"type\":\"scatterpolargl\"}],\"scatterternary\":[{\"marker\":{\"colorbar\":{\"outlinewidth\":0,\"ticks\":\"\"}},\"type\":\"scatterternary\"}],\"surface\":[{\"colorbar\":{\"outlinewidth\":0,\"ticks\":\"\"},\"colorscale\":[[0.0,\"#0d0887\"],[0.1111111111111111,\"#46039f\"],[0.2222222222222222,\"#7201a8\"],[0.3333333333333333,\"#9c179e\"],[0.4444444444444444,\"#bd3786\"],[0.5555555555555556,\"#d8576b\"],[0.6666666666666666,\"#ed7953\"],[0.7777777777777778,\"#fb9f3a\"],[0.8888888888888888,\"#fdca26\"],[1.0,\"#f0f921\"]],\"type\":\"surface\"}],\"table\":[{\"cells\":{\"fill\":{\"color\":\"#EBF0F8\"},\"line\":{\"color\":\"white\"}},\"header\":{\"fill\":{\"color\":\"#C8D4E3\"},\"line\":{\"color\":\"white\"}},\"type\":\"table\"}]},\"layout\":{\"annotationdefaults\":{\"arrowcolor\":\"#2a3f5f\",\"arrowhead\":0,\"arrowwidth\":1},\"autotypenumbers\":\"strict\",\"coloraxis\":{\"colorbar\":{\"outlinewidth\":0,\"ticks\":\"\"}},\"colorscale\":{\"diverging\":[[0,\"#8e0152\"],[0.1,\"#c51b7d\"],[0.2,\"#de77ae\"],[0.3,\"#f1b6da\"],[0.4,\"#fde0ef\"],[0.5,\"#f7f7f7\"],[0.6,\"#e6f5d0\"],[0.7,\"#b8e186\"],[0.8,\"#7fbc41\"],[0.9,\"#4d9221\"],[1,\"#276419\"]],\"sequential\":[[0.0,\"#0d0887\"],[0.1111111111111111,\"#46039f\"],[0.2222222222222222,\"#7201a8\"],[0.3333333333333333,\"#9c179e\"],[0.4444444444444444,\"#bd3786\"],[0.5555555555555556,\"#d8576b\"],[0.6666666666666666,\"#ed7953\"],[0.7777777777777778,\"#fb9f3a\"],[0.8888888888888888,\"#fdca26\"],[1.0,\"#f0f921\"]],\"sequentialminus\":[[0.0,\"#0d0887\"],[0.1111111111111111,\"#46039f\"],[0.2222222222222222,\"#7201a8\"],[0.3333333333333333,\"#9c179e\"],[0.4444444444444444,\"#bd3786\"],[0.5555555555555556,\"#d8576b\"],[0.6666666666666666,\"#ed7953\"],[0.7777777777777778,\"#fb9f3a\"],[0.8888888888888888,\"#fdca26\"],[1.0,\"#f0f921\"]]},\"colorway\":[\"#636efa\",\"#EF553B\",\"#00cc96\",\"#ab63fa\",\"#FFA15A\",\"#19d3f3\",\"#FF6692\",\"#B6E880\",\"#FF97FF\",\"#FECB52\"],\"font\":{\"color\":\"#2a3f5f\"},\"geo\":{\"bgcolor\":\"white\",\"lakecolor\":\"white\",\"landcolor\":\"#E5ECF6\",\"showlakes\":true,\"showland\":true,\"subunitcolor\":\"white\"},\"hoverlabel\":{\"align\":\"left\"},\"hovermode\":\"closest\",\"mapbox\":{\"style\":\"light\"},\"paper_bgcolor\":\"white\",\"plot_bgcolor\":\"#E5ECF6\",\"polar\":{\"angularaxis\":{\"gridcolor\":\"white\",\"linecolor\":\"white\",\"ticks\":\"\"},\"bgcolor\":\"#E5ECF6\",\"radialaxis\":{\"gridcolor\":\"white\",\"linecolor\":\"white\",\"ticks\":\"\"}},\"scene\":{\"xaxis\":{\"backgroundcolor\":\"#E5ECF6\",\"gridcolor\":\"white\",\"gridwidth\":2,\"linecolor\":\"white\",\"showbackground\":true,\"ticks\":\"\",\"zerolinecolor\":\"white\"},\"yaxis\":{\"backgroundcolor\":\"#E5ECF6\",\"gridcolor\":\"white\",\"gridwidth\":2,\"linecolor\":\"white\",\"showbackground\":true,\"ticks\":\"\",\"zerolinecolor\":\"white\"},\"zaxis\":{\"backgroundcolor\":\"#E5ECF6\",\"gridcolor\":\"white\",\"gridwidth\":2,\"linecolor\":\"white\",\"showbackground\":true,\"ticks\":\"\",\"zerolinecolor\":\"white\"}},\"shapedefaults\":{\"line\":{\"color\":\"#2a3f5f\"}},\"ternary\":{\"aaxis\":{\"gridcolor\":\"white\",\"linecolor\":\"white\",\"ticks\":\"\"},\"baxis\":{\"gridcolor\":\"white\",\"linecolor\":\"white\",\"ticks\":\"\"},\"bgcolor\":\"#E5ECF6\",\"caxis\":{\"gridcolor\":\"white\",\"linecolor\":\"white\",\"ticks\":\"\"}},\"title\":{\"x\":0.05},\"xaxis\":{\"automargin\":true,\"gridcolor\":\"white\",\"linecolor\":\"white\",\"ticks\":\"\",\"title\":{\"standoff\":15},\"zerolinecolor\":\"white\",\"zerolinewidth\":2},\"yaxis\":{\"automargin\":true,\"gridcolor\":\"white\",\"linecolor\":\"white\",\"ticks\":\"\",\"title\":{\"standoff\":15},\"zerolinecolor\":\"white\",\"zerolinewidth\":2}}},\"title\":{\"text\":\"no2 Air Pollution Days\"},\"yaxis\":{\"title\":{\"text\":\"Number of cases\"}}},                        {\"responsive\": true}                    ).then(function(){\n",
              "                            \n",
              "var gd = document.getElementById('2179cd40-4e02-4e60-ac62-1c9ee278b376');\n",
              "var x = new MutationObserver(function (mutations, observer) {{\n",
              "        var display = window.getComputedStyle(gd).display;\n",
              "        if (!display || display === 'none') {{\n",
              "            console.log([gd, 'removed!']);\n",
              "            Plotly.purge(gd);\n",
              "            observer.disconnect();\n",
              "        }}\n",
              "}});\n",
              "\n",
              "// Listen for the removal of the full notebook cells\n",
              "var notebookContainer = gd.closest('#notebook-container');\n",
              "if (notebookContainer) {{\n",
              "    x.observe(notebookContainer, {childList: true});\n",
              "}}\n",
              "\n",
              "// Listen for the clearing of the current output cell\n",
              "var outputEl = gd.closest('.output');\n",
              "if (outputEl) {{\n",
              "    x.observe(outputEl, {childList: true});\n",
              "}}\n",
              "\n",
              "                        })                };                            </script>        </div>\n",
              "</body>\n",
              "</html>"
            ]
          },
          "metadata": {}
        }
      ]
    },
    {
      "cell_type": "code",
      "source": [
        "so2_df = FinalTable_df.copy()\n",
        "so2_df.loc[so2_df['so2'] >= 50, 'so2'] = 1\n",
        "so2_df.loc[so2_df['so2'] != 1, 'so2'] = 0"
      ],
      "metadata": {
        "id": "4uWSECMTRIwl"
      },
      "execution_count": 231,
      "outputs": []
    },
    {
      "cell_type": "code",
      "source": [
        "numofcases4 = so2_df.so2.value_counts()\n",
        "numofcases4"
      ],
      "metadata": {
        "id": "_TYQ8V1pP59M",
        "colab": {
          "base_uri": "https://localhost:8080/"
        },
        "outputId": "b5ad2c17-25d8-4f98-a864-15ec7f971b00"
      },
      "execution_count": 232,
      "outputs": [
        {
          "output_type": "execute_result",
          "data": {
            "text/plain": [
              "0.0    55762\n",
              "1.0    10341\n",
              "Name: so2, dtype: int64"
            ]
          },
          "metadata": {},
          "execution_count": 232
        }
      ]
    },
    {
      "cell_type": "code",
      "source": [
        "precentage4 = [str(round(i/numofcases4.sum()*100,2)) +'%' for i in numofcases4]\n",
        "precentage4"
      ],
      "metadata": {
        "id": "sK3jgezXP57H",
        "colab": {
          "base_uri": "https://localhost:8080/"
        },
        "outputId": "f5917e53-ecf3-4c93-f45d-0d957b6d4561"
      },
      "execution_count": 233,
      "outputs": [
        {
          "output_type": "execute_result",
          "data": {
            "text/plain": [
              "['84.36%', '15.64%']"
            ]
          },
          "metadata": {},
          "execution_count": 233
        }
      ]
    },
    {
      "cell_type": "code",
      "source": [
        "fig = go.Figure()\n",
        "fig.add_trace(go.Bar(\n",
        "    x=['No', 'Yes'],\n",
        "    y=numofcases4,\n",
        "    marker_color=['green','red'],\n",
        "    text=precentage4,\n",
        "    textposition='outside',\n",
        ")) \n",
        "fig.update_layout(\n",
        "    title='so2 Air Pollution Days', \n",
        "    yaxis_title='Number of cases',\n",
        "    )\n",
        "fig.show()"
      ],
      "metadata": {
        "id": "0TvTDXBNP54X",
        "colab": {
          "base_uri": "https://localhost:8080/",
          "height": 0
        },
        "outputId": "e2444441-60ef-40d4-8e5f-f57152e4f731"
      },
      "execution_count": 234,
      "outputs": [
        {
          "output_type": "display_data",
          "data": {
            "text/html": [
              "<html>\n",
              "<head><meta charset=\"utf-8\" /></head>\n",
              "<body>\n",
              "    <div>            <script src=\"https://cdnjs.cloudflare.com/ajax/libs/mathjax/2.7.5/MathJax.js?config=TeX-AMS-MML_SVG\"></script><script type=\"text/javascript\">if (window.MathJax) {MathJax.Hub.Config({SVG: {font: \"STIX-Web\"}});}</script>                <script type=\"text/javascript\">window.PlotlyConfig = {MathJaxConfig: 'local'};</script>\n",
              "        <script src=\"https://cdn.plot.ly/plotly-2.8.3.min.js\"></script>                <div id=\"d7db5ecc-4ac1-44aa-8f9b-d86c8e2c7894\" class=\"plotly-graph-div\" style=\"height:525px; width:100%;\"></div>            <script type=\"text/javascript\">                                    window.PLOTLYENV=window.PLOTLYENV || {};                                    if (document.getElementById(\"d7db5ecc-4ac1-44aa-8f9b-d86c8e2c7894\")) {                    Plotly.newPlot(                        \"d7db5ecc-4ac1-44aa-8f9b-d86c8e2c7894\",                        [{\"marker\":{\"color\":[\"green\",\"red\"]},\"text\":[\"84.36%\",\"15.64%\"],\"textposition\":\"outside\",\"x\":[\"No\",\"Yes\"],\"y\":[55762,10341],\"type\":\"bar\"}],                        {\"template\":{\"data\":{\"bar\":[{\"error_x\":{\"color\":\"#2a3f5f\"},\"error_y\":{\"color\":\"#2a3f5f\"},\"marker\":{\"line\":{\"color\":\"#E5ECF6\",\"width\":0.5},\"pattern\":{\"fillmode\":\"overlay\",\"size\":10,\"solidity\":0.2}},\"type\":\"bar\"}],\"barpolar\":[{\"marker\":{\"line\":{\"color\":\"#E5ECF6\",\"width\":0.5},\"pattern\":{\"fillmode\":\"overlay\",\"size\":10,\"solidity\":0.2}},\"type\":\"barpolar\"}],\"carpet\":[{\"aaxis\":{\"endlinecolor\":\"#2a3f5f\",\"gridcolor\":\"white\",\"linecolor\":\"white\",\"minorgridcolor\":\"white\",\"startlinecolor\":\"#2a3f5f\"},\"baxis\":{\"endlinecolor\":\"#2a3f5f\",\"gridcolor\":\"white\",\"linecolor\":\"white\",\"minorgridcolor\":\"white\",\"startlinecolor\":\"#2a3f5f\"},\"type\":\"carpet\"}],\"choropleth\":[{\"colorbar\":{\"outlinewidth\":0,\"ticks\":\"\"},\"type\":\"choropleth\"}],\"contour\":[{\"colorbar\":{\"outlinewidth\":0,\"ticks\":\"\"},\"colorscale\":[[0.0,\"#0d0887\"],[0.1111111111111111,\"#46039f\"],[0.2222222222222222,\"#7201a8\"],[0.3333333333333333,\"#9c179e\"],[0.4444444444444444,\"#bd3786\"],[0.5555555555555556,\"#d8576b\"],[0.6666666666666666,\"#ed7953\"],[0.7777777777777778,\"#fb9f3a\"],[0.8888888888888888,\"#fdca26\"],[1.0,\"#f0f921\"]],\"type\":\"contour\"}],\"contourcarpet\":[{\"colorbar\":{\"outlinewidth\":0,\"ticks\":\"\"},\"type\":\"contourcarpet\"}],\"heatmap\":[{\"colorbar\":{\"outlinewidth\":0,\"ticks\":\"\"},\"colorscale\":[[0.0,\"#0d0887\"],[0.1111111111111111,\"#46039f\"],[0.2222222222222222,\"#7201a8\"],[0.3333333333333333,\"#9c179e\"],[0.4444444444444444,\"#bd3786\"],[0.5555555555555556,\"#d8576b\"],[0.6666666666666666,\"#ed7953\"],[0.7777777777777778,\"#fb9f3a\"],[0.8888888888888888,\"#fdca26\"],[1.0,\"#f0f921\"]],\"type\":\"heatmap\"}],\"heatmapgl\":[{\"colorbar\":{\"outlinewidth\":0,\"ticks\":\"\"},\"colorscale\":[[0.0,\"#0d0887\"],[0.1111111111111111,\"#46039f\"],[0.2222222222222222,\"#7201a8\"],[0.3333333333333333,\"#9c179e\"],[0.4444444444444444,\"#bd3786\"],[0.5555555555555556,\"#d8576b\"],[0.6666666666666666,\"#ed7953\"],[0.7777777777777778,\"#fb9f3a\"],[0.8888888888888888,\"#fdca26\"],[1.0,\"#f0f921\"]],\"type\":\"heatmapgl\"}],\"histogram\":[{\"marker\":{\"pattern\":{\"fillmode\":\"overlay\",\"size\":10,\"solidity\":0.2}},\"type\":\"histogram\"}],\"histogram2d\":[{\"colorbar\":{\"outlinewidth\":0,\"ticks\":\"\"},\"colorscale\":[[0.0,\"#0d0887\"],[0.1111111111111111,\"#46039f\"],[0.2222222222222222,\"#7201a8\"],[0.3333333333333333,\"#9c179e\"],[0.4444444444444444,\"#bd3786\"],[0.5555555555555556,\"#d8576b\"],[0.6666666666666666,\"#ed7953\"],[0.7777777777777778,\"#fb9f3a\"],[0.8888888888888888,\"#fdca26\"],[1.0,\"#f0f921\"]],\"type\":\"histogram2d\"}],\"histogram2dcontour\":[{\"colorbar\":{\"outlinewidth\":0,\"ticks\":\"\"},\"colorscale\":[[0.0,\"#0d0887\"],[0.1111111111111111,\"#46039f\"],[0.2222222222222222,\"#7201a8\"],[0.3333333333333333,\"#9c179e\"],[0.4444444444444444,\"#bd3786\"],[0.5555555555555556,\"#d8576b\"],[0.6666666666666666,\"#ed7953\"],[0.7777777777777778,\"#fb9f3a\"],[0.8888888888888888,\"#fdca26\"],[1.0,\"#f0f921\"]],\"type\":\"histogram2dcontour\"}],\"mesh3d\":[{\"colorbar\":{\"outlinewidth\":0,\"ticks\":\"\"},\"type\":\"mesh3d\"}],\"parcoords\":[{\"line\":{\"colorbar\":{\"outlinewidth\":0,\"ticks\":\"\"}},\"type\":\"parcoords\"}],\"pie\":[{\"automargin\":true,\"type\":\"pie\"}],\"scatter\":[{\"marker\":{\"colorbar\":{\"outlinewidth\":0,\"ticks\":\"\"}},\"type\":\"scatter\"}],\"scatter3d\":[{\"line\":{\"colorbar\":{\"outlinewidth\":0,\"ticks\":\"\"}},\"marker\":{\"colorbar\":{\"outlinewidth\":0,\"ticks\":\"\"}},\"type\":\"scatter3d\"}],\"scattercarpet\":[{\"marker\":{\"colorbar\":{\"outlinewidth\":0,\"ticks\":\"\"}},\"type\":\"scattercarpet\"}],\"scattergeo\":[{\"marker\":{\"colorbar\":{\"outlinewidth\":0,\"ticks\":\"\"}},\"type\":\"scattergeo\"}],\"scattergl\":[{\"marker\":{\"colorbar\":{\"outlinewidth\":0,\"ticks\":\"\"}},\"type\":\"scattergl\"}],\"scattermapbox\":[{\"marker\":{\"colorbar\":{\"outlinewidth\":0,\"ticks\":\"\"}},\"type\":\"scattermapbox\"}],\"scatterpolar\":[{\"marker\":{\"colorbar\":{\"outlinewidth\":0,\"ticks\":\"\"}},\"type\":\"scatterpolar\"}],\"scatterpolargl\":[{\"marker\":{\"colorbar\":{\"outlinewidth\":0,\"ticks\":\"\"}},\"type\":\"scatterpolargl\"}],\"scatterternary\":[{\"marker\":{\"colorbar\":{\"outlinewidth\":0,\"ticks\":\"\"}},\"type\":\"scatterternary\"}],\"surface\":[{\"colorbar\":{\"outlinewidth\":0,\"ticks\":\"\"},\"colorscale\":[[0.0,\"#0d0887\"],[0.1111111111111111,\"#46039f\"],[0.2222222222222222,\"#7201a8\"],[0.3333333333333333,\"#9c179e\"],[0.4444444444444444,\"#bd3786\"],[0.5555555555555556,\"#d8576b\"],[0.6666666666666666,\"#ed7953\"],[0.7777777777777778,\"#fb9f3a\"],[0.8888888888888888,\"#fdca26\"],[1.0,\"#f0f921\"]],\"type\":\"surface\"}],\"table\":[{\"cells\":{\"fill\":{\"color\":\"#EBF0F8\"},\"line\":{\"color\":\"white\"}},\"header\":{\"fill\":{\"color\":\"#C8D4E3\"},\"line\":{\"color\":\"white\"}},\"type\":\"table\"}]},\"layout\":{\"annotationdefaults\":{\"arrowcolor\":\"#2a3f5f\",\"arrowhead\":0,\"arrowwidth\":1},\"autotypenumbers\":\"strict\",\"coloraxis\":{\"colorbar\":{\"outlinewidth\":0,\"ticks\":\"\"}},\"colorscale\":{\"diverging\":[[0,\"#8e0152\"],[0.1,\"#c51b7d\"],[0.2,\"#de77ae\"],[0.3,\"#f1b6da\"],[0.4,\"#fde0ef\"],[0.5,\"#f7f7f7\"],[0.6,\"#e6f5d0\"],[0.7,\"#b8e186\"],[0.8,\"#7fbc41\"],[0.9,\"#4d9221\"],[1,\"#276419\"]],\"sequential\":[[0.0,\"#0d0887\"],[0.1111111111111111,\"#46039f\"],[0.2222222222222222,\"#7201a8\"],[0.3333333333333333,\"#9c179e\"],[0.4444444444444444,\"#bd3786\"],[0.5555555555555556,\"#d8576b\"],[0.6666666666666666,\"#ed7953\"],[0.7777777777777778,\"#fb9f3a\"],[0.8888888888888888,\"#fdca26\"],[1.0,\"#f0f921\"]],\"sequentialminus\":[[0.0,\"#0d0887\"],[0.1111111111111111,\"#46039f\"],[0.2222222222222222,\"#7201a8\"],[0.3333333333333333,\"#9c179e\"],[0.4444444444444444,\"#bd3786\"],[0.5555555555555556,\"#d8576b\"],[0.6666666666666666,\"#ed7953\"],[0.7777777777777778,\"#fb9f3a\"],[0.8888888888888888,\"#fdca26\"],[1.0,\"#f0f921\"]]},\"colorway\":[\"#636efa\",\"#EF553B\",\"#00cc96\",\"#ab63fa\",\"#FFA15A\",\"#19d3f3\",\"#FF6692\",\"#B6E880\",\"#FF97FF\",\"#FECB52\"],\"font\":{\"color\":\"#2a3f5f\"},\"geo\":{\"bgcolor\":\"white\",\"lakecolor\":\"white\",\"landcolor\":\"#E5ECF6\",\"showlakes\":true,\"showland\":true,\"subunitcolor\":\"white\"},\"hoverlabel\":{\"align\":\"left\"},\"hovermode\":\"closest\",\"mapbox\":{\"style\":\"light\"},\"paper_bgcolor\":\"white\",\"plot_bgcolor\":\"#E5ECF6\",\"polar\":{\"angularaxis\":{\"gridcolor\":\"white\",\"linecolor\":\"white\",\"ticks\":\"\"},\"bgcolor\":\"#E5ECF6\",\"radialaxis\":{\"gridcolor\":\"white\",\"linecolor\":\"white\",\"ticks\":\"\"}},\"scene\":{\"xaxis\":{\"backgroundcolor\":\"#E5ECF6\",\"gridcolor\":\"white\",\"gridwidth\":2,\"linecolor\":\"white\",\"showbackground\":true,\"ticks\":\"\",\"zerolinecolor\":\"white\"},\"yaxis\":{\"backgroundcolor\":\"#E5ECF6\",\"gridcolor\":\"white\",\"gridwidth\":2,\"linecolor\":\"white\",\"showbackground\":true,\"ticks\":\"\",\"zerolinecolor\":\"white\"},\"zaxis\":{\"backgroundcolor\":\"#E5ECF6\",\"gridcolor\":\"white\",\"gridwidth\":2,\"linecolor\":\"white\",\"showbackground\":true,\"ticks\":\"\",\"zerolinecolor\":\"white\"}},\"shapedefaults\":{\"line\":{\"color\":\"#2a3f5f\"}},\"ternary\":{\"aaxis\":{\"gridcolor\":\"white\",\"linecolor\":\"white\",\"ticks\":\"\"},\"baxis\":{\"gridcolor\":\"white\",\"linecolor\":\"white\",\"ticks\":\"\"},\"bgcolor\":\"#E5ECF6\",\"caxis\":{\"gridcolor\":\"white\",\"linecolor\":\"white\",\"ticks\":\"\"}},\"title\":{\"x\":0.05},\"xaxis\":{\"automargin\":true,\"gridcolor\":\"white\",\"linecolor\":\"white\",\"ticks\":\"\",\"title\":{\"standoff\":15},\"zerolinecolor\":\"white\",\"zerolinewidth\":2},\"yaxis\":{\"automargin\":true,\"gridcolor\":\"white\",\"linecolor\":\"white\",\"ticks\":\"\",\"title\":{\"standoff\":15},\"zerolinecolor\":\"white\",\"zerolinewidth\":2}}},\"title\":{\"text\":\"so2 Air Pollution Days\"},\"yaxis\":{\"title\":{\"text\":\"Number of cases\"}}},                        {\"responsive\": true}                    ).then(function(){\n",
              "                            \n",
              "var gd = document.getElementById('d7db5ecc-4ac1-44aa-8f9b-d86c8e2c7894');\n",
              "var x = new MutationObserver(function (mutations, observer) {{\n",
              "        var display = window.getComputedStyle(gd).display;\n",
              "        if (!display || display === 'none') {{\n",
              "            console.log([gd, 'removed!']);\n",
              "            Plotly.purge(gd);\n",
              "            observer.disconnect();\n",
              "        }}\n",
              "}});\n",
              "\n",
              "// Listen for the removal of the full notebook cells\n",
              "var notebookContainer = gd.closest('#notebook-container');\n",
              "if (notebookContainer) {{\n",
              "    x.observe(notebookContainer, {childList: true});\n",
              "}}\n",
              "\n",
              "// Listen for the clearing of the current output cell\n",
              "var outputEl = gd.closest('.output');\n",
              "if (outputEl) {{\n",
              "    x.observe(outputEl, {childList: true});\n",
              "}}\n",
              "\n",
              "                        })                };                            </script>        </div>\n",
              "</body>\n",
              "</html>"
            ]
          },
          "metadata": {}
        }
      ]
    },
    {
      "cell_type": "code",
      "source": [
        "df1 = FinalTable_df.copy()\n",
        "df2 = FinalTable_df.copy()\n",
        "df3 = FinalTable_df.copy()\n",
        "df4 = FinalTable_df.copy()\n",
        "df5 = FinalTable_df.copy()\n",
        "df6 = FinalTable_df.copy()\n",
        "df7 = FinalTable_df.copy()\n",
        "df8 = FinalTable_df.copy()\n",
        "df9 = FinalTable_df.copy()\n",
        "df10 = FinalTable_df.copy()\n",
        "#df.dropna(axis=0, inplace=True)\n",
        "#ForT_Test = df.reset_index()"
      ],
      "metadata": {
        "id": "fcFJjt6YiGCv"
      },
      "execution_count": 235,
      "outputs": []
    },
    {
      "cell_type": "code",
      "source": [
        "HotDays_df = FinalTable_df.loc[FinalTable_df['Temp_C'] >= 30]"
      ],
      "metadata": {
        "id": "lm3V2FNMjLaQ"
      },
      "execution_count": 236,
      "outputs": []
    },
    {
      "cell_type": "code",
      "source": [
        "df1 = df1.loc[df1['pm10'] >= 130]\n",
        "df2 = df2.loc[df2['pm10'] < 130]\n",
        "df3 = df3.loc[df3['pm25'] >= 37.5]\n",
        "df4 = df4.loc[df4['pm25'] < 37.5]\n",
        "df5 = df5.loc[df5['no2'] >= 200]\n",
        "df6 = df6.loc[df6['no2'] < 200]\n",
        "df7 = df7.loc[df7['so2'] >= 50]\n",
        "df8 = df8.loc[df8['so2'] < 50]\n",
        "df9 = df9.loc[df9['Temp_C'] >= 30]\n",
        "df10 = df10.loc[df10['Temp_C'] < 30]"
      ],
      "metadata": {
        "id": "w_JZsSVtinxQ"
      },
      "execution_count": 237,
      "outputs": []
    },
    {
      "cell_type": "code",
      "source": [
        "Israeli1 = df1[['Israeli_Visitors']]\n",
        "Israeli2 = df2[['Israeli_Visitors']]\n",
        "Tourist1 = df1[['Tourist_Visitors']]\n",
        "Tourist2 = df2[['Tourist_Visitors']]\n",
        "Israeli3 = df3[['Israeli_Visitors']]\n",
        "Israeli4 = df4[['Israeli_Visitors']]\n",
        "Tourist3 = df3[['Tourist_Visitors']]\n",
        "Tourist4 = df4[['Tourist_Visitors']]\n",
        "Israeli5 = df5[['Israeli_Visitors']]\n",
        "Israeli6 = df6[['Israeli_Visitors']]\n",
        "Tourist5 = df5[['Tourist_Visitors']]\n",
        "Tourist6 = df6[['Tourist_Visitors']]\n",
        "Israeli7 = df7[['Israeli_Visitors']]\n",
        "Israeli8 = df8[['Israeli_Visitors']]\n",
        "Tourist7 = df7[['Tourist_Visitors']]\n",
        "Tourist8 = df8[['Tourist_Visitors']]\n",
        "Israeli9 = df9[['Israeli_Visitors']]\n",
        "Israeli10 = df10[['Israeli_Visitors']]\n",
        "Tourist9 = df9[['Tourist_Visitors']]\n",
        "Tourist10 = df10[['Tourist_Visitors']]"
      ],
      "metadata": {
        "id": "L1f9qmLujlIc"
      },
      "execution_count": 238,
      "outputs": []
    },
    {
      "cell_type": "code",
      "source": [
        "israeliWithPm10 = Israeli1[\"Israeli_Visitors\"].mean()\n",
        "israeliWithoutPm10 = Israeli2[\"Israeli_Visitors\"].mean()\n",
        "touristsWithPm10 = Tourist1[\"Tourist_Visitors\"].mean()\n",
        "touristsWithoutPm10 = Tourist2[\"Tourist_Visitors\"].mean()\n",
        "\n",
        "israeliWithPm25 = Israeli3[\"Israeli_Visitors\"].mean()\n",
        "israeliWithoutPm25 = Israeli4[\"Israeli_Visitors\"].mean()\n",
        "touristsWithPm25 = Tourist3[\"Tourist_Visitors\"].mean()\n",
        "touristsWithoutPm25 = Tourist4[\"Tourist_Visitors\"].mean()\n",
        "\n",
        "israeliWithSo2 = Israeli7[\"Israeli_Visitors\"].mean()\n",
        "israeliWithoutSo2 = Israeli8[\"Israeli_Visitors\"].mean()\n",
        "touristsWithSo2 = Tourist7[\"Tourist_Visitors\"].mean()\n",
        "touristsWithoutSo2 = Tourist8[\"Tourist_Visitors\"].mean()\n",
        "\n",
        "israeliWithHeat = Israeli9[\"Israeli_Visitors\"].mean()\n",
        "israeliWithoutHeat = Israeli10[\"Israeli_Visitors\"].mean()\n",
        "touristsWithHeat = Tourist9[\"Tourist_Visitors\"].mean()\n",
        "touristsWithoutHeat = Tourist10[\"Tourist_Visitors\"].mean()\n",
        "\n",
        "israeliWithoutPm25"
      ],
      "metadata": {
        "id": "a5V0d88J3ckq",
        "colab": {
          "base_uri": "https://localhost:8080/"
        },
        "outputId": "6d00f6b9-5590-45d5-d179-ec2faf75c00e"
      },
      "execution_count": 239,
      "outputs": [
        {
          "output_type": "execute_result",
          "data": {
            "text/plain": [
              "294.6229185317816"
            ]
          },
          "metadata": {},
          "execution_count": 239
        }
      ]
    },
    {
      "cell_type": "code",
      "source": [
        "name = [\"Israeli_Visitors\",\"Tourist_Visitors\"] "
      ],
      "metadata": {
        "id": "GWa0Sd8bfpnR"
      },
      "execution_count": 240,
      "outputs": []
    },
    {
      "cell_type": "code",
      "source": [
        "t_value,p_value=stats.ttest_ind(Israeli1,Israeli2)\n",
        "print('\\n'+'1)'+' Test statistic of pm10 is on '+name[0], str((t_value)))\n",
        "print('p-value for two tailed test is ',str(p_value))\n",
        "alpha = 0.05\n",
        "if p_value<=alpha:\n",
        "  print('Conclusion: Since p-value(=%f)'%p_value,'<','alpha(=%.2f)'%alpha,'We reject the null hypothesis H0.')\n",
        "else:\n",
        "  print('Conclusion: Since p-value(=%f)'%p_value,'>','alpha(=%.2f)'%alpha,'We do not reject the null hypothesis H0.')\n",
        "\n",
        "t_value,p_value=stats.ttest_ind(Tourist1,Tourist2)\n",
        "print('\\n'+'2)'+' Test statistic of pm10 is on '+name[1], str((t_value)))\n",
        "print('p-value for two tailed test is ',str(p_value))\n",
        "alpha = 0.05\n",
        "if p_value<=alpha:\n",
        "  print('Conclusion: Since p-value(=%f)'%p_value,'<','alpha(=%.2f)'%alpha,'We reject the null hypothesis H0.')\n",
        "else:\n",
        "  print('Conclusion: Since p-value(=%f)'%p_value,'>','alpha(=%.2f)'%alpha,'We do not reject the null hypothesis H0.')\n"
      ],
      "metadata": {
        "id": "lVFnzFLFcnYz",
        "colab": {
          "base_uri": "https://localhost:8080/"
        },
        "outputId": "73925772-000d-40ef-9e0e-4ab82b78969f"
      },
      "execution_count": 241,
      "outputs": [
        {
          "output_type": "stream",
          "name": "stdout",
          "text": [
            "\n",
            "1) Test statistic of pm10 is on Israeli_Visitors [-0.67637423]\n",
            "p-value for two tailed test is  [0.49880712]\n",
            "Conclusion: Since p-value(=0.498807) > alpha(=0.05) We do not reject the null hypothesis H0.\n",
            "\n",
            "2) Test statistic of pm10 is on Tourist_Visitors [1.31457311]\n",
            "p-value for two tailed test is  [0.1886612]\n",
            "Conclusion: Since p-value(=0.188661) > alpha(=0.05) We do not reject the null hypothesis H0.\n"
          ]
        }
      ]
    },
    {
      "cell_type": "code",
      "source": [
        "t_value,p_value=stats.ttest_ind(Israeli3,Israeli4)\n",
        "print('\\n'+'1)'+' Test statistic of pm2.5 is on '+name[0], str((t_value)))\n",
        "print('p-value for two tailed test is ',str(p_value))\n",
        "alpha = 0.05\n",
        "if p_value<=alpha:\n",
        "  print('Conclusion: Since p-value(=%f)'%p_value,'<','alpha(=%.2f)'%alpha,'We reject the null hypothesis H0.')\n",
        "else:\n",
        "  print('Conclusion: Since p-value(=%f)'%p_value,'>','alpha(=%.2f)'%alpha,'We do not reject the null hypothesis H0.')\n",
        "\n",
        "t_value,p_value=stats.ttest_ind(Tourist3,Tourist4)\n",
        "print('\\n'+'2)'+' Test statistic of pm.25 is on '+name[1], str((t_value)))\n",
        "print('p-value for two tailed test is ',str(p_value))\n",
        "alpha = 0.05\n",
        "if p_value<=alpha:\n",
        "  print('Conclusion: Since p-value(=%f)'%p_value,'<','alpha(=%.2f)'%alpha,'We reject the null hypothesis H0.')\n",
        "else:\n",
        "  print('Conclusion: Since p-value(=%f)'%p_value,'>','alpha(=%.2f)'%alpha,'We do not reject the null hypothesis H0.')"
      ],
      "metadata": {
        "id": "N5OxpZx2cAE6",
        "colab": {
          "base_uri": "https://localhost:8080/"
        },
        "outputId": "59b02b68-7c4e-4ffa-d09f-c30e7da160bd"
      },
      "execution_count": 242,
      "outputs": [
        {
          "output_type": "stream",
          "name": "stdout",
          "text": [
            "\n",
            "1) Test statistic of pm2.5 is on Israeli_Visitors [3.88861721]\n",
            "p-value for two tailed test is  [0.00010092]\n",
            "Conclusion: Since p-value(=0.000101) < alpha(=0.05) We reject the null hypothesis H0.\n",
            "\n",
            "2) Test statistic of pm.25 is on Tourist_Visitors [-5.53012435]\n",
            "p-value for two tailed test is  [3.2129671e-08]\n",
            "Conclusion: Since p-value(=0.000000) < alpha(=0.05) We reject the null hypothesis H0.\n"
          ]
        }
      ]
    },
    {
      "cell_type": "code",
      "source": [
        "t_value,p_value=stats.ttest_ind(Israeli5,Israeli6)\n",
        "print('\\n'+'1)'+' Test statistic of no2 is on '+name[0], str((t_value)))\n",
        "print('p-value for two tailed test is ',str(p_value))\n",
        "alpha = 0.05\n",
        "if p_value<=alpha:\n",
        "  print('Conclusion: Since p-value(=%f)'%p_value,'<','alpha(=%.2f)'%alpha,'We reject the null hypothesis H0.')\n",
        "else:\n",
        "  print('Conclusion: Since p-value(=%f)'%p_value,'>','alpha(=%.2f)'%alpha,'We do not reject the null hypothesis H0.')\n",
        "\n",
        "t_value,p_value=stats.ttest_ind(Tourist5,Tourist6)\n",
        "print('\\n'+'2)'+' Test statistic of no2 is on '+name[1], str((t_value)))\n",
        "print('p-value for two tailed test is ',str(p_value))\n",
        "alpha = 0.05\n",
        "if p_value<=alpha:\n",
        "  print('Conclusion: Since p-value(=%f)'%p_value,'<','alpha(=%.2f)'%alpha,'We reject the null hypothesis H0.')\n",
        "else:\n",
        "  print('Conclusion: Since p-value(=%f)'%p_value,'>','alpha(=%.2f)'%alpha,'We do not reject the null hypothesis H0.')"
      ],
      "metadata": {
        "id": "f763RYwCZOYY",
        "colab": {
          "base_uri": "https://localhost:8080/"
        },
        "outputId": "219def8e-886f-4d31-d56d-9c473e18951d"
      },
      "execution_count": 243,
      "outputs": [
        {
          "output_type": "stream",
          "name": "stdout",
          "text": [
            "\n",
            "1) Test statistic of no2 is on Israeli_Visitors nan\n",
            "p-value for two tailed test is  nan\n",
            "Conclusion: Since p-value(=nan) > alpha(=0.05) We do not reject the null hypothesis H0.\n",
            "\n",
            "2) Test statistic of no2 is on Tourist_Visitors nan\n",
            "p-value for two tailed test is  nan\n",
            "Conclusion: Since p-value(=nan) > alpha(=0.05) We do not reject the null hypothesis H0.\n"
          ]
        }
      ]
    },
    {
      "cell_type": "code",
      "source": [
        "t_value,p_value=stats.ttest_ind(Israeli7,Israeli8)\n",
        "print('\\n'+'1)'+' Test statistic of so2 is on '+name[0], str((t_value)))\n",
        "print('p-value for two tailed test is ',str(p_value))\n",
        "alpha = 0.05\n",
        "if p_value<=alpha:\n",
        "  print('Conclusion: Since p-value(=%f)'%p_value,'<','alpha(=%.2f)'%alpha,'We reject the null hypothesis H0.')\n",
        "else:\n",
        "  print('Conclusion: Since p-value(=%f)'%p_value,'>','alpha(=%.2f)'%alpha,'We do not reject the null hypothesis H0.')\n",
        "\n",
        "t_value,p_value=stats.ttest_ind(Tourist7,Tourist8)\n",
        "print('\\n'+'2)'+' Test statistic of so2 is on '+name[1], str((t_value)))\n",
        "print('p-value for two tailed test is ',str(p_value))\n",
        "alpha = 0.05\n",
        "if p_value<=alpha:\n",
        "  print('Conclusion: Since p-value(=%f)'%p_value,'<','alpha(=%.2f)'%alpha,'We reject the null hypothesis H0.')\n",
        "else:\n",
        "  print('Conclusion: Since p-value(=%f)'%p_value,'>','alpha(=%.2f)'%alpha,'We do not reject the null hypothesis H0.')"
      ],
      "metadata": {
        "id": "Sm3iw7kRZOWC",
        "colab": {
          "base_uri": "https://localhost:8080/"
        },
        "outputId": "893aaaba-e7af-41ca-d4fa-206055bc1763"
      },
      "execution_count": 244,
      "outputs": [
        {
          "output_type": "stream",
          "name": "stdout",
          "text": [
            "\n",
            "1) Test statistic of so2 is on Israeli_Visitors [-0.29066368]\n",
            "p-value for two tailed test is  [0.77131088]\n",
            "Conclusion: Since p-value(=0.771311) > alpha(=0.05) We do not reject the null hypothesis H0.\n",
            "\n",
            "2) Test statistic of so2 is on Tourist_Visitors [-0.38601056]\n",
            "p-value for two tailed test is  [0.69949201]\n",
            "Conclusion: Since p-value(=0.699492) > alpha(=0.05) We do not reject the null hypothesis H0.\n"
          ]
        }
      ]
    },
    {
      "cell_type": "code",
      "source": [
        "t_value,p_value=stats.ttest_ind(Israeli9,Israeli10)\n",
        "print('\\n'+'1)'+' Test statistic of Temp_C is on '+name[0], str((t_value)))\n",
        "print('p-value for two tailed test is ',str(p_value))\n",
        "alpha = 0.05\n",
        "if p_value<=alpha:\n",
        "  print('Conclusion: Since p-value(=%f)'%p_value,'<','alpha(=%.2f)'%alpha,'We reject the null hypothesis H0.')\n",
        "else:\n",
        "  print('Conclusion: Since p-value(=%f)'%p_value,'>','alpha(=%.2f)'%alpha,'We do not reject the null hypothesis H0.')\n",
        "\n",
        "t_value,p_value=stats.ttest_ind(Tourist9,Tourist10)\n",
        "print('\\n'+'2)'+' Test statistic of Temp_C is on '+name[1], str((t_value)))\n",
        "print('p-value for two tailed test is ',str(p_value))\n",
        "alpha = 0.05\n",
        "if p_value<=alpha:\n",
        "  print('Conclusion: Since p-value(=%f)'%p_value,'<','alpha(=%.2f)'%alpha,'We reject the null hypothesis H0.')\n",
        "else:\n",
        "  print('Conclusion: Since p-value(=%f)'%p_value,'>','alpha(=%.2f)'%alpha,'We do not reject the null hypothesis H0.')"
      ],
      "metadata": {
        "id": "EKV87meDZON6",
        "colab": {
          "base_uri": "https://localhost:8080/"
        },
        "outputId": "14968931-b020-4d86-9c0a-72184036983e"
      },
      "execution_count": 245,
      "outputs": [
        {
          "output_type": "stream",
          "name": "stdout",
          "text": [
            "\n",
            "1) Test statistic of Temp_C is on Israeli_Visitors [-2.17192486]\n",
            "p-value for two tailed test is  [0.02986507]\n",
            "Conclusion: Since p-value(=0.029865) < alpha(=0.05) We reject the null hypothesis H0.\n",
            "\n",
            "2) Test statistic of Temp_C is on Tourist_Visitors [-3.16860741]\n",
            "p-value for two tailed test is  [0.00153245]\n",
            "Conclusion: Since p-value(=0.001532) < alpha(=0.05) We reject the null hypothesis H0.\n"
          ]
        }
      ]
    },
    {
      "cell_type": "code",
      "source": [
        "EnterPerSite = merge1_df.groupby(['Visitors_type','Site_Code'])['Quantity'].count().unstack()\n",
        "EnterPerSite\n"
      ],
      "metadata": {
        "id": "TSdT7JwQnVjO",
        "colab": {
          "base_uri": "https://localhost:8080/",
          "height": 0
        },
        "outputId": "ca8599ba-ecfa-4ba6-ce69-3501a5413a3c"
      },
      "execution_count": 246,
      "outputs": [
        {
          "output_type": "execute_result",
          "data": {
            "text/plain": [
              "Site_Code        12      13     14      15      16      17      18      19   \\\n",
              "Visitors_type                                                                 \n",
              "Israeli        777.0  1050.0  809.0  1056.0  1069.0  1090.0  1092.0  1092.0   \n",
              "Tourist        121.0   324.0   85.0  1009.0   358.0  1072.0  1092.0  1088.0   \n",
              "\n",
              "Site_Code         20     21   ...    259    260     264     266     267  \\\n",
              "Visitors_type                 ...                                         \n",
              "Israeli        1091.0  975.0  ...  210.0  140.0  1021.0  1011.0  1084.0   \n",
              "Tourist         269.0  696.0  ...    NaN    NaN   890.0   800.0  1087.0   \n",
              "\n",
              "Site_Code         269     272     273     301     303  \n",
              "Visitors_type                                          \n",
              "Israeli        1075.0  1074.0  1064.0  1089.0  1089.0  \n",
              "Tourist        1062.0  1047.0    36.0  1090.0   877.0  \n",
              "\n",
              "[2 rows x 67 columns]"
            ],
            "text/html": [
              "\n",
              "  <div id=\"df-585586a4-4d75-440a-af45-1061f153bb32\">\n",
              "    <div class=\"colab-df-container\">\n",
              "      <div>\n",
              "<style scoped>\n",
              "    .dataframe tbody tr th:only-of-type {\n",
              "        vertical-align: middle;\n",
              "    }\n",
              "\n",
              "    .dataframe tbody tr th {\n",
              "        vertical-align: top;\n",
              "    }\n",
              "\n",
              "    .dataframe thead th {\n",
              "        text-align: right;\n",
              "    }\n",
              "</style>\n",
              "<table border=\"1\" class=\"dataframe\">\n",
              "  <thead>\n",
              "    <tr style=\"text-align: right;\">\n",
              "      <th>Site_Code</th>\n",
              "      <th>12</th>\n",
              "      <th>13</th>\n",
              "      <th>14</th>\n",
              "      <th>15</th>\n",
              "      <th>16</th>\n",
              "      <th>17</th>\n",
              "      <th>18</th>\n",
              "      <th>19</th>\n",
              "      <th>20</th>\n",
              "      <th>21</th>\n",
              "      <th>...</th>\n",
              "      <th>259</th>\n",
              "      <th>260</th>\n",
              "      <th>264</th>\n",
              "      <th>266</th>\n",
              "      <th>267</th>\n",
              "      <th>269</th>\n",
              "      <th>272</th>\n",
              "      <th>273</th>\n",
              "      <th>301</th>\n",
              "      <th>303</th>\n",
              "    </tr>\n",
              "    <tr>\n",
              "      <th>Visitors_type</th>\n",
              "      <th></th>\n",
              "      <th></th>\n",
              "      <th></th>\n",
              "      <th></th>\n",
              "      <th></th>\n",
              "      <th></th>\n",
              "      <th></th>\n",
              "      <th></th>\n",
              "      <th></th>\n",
              "      <th></th>\n",
              "      <th></th>\n",
              "      <th></th>\n",
              "      <th></th>\n",
              "      <th></th>\n",
              "      <th></th>\n",
              "      <th></th>\n",
              "      <th></th>\n",
              "      <th></th>\n",
              "      <th></th>\n",
              "      <th></th>\n",
              "      <th></th>\n",
              "    </tr>\n",
              "  </thead>\n",
              "  <tbody>\n",
              "    <tr>\n",
              "      <th>Israeli</th>\n",
              "      <td>777.0</td>\n",
              "      <td>1050.0</td>\n",
              "      <td>809.0</td>\n",
              "      <td>1056.0</td>\n",
              "      <td>1069.0</td>\n",
              "      <td>1090.0</td>\n",
              "      <td>1092.0</td>\n",
              "      <td>1092.0</td>\n",
              "      <td>1091.0</td>\n",
              "      <td>975.0</td>\n",
              "      <td>...</td>\n",
              "      <td>210.0</td>\n",
              "      <td>140.0</td>\n",
              "      <td>1021.0</td>\n",
              "      <td>1011.0</td>\n",
              "      <td>1084.0</td>\n",
              "      <td>1075.0</td>\n",
              "      <td>1074.0</td>\n",
              "      <td>1064.0</td>\n",
              "      <td>1089.0</td>\n",
              "      <td>1089.0</td>\n",
              "    </tr>\n",
              "    <tr>\n",
              "      <th>Tourist</th>\n",
              "      <td>121.0</td>\n",
              "      <td>324.0</td>\n",
              "      <td>85.0</td>\n",
              "      <td>1009.0</td>\n",
              "      <td>358.0</td>\n",
              "      <td>1072.0</td>\n",
              "      <td>1092.0</td>\n",
              "      <td>1088.0</td>\n",
              "      <td>269.0</td>\n",
              "      <td>696.0</td>\n",
              "      <td>...</td>\n",
              "      <td>NaN</td>\n",
              "      <td>NaN</td>\n",
              "      <td>890.0</td>\n",
              "      <td>800.0</td>\n",
              "      <td>1087.0</td>\n",
              "      <td>1062.0</td>\n",
              "      <td>1047.0</td>\n",
              "      <td>36.0</td>\n",
              "      <td>1090.0</td>\n",
              "      <td>877.0</td>\n",
              "    </tr>\n",
              "  </tbody>\n",
              "</table>\n",
              "<p>2 rows × 67 columns</p>\n",
              "</div>\n",
              "      <button class=\"colab-df-convert\" onclick=\"convertToInteractive('df-585586a4-4d75-440a-af45-1061f153bb32')\"\n",
              "              title=\"Convert this dataframe to an interactive table.\"\n",
              "              style=\"display:none;\">\n",
              "        \n",
              "  <svg xmlns=\"http://www.w3.org/2000/svg\" height=\"24px\"viewBox=\"0 0 24 24\"\n",
              "       width=\"24px\">\n",
              "    <path d=\"M0 0h24v24H0V0z\" fill=\"none\"/>\n",
              "    <path d=\"M18.56 5.44l.94 2.06.94-2.06 2.06-.94-2.06-.94-.94-2.06-.94 2.06-2.06.94zm-11 1L8.5 8.5l.94-2.06 2.06-.94-2.06-.94L8.5 2.5l-.94 2.06-2.06.94zm10 10l.94 2.06.94-2.06 2.06-.94-2.06-.94-.94-2.06-.94 2.06-2.06.94z\"/><path d=\"M17.41 7.96l-1.37-1.37c-.4-.4-.92-.59-1.43-.59-.52 0-1.04.2-1.43.59L10.3 9.45l-7.72 7.72c-.78.78-.78 2.05 0 2.83L4 21.41c.39.39.9.59 1.41.59.51 0 1.02-.2 1.41-.59l7.78-7.78 2.81-2.81c.8-.78.8-2.07 0-2.86zM5.41 20L4 18.59l7.72-7.72 1.47 1.35L5.41 20z\"/>\n",
              "  </svg>\n",
              "      </button>\n",
              "      \n",
              "  <style>\n",
              "    .colab-df-container {\n",
              "      display:flex;\n",
              "      flex-wrap:wrap;\n",
              "      gap: 12px;\n",
              "    }\n",
              "\n",
              "    .colab-df-convert {\n",
              "      background-color: #E8F0FE;\n",
              "      border: none;\n",
              "      border-radius: 50%;\n",
              "      cursor: pointer;\n",
              "      display: none;\n",
              "      fill: #1967D2;\n",
              "      height: 32px;\n",
              "      padding: 0 0 0 0;\n",
              "      width: 32px;\n",
              "    }\n",
              "\n",
              "    .colab-df-convert:hover {\n",
              "      background-color: #E2EBFA;\n",
              "      box-shadow: 0px 1px 2px rgba(60, 64, 67, 0.3), 0px 1px 3px 1px rgba(60, 64, 67, 0.15);\n",
              "      fill: #174EA6;\n",
              "    }\n",
              "\n",
              "    [theme=dark] .colab-df-convert {\n",
              "      background-color: #3B4455;\n",
              "      fill: #D2E3FC;\n",
              "    }\n",
              "\n",
              "    [theme=dark] .colab-df-convert:hover {\n",
              "      background-color: #434B5C;\n",
              "      box-shadow: 0px 1px 3px 1px rgba(0, 0, 0, 0.15);\n",
              "      filter: drop-shadow(0px 1px 2px rgba(0, 0, 0, 0.3));\n",
              "      fill: #FFFFFF;\n",
              "    }\n",
              "  </style>\n",
              "\n",
              "      <script>\n",
              "        const buttonEl =\n",
              "          document.querySelector('#df-585586a4-4d75-440a-af45-1061f153bb32 button.colab-df-convert');\n",
              "        buttonEl.style.display =\n",
              "          google.colab.kernel.accessAllowed ? 'block' : 'none';\n",
              "\n",
              "        async function convertToInteractive(key) {\n",
              "          const element = document.querySelector('#df-585586a4-4d75-440a-af45-1061f153bb32');\n",
              "          const dataTable =\n",
              "            await google.colab.kernel.invokeFunction('convertToInteractive',\n",
              "                                                     [key], {});\n",
              "          if (!dataTable) return;\n",
              "\n",
              "          const docLinkHtml = 'Like what you see? Visit the ' +\n",
              "            '<a target=\"_blank\" href=https://colab.research.google.com/notebooks/data_table.ipynb>data table notebook</a>'\n",
              "            + ' to learn more about interactive tables.';\n",
              "          element.innerHTML = '';\n",
              "          dataTable['output_type'] = 'display_data';\n",
              "          await google.colab.output.renderOutput(dataTable, element);\n",
              "          const docLink = document.createElement('div');\n",
              "          docLink.innerHTML = docLinkHtml;\n",
              "          element.appendChild(docLink);\n",
              "        }\n",
              "      </script>\n",
              "    </div>\n",
              "  </div>\n",
              "  "
            ]
          },
          "metadata": {},
          "execution_count": 246
        }
      ]
    },
    {
      "cell_type": "code",
      "source": [
        "fig = make_subplots(rows=1, cols=4, specs=[[{'type':'domain'},{'type':'domain'},{'type':'domain'},{'type':'domain'}]])\n",
        "fig.add_trace(go.Pie(labels=['Israeli', 'Tourist'], values=EnterPerSite[82], textinfo='label + percent', name='Megido', title='Megido'), 1, 1)\n",
        "fig.add_trace(go.Pie(labels=['Israeli', 'Tourist'], values=EnterPerSite[18], textinfo='label + percent', name='Banias', title='Banias'), 1, 2)\n",
        "fig.add_trace(go.Pie(labels=['Israeli', 'Tourist'], values=EnterPerSite[23], textinfo='label + percent', name='Gamla', title='Gamla'), 1, 3)\n",
        "fig.add_trace(go.Pie(labels=['Israeli', 'Tourist'], values=EnterPerSite[258], textinfo='label + percent', name='Metzada', title='Metzada'), 1, 4)\n",
        "fig.show()"
      ],
      "metadata": {
        "colab": {
          "base_uri": "https://localhost:8080/",
          "height": 0
        },
        "id": "ikPpZX8rC-T8",
        "outputId": "406b23fd-4625-4310-ae74-8475bdc7fa9c"
      },
      "execution_count": 247,
      "outputs": [
        {
          "output_type": "display_data",
          "data": {
            "text/html": [
              "<html>\n",
              "<head><meta charset=\"utf-8\" /></head>\n",
              "<body>\n",
              "    <div>            <script src=\"https://cdnjs.cloudflare.com/ajax/libs/mathjax/2.7.5/MathJax.js?config=TeX-AMS-MML_SVG\"></script><script type=\"text/javascript\">if (window.MathJax) {MathJax.Hub.Config({SVG: {font: \"STIX-Web\"}});}</script>                <script type=\"text/javascript\">window.PlotlyConfig = {MathJaxConfig: 'local'};</script>\n",
              "        <script src=\"https://cdn.plot.ly/plotly-2.8.3.min.js\"></script>                <div id=\"10739ce5-b7ad-483a-9d47-3bf60884a27c\" class=\"plotly-graph-div\" style=\"height:525px; width:100%;\"></div>            <script type=\"text/javascript\">                                    window.PLOTLYENV=window.PLOTLYENV || {};                                    if (document.getElementById(\"10739ce5-b7ad-483a-9d47-3bf60884a27c\")) {                    Plotly.newPlot(                        \"10739ce5-b7ad-483a-9d47-3bf60884a27c\",                        [{\"labels\":[\"Israeli\",\"Tourist\"],\"name\":\"Megido\",\"textinfo\":\"label+percent\",\"title\":{\"text\":\"Megido\"},\"values\":[1084.0,1090.0],\"type\":\"pie\",\"domain\":{\"x\":[0.0,0.2125],\"y\":[0.0,1.0]}},{\"labels\":[\"Israeli\",\"Tourist\"],\"name\":\"Banias\",\"textinfo\":\"label+percent\",\"title\":{\"text\":\"Banias\"},\"values\":[1092.0,1092.0],\"type\":\"pie\",\"domain\":{\"x\":[0.2625,0.475],\"y\":[0.0,1.0]}},{\"labels\":[\"Israeli\",\"Tourist\"],\"name\":\"Gamla\",\"textinfo\":\"label+percent\",\"title\":{\"text\":\"Gamla\"},\"values\":[1091.0,1047.0],\"type\":\"pie\",\"domain\":{\"x\":[0.525,0.7375],\"y\":[0.0,1.0]}},{\"labels\":[\"Israeli\",\"Tourist\"],\"name\":\"Metzada\",\"textinfo\":\"label+percent\",\"title\":{\"text\":\"Metzada\"},\"values\":[1088.0,1088.0],\"type\":\"pie\",\"domain\":{\"x\":[0.7875,1.0],\"y\":[0.0,1.0]}}],                        {\"template\":{\"data\":{\"bar\":[{\"error_x\":{\"color\":\"#2a3f5f\"},\"error_y\":{\"color\":\"#2a3f5f\"},\"marker\":{\"line\":{\"color\":\"#E5ECF6\",\"width\":0.5},\"pattern\":{\"fillmode\":\"overlay\",\"size\":10,\"solidity\":0.2}},\"type\":\"bar\"}],\"barpolar\":[{\"marker\":{\"line\":{\"color\":\"#E5ECF6\",\"width\":0.5},\"pattern\":{\"fillmode\":\"overlay\",\"size\":10,\"solidity\":0.2}},\"type\":\"barpolar\"}],\"carpet\":[{\"aaxis\":{\"endlinecolor\":\"#2a3f5f\",\"gridcolor\":\"white\",\"linecolor\":\"white\",\"minorgridcolor\":\"white\",\"startlinecolor\":\"#2a3f5f\"},\"baxis\":{\"endlinecolor\":\"#2a3f5f\",\"gridcolor\":\"white\",\"linecolor\":\"white\",\"minorgridcolor\":\"white\",\"startlinecolor\":\"#2a3f5f\"},\"type\":\"carpet\"}],\"choropleth\":[{\"colorbar\":{\"outlinewidth\":0,\"ticks\":\"\"},\"type\":\"choropleth\"}],\"contour\":[{\"colorbar\":{\"outlinewidth\":0,\"ticks\":\"\"},\"colorscale\":[[0.0,\"#0d0887\"],[0.1111111111111111,\"#46039f\"],[0.2222222222222222,\"#7201a8\"],[0.3333333333333333,\"#9c179e\"],[0.4444444444444444,\"#bd3786\"],[0.5555555555555556,\"#d8576b\"],[0.6666666666666666,\"#ed7953\"],[0.7777777777777778,\"#fb9f3a\"],[0.8888888888888888,\"#fdca26\"],[1.0,\"#f0f921\"]],\"type\":\"contour\"}],\"contourcarpet\":[{\"colorbar\":{\"outlinewidth\":0,\"ticks\":\"\"},\"type\":\"contourcarpet\"}],\"heatmap\":[{\"colorbar\":{\"outlinewidth\":0,\"ticks\":\"\"},\"colorscale\":[[0.0,\"#0d0887\"],[0.1111111111111111,\"#46039f\"],[0.2222222222222222,\"#7201a8\"],[0.3333333333333333,\"#9c179e\"],[0.4444444444444444,\"#bd3786\"],[0.5555555555555556,\"#d8576b\"],[0.6666666666666666,\"#ed7953\"],[0.7777777777777778,\"#fb9f3a\"],[0.8888888888888888,\"#fdca26\"],[1.0,\"#f0f921\"]],\"type\":\"heatmap\"}],\"heatmapgl\":[{\"colorbar\":{\"outlinewidth\":0,\"ticks\":\"\"},\"colorscale\":[[0.0,\"#0d0887\"],[0.1111111111111111,\"#46039f\"],[0.2222222222222222,\"#7201a8\"],[0.3333333333333333,\"#9c179e\"],[0.4444444444444444,\"#bd3786\"],[0.5555555555555556,\"#d8576b\"],[0.6666666666666666,\"#ed7953\"],[0.7777777777777778,\"#fb9f3a\"],[0.8888888888888888,\"#fdca26\"],[1.0,\"#f0f921\"]],\"type\":\"heatmapgl\"}],\"histogram\":[{\"marker\":{\"pattern\":{\"fillmode\":\"overlay\",\"size\":10,\"solidity\":0.2}},\"type\":\"histogram\"}],\"histogram2d\":[{\"colorbar\":{\"outlinewidth\":0,\"ticks\":\"\"},\"colorscale\":[[0.0,\"#0d0887\"],[0.1111111111111111,\"#46039f\"],[0.2222222222222222,\"#7201a8\"],[0.3333333333333333,\"#9c179e\"],[0.4444444444444444,\"#bd3786\"],[0.5555555555555556,\"#d8576b\"],[0.6666666666666666,\"#ed7953\"],[0.7777777777777778,\"#fb9f3a\"],[0.8888888888888888,\"#fdca26\"],[1.0,\"#f0f921\"]],\"type\":\"histogram2d\"}],\"histogram2dcontour\":[{\"colorbar\":{\"outlinewidth\":0,\"ticks\":\"\"},\"colorscale\":[[0.0,\"#0d0887\"],[0.1111111111111111,\"#46039f\"],[0.2222222222222222,\"#7201a8\"],[0.3333333333333333,\"#9c179e\"],[0.4444444444444444,\"#bd3786\"],[0.5555555555555556,\"#d8576b\"],[0.6666666666666666,\"#ed7953\"],[0.7777777777777778,\"#fb9f3a\"],[0.8888888888888888,\"#fdca26\"],[1.0,\"#f0f921\"]],\"type\":\"histogram2dcontour\"}],\"mesh3d\":[{\"colorbar\":{\"outlinewidth\":0,\"ticks\":\"\"},\"type\":\"mesh3d\"}],\"parcoords\":[{\"line\":{\"colorbar\":{\"outlinewidth\":0,\"ticks\":\"\"}},\"type\":\"parcoords\"}],\"pie\":[{\"automargin\":true,\"type\":\"pie\"}],\"scatter\":[{\"marker\":{\"colorbar\":{\"outlinewidth\":0,\"ticks\":\"\"}},\"type\":\"scatter\"}],\"scatter3d\":[{\"line\":{\"colorbar\":{\"outlinewidth\":0,\"ticks\":\"\"}},\"marker\":{\"colorbar\":{\"outlinewidth\":0,\"ticks\":\"\"}},\"type\":\"scatter3d\"}],\"scattercarpet\":[{\"marker\":{\"colorbar\":{\"outlinewidth\":0,\"ticks\":\"\"}},\"type\":\"scattercarpet\"}],\"scattergeo\":[{\"marker\":{\"colorbar\":{\"outlinewidth\":0,\"ticks\":\"\"}},\"type\":\"scattergeo\"}],\"scattergl\":[{\"marker\":{\"colorbar\":{\"outlinewidth\":0,\"ticks\":\"\"}},\"type\":\"scattergl\"}],\"scattermapbox\":[{\"marker\":{\"colorbar\":{\"outlinewidth\":0,\"ticks\":\"\"}},\"type\":\"scattermapbox\"}],\"scatterpolar\":[{\"marker\":{\"colorbar\":{\"outlinewidth\":0,\"ticks\":\"\"}},\"type\":\"scatterpolar\"}],\"scatterpolargl\":[{\"marker\":{\"colorbar\":{\"outlinewidth\":0,\"ticks\":\"\"}},\"type\":\"scatterpolargl\"}],\"scatterternary\":[{\"marker\":{\"colorbar\":{\"outlinewidth\":0,\"ticks\":\"\"}},\"type\":\"scatterternary\"}],\"surface\":[{\"colorbar\":{\"outlinewidth\":0,\"ticks\":\"\"},\"colorscale\":[[0.0,\"#0d0887\"],[0.1111111111111111,\"#46039f\"],[0.2222222222222222,\"#7201a8\"],[0.3333333333333333,\"#9c179e\"],[0.4444444444444444,\"#bd3786\"],[0.5555555555555556,\"#d8576b\"],[0.6666666666666666,\"#ed7953\"],[0.7777777777777778,\"#fb9f3a\"],[0.8888888888888888,\"#fdca26\"],[1.0,\"#f0f921\"]],\"type\":\"surface\"}],\"table\":[{\"cells\":{\"fill\":{\"color\":\"#EBF0F8\"},\"line\":{\"color\":\"white\"}},\"header\":{\"fill\":{\"color\":\"#C8D4E3\"},\"line\":{\"color\":\"white\"}},\"type\":\"table\"}]},\"layout\":{\"annotationdefaults\":{\"arrowcolor\":\"#2a3f5f\",\"arrowhead\":0,\"arrowwidth\":1},\"autotypenumbers\":\"strict\",\"coloraxis\":{\"colorbar\":{\"outlinewidth\":0,\"ticks\":\"\"}},\"colorscale\":{\"diverging\":[[0,\"#8e0152\"],[0.1,\"#c51b7d\"],[0.2,\"#de77ae\"],[0.3,\"#f1b6da\"],[0.4,\"#fde0ef\"],[0.5,\"#f7f7f7\"],[0.6,\"#e6f5d0\"],[0.7,\"#b8e186\"],[0.8,\"#7fbc41\"],[0.9,\"#4d9221\"],[1,\"#276419\"]],\"sequential\":[[0.0,\"#0d0887\"],[0.1111111111111111,\"#46039f\"],[0.2222222222222222,\"#7201a8\"],[0.3333333333333333,\"#9c179e\"],[0.4444444444444444,\"#bd3786\"],[0.5555555555555556,\"#d8576b\"],[0.6666666666666666,\"#ed7953\"],[0.7777777777777778,\"#fb9f3a\"],[0.8888888888888888,\"#fdca26\"],[1.0,\"#f0f921\"]],\"sequentialminus\":[[0.0,\"#0d0887\"],[0.1111111111111111,\"#46039f\"],[0.2222222222222222,\"#7201a8\"],[0.3333333333333333,\"#9c179e\"],[0.4444444444444444,\"#bd3786\"],[0.5555555555555556,\"#d8576b\"],[0.6666666666666666,\"#ed7953\"],[0.7777777777777778,\"#fb9f3a\"],[0.8888888888888888,\"#fdca26\"],[1.0,\"#f0f921\"]]},\"colorway\":[\"#636efa\",\"#EF553B\",\"#00cc96\",\"#ab63fa\",\"#FFA15A\",\"#19d3f3\",\"#FF6692\",\"#B6E880\",\"#FF97FF\",\"#FECB52\"],\"font\":{\"color\":\"#2a3f5f\"},\"geo\":{\"bgcolor\":\"white\",\"lakecolor\":\"white\",\"landcolor\":\"#E5ECF6\",\"showlakes\":true,\"showland\":true,\"subunitcolor\":\"white\"},\"hoverlabel\":{\"align\":\"left\"},\"hovermode\":\"closest\",\"mapbox\":{\"style\":\"light\"},\"paper_bgcolor\":\"white\",\"plot_bgcolor\":\"#E5ECF6\",\"polar\":{\"angularaxis\":{\"gridcolor\":\"white\",\"linecolor\":\"white\",\"ticks\":\"\"},\"bgcolor\":\"#E5ECF6\",\"radialaxis\":{\"gridcolor\":\"white\",\"linecolor\":\"white\",\"ticks\":\"\"}},\"scene\":{\"xaxis\":{\"backgroundcolor\":\"#E5ECF6\",\"gridcolor\":\"white\",\"gridwidth\":2,\"linecolor\":\"white\",\"showbackground\":true,\"ticks\":\"\",\"zerolinecolor\":\"white\"},\"yaxis\":{\"backgroundcolor\":\"#E5ECF6\",\"gridcolor\":\"white\",\"gridwidth\":2,\"linecolor\":\"white\",\"showbackground\":true,\"ticks\":\"\",\"zerolinecolor\":\"white\"},\"zaxis\":{\"backgroundcolor\":\"#E5ECF6\",\"gridcolor\":\"white\",\"gridwidth\":2,\"linecolor\":\"white\",\"showbackground\":true,\"ticks\":\"\",\"zerolinecolor\":\"white\"}},\"shapedefaults\":{\"line\":{\"color\":\"#2a3f5f\"}},\"ternary\":{\"aaxis\":{\"gridcolor\":\"white\",\"linecolor\":\"white\",\"ticks\":\"\"},\"baxis\":{\"gridcolor\":\"white\",\"linecolor\":\"white\",\"ticks\":\"\"},\"bgcolor\":\"#E5ECF6\",\"caxis\":{\"gridcolor\":\"white\",\"linecolor\":\"white\",\"ticks\":\"\"}},\"title\":{\"x\":0.05},\"xaxis\":{\"automargin\":true,\"gridcolor\":\"white\",\"linecolor\":\"white\",\"ticks\":\"\",\"title\":{\"standoff\":15},\"zerolinecolor\":\"white\",\"zerolinewidth\":2},\"yaxis\":{\"automargin\":true,\"gridcolor\":\"white\",\"linecolor\":\"white\",\"ticks\":\"\",\"title\":{\"standoff\":15},\"zerolinecolor\":\"white\",\"zerolinewidth\":2}}}},                        {\"responsive\": true}                    ).then(function(){\n",
              "                            \n",
              "var gd = document.getElementById('10739ce5-b7ad-483a-9d47-3bf60884a27c');\n",
              "var x = new MutationObserver(function (mutations, observer) {{\n",
              "        var display = window.getComputedStyle(gd).display;\n",
              "        if (!display || display === 'none') {{\n",
              "            console.log([gd, 'removed!']);\n",
              "            Plotly.purge(gd);\n",
              "            observer.disconnect();\n",
              "        }}\n",
              "}});\n",
              "\n",
              "// Listen for the removal of the full notebook cells\n",
              "var notebookContainer = gd.closest('#notebook-container');\n",
              "if (notebookContainer) {{\n",
              "    x.observe(notebookContainer, {childList: true});\n",
              "}}\n",
              "\n",
              "// Listen for the clearing of the current output cell\n",
              "var outputEl = gd.closest('.output');\n",
              "if (outputEl) {{\n",
              "    x.observe(outputEl, {childList: true});\n",
              "}}\n",
              "\n",
              "                        })                };                            </script>        </div>\n",
              "</body>\n",
              "</html>"
            ]
          },
          "metadata": {}
        }
      ]
    },
    {
      "cell_type": "markdown",
      "source": [
        "### **Build Megido, Banias, Gamla and Metzada Regression Tables**"
      ],
      "metadata": {
        "id": "L0Kc-1Q7qUkT"
      }
    },
    {
      "cell_type": "code",
      "source": [
        "FinalTable_df['Date'] = pd.to_datetime(FinalTable_df['Date'])"
      ],
      "metadata": {
        "id": "6_G6rqQuUSca"
      },
      "execution_count": 248,
      "outputs": []
    },
    {
      "cell_type": "code",
      "source": [
        "FinalTable_df['month'] = pd.Categorical.from_codes(\n",
        "    FinalTable_df['Date'].dt.month - 1,\n",
        "    categories=list(calendar.month_name),\n",
        "    ordered=True\n",
        ")\n",
        "\n",
        "FinalTable_df['season'] = pd.Categorical.from_codes(\n",
        "    FinalTable_df['Date'].dt.month % 12 // 3,\n",
        "    categories=['Winter', 'Spring', 'Summer', 'Fall'],\n",
        "    ordered=True\n",
        ")\n",
        "\n",
        "FinalTable_df = pd.get_dummies(FinalTable_df, columns=['season'], prefix_sep='', prefix='')"
      ],
      "metadata": {
        "id": "zTXAgrlQtj7j"
      },
      "execution_count": 249,
      "outputs": []
    },
    {
      "cell_type": "code",
      "source": [
        "FinalTable_df.drop(['Fall','month'], axis=1, inplace=True)\n"
      ],
      "metadata": {
        "id": "e_SAGyJC59gF"
      },
      "execution_count": 250,
      "outputs": []
    },
    {
      "cell_type": "code",
      "source": [
        "MegidoIsraeli_df = FinalTable_df.loc[FinalTable_df['Site_Name'] == 'Megido']\n",
        "MegidoTourist_df = FinalTable_df.loc[FinalTable_df['Site_Name'] == 'Megido']\n",
        "\n",
        "BaniasIsraeli_df = FinalTable_df.loc[FinalTable_df['Site_Name'] == 'Banias']\n",
        "BaniasTourist_df = FinalTable_df.loc[FinalTable_df['Site_Name'] == 'Banias']\n",
        "\n",
        "GamlaIsraeli_df = FinalTable_df.loc[FinalTable_df['Site_Name'] == 'Gamla']\n",
        "GamlaTourist_df = FinalTable_df.loc[FinalTable_df['Site_Name'] == 'Gamla']\n",
        "\n",
        "MetzadaIsraeli_df = FinalTable_df.loc[FinalTable_df['Site_Name'] == 'Metzada']\n",
        "MetzadaTourist_df = FinalTable_df.loc[FinalTable_df['Site_Name'] == 'Metzada']\n"
      ],
      "metadata": {
        "id": "N5ILCe94x9EU"
      },
      "execution_count": 251,
      "outputs": []
    },
    {
      "cell_type": "code",
      "source": [
        "MegidoIsraeli_df.drop(['Date','Site_Code','Temp_location_code','Air_quality_Code','Site_Name','Location','Tourist_Visitors','Air_quality_location','Shabbaton','Is_water_area','Is_Reserve','Camping','Is_Jewish_Site'], axis=1, inplace=True)\n",
        "MegidoTourist_df.drop(['Date','Site_Code','Temp_location_code','Air_quality_Code','Site_Name','Location','Israeli_Visitors','Air_quality_location','Shabbaton','Is_water_area','Is_Reserve','Camping','Is_Jewish_Site'], axis=1, inplace=True)\n",
        "\n",
        "BaniasIsraeli_df.drop(['Date','Site_Code','Temp_location_code','Air_quality_Code','Site_Name','Location','Tourist_Visitors','Air_quality_location','Shabbaton','Is_National_Park','Camping','Is_Jewish_Site'], axis=1, inplace=True)\n",
        "BaniasTourist_df.drop(['Date','Site_Code','Temp_location_code','Air_quality_Code','Site_Name','Location','Israeli_Visitors','Air_quality_location','Shabbaton','Is_National_Park','Camping','Is_Jewish_Site'], axis=1, inplace=True)\n",
        "\n",
        "GamlaIsraeli_df.drop(['Date','Site_Code','Temp_location_code','Air_quality_Code','Site_Name','Location','Tourist_Visitors','Air_quality_location','Shabbaton','Is_water_area','Is_National_Park','Camping','Is_Christian_Site'], axis=1, inplace=True)\n",
        "GamlaTourist_df.drop(['Date','Site_Code','Temp_location_code','Air_quality_Code','Site_Name','Location','Israeli_Visitors','Air_quality_location','Shabbaton','Is_water_area','Is_National_Park','Camping','Is_Christian_Site'], axis=1, inplace=True)\n",
        "\n",
        "MetzadaIsraeli_df.drop(['Date','Site_Code','Temp_location_code','Air_quality_Code','Site_Name','Location','Tourist_Visitors','Air_quality_location','Shabbaton','Is_water_area','Is_Reserve','Is_Christian_Site'], axis=1, inplace=True)\n",
        "MetzadaTourist_df.drop(['Date','Site_Code','Temp_location_code','Air_quality_Code','Site_Name','Location','Israeli_Visitors','Air_quality_location','Shabbaton','Is_water_area','Is_Reserve','Is_Christian_Site'], axis=1, inplace=True)"
      ],
      "metadata": {
        "id": "aYOOOAGTpW8g",
        "colab": {
          "base_uri": "https://localhost:8080/"
        },
        "outputId": "bd248a4f-3db1-4392-f403-735c928bbb09"
      },
      "execution_count": 252,
      "outputs": [
        {
          "output_type": "stream",
          "name": "stderr",
          "text": [
            "/usr/local/lib/python3.7/dist-packages/pandas/core/frame.py:4913: SettingWithCopyWarning:\n",
            "\n",
            "\n",
            "A value is trying to be set on a copy of a slice from a DataFrame\n",
            "\n",
            "See the caveats in the documentation: https://pandas.pydata.org/pandas-docs/stable/user_guide/indexing.html#returning-a-view-versus-a-copy\n",
            "\n"
          ]
        }
      ]
    },
    {
      "cell_type": "code",
      "source": [
        "#Megido Israeli\n",
        "MegidoIsraelipm25_df = MegidoIsraeli_df.copy()\n",
        "MegidoIsraelino2_df = MegidoIsraeli_df.copy()\n",
        "#Megido Tourist\n",
        "MegidoTouristpm25_df = MegidoTourist_df.copy()\n",
        "MegidoTouristno2_df = MegidoTourist_df.copy()\n",
        "\n",
        "#Banias Israeli\n",
        "BaniasIsraelipm25_df = BaniasIsraeli_df.copy()\n",
        "BaniasIsraelino2_df = BaniasIsraeli_df.copy()\n",
        "#Banias Tourist\n",
        "BaniasTouristpm25_df = BaniasTourist_df.copy()\n",
        "BaniasTouristno2_df = BaniasTourist_df.copy()\n",
        "\n",
        "#Gamla Israeli\n",
        "GamlaIsraelipm25_df = GamlaIsraeli_df.copy()\n",
        "GamlaIsraelino2_df = GamlaIsraeli_df.copy()\n",
        "#Gamla Tourist\n",
        "GamlaTouristpm25_df = GamlaTourist_df.copy()\n",
        "GamlaTouristno2_df = GamlaTourist_df.copy()\n",
        "\n",
        "#Metzada Israeli\n",
        "MetzadaIsraelipm25_df = MetzadaIsraeli_df.copy()\n",
        "MetzadaIsraelipm10_df = MetzadaIsraeli_df.copy()\n",
        "MetzadaIsraelino2_df = MetzadaIsraeli_df.copy()\n",
        "#Metzada Tourist\n",
        "MetzadaTouristpm25_df = MetzadaTourist_df.copy()\n",
        "MetzadaTouristpm10_df = MetzadaTourist_df.copy()\n",
        "MetzadaTouristno2_df = MetzadaTourist_df.copy()"
      ],
      "metadata": {
        "id": "RMPe4tVhMLy3"
      },
      "execution_count": 253,
      "outputs": []
    },
    {
      "cell_type": "code",
      "source": [
        "#Megido Israeli\n",
        "MegidoIsraelipm25_df.drop(['pm10','no2','so2'], axis=1, inplace=True)\n",
        "MegidoIsraelino2_df.drop(['pm25','pm10','so2'], axis=1, inplace=True)\n",
        "#Megido Tourist\n",
        "MegidoTouristpm25_df.drop(['pm10','no2','so2'], axis=1, inplace=True)\n",
        "MegidoTouristno2_df.drop(['pm25','pm10','so2'], axis=1, inplace=True)\n",
        "\n",
        "#Banias Israeli\n",
        "BaniasIsraelipm25_df.drop(['pm10','no2','so2'], axis=1, inplace=True)\n",
        "BaniasIsraelino2_df.drop(['pm25','pm10','so2'], axis=1, inplace=True)\n",
        "#Banias Tourist\n",
        "BaniasTouristpm25_df.drop(['pm10','no2','so2'], axis=1, inplace=True)\n",
        "BaniasTouristno2_df.drop(['pm25','pm10','so2'], axis=1, inplace=True)\n",
        "\n",
        "#Gamla Israeli\n",
        "GamlaIsraelipm25_df.drop(['pm10','no2','so2'], axis=1, inplace=True)\n",
        "GamlaIsraelino2_df.drop(['pm25','pm10','so2'], axis=1, inplace=True)\n",
        "#Gamla Tourist\n",
        "GamlaTouristpm25_df.drop(['pm10','no2','so2'], axis=1, inplace=True)\n",
        "GamlaTouristno2_df.drop(['pm25','pm10','so2'], axis=1, inplace=True)\n",
        "\n",
        "#Metzada Israeli\n",
        "MetzadaIsraelipm25_df.drop(['pm10','no2','so2'], axis=1, inplace=True)\n",
        "MetzadaIsraelipm10_df.drop(['pm25','no2','so2'], axis=1, inplace=True)\n",
        "MetzadaIsraelino2_df.drop(['pm25','pm10','so2'], axis=1, inplace=True)\n",
        "#Metzada Tourist\n",
        "MetzadaTouristpm25_df.drop(['pm10','no2','so2'], axis=1, inplace=True)\n",
        "MetzadaTouristpm10_df.drop(['pm25','no2','so2'], axis=1, inplace=True)\n",
        "MetzadaTouristno2_df.drop(['pm25','pm10','so2'], axis=1, inplace=True)"
      ],
      "metadata": {
        "id": "lMqcjtkuwt7S"
      },
      "execution_count": 254,
      "outputs": []
    },
    {
      "cell_type": "code",
      "source": [
        "#Megido Israeli\n",
        "MegidoIsraelipm25_df.dropna(inplace=True)\n",
        "MegidoIsraelino2_df.dropna(inplace=True)\n",
        "#Megido Tourist\n",
        "MegidoTouristpm25_df.dropna(inplace=True)\n",
        "MegidoTouristno2_df.dropna(inplace=True)\n",
        "\n",
        "#Banias Israeli\n",
        "BaniasIsraelipm25_df.dropna(inplace=True)\n",
        "BaniasIsraelino2_df.dropna(inplace=True)\n",
        "#Banias Tourist\n",
        "BaniasTouristpm25_df.dropna(inplace=True)\n",
        "BaniasTouristno2_df.dropna(inplace=True)\n",
        "\n",
        "#Gamla Israeli\n",
        "GamlaIsraelipm25_df.dropna(inplace=True)\n",
        "GamlaIsraelino2_df.dropna(inplace=True)\n",
        "#Gamla Tourist\n",
        "GamlaTouristpm25_df.dropna(inplace=True)\n",
        "GamlaTouristno2_df.dropna(inplace=True)\n",
        "\n",
        "#Metzada Israeli\n",
        "MetzadaIsraelipm25_df.dropna(inplace=True)\n",
        "MetzadaIsraelipm10_df.dropna(inplace=True)\n",
        "MetzadaIsraelino2_df.dropna(inplace=True)\n",
        "#Metzada Tourist\n",
        "MetzadaTouristpm25_df.dropna(inplace=True)\n",
        "MetzadaTouristpm10_df.dropna(inplace=True)\n",
        "MetzadaTouristno2_df.dropna(inplace=True)"
      ],
      "metadata": {
        "id": "o5DDIVdXV0As"
      },
      "execution_count": 255,
      "outputs": []
    },
    {
      "cell_type": "code",
      "source": [
        "#Megido Israeli\n",
        "MegidoIsraelipm25_df.reset_index(inplace=True, drop=True)\n",
        "MegidoIsraelino2_df.reset_index(inplace=True, drop=True)\n",
        "#Megido Tourist\n",
        "MegidoTouristpm25_df.reset_index(inplace=True, drop=True)\n",
        "MegidoTouristno2_df.reset_index(inplace=True, drop=True)\n",
        "\n",
        "#Banias Israeli\n",
        "BaniasIsraelipm25_df.reset_index(inplace=True, drop=True)\n",
        "BaniasIsraelino2_df.reset_index(inplace=True, drop=True)\n",
        "#Banias Tourist\n",
        "BaniasTouristpm25_df.reset_index(inplace=True, drop=True)\n",
        "BaniasTouristno2_df.reset_index(inplace=True, drop=True)\n",
        "\n",
        "#Gamla Israeli\n",
        "GamlaIsraelipm25_df.reset_index(inplace=True, drop=True)\n",
        "GamlaIsraelino2_df.reset_index(inplace=True, drop=True)\n",
        "#Gamla Tourist\n",
        "GamlaTouristpm25_df.reset_index(inplace=True, drop=True)\n",
        "GamlaTouristno2_df.reset_index(inplace=True, drop=True)\n",
        "\n",
        "#Metzada Israeli\n",
        "MetzadaIsraelipm25_df.reset_index(inplace=True, drop=True)\n",
        "MetzadaIsraelipm10_df.reset_index(inplace=True, drop=True)\n",
        "MetzadaIsraelino2_df.reset_index(inplace=True, drop=True)\n",
        "#Metzada Tourist\n",
        "MetzadaTouristpm25_df.reset_index(inplace=True, drop=True)\n",
        "MetzadaTouristpm10_df.reset_index(inplace=True, drop=True)\n",
        "MetzadaTouristno2_df.reset_index(inplace=True, drop=True)"
      ],
      "metadata": {
        "id": "4LXm0xj5bH9C"
      },
      "execution_count": 256,
      "outputs": []
    },
    {
      "cell_type": "code",
      "source": [
        "from sklearn.preprocessing import MinMaxScaler\n",
        "scaler = MinMaxScaler()\n",
        "#Megido Israeli\n",
        "scaled_MegidoIsraelipm25_df = pd.DataFrame(scaler.fit_transform(MegidoIsraelipm25_df), columns=MegidoIsraelipm25_df.columns)\n",
        "scaled_MegidoIsraelino2_df = pd.DataFrame(scaler.fit_transform(MegidoIsraelino2_df), columns=MegidoIsraelino2_df.columns)\n",
        "#Megido Tourist\n",
        "scaled_MegidoTouristpm25_df = pd.DataFrame(scaler.fit_transform(MegidoTouristpm25_df), columns=MegidoTouristpm25_df.columns)\n",
        "scaled_MegidoTouristno2_df = pd.DataFrame(scaler.fit_transform(MegidoTouristno2_df), columns=MegidoTouristno2_df.columns)\n",
        "\n",
        "#Banias Israeli\n",
        "scaled_BaniasIsraelipm25_df = pd.DataFrame(scaler.fit_transform(BaniasIsraelipm25_df), columns=BaniasIsraelipm25_df.columns)\n",
        "scaled_BaniasIsraelino2_df = pd.DataFrame(scaler.fit_transform(BaniasIsraelino2_df), columns=BaniasIsraelino2_df.columns)\n",
        "#Banias Tourist\n",
        "scaled_BaniasTouristpm25_df = pd.DataFrame(scaler.fit_transform(BaniasTouristpm25_df), columns=BaniasTouristpm25_df.columns)\n",
        "scaled_BaniasTouristno2_df = pd.DataFrame(scaler.fit_transform(BaniasTouristno2_df), columns=BaniasTouristno2_df.columns)\n",
        "\n",
        "#Gamla Israeli\n",
        "scaled_GamlaIsraelipm25_df = pd.DataFrame(scaler.fit_transform(GamlaIsraelipm25_df), columns=GamlaIsraelipm25_df.columns)\n",
        "scaled_GamlaIsraelino2_df = pd.DataFrame(scaler.fit_transform(GamlaIsraelino2_df), columns=GamlaIsraelino2_df.columns)\n",
        "#Gamla Tourist\n",
        "scaled_GamlaTouristpm25_df = pd.DataFrame(scaler.fit_transform(GamlaTouristpm25_df), columns=GamlaTouristpm25_df.columns)\n",
        "scaled_GamlaTouristno2_df = pd.DataFrame(scaler.fit_transform(GamlaTouristno2_df), columns=GamlaTouristno2_df.columns)\n",
        "\n",
        "#Metzada Israeli\n",
        "scaled_MetzadaIsraelipm25_df = pd.DataFrame(scaler.fit_transform(MetzadaIsraelipm25_df), columns=MetzadaIsraelipm25_df.columns)\n",
        "scaled_MetzadaIsraelipm10_df = pd.DataFrame(scaler.fit_transform(MetzadaIsraelipm10_df), columns=MetzadaIsraelipm10_df.columns)\n",
        "scaled_MetzadaIsraelino2_df = pd.DataFrame(scaler.fit_transform(MetzadaIsraelino2_df), columns=MetzadaIsraelino2_df.columns)\n",
        "#Metzada Tourist\n",
        "scaled_MetzadaTouristpm25_df = pd.DataFrame(scaler.fit_transform(MetzadaTouristpm25_df), columns=MetzadaTouristpm25_df.columns)\n",
        "scaled_MetzadaTouristpm10_df = pd.DataFrame(scaler.fit_transform(MetzadaTouristpm10_df), columns=MetzadaTouristpm10_df.columns)\n",
        "scaled_MetzadaTouristno2_df = pd.DataFrame(scaler.fit_transform(MetzadaTouristno2_df), columns=MetzadaTouristno2_df.columns)"
      ],
      "metadata": {
        "id": "esPFqNpvV-Jl"
      },
      "execution_count": 257,
      "outputs": []
    },
    {
      "cell_type": "code",
      "source": [
        "#Megido Israeli\n",
        "corr_MegidoIsraelipm25_df = MegidoIsraelipm25_df.corr()\n",
        "correlated_MegidoIsraelipm25_df = corr_MegidoIsraelipm25_df.Israeli_Visitors.index.tolist()\n",
        "\n",
        "corr_MegidoIsraelino2_df = MegidoIsraelino2_df.corr()\n",
        "correlated_MegidoIsraelino2_df = corr_MegidoIsraelino2_df.Israeli_Visitors.index.tolist()\n",
        "#Megido Tourist\n",
        "corr_MegidoTouristpm25_df = MegidoTouristpm25_df.corr()\n",
        "correlated_MegidoTouristpm25_df = corr_MegidoTouristpm25_df.Tourist_Visitors.index.tolist()\n",
        "\n",
        "corr_MegidoTouristno2_df = MegidoTouristno2_df.corr()\n",
        "correlated_MegidoTouristno2_df = corr_MegidoTouristno2_df.Tourist_Visitors.index.tolist()\n",
        "\n",
        "#-------------------------------\n",
        "\n",
        "#Banias Israeli\n",
        "corr_BaniasIsraelipm25_df = BaniasIsraelipm25_df.corr()\n",
        "correlated_BaniasIsraelipm25_df = corr_BaniasIsraelipm25_df.Israeli_Visitors.index.tolist()\n",
        "\n",
        "corr_BaniasIsraelino2_df = BaniasIsraelino2_df.corr()\n",
        "correlated_BaniasIsraelino2_df = corr_BaniasIsraelino2_df.Israeli_Visitors.index.tolist()\n",
        "#Banias Tourist\n",
        "corr_BaniasTouristpm25_df = BaniasTouristpm25_df.corr()\n",
        "correlated_BaniasTouristpm25_df = corr_BaniasTouristpm25_df.Tourist_Visitors.index.tolist()\n",
        "\n",
        "corr_BaniasTouristno2_df = BaniasTouristno2_df.corr()\n",
        "correlated_BaniasTouristno2_df = corr_BaniasTouristno2_df.Tourist_Visitors.index.tolist()\n",
        "\n",
        "#-------------------------------\n",
        "\n",
        "#Gamla Israeli\n",
        "corr_GamlaIsraelipm25_df = GamlaIsraelipm25_df.corr()\n",
        "correlated_GamlaIsraelipm25_df = corr_GamlaIsraelipm25_df.Israeli_Visitors.index.tolist()\n",
        "\n",
        "corr_GamlaIsraelino2_df = GamlaIsraelino2_df.corr()\n",
        "correlated_GamlaIsraelino2_df = corr_GamlaIsraelino2_df.Israeli_Visitors.index.tolist()\n",
        "#Gamla Tourist\n",
        "corr_GamlaTouristpm25_df = GamlaTouristpm25_df.corr()\n",
        "correlated_GamlaTouristpm25_df = corr_GamlaTouristpm25_df.Tourist_Visitors.index.tolist()\n",
        "\n",
        "corr_GamlaTouristno2_df = GamlaTouristno2_df.corr()\n",
        "correlated_GamlaTouristno2_df = corr_GamlaTouristno2_df.Tourist_Visitors.index.tolist()\n",
        "\n",
        "#-------------------------------\n",
        "\n",
        "#Metzada Israeli\n",
        "corr_MetzadaIsraelipm25_df = MetzadaIsraelipm25_df.corr()\n",
        "correlated_MetzadaIsraelipm25_df = corr_MetzadaIsraelipm25_df.Israeli_Visitors.index.tolist()\n",
        "\n",
        "corr_MetzadaIsraelipm10_df = MetzadaIsraelipm10_df.corr()\n",
        "correlated_MetzadaIsraelipm10_df = corr_MetzadaIsraelipm10_df.Israeli_Visitors.index.tolist()\n",
        "\n",
        "corr_MetzadaIsraelino2_df = MetzadaIsraelino2_df.corr()\n",
        "correlated_MetzadaIsraelino2_df = corr_MetzadaIsraelino2_df.Israeli_Visitors.index.tolist()\n",
        "#Metzada Tourist\n",
        "corr_MetzadaTouristpm25_df = MetzadaTouristpm25_df.corr()\n",
        "correlated_MetzadaTouristpm25_df = corr_MetzadaTouristpm25_df.Tourist_Visitors.index.tolist()\n",
        "\n",
        "corr_MetzadaTouristpm10_df = MetzadaTouristpm10_df.corr()\n",
        "correlated_MetzadaTouristpm10_df = corr_MetzadaTouristpm10_df.Tourist_Visitors.index.tolist()\n",
        "\n",
        "corr_MetzadaTouristno2_df = MetzadaTouristno2_df.corr()\n",
        "correlated_MetzadaTouristno2_df = corr_MetzadaTouristno2_df.Tourist_Visitors.index.tolist()"
      ],
      "metadata": {
        "id": "KT9eK15saW6w"
      },
      "execution_count": 258,
      "outputs": []
    },
    {
      "cell_type": "code",
      "source": [
        "#Megido Israeli\n",
        "correlated_MegidoIsraelipm25_df = correlated_MegidoIsraelipm25_df[1:]\n",
        "correlated_MegidoIsraelino2_df = correlated_MegidoIsraelino2_df[1:]\n",
        "#Megido Tourist\n",
        "correlated_MegidoTouristpm25_df = correlated_MegidoTouristpm25_df[1:]\n",
        "correlated_MegidoTouristno2_df = correlated_MegidoTouristno2_df[1:]\n",
        "\n",
        "#Banias Israeli\n",
        "correlated_BaniasIsraelipm25_df = correlated_BaniasIsraelipm25_df[1:]\n",
        "correlated_BaniasIsraelino2_df = correlated_BaniasIsraelino2_df[1:]\n",
        "#Banias Tourist\n",
        "correlated_BaniasTouristpm25_df = correlated_BaniasTouristpm25_df[1:]\n",
        "correlated_BaniasTouristno2_df = correlated_BaniasTouristno2_df[1:]\n",
        "\n",
        "#Gamla Israeli\n",
        "correlated_GamlaIsraelipm25_df = correlated_GamlaIsraelipm25_df[1:]\n",
        "correlated_GamlaIsraelino2_df = correlated_GamlaIsraelino2_df[1:]\n",
        "#Gamla Tourist\n",
        "correlated_GamlaTouristpm25_df = correlated_GamlaTouristpm25_df[1:]\n",
        "correlated_GamlaTouristno2_df = correlated_GamlaTouristno2_df[1:]\n",
        "\n",
        "#Metzada Israeli\n",
        "correlated_MetzadaIsraelipm25_df = correlated_MetzadaIsraelipm25_df[1:]\n",
        "correlated_MetzadaIsraelipm10_df = correlated_MetzadaIsraelipm10_df[1:]\n",
        "correlated_MetzadaIsraelino2_df = correlated_MetzadaIsraelino2_df[1:]\n",
        "#Metzada Tourist\n",
        "correlated_MetzadaTouristpm25_df = correlated_MetzadaTouristpm25_df[1:]\n",
        "correlated_MetzadaTouristpm10_df = correlated_MetzadaTouristpm10_df[1:]\n",
        "correlated_MetzadaTouristno2_df = correlated_MetzadaTouristno2_df[1:]"
      ],
      "metadata": {
        "id": "NIFxJMkgagzS"
      },
      "execution_count": 259,
      "outputs": []
    },
    {
      "cell_type": "markdown",
      "source": [
        "### **Build Megido Weekend Regression Tables**"
      ],
      "metadata": {
        "id": "fBnSpqiL5vRO"
      }
    },
    {
      "cell_type": "code",
      "source": [
        "MegidoIsraeliWeekend_df = MegidoIsraeli_df.loc[MegidoIsraeli_df['Is_Weekend'] == 1]"
      ],
      "metadata": {
        "id": "fT9l7wjf5uFH"
      },
      "execution_count": 260,
      "outputs": []
    },
    {
      "cell_type": "code",
      "source": [
        "MegidoIsraeliWeekendpm25_df = MegidoIsraeliWeekend_df.copy()\n",
        "MegidoIsraeliWeekendno2_df = MegidoIsraeliWeekend_df.copy()\n",
        "MegidoIsraeliWeekendTemp_df = MegidoIsraeliWeekend_df.copy()"
      ],
      "metadata": {
        "id": "l2JdRyEo7f6W"
      },
      "execution_count": 261,
      "outputs": []
    },
    {
      "cell_type": "code",
      "source": [
        "MegidoIsraeliWeekendpm25_df.drop(['pm10','no2','so2','Temp_C'], axis=1, inplace=True)\n",
        "MegidoIsraeliWeekendno2_df.drop(['pm25','pm10','so2','Temp_C'], axis=1, inplace=True)\n",
        "MegidoIsraeliWeekendTemp_df.drop(['pm25','pm10','so2','no2'], axis=1, inplace=True)"
      ],
      "metadata": {
        "id": "6xnjLnVA7vLi"
      },
      "execution_count": 262,
      "outputs": []
    },
    {
      "cell_type": "code",
      "source": [
        "MegidoIsraeliWeekendpm25_df.dropna(inplace=True)\n",
        "MegidoIsraeliWeekendno2_df.dropna(inplace=True)\n",
        "MegidoIsraeliWeekendTemp_df.dropna(inplace=True)"
      ],
      "metadata": {
        "id": "0wYGg4P37vJU"
      },
      "execution_count": 263,
      "outputs": []
    },
    {
      "cell_type": "code",
      "source": [
        "MegidoIsraeliWeekendpm25_df.reset_index(inplace=True, drop=True)\n",
        "MegidoIsraeliWeekendno2_df.reset_index(inplace=True, drop=True)\n",
        "MegidoIsraeliWeekendTemp_df.reset_index(inplace=True, drop=True)"
      ],
      "metadata": {
        "id": "XQNOdWZ47vG7"
      },
      "execution_count": 264,
      "outputs": []
    },
    {
      "cell_type": "code",
      "source": [
        "from sklearn.preprocessing import MinMaxScaler\n",
        "scaler = MinMaxScaler()\n",
        "\n",
        "scaled_MegidoIsraeliWeekendpm25_df = pd.DataFrame(scaler.fit_transform(MegidoIsraeliWeekendpm25_df), columns=MegidoIsraeliWeekendpm25_df.columns)\n",
        "scaled_MegidoIsraeliWeekendno2_df = pd.DataFrame(scaler.fit_transform(MegidoIsraeliWeekendno2_df), columns=MegidoIsraeliWeekendno2_df.columns)\n",
        "scaled_MegidoIsraeliWeekendTemp_df = pd.DataFrame(scaler.fit_transform(MegidoIsraeliWeekendTemp_df), columns=MegidoIsraeliWeekendTemp_df.columns)"
      ],
      "metadata": {
        "id": "LlQ6aqze7vEe"
      },
      "execution_count": 265,
      "outputs": []
    },
    {
      "cell_type": "code",
      "source": [
        "corr_MegidoIsraeliWeekendpm25_df = MegidoIsraeliWeekendpm25_df.corr()\n",
        "correlated_MegidoIsraeliWeekendpm25_df = corr_MegidoIsraeliWeekendpm25_df.Israeli_Visitors.index.tolist()\n",
        "\n",
        "corr_MegidoIsraeliWeekendno2_df = MegidoIsraeliWeekendno2_df.corr()\n",
        "correlated_MegidoIsraeliWeekendno2_df = corr_MegidoIsraeliWeekendno2_df.Israeli_Visitors.index.tolist()\n",
        "\n",
        "corr_MegidoIsraeliWeekendTemp_df = MegidoIsraeliWeekendTemp_df.corr()\n",
        "correlated_MegidoIsraeliWeekendTemp_df = corr_MegidoIsraeliWeekendTemp_df.Israeli_Visitors.index.tolist()"
      ],
      "metadata": {
        "id": "S3twFyaq7vCE"
      },
      "execution_count": 266,
      "outputs": []
    },
    {
      "cell_type": "code",
      "source": [
        "correlated_MegidoIsraeliWeekendpm25_df = correlated_MegidoIsraeliWeekendpm25_df[1:]\n",
        "correlated_MegidoIsraeliWeekendno2_df = correlated_MegidoIsraeliWeekendno2_df[1:]\n",
        "correlated_MegidoIsraeliWeekendTemp_df = correlated_MegidoIsraeliWeekendTemp_df[1:]"
      ],
      "metadata": {
        "id": "ezlbM7Y07u6H"
      },
      "execution_count": 267,
      "outputs": []
    },
    {
      "cell_type": "markdown",
      "source": [
        "### **Build Full Table Summer Regression Tables**"
      ],
      "metadata": {
        "id": "Efbcc81qtBwz"
      }
    },
    {
      "cell_type": "code",
      "source": [
        "FullTableSummerIsraeli_df = FinalTable_df.loc[FinalTable_df['Summer'] == 1]\n",
        "FullTableSummerTourist_df = FinalTable_df.loc[FinalTable_df['Summer'] == 1]"
      ],
      "metadata": {
        "id": "1RTF6pZvtMPx"
      },
      "execution_count": 268,
      "outputs": []
    },
    {
      "cell_type": "code",
      "source": [
        "FullTableSummerIsraeli_df.drop(['Date','Site_Code','Temp_location_code','Air_quality_Code','Site_Name','Location','Tourist_Visitors','Air_quality_location','Shabbaton','Winter','Spring'], axis=1, inplace=True)\n",
        "FullTableSummerTourist_df.drop(['Date','Site_Code','Temp_location_code','Air_quality_Code','Site_Name','Location','Israeli_Visitors','Air_quality_location','Shabbaton','Winter','Spring'], axis=1, inplace=True)"
      ],
      "metadata": {
        "colab": {
          "base_uri": "https://localhost:8080/"
        },
        "id": "mhfEQXjatNPX",
        "outputId": "e859f5ae-dddc-4a24-ca71-e1ddc5d061ca"
      },
      "execution_count": 269,
      "outputs": [
        {
          "output_type": "stream",
          "name": "stderr",
          "text": [
            "/usr/local/lib/python3.7/dist-packages/pandas/core/frame.py:4913: SettingWithCopyWarning:\n",
            "\n",
            "\n",
            "A value is trying to be set on a copy of a slice from a DataFrame\n",
            "\n",
            "See the caveats in the documentation: https://pandas.pydata.org/pandas-docs/stable/user_guide/indexing.html#returning-a-view-versus-a-copy\n",
            "\n"
          ]
        }
      ]
    },
    {
      "cell_type": "code",
      "source": [
        "#Israeli\n",
        "FullTableSummerIsraelipm25_df = FullTableSummerIsraeli_df.copy()\n",
        "FullTableSummerIsraelino2_df = FullTableSummerIsraeli_df.copy()\n",
        "#Tourist\n",
        "FullTableSummerTouristpm25_df = FullTableSummerTourist_df.copy()\n",
        "FullTableSummerTouristno2_df = FullTableSummerTourist_df.copy()"
      ],
      "metadata": {
        "id": "YaCxo71YxeLB"
      },
      "execution_count": 270,
      "outputs": []
    },
    {
      "cell_type": "code",
      "source": [
        "#Israeli\n",
        "FullTableSummerIsraelipm25_df.drop(['pm10','no2','so2'], axis=1, inplace=True)\n",
        "FullTableSummerIsraelino2_df.drop(['pm25','pm10','so2'], axis=1, inplace=True)\n",
        "#Tourist\n",
        "FullTableSummerTouristpm25_df.drop(['pm10','no2','so2'], axis=1, inplace=True)\n",
        "FullTableSummerTouristno2_df.drop(['pm25','pm10','so2'], axis=1, inplace=True)"
      ],
      "metadata": {
        "id": "BpyMsSC7yEgS"
      },
      "execution_count": 271,
      "outputs": []
    },
    {
      "cell_type": "code",
      "source": [
        "#Israeli\n",
        "FullTableSummerIsraelipm25_df.dropna(inplace=True)\n",
        "FullTableSummerIsraelino2_df.dropna(inplace=True)\n",
        "#Tourist\n",
        "FullTableSummerTouristpm25_df.dropna(inplace=True)\n",
        "FullTableSummerTouristno2_df.dropna(inplace=True)"
      ],
      "metadata": {
        "id": "LDTSntE1yEWh"
      },
      "execution_count": 272,
      "outputs": []
    },
    {
      "cell_type": "code",
      "source": [
        "#Israeli\n",
        "FullTableSummerIsraelipm25_df.reset_index(inplace=True, drop=True)\n",
        "FullTableSummerIsraelino2_df.reset_index(inplace=True, drop=True)\n",
        "#Tourist\n",
        "FullTableSummerTouristpm25_df.reset_index(inplace=True, drop=True)\n",
        "FullTableSummerTouristno2_df.reset_index(inplace=True, drop=True)"
      ],
      "metadata": {
        "id": "wPVrTFWhyEUK"
      },
      "execution_count": 273,
      "outputs": []
    },
    {
      "cell_type": "code",
      "source": [
        "from sklearn.preprocessing import MinMaxScaler\n",
        "scaler = MinMaxScaler()\n",
        "#Israeli\n",
        "scaled_FullTableSummerIsraelipm25_df = pd.DataFrame(scaler.fit_transform(FullTableSummerIsraelipm25_df), columns=FullTableSummerIsraelipm25_df.columns)\n",
        "scaled_FullTableSummerIsraelino2_df = pd.DataFrame(scaler.fit_transform(FullTableSummerIsraelino2_df), columns=FullTableSummerIsraelino2_df.columns)\n",
        "#Tourist\n",
        "scaled_FullTableSummerTouristpm25_df = pd.DataFrame(scaler.fit_transform(FullTableSummerTouristpm25_df), columns=FullTableSummerTouristpm25_df.columns)\n",
        "scaled_FullTableSummerTouristno2_df = pd.DataFrame(scaler.fit_transform(FullTableSummerTouristno2_df), columns=FullTableSummerTouristno2_df.columns)"
      ],
      "metadata": {
        "id": "sr1V9EMQyEOU"
      },
      "execution_count": 274,
      "outputs": []
    },
    {
      "cell_type": "code",
      "source": [
        "#Israeli\n",
        "corr_FullTableSummerIsraelipm25_df = FullTableSummerIsraelipm25_df.corr()\n",
        "correlated_FullTableSummerIsraelipm25_df = corr_FullTableSummerIsraelipm25_df.Israeli_Visitors.index.tolist()\n",
        "\n",
        "corr_FullTableSummerIsraelino2_df = FullTableSummerIsraelino2_df.corr()\n",
        "correlated_FullTableSummerIsraelino2_df = corr_FullTableSummerIsraelino2_df.Israeli_Visitors.index.tolist()\n",
        "\n",
        "#Tourist\n",
        "corr_FullTableSummerTouristpm25_df = FullTableSummerTouristpm25_df.corr()\n",
        "correlated_FullTableSummerTouristpm25_df = corr_FullTableSummerTouristpm25_df.Tourist_Visitors.index.tolist()\n",
        "\n",
        "corr_FullTableSummerTouristno2_df = FullTableSummerTouristno2_df.corr()\n",
        "correlated_FullTableSummerTouristno2_df = corr_FullTableSummerTouristno2_df.Tourist_Visitors.index.tolist()"
      ],
      "metadata": {
        "id": "L8ikp8z9yEL7"
      },
      "execution_count": 275,
      "outputs": []
    },
    {
      "cell_type": "code",
      "source": [
        "#Israeli\n",
        "correlated_FullTableSummerIsraelipm25_df = correlated_FullTableSummerIsraelipm25_df[1:]\n",
        "correlated_FullTableSummerIsraelino2_df = correlated_FullTableSummerIsraelino2_df[1:]\n",
        "#Tourist\n",
        "correlated_FullTableSummerTouristpm25_df = correlated_FullTableSummerTouristpm25_df[1:]\n",
        "correlated_FullTableSummerTouristno2_df = correlated_FullTableSummerTouristno2_df[1:]"
      ],
      "metadata": {
        "id": "Bwjdrb9meOqF"
      },
      "execution_count": 276,
      "outputs": []
    },
    {
      "cell_type": "markdown",
      "source": [
        "### **Megido**"
      ],
      "metadata": {
        "id": "hSSudxTEqEqT"
      }
    },
    {
      "cell_type": "markdown",
      "source": [
        "**Megido Israeli pm25**"
      ],
      "metadata": {
        "id": "3MFDuHuzSQpd"
      }
    },
    {
      "cell_type": "code",
      "source": [
        "MegidoIsraelipm25_df.std()"
      ],
      "metadata": {
        "colab": {
          "base_uri": "https://localhost:8080/"
        },
        "id": "oDNQCGCMOs0F",
        "outputId": "f33a3b82-bf5f-442b-84d9-7110b0780621"
      },
      "execution_count": 277,
      "outputs": [
        {
          "output_type": "execute_result",
          "data": {
            "text/plain": [
              "Israeli_Visitors        91.700693\n",
              "Temp_C                   6.880385\n",
              "pm25                    17.214486\n",
              "Is_Weekend               0.450671\n",
              "Is_Jewish_Holiday        0.299762\n",
              "Is_Muslem_Holiday        0.179344\n",
              "Is_Christian_Holiday     0.118556\n",
              "Is_National_Park         0.000000\n",
              "Is_Christian_Site        0.000000\n",
              "Duration_Of_Visit        0.000000\n",
              "Winter                   0.430300\n",
              "Spring                   0.435793\n",
              "Summer                   0.438436\n",
              "dtype: float64"
            ]
          },
          "metadata": {},
          "execution_count": 277
        }
      ]
    },
    {
      "cell_type": "code",
      "source": [
        "from sklearn.model_selection import train_test_split\n",
        "y_Megido_Israelipm25 = MegidoIsraelipm25_df.Israeli_Visitors\n",
        "X_Megido_Israelipm25 = MegidoIsraelipm25_df[correlated_MegidoIsraelipm25_df]\n",
        "\n",
        "X_train_Megido_Israelipm25, X_test_Megido_Israelipm25, y_train_Megido_Israelipm25, y_test_Megido_Israelipm25 = train_test_split(X_Megido_Israelipm25, y_Megido_Israelipm25, test_size=0.3, random_state=1234)\n",
        "train_df_Megido_Israelipm25 = pd.merge(left=X_train_Megido_Israelipm25, right=y_train_Megido_Israelipm25, left_index=True, right_index=True)\n",
        "test_df_Megido_Israelipm25 = pd.merge(left=X_test_Megido_Israelipm25, right=y_test_Megido_Israelipm25, left_index=True, right_index=True)\n",
        "#test_df_Megido_Israelipm25.head(10)"
      ],
      "metadata": {
        "id": "QyvpRYIiZSil"
      },
      "execution_count": 278,
      "outputs": []
    },
    {
      "cell_type": "code",
      "source": [
        "from sklearn.preprocessing import StandardScaler\n",
        "\n",
        "x_train_scaler_Megido_Israelipm25 = StandardScaler()\n",
        "x_test_scaler_Megido_Israelipm25 = StandardScaler()\n",
        "y_train_scaler_Megido_Israelipm25 = StandardScaler()\n",
        "y_test_scaler_Megido_Israelipm25 = StandardScaler()\n",
        "\n",
        "X_train_scaled_Megido_Israelipm25 = x_train_scaler_Megido_Israelipm25.fit_transform(X_train_Megido_Israelipm25)\n",
        "X_test_scaled_Megido_Israelipm25 = x_test_scaler_Megido_Israelipm25.fit_transform(X_test_Megido_Israelipm25)\n",
        "y_train_scaled_Megido_Israelipm25 = y_train_scaler_Megido_Israelipm25.fit_transform(pd.DataFrame(y_train_Megido_Israelipm25))\n",
        "y_test_scaled_Megido_Israelipm25 = y_test_scaler_Megido_Israelipm25.fit_transform(pd.DataFrame(y_test_Megido_Israelipm25))"
      ],
      "metadata": {
        "id": "9Fd8hPyDw2ck"
      },
      "execution_count": 279,
      "outputs": []
    },
    {
      "cell_type": "code",
      "source": [
        "from sklearn.linear_model import LinearRegression\n",
        "lm = LinearRegression()\n",
        "lm.fit(X_train_scaled_Megido_Israelipm25,y_train_scaled_Megido_Israelipm25)\n",
        "\n",
        "coeff = lm.coef_[0]\n",
        "intercept = lm.intercept_[0]\n",
        "print('Coefficients: \\n', \"coeff =\", coeff , \",  Intercept=\",intercept,\"\\n\" )\n",
        "print(\"The regression equation is:\" ,\"Israeli Visitors = \" ,intercept,\" + \",coeff[0],\" * \",correlated_MegidoIsraelipm25_df[0],\n",
        "      \" + \",coeff[1],\" * \",correlated_MegidoIsraelipm25_df[1],\" + \",coeff[2],\" * \",correlated_MegidoIsraelipm25_df[2],\" + \",coeff[3],\" * \",correlated_MegidoIsraelipm25_df[3],\" + \",coeff[4],\" * \",correlated_MegidoIsraelipm25_df[4],\" + \",coeff[5],\" * \",correlated_MegidoIsraelipm25_df[5],\" + \",coeff[6],\" * \",correlated_MegidoIsraelipm25_df[6],\" + \",coeff[7],\" * \",correlated_MegidoIsraelipm25_df[7],\" + \",coeff[8],\" * \",correlated_MegidoIsraelipm25_df[8],\" + \",coeff[9],\" * \",correlated_MegidoIsraelipm25_df[9],\" + \",coeff[10],\" * \",correlated_MegidoIsraelipm25_df[10],\" + \",coeff[11],\" * \",correlated_MegidoIsraelipm25_df[11])"
      ],
      "metadata": {
        "colab": {
          "base_uri": "https://localhost:8080/"
        },
        "id": "m1qYdi9pw2Zj",
        "outputId": "738dd141-022c-455d-a1ef-bf0ac003c6e6"
      },
      "execution_count": 280,
      "outputs": [
        {
          "output_type": "stream",
          "name": "stdout",
          "text": [
            "Coefficients: \n",
            " coeff = [-1.28127112e-01  6.01119797e-02  3.71335726e-01  1.47740626e-01\n",
            "  5.74495117e-04  8.97361438e-02  2.08166817e-17 -2.77555756e-17\n",
            " -5.55111512e-17  1.89609059e-02  8.35858233e-02 -9.21429639e-02] ,  Intercept= 2.4006292305152068e-17 \n",
            "\n",
            "The regression equation is: Israeli Visitors =  2.4006292305152068e-17  +  -0.12812711217193384  *  Temp_C  +  0.06011197973159829  *  pm25  +  0.3713357262913503  *  Is_Weekend  +  0.14774062626844545  *  Is_Jewish_Holiday  +  0.0005744951168719522  *  Is_Muslem_Holiday  +  0.0897361438119515  *  Is_Christian_Holiday  +  2.0816681711721685e-17  *  Is_National_Park  +  -2.7755575615628914e-17  *  Is_Christian_Site  +  -5.551115123125783e-17  *  Duration_Of_Visit  +  0.018960905884376968  *  Winter  +  0.08358582330323121  *  Spring  +  -0.09214296387820729  *  Summer\n"
          ]
        }
      ]
    },
    {
      "cell_type": "code",
      "source": [
        "fitted_scaled_visitors_Megido_Israelipm25 = lm.predict(X_train_scaled_Megido_Israelipm25)\n",
        "fitted_visitors_Megido_Israelipm25 = y_train_scaler_Megido_Israelipm25.inverse_transform(fitted_scaled_visitors_Megido_Israelipm25)\n",
        "predicted_train_visitors_Israelipm25 = round(pd.Series(fitted_visitors_Megido_Israelipm25[:,0], index= y_train_Megido_Israelipm25.index, name='predicted_train_Visitors'), ndigits =2)\n",
        "train_df_Megido_Israelipm25 = pd.merge(left=train_df_Megido_Israelipm25, right=predicted_train_visitors_Israelipm25 , left_index=True, right_index=True)\n",
        "\n",
        "#train_df_Megido_Israelipm25.head(10)"
      ],
      "metadata": {
        "id": "1iWidAkEw2XD"
      },
      "execution_count": 281,
      "outputs": []
    },
    {
      "cell_type": "code",
      "source": [
        "fitted_scaled_visitors_Megido_Israelipm25 = lm.predict(X_test_scaled_Megido_Israelipm25)\n",
        "fitted_visitors_Megido_Israelipm25 = y_test_scaler_Megido_Israelipm25.inverse_transform(fitted_scaled_visitors_Megido_Israelipm25)\n",
        "predicted_test_visitors_Israelipm25 = round(pd.Series(fitted_visitors_Megido_Israelipm25[:,0], index= y_test_Megido_Israelipm25.index, name='predicted_test_Visitors'), ndigits =2)\n",
        "test_df_Megido_Israelipm25 = pd.merge(left=test_df_Megido_Israelipm25, right=predicted_test_visitors_Israelipm25 , left_index=True, right_index=True)\n",
        "\n",
        "#test_df_Megido_Israelipm25.head(10)"
      ],
      "metadata": {
        "id": "PQTnl8vw6R-E"
      },
      "execution_count": 282,
      "outputs": []
    },
    {
      "cell_type": "code",
      "source": [
        "from sklearn import metrics\n",
        "print(\"std of the objective function: 91.7\")\n",
        "print(\"\")\n",
        "print(\"------ TRAIN DATA ------\")\n",
        "print(\"RMSE:\",np.sqrt(metrics.mean_squared_error(train_df_Megido_Israelipm25.Israeli_Visitors, train_df_Megido_Israelipm25.predicted_train_Visitors)))\n",
        "print(\"\")\n",
        "print(\"------ TEST DATA ------\")\n",
        "print(\"RMSE:\",np.sqrt(metrics.mean_squared_error(test_df_Megido_Israelipm25.Israeli_Visitors, test_df_Megido_Israelipm25.predicted_test_Visitors)))"
      ],
      "metadata": {
        "colab": {
          "base_uri": "https://localhost:8080/"
        },
        "id": "TdqxY_3yw2Pn",
        "outputId": "cd033af7-978d-421a-da0c-c024843305a6"
      },
      "execution_count": 283,
      "outputs": [
        {
          "output_type": "stream",
          "name": "stdout",
          "text": [
            "std of the objective function: 91.7\n",
            "\n",
            "------ TRAIN DATA ------\n",
            "RMSE: 80.29955769118702\n",
            "\n",
            "------ TEST DATA ------\n",
            "RMSE: 80.60431890186103\n"
          ]
        }
      ]
    },
    {
      "cell_type": "code",
      "source": [
        "from sklearn.metrics import r2_score\n",
        "r2_score(train_df_Megido_Israelipm25.Israeli_Visitors, train_df_Megido_Israelipm25.predicted_train_Visitors)"
      ],
      "metadata": {
        "colab": {
          "base_uri": "https://localhost:8080/"
        },
        "id": "K84ofDCRKy9l",
        "outputId": "ee8680c7-200e-4c83-ff1d-9c41e4367544"
      },
      "execution_count": 284,
      "outputs": [
        {
          "output_type": "execute_result",
          "data": {
            "text/plain": [
              "0.2372316226275113"
            ]
          },
          "metadata": {},
          "execution_count": 284
        }
      ]
    },
    {
      "cell_type": "code",
      "source": [
        "#get R2 for test set\n",
        "r2_score(test_df_Megido_Israelipm25.Israeli_Visitors, test_df_Megido_Israelipm25.predicted_test_Visitors)"
      ],
      "metadata": {
        "colab": {
          "base_uri": "https://localhost:8080/"
        },
        "id": "zwdKb42ZKznF",
        "outputId": "b3843ea9-10c7-4729-dbc7-bc25b8d165fc"
      },
      "execution_count": 285,
      "outputs": [
        {
          "output_type": "execute_result",
          "data": {
            "text/plain": [
              "0.21506095295382865"
            ]
          },
          "metadata": {},
          "execution_count": 285
        }
      ]
    },
    {
      "cell_type": "markdown",
      "source": [
        "**Megido Israeli no2**"
      ],
      "metadata": {
        "id": "VWmCKnV-SK1B"
      }
    },
    {
      "cell_type": "code",
      "source": [
        "MegidoIsraelino2_df.std()"
      ],
      "metadata": {
        "colab": {
          "base_uri": "https://localhost:8080/"
        },
        "id": "jtoI6QJgd7VB",
        "outputId": "72b547ba-c428-46f8-e1a4-7761e1deebbe"
      },
      "execution_count": 286,
      "outputs": [
        {
          "output_type": "execute_result",
          "data": {
            "text/plain": [
              "Israeli_Visitors        92.023210\n",
              "Temp_C                   6.903651\n",
              "no2                      3.735243\n",
              "Is_Weekend               0.451969\n",
              "Is_Jewish_Holiday        0.300143\n",
              "Is_Muslem_Holiday        0.179591\n",
              "Is_Christian_Holiday     0.126268\n",
              "Is_National_Park         0.000000\n",
              "Is_Christian_Site        0.000000\n",
              "Duration_Of_Visit        0.000000\n",
              "Winter                   0.431276\n",
              "Spring                   0.436203\n",
              "Summer                   0.436736\n",
              "dtype: float64"
            ]
          },
          "metadata": {},
          "execution_count": 286
        }
      ]
    },
    {
      "cell_type": "code",
      "source": [
        "y_Megido_Israelino2 = MegidoIsraelino2_df.Israeli_Visitors\n",
        "X_Megido_Israelino2 = MegidoIsraelino2_df[correlated_MegidoIsraelino2_df]\n",
        "\n",
        "X_train_Megido_Israelino2, X_test_Megido_Israelino2, y_train_Megido_Israelino2, y_test_Megido_Israelino2 = train_test_split(X_Megido_Israelino2, y_Megido_Israelino2, test_size=0.3, random_state=1234)\n",
        "train_df_Megido_Israelino2 = pd.merge(left=X_train_Megido_Israelino2, right=y_train_Megido_Israelino2, left_index=True, right_index=True)\n",
        "test_df_Megido_Israelino2 = pd.merge(left=X_test_Megido_Israelino2, right=y_test_Megido_Israelino2, left_index=True, right_index=True)\n",
        "#test_df_Megido_Israelino2.head(10)"
      ],
      "metadata": {
        "id": "fjbshM09w2Ka"
      },
      "execution_count": 287,
      "outputs": []
    },
    {
      "cell_type": "code",
      "source": [
        "x_train_scaler_Megido_Israelino2 = StandardScaler()\n",
        "x_test_scaler_Megido_Israelino2 = StandardScaler()\n",
        "y_train_scaler_Megido_Israelino2 = StandardScaler()\n",
        "y_test_scaler_Megido_Israelino2 = StandardScaler()\n",
        "\n",
        "X_train_scaled_Megido_Israelino2 = x_train_scaler_Megido_Israelino2.fit_transform(X_train_Megido_Israelino2)\n",
        "X_test_scaled_Megido_Israelino2 = x_test_scaler_Megido_Israelino2.fit_transform(X_test_Megido_Israelino2)\n",
        "y_train_scaled_Megido_Israelino2 = y_train_scaler_Megido_Israelino2.fit_transform(pd.DataFrame(y_train_Megido_Israelino2))\n",
        "y_test_scaled_Megido_Israelino2 = y_test_scaler_Megido_Israelino2.fit_transform(pd.DataFrame(y_test_Megido_Israelino2))"
      ],
      "metadata": {
        "id": "NNWLXfigw2He"
      },
      "execution_count": 288,
      "outputs": []
    },
    {
      "cell_type": "code",
      "source": [
        "lm = LinearRegression()\n",
        "lm.fit(X_train_scaled_Megido_Israelino2,y_train_scaled_Megido_Israelino2)\n",
        "\n",
        "coeff = lm.coef_[0]\n",
        "intercept = lm.intercept_[0]\n",
        "print('Coefficients: \\n', \"coeff =\", coeff , \",  Intercept=\",intercept,\"\\n\" )\n",
        "print(\"The regression equation is:\" ,\"Israeli Visitors = \" ,intercept,\" + \",coeff[0],\" * \",correlated_MegidoIsraelino2_df[0],\n",
        "      \" + \",coeff[1],\" * \",correlated_MegidoIsraelino2_df[1],\" + \",coeff[2],\" * \",correlated_MegidoIsraelino2_df[2],\" + \",coeff[3],\" * \",correlated_MegidoIsraelino2_df[3],\" + \",coeff[4],\" * \",correlated_MegidoIsraelino2_df[4],\" + \",coeff[5],\" * \",correlated_MegidoIsraelino2_df[5],\" + \",coeff[6],\" * \",correlated_MegidoIsraelino2_df[6],\" + \",coeff[7],\" * \",correlated_MegidoIsraelino2_df[7],\" + \",coeff[8],\" * \",correlated_MegidoIsraelino2_df[8],\" + \",coeff[9],\" * \",correlated_MegidoIsraelino2_df[9],\" + \",coeff[10],\" * \",correlated_MegidoIsraelino2_df[10],\" + \",coeff[11],\" * \",correlated_MegidoIsraelino2_df[11])"
      ],
      "metadata": {
        "id": "bxWLlJ6iw1-1",
        "colab": {
          "base_uri": "https://localhost:8080/"
        },
        "outputId": "bdb08bd5-b800-4090-a9bf-94354b563b3c"
      },
      "execution_count": 289,
      "outputs": [
        {
          "output_type": "stream",
          "name": "stdout",
          "text": [
            "Coefficients: \n",
            " coeff = [-1.40105212e-01  1.02200256e-01  3.55170348e-01  2.03051560e-01\n",
            " -6.38326677e-03  5.63473460e-02 -6.93889390e-18  2.77555756e-17\n",
            "  2.77555756e-17 -3.02439464e-03  9.44568251e-02 -8.27774672e-02] ,  Intercept= -7.700926218434425e-17 \n",
            "\n",
            "The regression equation is: Israeli Visitors =  -7.700926218434425e-17  +  -0.14010521232401854  *  Temp_C  +  0.10220025586608457  *  no2  +  0.3551703478210547  *  Is_Weekend  +  0.2030515604913208  *  Is_Jewish_Holiday  +  -0.006383266767031444  *  Is_Muslem_Holiday  +  0.056347345950921765  *  Is_Christian_Holiday  +  -6.938893903907228e-18  *  Is_National_Park  +  2.7755575615628914e-17  *  Is_Christian_Site  +  2.7755575615628914e-17  *  Duration_Of_Visit  +  -0.0030243946356744433  *  Winter  +  0.09445682508150721  *  Spring  +  -0.08277746715710083  *  Summer\n"
          ]
        }
      ]
    },
    {
      "cell_type": "code",
      "source": [
        "fitted_scaled_visitors_Megido_Israelino2 = lm.predict(X_train_scaled_Megido_Israelino2)\n",
        "fitted_visitors_Megido_Israelino2 = y_train_scaler_Megido_Israelino2.inverse_transform(fitted_scaled_visitors_Megido_Israelino2)\n",
        "predicted_train_visitors_Israelino2 = round(pd.Series(fitted_visitors_Megido_Israelino2[:,0], index= y_train_Megido_Israelino2.index, name='predicted_train_Visitors'), ndigits =2)\n",
        "train_df_Megido_Israelino2 = pd.merge(left=train_df_Megido_Israelino2, right=predicted_train_visitors_Israelino2 , left_index=True, right_index=True)\n",
        "\n",
        "#train_df_Megido_Israelino2.head(10)"
      ],
      "metadata": {
        "id": "DjtA8n-Uw1x5"
      },
      "execution_count": 290,
      "outputs": []
    },
    {
      "cell_type": "code",
      "source": [
        "fitted_scaled_visitors_Megido_Israelino2 = lm.predict(X_test_scaled_Megido_Israelino2)\n",
        "fitted_visitors_Megido_Israelino2 = y_test_scaler_Megido_Israelino2.inverse_transform(fitted_scaled_visitors_Megido_Israelino2)\n",
        "predicted_test_visitors_Israelino2 = round(pd.Series(fitted_visitors_Megido_Israelino2[:,0], index= y_test_Megido_Israelino2.index, name='predicted_test_Visitors'), ndigits =2)\n",
        "test_df_Megido_Israelino2 = pd.merge(left=test_df_Megido_Israelino2, right=predicted_test_visitors_Israelino2 , left_index=True, right_index=True)\n",
        "\n",
        "#test_df_Megido_Israelino2.head(10)"
      ],
      "metadata": {
        "id": "-ePYuzSMIo8Y"
      },
      "execution_count": 291,
      "outputs": []
    },
    {
      "cell_type": "code",
      "source": [
        "from sklearn import metrics\n",
        "print(\"std of the objective function: 92.02\")\n",
        "print(\"\")\n",
        "print(\"------ TRAIN DATA ------\")\n",
        "print(\"RMSE:\",np.sqrt(metrics.mean_squared_error(train_df_Megido_Israelino2.Israeli_Visitors, train_df_Megido_Israelino2.predicted_train_Visitors)))\n",
        "print(\"\")\n",
        "print(\"------ TEST DATA ------\")\n",
        "print(\"RMSE:\",np.sqrt(metrics.mean_squared_error(test_df_Megido_Israelino2.Israeli_Visitors, test_df_Megido_Israelino2.predicted_test_Visitors)))"
      ],
      "metadata": {
        "colab": {
          "base_uri": "https://localhost:8080/"
        },
        "id": "0bIBjh_yI6Y2",
        "outputId": "8dc412b4-8a7e-450e-8599-9d4310280a36"
      },
      "execution_count": 292,
      "outputs": [
        {
          "output_type": "stream",
          "name": "stdout",
          "text": [
            "std of the objective function: 92.02\n",
            "\n",
            "------ TRAIN DATA ------\n",
            "RMSE: 76.27517780633326\n",
            "\n",
            "------ TEST DATA ------\n",
            "RMSE: 88.62504342220264\n"
          ]
        }
      ]
    },
    {
      "cell_type": "code",
      "source": [
        "from sklearn.metrics import r2_score\n",
        "r2_score(train_df_Megido_Israelino2.Israeli_Visitors, train_df_Megido_Israelino2.predicted_train_Visitors)"
      ],
      "metadata": {
        "colab": {
          "base_uri": "https://localhost:8080/"
        },
        "id": "6PwK046WLwnx",
        "outputId": "f888b0c9-1ec6-4f06-db1c-f43c460302e7"
      },
      "execution_count": 293,
      "outputs": [
        {
          "output_type": "execute_result",
          "data": {
            "text/plain": [
              "0.2467495761580616"
            ]
          },
          "metadata": {},
          "execution_count": 293
        }
      ]
    },
    {
      "cell_type": "code",
      "source": [
        "#get R2 for test set\n",
        "r2_score(test_df_Megido_Israelino2.Israeli_Visitors, test_df_Megido_Israelino2.predicted_test_Visitors)"
      ],
      "metadata": {
        "colab": {
          "base_uri": "https://localhost:8080/"
        },
        "id": "3YXUQp1ZLy-O",
        "outputId": "2baa740f-f06d-4cad-b7eb-dcb8b4ae816b"
      },
      "execution_count": 294,
      "outputs": [
        {
          "output_type": "execute_result",
          "data": {
            "text/plain": [
              "0.22583950024332988"
            ]
          },
          "metadata": {},
          "execution_count": 294
        }
      ]
    },
    {
      "cell_type": "markdown",
      "source": [
        "**Megido Tourist pm25**"
      ],
      "metadata": {
        "id": "Bbe-xWkISE9J"
      }
    },
    {
      "cell_type": "code",
      "source": [
        "MegidoTouristpm25_df.std()"
      ],
      "metadata": {
        "colab": {
          "base_uri": "https://localhost:8080/"
        },
        "id": "ftbHtxD0eSat",
        "outputId": "3e346106-7810-4f1c-82a6-307ae93d6242"
      },
      "execution_count": 295,
      "outputs": [
        {
          "output_type": "execute_result",
          "data": {
            "text/plain": [
              "Tourist_Visitors        322.098494\n",
              "Temp_C                    6.880385\n",
              "pm25                     17.214486\n",
              "Is_Weekend                0.450671\n",
              "Is_Jewish_Holiday         0.299762\n",
              "Is_Muslem_Holiday         0.179344\n",
              "Is_Christian_Holiday      0.118556\n",
              "Is_National_Park          0.000000\n",
              "Is_Christian_Site         0.000000\n",
              "Duration_Of_Visit         0.000000\n",
              "Winter                    0.430300\n",
              "Spring                    0.435793\n",
              "Summer                    0.438436\n",
              "dtype: float64"
            ]
          },
          "metadata": {},
          "execution_count": 295
        }
      ]
    },
    {
      "cell_type": "code",
      "source": [
        "from sklearn.model_selection import train_test_split\n",
        "y_Megido_Touristpm25 = MegidoTouristpm25_df.Tourist_Visitors\n",
        "X_Megido_Touristpm25 = MegidoTouristpm25_df[correlated_MegidoTouristpm25_df]\n",
        "\n",
        "X_train_Megido_Touristpm25, X_test_Megido_Touristpm25, y_train_Megido_Touristpm25, y_test_Megido_Touristpm25 = train_test_split(X_Megido_Touristpm25, y_Megido_Touristpm25, test_size=0.3, random_state=1234)\n",
        "train_df_Megido_Touristpm25 = pd.merge(left=X_train_Megido_Touristpm25, right=y_train_Megido_Touristpm25, left_index=True, right_index=True)\n",
        "test_df_Megido_Touristpm25 = pd.merge(left=X_test_Megido_Touristpm25, right=y_test_Megido_Touristpm25, left_index=True, right_index=True)\n",
        "#test_df_Megido_Touristpm25.head(10)"
      ],
      "metadata": {
        "id": "XQfjaXBKMWnv"
      },
      "execution_count": 296,
      "outputs": []
    },
    {
      "cell_type": "code",
      "source": [
        "from sklearn.preprocessing import StandardScaler\n",
        "\n",
        "x_train_scaler_Megido_Touristpm25 = StandardScaler()\n",
        "x_test_scaler_Megido_Touristpm25 = StandardScaler()\n",
        "y_train_scaler_Megido_Touristpm25 = StandardScaler()\n",
        "y_test_scaler_Megido_Touristpm25 = StandardScaler()\n",
        "\n",
        "X_train_scaled_Megido_Touristpm25 = x_train_scaler_Megido_Touristpm25.fit_transform(X_train_Megido_Touristpm25)\n",
        "X_test_scaled_Megido_Touristpm25 = x_test_scaler_Megido_Touristpm25.fit_transform(X_test_Megido_Touristpm25)\n",
        "y_train_scaled_Megido_Touristpm25 = y_train_scaler_Megido_Touristpm25.fit_transform(pd.DataFrame(y_train_Megido_Touristpm25))\n",
        "y_test_scaled_Megido_Touristpm25 = y_test_scaler_Megido_Touristpm25.fit_transform(pd.DataFrame(y_test_Megido_Touristpm25))"
      ],
      "metadata": {
        "id": "hzRLuCO0MWlF"
      },
      "execution_count": 297,
      "outputs": []
    },
    {
      "cell_type": "code",
      "source": [
        "from sklearn.linear_model import LinearRegression\n",
        "lm = LinearRegression()\n",
        "lm.fit(X_train_scaled_Megido_Touristpm25,y_train_scaled_Megido_Touristpm25)\n",
        "\n",
        "coeff = lm.coef_[0]\n",
        "intercept = lm.intercept_[0]\n",
        "print('Coefficients: \\n', \"coeff =\", coeff , \",  Intercept=\",intercept,\"\\n\" )\n",
        "print(\"The regression equation is:\" ,\"Tourist Visitors = \" ,intercept,\" + \",coeff[0],\" * \",correlated_MegidoTouristpm25_df[0],\n",
        "      \" + \",coeff[1],\" * \",correlated_MegidoTouristpm25_df[1],\" + \",coeff[2],\" * \",correlated_MegidoTouristpm25_df[2],\" + \",coeff[3],\" * \",correlated_MegidoTouristpm25_df[3],\" + \",coeff[4],\" * \",correlated_MegidoTouristpm25_df[4],\" + \",coeff[5],\" * \",correlated_MegidoTouristpm25_df[5],\" + \",coeff[6],\" * \",correlated_MegidoTouristpm25_df[6],\" + \",coeff[7],\" * \",correlated_MegidoTouristpm25_df[7],\" + \",coeff[8],\" * \",correlated_MegidoTouristpm25_df[8],\" + \",coeff[9],\" * \",correlated_MegidoTouristpm25_df[9],\" + \",coeff[10],\" * \",correlated_MegidoTouristpm25_df[10],\" + \",coeff[11],\" * \",correlated_MegidoTouristpm25_df[11])"
      ],
      "metadata": {
        "colab": {
          "base_uri": "https://localhost:8080/"
        },
        "id": "qbuGG9RWMWiu",
        "outputId": "a3fa0209-7a5c-4b06-8395-5b49c2c18532"
      },
      "execution_count": 298,
      "outputs": [
        {
          "output_type": "stream",
          "name": "stdout",
          "text": [
            "Coefficients: \n",
            " coeff = [-4.00780994e-01  1.15317798e-01 -5.57274800e-02 -1.59575390e-01\n",
            " -1.33562682e-02 -9.86569131e-02 -2.77555756e-17  3.68628739e-18\n",
            "  2.77555756e-17 -5.50891206e-01 -8.58959611e-02 -4.04970942e-01] ,  Intercept= 8.992437118594715e-17 \n",
            "\n",
            "The regression equation is: Tourist Visitors =  8.992437118594715e-17  +  -0.4007809944940048  *  Temp_C  +  0.11531779814672433  *  pm25  +  -0.05572748004995539  *  Is_Weekend  +  -0.15957538995983414  *  Is_Jewish_Holiday  +  -0.01335626817455933  *  Is_Muslem_Holiday  +  -0.0986569131219307  *  Is_Christian_Holiday  +  -2.7755575615628914e-17  *  Is_National_Park  +  3.686287386450715e-18  *  Is_Christian_Site  +  2.7755575615628914e-17  *  Duration_Of_Visit  +  -0.550891206399727  *  Winter  +  -0.08589596111189465  *  Spring  +  -0.40497094199421  *  Summer\n"
          ]
        }
      ]
    },
    {
      "cell_type": "code",
      "source": [
        "fitted_scaled_visitors_Megido_Touristpm25 = lm.predict(X_train_scaled_Megido_Touristpm25)\n",
        "fitted_visitors_Megido_Touristpm25 = y_train_scaler_Megido_Touristpm25.inverse_transform(fitted_scaled_visitors_Megido_Touristpm25)\n",
        "predicted_train_visitors_Touristpm25 = round(pd.Series(fitted_visitors_Megido_Touristpm25[:,0], index= y_train_Megido_Touristpm25.index, name='predicted_train_Visitors'), ndigits =2)\n",
        "train_df_Megido_Touristpm25 = pd.merge(left=train_df_Megido_Touristpm25, right=predicted_train_visitors_Touristpm25 , left_index=True, right_index=True)\n",
        "\n",
        "#train_df_Megido_Touristpm25.head(10)"
      ],
      "metadata": {
        "id": "XNoP0o9wMWfv"
      },
      "execution_count": 299,
      "outputs": []
    },
    {
      "cell_type": "code",
      "source": [
        "fitted_scaled_visitors_Megido_Touristpm25 = lm.predict(X_test_scaled_Megido_Touristpm25)\n",
        "fitted_visitors_Megido_Touristpm25 = y_test_scaler_Megido_Touristpm25.inverse_transform(fitted_scaled_visitors_Megido_Touristpm25)\n",
        "predicted_test_visitors_Touristpm25 = round(pd.Series(fitted_visitors_Megido_Touristpm25[:,0], index= y_test_Megido_Touristpm25.index, name='predicted_test_Visitors'), ndigits =2)\n",
        "test_df_Megido_Touristpm25 = pd.merge(left=test_df_Megido_Touristpm25, right=predicted_test_visitors_Touristpm25 , left_index=True, right_index=True)\n",
        "\n",
        "#test_df_Megido_Touristpm25.head(10)"
      ],
      "metadata": {
        "id": "cUmwD0wxMWco"
      },
      "execution_count": 300,
      "outputs": []
    },
    {
      "cell_type": "code",
      "source": [
        "from sklearn import metrics\n",
        "print(\"std of the objective function: 322.09\")\n",
        "print(\"\")\n",
        "print(\"------ TRAIN DATA ------\")\n",
        "print(\"RMSE:\",np.sqrt(metrics.mean_squared_error(train_df_Megido_Touristpm25.Tourist_Visitors, train_df_Megido_Touristpm25.predicted_train_Visitors)))\n",
        "print(\"\")\n",
        "print(\"------ TEST DATA ------\")\n",
        "print(\"RMSE:\",np.sqrt(metrics.mean_squared_error(test_df_Megido_Touristpm25.Tourist_Visitors, test_df_Megido_Touristpm25.predicted_test_Visitors)))"
      ],
      "metadata": {
        "colab": {
          "base_uri": "https://localhost:8080/"
        },
        "id": "K40SJBslMWZv",
        "outputId": "d055bce1-535d-43c2-ad42-7cf5ac20e083"
      },
      "execution_count": 301,
      "outputs": [
        {
          "output_type": "stream",
          "name": "stdout",
          "text": [
            "std of the objective function: 322.09\n",
            "\n",
            "------ TRAIN DATA ------\n",
            "RMSE: 271.4396639444565\n",
            "\n",
            "------ TEST DATA ------\n",
            "RMSE: 266.3913410220366\n"
          ]
        }
      ]
    },
    {
      "cell_type": "code",
      "source": [
        "from sklearn.metrics import r2_score\n",
        "r2_score(train_df_Megido_Touristpm25.Tourist_Visitors, train_df_Megido_Touristpm25.predicted_train_Visitors)"
      ],
      "metadata": {
        "colab": {
          "base_uri": "https://localhost:8080/"
        },
        "id": "SiXN8MzqMYaD",
        "outputId": "2bde5714-c037-4eb6-9deb-dac04559d368"
      },
      "execution_count": 302,
      "outputs": [
        {
          "output_type": "execute_result",
          "data": {
            "text/plain": [
              "0.3007300225652181"
            ]
          },
          "metadata": {},
          "execution_count": 302
        }
      ]
    },
    {
      "cell_type": "code",
      "source": [
        "#get R2 for test set\n",
        "r2_score(test_df_Megido_Touristpm25.Tourist_Visitors, test_df_Megido_Touristpm25.predicted_test_Visitors)"
      ],
      "metadata": {
        "colab": {
          "base_uri": "https://localhost:8080/"
        },
        "id": "vw1TLYekMZ3p",
        "outputId": "c7459f6a-1c21-4c0a-f50e-9d96de0fffdd"
      },
      "execution_count": 303,
      "outputs": [
        {
          "output_type": "execute_result",
          "data": {
            "text/plain": [
              "0.28680240216291863"
            ]
          },
          "metadata": {},
          "execution_count": 303
        }
      ]
    },
    {
      "cell_type": "markdown",
      "source": [
        "**Megido Tourist no2**"
      ],
      "metadata": {
        "id": "_JBr-C8xlgsx"
      }
    },
    {
      "cell_type": "code",
      "source": [
        "MegidoTouristno2_df.std()"
      ],
      "metadata": {
        "colab": {
          "base_uri": "https://localhost:8080/"
        },
        "id": "CGWtp1eHejGE",
        "outputId": "63a9a5d6-99e9-4de4-aa18-a8b0889abf09"
      },
      "execution_count": 304,
      "outputs": [
        {
          "output_type": "execute_result",
          "data": {
            "text/plain": [
              "Tourist_Visitors        323.799495\n",
              "Temp_C                    6.903651\n",
              "no2                       3.735243\n",
              "Is_Weekend                0.451969\n",
              "Is_Jewish_Holiday         0.300143\n",
              "Is_Muslem_Holiday         0.179591\n",
              "Is_Christian_Holiday      0.126268\n",
              "Is_National_Park          0.000000\n",
              "Is_Christian_Site         0.000000\n",
              "Duration_Of_Visit         0.000000\n",
              "Winter                    0.431276\n",
              "Spring                    0.436203\n",
              "Summer                    0.436736\n",
              "dtype: float64"
            ]
          },
          "metadata": {},
          "execution_count": 304
        }
      ]
    },
    {
      "cell_type": "code",
      "source": [
        "from sklearn.model_selection import train_test_split\n",
        "y_Megido_Touristno2 = MegidoTouristno2_df.Tourist_Visitors\n",
        "X_Megido_Touristno2 = MegidoTouristno2_df[correlated_MegidoTouristno2_df]\n",
        "\n",
        "X_train_Megido_Touristno2, X_test_Megido_Touristno2, y_train_Megido_Touristno2, y_test_Megido_Touristno2 = train_test_split(X_Megido_Touristno2, y_Megido_Touristno2, test_size=0.3, random_state=1234)\n",
        "train_df_Megido_Touristno2 = pd.merge(left=X_train_Megido_Touristno2, right=y_train_Megido_Touristno2, left_index=True, right_index=True)\n",
        "test_df_Megido_Touristno2 = pd.merge(left=X_test_Megido_Touristno2, right=y_test_Megido_Touristno2, left_index=True, right_index=True)\n",
        "#test_df_Megido_Touristno2.head(10)"
      ],
      "metadata": {
        "id": "sMVPq-N2MWXo"
      },
      "execution_count": 305,
      "outputs": []
    },
    {
      "cell_type": "code",
      "source": [
        "from sklearn.preprocessing import StandardScaler\n",
        "\n",
        "x_train_scaler_Megido_Touristno2 = StandardScaler()\n",
        "x_test_scaler_Megido_Touristno2 = StandardScaler()\n",
        "y_train_scaler_Megido_Touristno2 = StandardScaler()\n",
        "y_test_scaler_Megido_Touristno2 = StandardScaler()\n",
        "\n",
        "X_train_scaled_Megido_Touristno2 = x_train_scaler_Megido_Touristno2.fit_transform(X_train_Megido_Touristno2)\n",
        "X_test_scaled_Megido_Touristno2 = x_test_scaler_Megido_Touristno2.fit_transform(X_test_Megido_Touristno2)\n",
        "y_train_scaled_Megido_Touristno2 = y_train_scaler_Megido_Touristno2.fit_transform(pd.DataFrame(y_train_Megido_Touristno2))\n",
        "y_test_scaled_Megido_Touristno2 = y_test_scaler_Megido_Touristno2.fit_transform(pd.DataFrame(y_test_Megido_Touristno2))"
      ],
      "metadata": {
        "id": "onEMVM2lBeU9"
      },
      "execution_count": 306,
      "outputs": []
    },
    {
      "cell_type": "code",
      "source": [
        "from sklearn.linear_model import LinearRegression\n",
        "lm = LinearRegression()\n",
        "lm.fit(X_train_scaled_Megido_Touristno2,y_train_scaled_Megido_Touristno2)\n",
        "\n",
        "coeff = lm.coef_[0]\n",
        "intercept = lm.intercept_[0]\n",
        "print('Coefficients: \\n', \"coeff =\", coeff , \",  Intercept=\",intercept,\"\\n\" )\n",
        "print(\"The regression equation is:\" ,\"Tourist Visitors = \" ,intercept,\" + \",coeff[0],\" * \",correlated_MegidoTouristno2_df[0],\n",
        "      \" + \",coeff[1],\" * \",correlated_MegidoTouristno2_df[1],\" + \",coeff[2],\" * \",correlated_MegidoTouristno2_df[2],\" + \",coeff[3],\" * \",correlated_MegidoTouristno2_df[3],\" + \",coeff[4],\" * \",correlated_MegidoTouristno2_df[4],\" + \",coeff[5],\" * \",correlated_MegidoTouristno2_df[5],\" + \",coeff[6],\" * \",correlated_MegidoTouristno2_df[6],\" + \",coeff[7],\" * \",correlated_MegidoTouristno2_df[7],\" + \",coeff[8],\" * \",correlated_MegidoTouristno2_df[8],\" + \",coeff[9],\" * \",correlated_MegidoTouristno2_df[9],\" + \",coeff[10],\" * \",correlated_MegidoTouristno2_df[10],\" + \",coeff[11],\" * \",correlated_MegidoTouristno2_df[11])"
      ],
      "metadata": {
        "id": "LFqWhgtDBeSO",
        "colab": {
          "base_uri": "https://localhost:8080/"
        },
        "outputId": "fab93edf-3ef6-44a4-b4e0-724729c0cdd5"
      },
      "execution_count": 307,
      "outputs": [
        {
          "output_type": "stream",
          "name": "stdout",
          "text": [
            "Coefficients: \n",
            " coeff = [-3.22376378e-01 -5.50896011e-03 -7.69627858e-02 -1.79715129e-01\n",
            " -1.26870575e-02 -1.07126247e-01  0.00000000e+00  2.08166817e-17\n",
            "  0.00000000e+00 -4.88340886e-01 -6.05905619e-02 -4.24397823e-01] ,  Intercept= -2.5356234812319996e-16 \n",
            "\n",
            "The regression equation is: Tourist Visitors =  -2.5356234812319996e-16  +  -0.3223763784400662  *  Temp_C  +  -0.005508960110543665  *  no2  +  -0.07696278577447493  *  Is_Weekend  +  -0.17971512902592157  *  Is_Jewish_Holiday  +  -0.012687057503489333  *  Is_Muslem_Holiday  +  -0.10712624696044885  *  Is_Christian_Holiday  +  0.0  *  Is_National_Park  +  2.0816681711721685e-17  *  Is_Christian_Site  +  0.0  *  Duration_Of_Visit  +  -0.48834088593000957  *  Winter  +  -0.06059056186099165  *  Spring  +  -0.4243978232560564  *  Summer\n"
          ]
        }
      ]
    },
    {
      "cell_type": "code",
      "source": [
        "fitted_scaled_visitors_Megido_Touristno2 = lm.predict(X_train_scaled_Megido_Touristno2)\n",
        "fitted_visitors_Megido_Touristno2 = y_train_scaler_Megido_Touristno2.inverse_transform(fitted_scaled_visitors_Megido_Touristno2)\n",
        "predicted_train_visitors_Touristno2 = round(pd.Series(fitted_visitors_Megido_Touristno2[:,0], index= y_train_Megido_Touristno2.index, name='predicted_train_Visitors'), ndigits =2)\n",
        "train_df_Megido_Touristno2 = pd.merge(left=train_df_Megido_Touristno2, right=predicted_train_visitors_Touristno2 , left_index=True, right_index=True)\n",
        "\n",
        "#train_df_Megido_Touristno2.head(10)"
      ],
      "metadata": {
        "id": "HRPEDrarBePw"
      },
      "execution_count": 308,
      "outputs": []
    },
    {
      "cell_type": "code",
      "source": [
        "fitted_scaled_visitors_Megido_Touristno2 = lm.predict(X_test_scaled_Megido_Touristno2)\n",
        "fitted_visitors_Megido_Touristno2 = y_test_scaler_Megido_Touristno2.inverse_transform(fitted_scaled_visitors_Megido_Touristno2)\n",
        "predicted_test_visitors_Touristno2 = round(pd.Series(fitted_visitors_Megido_Touristno2[:,0], index= y_test_Megido_Touristno2.index, name='predicted_test_Visitors'), ndigits =2)\n",
        "test_df_Megido_Touristno2 = pd.merge(left=test_df_Megido_Touristno2, right=predicted_test_visitors_Touristno2 , left_index=True, right_index=True)\n",
        "\n",
        "#test_df_Megido_Touristno2.head(10)"
      ],
      "metadata": {
        "id": "zQaZZkNvBeNT"
      },
      "execution_count": 309,
      "outputs": []
    },
    {
      "cell_type": "code",
      "source": [
        "from sklearn import metrics\n",
        "print(\"std of the objective function: 323.79\")\n",
        "print(\"\")\n",
        "print(\"------ TRAIN DATA ------\")\n",
        "print(\"RMSE:\",np.sqrt(metrics.mean_squared_error(train_df_Megido_Touristno2.Tourist_Visitors, train_df_Megido_Touristno2.predicted_train_Visitors)))\n",
        "print(\"\")\n",
        "print(\"------ TEST DATA ------\")\n",
        "print(\"RMSE:\",np.sqrt(metrics.mean_squared_error(test_df_Megido_Touristno2.Tourist_Visitors, test_df_Megido_Touristno2.predicted_test_Visitors)))"
      ],
      "metadata": {
        "id": "lyzs-gOgBeKg",
        "colab": {
          "base_uri": "https://localhost:8080/"
        },
        "outputId": "471a1f9f-15f1-44ef-eb86-dbd6386c9611"
      },
      "execution_count": 310,
      "outputs": [
        {
          "output_type": "stream",
          "name": "stdout",
          "text": [
            "std of the objective function: 323.79\n",
            "\n",
            "------ TRAIN DATA ------\n",
            "RMSE: 276.2757263465238\n",
            "\n",
            "------ TEST DATA ------\n",
            "RMSE: 262.10785953587157\n"
          ]
        }
      ]
    },
    {
      "cell_type": "code",
      "source": [
        "from sklearn.metrics import r2_score\n",
        "r2_score(train_df_Megido_Touristno2.Tourist_Visitors, train_df_Megido_Touristno2.predicted_train_Visitors)"
      ],
      "metadata": {
        "colab": {
          "base_uri": "https://localhost:8080/"
        },
        "id": "KHmzi_CwOJbK",
        "outputId": "ae033364-f976-4ff8-e13b-a34e7ee95933"
      },
      "execution_count": 311,
      "outputs": [
        {
          "output_type": "execute_result",
          "data": {
            "text/plain": [
              "0.30321348553074134"
            ]
          },
          "metadata": {},
          "execution_count": 311
        }
      ]
    },
    {
      "cell_type": "code",
      "source": [
        "#get R2 for test set\n",
        "r2_score(test_df_Megido_Touristno2.Tourist_Visitors, test_df_Megido_Touristno2.predicted_test_Visitors)"
      ],
      "metadata": {
        "colab": {
          "base_uri": "https://localhost:8080/"
        },
        "id": "eEEapyskOMDP",
        "outputId": "07a97f07-af9c-44fd-ff54-cfa6793377ca"
      },
      "execution_count": 312,
      "outputs": [
        {
          "output_type": "execute_result",
          "data": {
            "text/plain": [
              "0.2636164321286496"
            ]
          },
          "metadata": {},
          "execution_count": 312
        }
      ]
    },
    {
      "cell_type": "markdown",
      "source": [
        "### **Megido Weekend**"
      ],
      "metadata": {
        "id": "iWdsAG2gDTmD"
      }
    },
    {
      "cell_type": "markdown",
      "source": [
        "**Megido Israeli Weekend no2**"
      ],
      "metadata": {
        "id": "ngNDDLAqDgqr"
      }
    },
    {
      "cell_type": "code",
      "source": [
        "MegidoIsraeliWeekendno2_df.std()"
      ],
      "metadata": {
        "colab": {
          "base_uri": "https://localhost:8080/"
        },
        "id": "hVpRrFXQHfoM",
        "outputId": "50544580-f1b2-4691-e25f-92733a566253"
      },
      "execution_count": 313,
      "outputs": [
        {
          "output_type": "execute_result",
          "data": {
            "text/plain": [
              "Israeli_Visitors        132.320092\n",
              "no2                       4.283697\n",
              "Is_Weekend                0.000000\n",
              "Is_Jewish_Holiday         0.276847\n",
              "Is_Muslem_Holiday         0.170872\n",
              "Is_Christian_Holiday      0.081513\n",
              "Is_National_Park          0.000000\n",
              "Is_Christian_Site         0.000000\n",
              "Duration_Of_Visit         0.000000\n",
              "Winter                    0.431791\n",
              "Spring                    0.433736\n",
              "Summer                    0.441178\n",
              "dtype: float64"
            ]
          },
          "metadata": {},
          "execution_count": 313
        }
      ]
    },
    {
      "cell_type": "code",
      "source": [
        "from sklearn.model_selection import train_test_split\n",
        "y_Megido_IsraeliWeekendno2 = MegidoIsraeliWeekendno2_df.Israeli_Visitors\n",
        "X_Megido_IsraeliWeekendno2 = MegidoIsraeliWeekendno2_df[correlated_MegidoIsraeliWeekendno2_df]\n",
        "\n",
        "X_train_Megido_IsraeliWeekendno2, X_test_Megido_IsraeliWeekendno2, y_train_Megido_IsraeliWeekendno2, y_test_Megido_IsraeliWeekendno2 = train_test_split(X_Megido_IsraeliWeekendno2, y_Megido_IsraeliWeekendno2, test_size=0.3, random_state=1234)\n",
        "train_df_Megido_IsraeliWeekendno2 = pd.merge(left=X_train_Megido_IsraeliWeekendno2, right=y_train_Megido_IsraeliWeekendno2, left_index=True, right_index=True)\n",
        "test_df_Megido_IsraeliWeekendno2 = pd.merge(left=X_test_Megido_IsraeliWeekendno2, right=y_test_Megido_IsraeliWeekendno2, left_index=True, right_index=True)\n",
        "#test_df_Megido_IsraeliWeekendno2.head(10)"
      ],
      "metadata": {
        "id": "w5AiFalNDZg8"
      },
      "execution_count": 314,
      "outputs": []
    },
    {
      "cell_type": "code",
      "source": [
        "from sklearn.preprocessing import StandardScaler\n",
        "\n",
        "x_train_scaler_Megido_IsraeliWeekendno2 = StandardScaler()\n",
        "x_test_scaler_Megido_IsraeliWeekendno2 = StandardScaler()\n",
        "y_train_scaler_Megido_IsraeliWeekendno2 = StandardScaler()\n",
        "y_test_scaler_Megido_IsraeliWeekendno2 = StandardScaler()\n",
        "\n",
        "X_train_scaled_Megido_IsraeliWeekendno2 = x_train_scaler_Megido_IsraeliWeekendno2.fit_transform(X_train_Megido_IsraeliWeekendno2)\n",
        "X_test_scaled_Megido_IsraeliWeekendno2 = x_test_scaler_Megido_IsraeliWeekendno2.fit_transform(X_test_Megido_IsraeliWeekendno2)\n",
        "y_train_scaled_Megido_IsraeliWeekendno2 = y_train_scaler_Megido_IsraeliWeekendno2.fit_transform(pd.DataFrame(y_train_Megido_IsraeliWeekendno2))\n",
        "y_test_scaled_Megido_IsraeliWeekendno2 = y_test_scaler_Megido_IsraeliWeekendno2.fit_transform(pd.DataFrame(y_test_Megido_IsraeliWeekendno2))"
      ],
      "metadata": {
        "id": "i8K4xL72DZeu"
      },
      "execution_count": 315,
      "outputs": []
    },
    {
      "cell_type": "code",
      "source": [
        "MegidoIsraeliWeekendno2_df"
      ],
      "metadata": {
        "colab": {
          "base_uri": "https://localhost:8080/",
          "height": 0
        },
        "id": "vaJxeGAqk3AZ",
        "outputId": "038b7da7-96b5-4434-da5c-efdb8750e35f"
      },
      "execution_count": 316,
      "outputs": [
        {
          "output_type": "execute_result",
          "data": {
            "text/plain": [
              "     Israeli_Visitors   no2  Is_Weekend  Is_Jewish_Holiday  Is_Muslem_Holiday  \\\n",
              "0                 148   4.0           1                  0                  0   \n",
              "1                 286   4.0           1                  0                  0   \n",
              "2                 102   7.0           1                  0                  0   \n",
              "3                 147   8.0           1                  0                  0   \n",
              "4                  79   3.0           1                  0                  0   \n",
              "..                ...   ...         ...                ...                ...   \n",
              "295               151   6.0           1                  0                  0   \n",
              "296                77   2.0           1                  0                  0   \n",
              "297               298  12.0           1                  0                  0   \n",
              "298                46   2.0           1                  1                  0   \n",
              "299               136   4.0           1                  1                  0   \n",
              "\n",
              "     Is_Christian_Holiday  Is_National_Park  Is_Christian_Site  \\\n",
              "0                       0                 1                  1   \n",
              "1                       0                 1                  1   \n",
              "2                       0                 1                  1   \n",
              "3                       0                 1                  1   \n",
              "4                       0                 1                  1   \n",
              "..                    ...               ...                ...   \n",
              "295                     0                 1                  1   \n",
              "296                     0                 1                  1   \n",
              "297                     0                 1                  1   \n",
              "298                     0                 1                  1   \n",
              "299                     0                 1                  1   \n",
              "\n",
              "     Duration_Of_Visit  Winter  Spring  Summer  \n",
              "0                    1       1       0       0  \n",
              "1                    1       1       0       0  \n",
              "2                    1       1       0       0  \n",
              "3                    1       1       0       0  \n",
              "4                    1       1       0       0  \n",
              "..                 ...     ...     ...     ...  \n",
              "295                  1       1       0       0  \n",
              "296                  1       1       0       0  \n",
              "297                  1       1       0       0  \n",
              "298                  1       1       0       0  \n",
              "299                  1       1       0       0  \n",
              "\n",
              "[300 rows x 12 columns]"
            ],
            "text/html": [
              "\n",
              "  <div id=\"df-27f8ce45-0546-43c7-b5a7-947b1f5e1ad2\">\n",
              "    <div class=\"colab-df-container\">\n",
              "      <div>\n",
              "<style scoped>\n",
              "    .dataframe tbody tr th:only-of-type {\n",
              "        vertical-align: middle;\n",
              "    }\n",
              "\n",
              "    .dataframe tbody tr th {\n",
              "        vertical-align: top;\n",
              "    }\n",
              "\n",
              "    .dataframe thead th {\n",
              "        text-align: right;\n",
              "    }\n",
              "</style>\n",
              "<table border=\"1\" class=\"dataframe\">\n",
              "  <thead>\n",
              "    <tr style=\"text-align: right;\">\n",
              "      <th></th>\n",
              "      <th>Israeli_Visitors</th>\n",
              "      <th>no2</th>\n",
              "      <th>Is_Weekend</th>\n",
              "      <th>Is_Jewish_Holiday</th>\n",
              "      <th>Is_Muslem_Holiday</th>\n",
              "      <th>Is_Christian_Holiday</th>\n",
              "      <th>Is_National_Park</th>\n",
              "      <th>Is_Christian_Site</th>\n",
              "      <th>Duration_Of_Visit</th>\n",
              "      <th>Winter</th>\n",
              "      <th>Spring</th>\n",
              "      <th>Summer</th>\n",
              "    </tr>\n",
              "  </thead>\n",
              "  <tbody>\n",
              "    <tr>\n",
              "      <th>0</th>\n",
              "      <td>148</td>\n",
              "      <td>4.0</td>\n",
              "      <td>1</td>\n",
              "      <td>0</td>\n",
              "      <td>0</td>\n",
              "      <td>0</td>\n",
              "      <td>1</td>\n",
              "      <td>1</td>\n",
              "      <td>1</td>\n",
              "      <td>1</td>\n",
              "      <td>0</td>\n",
              "      <td>0</td>\n",
              "    </tr>\n",
              "    <tr>\n",
              "      <th>1</th>\n",
              "      <td>286</td>\n",
              "      <td>4.0</td>\n",
              "      <td>1</td>\n",
              "      <td>0</td>\n",
              "      <td>0</td>\n",
              "      <td>0</td>\n",
              "      <td>1</td>\n",
              "      <td>1</td>\n",
              "      <td>1</td>\n",
              "      <td>1</td>\n",
              "      <td>0</td>\n",
              "      <td>0</td>\n",
              "    </tr>\n",
              "    <tr>\n",
              "      <th>2</th>\n",
              "      <td>102</td>\n",
              "      <td>7.0</td>\n",
              "      <td>1</td>\n",
              "      <td>0</td>\n",
              "      <td>0</td>\n",
              "      <td>0</td>\n",
              "      <td>1</td>\n",
              "      <td>1</td>\n",
              "      <td>1</td>\n",
              "      <td>1</td>\n",
              "      <td>0</td>\n",
              "      <td>0</td>\n",
              "    </tr>\n",
              "    <tr>\n",
              "      <th>3</th>\n",
              "      <td>147</td>\n",
              "      <td>8.0</td>\n",
              "      <td>1</td>\n",
              "      <td>0</td>\n",
              "      <td>0</td>\n",
              "      <td>0</td>\n",
              "      <td>1</td>\n",
              "      <td>1</td>\n",
              "      <td>1</td>\n",
              "      <td>1</td>\n",
              "      <td>0</td>\n",
              "      <td>0</td>\n",
              "    </tr>\n",
              "    <tr>\n",
              "      <th>4</th>\n",
              "      <td>79</td>\n",
              "      <td>3.0</td>\n",
              "      <td>1</td>\n",
              "      <td>0</td>\n",
              "      <td>0</td>\n",
              "      <td>0</td>\n",
              "      <td>1</td>\n",
              "      <td>1</td>\n",
              "      <td>1</td>\n",
              "      <td>1</td>\n",
              "      <td>0</td>\n",
              "      <td>0</td>\n",
              "    </tr>\n",
              "    <tr>\n",
              "      <th>...</th>\n",
              "      <td>...</td>\n",
              "      <td>...</td>\n",
              "      <td>...</td>\n",
              "      <td>...</td>\n",
              "      <td>...</td>\n",
              "      <td>...</td>\n",
              "      <td>...</td>\n",
              "      <td>...</td>\n",
              "      <td>...</td>\n",
              "      <td>...</td>\n",
              "      <td>...</td>\n",
              "      <td>...</td>\n",
              "    </tr>\n",
              "    <tr>\n",
              "      <th>295</th>\n",
              "      <td>151</td>\n",
              "      <td>6.0</td>\n",
              "      <td>1</td>\n",
              "      <td>0</td>\n",
              "      <td>0</td>\n",
              "      <td>0</td>\n",
              "      <td>1</td>\n",
              "      <td>1</td>\n",
              "      <td>1</td>\n",
              "      <td>1</td>\n",
              "      <td>0</td>\n",
              "      <td>0</td>\n",
              "    </tr>\n",
              "    <tr>\n",
              "      <th>296</th>\n",
              "      <td>77</td>\n",
              "      <td>2.0</td>\n",
              "      <td>1</td>\n",
              "      <td>0</td>\n",
              "      <td>0</td>\n",
              "      <td>0</td>\n",
              "      <td>1</td>\n",
              "      <td>1</td>\n",
              "      <td>1</td>\n",
              "      <td>1</td>\n",
              "      <td>0</td>\n",
              "      <td>0</td>\n",
              "    </tr>\n",
              "    <tr>\n",
              "      <th>297</th>\n",
              "      <td>298</td>\n",
              "      <td>12.0</td>\n",
              "      <td>1</td>\n",
              "      <td>0</td>\n",
              "      <td>0</td>\n",
              "      <td>0</td>\n",
              "      <td>1</td>\n",
              "      <td>1</td>\n",
              "      <td>1</td>\n",
              "      <td>1</td>\n",
              "      <td>0</td>\n",
              "      <td>0</td>\n",
              "    </tr>\n",
              "    <tr>\n",
              "      <th>298</th>\n",
              "      <td>46</td>\n",
              "      <td>2.0</td>\n",
              "      <td>1</td>\n",
              "      <td>1</td>\n",
              "      <td>0</td>\n",
              "      <td>0</td>\n",
              "      <td>1</td>\n",
              "      <td>1</td>\n",
              "      <td>1</td>\n",
              "      <td>1</td>\n",
              "      <td>0</td>\n",
              "      <td>0</td>\n",
              "    </tr>\n",
              "    <tr>\n",
              "      <th>299</th>\n",
              "      <td>136</td>\n",
              "      <td>4.0</td>\n",
              "      <td>1</td>\n",
              "      <td>1</td>\n",
              "      <td>0</td>\n",
              "      <td>0</td>\n",
              "      <td>1</td>\n",
              "      <td>1</td>\n",
              "      <td>1</td>\n",
              "      <td>1</td>\n",
              "      <td>0</td>\n",
              "      <td>0</td>\n",
              "    </tr>\n",
              "  </tbody>\n",
              "</table>\n",
              "<p>300 rows × 12 columns</p>\n",
              "</div>\n",
              "      <button class=\"colab-df-convert\" onclick=\"convertToInteractive('df-27f8ce45-0546-43c7-b5a7-947b1f5e1ad2')\"\n",
              "              title=\"Convert this dataframe to an interactive table.\"\n",
              "              style=\"display:none;\">\n",
              "        \n",
              "  <svg xmlns=\"http://www.w3.org/2000/svg\" height=\"24px\"viewBox=\"0 0 24 24\"\n",
              "       width=\"24px\">\n",
              "    <path d=\"M0 0h24v24H0V0z\" fill=\"none\"/>\n",
              "    <path d=\"M18.56 5.44l.94 2.06.94-2.06 2.06-.94-2.06-.94-.94-2.06-.94 2.06-2.06.94zm-11 1L8.5 8.5l.94-2.06 2.06-.94-2.06-.94L8.5 2.5l-.94 2.06-2.06.94zm10 10l.94 2.06.94-2.06 2.06-.94-2.06-.94-.94-2.06-.94 2.06-2.06.94z\"/><path d=\"M17.41 7.96l-1.37-1.37c-.4-.4-.92-.59-1.43-.59-.52 0-1.04.2-1.43.59L10.3 9.45l-7.72 7.72c-.78.78-.78 2.05 0 2.83L4 21.41c.39.39.9.59 1.41.59.51 0 1.02-.2 1.41-.59l7.78-7.78 2.81-2.81c.8-.78.8-2.07 0-2.86zM5.41 20L4 18.59l7.72-7.72 1.47 1.35L5.41 20z\"/>\n",
              "  </svg>\n",
              "      </button>\n",
              "      \n",
              "  <style>\n",
              "    .colab-df-container {\n",
              "      display:flex;\n",
              "      flex-wrap:wrap;\n",
              "      gap: 12px;\n",
              "    }\n",
              "\n",
              "    .colab-df-convert {\n",
              "      background-color: #E8F0FE;\n",
              "      border: none;\n",
              "      border-radius: 50%;\n",
              "      cursor: pointer;\n",
              "      display: none;\n",
              "      fill: #1967D2;\n",
              "      height: 32px;\n",
              "      padding: 0 0 0 0;\n",
              "      width: 32px;\n",
              "    }\n",
              "\n",
              "    .colab-df-convert:hover {\n",
              "      background-color: #E2EBFA;\n",
              "      box-shadow: 0px 1px 2px rgba(60, 64, 67, 0.3), 0px 1px 3px 1px rgba(60, 64, 67, 0.15);\n",
              "      fill: #174EA6;\n",
              "    }\n",
              "\n",
              "    [theme=dark] .colab-df-convert {\n",
              "      background-color: #3B4455;\n",
              "      fill: #D2E3FC;\n",
              "    }\n",
              "\n",
              "    [theme=dark] .colab-df-convert:hover {\n",
              "      background-color: #434B5C;\n",
              "      box-shadow: 0px 1px 3px 1px rgba(0, 0, 0, 0.15);\n",
              "      filter: drop-shadow(0px 1px 2px rgba(0, 0, 0, 0.3));\n",
              "      fill: #FFFFFF;\n",
              "    }\n",
              "  </style>\n",
              "\n",
              "      <script>\n",
              "        const buttonEl =\n",
              "          document.querySelector('#df-27f8ce45-0546-43c7-b5a7-947b1f5e1ad2 button.colab-df-convert');\n",
              "        buttonEl.style.display =\n",
              "          google.colab.kernel.accessAllowed ? 'block' : 'none';\n",
              "\n",
              "        async function convertToInteractive(key) {\n",
              "          const element = document.querySelector('#df-27f8ce45-0546-43c7-b5a7-947b1f5e1ad2');\n",
              "          const dataTable =\n",
              "            await google.colab.kernel.invokeFunction('convertToInteractive',\n",
              "                                                     [key], {});\n",
              "          if (!dataTable) return;\n",
              "\n",
              "          const docLinkHtml = 'Like what you see? Visit the ' +\n",
              "            '<a target=\"_blank\" href=https://colab.research.google.com/notebooks/data_table.ipynb>data table notebook</a>'\n",
              "            + ' to learn more about interactive tables.';\n",
              "          element.innerHTML = '';\n",
              "          dataTable['output_type'] = 'display_data';\n",
              "          await google.colab.output.renderOutput(dataTable, element);\n",
              "          const docLink = document.createElement('div');\n",
              "          docLink.innerHTML = docLinkHtml;\n",
              "          element.appendChild(docLink);\n",
              "        }\n",
              "      </script>\n",
              "    </div>\n",
              "  </div>\n",
              "  "
            ]
          },
          "metadata": {},
          "execution_count": 316
        }
      ]
    },
    {
      "cell_type": "code",
      "source": [
        "from sklearn.linear_model import LinearRegression\n",
        "lm = LinearRegression()\n",
        "lm.fit(X_train_scaled_Megido_IsraeliWeekendno2,y_train_scaled_Megido_IsraeliWeekendno2)\n",
        "\n",
        "coeff = lm.coef_[0]\n",
        "intercept = lm.intercept_[0]\n",
        "print('Coefficients: \\n', \"coeff =\", coeff , \",  Intercept=\",intercept,\"\\n\" )\n",
        "print(\"The regression equation is:\" ,\"Israeli Visitors = \" ,intercept,\" + \",coeff[0],\" * \",correlated_MegidoIsraeliWeekendno2_df[0],\n",
        "      \" + \",coeff[1],\" * \",correlated_MegidoIsraeliWeekendno2_df[1],\" + \",coeff[2],\" * \",correlated_MegidoIsraeliWeekendno2_df[2],\" + \",coeff[3],\" * \",correlated_MegidoIsraeliWeekendno2_df[3],\" + \",coeff[4],\" * \",correlated_MegidoIsraeliWeekendno2_df[4],\" + \",coeff[5],\" * \",correlated_MegidoIsraeliWeekendno2_df[5],\" + \",coeff[6],\" * \",correlated_MegidoIsraeliWeekendno2_df[6],\" + \",coeff[7],\" * \",correlated_MegidoIsraeliWeekendno2_df[7],\" + \",coeff[8],\" * \",correlated_MegidoIsraeliWeekendno2_df[8],\" + \",coeff[9],\" * \",correlated_MegidoIsraeliWeekendno2_df[9],\" + \",coeff[10],\" * \",correlated_MegidoIsraeliWeekendno2_df[10])"
      ],
      "metadata": {
        "id": "2csYYFeTDZcS",
        "colab": {
          "base_uri": "https://localhost:8080/"
        },
        "outputId": "714a57f6-8619-4ef4-e61d-886b5f78e215"
      },
      "execution_count": 317,
      "outputs": [
        {
          "output_type": "stream",
          "name": "stdout",
          "text": [
            "Coefficients: \n",
            " coeff = [ 2.01899824e-01  0.00000000e+00 -8.49379052e-02 -3.57379373e-02\n",
            "  1.77089279e-01  0.00000000e+00 -6.93889390e-18  0.00000000e+00\n",
            "  2.09517853e-01  8.94673635e-02 -2.56241808e-01] ,  Intercept= 8.633307280172421e-17 \n",
            "\n",
            "The regression equation is: Israeli Visitors =  8.633307280172421e-17  +  0.20189982380437235  *  no2  +  0.0  *  Is_Weekend  +  -0.0849379052125972  *  Is_Jewish_Holiday  +  -0.035737937309317167  *  Is_Muslem_Holiday  +  0.17708927859837964  *  Is_Christian_Holiday  +  0.0  *  Is_National_Park  +  -6.938893903907228e-18  *  Is_Christian_Site  +  0.0  *  Duration_Of_Visit  +  0.20951785273542814  *  Winter  +  0.08946736347710095  *  Spring  +  -0.25624180837024746  *  Summer\n"
          ]
        }
      ]
    },
    {
      "cell_type": "code",
      "source": [
        "fitted_scaled_visitors_Megido_IsraeliWeekendno2 = lm.predict(X_train_scaled_Megido_IsraeliWeekendno2)\n",
        "fitted_visitors_Megido_IsraeliWeekendno2 = y_train_scaler_Megido_IsraeliWeekendno2.inverse_transform(fitted_scaled_visitors_Megido_IsraeliWeekendno2)\n",
        "predicted_train_visitors_IsraeliWeekendno2 = round(pd.Series(fitted_visitors_Megido_IsraeliWeekendno2[:,0], index= y_train_Megido_IsraeliWeekendno2.index, name='predicted_train_Visitors'), ndigits =2)\n",
        "train_df_Megido_IsraeliWeekendno2 = pd.merge(left=train_df_Megido_IsraeliWeekendno2, right=predicted_train_visitors_IsraeliWeekendno2 , left_index=True, right_index=True)\n",
        "\n",
        "#train_df_Megido_IsraeliWeekendno2.head(10)"
      ],
      "metadata": {
        "id": "jN0R8cW3DZaF"
      },
      "execution_count": 318,
      "outputs": []
    },
    {
      "cell_type": "code",
      "source": [
        "fitted_scaled_visitors_Megido_IsraeliWeekendno2 = lm.predict(X_test_scaled_Megido_IsraeliWeekendno2)\n",
        "fitted_visitors_Megido_IsraeliWeekendno2 = y_test_scaler_Megido_IsraeliWeekendno2.inverse_transform(fitted_scaled_visitors_Megido_IsraeliWeekendno2)\n",
        "predicted_test_visitors_IsraeliWeekendno2 = round(pd.Series(fitted_visitors_Megido_IsraeliWeekendno2[:,0], index= y_test_Megido_IsraeliWeekendno2.index, name='predicted_test_Visitors'), ndigits =2)\n",
        "test_df_Megido_IsraeliWeekendno2 = pd.merge(left=test_df_Megido_IsraeliWeekendno2, right=predicted_test_visitors_IsraeliWeekendno2 , left_index=True, right_index=True)\n",
        "\n",
        "#test_df_Megido_IsraeliWeekendno2.head(10)"
      ],
      "metadata": {
        "id": "wbfZQr_2DZX_"
      },
      "execution_count": 319,
      "outputs": []
    },
    {
      "cell_type": "code",
      "source": [
        "from sklearn import metrics\n",
        "print(\"std of the objective function: 132.32\")\n",
        "print(\"\")\n",
        "print(\"------ TRAIN DATA ------\")\n",
        "print(\"RMSE:\",np.sqrt(metrics.mean_squared_error(train_df_Megido_IsraeliWeekendno2.Israeli_Visitors, train_df_Megido_IsraeliWeekendno2.predicted_train_Visitors)))\n",
        "print(\"\")\n",
        "print(\"------ TEST DATA ------\")\n",
        "print(\"RMSE:\",np.sqrt(metrics.mean_squared_error(test_df_Megido_IsraeliWeekendno2.Israeli_Visitors, test_df_Megido_IsraeliWeekendno2.predicted_test_Visitors)))\n"
      ],
      "metadata": {
        "id": "_tSX_qaWDZVs",
        "colab": {
          "base_uri": "https://localhost:8080/"
        },
        "outputId": "94303bf2-0df2-4880-c117-bac8114f9d08"
      },
      "execution_count": 320,
      "outputs": [
        {
          "output_type": "stream",
          "name": "stdout",
          "text": [
            "std of the objective function: 132.32\n",
            "\n",
            "------ TRAIN DATA ------\n",
            "RMSE: 113.48316551260764\n",
            "\n",
            "------ TEST DATA ------\n",
            "RMSE: 123.79879024269806\n"
          ]
        }
      ]
    },
    {
      "cell_type": "code",
      "source": [
        "from sklearn.metrics import r2_score\n",
        "r2_score(train_df_Megido_IsraeliWeekendno2.Israeli_Visitors, train_df_Megido_IsraeliWeekendno2.predicted_train_Visitors)"
      ],
      "metadata": {
        "colab": {
          "base_uri": "https://localhost:8080/"
        },
        "id": "wy_fxZJ8PxIT",
        "outputId": "508efa7b-22cf-493d-b70f-3b32bdb5a620"
      },
      "execution_count": 321,
      "outputs": [
        {
          "output_type": "execute_result",
          "data": {
            "text/plain": [
              "0.2512895809569129"
            ]
          },
          "metadata": {},
          "execution_count": 321
        }
      ]
    },
    {
      "cell_type": "code",
      "source": [
        "#get R2 for test set\n",
        "r2_score(test_df_Megido_IsraeliWeekendno2.Israeli_Visitors, test_df_Megido_IsraeliWeekendno2.predicted_test_Visitors)"
      ],
      "metadata": {
        "colab": {
          "base_uri": "https://localhost:8080/"
        },
        "id": "7pY8PzVlPyiw",
        "outputId": "370f4c71-a026-48d1-c863-9b90f59dfdb8"
      },
      "execution_count": 322,
      "outputs": [
        {
          "output_type": "execute_result",
          "data": {
            "text/plain": [
              "0.1499793545857705"
            ]
          },
          "metadata": {},
          "execution_count": 322
        }
      ]
    },
    {
      "cell_type": "markdown",
      "source": [
        "**Megido Israeli Weekend pm25**"
      ],
      "metadata": {
        "id": "mSuCuVDxDmRt"
      }
    },
    {
      "cell_type": "code",
      "source": [
        "MegidoIsraeliWeekendpm25_df.std()"
      ],
      "metadata": {
        "colab": {
          "base_uri": "https://localhost:8080/"
        },
        "id": "O_VhDpG-J91u",
        "outputId": "93cabb39-b039-454e-e8d7-8830d575415e"
      },
      "execution_count": 323,
      "outputs": [
        {
          "output_type": "execute_result",
          "data": {
            "text/plain": [
              "Israeli_Visitors        131.819344\n",
              "pm25                     17.477385\n",
              "Is_Weekend                0.000000\n",
              "Is_Jewish_Holiday         0.272580\n",
              "Is_Muslem_Holiday         0.171429\n",
              "Is_Christian_Holiday      0.081785\n",
              "Is_National_Park          0.000000\n",
              "Is_Christian_Site         0.000000\n",
              "Duration_Of_Visit         0.000000\n",
              "Winter                    0.432766\n",
              "Spring                    0.432766\n",
              "Summer                    0.443902\n",
              "dtype: float64"
            ]
          },
          "metadata": {},
          "execution_count": 323
        }
      ]
    },
    {
      "cell_type": "code",
      "source": [
        "from sklearn.model_selection import train_test_split\n",
        "y_Megido_IsraeliWeekendpm25 = MegidoIsraeliWeekendpm25_df.Israeli_Visitors\n",
        "X_Megido_IsraeliWeekendpm25 = MegidoIsraeliWeekendpm25_df[correlated_MegidoIsraeliWeekendpm25_df]\n",
        "\n",
        "X_train_Megido_IsraeliWeekendpm25, X_test_Megido_IsraeliWeekendpm25, y_train_Megido_IsraeliWeekendpm25, y_test_Megido_IsraeliWeekendpm25 = train_test_split(X_Megido_IsraeliWeekendpm25, y_Megido_IsraeliWeekendpm25, test_size=0.3, random_state=1234)\n",
        "train_df_Megido_IsraeliWeekendpm25 = pd.merge(left=X_train_Megido_IsraeliWeekendpm25, right=y_train_Megido_IsraeliWeekendpm25, left_index=True, right_index=True)\n",
        "test_df_Megido_IsraeliWeekendpm25 = pd.merge(left=X_test_Megido_IsraeliWeekendpm25, right=y_test_Megido_IsraeliWeekendpm25, left_index=True, right_index=True)\n",
        "#test_df_Megido_IsraeliWeekendpm25.head(10)"
      ],
      "metadata": {
        "id": "3FOJ-nYVDZTA"
      },
      "execution_count": 324,
      "outputs": []
    },
    {
      "cell_type": "code",
      "source": [
        "from sklearn.preprocessing import StandardScaler\n",
        "\n",
        "x_train_scaler_Megido_IsraeliWeekendpm25 = StandardScaler()\n",
        "x_test_scaler_Megido_IsraeliWeekendpm25 = StandardScaler()\n",
        "y_train_scaler_Megido_IsraeliWeekendpm25 = StandardScaler()\n",
        "y_test_scaler_Megido_IsraeliWeekendpm25 = StandardScaler()\n",
        "\n",
        "X_train_scaled_Megido_IsraeliWeekendpm25 = x_train_scaler_Megido_IsraeliWeekendpm25.fit_transform(X_train_Megido_IsraeliWeekendpm25)\n",
        "X_test_scaled_Megido_IsraeliWeekendpm25 = x_test_scaler_Megido_IsraeliWeekendpm25.fit_transform(X_test_Megido_IsraeliWeekendpm25)\n",
        "y_train_scaled_Megido_IsraeliWeekendpm25 = y_train_scaler_Megido_IsraeliWeekendpm25.fit_transform(pd.DataFrame(y_train_Megido_IsraeliWeekendpm25))\n",
        "y_test_scaled_Megido_IsraeliWeekendpm25 = y_test_scaler_Megido_IsraeliWeekendpm25.fit_transform(pd.DataFrame(y_test_Megido_IsraeliWeekendpm25))"
      ],
      "metadata": {
        "id": "u6EImLYODZQk"
      },
      "execution_count": 325,
      "outputs": []
    },
    {
      "cell_type": "code",
      "source": [
        "from sklearn.linear_model import LinearRegression\n",
        "lm = LinearRegression()\n",
        "lm.fit(X_train_scaled_Megido_IsraeliWeekendpm25,y_train_scaled_Megido_IsraeliWeekendpm25)\n",
        "\n",
        "coeff = lm.coef_[0]\n",
        "intercept = lm.intercept_[0]\n",
        "print('Coefficients: \\n', \"coeff =\", coeff , \",  Intercept=\",intercept,\"\\n\" )\n",
        "print(\"The regression equation is:\" ,\"Israeli Visitors = \" ,intercept,\" + \",coeff[0],\" * \",correlated_MegidoIsraeliWeekendpm25_df[0],\n",
        "      \" + \",coeff[1],\" * \",correlated_MegidoIsraeliWeekendpm25_df[1],\" + \",coeff[2],\" * \",correlated_MegidoIsraeliWeekendpm25_df[2],\" + \",coeff[3],\" * \",correlated_MegidoIsraeliWeekendpm25_df[3],\" + \",coeff[4],\" * \",correlated_MegidoIsraeliWeekendpm25_df[4],\" + \",coeff[5],\" * \",correlated_MegidoIsraeliWeekendpm25_df[5],\" + \",coeff[6],\" * \",correlated_MegidoIsraeliWeekendpm25_df[6],\" + \",coeff[7],\" * \",correlated_MegidoIsraeliWeekendpm25_df[7],\" + \",coeff[8],\" * \",correlated_MegidoIsraeliWeekendpm25_df[8],\" + \",coeff[9],\" * \",correlated_MegidoIsraeliWeekendpm25_df[9],\" + \",coeff[10])"
      ],
      "metadata": {
        "id": "ShAQB8ujDY9k",
        "colab": {
          "base_uri": "https://localhost:8080/"
        },
        "outputId": "1eb1ca07-712c-4eae-a173-dc60e704b291"
      },
      "execution_count": 326,
      "outputs": [
        {
          "output_type": "stream",
          "name": "stdout",
          "text": [
            "Coefficients: \n",
            " coeff = [-9.24258513e-02  0.00000000e+00 -4.48052424e-02 -1.67749427e-02\n",
            "  1.86440638e-01 -5.20417043e-18 -2.77555756e-17  0.00000000e+00\n",
            "  2.24446754e-01  1.62371069e-01 -2.44384944e-01] ,  Intercept= 9.66324450050407e-17 \n",
            "\n",
            "The regression equation is: Israeli Visitors =  9.66324450050407e-17  +  -0.09242585126700968  *  pm25  +  0.0  *  Is_Weekend  +  -0.04480524239202284  *  Is_Jewish_Holiday  +  -0.016774942658526283  *  Is_Muslem_Holiday  +  0.1864406380397719  *  Is_Christian_Holiday  +  -5.204170427930421e-18  *  Is_National_Park  +  -2.7755575615628914e-17  *  Is_Christian_Site  +  0.0  *  Duration_Of_Visit  +  0.2244467537476553  *  Winter  +  0.1623710691189509  *  Spring  +  -0.2443849438316018\n"
          ]
        }
      ]
    },
    {
      "cell_type": "code",
      "source": [
        "fitted_scaled_visitors_Megido_IsraeliWeekendpm25 = lm.predict(X_train_scaled_Megido_IsraeliWeekendpm25)\n",
        "fitted_visitors_Megido_IsraeliWeekendpm25 = y_train_scaler_Megido_IsraeliWeekendpm25.inverse_transform(fitted_scaled_visitors_Megido_IsraeliWeekendpm25)\n",
        "predicted_train_visitors_IsraeliWeekendpm25 = round(pd.Series(fitted_visitors_Megido_IsraeliWeekendpm25[:,0], index= y_train_Megido_IsraeliWeekendpm25.index, name='predicted_train_Visitors'), ndigits =2)\n",
        "train_df_Megido_IsraeliWeekendpm25 = pd.merge(left=train_df_Megido_IsraeliWeekendpm25, right=predicted_train_visitors_IsraeliWeekendpm25 , left_index=True, right_index=True)\n",
        "\n",
        "#train_df_Megido_IsraeliWeekendpm25.head(10)"
      ],
      "metadata": {
        "id": "FsOO2XcPDo_C"
      },
      "execution_count": 327,
      "outputs": []
    },
    {
      "cell_type": "code",
      "source": [
        "fitted_scaled_visitors_Megido_IsraeliWeekendpm25 = lm.predict(X_test_scaled_Megido_IsraeliWeekendpm25)\n",
        "fitted_visitors_Megido_IsraeliWeekendpm25 = y_test_scaler_Megido_IsraeliWeekendpm25.inverse_transform(fitted_scaled_visitors_Megido_IsraeliWeekendpm25)\n",
        "predicted_test_visitors_IsraeliWeekendpm25 = round(pd.Series(fitted_visitors_Megido_IsraeliWeekendpm25[:,0], index= y_test_Megido_IsraeliWeekendpm25.index, name='predicted_test_Visitors'), ndigits =2)\n",
        "test_df_Megido_IsraeliWeekendpm25 = pd.merge(left=test_df_Megido_IsraeliWeekendpm25, right=predicted_test_visitors_IsraeliWeekendpm25 , left_index=True, right_index=True)\n",
        "\n",
        "#test_df_Megido_IsraeliWeekendpm25.head(10)"
      ],
      "metadata": {
        "id": "fn5cjM9aDo38"
      },
      "execution_count": 328,
      "outputs": []
    },
    {
      "cell_type": "code",
      "source": [
        "from sklearn import metrics\n",
        "print(\"std of the objective function: 131.81\")\n",
        "print(\"\")\n",
        "print(\"------ TRAIN DATA ------\")\n",
        "print(\"RMSE:\",np.sqrt(metrics.mean_squared_error(train_df_Megido_IsraeliWeekendpm25.Israeli_Visitors, train_df_Megido_IsraeliWeekendpm25.predicted_train_Visitors)))\n",
        "print(\"\")\n",
        "print(\"------ TEST DATA ------\")\n",
        "print(\"RMSE:\",np.sqrt(metrics.mean_squared_error(test_df_Megido_IsraeliWeekendpm25.Israeli_Visitors, test_df_Megido_IsraeliWeekendpm25.predicted_test_Visitors)))\n"
      ],
      "metadata": {
        "colab": {
          "base_uri": "https://localhost:8080/"
        },
        "id": "C1-kmiU_Dov7",
        "outputId": "1e5c5c5f-2ca2-4b1f-8692-05b0e24eb5d0"
      },
      "execution_count": 329,
      "outputs": [
        {
          "output_type": "stream",
          "name": "stdout",
          "text": [
            "std of the objective function: 131.81\n",
            "\n",
            "------ TRAIN DATA ------\n",
            "RMSE: 117.90327423154639\n",
            "\n",
            "------ TEST DATA ------\n",
            "RMSE: 117.6079342325357\n"
          ]
        }
      ]
    },
    {
      "cell_type": "code",
      "source": [
        "from sklearn.metrics import r2_score\n",
        "r2_score(train_df_Megido_IsraeliWeekendpm25.Israeli_Visitors, train_df_Megido_IsraeliWeekendpm25.predicted_train_Visitors)"
      ],
      "metadata": {
        "colab": {
          "base_uri": "https://localhost:8080/"
        },
        "id": "n7zhReZlQQny",
        "outputId": "2505f76d-a52e-4974-e6ad-c69dd18ae909"
      },
      "execution_count": 330,
      "outputs": [
        {
          "output_type": "execute_result",
          "data": {
            "text/plain": [
              "0.23372451578681563"
            ]
          },
          "metadata": {},
          "execution_count": 330
        }
      ]
    },
    {
      "cell_type": "code",
      "source": [
        "#get R2 for test set\n",
        "r2_score(test_df_Megido_IsraeliWeekendpm25.Israeli_Visitors, test_df_Megido_IsraeliWeekendpm25.predicted_test_Visitors)"
      ],
      "metadata": {
        "colab": {
          "base_uri": "https://localhost:8080/"
        },
        "id": "tsGLue6GQQSO",
        "outputId": "4d8a4bf6-a87c-4ad4-c2a4-4f43360450bb"
      },
      "execution_count": 331,
      "outputs": [
        {
          "output_type": "execute_result",
          "data": {
            "text/plain": [
              "0.09725637399345255"
            ]
          },
          "metadata": {},
          "execution_count": 331
        }
      ]
    },
    {
      "cell_type": "markdown",
      "source": [
        "**Megido Israeli Weekend Temp**"
      ],
      "metadata": {
        "id": "JmNxaQ2wDnTE"
      }
    },
    {
      "cell_type": "code",
      "source": [
        "MegidoIsraeliWeekendTemp_df.std()"
      ],
      "metadata": {
        "colab": {
          "base_uri": "https://localhost:8080/"
        },
        "id": "y3S9Zos-J-cr",
        "outputId": "e86a628a-d2af-4c13-f91e-8dc4a0d19a2a"
      },
      "execution_count": 332,
      "outputs": [
        {
          "output_type": "execute_result",
          "data": {
            "text/plain": [
              "Israeli_Visitors        130.927889\n",
              "Temp_C                    7.013568\n",
              "Is_Weekend                0.000000\n",
              "Is_Jewish_Holiday         0.286689\n",
              "Is_Muslem_Holiday         0.167905\n",
              "Is_Christian_Holiday      0.097898\n",
              "Is_National_Park          0.000000\n",
              "Is_Christian_Site         0.000000\n",
              "Duration_Of_Visit         0.000000\n",
              "Winter                    0.428475\n",
              "Spring                    0.436010\n",
              "Summer                    0.437814\n",
              "dtype: float64"
            ]
          },
          "metadata": {},
          "execution_count": 332
        }
      ]
    },
    {
      "cell_type": "code",
      "source": [
        "from sklearn.model_selection import train_test_split\n",
        "y_Megido_IsraeliWeekendTemp = MegidoIsraeliWeekendTemp_df.Israeli_Visitors\n",
        "X_Megido_IsraeliWeekendTemp = MegidoIsraeliWeekendTemp_df[correlated_MegidoIsraeliWeekendTemp_df]\n",
        "\n",
        "X_train_Megido_IsraeliWeekendTemp, X_test_Megido_IsraeliWeekendTemp, y_train_Megido_IsraeliWeekendTemp, y_test_Megido_IsraeliWeekendTemp = train_test_split(X_Megido_IsraeliWeekendTemp, y_Megido_IsraeliWeekendTemp, test_size=0.3, random_state=1234)\n",
        "train_df_Megido_IsraeliWeekendTemp = pd.merge(left=X_train_Megido_IsraeliWeekendTemp, right=y_train_Megido_IsraeliWeekendTemp, left_index=True, right_index=True)\n",
        "test_df_Megido_IsraeliWeekendTemp = pd.merge(left=X_test_Megido_IsraeliWeekendTemp, right=y_test_Megido_IsraeliWeekendTemp, left_index=True, right_index=True)\n",
        "#test_df_Megido_IsraeliWeekendTemp.head(10)"
      ],
      "metadata": {
        "id": "c4RtKIsTDqf7"
      },
      "execution_count": 333,
      "outputs": []
    },
    {
      "cell_type": "code",
      "source": [
        "from sklearn.preprocessing import StandardScaler\n",
        "\n",
        "x_train_scaler_Megido_IsraeliWeekendTemp = StandardScaler()\n",
        "x_test_scaler_Megido_IsraeliWeekendTemp = StandardScaler()\n",
        "y_train_scaler_Megido_IsraeliWeekendTemp = StandardScaler()\n",
        "y_test_scaler_Megido_IsraeliWeekendTemp = StandardScaler()\n",
        "\n",
        "X_train_scaled_Megido_IsraeliWeekendTemp = x_train_scaler_Megido_IsraeliWeekendTemp.fit_transform(X_train_Megido_IsraeliWeekendTemp)\n",
        "X_test_scaled_Megido_IsraeliWeekendTemp = x_test_scaler_Megido_IsraeliWeekendTemp.fit_transform(X_test_Megido_IsraeliWeekendTemp)\n",
        "y_train_scaled_Megido_IsraeliWeekendTemp = y_train_scaler_Megido_IsraeliWeekendTemp.fit_transform(pd.DataFrame(y_train_Megido_IsraeliWeekendTemp))\n",
        "y_test_scaled_Megido_IsraeliWeekendTemp = y_test_scaler_Megido_IsraeliWeekendTemp.fit_transform(pd.DataFrame(y_test_Megido_IsraeliWeekendTemp))"
      ],
      "metadata": {
        "id": "AQrZ6cAZDqZ-"
      },
      "execution_count": 334,
      "outputs": []
    },
    {
      "cell_type": "code",
      "source": [
        "from sklearn.linear_model import LinearRegression\n",
        "lm = LinearRegression()\n",
        "lm.fit(X_train_scaled_Megido_IsraeliWeekendTemp,y_train_scaled_Megido_IsraeliWeekendTemp)\n",
        "\n",
        "coeff = lm.coef_[0]\n",
        "intercept = lm.intercept_[0]\n",
        "print('Coefficients: \\n', \"coeff =\", coeff , \",  Intercept=\",intercept,\"\\n\" )\n",
        "print(\"The regression equation is:\" ,\"Israeli Visitors = \" ,intercept,\" + \",coeff[0],\" * \",correlated_MegidoIsraeliWeekendTemp_df[0],\n",
        "      \" + \",coeff[1],\" * \",correlated_MegidoIsraeliWeekendTemp_df[1],\" + \",coeff[2],\" * \",correlated_MegidoIsraeliWeekendTemp_df[2],\" + \",coeff[3],\" * \",correlated_MegidoIsraeliWeekendTemp_df[3],\" + \",coeff[4],\" * \",correlated_MegidoIsraeliWeekendTemp_df[4],\" + \",coeff[5],\" * \",correlated_MegidoIsraeliWeekendTemp_df[5],\" + \",coeff[6],\" * \",correlated_MegidoIsraeliWeekendTemp_df[6],\" + \",coeff[7],\" * \",correlated_MegidoIsraeliWeekendTemp_df[7],\" + \",coeff[8],\" * \",correlated_MegidoIsraeliWeekendTemp_df[8],\" + \",coeff[9],\" * \",correlated_MegidoIsraeliWeekendTemp_df[9],\" + \",coeff[10],\" * \",correlated_MegidoIsraeliWeekendTemp_df[10])"
      ],
      "metadata": {
        "colab": {
          "base_uri": "https://localhost:8080/"
        },
        "id": "Bx_2ENGIDqTl",
        "outputId": "9555d8c9-5c91-473e-b1a0-8ed7b93bb805"
      },
      "execution_count": 335,
      "outputs": [
        {
          "output_type": "stream",
          "name": "stdout",
          "text": [
            "Coefficients: \n",
            " coeff = [-6.56403016e-02  0.00000000e+00 -3.96301302e-02  6.74876513e-04\n",
            "  3.18866775e-02 -6.93889390e-18  0.00000000e+00  0.00000000e+00\n",
            "  2.26408960e-01  1.47832355e-01 -2.17945233e-01] ,  Intercept= -4.941370592481264e-18 \n",
            "\n",
            "The regression equation is: Israeli Visitors =  -4.941370592481264e-18  +  -0.06564030160361492  *  Temp_C  +  0.0  *  Is_Weekend  +  -0.03963013024072373  *  Is_Jewish_Holiday  +  0.0006748765127321671  *  Is_Muslem_Holiday  +  0.03188667750247753  *  Is_Christian_Holiday  +  -6.938893903907228e-18  *  Is_National_Park  +  0.0  *  Is_Christian_Site  +  0.0  *  Duration_Of_Visit  +  0.2264089602900782  *  Winter  +  0.1478323550782608  *  Spring  +  -0.21794523316309738  *  Summer\n"
          ]
        }
      ]
    },
    {
      "cell_type": "code",
      "source": [
        "fitted_scaled_visitors_Megido_IsraeliWeekendTemp = lm.predict(X_train_scaled_Megido_IsraeliWeekendTemp)\n",
        "fitted_visitors_Megido_IsraeliWeekendTemp = y_train_scaler_Megido_IsraeliWeekendTemp.inverse_transform(fitted_scaled_visitors_Megido_IsraeliWeekendTemp)\n",
        "predicted_train_visitors_IsraeliWeekendTemp = round(pd.Series(fitted_visitors_Megido_IsraeliWeekendTemp[:,0], index= y_train_Megido_IsraeliWeekendTemp.index, name='predicted_train_Visitors'), ndigits =2)\n",
        "train_df_Megido_IsraeliWeekendTemp = pd.merge(left=train_df_Megido_IsraeliWeekendTemp, right=predicted_train_visitors_IsraeliWeekendTemp , left_index=True, right_index=True)\n",
        "\n",
        "#train_df_Megido_IsraeliWeekendTemp.head(10)"
      ],
      "metadata": {
        "id": "jwkYOeA-DqNm"
      },
      "execution_count": 336,
      "outputs": []
    },
    {
      "cell_type": "code",
      "source": [
        "fitted_scaled_visitors_Megido_IsraeliWeekendTemp = lm.predict(X_test_scaled_Megido_IsraeliWeekendTemp)\n",
        "fitted_visitors_Megido_IsraeliWeekendTemp = y_test_scaler_Megido_IsraeliWeekendTemp.inverse_transform(fitted_scaled_visitors_Megido_IsraeliWeekendTemp)\n",
        "predicted_test_visitors_IsraeliWeekendTemp = round(pd.Series(fitted_visitors_Megido_IsraeliWeekendTemp[:,0], index= y_test_Megido_IsraeliWeekendTemp.index, name='predicted_test_Visitors'), ndigits =2)\n",
        "test_df_Megido_IsraeliWeekendTemp = pd.merge(left=test_df_Megido_IsraeliWeekendTemp, right=predicted_test_visitors_IsraeliWeekendTemp , left_index=True, right_index=True)\n",
        "\n",
        "#test_df_Megido_IsraeliWeekendTemp.head(10)"
      ],
      "metadata": {
        "id": "NkELrQS4DqHT"
      },
      "execution_count": 337,
      "outputs": []
    },
    {
      "cell_type": "code",
      "source": [
        "from sklearn import metrics\n",
        "print(\"std of the objective function: 130.92\")\n",
        "print(\"\")\n",
        "print(\"------ TRAIN DATA ------\")\n",
        "print(\"RMSE:\",np.sqrt(metrics.mean_squared_error(train_df_Megido_IsraeliWeekendTemp.Israeli_Visitors, train_df_Megido_IsraeliWeekendTemp.predicted_train_Visitors)))\n",
        "print(\"\")\n",
        "print(\"------ TEST DATA ------\")\n",
        "print(\"RMSE:\",np.sqrt(metrics.mean_squared_error(test_df_Megido_IsraeliWeekendTemp.Israeli_Visitors, test_df_Megido_IsraeliWeekendTemp.predicted_test_Visitors)))\n"
      ],
      "metadata": {
        "colab": {
          "base_uri": "https://localhost:8080/"
        },
        "id": "tr6E9h2mDqAQ",
        "outputId": "6b0cb2f0-c94f-45df-8d64-b91232cf4d4b"
      },
      "execution_count": 338,
      "outputs": [
        {
          "output_type": "stream",
          "name": "stdout",
          "text": [
            "std of the objective function: 130.92\n",
            "\n",
            "------ TRAIN DATA ------\n",
            "RMSE: 115.74435983312414\n",
            "\n",
            "------ TEST DATA ------\n",
            "RMSE: 123.91095950790718\n"
          ]
        }
      ]
    },
    {
      "cell_type": "code",
      "source": [
        "from sklearn.metrics import r2_score\n",
        "r2_score(train_df_Megido_IsraeliWeekendTemp.Israeli_Visitors, train_df_Megido_IsraeliWeekendTemp.predicted_train_Visitors)"
      ],
      "metadata": {
        "colab": {
          "base_uri": "https://localhost:8080/"
        },
        "id": "HZao8hZbQrUB",
        "outputId": "873eac14-160f-41fb-d306-2826e101db21"
      },
      "execution_count": 339,
      "outputs": [
        {
          "output_type": "execute_result",
          "data": {
            "text/plain": [
              "0.19412085000731094"
            ]
          },
          "metadata": {},
          "execution_count": 339
        }
      ]
    },
    {
      "cell_type": "code",
      "source": [
        "#get R2 for test set\n",
        "r2_score(test_df_Megido_IsraeliWeekendTemp.Israeli_Visitors, test_df_Megido_IsraeliWeekendTemp.predicted_test_Visitors)"
      ],
      "metadata": {
        "colab": {
          "base_uri": "https://localhost:8080/"
        },
        "id": "G5zWRslKQtgM",
        "outputId": "336a2cf6-2931-401c-e5af-f9190e35288d"
      },
      "execution_count": 340,
      "outputs": [
        {
          "output_type": "execute_result",
          "data": {
            "text/plain": [
              "0.15429424587873553"
            ]
          },
          "metadata": {},
          "execution_count": 340
        }
      ]
    },
    {
      "cell_type": "markdown",
      "source": [
        "### **Banias**"
      ],
      "metadata": {
        "id": "uCz_q1NKp-8M"
      }
    },
    {
      "cell_type": "markdown",
      "source": [
        "**Banias Israeli pm25**"
      ],
      "metadata": {
        "id": "1uqVutNTndkY"
      }
    },
    {
      "cell_type": "code",
      "source": [
        "BaniasIsraelipm25_df.std()"
      ],
      "metadata": {
        "colab": {
          "base_uri": "https://localhost:8080/"
        },
        "id": "OS1ttCdwe-UT",
        "outputId": "1979a7eb-f2c3-4eb3-987c-b2d89deb9a43"
      },
      "execution_count": 341,
      "outputs": [
        {
          "output_type": "execute_result",
          "data": {
            "text/plain": [
              "Israeli_Visitors        716.244751\n",
              "Temp_C                    7.309618\n",
              "pm25                     24.723764\n",
              "Is_Weekend                0.447182\n",
              "Is_Jewish_Holiday         0.320140\n",
              "Is_Muslem_Holiday         0.184358\n",
              "Is_Christian_Holiday      0.125125\n",
              "Is_water_area             0.000000\n",
              "Is_Reserve                0.000000\n",
              "Is_Christian_Site         0.000000\n",
              "Duration_Of_Visit         0.000000\n",
              "Winter                    0.404258\n",
              "Spring                    0.462236\n",
              "Summer                    0.446610\n",
              "dtype: float64"
            ]
          },
          "metadata": {},
          "execution_count": 341
        }
      ]
    },
    {
      "cell_type": "code",
      "source": [
        "from sklearn.model_selection import train_test_split\n",
        "y_Banias_Israelipm25 = BaniasIsraelipm25_df.Israeli_Visitors\n",
        "X_Banias_Israelipm25 = BaniasIsraelipm25_df[correlated_BaniasIsraelipm25_df]\n",
        "\n",
        "X_train_Banias_Israelipm25, X_test_Banias_Israelipm25, y_train_Banias_Israelipm25, y_test_Banias_Israelipm25 = train_test_split(X_Banias_Israelipm25, y_Banias_Israelipm25, test_size=0.3, random_state=1234)\n",
        "train_df_Banias_Israelipm25 = pd.merge(left=X_train_Banias_Israelipm25, right=y_train_Banias_Israelipm25, left_index=True, right_index=True)\n",
        "test_df_Banias_Israelipm25 = pd.merge(left=X_test_Banias_Israelipm25, right=y_test_Banias_Israelipm25, left_index=True, right_index=True)\n",
        "#test_df_Banias_Israelipm25.head(10)"
      ],
      "metadata": {
        "id": "c7v9-Is9BeIP"
      },
      "execution_count": 342,
      "outputs": []
    },
    {
      "cell_type": "code",
      "source": [
        "from sklearn.preprocessing import StandardScaler\n",
        "\n",
        "x_train_scaler_Banias_Israelipm25 = StandardScaler()\n",
        "x_test_scaler_Banias_Israelipm25 = StandardScaler()\n",
        "y_train_scaler_Banias_Israelipm25 = StandardScaler()\n",
        "y_test_scaler_Banias_Israelipm25 = StandardScaler()\n",
        "\n",
        "X_train_scaled_Banias_Israelipm25 = x_train_scaler_Banias_Israelipm25.fit_transform(X_train_Banias_Israelipm25)\n",
        "X_test_scaled_Banias_Israelipm25 = x_test_scaler_Banias_Israelipm25.fit_transform(X_test_Banias_Israelipm25)\n",
        "y_train_scaled_Banias_Israelipm25 = y_train_scaler_Banias_Israelipm25.fit_transform(pd.DataFrame(y_train_Banias_Israelipm25))\n",
        "y_test_scaled_Banias_Israelipm25 = y_test_scaler_Banias_Israelipm25.fit_transform(pd.DataFrame(y_test_Banias_Israelipm25))"
      ],
      "metadata": {
        "id": "jzkVxsQ3BeGC"
      },
      "execution_count": 343,
      "outputs": []
    },
    {
      "cell_type": "code",
      "source": [
        "from sklearn.linear_model import LinearRegression\n",
        "lm = LinearRegression()\n",
        "lm.fit(X_train_scaled_Banias_Israelipm25,y_train_scaled_Banias_Israelipm25)\n",
        "\n",
        "coeff = lm.coef_[0]\n",
        "intercept = lm.intercept_[0]\n",
        "print('Coefficients: \\n', \"coeff =\", coeff , \",  Intercept=\",intercept,\"\\n\" )\n",
        "print(\"The regression equation is:\" ,\"Israeli Visitors = \" ,intercept,\" + \",coeff[0],\" * \",correlated_BaniasIsraelipm25_df[0],\n",
        "      \" + \",coeff[1],\" * \",correlated_BaniasIsraelipm25_df[1],\" + \",coeff[2],\" * \",correlated_BaniasIsraelipm25_df[2],\" + \",coeff[3],\" * \",correlated_BaniasIsraelipm25_df[3],\" + \",coeff[4],\" * \",correlated_BaniasIsraelipm25_df[4],\" + \",coeff[5],\" * \",correlated_BaniasIsraelipm25_df[5],\" + \",coeff[6],\" * \",correlated_BaniasIsraelipm25_df[6],\" + \",coeff[7],\" * \",correlated_BaniasIsraelipm25_df[7],\" + \",coeff[8],\" * \",correlated_BaniasIsraelipm25_df[8],\" + \",coeff[9],\" * \",correlated_BaniasIsraelipm25_df[9],\" + \",coeff[10],\" * \",correlated_BaniasIsraelipm25_df[10],\" + \",coeff[11],\" * \",correlated_BaniasIsraelipm25_df[11],\" + \",coeff[12],\" * \",correlated_BaniasIsraelipm25_df[12])"
      ],
      "metadata": {
        "id": "tW0Dym3OBeDp",
        "colab": {
          "base_uri": "https://localhost:8080/"
        },
        "outputId": "3de3674e-8c19-4c6e-8538-4b7d59eb9f20"
      },
      "execution_count": 344,
      "outputs": [
        {
          "output_type": "stream",
          "name": "stdout",
          "text": [
            "Coefficients: \n",
            " coeff = [ 5.66895526e-02 -4.70035397e-02  1.04131101e-01  2.36920354e-01\n",
            "  3.36942165e-02  4.68031820e-02  1.73472348e-17  0.00000000e+00\n",
            " -5.55111512e-17  0.00000000e+00  6.63989975e-02  4.79119397e-01\n",
            "  1.00825131e-01] ,  Intercept= 1.5994441815129707e-17 \n",
            "\n",
            "The regression equation is: Israeli Visitors =  1.5994441815129707e-17  +  0.05668955264206505  *  Temp_C  +  -0.047003539662839475  *  pm25  +  0.10413110107771581  *  Is_Weekend  +  0.23692035372357148  *  Is_Jewish_Holiday  +  0.033694216533031784  *  Is_Muslem_Holiday  +  0.04680318200420509  *  Is_Christian_Holiday  +  1.734723475976807e-17  *  Is_water_area  +  0.0  *  Is_Reserve  +  -5.551115123125783e-17  *  Is_Christian_Site  +  0.0  *  Duration_Of_Visit  +  0.06639899748480099  *  Winter  +  0.47911939717132923  *  Spring  +  0.10082513120079523  *  Summer\n"
          ]
        }
      ]
    },
    {
      "cell_type": "code",
      "source": [
        "fitted_scaled_visitors_Banias_Israelipm25 = lm.predict(X_train_scaled_Banias_Israelipm25)\n",
        "fitted_visitors_Banias_Israelipm25 = y_train_scaler_Banias_Israelipm25.inverse_transform(fitted_scaled_visitors_Banias_Israelipm25)\n",
        "predicted_train_visitors_Israelipm25 = round(pd.Series(fitted_visitors_Banias_Israelipm25[:,0], index= y_train_Banias_Israelipm25.index, name='predicted_train_Visitors'), ndigits =2)\n",
        "train_df_Banias_Israelipm25 = pd.merge(left=train_df_Banias_Israelipm25, right=predicted_train_visitors_Israelipm25 , left_index=True, right_index=True)\n",
        "\n",
        "#train_df_Banias_Israelipm25.head(10)"
      ],
      "metadata": {
        "id": "-Csl2mwhBeBi"
      },
      "execution_count": 345,
      "outputs": []
    },
    {
      "cell_type": "code",
      "source": [
        "fitted_scaled_visitors_Banias_Israelipm25 = lm.predict(X_test_scaled_Banias_Israelipm25)\n",
        "fitted_visitors_Banias_Israelipm25 = y_test_scaler_Banias_Israelipm25.inverse_transform(fitted_scaled_visitors_Banias_Israelipm25)\n",
        "predicted_test_visitors_Israelipm25 = round(pd.Series(fitted_visitors_Banias_Israelipm25[:,0], index= y_test_Banias_Israelipm25.index, name='predicted_test_Visitors'), ndigits =2)\n",
        "test_df_Banias_Israelipm25 = pd.merge(left=test_df_Banias_Israelipm25, right=predicted_test_visitors_Israelipm25 , left_index=True, right_index=True)\n",
        "\n",
        "#test_df_Banias_Israelipm25.head(10)"
      ],
      "metadata": {
        "id": "HDmFOK4QBd_f"
      },
      "execution_count": 346,
      "outputs": []
    },
    {
      "cell_type": "code",
      "source": [
        "from sklearn import metrics\n",
        "print(\"std of the objective function: 716.24\")\n",
        "print(\"\")\n",
        "print(\"------ TRAIN DATA ------\")\n",
        "print(\"RMSE:\",np.sqrt(metrics.mean_squared_error(train_df_Banias_Israelipm25.Israeli_Visitors, train_df_Banias_Israelipm25.predicted_train_Visitors)))\n",
        "print(\"\")\n",
        "print(\"------ TEST DATA ------\")\n",
        "print(\"RMSE:\",np.sqrt(metrics.mean_squared_error(test_df_Banias_Israelipm25.Israeli_Visitors, test_df_Banias_Israelipm25.predicted_test_Visitors)))"
      ],
      "metadata": {
        "id": "nz30bih8Bd9I",
        "colab": {
          "base_uri": "https://localhost:8080/"
        },
        "outputId": "90e87767-9f58-4a8b-b382-a6f63d7c6b8d"
      },
      "execution_count": 347,
      "outputs": [
        {
          "output_type": "stream",
          "name": "stdout",
          "text": [
            "std of the objective function: 716.24\n",
            "\n",
            "------ TRAIN DATA ------\n",
            "RMSE: 625.3067938213916\n",
            "\n",
            "------ TEST DATA ------\n",
            "RMSE: 586.6467942628408\n"
          ]
        }
      ]
    },
    {
      "cell_type": "code",
      "source": [
        "from sklearn.metrics import r2_score\n",
        "r2_score(train_df_Banias_Israelipm25.Israeli_Visitors, train_df_Banias_Israelipm25.predicted_train_Visitors)"
      ],
      "metadata": {
        "colab": {
          "base_uri": "https://localhost:8080/"
        },
        "id": "nwNQuMsMSMQc",
        "outputId": "32bcf180-9ead-4270-ad3e-c6a3fd52ab88"
      },
      "execution_count": 348,
      "outputs": [
        {
          "output_type": "execute_result",
          "data": {
            "text/plain": [
              "0.27327321694055096"
            ]
          },
          "metadata": {},
          "execution_count": 348
        }
      ]
    },
    {
      "cell_type": "code",
      "source": [
        "#get R2 for test set\n",
        "r2_score(test_df_Banias_Israelipm25.Israeli_Visitors, test_df_Banias_Israelipm25.predicted_test_Visitors)"
      ],
      "metadata": {
        "colab": {
          "base_uri": "https://localhost:8080/"
        },
        "id": "l0f-jK8PSNix",
        "outputId": "e3090496-f73a-4762-c7ed-4f1889fffa75"
      },
      "execution_count": 349,
      "outputs": [
        {
          "output_type": "execute_result",
          "data": {
            "text/plain": [
              "0.23990121562119004"
            ]
          },
          "metadata": {},
          "execution_count": 349
        }
      ]
    },
    {
      "cell_type": "markdown",
      "source": [
        "**Banias Israeli no2**"
      ],
      "metadata": {
        "id": "2ywCDQsI27gs"
      }
    },
    {
      "cell_type": "code",
      "source": [
        "BaniasIsraelino2_df.std()"
      ],
      "metadata": {
        "colab": {
          "base_uri": "https://localhost:8080/"
        },
        "id": "OBjIHwUmfVYC",
        "outputId": "a4b155cc-42a4-4fc3-bf78-020e3aad5b15"
      },
      "execution_count": 350,
      "outputs": [
        {
          "output_type": "execute_result",
          "data": {
            "text/plain": [
              "Israeli_Visitors        640.995090\n",
              "Temp_C                    7.400320\n",
              "no2                       5.064207\n",
              "Is_Weekend                0.450025\n",
              "Is_Jewish_Holiday         0.301510\n",
              "Is_Muslem_Holiday         0.185672\n",
              "Is_Christian_Holiday      0.130627\n",
              "Is_water_area             0.000000\n",
              "Is_Reserve                0.000000\n",
              "Is_Christian_Site         0.000000\n",
              "Duration_Of_Visit         0.000000\n",
              "Winter                    0.415420\n",
              "Spring                    0.442801\n",
              "Summer                    0.448019\n",
              "dtype: float64"
            ]
          },
          "metadata": {},
          "execution_count": 350
        }
      ]
    },
    {
      "cell_type": "code",
      "source": [
        "from sklearn.model_selection import train_test_split\n",
        "y_Banias_Israelino2 = BaniasIsraelino2_df.Israeli_Visitors\n",
        "X_Banias_Israelino2 = BaniasIsraelino2_df[correlated_BaniasIsraelino2_df]\n",
        "\n",
        "X_train_Banias_Israelino2, X_test_Banias_Israelino2, y_train_Banias_Israelino2, y_test_Banias_Israelino2 = train_test_split(X_Banias_Israelino2, y_Banias_Israelino2, test_size=0.3, random_state=1234)\n",
        "train_df_Banias_Israelino2 = pd.merge(left=X_train_Banias_Israelino2, right=y_train_Banias_Israelino2, left_index=True, right_index=True)\n",
        "test_df_Banias_Israelino2 = pd.merge(left=X_test_Banias_Israelino2, right=y_test_Banias_Israelino2, left_index=True, right_index=True)\n",
        "#test_df_Banias_Israelino2.head(10)"
      ],
      "metadata": {
        "id": "Li5RmOV82-Se"
      },
      "execution_count": 351,
      "outputs": []
    },
    {
      "cell_type": "code",
      "source": [
        "from sklearn.preprocessing import StandardScaler\n",
        "\n",
        "x_train_scaler_Banias_Israelino2 = StandardScaler()\n",
        "x_test_scaler_Banias_Israelino2 = StandardScaler()\n",
        "y_train_scaler_Banias_Israelino2 = StandardScaler()\n",
        "y_test_scaler_Banias_Israelino2 = StandardScaler()\n",
        "\n",
        "X_train_scaled_Banias_Israelino2 = x_train_scaler_Banias_Israelino2.fit_transform(X_train_Banias_Israelino2)\n",
        "X_test_scaled_Banias_Israelino2 = x_test_scaler_Banias_Israelino2.fit_transform(X_test_Banias_Israelino2)\n",
        "y_train_scaled_Banias_Israelino2 = y_train_scaler_Banias_Israelino2.fit_transform(pd.DataFrame(y_train_Banias_Israelino2))\n",
        "y_test_scaled_Banias_Israelino2 = y_test_scaler_Banias_Israelino2.fit_transform(pd.DataFrame(y_test_Banias_Israelino2))"
      ],
      "metadata": {
        "id": "rDr_Q6O62-MR"
      },
      "execution_count": 352,
      "outputs": []
    },
    {
      "cell_type": "code",
      "source": [
        "from sklearn.linear_model import LinearRegression\n",
        "lm = LinearRegression()\n",
        "lm.fit(X_train_scaled_Banias_Israelino2,y_train_scaled_Banias_Israelino2)\n",
        "\n",
        "coeff = lm.coef_[0]\n",
        "intercept = lm.intercept_[0]\n",
        "print('Coefficients: \\n', \"coeff =\", coeff , \",  Intercept=\",intercept,\"\\n\" )\n",
        "print(\"The regression equation is:\" ,\"Israeli Visitors = \" ,intercept,\" + \",coeff[0],\" * \",correlated_BaniasIsraelino2_df[0],\n",
        "      \" + \",coeff[1],\" * \",correlated_BaniasIsraelino2_df[1],\" + \",coeff[2],\" * \",correlated_BaniasIsraelino2_df[2],\" + \",coeff[3],\" * \",correlated_BaniasIsraelino2_df[3],\" + \",coeff[4],\" * \",correlated_BaniasIsraelino2_df[4],\" + \",coeff[5],\" * \",correlated_BaniasIsraelino2_df[5],\" + \",coeff[6],\" * \",correlated_BaniasIsraelino2_df[6],\" + \",coeff[7],\" * \",correlated_BaniasIsraelino2_df[7],\" + \",coeff[8],\" * \",correlated_BaniasIsraelino2_df[8],\" + \",coeff[9],\" * \",correlated_BaniasIsraelino2_df[9],\" + \",coeff[10],\" * \",correlated_BaniasIsraelino2_df[10],\" + \",coeff[11],\" * \",correlated_BaniasIsraelino2_df[11],\" + \",coeff[12],\" * \",correlated_BaniasIsraelino2_df[12])"
      ],
      "metadata": {
        "id": "MVF3-4Ia2-GP",
        "colab": {
          "base_uri": "https://localhost:8080/"
        },
        "outputId": "1c9db898-8b34-4b3b-a638-be35ff98577b"
      },
      "execution_count": 353,
      "outputs": [
        {
          "output_type": "stream",
          "name": "stdout",
          "text": [
            "Coefficients: \n",
            " coeff = [ 3.60552061e-02  7.51637897e-03  1.37710602e-01  1.41575512e-01\n",
            "  8.53917121e-02  4.55827209e-02  0.00000000e+00  0.00000000e+00\n",
            " -1.38777878e-17  0.00000000e+00  4.94242387e-04  4.55390821e-01\n",
            "  6.28706467e-02] ,  Intercept= 7.004593199934933e-18 \n",
            "\n",
            "The regression equation is: Israeli Visitors =  7.004593199934933e-18  +  0.0360552061172725  *  Temp_C  +  0.007516378968329188  *  no2  +  0.1377106022344623  *  Is_Weekend  +  0.14157551168584578  *  Is_Jewish_Holiday  +  0.08539171205022768  *  Is_Muslem_Holiday  +  0.04558272092329096  *  Is_Christian_Holiday  +  0.0  *  Is_water_area  +  0.0  *  Is_Reserve  +  -1.3877787807814457e-17  *  Is_Christian_Site  +  0.0  *  Duration_Of_Visit  +  0.0004942423874447072  *  Winter  +  0.4553908208512864  *  Spring  +  0.0628706467259667  *  Summer\n"
          ]
        }
      ]
    },
    {
      "cell_type": "code",
      "source": [
        "fitted_scaled_visitors_Banias_Israelino2 = lm.predict(X_train_scaled_Banias_Israelino2)\n",
        "fitted_visitors_Banias_Israelino2 = y_train_scaler_Banias_Israelino2.inverse_transform(fitted_scaled_visitors_Banias_Israelino2)\n",
        "predicted_train_visitors_Israelino2 = round(pd.Series(fitted_visitors_Banias_Israelino2[:,0], index= y_train_Banias_Israelino2.index, name='predicted_train_Visitors'), ndigits =2)\n",
        "train_df_Banias_Israelino2 = pd.merge(left=train_df_Banias_Israelino2, right=predicted_train_visitors_Israelino2 , left_index=True, right_index=True)\n",
        "\n",
        "#train_df_Banias_Israelino2.head(10)"
      ],
      "metadata": {
        "id": "kJWedeDj2-A0"
      },
      "execution_count": 354,
      "outputs": []
    },
    {
      "cell_type": "code",
      "source": [
        "fitted_scaled_visitors_Banias_Israelino2 = lm.predict(X_test_scaled_Banias_Israelino2)\n",
        "fitted_visitors_Banias_Israelino2 = y_test_scaler_Banias_Israelino2.inverse_transform(fitted_scaled_visitors_Banias_Israelino2)\n",
        "predicted_test_visitors_Israelino2 = round(pd.Series(fitted_visitors_Banias_Israelino2[:,0], index= y_test_Banias_Israelino2.index, name='predicted_test_Visitors'), ndigits =2)\n",
        "test_df_Banias_Israelino2 = pd.merge(left=test_df_Banias_Israelino2, right=predicted_test_visitors_Israelino2 , left_index=True, right_index=True)\n",
        "\n",
        "#test_df_Banias_Israelino2.head(10)"
      ],
      "metadata": {
        "id": "LmByzROg298D"
      },
      "execution_count": 355,
      "outputs": []
    },
    {
      "cell_type": "code",
      "source": [
        "from sklearn import metrics\n",
        "print(\"std of the objective function: 640.99\")\n",
        "print(\"\")\n",
        "print(\"------ TRAIN DATA ------\")\n",
        "print(\"RMSE:\",np.sqrt(metrics.mean_squared_error(train_df_Banias_Israelino2.Israeli_Visitors, train_df_Banias_Israelino2.predicted_train_Visitors)))\n",
        "print(\"\")\n",
        "print(\"------ TEST DATA ------\")\n",
        "print(\"RMSE:\",np.sqrt(metrics.mean_squared_error(test_df_Banias_Israelino2.Israeli_Visitors, test_df_Banias_Israelino2.predicted_test_Visitors)))"
      ],
      "metadata": {
        "id": "yHaWPJjf293B",
        "colab": {
          "base_uri": "https://localhost:8080/"
        },
        "outputId": "67076b78-8e53-43bd-cb6b-0ba5211bea52"
      },
      "execution_count": 356,
      "outputs": [
        {
          "output_type": "stream",
          "name": "stdout",
          "text": [
            "std of the objective function: 640.99\n",
            "\n",
            "------ TRAIN DATA ------\n",
            "RMSE: 552.153852151265\n",
            "\n",
            "------ TEST DATA ------\n",
            "RMSE: 590.7640029901208\n"
          ]
        }
      ]
    },
    {
      "cell_type": "code",
      "source": [
        "from sklearn.metrics import r2_score\n",
        "r2_score(train_df_Banias_Israelino2.Israeli_Visitors, train_df_Banias_Israelino2.predicted_train_Visitors)"
      ],
      "metadata": {
        "colab": {
          "base_uri": "https://localhost:8080/"
        },
        "id": "s_jDABWoSmdJ",
        "outputId": "bf0a7c71-bd06-467b-fde6-2330bf337ae7"
      },
      "execution_count": 357,
      "outputs": [
        {
          "output_type": "execute_result",
          "data": {
            "text/plain": [
              "0.24741225588528504"
            ]
          },
          "metadata": {},
          "execution_count": 357
        }
      ]
    },
    {
      "cell_type": "code",
      "source": [
        "#get R2 for test set\n",
        "r2_score(test_df_Banias_Israelino2.Israeli_Visitors, test_df_Banias_Israelino2.predicted_test_Visitors)"
      ],
      "metadata": {
        "colab": {
          "base_uri": "https://localhost:8080/"
        },
        "id": "JsKZbU_7SoKG",
        "outputId": "74ceb405-6d47-47c8-c305-1a8788b6d647"
      },
      "execution_count": 358,
      "outputs": [
        {
          "output_type": "execute_result",
          "data": {
            "text/plain": [
              "0.17464349031456805"
            ]
          },
          "metadata": {},
          "execution_count": 358
        }
      ]
    },
    {
      "cell_type": "markdown",
      "source": [
        "**Banias Tourist pm25**"
      ],
      "metadata": {
        "id": "jyXgB_2T8vw8"
      }
    },
    {
      "cell_type": "code",
      "source": [
        "BaniasTouristpm25_df.std()"
      ],
      "metadata": {
        "colab": {
          "base_uri": "https://localhost:8080/"
        },
        "id": "RCB2Sa_nfewN",
        "outputId": "7d9339e5-90e2-448d-f749-2172f32c4238"
      },
      "execution_count": 359,
      "outputs": [
        {
          "output_type": "execute_result",
          "data": {
            "text/plain": [
              "Tourist_Visitors        476.404374\n",
              "Temp_C                    7.309618\n",
              "pm25                     24.723764\n",
              "Is_Weekend                0.447182\n",
              "Is_Jewish_Holiday         0.320140\n",
              "Is_Muslem_Holiday         0.184358\n",
              "Is_Christian_Holiday      0.125125\n",
              "Is_water_area             0.000000\n",
              "Is_Reserve                0.000000\n",
              "Is_Christian_Site         0.000000\n",
              "Duration_Of_Visit         0.000000\n",
              "Winter                    0.404258\n",
              "Spring                    0.462236\n",
              "Summer                    0.446610\n",
              "dtype: float64"
            ]
          },
          "metadata": {},
          "execution_count": 359
        }
      ]
    },
    {
      "cell_type": "code",
      "source": [
        "from sklearn.model_selection import train_test_split\n",
        "y_Banias_Touristpm25 = BaniasTouristpm25_df.Tourist_Visitors\n",
        "X_Banias_Touristpm25 = BaniasTouristpm25_df[correlated_BaniasTouristpm25_df]\n",
        "\n",
        "X_train_Banias_Touristpm25, X_test_Banias_Touristpm25, y_train_Banias_Touristpm25, y_test_Banias_Touristpm25 = train_test_split(X_Banias_Touristpm25, y_Banias_Touristpm25, test_size=0.3, random_state=1234)\n",
        "train_df_Banias_Touristpm25 = pd.merge(left=X_train_Banias_Touristpm25, right=y_train_Banias_Touristpm25, left_index=True, right_index=True)\n",
        "test_df_Banias_Touristpm25 = pd.merge(left=X_test_Banias_Touristpm25, right=y_test_Banias_Touristpm25, left_index=True, right_index=True)\n",
        "#test_df_Banias_Touristpm25.head(10)"
      ],
      "metadata": {
        "id": "0bHvrIDc83T2"
      },
      "execution_count": 360,
      "outputs": []
    },
    {
      "cell_type": "code",
      "source": [
        "from sklearn.preprocessing import StandardScaler\n",
        "\n",
        "x_train_scaler_Banias_Touristpm25 = StandardScaler()\n",
        "x_test_scaler_Banias_Touristpm25 = StandardScaler()\n",
        "y_train_scaler_Banias_Touristpm25 = StandardScaler()\n",
        "y_test_scaler_Banias_Touristpm25 = StandardScaler()\n",
        "\n",
        "X_train_scaled_Banias_Touristpm25 = x_train_scaler_Banias_Touristpm25.fit_transform(X_train_Banias_Touristpm25)\n",
        "X_test_scaled_Banias_Touristpm25 = x_test_scaler_Banias_Touristpm25.fit_transform(X_test_Banias_Touristpm25)\n",
        "y_train_scaled_Banias_Touristpm25 = y_train_scaler_Banias_Touristpm25.fit_transform(pd.DataFrame(y_train_Banias_Touristpm25))\n",
        "y_test_scaled_Banias_Touristpm25 = y_test_scaler_Banias_Touristpm25.fit_transform(pd.DataFrame(y_test_Banias_Touristpm25))"
      ],
      "metadata": {
        "id": "6DApr_hb83Ki"
      },
      "execution_count": 361,
      "outputs": []
    },
    {
      "cell_type": "code",
      "source": [
        "from sklearn.linear_model import LinearRegression\n",
        "lm = LinearRegression()\n",
        "lm.fit(X_train_scaled_Banias_Touristpm25,y_train_scaled_Banias_Touristpm25)\n",
        "\n",
        "coeff = lm.coef_[0]\n",
        "intercept = lm.intercept_[0]\n",
        "print('Coefficients: \\n', \"coeff =\", coeff , \",  Intercept=\",intercept,\"\\n\" )\n",
        "print(\"The regression equation is:\" ,\"Tourist Visitors = \" ,intercept,\" + \",coeff[0],\" * \",correlated_BaniasTouristpm25_df[0],\n",
        "      \" + \",coeff[1],\" * \",correlated_BaniasTouristpm25_df[1],\" + \",coeff[2],\" * \",correlated_BaniasTouristpm25_df[2],\" + \",coeff[3],\" * \",correlated_BaniasTouristpm25_df[3],\" + \",coeff[4],\" * \",correlated_BaniasTouristpm25_df[4],\" + \",coeff[5],\" * \",correlated_BaniasTouristpm25_df[5],\" + \",coeff[6],\" * \",correlated_BaniasTouristpm25_df[6],\" + \",coeff[7],\" * \",correlated_BaniasTouristpm25_df[7],\" + \",coeff[8],\" * \",correlated_BaniasTouristpm25_df[8],\" + \",coeff[9],\" * \",correlated_BaniasTouristpm25_df[9],\" + \",coeff[10],\" * \",correlated_BaniasTouristpm25_df[10],\" + \",coeff[11],\" * \",correlated_BaniasTouristpm25_df[11],\" + \",coeff[12],\" * \",correlated_BaniasTouristpm25_df[12])"
      ],
      "metadata": {
        "id": "R0QsIapG83Da",
        "colab": {
          "base_uri": "https://localhost:8080/"
        },
        "outputId": "4ff95f84-b9c6-46da-d00c-bfd7c199580b"
      },
      "execution_count": 362,
      "outputs": [
        {
          "output_type": "stream",
          "name": "stdout",
          "text": [
            "Coefficients: \n",
            " coeff = [-1.29217552e-01  4.00771556e-03 -4.44428898e-02 -2.14920478e-01\n",
            " -2.91479927e-02 -1.22186810e-01 -2.77555756e-17 -2.77555756e-17\n",
            "  4.16333634e-17  0.00000000e+00 -2.41760217e-01  1.77246902e-01\n",
            " -2.66985063e-01] ,  Intercept= -2.073814139114585e-16 \n",
            "\n",
            "The regression equation is: Tourist Visitors =  -2.073814139114585e-16  +  -0.129217551743191  *  Temp_C  +  0.004007715555206527  *  pm25  +  -0.04444288979802495  *  Is_Weekend  +  -0.2149204775674209  *  Is_Jewish_Holiday  +  -0.029147992693401768  *  Is_Muslem_Holiday  +  -0.12218680983525962  *  Is_Christian_Holiday  +  -2.7755575615628914e-17  *  Is_water_area  +  -2.7755575615628914e-17  *  Is_Reserve  +  4.163336342344337e-17  *  Is_Christian_Site  +  0.0  *  Duration_Of_Visit  +  -0.24176021718802515  *  Winter  +  0.1772469017039482  *  Spring  +  -0.2669850633708432  *  Summer\n"
          ]
        }
      ]
    },
    {
      "cell_type": "code",
      "source": [
        "fitted_scaled_visitors_Banias_Touristpm25 = lm.predict(X_train_scaled_Banias_Touristpm25)\n",
        "fitted_visitors_Banias_Touristpm25 = y_train_scaler_Banias_Touristpm25.inverse_transform(fitted_scaled_visitors_Banias_Touristpm25)\n",
        "predicted_train_visitors_Touristpm25 = round(pd.Series(fitted_visitors_Banias_Touristpm25[:,0], index= y_train_Banias_Touristpm25.index, name='predicted_train_Visitors'), ndigits =2)\n",
        "train_df_Banias_Touristpm25 = pd.merge(left=train_df_Banias_Touristpm25, right=predicted_train_visitors_Touristpm25 , left_index=True, right_index=True)\n",
        "\n",
        "#train_df_Banias_Touristpm25.head(10)"
      ],
      "metadata": {
        "id": "PtlgkLBx828t"
      },
      "execution_count": 363,
      "outputs": []
    },
    {
      "cell_type": "code",
      "source": [
        "fitted_scaled_visitors_Banias_Touristpm25 = lm.predict(X_test_scaled_Banias_Touristpm25)\n",
        "fitted_visitors_Banias_Touristpm25 = y_test_scaler_Banias_Touristpm25.inverse_transform(fitted_scaled_visitors_Banias_Touristpm25)\n",
        "predicted_test_visitors_Touristpm25 = round(pd.Series(fitted_visitors_Banias_Touristpm25[:,0], index= y_test_Banias_Touristpm25.index, name='predicted_test_Visitors'), ndigits =2)\n",
        "test_df_Banias_Touristpm25 = pd.merge(left=test_df_Banias_Touristpm25, right=predicted_test_visitors_Touristpm25 , left_index=True, right_index=True)\n",
        "\n",
        "#test_df_Banias_Touristpm25.head(10)"
      ],
      "metadata": {
        "id": "oSSS7Kz0821M"
      },
      "execution_count": 364,
      "outputs": []
    },
    {
      "cell_type": "code",
      "source": [
        "from sklearn import metrics\n",
        "print(\"std of the objective function: 476.4\")\n",
        "print(\"\")\n",
        "print(\"------ TRAIN DATA ------\")\n",
        "print(\"RMSE:\",np.sqrt(metrics.mean_squared_error(train_df_Banias_Touristpm25.Tourist_Visitors, train_df_Banias_Touristpm25.predicted_train_Visitors)))\n",
        "print(\"\")\n",
        "print(\"------ TEST DATA ------\")\n",
        "print(\"RMSE:\",np.sqrt(metrics.mean_squared_error(test_df_Banias_Touristpm25.Tourist_Visitors, test_df_Banias_Touristpm25.predicted_test_Visitors)))"
      ],
      "metadata": {
        "id": "Vmcmarws82tD",
        "colab": {
          "base_uri": "https://localhost:8080/"
        },
        "outputId": "c6d707e3-7a8b-4087-ecd4-76815a5883a7"
      },
      "execution_count": 365,
      "outputs": [
        {
          "output_type": "stream",
          "name": "stdout",
          "text": [
            "std of the objective function: 476.4\n",
            "\n",
            "------ TRAIN DATA ------\n",
            "RMSE: 413.28553591210505\n",
            "\n",
            "------ TEST DATA ------\n",
            "RMSE: 416.5723656130503\n"
          ]
        }
      ]
    },
    {
      "cell_type": "code",
      "source": [
        "from sklearn.metrics import r2_score\n",
        "r2_score(train_df_Banias_Touristpm25.Tourist_Visitors, train_df_Banias_Touristpm25.predicted_train_Visitors)"
      ],
      "metadata": {
        "colab": {
          "base_uri": "https://localhost:8080/"
        },
        "id": "ywHWGMHaT4ob",
        "outputId": "86438404-4c8e-4017-b7ce-82f337d775e3"
      },
      "execution_count": 366,
      "outputs": [
        {
          "output_type": "execute_result",
          "data": {
            "text/plain": [
              "0.24155291752523356"
            ]
          },
          "metadata": {},
          "execution_count": 366
        }
      ]
    },
    {
      "cell_type": "code",
      "source": [
        "#get R2 for test set\n",
        "r2_score(test_df_Banias_Touristpm25.Tourist_Visitors, test_df_Banias_Touristpm25.predicted_test_Visitors)"
      ],
      "metadata": {
        "colab": {
          "base_uri": "https://localhost:8080/"
        },
        "id": "SKuLM68qT6Sf",
        "outputId": "1dfe2a0a-57fe-4a20-9ce8-306d37992646"
      },
      "execution_count": 367,
      "outputs": [
        {
          "output_type": "execute_result",
          "data": {
            "text/plain": [
              "0.24440279322410952"
            ]
          },
          "metadata": {},
          "execution_count": 367
        }
      ]
    },
    {
      "cell_type": "markdown",
      "source": [
        "**Banias Tourist no2**"
      ],
      "metadata": {
        "id": "q46ovcbuNaR0"
      }
    },
    {
      "cell_type": "code",
      "source": [
        "BaniasTouristno2_df.std()"
      ],
      "metadata": {
        "colab": {
          "base_uri": "https://localhost:8080/"
        },
        "id": "IFmuz6XlgJGS",
        "outputId": "00293bd1-c858-438f-b5d3-7a130edf1788"
      },
      "execution_count": 368,
      "outputs": [
        {
          "output_type": "execute_result",
          "data": {
            "text/plain": [
              "Tourist_Visitors        480.603638\n",
              "Temp_C                    7.400320\n",
              "no2                       5.064207\n",
              "Is_Weekend                0.450025\n",
              "Is_Jewish_Holiday         0.301510\n",
              "Is_Muslem_Holiday         0.185672\n",
              "Is_Christian_Holiday      0.130627\n",
              "Is_water_area             0.000000\n",
              "Is_Reserve                0.000000\n",
              "Is_Christian_Site         0.000000\n",
              "Duration_Of_Visit         0.000000\n",
              "Winter                    0.415420\n",
              "Spring                    0.442801\n",
              "Summer                    0.448019\n",
              "dtype: float64"
            ]
          },
          "metadata": {},
          "execution_count": 368
        }
      ]
    },
    {
      "cell_type": "code",
      "source": [
        "from sklearn.model_selection import train_test_split\n",
        "y_Banias_Touristno2 = BaniasTouristno2_df.Tourist_Visitors\n",
        "X_Banias_Touristno2 = BaniasTouristno2_df[correlated_BaniasTouristno2_df]\n",
        "\n",
        "X_train_Banias_Touristno2, X_test_Banias_Touristno2, y_train_Banias_Touristno2, y_test_Banias_Touristno2 = train_test_split(X_Banias_Touristno2, y_Banias_Touristno2, test_size=0.3, random_state=1234)\n",
        "train_df_Banias_Touristno2 = pd.merge(left=X_train_Banias_Touristno2, right=y_train_Banias_Touristno2, left_index=True, right_index=True)\n",
        "test_df_Banias_Touristno2 = pd.merge(left=X_test_Banias_Touristno2, right=y_test_Banias_Touristno2, left_index=True, right_index=True)\n",
        "#test_df_Banias_Touristno2.head(10)"
      ],
      "metadata": {
        "id": "afmmVhLiNbZh"
      },
      "execution_count": 369,
      "outputs": []
    },
    {
      "cell_type": "code",
      "source": [
        "from sklearn.preprocessing import StandardScaler\n",
        "\n",
        "x_train_scaler_Banias_Touristno2 = StandardScaler()\n",
        "x_test_scaler_Banias_Touristno2 = StandardScaler()\n",
        "y_train_scaler_Banias_Touristno2 = StandardScaler()\n",
        "y_test_scaler_Banias_Touristno2 = StandardScaler()\n",
        "\n",
        "X_train_scaled_Banias_Touristno2 = x_train_scaler_Banias_Touristno2.fit_transform(X_train_Banias_Touristno2)\n",
        "X_test_scaled_Banias_Touristno2 = x_test_scaler_Banias_Touristno2.fit_transform(X_test_Banias_Touristno2)\n",
        "y_train_scaled_Banias_Touristno2 = y_train_scaler_Banias_Touristno2.fit_transform(pd.DataFrame(y_train_Banias_Touristno2))\n",
        "y_test_scaled_Banias_Touristno2 = y_test_scaler_Banias_Touristno2.fit_transform(pd.DataFrame(y_test_Banias_Touristno2))"
      ],
      "metadata": {
        "id": "WRQBkW7fNcHS"
      },
      "execution_count": 370,
      "outputs": []
    },
    {
      "cell_type": "code",
      "source": [
        "from sklearn.linear_model import LinearRegression\n",
        "lm = LinearRegression()\n",
        "lm.fit(X_train_scaled_Banias_Touristno2,y_train_scaled_Banias_Touristno2)\n",
        "\n",
        "coeff = lm.coef_[0]\n",
        "intercept = lm.intercept_[0]\n",
        "print('Coefficients: \\n', \"coeff =\", coeff , \",  Intercept=\",intercept,\"\\n\" )\n",
        "print(\"The regression equation is:\" ,\"Tourist Visitors = \" ,intercept,\" + \",coeff[0],\" * \",correlated_BaniasTouristno2_df[0],\n",
        "      \" + \",coeff[1],\" * \",correlated_BaniasTouristno2_df[1],\" + \",coeff[2],\" * \",correlated_BaniasTouristno2_df[2],\" + \",coeff[3],\" * \",correlated_BaniasTouristno2_df[3],\" + \",coeff[4],\" * \",correlated_BaniasTouristno2_df[4],\" + \",coeff[5],\" * \",correlated_BaniasTouristno2_df[5],\" + \",coeff[6],\" * \",correlated_BaniasTouristno2_df[6],\" + \",coeff[7],\" * \",correlated_BaniasTouristno2_df[7],\" + \",coeff[8],\" * \",correlated_BaniasTouristno2_df[8],\" + \",coeff[9],\" * \",correlated_BaniasTouristno2_df[9],\" + \",coeff[10],\" * \",correlated_BaniasTouristno2_df[10],\" + \",coeff[11],\" * \",correlated_BaniasTouristno2_df[11],\" + \",coeff[12],\" * \",correlated_BaniasTouristno2_df[12])"
      ],
      "metadata": {
        "id": "8VWFWSSONb_C",
        "colab": {
          "base_uri": "https://localhost:8080/"
        },
        "outputId": "3ea9a93d-009f-4de2-ff2c-6cce9404feda"
      },
      "execution_count": 371,
      "outputs": [
        {
          "output_type": "stream",
          "name": "stdout",
          "text": [
            "Coefficients: \n",
            " coeff = [-1.41058816e-01  5.68159026e-03 -5.23663766e-02 -2.18754115e-01\n",
            " -2.56606430e-02 -7.77669362e-02  0.00000000e+00 -1.38777878e-17\n",
            "  5.55111512e-17  0.00000000e+00 -3.67818233e-01  1.01830945e-01\n",
            " -3.70664394e-01] ,  Intercept= -3.0793132290898014e-17 \n",
            "\n",
            "The regression equation is: Tourist Visitors =  -3.0793132290898014e-17  +  -0.14105881590959107  *  Temp_C  +  0.005681590257457604  *  no2  +  -0.05236637660989467  *  Is_Weekend  +  -0.2187541154026806  *  Is_Jewish_Holiday  +  -0.02566064301143113  *  Is_Muslem_Holiday  +  -0.07776693622598654  *  Is_Christian_Holiday  +  0.0  *  Is_water_area  +  -1.3877787807814457e-17  *  Is_Reserve  +  5.551115123125783e-17  *  Is_Christian_Site  +  0.0  *  Duration_Of_Visit  +  -0.36781823305580436  *  Winter  +  0.1018309453885394  *  Spring  +  -0.3706643940580203  *  Summer\n"
          ]
        }
      ]
    },
    {
      "cell_type": "code",
      "source": [
        "fitted_scaled_visitors_Banias_Touristno2 = lm.predict(X_train_scaled_Banias_Touristno2)\n",
        "fitted_visitors_Banias_Touristno2 = y_train_scaler_Banias_Touristno2.inverse_transform(fitted_scaled_visitors_Banias_Touristno2)\n",
        "predicted_train_visitors_Touristno2 = round(pd.Series(fitted_visitors_Banias_Touristno2[:,0], index= y_train_Banias_Touristno2.index, name='predicted_train_Visitors'), ndigits =2)\n",
        "train_df_Banias_Touristno2 = pd.merge(left=train_df_Banias_Touristno2, right=predicted_train_visitors_Touristno2 , left_index=True, right_index=True)\n",
        "\n",
        "#train_df_Banias_Touristno2.head(10)"
      ],
      "metadata": {
        "id": "IRgAv_5NNb14"
      },
      "execution_count": 372,
      "outputs": []
    },
    {
      "cell_type": "code",
      "source": [
        "fitted_scaled_visitors_Banias_Touristno2 = lm.predict(X_test_scaled_Banias_Touristno2)\n",
        "fitted_visitors_Banias_Touristno2 = y_test_scaler_Banias_Touristno2.inverse_transform(fitted_scaled_visitors_Banias_Touristno2)\n",
        "predicted_test_visitors_Touristno2 = round(pd.Series(fitted_visitors_Banias_Touristno2[:,0], index= y_test_Banias_Touristno2.index, name='predicted_test_Visitors'), ndigits =2)\n",
        "test_df_Banias_Touristno2 = pd.merge(left=test_df_Banias_Touristno2, right=predicted_test_visitors_Touristno2 , left_index=True, right_index=True)\n",
        "\n",
        "#test_df_Banias_Touristno2.head(10)"
      ],
      "metadata": {
        "id": "N_X53AAfNbtT"
      },
      "execution_count": 373,
      "outputs": []
    },
    {
      "cell_type": "code",
      "source": [
        "from sklearn import metrics\n",
        "print(\"std of the objective function: 480.6\")\n",
        "print(\"\")\n",
        "print(\"------ TRAIN DATA ------\")\n",
        "print(\"RMSE:\",np.sqrt(metrics.mean_squared_error(train_df_Banias_Touristno2.Tourist_Visitors, train_df_Banias_Touristno2.predicted_train_Visitors)))\n",
        "print(\"\")\n",
        "print(\"------ TEST DATA ------\")\n",
        "print(\"RMSE:\",np.sqrt(metrics.mean_squared_error(test_df_Banias_Touristno2.Tourist_Visitors, test_df_Banias_Touristno2.predicted_test_Visitors)))"
      ],
      "metadata": {
        "id": "bVh1t3EeNbki",
        "colab": {
          "base_uri": "https://localhost:8080/"
        },
        "outputId": "21f1839c-9815-499e-b298-1d902f642acc"
      },
      "execution_count": 374,
      "outputs": [
        {
          "output_type": "stream",
          "name": "stdout",
          "text": [
            "std of the objective function: 480.6\n",
            "\n",
            "------ TRAIN DATA ------\n",
            "RMSE: 417.88544522692735\n",
            "\n",
            "------ TEST DATA ------\n",
            "RMSE: 394.6544703048892\n"
          ]
        }
      ]
    },
    {
      "cell_type": "code",
      "source": [
        "from sklearn.metrics import r2_score\n",
        "r2_score(train_df_Banias_Touristno2.Tourist_Visitors, train_df_Banias_Touristno2.predicted_train_Visitors)"
      ],
      "metadata": {
        "colab": {
          "base_uri": "https://localhost:8080/"
        },
        "id": "ulmweD9bUJ9R",
        "outputId": "ce64fcb6-26e4-439e-8163-fc74fb39a936"
      },
      "execution_count": 375,
      "outputs": [
        {
          "output_type": "execute_result",
          "data": {
            "text/plain": [
              "0.28271423576802546"
            ]
          },
          "metadata": {},
          "execution_count": 375
        }
      ]
    },
    {
      "cell_type": "code",
      "source": [
        "#get R2 for test set\n",
        "r2_score(test_df_Banias_Touristno2.Tourist_Visitors, test_df_Banias_Touristno2.predicted_test_Visitors)"
      ],
      "metadata": {
        "colab": {
          "base_uri": "https://localhost:8080/"
        },
        "id": "-KerT7npUfju",
        "outputId": "49e19148-40fb-4e13-d0c9-35e38145e7e4"
      },
      "execution_count": 376,
      "outputs": [
        {
          "output_type": "execute_result",
          "data": {
            "text/plain": [
              "0.2252444784427462"
            ]
          },
          "metadata": {},
          "execution_count": 376
        }
      ]
    },
    {
      "cell_type": "markdown",
      "source": [
        "### **Gamla**"
      ],
      "metadata": {
        "id": "0QwNrDRrpsCZ"
      }
    },
    {
      "cell_type": "markdown",
      "source": [
        "**Gamla Israeli pm25**"
      ],
      "metadata": {
        "id": "b4TxwCEypG-S"
      }
    },
    {
      "cell_type": "code",
      "source": [
        "GamlaIsraelipm25_df.std()"
      ],
      "metadata": {
        "colab": {
          "base_uri": "https://localhost:8080/"
        },
        "id": "FyRklpIcgSdM",
        "outputId": "b9010478-249d-4c0f-e039-8a9539ed0f22"
      },
      "execution_count": 377,
      "outputs": [
        {
          "output_type": "execute_result",
          "data": {
            "text/plain": [
              "Israeli_Visitors        210.895199\n",
              "Temp_C                    7.560160\n",
              "pm25                     24.596082\n",
              "Is_Weekend                0.449325\n",
              "Is_Jewish_Holiday         0.320852\n",
              "Is_Muslem_Holiday         0.179789\n",
              "Is_Christian_Holiday      0.126173\n",
              "Is_Reserve                0.000000\n",
              "Is_Jewish_Site            0.000000\n",
              "Duration_Of_Visit         0.000000\n",
              "Winter                    0.415804\n",
              "Spring                    0.454939\n",
              "Summer                    0.439295\n",
              "dtype: float64"
            ]
          },
          "metadata": {},
          "execution_count": 377
        }
      ]
    },
    {
      "cell_type": "code",
      "source": [
        "from sklearn.model_selection import train_test_split\n",
        "y_Gamla_Israelipm25 = GamlaIsraelipm25_df.Israeli_Visitors\n",
        "X_Gamla_Israelipm25 = GamlaIsraelipm25_df[correlated_GamlaIsraelipm25_df]\n",
        "\n",
        "X_train_Gamla_Israelipm25, X_test_Gamla_Israelipm25, y_train_Gamla_Israelipm25, y_test_Gamla_Israelipm25 = train_test_split(X_Gamla_Israelipm25, y_Gamla_Israelipm25, test_size=0.3, random_state=1234)\n",
        "train_df_Gamla_Israelipm25 = pd.merge(left=X_train_Gamla_Israelipm25, right=y_train_Gamla_Israelipm25, left_index=True, right_index=True)\n",
        "test_df_Gamla_Israelipm25 = pd.merge(left=X_test_Gamla_Israelipm25, right=y_test_Gamla_Israelipm25, left_index=True, right_index=True)\n",
        "#test_df_Gamla_Israelipm25.head(10)"
      ],
      "metadata": {
        "id": "QsjXqNlvpUyx"
      },
      "execution_count": 378,
      "outputs": []
    },
    {
      "cell_type": "code",
      "source": [
        "from sklearn.preprocessing import StandardScaler\n",
        "\n",
        "x_train_scaler_Gamla_Israelipm25 = StandardScaler()\n",
        "x_test_scaler_Gamla_Israelipm25 = StandardScaler()\n",
        "y_train_scaler_Gamla_Israelipm25 = StandardScaler()\n",
        "y_test_scaler_Gamla_Israelipm25 = StandardScaler()\n",
        "\n",
        "X_train_scaled_Gamla_Israelipm25 = x_train_scaler_Gamla_Israelipm25.fit_transform(X_train_Gamla_Israelipm25)\n",
        "X_test_scaled_Gamla_Israelipm25 = x_test_scaler_Gamla_Israelipm25.fit_transform(X_test_Gamla_Israelipm25)\n",
        "y_train_scaled_Gamla_Israelipm25 = y_train_scaler_Gamla_Israelipm25.fit_transform(pd.DataFrame(y_train_Gamla_Israelipm25))\n",
        "y_test_scaled_Gamla_Israelipm25 = y_test_scaler_Gamla_Israelipm25.fit_transform(pd.DataFrame(y_test_Gamla_Israelipm25))"
      ],
      "metadata": {
        "id": "Z9wK2qFdpUsY"
      },
      "execution_count": 379,
      "outputs": []
    },
    {
      "cell_type": "code",
      "source": [
        "from sklearn.linear_model import LinearRegression\n",
        "lm = LinearRegression()\n",
        "lm.fit(X_train_scaled_Gamla_Israelipm25,y_train_scaled_Gamla_Israelipm25)\n",
        "\n",
        "coeff = lm.coef_[0]\n",
        "intercept = lm.intercept_[0]\n",
        "print('Coefficients: \\n', \"coeff =\", coeff , \",  Intercept=\",intercept,\"\\n\" )\n",
        "print(\"The regression equation is:\" ,\"Israeli Visitors = \" ,intercept,\" + \",coeff[0],\" * \",correlated_GamlaIsraelipm25_df[0],\n",
        "      \" + \",coeff[1],\" * \",correlated_GamlaIsraelipm25_df[1],\" + \",coeff[2],\" * \",correlated_GamlaIsraelipm25_df[2],\" + \",coeff[3],\" * \",correlated_GamlaIsraelipm25_df[3],\" + \",coeff[4],\" * \",correlated_GamlaIsraelipm25_df[4],\" + \",coeff[5],\" * \",correlated_GamlaIsraelipm25_df[5],\" + \",coeff[6],\" * \",correlated_GamlaIsraelipm25_df[6],\" + \",coeff[7],\" * \",correlated_GamlaIsraelipm25_df[7],\" + \",coeff[8],\" * \",correlated_GamlaIsraelipm25_df[8],\" + \",coeff[9],\" * \",correlated_GamlaIsraelipm25_df[9],\" + \",coeff[10],\" * \",correlated_GamlaIsraelipm25_df[10],\" + \",coeff[11],\" * \",correlated_GamlaIsraelipm25_df[11])"
      ],
      "metadata": {
        "id": "2VN878ZIpS2r",
        "colab": {
          "base_uri": "https://localhost:8080/"
        },
        "outputId": "beebad60-3bb4-4fc7-f8b7-93ffe90316be"
      },
      "execution_count": 380,
      "outputs": [
        {
          "output_type": "stream",
          "name": "stdout",
          "text": [
            "Coefficients: \n",
            " coeff = [-2.76168132e-01  1.08385321e-03  4.68595213e-02  1.68890528e-01\n",
            " -4.91676470e-04  1.05369840e-01 -8.67361738e-19  6.93889390e-18\n",
            "  1.38777878e-17 -1.52479662e-01  2.99914507e-01 -3.91041443e-02] ,  Intercept= 2.209738157935718e-16 \n",
            "\n",
            "The regression equation is: Israeli Visitors =  2.209738157935718e-16  +  -0.2761681319643893  *  Temp_C  +  0.0010838532078093072  *  pm25  +  0.04685952129455123  *  Is_Weekend  +  0.1688905280672471  *  Is_Jewish_Holiday  +  -0.0004916764696808931  *  Is_Muslem_Holiday  +  0.10536984049572122  *  Is_Christian_Holiday  +  -8.673617379884035e-19  *  Is_Reserve  +  6.938893903907228e-18  *  Is_Jewish_Site  +  1.3877787807814457e-17  *  Duration_Of_Visit  +  -0.15247966150727033  *  Winter  +  0.2999145070510516  *  Spring  +  -0.039104144257851796  *  Summer\n"
          ]
        }
      ]
    },
    {
      "cell_type": "code",
      "source": [
        "fitted_scaled_visitors_Gamla_Israelipm25 = lm.predict(X_train_scaled_Gamla_Israelipm25)\n",
        "fitted_visitors_Gamla_Israelipm25 = y_train_scaler_Gamla_Israelipm25.inverse_transform(fitted_scaled_visitors_Gamla_Israelipm25)\n",
        "predicted_train_visitors_Israelipm25 = round(pd.Series(fitted_visitors_Gamla_Israelipm25[:,0], index= y_train_Gamla_Israelipm25.index, name='predicted_train_Visitors'), ndigits =2)\n",
        "train_df_Gamla_Israelipm25 = pd.merge(left=train_df_Gamla_Israelipm25, right=predicted_train_visitors_Israelipm25 , left_index=True, right_index=True)\n",
        "\n",
        "#train_df_Gamla_Israelipm25.head(10)"
      ],
      "metadata": {
        "id": "yG_Vwnd6pSvP"
      },
      "execution_count": 381,
      "outputs": []
    },
    {
      "cell_type": "code",
      "source": [
        "fitted_scaled_visitors_Gamla_Israelipm25 = lm.predict(X_test_scaled_Gamla_Israelipm25)\n",
        "fitted_visitors_Gamla_Israelipm25 = y_test_scaler_Gamla_Israelipm25.inverse_transform(fitted_scaled_visitors_Gamla_Israelipm25)\n",
        "predicted_test_visitors_Israelipm25 = round(pd.Series(fitted_visitors_Gamla_Israelipm25[:,0], index= y_test_Gamla_Israelipm25.index, name='predicted_test_Visitors'), ndigits =2)\n",
        "test_df_Gamla_Israelipm25 = pd.merge(left=test_df_Gamla_Israelipm25, right=predicted_test_visitors_Israelipm25 , left_index=True, right_index=True)\n",
        "\n",
        "#test_df_Gamla_Israelipm25.head(10)"
      ],
      "metadata": {
        "id": "NEZmMxiKpSm4"
      },
      "execution_count": 382,
      "outputs": []
    },
    {
      "cell_type": "code",
      "source": [
        "from sklearn import metrics\n",
        "print(\"std of the objective function: 210.89\")\n",
        "print(\"\")\n",
        "print(\"------ TRAIN DATA ------\")\n",
        "print(\"RMSE:\",np.sqrt(metrics.mean_squared_error(train_df_Gamla_Israelipm25.Israeli_Visitors, train_df_Gamla_Israelipm25.predicted_train_Visitors)))\n",
        "print(\"\")\n",
        "print(\"------ TEST DATA ------\")\n",
        "print(\"RMSE:\",np.sqrt(metrics.mean_squared_error(test_df_Gamla_Israelipm25.Israeli_Visitors, test_df_Gamla_Israelipm25.predicted_test_Visitors)))"
      ],
      "metadata": {
        "id": "cY6COPtdpSXk",
        "colab": {
          "base_uri": "https://localhost:8080/"
        },
        "outputId": "d1e57a37-aeac-43ba-dd70-95df02081be6"
      },
      "execution_count": 383,
      "outputs": [
        {
          "output_type": "stream",
          "name": "stdout",
          "text": [
            "std of the objective function: 210.89\n",
            "\n",
            "------ TRAIN DATA ------\n",
            "RMSE: 177.7115737841987\n",
            "\n",
            "------ TEST DATA ------\n",
            "RMSE: 180.54226120000678\n"
          ]
        }
      ]
    },
    {
      "cell_type": "code",
      "source": [
        "from sklearn.metrics import r2_score\n",
        "r2_score(train_df_Gamla_Israelipm25.Israeli_Visitors, train_df_Gamla_Israelipm25.predicted_train_Visitors)"
      ],
      "metadata": {
        "colab": {
          "base_uri": "https://localhost:8080/"
        },
        "id": "gUaRMJGZU6rh",
        "outputId": "57b7997b-6cab-4c6b-f030-679bac75a7a5"
      },
      "execution_count": 384,
      "outputs": [
        {
          "output_type": "execute_result",
          "data": {
            "text/plain": [
              "0.27126582427844714"
            ]
          },
          "metadata": {},
          "execution_count": 384
        }
      ]
    },
    {
      "cell_type": "code",
      "source": [
        "#get R2 for test set\n",
        "r2_score(test_df_Gamla_Israelipm25.Israeli_Visitors, test_df_Gamla_Israelipm25.predicted_test_Visitors)"
      ],
      "metadata": {
        "colab": {
          "base_uri": "https://localhost:8080/"
        },
        "id": "1JHsGxe_U6j7",
        "outputId": "72397c15-f670-47b5-ca8d-b21eeafc0fbd"
      },
      "execution_count": 385,
      "outputs": [
        {
          "output_type": "execute_result",
          "data": {
            "text/plain": [
              "0.30153061370726875"
            ]
          },
          "metadata": {},
          "execution_count": 385
        }
      ]
    },
    {
      "cell_type": "markdown",
      "source": [
        "**Gamla Israeli no2**"
      ],
      "metadata": {
        "id": "bnHHyl6M2rso"
      }
    },
    {
      "cell_type": "code",
      "source": [
        "GamlaIsraelino2_df.std()"
      ],
      "metadata": {
        "colab": {
          "base_uri": "https://localhost:8080/"
        },
        "id": "TH7S0jZQgceQ",
        "outputId": "d771a99c-8139-443b-b4f1-524be175dce0"
      },
      "execution_count": 386,
      "outputs": [
        {
          "output_type": "execute_result",
          "data": {
            "text/plain": [
              "Israeli_Visitors        196.986104\n",
              "Temp_C                    7.685817\n",
              "no2                       5.026052\n",
              "Is_Weekend                0.451843\n",
              "Is_Jewish_Holiday         0.303273\n",
              "Is_Muslem_Holiday         0.179935\n",
              "Is_Christian_Holiday      0.135533\n",
              "Is_Reserve                0.000000\n",
              "Is_Jewish_Site            0.000000\n",
              "Duration_Of_Visit         0.000000\n",
              "Winter                    0.425578\n",
              "Spring                    0.437133\n",
              "Summer                    0.442987\n",
              "dtype: float64"
            ]
          },
          "metadata": {},
          "execution_count": 386
        }
      ]
    },
    {
      "cell_type": "code",
      "source": [
        "from sklearn.model_selection import train_test_split\n",
        "y_Gamla_Israelino2 = GamlaIsraelino2_df.Israeli_Visitors\n",
        "X_Gamla_Israelino2 = GamlaIsraelino2_df[correlated_GamlaIsraelino2_df]\n",
        "\n",
        "X_train_Gamla_Israelino2, X_test_Gamla_Israelino2, y_train_Gamla_Israelino2, y_test_Gamla_Israelino2 = train_test_split(X_Gamla_Israelino2, y_Gamla_Israelino2, test_size=0.3, random_state=1234)\n",
        "train_df_Gamla_Israelino2 = pd.merge(left=X_train_Gamla_Israelino2, right=y_train_Gamla_Israelino2, left_index=True, right_index=True)\n",
        "test_df_Gamla_Israelino2 = pd.merge(left=X_test_Gamla_Israelino2, right=y_test_Gamla_Israelino2, left_index=True, right_index=True)\n",
        "#test_df_Gamla_Israelino2.head(10)"
      ],
      "metadata": {
        "id": "X8RLjv212ucD"
      },
      "execution_count": 387,
      "outputs": []
    },
    {
      "cell_type": "code",
      "source": [
        "from sklearn.preprocessing import StandardScaler\n",
        "\n",
        "x_train_scaler_Gamla_Israelino2 = StandardScaler()\n",
        "x_test_scaler_Gamla_Israelino2 = StandardScaler()\n",
        "y_train_scaler_Gamla_Israelino2 = StandardScaler()\n",
        "y_test_scaler_Gamla_Israelino2 = StandardScaler()\n",
        "\n",
        "X_train_scaled_Gamla_Israelino2 = x_train_scaler_Gamla_Israelino2.fit_transform(X_train_Gamla_Israelino2)\n",
        "X_test_scaled_Gamla_Israelino2 = x_test_scaler_Gamla_Israelino2.fit_transform(X_test_Gamla_Israelino2)\n",
        "y_train_scaled_Gamla_Israelino2 = y_train_scaler_Gamla_Israelino2.fit_transform(pd.DataFrame(y_train_Gamla_Israelino2))\n",
        "y_test_scaled_Gamla_Israelino2 = y_test_scaler_Gamla_Israelino2.fit_transform(pd.DataFrame(y_test_Gamla_Israelino2))"
      ],
      "metadata": {
        "id": "xAmLY9e32uV2"
      },
      "execution_count": 388,
      "outputs": []
    },
    {
      "cell_type": "code",
      "source": [
        "from sklearn.linear_model import LinearRegression\n",
        "lm = LinearRegression()\n",
        "lm.fit(X_train_scaled_Gamla_Israelino2,y_train_scaled_Gamla_Israelino2)\n",
        "\n",
        "coeff = lm.coef_[0]\n",
        "intercept = lm.intercept_[0]\n",
        "print('Coefficients: \\n', \"coeff =\", coeff , \",  Intercept=\",intercept,\"\\n\" )\n",
        "print(\"The regression equation is:\" ,\"Israeli Visitors = \" ,intercept,\" + \",coeff[0],\" * \",correlated_GamlaIsraelino2_df[0],\n",
        "      \" + \",coeff[1],\" * \",correlated_GamlaIsraelino2_df[1],\" + \",coeff[2],\" * \",correlated_GamlaIsraelino2_df[2],\" + \",coeff[3],\" * \",correlated_GamlaIsraelino2_df[3],\" + \",coeff[4],\" * \",correlated_GamlaIsraelino2_df[4],\" + \",coeff[5],\" * \",correlated_GamlaIsraelino2_df[5],\" + \",coeff[6],\" * \",correlated_GamlaIsraelino2_df[6],\" + \",coeff[7],\" * \",correlated_GamlaIsraelino2_df[7],\" + \",coeff[8],\" * \",correlated_GamlaIsraelino2_df[8],\" + \",coeff[9],\" * \",correlated_GamlaIsraelino2_df[9],\" + \",coeff[10],\" * \",correlated_GamlaIsraelino2_df[10],\" + \",coeff[11],\" * \",correlated_GamlaIsraelino2_df[11])"
      ],
      "metadata": {
        "id": "NSI0WFny2uP0",
        "colab": {
          "base_uri": "https://localhost:8080/"
        },
        "outputId": "ff5663f7-63f5-403d-9813-8e3e82f8ba33"
      },
      "execution_count": 389,
      "outputs": [
        {
          "output_type": "stream",
          "name": "stdout",
          "text": [
            "Coefficients: \n",
            " coeff = [-2.91323641e-01 -1.68709179e-02  5.83828147e-02  1.08609339e-01\n",
            " -6.60747365e-03  5.16977336e-02 -7.80625564e-18 -1.95156391e-18\n",
            "  6.93889390e-18 -1.74271871e-01  3.16395798e-01 -4.83105234e-02] ,  Intercept= -1.3563536062148417e-17 \n",
            "\n",
            "The regression equation is: Israeli Visitors =  -1.3563536062148417e-17  +  -0.2913236414763191  *  Temp_C  +  -0.01687091791104016  *  no2  +  0.05838281469828483  *  Is_Weekend  +  0.10860933905119882  *  Is_Jewish_Holiday  +  -0.006607473653170581  *  Is_Muslem_Holiday  +  0.05169773364033608  *  Is_Christian_Holiday  +  -7.806255641895632e-18  *  Is_Reserve  +  -1.951563910473908e-18  *  Is_Jewish_Site  +  6.938893903907228e-18  *  Duration_Of_Visit  +  -0.17427187091180846  *  Winter  +  0.31639579793506795  *  Spring  +  -0.048310523419508526  *  Summer\n"
          ]
        }
      ]
    },
    {
      "cell_type": "code",
      "source": [
        "fitted_scaled_visitors_Gamla_Israelino2 = lm.predict(X_train_scaled_Gamla_Israelino2)\n",
        "fitted_visitors_Gamla_Israelino2 = y_train_scaler_Gamla_Israelino2.inverse_transform(fitted_scaled_visitors_Gamla_Israelino2)\n",
        "predicted_train_visitors_Israelino2 = round(pd.Series(fitted_visitors_Gamla_Israelino2[:,0], index= y_train_Gamla_Israelino2.index, name='predicted_train_Visitors'), ndigits =2)\n",
        "train_df_Gamla_Israelino2 = pd.merge(left=train_df_Gamla_Israelino2, right=predicted_train_visitors_Israelino2 , left_index=True, right_index=True)\n",
        "\n",
        "#train_df_Gamla_Israelino2.head(10)"
      ],
      "metadata": {
        "id": "4aWghmOu2uJ_"
      },
      "execution_count": 390,
      "outputs": []
    },
    {
      "cell_type": "code",
      "source": [
        "fitted_scaled_visitors_Gamla_Israelino2 = lm.predict(X_test_scaled_Gamla_Israelino2)\n",
        "fitted_visitors_Gamla_Israelino2 = y_test_scaler_Gamla_Israelino2.inverse_transform(fitted_scaled_visitors_Gamla_Israelino2)\n",
        "predicted_test_visitors_Israelino2 = round(pd.Series(fitted_visitors_Gamla_Israelino2[:,0], index= y_test_Gamla_Israelino2.index, name='predicted_test_Visitors'), ndigits =2)\n",
        "test_df_Gamla_Israelino2 = pd.merge(left=test_df_Gamla_Israelino2, right=predicted_test_visitors_Israelino2 , left_index=True, right_index=True)\n",
        "\n",
        "#test_df_Gamla_Israelino2.head(10)"
      ],
      "metadata": {
        "id": "nkJXJ86W2uEB"
      },
      "execution_count": 391,
      "outputs": []
    },
    {
      "cell_type": "code",
      "source": [
        "from sklearn import metrics\n",
        "print(\"std of the objective function: 196.98\")\n",
        "print(\"\")\n",
        "print(\"------ TRAIN DATA ------\")\n",
        "print(\"RMSE:\",np.sqrt(metrics.mean_squared_error(train_df_Gamla_Israelino2.Israeli_Visitors, train_df_Gamla_Israelino2.predicted_train_Visitors)))\n",
        "print(\"\")\n",
        "print(\"------ TEST DATA ------\")\n",
        "print(\"RMSE:\",np.sqrt(metrics.mean_squared_error(test_df_Gamla_Israelino2.Israeli_Visitors, test_df_Gamla_Israelino2.predicted_test_Visitors)))"
      ],
      "metadata": {
        "id": "vzhRd-_W2t8h",
        "colab": {
          "base_uri": "https://localhost:8080/"
        },
        "outputId": "25759e70-a123-4155-e9d8-45500704626e"
      },
      "execution_count": 392,
      "outputs": [
        {
          "output_type": "stream",
          "name": "stdout",
          "text": [
            "std of the objective function: 196.98\n",
            "\n",
            "------ TRAIN DATA ------\n",
            "RMSE: 179.7682788716267\n",
            "\n",
            "------ TEST DATA ------\n",
            "RMSE: 149.31540320990902\n"
          ]
        }
      ]
    },
    {
      "cell_type": "code",
      "source": [
        "from sklearn.metrics import r2_score\n",
        "r2_score(train_df_Gamla_Israelino2.Israeli_Visitors, train_df_Gamla_Israelino2.predicted_train_Visitors)"
      ],
      "metadata": {
        "colab": {
          "base_uri": "https://localhost:8080/"
        },
        "id": "bUbOjSzqVSxH",
        "outputId": "a16a43ac-97fb-4de9-b79b-298c7bfb4e3f"
      },
      "execution_count": 393,
      "outputs": [
        {
          "output_type": "execute_result",
          "data": {
            "text/plain": [
              "0.24774913607535032"
            ]
          },
          "metadata": {},
          "execution_count": 393
        }
      ]
    },
    {
      "cell_type": "code",
      "source": [
        "#get R2 for test set\n",
        "r2_score(test_df_Gamla_Israelino2.Israeli_Visitors, test_df_Gamla_Israelino2.predicted_test_Visitors)"
      ],
      "metadata": {
        "colab": {
          "base_uri": "https://localhost:8080/"
        },
        "id": "Rpnh-96FVSqB",
        "outputId": "0f1d3336-518d-4530-c52e-332fafd50b55"
      },
      "execution_count": 394,
      "outputs": [
        {
          "output_type": "execute_result",
          "data": {
            "text/plain": [
              "0.2270085684346954"
            ]
          },
          "metadata": {},
          "execution_count": 394
        }
      ]
    },
    {
      "cell_type": "markdown",
      "source": [
        "**Gamla Tourist pm25**"
      ],
      "metadata": {
        "id": "J6uKqW_j8kmt"
      }
    },
    {
      "cell_type": "code",
      "source": [
        "GamlaTouristpm25_df.std()"
      ],
      "metadata": {
        "colab": {
          "base_uri": "https://localhost:8080/"
        },
        "id": "W-v3Vjfqgnp9",
        "outputId": "de3950ae-dc04-4551-a84b-48961811ec45"
      },
      "execution_count": 395,
      "outputs": [
        {
          "output_type": "execute_result",
          "data": {
            "text/plain": [
              "Tourist_Visitors        48.593681\n",
              "Temp_C                   7.560160\n",
              "pm25                    24.596082\n",
              "Is_Weekend               0.449325\n",
              "Is_Jewish_Holiday        0.320852\n",
              "Is_Muslem_Holiday        0.179789\n",
              "Is_Christian_Holiday     0.126173\n",
              "Is_Reserve               0.000000\n",
              "Is_Jewish_Site           0.000000\n",
              "Duration_Of_Visit        0.000000\n",
              "Winter                   0.415804\n",
              "Spring                   0.454939\n",
              "Summer                   0.439295\n",
              "dtype: float64"
            ]
          },
          "metadata": {},
          "execution_count": 395
        }
      ]
    },
    {
      "cell_type": "code",
      "source": [
        "from sklearn.model_selection import train_test_split\n",
        "y_Gamla_Touristpm25 = GamlaTouristpm25_df.Tourist_Visitors\n",
        "X_Gamla_Touristpm25 = GamlaTouristpm25_df[correlated_GamlaTouristpm25_df]\n",
        "\n",
        "X_train_Gamla_Touristpm25, X_test_Gamla_Touristpm25, y_train_Gamla_Touristpm25, y_test_Gamla_Touristpm25 = train_test_split(X_Gamla_Touristpm25, y_Gamla_Touristpm25, test_size=0.3, random_state=1234)\n",
        "train_df_Gamla_Touristpm25 = pd.merge(left=X_train_Gamla_Touristpm25, right=y_train_Gamla_Touristpm25, left_index=True, right_index=True)\n",
        "test_df_Gamla_Touristpm25 = pd.merge(left=X_test_Gamla_Touristpm25, right=y_test_Gamla_Touristpm25, left_index=True, right_index=True)\n",
        "#test_df_Gamla_Touristpm25.head(10)"
      ],
      "metadata": {
        "id": "yYz3gOND9LUy"
      },
      "execution_count": 396,
      "outputs": []
    },
    {
      "cell_type": "code",
      "source": [
        "from sklearn.preprocessing import StandardScaler\n",
        "\n",
        "x_train_scaler_Gamla_Touristpm25 = StandardScaler()\n",
        "x_test_scaler_Gamla_Touristpm25 = StandardScaler()\n",
        "y_train_scaler_Gamla_Touristpm25 = StandardScaler()\n",
        "y_test_scaler_Gamla_Touristpm25 = StandardScaler()\n",
        "\n",
        "X_train_scaled_Gamla_Touristpm25 = x_train_scaler_Gamla_Touristpm25.fit_transform(X_train_Gamla_Touristpm25)\n",
        "X_test_scaled_Gamla_Touristpm25 = x_test_scaler_Gamla_Touristpm25.fit_transform(X_test_Gamla_Touristpm25)\n",
        "y_train_scaled_Gamla_Touristpm25 = y_train_scaler_Gamla_Touristpm25.fit_transform(pd.DataFrame(y_train_Gamla_Touristpm25))\n",
        "y_test_scaled_Gamla_Touristpm25 = y_test_scaler_Gamla_Touristpm25.fit_transform(pd.DataFrame(y_test_Gamla_Touristpm25))"
      ],
      "metadata": {
        "id": "DEBAoUwu9LMl"
      },
      "execution_count": 397,
      "outputs": []
    },
    {
      "cell_type": "code",
      "source": [
        "from sklearn.linear_model import LinearRegression\n",
        "lm = LinearRegression()\n",
        "lm.fit(X_train_scaled_Gamla_Touristpm25,y_train_scaled_Gamla_Touristpm25)\n",
        "\n",
        "coeff = lm.coef_[0]\n",
        "intercept = lm.intercept_[0]\n",
        "print('Coefficients: \\n', \"coeff =\", coeff , \",  Intercept=\",intercept,\"\\n\" )\n",
        "print(\"The regression equation is:\" ,\"Tourist Visitors = \" ,intercept,\" + \",coeff[0],\" * \",correlated_GamlaTouristpm25_df[0],\n",
        "      \" + \",coeff[1],\" * \",correlated_GamlaTouristpm25_df[1],\" + \",coeff[2],\" * \",correlated_GamlaTouristpm25_df[2],\" + \",coeff[3],\" * \",correlated_GamlaTouristpm25_df[3],\" + \",coeff[4],\" * \",correlated_GamlaTouristpm25_df[4],\" + \",coeff[5],\" * \",correlated_GamlaTouristpm25_df[5],\" + \",coeff[6],\" * \",correlated_GamlaTouristpm25_df[6],\" + \",coeff[7],\" * \",correlated_GamlaTouristpm25_df[7],\" + \",coeff[8],\" * \",correlated_GamlaTouristpm25_df[8],\" + \",coeff[9],\" * \",correlated_GamlaTouristpm25_df[9],\" + \",coeff[10],\" * \",correlated_GamlaTouristpm25_df[10],\" + \",coeff[11],\" * \",correlated_GamlaTouristpm25_df[11])"
      ],
      "metadata": {
        "id": "bD9TiiU-9LFi",
        "colab": {
          "base_uri": "https://localhost:8080/"
        },
        "outputId": "8fcd5f62-5f6a-4506-9ed8-d02d3310ff43"
      },
      "execution_count": 398,
      "outputs": [
        {
          "output_type": "stream",
          "name": "stdout",
          "text": [
            "Coefficients: \n",
            " coeff = [-1.03875283e-01  1.24194399e-02 -1.50739202e-01 -1.42557469e-01\n",
            " -2.53597684e-02  4.22700914e-02  2.77555756e-17  0.00000000e+00\n",
            " -2.77555756e-17 -7.10590606e-02  2.46297778e-01 -2.73542211e-02] ,  Intercept= 1.094299585017343e-16 \n",
            "\n",
            "The regression equation is: Tourist Visitors =  1.094299585017343e-16  +  -0.10387528334478494  *  Temp_C  +  0.01241943985610135  *  pm25  +  -0.15073920176835762  *  Is_Weekend  +  -0.14255746902263944  *  Is_Jewish_Holiday  +  -0.02535976839183992  *  Is_Muslem_Holiday  +  0.0422700913522592  *  Is_Christian_Holiday  +  2.7755575615628914e-17  *  Is_Reserve  +  0.0  *  Is_Jewish_Site  +  -2.7755575615628914e-17  *  Duration_Of_Visit  +  -0.07105906058991615  *  Winter  +  0.24629777833067848  *  Spring  +  -0.027354221088516213  *  Summer\n"
          ]
        }
      ]
    },
    {
      "cell_type": "code",
      "source": [
        "fitted_scaled_visitors_Gamla_Touristpm25 = lm.predict(X_train_scaled_Gamla_Touristpm25)\n",
        "fitted_visitors_Gamla_Touristpm25 = y_train_scaler_Gamla_Touristpm25.inverse_transform(fitted_scaled_visitors_Gamla_Touristpm25)\n",
        "predicted_train_visitors_Touristpm25 = round(pd.Series(fitted_visitors_Gamla_Touristpm25[:,0], index= y_train_Gamla_Touristpm25.index, name='predicted_train_Visitors'), ndigits =2)\n",
        "train_df_Gamla_Touristpm25 = pd.merge(left=train_df_Gamla_Touristpm25, right=predicted_train_visitors_Touristpm25 , left_index=True, right_index=True)\n",
        "\n",
        "#train_df_Gamla_Touristpm25.head(10)"
      ],
      "metadata": {
        "id": "WcUtVIek9K-g"
      },
      "execution_count": 399,
      "outputs": []
    },
    {
      "cell_type": "code",
      "source": [
        "fitted_scaled_visitors_Gamla_Touristpm25 = lm.predict(X_test_scaled_Gamla_Touristpm25)\n",
        "fitted_visitors_Gamla_Touristpm25 = y_test_scaler_Gamla_Touristpm25.inverse_transform(fitted_scaled_visitors_Gamla_Touristpm25)\n",
        "predicted_test_visitors_Touristpm25 = round(pd.Series(fitted_visitors_Gamla_Touristpm25[:,0], index= y_test_Gamla_Touristpm25.index, name='predicted_test_Visitors'), ndigits =2)\n",
        "test_df_Gamla_Touristpm25 = pd.merge(left=test_df_Gamla_Touristpm25, right=predicted_test_visitors_Touristpm25 , left_index=True, right_index=True)\n",
        "\n",
        "#test_df_Gamla_Touristpm25.head(10)"
      ],
      "metadata": {
        "id": "TdDOYekc9K3C"
      },
      "execution_count": 400,
      "outputs": []
    },
    {
      "cell_type": "code",
      "source": [
        "from sklearn import metrics\n",
        "print(\"std of the objective function: 48.59\")\n",
        "print(\"\")\n",
        "print(\"------ TRAIN DATA ------\")\n",
        "print(\"RMSE:\",np.sqrt(metrics.mean_squared_error(train_df_Gamla_Touristpm25.Tourist_Visitors, train_df_Gamla_Touristpm25.predicted_train_Visitors)))\n",
        "print(\"\")\n",
        "print(\"------ TEST DATA ------\")\n",
        "print(\"RMSE:\",np.sqrt(metrics.mean_squared_error(test_df_Gamla_Touristpm25.Tourist_Visitors, test_df_Gamla_Touristpm25.predicted_test_Visitors)))"
      ],
      "metadata": {
        "id": "z8vLo5hc9KuY",
        "colab": {
          "base_uri": "https://localhost:8080/"
        },
        "outputId": "c2870caf-fc8e-4b9c-eab5-0f5a77d0e47e"
      },
      "execution_count": 401,
      "outputs": [
        {
          "output_type": "stream",
          "name": "stdout",
          "text": [
            "std of the objective function: 48.59\n",
            "\n",
            "------ TRAIN DATA ------\n",
            "RMSE: 45.59527051204166\n",
            "\n",
            "------ TEST DATA ------\n",
            "RMSE: 46.55685238054898\n"
          ]
        }
      ]
    },
    {
      "cell_type": "code",
      "source": [
        "from sklearn.metrics import r2_score\n",
        "r2_score(train_df_Gamla_Touristpm25.Tourist_Visitors, train_df_Gamla_Touristpm25.predicted_train_Visitors)"
      ],
      "metadata": {
        "colab": {
          "base_uri": "https://localhost:8080/"
        },
        "id": "XgUc6lEeVT6u",
        "outputId": "1e424585-a2d6-4eba-cab3-33e1c5372972"
      },
      "execution_count": 402,
      "outputs": [
        {
          "output_type": "execute_result",
          "data": {
            "text/plain": [
              "0.12616182057254988"
            ]
          },
          "metadata": {},
          "execution_count": 402
        }
      ]
    },
    {
      "cell_type": "code",
      "source": [
        "#get R2 for test set\n",
        "r2_score(test_df_Gamla_Touristpm25.Tourist_Visitors, test_df_Gamla_Touristpm25.predicted_test_Visitors)"
      ],
      "metadata": {
        "colab": {
          "base_uri": "https://localhost:8080/"
        },
        "id": "nVUsBRCZVT4g",
        "outputId": "37134cc8-7fe8-4211-e5ba-acc95b0f2290"
      },
      "execution_count": 403,
      "outputs": [
        {
          "output_type": "execute_result",
          "data": {
            "text/plain": [
              "0.06179272555826709"
            ]
          },
          "metadata": {},
          "execution_count": 403
        }
      ]
    },
    {
      "cell_type": "markdown",
      "source": [
        "**Gamla Tourist no2**"
      ],
      "metadata": {
        "id": "c_Qr-IpsNAvU"
      }
    },
    {
      "cell_type": "code",
      "source": [
        "GamlaTouristno2_df.std()"
      ],
      "metadata": {
        "colab": {
          "base_uri": "https://localhost:8080/"
        },
        "id": "DeeSH2tZhLm9",
        "outputId": "2ad05c33-b34c-484d-9cc2-1a47fff9a344"
      },
      "execution_count": 404,
      "outputs": [
        {
          "output_type": "execute_result",
          "data": {
            "text/plain": [
              "Tourist_Visitors        50.742154\n",
              "Temp_C                   7.685817\n",
              "no2                      5.026052\n",
              "Is_Weekend               0.451843\n",
              "Is_Jewish_Holiday        0.303273\n",
              "Is_Muslem_Holiday        0.179935\n",
              "Is_Christian_Holiday     0.135533\n",
              "Is_Reserve               0.000000\n",
              "Is_Jewish_Site           0.000000\n",
              "Duration_Of_Visit        0.000000\n",
              "Winter                   0.425578\n",
              "Spring                   0.437133\n",
              "Summer                   0.442987\n",
              "dtype: float64"
            ]
          },
          "metadata": {},
          "execution_count": 404
        }
      ]
    },
    {
      "cell_type": "code",
      "source": [
        "from sklearn.model_selection import train_test_split\n",
        "y_Gamla_Touristno2 = GamlaTouristno2_df.Tourist_Visitors\n",
        "X_Gamla_Touristno2 = GamlaTouristno2_df[correlated_GamlaTouristno2_df]\n",
        "\n",
        "X_train_Gamla_Touristno2, X_test_Gamla_Touristno2, y_train_Gamla_Touristno2, y_test_Gamla_Touristno2 = train_test_split(X_Gamla_Touristno2, y_Gamla_Touristno2, test_size=0.3, random_state=1234)\n",
        "train_df_Gamla_Touristno2 = pd.merge(left=X_train_Gamla_Touristno2, right=y_train_Gamla_Touristno2, left_index=True, right_index=True)\n",
        "test_df_Gamla_Touristno2 = pd.merge(left=X_test_Gamla_Touristno2, right=y_test_Gamla_Touristno2, left_index=True, right_index=True)\n",
        "#test_df_Gamla_Touristno2.head(10)"
      ],
      "metadata": {
        "id": "O35FEmgyNCnd"
      },
      "execution_count": 405,
      "outputs": []
    },
    {
      "cell_type": "code",
      "source": [
        "from sklearn.preprocessing import StandardScaler\n",
        "\n",
        "x_train_scaler_Gamla_Touristno2 = StandardScaler()\n",
        "x_test_scaler_Gamla_Touristno2 = StandardScaler()\n",
        "y_train_scaler_Gamla_Touristno2 = StandardScaler()\n",
        "y_test_scaler_Gamla_Touristno2 = StandardScaler()\n",
        "\n",
        "X_train_scaled_Gamla_Touristno2 = x_train_scaler_Gamla_Touristno2.fit_transform(X_train_Gamla_Touristno2)\n",
        "X_test_scaled_Gamla_Touristno2 = x_test_scaler_Gamla_Touristno2.fit_transform(X_test_Gamla_Touristno2)\n",
        "y_train_scaled_Gamla_Touristno2 = y_train_scaler_Gamla_Touristno2.fit_transform(pd.DataFrame(y_train_Gamla_Touristno2))\n",
        "y_test_scaled_Gamla_Touristno2 = y_test_scaler_Gamla_Touristno2.fit_transform(pd.DataFrame(y_test_Gamla_Touristno2))"
      ],
      "metadata": {
        "id": "m7GAOEveNDTt"
      },
      "execution_count": 406,
      "outputs": []
    },
    {
      "cell_type": "code",
      "source": [
        "from sklearn.linear_model import LinearRegression\n",
        "lm = LinearRegression()\n",
        "lm.fit(X_train_scaled_Gamla_Touristno2,y_train_scaled_Gamla_Touristno2)\n",
        "\n",
        "coeff = lm.coef_[0]\n",
        "intercept = lm.intercept_[0]\n",
        "print('Coefficients: \\n', \"coeff =\", coeff , \",  Intercept=\",intercept,\"\\n\" )\n",
        "print(\"The regression equation is:\" ,\"Tourist Visitors = \" ,intercept,\" + \",coeff[0],\" * \",correlated_GamlaTouristno2_df[0],\n",
        "      \" + \",coeff[1],\" * \",correlated_GamlaTouristno2_df[1],\" + \",coeff[2],\" * \",correlated_GamlaTouristno2_df[2],\" + \",coeff[3],\" * \",correlated_GamlaTouristno2_df[3],\" + \",coeff[4],\" * \",correlated_GamlaTouristno2_df[4],\" + \",coeff[5],\" * \",correlated_GamlaTouristno2_df[5],\" + \",coeff[6],\" * \",correlated_GamlaTouristno2_df[6],\" + \",coeff[7],\" * \",correlated_GamlaTouristno2_df[7],\" + \",coeff[8],\" * \",correlated_GamlaTouristno2_df[8],\" + \",coeff[9],\" * \",correlated_GamlaTouristno2_df[9],\" + \",coeff[10],\" * \",correlated_GamlaTouristno2_df[10],\" + \",coeff[11],\" * \",correlated_GamlaTouristno2_df[11])"
      ],
      "metadata": {
        "id": "J5uvZ_G1NDMI",
        "colab": {
          "base_uri": "https://localhost:8080/"
        },
        "outputId": "0664a57a-ff89-4407-fdd1-0d1f2d498cc1"
      },
      "execution_count": 407,
      "outputs": [
        {
          "output_type": "stream",
          "name": "stdout",
          "text": [
            "Coefficients: \n",
            " coeff = [-1.78191824e-01  3.05904171e-02 -1.17255857e-01 -1.13712713e-01\n",
            " -2.33267694e-02  1.18113310e-01  6.93889390e-18  0.00000000e+00\n",
            "  0.00000000e+00 -1.45848498e-01  1.56387883e-01 -5.76595895e-02] ,  Intercept= 4.482225106863394e-17 \n",
            "\n",
            "The regression equation is: Tourist Visitors =  4.482225106863394e-17  +  -0.17819182397258568  *  Temp_C  +  0.03059041709982025  *  no2  +  -0.11725585696229862  *  Is_Weekend  +  -0.11371271295255886  *  Is_Jewish_Holiday  +  -0.02332676936243205  *  Is_Muslem_Holiday  +  0.11811330959194098  *  Is_Christian_Holiday  +  6.938893903907228e-18  *  Is_Reserve  +  0.0  *  Is_Jewish_Site  +  0.0  *  Duration_Of_Visit  +  -0.14584849849970516  *  Winter  +  0.15638788323501154  *  Spring  +  -0.05765958950870048  *  Summer\n"
          ]
        }
      ]
    },
    {
      "cell_type": "code",
      "source": [
        "fitted_scaled_visitors_Gamla_Touristno2 = lm.predict(X_train_scaled_Gamla_Touristno2)\n",
        "fitted_visitors_Gamla_Touristno2 = y_train_scaler_Gamla_Touristno2.inverse_transform(fitted_scaled_visitors_Gamla_Touristno2)\n",
        "predicted_train_visitors_Touristno2 = round(pd.Series(fitted_visitors_Gamla_Touristno2[:,0], index= y_train_Gamla_Touristno2.index, name='predicted_train_Visitors'), ndigits =2)\n",
        "train_df_Gamla_Touristno2 = pd.merge(left=train_df_Gamla_Touristno2, right=predicted_train_visitors_Touristno2 , left_index=True, right_index=True)\n",
        "\n",
        "#train_df_Gamla_Touristno2.head(10)"
      ],
      "metadata": {
        "id": "5nFy482PNDE5"
      },
      "execution_count": 408,
      "outputs": []
    },
    {
      "cell_type": "code",
      "source": [
        "fitted_scaled_visitors_Gamla_Touristno2 = lm.predict(X_test_scaled_Gamla_Touristno2)\n",
        "fitted_visitors_Gamla_Touristno2 = y_test_scaler_Gamla_Touristno2.inverse_transform(fitted_scaled_visitors_Gamla_Touristno2)\n",
        "predicted_test_visitors_Touristno2 = round(pd.Series(fitted_visitors_Gamla_Touristno2[:,0], index= y_test_Gamla_Touristno2.index, name='predicted_test_Visitors'), ndigits =2)\n",
        "test_df_Gamla_Touristno2 = pd.merge(left=test_df_Gamla_Touristno2, right=predicted_test_visitors_Touristno2 , left_index=True, right_index=True)\n",
        "\n",
        "#test_df_Gamla_Touristno2.head(10)"
      ],
      "metadata": {
        "id": "UTIhxbwINC89"
      },
      "execution_count": 409,
      "outputs": []
    },
    {
      "cell_type": "code",
      "source": [
        "from sklearn import metrics\n",
        "print(\"std of the objective function: 50.74\")\n",
        "print(\"\")\n",
        "print(\"------ TRAIN DATA ------\")\n",
        "print(\"RMSE:\",np.sqrt(metrics.mean_squared_error(train_df_Gamla_Touristno2.Tourist_Visitors, train_df_Gamla_Touristno2.predicted_train_Visitors)))\n",
        "print(\"\")\n",
        "print(\"------ TEST DATA ------\")\n",
        "print(\"RMSE:\",np.sqrt(metrics.mean_squared_error(test_df_Gamla_Touristno2.Tourist_Visitors, test_df_Gamla_Touristno2.predicted_test_Visitors)))"
      ],
      "metadata": {
        "id": "AMfTupv2NCz-",
        "colab": {
          "base_uri": "https://localhost:8080/"
        },
        "outputId": "4cb33be7-d751-4fe7-d2a1-ba105f9017bb"
      },
      "execution_count": 410,
      "outputs": [
        {
          "output_type": "stream",
          "name": "stdout",
          "text": [
            "std of the objective function: 50.74\n",
            "\n",
            "------ TRAIN DATA ------\n",
            "RMSE: 48.80026343712759\n",
            "\n",
            "------ TEST DATA ------\n",
            "RMSE: 45.32508800819718\n"
          ]
        }
      ]
    },
    {
      "cell_type": "code",
      "source": [
        "from sklearn.metrics import r2_score\n",
        "r2_score(train_df_Gamla_Touristno2.Tourist_Visitors, train_df_Gamla_Touristno2.predicted_train_Visitors)"
      ],
      "metadata": {
        "colab": {
          "base_uri": "https://localhost:8080/"
        },
        "id": "cV-5FhKnVVJu",
        "outputId": "ba8b57be-ee09-4092-87b3-748c0d604ce0"
      },
      "execution_count": 411,
      "outputs": [
        {
          "output_type": "execute_result",
          "data": {
            "text/plain": [
              "0.11384781711658809"
            ]
          },
          "metadata": {},
          "execution_count": 411
        }
      ]
    },
    {
      "cell_type": "code",
      "source": [
        "#get R2 for test set\n",
        "r2_score(test_df_Gamla_Touristno2.Tourist_Visitors, test_df_Gamla_Touristno2.predicted_test_Visitors)"
      ],
      "metadata": {
        "colab": {
          "base_uri": "https://localhost:8080/"
        },
        "id": "_QiZJuMAVVHg",
        "outputId": "336203ea-366f-40d8-8db5-51307bde398a"
      },
      "execution_count": 412,
      "outputs": [
        {
          "output_type": "execute_result",
          "data": {
            "text/plain": [
              "0.10600286870851516"
            ]
          },
          "metadata": {},
          "execution_count": 412
        }
      ]
    },
    {
      "cell_type": "markdown",
      "source": [
        "### **Metzada**"
      ],
      "metadata": {
        "id": "jXZWGqIup5TJ"
      }
    },
    {
      "cell_type": "markdown",
      "source": [
        "**Metzada Israeli pm25**"
      ],
      "metadata": {
        "id": "YZjpRrwqpQDG"
      }
    },
    {
      "cell_type": "code",
      "source": [
        "MetzadaIsraelipm25_df.std()"
      ],
      "metadata": {
        "colab": {
          "base_uri": "https://localhost:8080/"
        },
        "id": "ARtJKTxVhX2-",
        "outputId": "c93e8014-88f5-4047-92bd-db6c850e7709"
      },
      "execution_count": 413,
      "outputs": [
        {
          "output_type": "execute_result",
          "data": {
            "text/plain": [
              "Israeli_Visitors        855.517398\n",
              "Temp_C                    7.864350\n",
              "pm25                     20.921156\n",
              "Is_Weekend                0.451041\n",
              "Is_Jewish_Holiday         0.306312\n",
              "Is_Muslem_Holiday         0.179424\n",
              "Is_Christian_Holiday      0.141935\n",
              "Is_National_Park          0.000000\n",
              "Is_Jewish_Site            0.000000\n",
              "Camping                   0.000000\n",
              "Duration_Of_Visit         0.000000\n",
              "Winter                    0.437382\n",
              "Spring                    0.441638\n",
              "Summer                    0.436289\n",
              "dtype: float64"
            ]
          },
          "metadata": {},
          "execution_count": 413
        }
      ]
    },
    {
      "cell_type": "code",
      "source": [
        "from sklearn.model_selection import train_test_split\n",
        "y_Metzada_Israelipm25 = MetzadaIsraelipm25_df.Israeli_Visitors\n",
        "X_Metzada_Israelipm25 = MetzadaIsraelipm25_df[correlated_MetzadaIsraelipm25_df]\n",
        "\n",
        "X_train_Metzada_Israelipm25, X_test_Metzada_Israelipm25, y_train_Metzada_Israelipm25, y_test_Metzada_Israelipm25 = train_test_split(X_Metzada_Israelipm25, y_Metzada_Israelipm25, test_size=0.3, random_state=1234)\n",
        "train_df_Metzada_Israelipm25 = pd.merge(left=X_train_Metzada_Israelipm25, right=y_train_Metzada_Israelipm25, left_index=True, right_index=True)\n",
        "test_df_Metzada_Israelipm25 = pd.merge(left=X_test_Metzada_Israelipm25, right=y_test_Metzada_Israelipm25, left_index=True, right_index=True)\n",
        "#test_df_Metzada_Israelipm25.head(10)"
      ],
      "metadata": {
        "id": "zKBJ38X7pd02"
      },
      "execution_count": 414,
      "outputs": []
    },
    {
      "cell_type": "code",
      "source": [
        "from sklearn.preprocessing import StandardScaler\n",
        "\n",
        "x_train_scaler_Metzada_Israelipm25 = StandardScaler()\n",
        "x_test_scaler_Metzada_Israelipm25 = StandardScaler()\n",
        "y_train_scaler_Metzada_Israelipm25 = StandardScaler()\n",
        "y_test_scaler_Metzada_Israelipm25 = StandardScaler()\n",
        "\n",
        "X_train_scaled_Metzada_Israelipm25 = x_train_scaler_Metzada_Israelipm25.fit_transform(X_train_Metzada_Israelipm25)\n",
        "X_test_scaled_Metzada_Israelipm25 = x_test_scaler_Metzada_Israelipm25.fit_transform(X_test_Metzada_Israelipm25)\n",
        "y_train_scaled_Metzada_Israelipm25 = y_train_scaler_Metzada_Israelipm25.fit_transform(pd.DataFrame(y_train_Metzada_Israelipm25))\n",
        "y_test_scaled_Metzada_Israelipm25 = y_test_scaler_Metzada_Israelipm25.fit_transform(pd.DataFrame(y_test_Metzada_Israelipm25))"
      ],
      "metadata": {
        "id": "dkacw7kMpdt-"
      },
      "execution_count": 415,
      "outputs": []
    },
    {
      "cell_type": "code",
      "source": [
        "from sklearn.linear_model import LinearRegression\n",
        "lm = LinearRegression()\n",
        "lm.fit(X_train_scaled_Metzada_Israelipm25,y_train_scaled_Metzada_Israelipm25)\n",
        "\n",
        "coeff = lm.coef_[0]\n",
        "intercept = lm.intercept_[0]\n",
        "print('Coefficients: \\n', \"coeff =\", coeff , \",  Intercept=\",intercept,\"\\n\" )\n",
        "print(\"The regression equation is:\" ,\"Israeli Visitors = \" ,intercept,\" + \",coeff[0],\" * \",correlated_MetzadaIsraelipm25_df[0],\n",
        "      \" + \",coeff[1],\" * \",correlated_MetzadaIsraelipm25_df[1],\" + \",coeff[2],\" * \",correlated_MetzadaIsraelipm25_df[2],\" + \",coeff[3],\" * \",correlated_MetzadaIsraelipm25_df[3],\" + \",coeff[4],\" * \",correlated_MetzadaIsraelipm25_df[4],\" + \",coeff[5],\" * \",correlated_MetzadaIsraelipm25_df[5],\" + \",coeff[6],\" * \",correlated_MetzadaIsraelipm25_df[6],\" + \",coeff[7],\" * \",correlated_MetzadaIsraelipm25_df[7],\" + \",coeff[8],\" * \",correlated_MetzadaIsraelipm25_df[8],\" + \",coeff[9],\" * \",correlated_MetzadaIsraelipm25_df[9],\" + \",coeff[10],\" * \",correlated_MetzadaIsraelipm25_df[10],\" + \",coeff[11],\" * \",correlated_MetzadaIsraelipm25_df[11],\" + \",coeff[12],\" * \",correlated_MetzadaIsraelipm25_df[12])"
      ],
      "metadata": {
        "id": "Wqz_4SkspdmB",
        "colab": {
          "base_uri": "https://localhost:8080/"
        },
        "outputId": "7754f0d5-a51c-42fb-e25b-60c0ae056faa"
      },
      "execution_count": 416,
      "outputs": [
        {
          "output_type": "stream",
          "name": "stdout",
          "text": [
            "Coefficients: \n",
            " coeff = [-3.18624099e-01  3.15714119e-03 -7.05055991e-02  5.55311980e-02\n",
            "  1.22418508e-02  5.07037210e-02 -6.93889390e-18  1.38777878e-17\n",
            "  3.46944695e-18  0.00000000e+00 -3.26546824e-01  1.62535102e-01\n",
            " -2.76335713e-01] ,  Intercept= -3.251727138478969e-17 \n",
            "\n",
            "The regression equation is: Israeli Visitors =  -3.251727138478969e-17  +  -0.3186240986624511  *  Temp_C  +  0.003157141189537062  *  pm25  +  -0.0705055990625575  *  Is_Weekend  +  0.055531198000253426  *  Is_Jewish_Holiday  +  0.012241850810471694  *  Is_Muslem_Holiday  +  0.05070372096037583  *  Is_Christian_Holiday  +  -6.938893903907228e-18  *  Is_National_Park  +  1.3877787807814457e-17  *  Is_Jewish_Site  +  3.469446951953614e-18  *  Camping  +  0.0  *  Duration_Of_Visit  +  -0.32654682385997846  *  Winter  +  0.16253510236988628  *  Spring  +  -0.2763357129582461  *  Summer\n"
          ]
        }
      ]
    },
    {
      "cell_type": "code",
      "source": [
        "fitted_scaled_visitors_Metzada_Israelipm25 = lm.predict(X_train_scaled_Metzada_Israelipm25)\n",
        "fitted_visitors_Metzada_Israelipm25 = y_train_scaler_Metzada_Israelipm25.inverse_transform(fitted_scaled_visitors_Metzada_Israelipm25)\n",
        "predicted_train_visitors_Israelipm25 = round(pd.Series(fitted_visitors_Metzada_Israelipm25[:,0], index= y_train_Metzada_Israelipm25.index, name='predicted_train_Visitors'), ndigits =2)\n",
        "train_df_Metzada_Israelipm25 = pd.merge(left=train_df_Metzada_Israelipm25, right=predicted_train_visitors_Israelipm25 , left_index=True, right_index=True)\n",
        "\n",
        "#train_df_Metzada_Israelipm25.head(10)"
      ],
      "metadata": {
        "id": "lhromjqEpdal"
      },
      "execution_count": 417,
      "outputs": []
    },
    {
      "cell_type": "code",
      "source": [
        "fitted_scaled_visitors_Metzada_Israelipm25 = lm.predict(X_test_scaled_Metzada_Israelipm25)\n",
        "fitted_visitors_Metzada_Israelipm25 = y_test_scaler_Metzada_Israelipm25.inverse_transform(fitted_scaled_visitors_Metzada_Israelipm25)\n",
        "predicted_test_visitors_Israelipm25 = round(pd.Series(fitted_visitors_Metzada_Israelipm25[:,0], index= y_test_Metzada_Israelipm25.index, name='predicted_test_Visitors'), ndigits =2)\n",
        "test_df_Metzada_Israelipm25 = pd.merge(left=test_df_Metzada_Israelipm25, right=predicted_test_visitors_Israelipm25 , left_index=True, right_index=True)\n",
        "\n",
        "#test_df_Metzada_Israelipm25.head(10)"
      ],
      "metadata": {
        "id": "QE1FBZnopdS4"
      },
      "execution_count": 418,
      "outputs": []
    },
    {
      "cell_type": "code",
      "source": [
        "from sklearn import metrics\n",
        "print(\"std of the objective function: 855.51\")\n",
        "print(\"\")\n",
        "print(\"------ TRAIN DATA ------\")\n",
        "print(\"RMSE:\",np.sqrt(metrics.mean_squared_error(train_df_Metzada_Israelipm25.Israeli_Visitors, train_df_Metzada_Israelipm25.predicted_train_Visitors)))\n",
        "print(\"\")\n",
        "print(\"------ TEST DATA ------\")\n",
        "print(\"RMSE:\",np.sqrt(metrics.mean_squared_error(test_df_Metzada_Israelipm25.Israeli_Visitors, test_df_Metzada_Israelipm25.predicted_test_Visitors)))"
      ],
      "metadata": {
        "id": "Z82M4MFNpdIm",
        "colab": {
          "base_uri": "https://localhost:8080/"
        },
        "outputId": "ee1df5b8-345c-4dcd-9068-93d691080d4b"
      },
      "execution_count": 419,
      "outputs": [
        {
          "output_type": "stream",
          "name": "stdout",
          "text": [
            "std of the objective function: 855.51\n",
            "\n",
            "------ TRAIN DATA ------\n",
            "RMSE: 716.6509598167672\n",
            "\n",
            "------ TEST DATA ------\n",
            "RMSE: 749.9033717175533\n"
          ]
        }
      ]
    },
    {
      "cell_type": "code",
      "source": [
        "from sklearn.metrics import r2_score\n",
        "r2_score(train_df_Metzada_Israelipm25.Israeli_Visitors, train_df_Metzada_Israelipm25.predicted_train_Visitors)"
      ],
      "metadata": {
        "colab": {
          "base_uri": "https://localhost:8080/"
        },
        "id": "b-jDADquWedc",
        "outputId": "c7b6e6f7-2065-4aac-d912-f6c41ee85de1"
      },
      "execution_count": 420,
      "outputs": [
        {
          "output_type": "execute_result",
          "data": {
            "text/plain": [
              "0.29970177923585173"
            ]
          },
          "metadata": {},
          "execution_count": 420
        }
      ]
    },
    {
      "cell_type": "code",
      "source": [
        "#get R2 for test set\n",
        "r2_score(test_df_Metzada_Israelipm25.Israeli_Visitors, test_df_Metzada_Israelipm25.predicted_test_Visitors)"
      ],
      "metadata": {
        "colab": {
          "base_uri": "https://localhost:8080/"
        },
        "id": "WtKVdoGlWeJR",
        "outputId": "71279a21-7607-4e60-904c-2f6cc17db0f3"
      },
      "execution_count": 421,
      "outputs": [
        {
          "output_type": "execute_result",
          "data": {
            "text/plain": [
              "0.22427975173760828"
            ]
          },
          "metadata": {},
          "execution_count": 421
        }
      ]
    },
    {
      "cell_type": "markdown",
      "source": [
        "**Metzada Israeli pm10**"
      ],
      "metadata": {
        "id": "Dt5Wq7mAWkfF"
      }
    },
    {
      "cell_type": "code",
      "source": [
        "MetzadaIsraelipm10_df.std()"
      ],
      "metadata": {
        "colab": {
          "base_uri": "https://localhost:8080/"
        },
        "id": "uV5xw_RGhlO7",
        "outputId": "aecbf878-15b2-40f8-a367-7c4bbea06c4f"
      },
      "execution_count": 422,
      "outputs": [
        {
          "output_type": "execute_result",
          "data": {
            "text/plain": [
              "Israeli_Visitors        852.165802\n",
              "Temp_C                    7.858730\n",
              "pm10                     27.147154\n",
              "Is_Weekend                0.452977\n",
              "Is_Jewish_Holiday         0.305227\n",
              "Is_Muslem_Holiday         0.180364\n",
              "Is_Christian_Holiday      0.142689\n",
              "Is_National_Park          0.000000\n",
              "Is_Jewish_Site            0.000000\n",
              "Camping                   0.000000\n",
              "Duration_Of_Visit         0.000000\n",
              "Winter                    0.437291\n",
              "Spring                    0.440537\n",
              "Summer                    0.435068\n",
              "dtype: float64"
            ]
          },
          "metadata": {},
          "execution_count": 422
        }
      ]
    },
    {
      "cell_type": "code",
      "source": [
        "from sklearn.model_selection import train_test_split\n",
        "y_Metzada_Israelipm10 = MetzadaIsraelipm10_df.Israeli_Visitors\n",
        "X_Metzada_Israelipm10 = MetzadaIsraelipm10_df[correlated_MetzadaIsraelipm10_df]\n",
        "\n",
        "X_train_Metzada_Israelipm10, X_test_Metzada_Israelipm10, y_train_Metzada_Israelipm10, y_test_Metzada_Israelipm10 = train_test_split(X_Metzada_Israelipm10, y_Metzada_Israelipm10, test_size=0.3, random_state=1234)\n",
        "train_df_Metzada_Israelipm10 = pd.merge(left=X_train_Metzada_Israelipm10, right=y_train_Metzada_Israelipm10, left_index=True, right_index=True)\n",
        "test_df_Metzada_Israelipm10 = pd.merge(left=X_test_Metzada_Israelipm10, right=y_test_Metzada_Israelipm10, left_index=True, right_index=True)\n",
        "#test_df_Metzada_Israelipm10.head(10)"
      ],
      "metadata": {
        "id": "1_jsVLSmWl_R"
      },
      "execution_count": 423,
      "outputs": []
    },
    {
      "cell_type": "code",
      "source": [
        "from sklearn.preprocessing import StandardScaler\n",
        "\n",
        "x_train_scaler_Metzada_Israelipm10 = StandardScaler()\n",
        "x_test_scaler_Metzada_Israelipm10 = StandardScaler()\n",
        "y_train_scaler_Metzada_Israelipm10 = StandardScaler()\n",
        "y_test_scaler_Metzada_Israelipm10 = StandardScaler()\n",
        "\n",
        "X_train_scaled_Metzada_Israelipm10 = x_train_scaler_Metzada_Israelipm10.fit_transform(X_train_Metzada_Israelipm10)\n",
        "X_test_scaled_Metzada_Israelipm10 = x_test_scaler_Metzada_Israelipm10.fit_transform(X_test_Metzada_Israelipm10)\n",
        "y_train_scaled_Metzada_Israelipm10 = y_train_scaler_Metzada_Israelipm10.fit_transform(pd.DataFrame(y_train_Metzada_Israelipm10))\n",
        "y_test_scaled_Metzada_Israelipm10 = y_test_scaler_Metzada_Israelipm10.fit_transform(pd.DataFrame(y_test_Metzada_Israelipm10))"
      ],
      "metadata": {
        "id": "ogESIZl9Wmpx"
      },
      "execution_count": 424,
      "outputs": []
    },
    {
      "cell_type": "code",
      "source": [
        "from sklearn.linear_model import LinearRegression\n",
        "lm = LinearRegression()\n",
        "lm.fit(X_train_scaled_Metzada_Israelipm10,y_train_scaled_Metzada_Israelipm10)\n",
        "\n",
        "coeff = lm.coef_[0]\n",
        "intercept = lm.intercept_[0]\n",
        "print('Coefficients: \\n', \"coeff =\", coeff , \",  Intercept=\",intercept,\"\\n\" )\n",
        "print(\"The regression equation is:\" ,\"Israeli Visitors = \" ,intercept,\" + \",coeff[0],\" * \",correlated_MetzadaIsraelipm10_df[0],\n",
        "      \" + \",coeff[1],\" * \",correlated_MetzadaIsraelipm10_df[1],\" + \",coeff[2],\" * \",correlated_MetzadaIsraelipm10_df[2],\" + \",coeff[3],\" * \",correlated_MetzadaIsraelipm10_df[3],\" + \",coeff[4],\" * \",correlated_MetzadaIsraelipm10_df[4],\" + \",coeff[5],\" * \",correlated_MetzadaIsraelipm10_df[5],\" + \",coeff[6],\" * \",correlated_MetzadaIsraelipm10_df[6],\" + \",coeff[7],\" * \",correlated_MetzadaIsraelipm10_df[7],\" + \",coeff[8],\" * \",correlated_MetzadaIsraelipm10_df[8],\" + \",coeff[9],\" * \",correlated_MetzadaIsraelipm10_df[9],\" + \",coeff[10],\" * \",correlated_MetzadaIsraelipm10_df[10],\" + \",coeff[11],\" * \",correlated_MetzadaIsraelipm10_df[11],\" + \",coeff[12],\" * \",correlated_MetzadaIsraelipm10_df[12])"
      ],
      "metadata": {
        "id": "zaFqq54IWmis",
        "colab": {
          "base_uri": "https://localhost:8080/"
        },
        "outputId": "8ffb9a15-4961-452c-9ad1-78dfdc00a5c3"
      },
      "execution_count": 425,
      "outputs": [
        {
          "output_type": "stream",
          "name": "stdout",
          "text": [
            "Coefficients: \n",
            " coeff = [-3.24260942e-01  4.35966992e-02 -6.24908068e-02  1.37653675e-02\n",
            "  6.16480080e-03  3.18039095e-02  0.00000000e+00 -2.77555756e-17\n",
            " -2.77555756e-17  0.00000000e+00 -3.93661025e-01  1.32461344e-01\n",
            " -2.88126799e-01] ,  Intercept= 1.7211561932216256e-17 \n",
            "\n",
            "The regression equation is: Israeli Visitors =  1.7211561932216256e-17  +  -0.32426094150172663  *  Temp_C  +  0.04359669918570311  *  pm10  +  -0.062490806797004285  *  Is_Weekend  +  0.013765367534091301  *  Is_Jewish_Holiday  +  0.00616480079512269  *  Is_Muslem_Holiday  +  0.03180390947083193  *  Is_Christian_Holiday  +  0.0  *  Is_National_Park  +  -2.7755575615628914e-17  *  Is_Jewish_Site  +  -2.7755575615628914e-17  *  Camping  +  0.0  *  Duration_Of_Visit  +  -0.3936610250553905  *  Winter  +  0.1324613441956559  *  Spring  +  -0.2881267994346251  *  Summer\n"
          ]
        }
      ]
    },
    {
      "cell_type": "code",
      "source": [
        "fitted_scaled_visitors_Metzada_Israelipm10 = lm.predict(X_train_scaled_Metzada_Israelipm10)\n",
        "fitted_visitors_Metzada_Israelipm10 = y_train_scaler_Metzada_Israelipm10.inverse_transform(fitted_scaled_visitors_Metzada_Israelipm10)\n",
        "predicted_train_visitors_Israelipm10 = round(pd.Series(fitted_visitors_Metzada_Israelipm10[:,0], index= y_train_Metzada_Israelipm10.index, name='predicted_train_Visitors'), ndigits =2)\n",
        "train_df_Metzada_Israelipm10 = pd.merge(left=train_df_Metzada_Israelipm10, right=predicted_train_visitors_Israelipm10 , left_index=True, right_index=True)\n",
        "\n",
        "#train_df_Metzada_Israelipm10.head(10)"
      ],
      "metadata": {
        "id": "m1uvoOw_Wmbr"
      },
      "execution_count": 426,
      "outputs": []
    },
    {
      "cell_type": "code",
      "source": [
        "fitted_scaled_visitors_Metzada_Israelipm10 = lm.predict(X_test_scaled_Metzada_Israelipm10)\n",
        "fitted_visitors_Metzada_Israelipm10 = y_test_scaler_Metzada_Israelipm10.inverse_transform(fitted_scaled_visitors_Metzada_Israelipm10)\n",
        "predicted_test_visitors_Israelipm10 = round(pd.Series(fitted_visitors_Metzada_Israelipm10[:,0], index= y_test_Metzada_Israelipm10.index, name='predicted_test_Visitors'), ndigits =2)\n",
        "test_df_Metzada_Israelipm10 = pd.merge(left=test_df_Metzada_Israelipm10, right=predicted_test_visitors_Israelipm10 , left_index=True, right_index=True)\n",
        "\n",
        "#test_df_Metzada_Israelipm10.head(10)"
      ],
      "metadata": {
        "id": "m7bqPcwCWmU8"
      },
      "execution_count": 427,
      "outputs": []
    },
    {
      "cell_type": "code",
      "source": [
        "from sklearn import metrics\n",
        "print(\"std of the objective function: 852.16\")\n",
        "print(\"\")\n",
        "print(\"------ TRAIN DATA ------\")\n",
        "print(\"RMSE:\",np.sqrt(metrics.mean_squared_error(train_df_Metzada_Israelipm10.Israeli_Visitors, train_df_Metzada_Israelipm10.predicted_train_Visitors)))\n",
        "print(\"\")\n",
        "print(\"------ TEST DATA ------\")\n",
        "print(\"RMSE:\",np.sqrt(metrics.mean_squared_error(test_df_Metzada_Israelipm10.Israeli_Visitors, test_df_Metzada_Israelipm10.predicted_test_Visitors)))"
      ],
      "metadata": {
        "id": "0mZLVJenWmMq",
        "colab": {
          "base_uri": "https://localhost:8080/"
        },
        "outputId": "d85ea39a-9ace-4564-a20c-2a88ae811e69"
      },
      "execution_count": 428,
      "outputs": [
        {
          "output_type": "stream",
          "name": "stdout",
          "text": [
            "std of the objective function: 852.16\n",
            "\n",
            "------ TRAIN DATA ------\n",
            "RMSE: 716.1344646409183\n",
            "\n",
            "------ TEST DATA ------\n",
            "RMSE: 744.4132073167641\n"
          ]
        }
      ]
    },
    {
      "cell_type": "code",
      "source": [
        "from sklearn.metrics import r2_score\n",
        "r2_score(train_df_Metzada_Israelipm10.Israeli_Visitors, train_df_Metzada_Israelipm10.predicted_train_Visitors)"
      ],
      "metadata": {
        "colab": {
          "base_uri": "https://localhost:8080/"
        },
        "id": "oNT4n7oKWgAV",
        "outputId": "210053c8-bbc9-40d1-f903-8b19dcc9a9e2"
      },
      "execution_count": 429,
      "outputs": [
        {
          "output_type": "execute_result",
          "data": {
            "text/plain": [
              "0.2845834467343883"
            ]
          },
          "metadata": {},
          "execution_count": 429
        }
      ]
    },
    {
      "cell_type": "code",
      "source": [
        "#get R2 for test set\n",
        "r2_score(test_df_Metzada_Israelipm10.Israeli_Visitors, test_df_Metzada_Israelipm10.predicted_test_Visitors)"
      ],
      "metadata": {
        "colab": {
          "base_uri": "https://localhost:8080/"
        },
        "id": "yrEEsavCWf5c",
        "outputId": "7818630d-edb6-4ef2-b16d-8f27a635ced4"
      },
      "execution_count": 430,
      "outputs": [
        {
          "output_type": "execute_result",
          "data": {
            "text/plain": [
              "0.2560209822484595"
            ]
          },
          "metadata": {},
          "execution_count": 430
        }
      ]
    },
    {
      "cell_type": "markdown",
      "source": [
        "**Metzada Israeli no2**"
      ],
      "metadata": {
        "id": "-2OU9hDf2yI_"
      }
    },
    {
      "cell_type": "code",
      "source": [
        "MetzadaIsraelino2_df.std()"
      ],
      "metadata": {
        "colab": {
          "base_uri": "https://localhost:8080/"
        },
        "id": "O-pVRnrPizas",
        "outputId": "e7ebd511-f444-4d9f-ab10-00f080539b7c"
      },
      "execution_count": 431,
      "outputs": [
        {
          "output_type": "execute_result",
          "data": {
            "text/plain": [
              "Israeli_Visitors        863.970252\n",
              "Temp_C                    7.866354\n",
              "no2                       3.725900\n",
              "Is_Weekend                0.450850\n",
              "Is_Jewish_Holiday         0.295708\n",
              "Is_Muslem_Holiday         0.183403\n",
              "Is_Christian_Holiday      0.134369\n",
              "Is_National_Park          0.000000\n",
              "Is_Jewish_Site            0.000000\n",
              "Camping                   0.000000\n",
              "Duration_Of_Visit         0.000000\n",
              "Winter                    0.436793\n",
              "Spring                    0.435707\n",
              "Summer                    0.434610\n",
              "dtype: float64"
            ]
          },
          "metadata": {},
          "execution_count": 431
        }
      ]
    },
    {
      "cell_type": "code",
      "source": [
        "from sklearn.model_selection import train_test_split\n",
        "y_Metzada_Israelino2 = MetzadaIsraelino2_df.Israeli_Visitors\n",
        "X_Metzada_Israelino2 = MetzadaIsraelino2_df[correlated_MetzadaIsraelino2_df]\n",
        "\n",
        "X_train_Metzada_Israelino2, X_test_Metzada_Israelino2, y_train_Metzada_Israelino2, y_test_Metzada_Israelino2 = train_test_split(X_Metzada_Israelino2, y_Metzada_Israelino2, test_size=0.3, random_state=1234)\n",
        "train_df_Metzada_Israelino2 = pd.merge(left=X_train_Metzada_Israelino2, right=y_train_Metzada_Israelino2, left_index=True, right_index=True)\n",
        "test_df_Metzada_Israelino2 = pd.merge(left=X_test_Metzada_Israelino2, right=y_test_Metzada_Israelino2, left_index=True, right_index=True)\n",
        "#test_df_Metzada_Israelino2.head(10)"
      ],
      "metadata": {
        "id": "NfChAf_m2004"
      },
      "execution_count": 432,
      "outputs": []
    },
    {
      "cell_type": "code",
      "source": [
        "from sklearn.preprocessing import StandardScaler\n",
        "\n",
        "x_train_scaler_Metzada_Israelino2 = StandardScaler()\n",
        "x_test_scaler_Metzada_Israelino2 = StandardScaler()\n",
        "y_train_scaler_Metzada_Israelino2 = StandardScaler()\n",
        "y_test_scaler_Metzada_Israelino2 = StandardScaler()\n",
        "\n",
        "X_train_scaled_Metzada_Israelino2 = x_train_scaler_Metzada_Israelino2.fit_transform(X_train_Metzada_Israelino2)\n",
        "X_test_scaled_Metzada_Israelino2 = x_test_scaler_Metzada_Israelino2.fit_transform(X_test_Metzada_Israelino2)\n",
        "y_train_scaled_Metzada_Israelino2 = y_train_scaler_Metzada_Israelino2.fit_transform(pd.DataFrame(y_train_Metzada_Israelino2))\n",
        "y_test_scaled_Metzada_Israelino2 = y_test_scaler_Metzada_Israelino2.fit_transform(pd.DataFrame(y_test_Metzada_Israelino2))"
      ],
      "metadata": {
        "id": "s08Jpboh20v5"
      },
      "execution_count": 433,
      "outputs": []
    },
    {
      "cell_type": "code",
      "source": [
        "from sklearn.linear_model import LinearRegression\n",
        "lm = LinearRegression()\n",
        "lm.fit(X_train_scaled_Metzada_Israelino2,y_train_scaled_Metzada_Israelino2)\n",
        "\n",
        "coeff = lm.coef_[0]\n",
        "intercept = lm.intercept_[0]\n",
        "print('Coefficients: \\n', \"coeff =\", coeff , \",  Intercept=\",intercept,\"\\n\" )\n",
        "print(\"The regression equation is:\" ,\"Israeli Visitors = \" ,intercept,\" + \",coeff[0],\" * \",correlated_MetzadaIsraelino2_df[0],\n",
        "      \" + \",coeff[1],\" * \",correlated_MetzadaIsraelino2_df[1],\" + \",coeff[2],\" * \",correlated_MetzadaIsraelino2_df[2],\" + \",coeff[3],\" * \",correlated_MetzadaIsraelino2_df[3],\" + \",coeff[4],\" * \",correlated_MetzadaIsraelino2_df[4],\" + \",coeff[5],\" * \",correlated_MetzadaIsraelino2_df[5],\" + \",coeff[6],\" * \",correlated_MetzadaIsraelino2_df[6],\" + \",coeff[7],\" * \",correlated_MetzadaIsraelino2_df[7],\" + \",coeff[8],\" * \",correlated_MetzadaIsraelino2_df[8],\" + \",coeff[9],\" * \",correlated_MetzadaIsraelino2_df[9],\" + \",coeff[10],\" * \",correlated_MetzadaIsraelino2_df[10],\" + \",coeff[11],\" * \",correlated_MetzadaIsraelino2_df[11],\" + \",coeff[12],\" * \",correlated_MetzadaIsraelino2_df[12])"
      ],
      "metadata": {
        "id": "zSU79R1F20rG",
        "colab": {
          "base_uri": "https://localhost:8080/"
        },
        "outputId": "d0519fee-68b3-4570-c44e-113631ab5cd1"
      },
      "execution_count": 434,
      "outputs": [
        {
          "output_type": "stream",
          "name": "stdout",
          "text": [
            "Coefficients: \n",
            " coeff = [-2.08441196e-01  1.56347710e-01 -2.33529996e-02  6.40292391e-02\n",
            " -1.67968139e-02  4.24392762e-02  0.00000000e+00 -1.73472348e-17\n",
            " -2.77555756e-17  0.00000000e+00 -3.00941091e-01  1.62904665e-01\n",
            " -2.51857886e-01] ,  Intercept= 2.1903708410640619e-16 \n",
            "\n",
            "The regression equation is: Israeli Visitors =  2.1903708410640619e-16  +  -0.20844119637156008  *  Temp_C  +  0.15634770995995423  *  no2  +  -0.02335299963241681  *  Is_Weekend  +  0.06402923908271074  *  Is_Jewish_Holiday  +  -0.016796813886848526  *  Is_Muslem_Holiday  +  0.0424392761885205  *  Is_Christian_Holiday  +  0.0  *  Is_National_Park  +  -1.734723475976807e-17  *  Is_Jewish_Site  +  -2.7755575615628914e-17  *  Camping  +  0.0  *  Duration_Of_Visit  +  -0.3009410912253287  *  Winter  +  0.16290466495349518  *  Spring  +  -0.251857885718183  *  Summer\n"
          ]
        }
      ]
    },
    {
      "cell_type": "code",
      "source": [
        "fitted_scaled_visitors_Metzada_Israelino2 = lm.predict(X_train_scaled_Metzada_Israelino2)\n",
        "fitted_visitors_Metzada_Israelino2 = y_train_scaler_Metzada_Israelino2.inverse_transform(fitted_scaled_visitors_Metzada_Israelino2)\n",
        "predicted_train_visitors_Israelino2 = round(pd.Series(fitted_visitors_Metzada_Israelino2[:,0], index= y_train_Metzada_Israelino2.index, name='predicted_train_Visitors'), ndigits =2)\n",
        "train_df_Metzada_Israelino2 = pd.merge(left=train_df_Metzada_Israelino2, right=predicted_train_visitors_Israelino2 , left_index=True, right_index=True)\n",
        "\n",
        "#train_df_Metzada_Israelino2.head(10)"
      ],
      "metadata": {
        "id": "gue-w3Rr20ms"
      },
      "execution_count": 435,
      "outputs": []
    },
    {
      "cell_type": "code",
      "source": [
        "fitted_scaled_visitors_Metzada_Israelino2 = lm.predict(X_test_scaled_Metzada_Israelino2)\n",
        "fitted_visitors_Metzada_Israelino2 = y_test_scaler_Metzada_Israelino2.inverse_transform(fitted_scaled_visitors_Metzada_Israelino2)\n",
        "predicted_test_visitors_Israelino2 = round(pd.Series(fitted_visitors_Metzada_Israelino2[:,0], index= y_test_Metzada_Israelino2.index, name='predicted_test_Visitors'), ndigits =2)\n",
        "test_df_Metzada_Israelino2 = pd.merge(left=test_df_Metzada_Israelino2, right=predicted_test_visitors_Israelino2 , left_index=True, right_index=True)\n",
        "\n",
        "#test_df_Metzada_Israelino2.head(10)"
      ],
      "metadata": {
        "id": "hqBTFaLB20ih"
      },
      "execution_count": 436,
      "outputs": []
    },
    {
      "cell_type": "code",
      "source": [
        "from sklearn import metrics\n",
        "print(\"std of the objective function: 863.97\")\n",
        "print(\"\")\n",
        "print(\"------ TRAIN DATA ------\")\n",
        "print(\"RMSE:\",np.sqrt(metrics.mean_squared_error(train_df_Metzada_Israelino2.Israeli_Visitors, train_df_Metzada_Israelino2.predicted_train_Visitors)))\n",
        "print(\"\")\n",
        "print(\"------ TEST DATA ------\")\n",
        "print(\"RMSE:\",np.sqrt(metrics.mean_squared_error(test_df_Metzada_Israelino2.Israeli_Visitors, test_df_Metzada_Israelino2.predicted_test_Visitors)))"
      ],
      "metadata": {
        "id": "sUFPPm4r20eO",
        "colab": {
          "base_uri": "https://localhost:8080/"
        },
        "outputId": "6f7c04b2-a019-4c82-fbdf-92f30b9c19cb"
      },
      "execution_count": 437,
      "outputs": [
        {
          "output_type": "stream",
          "name": "stdout",
          "text": [
            "std of the objective function: 863.97\n",
            "\n",
            "------ TRAIN DATA ------\n",
            "RMSE: 731.2968211552761\n",
            "\n",
            "------ TEST DATA ------\n",
            "RMSE: 732.01848729861\n"
          ]
        }
      ]
    },
    {
      "cell_type": "code",
      "source": [
        "from sklearn.metrics import r2_score\n",
        "r2_score(train_df_Metzada_Israelino2.Israeli_Visitors, train_df_Metzada_Israelino2.predicted_train_Visitors)"
      ],
      "metadata": {
        "colab": {
          "base_uri": "https://localhost:8080/"
        },
        "id": "59tJ0Y24Wi4k",
        "outputId": "98c5358e-969f-4e64-a401-4eb1b5beaa69"
      },
      "execution_count": 438,
      "outputs": [
        {
          "output_type": "execute_result",
          "data": {
            "text/plain": [
              "0.2795569024271868"
            ]
          },
          "metadata": {},
          "execution_count": 438
        }
      ]
    },
    {
      "cell_type": "code",
      "source": [
        "#get R2 for test set\n",
        "r2_score(test_df_Metzada_Israelino2.Israeli_Visitors, test_df_Metzada_Israelino2.predicted_test_Visitors)"
      ],
      "metadata": {
        "colab": {
          "base_uri": "https://localhost:8080/"
        },
        "id": "JuL19QGzWixp",
        "outputId": "b0163552-b820-4afd-c96f-5138424dc57c"
      },
      "execution_count": 439,
      "outputs": [
        {
          "output_type": "execute_result",
          "data": {
            "text/plain": [
              "0.2876515661274084"
            ]
          },
          "metadata": {},
          "execution_count": 439
        }
      ]
    },
    {
      "cell_type": "markdown",
      "source": [
        "**Metzada Tourist pm25**"
      ],
      "metadata": {
        "id": "TQDdgBee9NZ3"
      }
    },
    {
      "cell_type": "code",
      "source": [
        "MetzadaTouristpm25_df.std()"
      ],
      "metadata": {
        "colab": {
          "base_uri": "https://localhost:8080/"
        },
        "id": "VWws1vMDjkqD",
        "outputId": "02de8b40-cc1d-4c75-f7f1-fcb1ff3e3dff"
      },
      "execution_count": 440,
      "outputs": [
        {
          "output_type": "execute_result",
          "data": {
            "text/plain": [
              "Tourist_Visitors        922.222155\n",
              "Temp_C                    7.864350\n",
              "pm25                     20.921156\n",
              "Is_Weekend                0.451041\n",
              "Is_Jewish_Holiday         0.306312\n",
              "Is_Muslem_Holiday         0.179424\n",
              "Is_Christian_Holiday      0.141935\n",
              "Is_National_Park          0.000000\n",
              "Is_Jewish_Site            0.000000\n",
              "Camping                   0.000000\n",
              "Duration_Of_Visit         0.000000\n",
              "Winter                    0.437382\n",
              "Spring                    0.441638\n",
              "Summer                    0.436289\n",
              "dtype: float64"
            ]
          },
          "metadata": {},
          "execution_count": 440
        }
      ]
    },
    {
      "cell_type": "code",
      "source": [
        "from sklearn.model_selection import train_test_split\n",
        "y_Metzada_Touristpm25 = MetzadaTouristpm25_df.Tourist_Visitors\n",
        "X_Metzada_Touristpm25 = MetzadaTouristpm25_df[correlated_MetzadaTouristpm25_df]\n",
        "\n",
        "X_train_Metzada_Touristpm25, X_test_Metzada_Touristpm25, y_train_Metzada_Touristpm25, y_test_Metzada_Touristpm25 = train_test_split(X_Metzada_Touristpm25, y_Metzada_Touristpm25, test_size=0.3, random_state=1234)\n",
        "train_df_Metzada_Touristpm25 = pd.merge(left=X_train_Metzada_Touristpm25, right=y_train_Metzada_Touristpm25, left_index=True, right_index=True)\n",
        "test_df_Metzada_Touristpm25 = pd.merge(left=X_test_Metzada_Touristpm25, right=y_test_Metzada_Touristpm25, left_index=True, right_index=True)\n",
        "#test_df_Metzada_Touristpm25.head(10)"
      ],
      "metadata": {
        "id": "tHmWxgW59SKP"
      },
      "execution_count": 441,
      "outputs": []
    },
    {
      "cell_type": "code",
      "source": [
        "from sklearn.preprocessing import StandardScaler\n",
        "\n",
        "x_train_scaler_Metzada_Touristpm25 = StandardScaler()\n",
        "x_test_scaler_Metzada_Touristpm25 = StandardScaler()\n",
        "y_train_scaler_Metzada_Touristpm25 = StandardScaler()\n",
        "y_test_scaler_Metzada_Touristpm25 = StandardScaler()\n",
        "\n",
        "X_train_scaled_Metzada_Touristpm25 = x_train_scaler_Metzada_Touristpm25.fit_transform(X_train_Metzada_Touristpm25)\n",
        "X_test_scaled_Metzada_Touristpm25 = x_test_scaler_Metzada_Touristpm25.fit_transform(X_test_Metzada_Touristpm25)\n",
        "y_train_scaled_Metzada_Touristpm25 = y_train_scaler_Metzada_Touristpm25.fit_transform(pd.DataFrame(y_train_Metzada_Touristpm25))\n",
        "y_test_scaled_Metzada_Touristpm25 = y_test_scaler_Metzada_Touristpm25.fit_transform(pd.DataFrame(y_test_Metzada_Touristpm25))"
      ],
      "metadata": {
        "id": "7jE-y1WQ9SD_"
      },
      "execution_count": 442,
      "outputs": []
    },
    {
      "cell_type": "code",
      "source": [
        "from sklearn.linear_model import LinearRegression\n",
        "lm = LinearRegression()\n",
        "lm.fit(X_train_scaled_Metzada_Touristpm25,y_train_scaled_Metzada_Touristpm25)\n",
        "\n",
        "coeff = lm.coef_[0]\n",
        "intercept = lm.intercept_[0]\n",
        "print('Coefficients: \\n', \"coeff =\", coeff , \",  Intercept=\",intercept,\"\\n\" )\n",
        "print(\"The regression equation is:\" ,\"Tourist Visitors = \" ,intercept,\" + \",coeff[0],\" * \",correlated_MetzadaTouristpm25_df[0],\n",
        "      \" + \",coeff[1],\" * \",correlated_MetzadaTouristpm25_df[1],\" + \",coeff[2],\" * \",correlated_MetzadaTouristpm25_df[2],\" + \",coeff[3],\" * \",correlated_MetzadaTouristpm25_df[3],\" + \",coeff[4],\" * \",correlated_MetzadaTouristpm25_df[4],\" + \",coeff[5],\" * \",correlated_MetzadaTouristpm25_df[5],\" + \",coeff[6],\" * \",correlated_MetzadaTouristpm25_df[6],\" + \",coeff[7],\" * \",correlated_MetzadaTouristpm25_df[7],\" + \",coeff[8],\" * \",correlated_MetzadaTouristpm25_df[8],\" + \",coeff[9],\" * \",correlated_MetzadaTouristpm25_df[9],\" + \",coeff[10],\" * \",correlated_MetzadaTouristpm25_df[10],\" + \",coeff[11],\" * \",correlated_MetzadaTouristpm25_df[11],\" + \",coeff[12],\" * \",correlated_MetzadaTouristpm25_df[12])"
      ],
      "metadata": {
        "id": "XXa5vKkw9R9X",
        "colab": {
          "base_uri": "https://localhost:8080/"
        },
        "outputId": "2bbc3bc6-8666-41cc-8237-6e0a04585162"
      },
      "execution_count": 443,
      "outputs": [
        {
          "output_type": "stream",
          "name": "stdout",
          "text": [
            "Coefficients: \n",
            " coeff = [-1.29972653e-01 -3.27337770e-02  3.07064517e-02 -1.35446849e-01\n",
            " -2.67021003e-03  1.16525557e-01 -1.38777878e-17 -6.93889390e-18\n",
            "  0.00000000e+00  0.00000000e+00 -3.91311727e-01  4.45956499e-02\n",
            " -2.51215350e-01] ,  Intercept= -1.207582539763835e-16 \n",
            "\n",
            "The regression equation is: Tourist Visitors =  -1.207582539763835e-16  +  -0.12997265287187665  *  Temp_C  +  -0.032733777026252964  *  pm25  +  0.03070645169226194  *  Is_Weekend  +  -0.13544684898261455  *  Is_Jewish_Holiday  +  -0.0026702100299166986  *  Is_Muslem_Holiday  +  0.11652555730882436  *  Is_Christian_Holiday  +  -1.3877787807814457e-17  *  Is_National_Park  +  -6.938893903907228e-18  *  Is_Jewish_Site  +  0.0  *  Camping  +  0.0  *  Duration_Of_Visit  +  -0.39131172722608587  *  Winter  +  0.04459564990874224  *  Spring  +  -0.25121534987309324  *  Summer\n"
          ]
        }
      ]
    },
    {
      "cell_type": "code",
      "source": [
        "fitted_scaled_visitors_Metzada_Touristpm25 = lm.predict(X_train_scaled_Metzada_Touristpm25)\n",
        "fitted_visitors_Metzada_Touristpm25 = y_train_scaler_Metzada_Touristpm25.inverse_transform(fitted_scaled_visitors_Metzada_Touristpm25)\n",
        "predicted_train_visitors_Touristpm25 = round(pd.Series(fitted_visitors_Metzada_Touristpm25[:,0], index= y_train_Metzada_Touristpm25.index, name='predicted_train_Visitors'), ndigits =2)\n",
        "train_df_Metzada_Touristpm25 = pd.merge(left=train_df_Metzada_Touristpm25, right=predicted_train_visitors_Touristpm25 , left_index=True, right_index=True)\n",
        "\n",
        "#train_df_Metzada_Touristpm25.head(10)"
      ],
      "metadata": {
        "id": "Fo4VnAlv9R14"
      },
      "execution_count": 444,
      "outputs": []
    },
    {
      "cell_type": "code",
      "source": [
        "fitted_scaled_visitors_Metzada_Touristpm25 = lm.predict(X_test_scaled_Metzada_Touristpm25)\n",
        "fitted_visitors_Metzada_Touristpm25 = y_test_scaler_Metzada_Touristpm25.inverse_transform(fitted_scaled_visitors_Metzada_Touristpm25)\n",
        "predicted_test_visitors_Touristpm25 = round(pd.Series(fitted_visitors_Metzada_Touristpm25[:,0], index= y_test_Metzada_Touristpm25.index, name='predicted_test_Visitors'), ndigits =2)\n",
        "test_df_Metzada_Touristpm25 = pd.merge(left=test_df_Metzada_Touristpm25, right=predicted_test_visitors_Touristpm25 , left_index=True, right_index=True)\n",
        "\n",
        "#test_df_Metzada_Touristpm25.head(10)"
      ],
      "metadata": {
        "id": "-8ByrmYE9RtF"
      },
      "execution_count": 445,
      "outputs": []
    },
    {
      "cell_type": "code",
      "source": [
        "from sklearn import metrics\n",
        "print(\"std of the objective function: 922.22\")\n",
        "print(\"\")\n",
        "print(\"------ TRAIN DATA ------\")\n",
        "print(\"RMSE:\",np.sqrt(metrics.mean_squared_error(train_df_Metzada_Touristpm25.Tourist_Visitors, train_df_Metzada_Touristpm25.predicted_train_Visitors)))\n",
        "print(\"\")\n",
        "print(\"------ TEST DATA ------\")\n",
        "print(\"RMSE:\",np.sqrt(metrics.mean_squared_error(test_df_Metzada_Touristpm25.Tourist_Visitors, test_df_Metzada_Touristpm25.predicted_test_Visitors)))"
      ],
      "metadata": {
        "id": "aY9hXJ_Z9Rj3",
        "colab": {
          "base_uri": "https://localhost:8080/"
        },
        "outputId": "a3530f82-2c20-4c4a-ba43-22bed1f48035"
      },
      "execution_count": 446,
      "outputs": [
        {
          "output_type": "stream",
          "name": "stdout",
          "text": [
            "std of the objective function: 922.22\n",
            "\n",
            "------ TRAIN DATA ------\n",
            "RMSE: 833.2626183167321\n",
            "\n",
            "------ TEST DATA ------\n",
            "RMSE: 839.4225343566063\n"
          ]
        }
      ]
    },
    {
      "cell_type": "code",
      "source": [
        "from sklearn.metrics import r2_score\n",
        "r2_score(train_df_Metzada_Touristpm25.Tourist_Visitors, train_df_Metzada_Touristpm25.predicted_train_Visitors)"
      ],
      "metadata": {
        "colab": {
          "base_uri": "https://localhost:8080/"
        },
        "id": "lQNEKX9SWkh5",
        "outputId": "778dcc30-552f-4916-d643-98c889fb1c50"
      },
      "execution_count": 447,
      "outputs": [
        {
          "output_type": "execute_result",
          "data": {
            "text/plain": [
              "0.16914542719356696"
            ]
          },
          "metadata": {},
          "execution_count": 447
        }
      ]
    },
    {
      "cell_type": "code",
      "source": [
        "#get R2 for test set\n",
        "r2_score(test_df_Metzada_Touristpm25.Tourist_Visitors, test_df_Metzada_Touristpm25.predicted_test_Visitors)"
      ],
      "metadata": {
        "colab": {
          "base_uri": "https://localhost:8080/"
        },
        "id": "CLFRkQByWkaT",
        "outputId": "f6684e2c-014f-4b4f-bf66-939c7436927c"
      },
      "execution_count": 448,
      "outputs": [
        {
          "output_type": "execute_result",
          "data": {
            "text/plain": [
              "0.19859301222092907"
            ]
          },
          "metadata": {},
          "execution_count": 448
        }
      ]
    },
    {
      "cell_type": "markdown",
      "source": [
        "**Metzada Tourist pm10**"
      ],
      "metadata": {
        "id": "8_DgcdwCZZBq"
      }
    },
    {
      "cell_type": "code",
      "source": [
        "MetzadaTouristpm10_df.std()"
      ],
      "metadata": {
        "colab": {
          "base_uri": "https://localhost:8080/"
        },
        "id": "FQtgTauJjp1P",
        "outputId": "0e9bfd89-8c56-4c76-a7b2-cd783a055f2f"
      },
      "execution_count": 449,
      "outputs": [
        {
          "output_type": "execute_result",
          "data": {
            "text/plain": [
              "Tourist_Visitors        929.343095\n",
              "Temp_C                    7.858730\n",
              "pm10                     27.147154\n",
              "Is_Weekend                0.452977\n",
              "Is_Jewish_Holiday         0.305227\n",
              "Is_Muslem_Holiday         0.180364\n",
              "Is_Christian_Holiday      0.142689\n",
              "Is_National_Park          0.000000\n",
              "Is_Jewish_Site            0.000000\n",
              "Camping                   0.000000\n",
              "Duration_Of_Visit         0.000000\n",
              "Winter                    0.437291\n",
              "Spring                    0.440537\n",
              "Summer                    0.435068\n",
              "dtype: float64"
            ]
          },
          "metadata": {},
          "execution_count": 449
        }
      ]
    },
    {
      "cell_type": "code",
      "source": [
        "from sklearn.model_selection import train_test_split\n",
        "y_Metzada_Touristpm10 = MetzadaTouristpm10_df.Tourist_Visitors\n",
        "X_Metzada_Touristpm10 = MetzadaTouristpm10_df[correlated_MetzadaTouristpm10_df]\n",
        "\n",
        "X_train_Metzada_Touristpm10, X_test_Metzada_Touristpm10, y_train_Metzada_Touristpm10, y_test_Metzada_Touristpm10 = train_test_split(X_Metzada_Touristpm10, y_Metzada_Touristpm10, test_size=0.3, random_state=1234)\n",
        "train_df_Metzada_Touristpm10 = pd.merge(left=X_train_Metzada_Touristpm10, right=y_train_Metzada_Touristpm10, left_index=True, right_index=True)\n",
        "test_df_Metzada_Touristpm10 = pd.merge(left=X_test_Metzada_Touristpm10, right=y_test_Metzada_Touristpm10, left_index=True, right_index=True)\n",
        "#test_df_Metzada_Touristpm10.head(10)"
      ],
      "metadata": {
        "id": "PudtvFX4ZcDH"
      },
      "execution_count": 450,
      "outputs": []
    },
    {
      "cell_type": "code",
      "source": [
        "from sklearn.preprocessing import StandardScaler\n",
        "\n",
        "x_train_scaler_Metzada_Touristpm10 = StandardScaler()\n",
        "x_test_scaler_Metzada_Touristpm10 = StandardScaler()\n",
        "y_train_scaler_Metzada_Touristpm10 = StandardScaler()\n",
        "y_test_scaler_Metzada_Touristpm10 = StandardScaler()\n",
        "\n",
        "X_train_scaled_Metzada_Touristpm10 = x_train_scaler_Metzada_Touristpm10.fit_transform(X_train_Metzada_Touristpm10)\n",
        "X_test_scaled_Metzada_Touristpm10 = x_test_scaler_Metzada_Touristpm10.fit_transform(X_test_Metzada_Touristpm10)\n",
        "y_train_scaled_Metzada_Touristpm10 = y_train_scaler_Metzada_Touristpm10.fit_transform(pd.DataFrame(y_train_Metzada_Touristpm10))\n",
        "y_test_scaled_Metzada_Touristpm10 = y_test_scaler_Metzada_Touristpm10.fit_transform(pd.DataFrame(y_test_Metzada_Touristpm10))"
      ],
      "metadata": {
        "id": "FoSEa_JkZb9M"
      },
      "execution_count": 451,
      "outputs": []
    },
    {
      "cell_type": "code",
      "source": [
        "from sklearn.linear_model import LinearRegression\n",
        "lm = LinearRegression()\n",
        "lm.fit(X_train_scaled_Metzada_Touristpm10,y_train_scaled_Metzada_Touristpm10)\n",
        "\n",
        "coeff = lm.coef_[0]\n",
        "intercept = lm.intercept_[0]\n",
        "print('Coefficients: \\n', \"coeff =\", coeff , \",  Intercept=\",intercept,\"\\n\" )\n",
        "print(\"The regression equation is:\" ,\"Tourist Visitors = \" ,intercept,\" + \",coeff[0],\" * \",correlated_MetzadaTouristpm10_df[0],\n",
        "      \" + \",coeff[1],\" * \",correlated_MetzadaTouristpm10_df[1],\" + \",coeff[2],\" * \",correlated_MetzadaTouristpm10_df[2],\" + \",coeff[3],\" * \",correlated_MetzadaTouristpm10_df[3],\" + \",coeff[4],\" * \",correlated_MetzadaTouristpm10_df[4],\" + \",coeff[5],\" * \",correlated_MetzadaTouristpm10_df[5],\" + \",coeff[6],\" * \",correlated_MetzadaTouristpm10_df[6],\" + \",coeff[7],\" * \",correlated_MetzadaTouristpm10_df[7],\" + \",coeff[8],\" * \",correlated_MetzadaTouristpm10_df[8],\" + \",coeff[9],\" * \",correlated_MetzadaTouristpm10_df[9],\" + \",coeff[10],\" * \",correlated_MetzadaTouristpm10_df[10],\" + \",coeff[11],\" * \",correlated_MetzadaTouristpm10_df[11],\" + \",coeff[12],\" * \",correlated_MetzadaTouristpm10_df[12])"
      ],
      "metadata": {
        "id": "o8SBSzTFZb3h",
        "colab": {
          "base_uri": "https://localhost:8080/"
        },
        "outputId": "96bbfbcf-ace9-4cf5-c20e-126d33645b70"
      },
      "execution_count": 452,
      "outputs": [
        {
          "output_type": "stream",
          "name": "stdout",
          "text": [
            "Coefficients: \n",
            " coeff = [-1.61462673e-01  8.13428688e-02  5.38671870e-02 -1.62743251e-01\n",
            " -2.36792387e-02  1.15596883e-01  6.93889390e-18 -5.55111512e-17\n",
            "  0.00000000e+00  0.00000000e+00 -5.34938153e-01 -2.95274275e-02\n",
            " -2.92543988e-01] ,  Intercept= 9.99882672429608e-17 \n",
            "\n",
            "The regression equation is: Tourist Visitors =  9.99882672429608e-17  +  -0.16146267272782797  *  Temp_C  +  0.0813428687744883  *  pm10  +  0.05386718701890445  *  Is_Weekend  +  -0.1627432511194499  *  Is_Jewish_Holiday  +  -0.02367923874406289  *  Is_Muslem_Holiday  +  0.11559688316433012  *  Is_Christian_Holiday  +  6.938893903907228e-18  *  Is_National_Park  +  -5.551115123125783e-17  *  Is_Jewish_Site  +  0.0  *  Camping  +  0.0  *  Duration_Of_Visit  +  -0.5349381533574757  *  Winter  +  -0.029527427464745563  *  Spring  +  -0.29254398831276274  *  Summer\n"
          ]
        }
      ]
    },
    {
      "cell_type": "code",
      "source": [
        "fitted_scaled_visitors_Metzada_Touristpm10 = lm.predict(X_train_scaled_Metzada_Touristpm10)\n",
        "fitted_visitors_Metzada_Touristpm10 = y_train_scaler_Metzada_Touristpm10.inverse_transform(fitted_scaled_visitors_Metzada_Touristpm10)\n",
        "predicted_train_visitors_Touristpm10 = round(pd.Series(fitted_visitors_Metzada_Touristpm10[:,0], index= y_train_Metzada_Touristpm10.index, name='predicted_train_Visitors'), ndigits =2)\n",
        "train_df_Metzada_Touristpm10 = pd.merge(left=train_df_Metzada_Touristpm10, right=predicted_train_visitors_Touristpm10 , left_index=True, right_index=True)\n",
        "\n",
        "#train_df_Metzada_Touristpm10.head(10)"
      ],
      "metadata": {
        "id": "d7hHfHs9ZbyM"
      },
      "execution_count": 453,
      "outputs": []
    },
    {
      "cell_type": "code",
      "source": [
        "fitted_scaled_visitors_Metzada_Touristpm10 = lm.predict(X_test_scaled_Metzada_Touristpm10)\n",
        "fitted_visitors_Metzada_Touristpm10 = y_test_scaler_Metzada_Touristpm10.inverse_transform(fitted_scaled_visitors_Metzada_Touristpm10)\n",
        "predicted_test_visitors_Touristpm10 = round(pd.Series(fitted_visitors_Metzada_Touristpm10[:,0], index= y_test_Metzada_Touristpm10.index, name='predicted_test_Visitors'), ndigits =2)\n",
        "test_df_Metzada_Touristpm10 = pd.merge(left=test_df_Metzada_Touristpm10, right=predicted_test_visitors_Touristpm10 , left_index=True, right_index=True)\n",
        "\n",
        "#test_df_Metzada_Touristpm10.head(10)"
      ],
      "metadata": {
        "id": "80kjAxobZbs9"
      },
      "execution_count": 454,
      "outputs": []
    },
    {
      "cell_type": "code",
      "source": [
        "from sklearn import metrics\n",
        "print(\"std of the objective function: 929.34\")\n",
        "print(\"\")\n",
        "print(\"------ TRAIN DATA ------\")\n",
        "print(\"RMSE:\",np.sqrt(metrics.mean_squared_error(train_df_Metzada_Touristpm10.Tourist_Visitors, train_df_Metzada_Touristpm10.predicted_train_Visitors)))\n",
        "print(\"\")\n",
        "print(\"------ TEST DATA ------\")\n",
        "print(\"RMSE:\",np.sqrt(metrics.mean_squared_error(test_df_Metzada_Touristpm10.Tourist_Visitors, test_df_Metzada_Touristpm10.predicted_test_Visitors)))"
      ],
      "metadata": {
        "id": "kmk_3emiZbl2",
        "colab": {
          "base_uri": "https://localhost:8080/"
        },
        "outputId": "9b150a1e-d846-43fb-deb0-588385311f75"
      },
      "execution_count": 455,
      "outputs": [
        {
          "output_type": "stream",
          "name": "stdout",
          "text": [
            "std of the objective function: 929.34\n",
            "\n",
            "------ TRAIN DATA ------\n",
            "RMSE: 822.8305197137614\n",
            "\n",
            "------ TEST DATA ------\n",
            "RMSE: 861.9000230097135\n"
          ]
        }
      ]
    },
    {
      "cell_type": "code",
      "source": [
        "from sklearn.metrics import r2_score\n",
        "r2_score(train_df_Metzada_Touristpm10.Tourist_Visitors, train_df_Metzada_Touristpm10.predicted_train_Visitors)"
      ],
      "metadata": {
        "colab": {
          "base_uri": "https://localhost:8080/"
        },
        "id": "CDm6YDgPWluY",
        "outputId": "1d598a75-6292-472d-b812-5fb3678b2558"
      },
      "execution_count": 456,
      "outputs": [
        {
          "output_type": "execute_result",
          "data": {
            "text/plain": [
              "0.22224214322666658"
            ]
          },
          "metadata": {},
          "execution_count": 456
        }
      ]
    },
    {
      "cell_type": "code",
      "source": [
        "#get R2 for test set\n",
        "r2_score(test_df_Metzada_Touristpm10.Tourist_Visitors, test_df_Metzada_Touristpm10.predicted_test_Visitors)"
      ],
      "metadata": {
        "colab": {
          "base_uri": "https://localhost:8080/"
        },
        "id": "94UrUzfhWlpK",
        "outputId": "484aecb2-8eb6-4980-91c6-2ab3e365a3c6"
      },
      "execution_count": 457,
      "outputs": [
        {
          "output_type": "execute_result",
          "data": {
            "text/plain": [
              "0.1204991931137891"
            ]
          },
          "metadata": {},
          "execution_count": 457
        }
      ]
    },
    {
      "cell_type": "markdown",
      "source": [
        "**Metzada Tourist no2**"
      ],
      "metadata": {
        "id": "3tjUJGPONLNB"
      }
    },
    {
      "cell_type": "code",
      "source": [
        "MetzadaTouristno2_df.std()"
      ],
      "metadata": {
        "colab": {
          "base_uri": "https://localhost:8080/"
        },
        "id": "EH_nXU-QjzLm",
        "outputId": "a9d27fc2-76e8-4428-aa2b-a851eab4aeca"
      },
      "execution_count": 458,
      "outputs": [
        {
          "output_type": "execute_result",
          "data": {
            "text/plain": [
              "Tourist_Visitors        935.571038\n",
              "Temp_C                    7.866354\n",
              "no2                       3.725900\n",
              "Is_Weekend                0.450850\n",
              "Is_Jewish_Holiday         0.295708\n",
              "Is_Muslem_Holiday         0.183403\n",
              "Is_Christian_Holiday      0.134369\n",
              "Is_National_Park          0.000000\n",
              "Is_Jewish_Site            0.000000\n",
              "Camping                   0.000000\n",
              "Duration_Of_Visit         0.000000\n",
              "Winter                    0.436793\n",
              "Spring                    0.435707\n",
              "Summer                    0.434610\n",
              "dtype: float64"
            ]
          },
          "metadata": {},
          "execution_count": 458
        }
      ]
    },
    {
      "cell_type": "code",
      "source": [
        "from sklearn.model_selection import train_test_split\n",
        "y_Metzada_Touristno2 = MetzadaTouristno2_df.Tourist_Visitors\n",
        "X_Metzada_Touristno2 = MetzadaTouristno2_df[correlated_MetzadaTouristno2_df]\n",
        "\n",
        "X_train_Metzada_Touristno2, X_test_Metzada_Touristno2, y_train_Metzada_Touristno2, y_test_Metzada_Touristno2 = train_test_split(X_Metzada_Touristno2, y_Metzada_Touristno2, test_size=0.3, random_state=1234)\n",
        "train_df_Metzada_Touristno2 = pd.merge(left=X_train_Metzada_Touristno2, right=y_train_Metzada_Touristno2, left_index=True, right_index=True)\n",
        "test_df_Metzada_Touristno2 = pd.merge(left=X_test_Metzada_Touristno2, right=y_test_Metzada_Touristno2, left_index=True, right_index=True)\n",
        "#test_df_Metzada_Touristno2.head(10)"
      ],
      "metadata": {
        "id": "W_be6EoTNMOu"
      },
      "execution_count": 459,
      "outputs": []
    },
    {
      "cell_type": "code",
      "source": [
        "from sklearn.preprocessing import StandardScaler\n",
        "\n",
        "x_train_scaler_Metzada_Touristno2 = StandardScaler()\n",
        "x_test_scaler_Metzada_Touristno2 = StandardScaler()\n",
        "y_train_scaler_Metzada_Touristno2 = StandardScaler()\n",
        "y_test_scaler_Metzada_Touristno2 = StandardScaler()\n",
        "\n",
        "X_train_scaled_Metzada_Touristno2 = x_train_scaler_Metzada_Touristno2.fit_transform(X_train_Metzada_Touristno2)\n",
        "X_test_scaled_Metzada_Touristno2 = x_test_scaler_Metzada_Touristno2.fit_transform(X_test_Metzada_Touristno2)\n",
        "y_train_scaled_Metzada_Touristno2 = y_train_scaler_Metzada_Touristno2.fit_transform(pd.DataFrame(y_train_Metzada_Touristno2))\n",
        "y_test_scaled_Metzada_Touristno2 = y_test_scaler_Metzada_Touristno2.fit_transform(pd.DataFrame(y_test_Metzada_Touristno2))"
      ],
      "metadata": {
        "id": "Vcn5iiOcNNBn"
      },
      "execution_count": 460,
      "outputs": []
    },
    {
      "cell_type": "code",
      "source": [
        "from sklearn.linear_model import LinearRegression\n",
        "lm = LinearRegression()\n",
        "lm.fit(X_train_scaled_Metzada_Touristno2,y_train_scaled_Metzada_Touristno2)\n",
        "\n",
        "coeff = lm.coef_[0]\n",
        "intercept = lm.intercept_[0]\n",
        "print('Coefficients: \\n', \"coeff =\", coeff , \",  Intercept=\",intercept,\"\\n\" )\n",
        "print(\"The regression equation is:\" ,\"Tourist Visitors = \" ,intercept,\" + \",coeff[0],\" * \",correlated_MetzadaTouristno2_df[0],\n",
        "      \" + \",coeff[1],\" * \",correlated_MetzadaTouristno2_df[1],\" + \",coeff[2],\" * \",correlated_MetzadaTouristno2_df[2],\" + \",coeff[3],\" * \",correlated_MetzadaTouristno2_df[3],\" + \",coeff[4],\" * \",correlated_MetzadaTouristno2_df[4],\" + \",coeff[5],\" * \",correlated_MetzadaTouristno2_df[5],\" + \",coeff[6],\" * \",correlated_MetzadaTouristno2_df[6],\" + \",coeff[7],\" * \",correlated_MetzadaTouristno2_df[7],\" + \",coeff[8],\" * \",correlated_MetzadaTouristno2_df[8],\" + \",coeff[9],\" * \",correlated_MetzadaTouristno2_df[9],\" + \",coeff[10],\" * \",correlated_MetzadaTouristno2_df[10],\" + \",coeff[11],\" * \",correlated_MetzadaTouristno2_df[11],\" + \",coeff[12],\" * \",correlated_MetzadaTouristno2_df[12])"
      ],
      "metadata": {
        "id": "3wKQXPp0NM4z",
        "colab": {
          "base_uri": "https://localhost:8080/"
        },
        "outputId": "73327e0d-28d0-43e9-d828-8a3ceeb33a04"
      },
      "execution_count": 461,
      "outputs": [
        {
          "output_type": "stream",
          "name": "stdout",
          "text": [
            "Coefficients: \n",
            " coeff = [-1.08895553e-01  7.02559844e-02  5.48524903e-02 -1.29429566e-01\n",
            "  2.09031303e-03  1.33111246e-01  4.85722573e-17 -1.38777878e-17\n",
            "  0.00000000e+00  0.00000000e+00 -4.23521329e-01  1.62108655e-02\n",
            " -2.66869540e-01] ,  Intercept= -3.0355266835597042e-18 \n",
            "\n",
            "The regression equation is: Tourist Visitors =  -3.0355266835597042e-18  +  -0.10889555256384967  *  Temp_C  +  0.07025598441804924  *  no2  +  0.05485249025275463  *  Is_Weekend  +  -0.12942956592898816  *  Is_Jewish_Holiday  +  0.0020903130330667333  *  Is_Muslem_Holiday  +  0.1331112462880438  *  Is_Christian_Holiday  +  4.85722573273506e-17  *  Is_National_Park  +  -1.3877787807814457e-17  *  Is_Jewish_Site  +  0.0  *  Camping  +  0.0  *  Duration_Of_Visit  +  -0.4235213292566059  *  Winter  +  0.016210865471610266  *  Spring  +  -0.266869540447213  *  Summer\n"
          ]
        }
      ]
    },
    {
      "cell_type": "code",
      "source": [
        "fitted_scaled_visitors_Metzada_Touristno2 = lm.predict(X_train_scaled_Metzada_Touristno2)\n",
        "fitted_visitors_Metzada_Touristno2 = y_train_scaler_Metzada_Touristno2.inverse_transform(fitted_scaled_visitors_Metzada_Touristno2)\n",
        "predicted_train_visitors_Touristno2 = round(pd.Series(fitted_visitors_Metzada_Touristno2[:,0], index= y_train_Metzada_Touristno2.index, name='predicted_train_Visitors'), ndigits =2)\n",
        "train_df_Metzada_Touristno2 = pd.merge(left=train_df_Metzada_Touristno2, right=predicted_train_visitors_Touristno2 , left_index=True, right_index=True)\n",
        "\n",
        "#train_df_Metzada_Touristno2.head(10)"
      ],
      "metadata": {
        "id": "VGXSFRhrNMuD"
      },
      "execution_count": 462,
      "outputs": []
    },
    {
      "cell_type": "code",
      "source": [
        "fitted_scaled_visitors_Metzada_Touristno2 = lm.predict(X_test_scaled_Metzada_Touristno2)\n",
        "fitted_visitors_Metzada_Touristno2 = y_test_scaler_Metzada_Touristno2.inverse_transform(fitted_scaled_visitors_Metzada_Touristno2)\n",
        "predicted_test_visitors_Touristno2 = round(pd.Series(fitted_visitors_Metzada_Touristno2[:,0], index= y_test_Metzada_Touristno2.index, name='predicted_test_Visitors'), ndigits =2)\n",
        "test_df_Metzada_Touristno2 = pd.merge(left=test_df_Metzada_Touristno2, right=predicted_test_visitors_Touristno2 , left_index=True, right_index=True)\n",
        "\n",
        "#test_df_Metzada_Touristno2.head(10)"
      ],
      "metadata": {
        "id": "Q0GWkQLVNMi8"
      },
      "execution_count": 463,
      "outputs": []
    },
    {
      "cell_type": "code",
      "source": [
        "from sklearn import metrics\n",
        "print(\"std of the objective function: 935.57\")\n",
        "print(\"\")\n",
        "print(\"------ TRAIN DATA ------\")\n",
        "print(\"RMSE:\",np.sqrt(metrics.mean_squared_error(train_df_Metzada_Touristno2.Tourist_Visitors, train_df_Metzada_Touristno2.predicted_train_Visitors)))\n",
        "print(\"\")\n",
        "print(\"------ TEST DATA ------\")\n",
        "print(\"RMSE:\",np.sqrt(metrics.mean_squared_error(test_df_Metzada_Touristno2.Tourist_Visitors, test_df_Metzada_Touristno2.predicted_test_Visitors)))"
      ],
      "metadata": {
        "id": "d4gkB-nKNMa0",
        "colab": {
          "base_uri": "https://localhost:8080/"
        },
        "outputId": "8c3cb6a4-6fc5-457d-dac1-1349cb04066b"
      },
      "execution_count": 464,
      "outputs": [
        {
          "output_type": "stream",
          "name": "stdout",
          "text": [
            "std of the objective function: 935.57\n",
            "\n",
            "------ TRAIN DATA ------\n",
            "RMSE: 854.8078122271324\n",
            "\n",
            "------ TEST DATA ------\n",
            "RMSE: 817.9161259468618\n"
          ]
        }
      ]
    },
    {
      "cell_type": "code",
      "source": [
        "from sklearn.metrics import r2_score\n",
        "r2_score(train_df_Metzada_Touristno2.Tourist_Visitors, train_df_Metzada_Touristno2.predicted_train_Visitors)"
      ],
      "metadata": {
        "colab": {
          "base_uri": "https://localhost:8080/"
        },
        "id": "Ob9B8rUTWnB_",
        "outputId": "92ddf338-de11-4a10-bce7-294a6c25dc26"
      },
      "execution_count": 465,
      "outputs": [
        {
          "output_type": "execute_result",
          "data": {
            "text/plain": [
              "0.17913195229645607"
            ]
          },
          "metadata": {},
          "execution_count": 465
        }
      ]
    },
    {
      "cell_type": "code",
      "source": [
        "#get R2 for test set\n",
        "r2_score(test_df_Metzada_Touristno2.Tourist_Visitors, test_df_Metzada_Touristno2.predicted_test_Visitors)"
      ],
      "metadata": {
        "colab": {
          "base_uri": "https://localhost:8080/"
        },
        "id": "ElXIKTNJWm-0",
        "outputId": "aa79a69c-4866-4360-ff2a-675ae6a777dd"
      },
      "execution_count": 466,
      "outputs": [
        {
          "output_type": "execute_result",
          "data": {
            "text/plain": [
              "0.19323254918726196"
            ]
          },
          "metadata": {},
          "execution_count": 466
        }
      ]
    },
    {
      "cell_type": "markdown",
      "source": [
        "### **Full Table Summer**"
      ],
      "metadata": {
        "id": "_GuAZTpgbqfR"
      }
    },
    {
      "cell_type": "markdown",
      "source": [
        "**Full Table Summer Israeli pm25**"
      ],
      "metadata": {
        "id": "JuBOc26kesA8"
      }
    },
    {
      "cell_type": "code",
      "source": [
        "#FullTableSummerIsraelipm25_df"
      ],
      "metadata": {
        "id": "v9oft3NBgkm7"
      },
      "execution_count": 467,
      "outputs": []
    },
    {
      "cell_type": "code",
      "source": [
        "FullTableSummerIsraelipm25_df.std()"
      ],
      "metadata": {
        "colab": {
          "base_uri": "https://localhost:8080/"
        },
        "id": "dk4olHuqbss0",
        "outputId": "22b3b98c-6c6a-42d1-f48f-75185fe6e963"
      },
      "execution_count": 468,
      "outputs": [
        {
          "output_type": "execute_result",
          "data": {
            "text/plain": [
              "Israeli_Visitors        2144.004215\n",
              "Temp_C                     3.670908\n",
              "pm25                      17.831070\n",
              "Is_Weekend                 0.452837\n",
              "Is_Jewish_Holiday          0.123960\n",
              "Is_Muslem_Holiday          0.278313\n",
              "Is_Christian_Holiday       0.000000\n",
              "Is_water_area              0.484223\n",
              "Is_National_Park           0.492982\n",
              "Is_Reserve                 0.464182\n",
              "Is_Jewish_Site             0.429826\n",
              "Is_Christian_Site          0.401652\n",
              "Camping                    0.413213\n",
              "Duration_Of_Visit          0.602647\n",
              "Summer                     0.000000\n",
              "dtype: float64"
            ]
          },
          "metadata": {},
          "execution_count": 468
        }
      ]
    },
    {
      "cell_type": "code",
      "source": [
        "from sklearn.model_selection import train_test_split\n",
        "y_FullTableSummer_Israelipm25 = FullTableSummerIsraelipm25_df.Israeli_Visitors\n",
        "X_FullTableSummer_Israelipm25 = FullTableSummerIsraelipm25_df[correlated_FullTableSummerIsraelipm25_df]\n",
        "\n",
        "X_train_FullTableSummer_Israelipm25, X_test_FullTableSummer_Israelipm25, y_train_FullTableSummer_Israelipm25, y_test_FullTableSummer_Israelipm25 = train_test_split(X_FullTableSummer_Israelipm25, y_FullTableSummer_Israelipm25, test_size=0.2, random_state=1234)\n",
        "train_df_FullTableSummer_Israelipm25 = pd.merge(left=X_train_FullTableSummer_Israelipm25, right=y_train_FullTableSummer_Israelipm25, left_index=True, right_index=True)\n",
        "test_df_FullTableSummer_Israelipm25 = pd.merge(left=X_test_FullTableSummer_Israelipm25, right=y_test_FullTableSummer_Israelipm25, left_index=True, right_index=True)\n",
        "#test_df_FullTableSummer_Israelipm25.head(10)"
      ],
      "metadata": {
        "id": "8KCo6ZvdfBL_"
      },
      "execution_count": 469,
      "outputs": []
    },
    {
      "cell_type": "code",
      "source": [
        "from sklearn.preprocessing import StandardScaler\n",
        "\n",
        "x_train_scaler_FullTableSummer_Israelipm25 = StandardScaler()\n",
        "x_test_scaler_FullTableSummer_Israelipm25 = StandardScaler()\n",
        "y_train_scaler_FullTableSummer_Israelipm25 = StandardScaler()\n",
        "y_test_scaler_FullTableSummer_Israelipm25 = StandardScaler()\n",
        "\n",
        "X_train_scaled_FullTableSummer_Israelipm25 = x_train_scaler_FullTableSummer_Israelipm25.fit_transform(X_train_FullTableSummer_Israelipm25)\n",
        "X_test_scaled_FullTableSummer_Israelipm25 = x_test_scaler_FullTableSummer_Israelipm25.fit_transform(X_test_FullTableSummer_Israelipm25)\n",
        "y_train_scaled_FullTableSummer_Israelipm25 = y_train_scaler_FullTableSummer_Israelipm25.fit_transform(pd.DataFrame(y_train_FullTableSummer_Israelipm25))\n",
        "y_test_scaled_FullTableSummer_Israelipm25 = y_test_scaler_FullTableSummer_Israelipm25.fit_transform(pd.DataFrame(y_test_FullTableSummer_Israelipm25))"
      ],
      "metadata": {
        "id": "WojyBPHVfBFj"
      },
      "execution_count": 470,
      "outputs": []
    },
    {
      "cell_type": "code",
      "source": [
        "from sklearn.linear_model import LinearRegression\n",
        "lm = LinearRegression()\n",
        "lm.fit(X_train_scaled_FullTableSummer_Israelipm25,y_train_scaled_FullTableSummer_Israelipm25)\n",
        "\n",
        "coeff = lm.coef_[0]\n",
        "intercept = lm.intercept_[0]\n",
        "print('Coefficients: \\n', \"coeff =\", coeff , \",  Intercept=\",intercept,\"\\n\" )\n",
        "print(\"The regression equation is:\" ,\"Israeli Visitors = \" ,intercept,\" + \",coeff[0],\" * \",correlated_FullTableSummerIsraelipm25_df[0],\n",
        "      \" + \",coeff[1],\" * \",correlated_FullTableSummerIsraelipm25_df[1],\" + \",coeff[2],\" * \",correlated_FullTableSummerIsraelipm25_df[2],\" + \",coeff[3],\" * \",correlated_FullTableSummerIsraelipm25_df[3],\" + \",coeff[4],\" * \",correlated_FullTableSummerIsraelipm25_df[4],\" + \",coeff[5],\" * \",correlated_FullTableSummerIsraelipm25_df[5],\" + \",coeff[6],\" * \",correlated_FullTableSummerIsraelipm25_df[6],\" + \",coeff[7],\" * \",correlated_FullTableSummerIsraelipm25_df[7],\" + \",coeff[8],\" * \",correlated_FullTableSummerIsraelipm25_df[8],\" + \",coeff[9],\" * \",correlated_FullTableSummerIsraelipm25_df[9],\" + \",coeff[10],\" * \",correlated_FullTableSummerIsraelipm25_df[10],\" + \",coeff[11],\" * \",correlated_FullTableSummerIsraelipm25_df[11],\" + \",coeff[12],\" * \",correlated_FullTableSummerIsraelipm25_df[12],\" + \",coeff[13],\" * \",correlated_FullTableSummerIsraelipm25_df[13])"
      ],
      "metadata": {
        "colab": {
          "base_uri": "https://localhost:8080/"
        },
        "id": "HuSUZnkjfA-T",
        "outputId": "5587d0b1-f7c5-4642-a07a-41df72da01f1"
      },
      "execution_count": 471,
      "outputs": [
        {
          "output_type": "stream",
          "name": "stdout",
          "text": [
            "Coefficients: \n",
            " coeff = [-8.62139149e-03  8.61093943e-03  3.95465585e-02  5.24063487e-03\n",
            "  1.72052134e-02  1.38777878e-17  5.34265918e-02  4.74616664e-02\n",
            "  2.33836260e-02  1.61481961e-02  2.44367832e-02 -1.52399044e-02\n",
            "  1.37655478e-01  0.00000000e+00] ,  Intercept= -4.468648100952336e-17 \n",
            "\n",
            "The regression equation is: Israeli Visitors =  -4.468648100952336e-17  +  -0.008621391493877868  *  Temp_C  +  0.008610939433493184  *  pm25  +  0.039546558508730394  *  Is_Weekend  +  0.005240634869416276  *  Is_Jewish_Holiday  +  0.0172052134076588  *  Is_Muslem_Holiday  +  1.3877787807814457e-17  *  Is_Christian_Holiday  +  0.05342659182240066  *  Is_water_area  +  0.04746166638192542  *  Is_National_Park  +  0.02338362595587014  *  Is_Reserve  +  0.016148196138174413  *  Is_Jewish_Site  +  0.0244367831596893  *  Is_Christian_Site  +  -0.015239904425966368  *  Camping  +  0.13765547779437617  *  Duration_Of_Visit  +  0.0  *  Summer\n"
          ]
        }
      ]
    },
    {
      "cell_type": "code",
      "source": [
        "fitted_scaled_visitors_FullTableSummer_Israelipm25 = lm.predict(X_train_scaled_FullTableSummer_Israelipm25)\n",
        "fitted_visitors_FullTableSummer_Israelipm25 = y_train_scaler_FullTableSummer_Israelipm25.inverse_transform(fitted_scaled_visitors_FullTableSummer_Israelipm25)\n",
        "predicted_train_visitors_Israelipm25 = round(pd.Series(fitted_visitors_FullTableSummer_Israelipm25[:,0], index= y_train_FullTableSummer_Israelipm25.index, name='predicted_train_Visitors'), ndigits =2)\n",
        "train_df_FullTableSummer_Israelipm25 = pd.merge(left=train_df_FullTableSummer_Israelipm25, right=predicted_train_visitors_Israelipm25 , left_index=True, right_index=True)\n",
        "\n",
        "#train_df_FullTableSummer_Israelipm25.head(10)"
      ],
      "metadata": {
        "id": "gKY4Kf5bfA3X"
      },
      "execution_count": 472,
      "outputs": []
    },
    {
      "cell_type": "code",
      "source": [
        "fitted_scaled_visitors_FullTableSummer_Israelipm25 = lm.predict(X_test_scaled_FullTableSummer_Israelipm25)\n",
        "fitted_visitors_FullTableSummer_Israelipm25 = y_test_scaler_FullTableSummer_Israelipm25.inverse_transform(fitted_scaled_visitors_FullTableSummer_Israelipm25)\n",
        "predicted_test_visitors_Israelipm25 = round(pd.Series(fitted_visitors_FullTableSummer_Israelipm25[:,0], index= y_test_FullTableSummer_Israelipm25.index, name='predicted_test_Visitors'), ndigits =2)\n",
        "test_df_FullTableSummer_Israelipm25 = pd.merge(left=test_df_FullTableSummer_Israelipm25, right=predicted_test_visitors_Israelipm25 , left_index=True, right_index=True)\n",
        "\n",
        "#test_df_FullTableSummer_Israelipm25.head(10)"
      ],
      "metadata": {
        "id": "gavC7cnNfAum"
      },
      "execution_count": 473,
      "outputs": []
    },
    {
      "cell_type": "code",
      "source": [
        "from sklearn import metrics\n",
        "print(\"std of the objective function: 2144\")\n",
        "print(\"\")\n",
        "print(\"------ TRAIN DATA ------\")\n",
        "print(\"RMSE:\",np.sqrt(metrics.mean_squared_error(train_df_FullTableSummer_Israelipm25.Israeli_Visitors, train_df_FullTableSummer_Israelipm25.predicted_train_Visitors)))\n",
        "print(\"\")\n",
        "print(\"------ TEST DATA ------\")\n",
        "print(\"RMSE:\",np.sqrt(metrics.mean_squared_error(test_df_FullTableSummer_Israelipm25.Israeli_Visitors, test_df_FullTableSummer_Israelipm25.predicted_test_Visitors)))"
      ],
      "metadata": {
        "colab": {
          "base_uri": "https://localhost:8080/"
        },
        "id": "4jFfF6Lif7GI",
        "outputId": "453eceb5-1203-423b-f33f-7a9a3289568f"
      },
      "execution_count": 474,
      "outputs": [
        {
          "output_type": "stream",
          "name": "stdout",
          "text": [
            "std of the objective function: 2144\n",
            "\n",
            "------ TRAIN DATA ------\n",
            "RMSE: 2115.7951806395727\n",
            "\n",
            "------ TEST DATA ------\n",
            "RMSE: 2094.4977462548027\n"
          ]
        }
      ]
    },
    {
      "cell_type": "code",
      "source": [
        "from sklearn.metrics import r2_score\n",
        "r2_score(train_df_FullTableSummer_Israelipm25.Israeli_Visitors, train_df_FullTableSummer_Israelipm25.predicted_train_Visitors)"
      ],
      "metadata": {
        "colab": {
          "base_uri": "https://localhost:8080/"
        },
        "id": "F2vJw9StZJUs",
        "outputId": "38c699e6-a36d-4b73-a820-3c4b57bbaf19"
      },
      "execution_count": 475,
      "outputs": [
        {
          "output_type": "execute_result",
          "data": {
            "text/plain": [
              "0.030643017721868504"
            ]
          },
          "metadata": {},
          "execution_count": 475
        }
      ]
    },
    {
      "cell_type": "code",
      "source": [
        "#get R2 for test set\n",
        "r2_score(test_df_FullTableSummer_Israelipm25.Israeli_Visitors, test_df_FullTableSummer_Israelipm25.predicted_test_Visitors)"
      ],
      "metadata": {
        "colab": {
          "base_uri": "https://localhost:8080/"
        },
        "id": "10UA2KjAarXt",
        "outputId": "d0c2af88-c74c-4d2c-a9a0-84eb6bf3e6d8"
      },
      "execution_count": 476,
      "outputs": [
        {
          "output_type": "execute_result",
          "data": {
            "text/plain": [
              "0.027267784338736334"
            ]
          },
          "metadata": {},
          "execution_count": 476
        }
      ]
    },
    {
      "cell_type": "markdown",
      "source": [
        "**Full Table Summer Israeli no2**"
      ],
      "metadata": {
        "id": "xqpLvK6Vez6Z"
      }
    },
    {
      "cell_type": "code",
      "source": [
        "#FullTableSummerIsraelino2_df"
      ],
      "metadata": {
        "id": "qhv9eAQVgrW-"
      },
      "execution_count": 477,
      "outputs": []
    },
    {
      "cell_type": "code",
      "source": [
        "FullTableSummerIsraelino2_df.std()"
      ],
      "metadata": {
        "colab": {
          "base_uri": "https://localhost:8080/"
        },
        "id": "LnzR5kCYe28N",
        "outputId": "9581ce3e-6cb8-41bb-b5cc-c95de45f93a4"
      },
      "execution_count": 478,
      "outputs": [
        {
          "output_type": "execute_result",
          "data": {
            "text/plain": [
              "Israeli_Visitors        2119.643628\n",
              "Temp_C                     3.661016\n",
              "no2                        8.529241\n",
              "Is_Weekend                 0.452562\n",
              "Is_Jewish_Holiday          0.122296\n",
              "Is_Muslem_Holiday          0.279985\n",
              "Is_Christian_Holiday       0.000000\n",
              "Is_water_area              0.484632\n",
              "Is_National_Park           0.493680\n",
              "Is_Reserve                 0.467164\n",
              "Is_Jewish_Site             0.430738\n",
              "Is_Christian_Site          0.402048\n",
              "Camping                    0.410754\n",
              "Duration_Of_Visit          0.599501\n",
              "Summer                     0.000000\n",
              "dtype: float64"
            ]
          },
          "metadata": {},
          "execution_count": 478
        }
      ]
    },
    {
      "cell_type": "code",
      "source": [
        "from sklearn.model_selection import train_test_split\n",
        "y_FullTableSummer_Israelino2 = FullTableSummerIsraelino2_df.Israeli_Visitors\n",
        "X_FullTableSummer_Israelino2 = FullTableSummerIsraelino2_df[correlated_FullTableSummerIsraelino2_df]\n",
        "\n",
        "X_train_FullTableSummer_Israelino2, X_test_FullTableSummer_Israelino2, y_train_FullTableSummer_Israelino2, y_test_FullTableSummer_Israelino2 = train_test_split(X_FullTableSummer_Israelino2, y_FullTableSummer_Israelino2, test_size=0.3, random_state=1234)\n",
        "train_df_FullTableSummer_Israelino2 = pd.merge(left=X_train_FullTableSummer_Israelino2, right=y_train_FullTableSummer_Israelino2, left_index=True, right_index=True)\n",
        "test_df_FullTableSummer_Israelino2 = pd.merge(left=X_test_FullTableSummer_Israelino2, right=y_test_FullTableSummer_Israelino2, left_index=True, right_index=True)\n",
        "#test_df_FullTableSummer_Israelino2.head(10)"
      ],
      "metadata": {
        "id": "hBPcnnOsfCJa"
      },
      "execution_count": 479,
      "outputs": []
    },
    {
      "cell_type": "code",
      "source": [
        "from sklearn.preprocessing import StandardScaler\n",
        "\n",
        "x_train_scaler_FullTableSummer_Israelino2 = StandardScaler()\n",
        "x_test_scaler_FullTableSummer_Israelino2 = StandardScaler()\n",
        "y_train_scaler_FullTableSummer_Israelino2 = StandardScaler()\n",
        "y_test_scaler_FullTableSummer_Israelino2 = StandardScaler()\n",
        "\n",
        "X_train_scaled_FullTableSummer_Israelino2 = x_train_scaler_FullTableSummer_Israelino2.fit_transform(X_train_FullTableSummer_Israelino2)\n",
        "X_test_scaled_FullTableSummer_Israelino2 = x_test_scaler_FullTableSummer_Israelino2.fit_transform(X_test_FullTableSummer_Israelino2)\n",
        "y_train_scaled_FullTableSummer_Israelino2 = y_train_scaler_FullTableSummer_Israelino2.fit_transform(pd.DataFrame(y_train_FullTableSummer_Israelino2))\n",
        "y_test_scaled_FullTableSummer_Israelino2 = y_test_scaler_FullTableSummer_Israelino2.fit_transform(pd.DataFrame(y_test_FullTableSummer_Israelino2))"
      ],
      "metadata": {
        "id": "TKSp4DG4fCEP"
      },
      "execution_count": 480,
      "outputs": []
    },
    {
      "cell_type": "code",
      "source": [
        "from sklearn.linear_model import LinearRegression\n",
        "lm = LinearRegression()\n",
        "lm.fit(X_train_scaled_FullTableSummer_Israelino2,y_train_scaled_FullTableSummer_Israelino2)\n",
        "\n",
        "coeff = lm.coef_[0]\n",
        "intercept = lm.intercept_[0]\n",
        "print('Coefficients: \\n', \"coeff =\", coeff , \",  Intercept=\",intercept,\"\\n\" )\n",
        "print(\"The regression equation is:\" ,\"Israeli Visitors = \" ,intercept,\" + \",coeff[0],\" * \",correlated_FullTableSummerIsraelino2_df[0],\n",
        "      \" + \",coeff[1],\" * \",correlated_FullTableSummerIsraelino2_df[1],\" + \",coeff[2],\" * \",correlated_FullTableSummerIsraelino2_df[2],\" + \",coeff[3],\" * \",correlated_FullTableSummerIsraelino2_df[3],\" + \",coeff[4],\" * \",correlated_FullTableSummerIsraelino2_df[4],\" + \",coeff[5],\" * \",correlated_FullTableSummerIsraelino2_df[5],\" + \",coeff[6],\" * \",correlated_FullTableSummerIsraelino2_df[6],\" + \",coeff[7],\" * \",correlated_FullTableSummerIsraelino2_df[7],\" + \",coeff[8],\" * \",correlated_FullTableSummerIsraelino2_df[8],\" + \",coeff[9],\" * \",correlated_FullTableSummerIsraelino2_df[9],\" + \",coeff[10],\" * \",correlated_FullTableSummerIsraelino2_df[10],\" + \",coeff[11],\" * \",correlated_FullTableSummerIsraelino2_df[11],\" + \",coeff[12],\" * \",correlated_FullTableSummerIsraelino2_df[12],\" + \",coeff[13],\" * \",correlated_FullTableSummerIsraelino2_df[13])"
      ],
      "metadata": {
        "colab": {
          "base_uri": "https://localhost:8080/"
        },
        "id": "7SiVpmE1fB-3",
        "outputId": "798d8bf4-4401-4dfa-86dd-e8ca1ed0a174"
      },
      "execution_count": 481,
      "outputs": [
        {
          "output_type": "stream",
          "name": "stdout",
          "text": [
            "Coefficients: \n",
            " coeff = [-6.62967953e-03  1.56170511e-02  3.56891016e-02  1.02587827e-02\n",
            "  2.52415739e-02  1.38777878e-17  5.61142902e-02  5.25432461e-02\n",
            "  3.55205152e-02  1.80425837e-02  2.77328069e-02 -1.36788793e-02\n",
            "  1.42127521e-01  0.00000000e+00] ,  Intercept= -2.9294937903493314e-17 \n",
            "\n",
            "The regression equation is: Israeli Visitors =  -2.9294937903493314e-17  +  -0.0066296795329551265  *  Temp_C  +  0.015617051053882114  *  no2  +  0.03568910162973592  *  Is_Weekend  +  0.010258782691703747  *  Is_Jewish_Holiday  +  0.025241573867630686  *  Is_Muslem_Holiday  +  1.3877787807814457e-17  *  Is_Christian_Holiday  +  0.0561142901849181  *  Is_water_area  +  0.0525432461344046  *  Is_National_Park  +  0.03552051524505388  *  Is_Reserve  +  0.018042583709224316  *  Is_Jewish_Site  +  0.027732806871678162  *  Is_Christian_Site  +  -0.013678879272415966  *  Camping  +  0.14212752089050992  *  Duration_Of_Visit  +  0.0  *  Summer\n"
          ]
        }
      ]
    },
    {
      "cell_type": "code",
      "source": [
        "fitted_scaled_visitors_FullTableSummer_Israelino2 = lm.predict(X_train_scaled_FullTableSummer_Israelino2)\n",
        "fitted_visitors_FullTableSummer_Israelino2 = y_train_scaler_FullTableSummer_Israelino2.inverse_transform(fitted_scaled_visitors_FullTableSummer_Israelino2)\n",
        "predicted_train_visitors_Israelino2 = round(pd.Series(fitted_visitors_FullTableSummer_Israelino2[:,0], index= y_train_FullTableSummer_Israelino2.index, name='predicted_train_Visitors'), ndigits =2)\n",
        "train_df_FullTableSummer_Israelino2 = pd.merge(left=train_df_FullTableSummer_Israelino2, right=predicted_train_visitors_Israelino2 , left_index=True, right_index=True)\n",
        "\n",
        "#train_df_FullTableSummer_Israelino2.head(10)"
      ],
      "metadata": {
        "id": "HP1q7RajfB5r"
      },
      "execution_count": 482,
      "outputs": []
    },
    {
      "cell_type": "code",
      "source": [
        "fitted_scaled_visitors_FullTableSummer_Israelino2 = lm.predict(X_test_scaled_FullTableSummer_Israelino2)\n",
        "fitted_visitors_FullTableSummer_Israelino2 = y_test_scaler_FullTableSummer_Israelino2.inverse_transform(fitted_scaled_visitors_FullTableSummer_Israelino2)\n",
        "predicted_test_visitors_Israelino2 = round(pd.Series(fitted_visitors_FullTableSummer_Israelino2[:,0], index= y_test_FullTableSummer_Israelino2.index, name='predicted_test_Visitors'), ndigits =2)\n",
        "test_df_FullTableSummer_Israelino2 = pd.merge(left=test_df_FullTableSummer_Israelino2, right=predicted_test_visitors_Israelino2 , left_index=True, right_index=True)\n",
        "\n",
        "#test_df_FullTableSummer_Israelino2.head(10)"
      ],
      "metadata": {
        "id": "zyhUajpnfB07"
      },
      "execution_count": 483,
      "outputs": []
    },
    {
      "cell_type": "code",
      "source": [
        "from sklearn import metrics\n",
        "print(\"std of the objective function: 2119.64\")\n",
        "print(\"\")\n",
        "print(\"------ TRAIN DATA ------\")\n",
        "print(\"RMSE:\",np.sqrt(metrics.mean_squared_error(train_df_FullTableSummer_Israelino2.Israeli_Visitors, train_df_FullTableSummer_Israelino2.predicted_train_Visitors)))\n",
        "print(\"\")\n",
        "print(\"------ TEST DATA ------\")\n",
        "print(\"RMSE:\",np.sqrt(metrics.mean_squared_error(test_df_FullTableSummer_Israelino2.Israeli_Visitors, test_df_FullTableSummer_Israelino2.predicted_test_Visitors)))"
      ],
      "metadata": {
        "colab": {
          "base_uri": "https://localhost:8080/"
        },
        "id": "_DYwenocfBvC",
        "outputId": "c9764b65-0efc-48dd-cf15-73dff1a77bdc"
      },
      "execution_count": 484,
      "outputs": [
        {
          "output_type": "stream",
          "name": "stdout",
          "text": [
            "std of the objective function: 2119.64\n",
            "\n",
            "------ TRAIN DATA ------\n",
            "RMSE: 2014.3112260753376\n",
            "\n",
            "------ TEST DATA ------\n",
            "RMSE: 2247.3779580461687\n"
          ]
        }
      ]
    },
    {
      "cell_type": "code",
      "source": [
        "from sklearn.metrics import r2_score\n",
        "r2_score(train_df_FullTableSummer_Israelino2.Israeli_Visitors, train_df_FullTableSummer_Israelino2.predicted_train_Visitors)"
      ],
      "metadata": {
        "colab": {
          "base_uri": "https://localhost:8080/"
        },
        "id": "dyqYkY1zZKfl",
        "outputId": "d7a8814a-b8b3-4e0e-8cdd-bde23faa28d3"
      },
      "execution_count": 485,
      "outputs": [
        {
          "output_type": "execute_result",
          "data": {
            "text/plain": [
              "0.03297618215117293"
            ]
          },
          "metadata": {},
          "execution_count": 485
        }
      ]
    },
    {
      "cell_type": "code",
      "source": [
        "#get R2 for test set\n",
        "r2_score(test_df_FullTableSummer_Israelino2.Israeli_Visitors, test_df_FullTableSummer_Israelino2.predicted_test_Visitors)"
      ],
      "metadata": {
        "colab": {
          "base_uri": "https://localhost:8080/"
        },
        "id": "1MAyFJdVa9Dn",
        "outputId": "5f64528d-0452-4762-b205-916758105408"
      },
      "execution_count": 486,
      "outputs": [
        {
          "output_type": "execute_result",
          "data": {
            "text/plain": [
              "0.02589175354714357"
            ]
          },
          "metadata": {},
          "execution_count": 486
        }
      ]
    },
    {
      "cell_type": "markdown",
      "source": [
        "**Full Table Summer Tourist pm25**"
      ],
      "metadata": {
        "id": "jBbzvYqYe3Py"
      }
    },
    {
      "cell_type": "code",
      "source": [
        "#FullTableSummerTouristpm25_df"
      ],
      "metadata": {
        "id": "HYmRUyT4fDNe"
      },
      "execution_count": 487,
      "outputs": []
    },
    {
      "cell_type": "code",
      "source": [
        "FullTableSummerTouristpm25_df.std()"
      ],
      "metadata": {
        "colab": {
          "base_uri": "https://localhost:8080/"
        },
        "id": "n8d6f12TfDIV",
        "outputId": "b475ca2c-4fb3-4c1e-e67d-54b8f77f06f6"
      },
      "execution_count": 488,
      "outputs": [
        {
          "output_type": "execute_result",
          "data": {
            "text/plain": [
              "Tourist_Visitors        310.039977\n",
              "Temp_C                    3.670908\n",
              "pm25                     17.831070\n",
              "Is_Weekend                0.452837\n",
              "Is_Jewish_Holiday         0.123960\n",
              "Is_Muslem_Holiday         0.278313\n",
              "Is_Christian_Holiday      0.000000\n",
              "Is_water_area             0.484223\n",
              "Is_National_Park          0.492982\n",
              "Is_Reserve                0.464182\n",
              "Is_Jewish_Site            0.429826\n",
              "Is_Christian_Site         0.401652\n",
              "Camping                   0.413213\n",
              "Duration_Of_Visit         0.602647\n",
              "Summer                    0.000000\n",
              "dtype: float64"
            ]
          },
          "metadata": {},
          "execution_count": 488
        }
      ]
    },
    {
      "cell_type": "code",
      "source": [
        "from sklearn.model_selection import train_test_split\n",
        "y_FullTableSummer_Touristpm25 = FullTableSummerTouristpm25_df.Tourist_Visitors\n",
        "X_FullTableSummer_Touristpm25 = FullTableSummerTouristpm25_df[correlated_FullTableSummerTouristpm25_df]\n",
        "\n",
        "X_train_FullTableSummer_Touristpm25, X_test_FullTableSummer_Touristpm25, y_train_FullTableSummer_Touristpm25, y_test_FullTableSummer_Touristpm25 = train_test_split(X_FullTableSummer_Touristpm25, y_FullTableSummer_Touristpm25, test_size=0.3, random_state=1234)\n",
        "train_df_FullTableSummer_Touristpm25 = pd.merge(left=X_train_FullTableSummer_Touristpm25, right=y_train_FullTableSummer_Touristpm25, left_index=True, right_index=True)\n",
        "test_df_FullTableSummer_Touristpm25 = pd.merge(left=X_test_FullTableSummer_Touristpm25, right=y_test_FullTableSummer_Touristpm25, left_index=True, right_index=True)\n",
        "#test_df_FullTableSummer_Touristpm25.head(10)"
      ],
      "metadata": {
        "id": "kVF1NA8RfDCA"
      },
      "execution_count": 489,
      "outputs": []
    },
    {
      "cell_type": "code",
      "source": [
        "from sklearn.preprocessing import StandardScaler\n",
        "\n",
        "x_train_scaler_FullTableSummer_Touristpm25 = StandardScaler()\n",
        "x_test_scaler_FullTableSummer_Touristpm25 = StandardScaler()\n",
        "y_train_scaler_FullTableSummer_Touristpm25 = StandardScaler()\n",
        "y_test_scaler_FullTableSummer_Touristpm25 = StandardScaler()\n",
        "\n",
        "X_train_scaled_FullTableSummer_Touristpm25 = x_train_scaler_FullTableSummer_Touristpm25.fit_transform(X_train_FullTableSummer_Touristpm25)\n",
        "X_test_scaled_FullTableSummer_Touristpm25 = x_test_scaler_FullTableSummer_Touristpm25.fit_transform(X_test_FullTableSummer_Touristpm25)\n",
        "y_train_scaled_FullTableSummer_Touristpm25 = y_train_scaler_FullTableSummer_Touristpm25.fit_transform(pd.DataFrame(y_train_FullTableSummer_Touristpm25))\n",
        "y_test_scaled_FullTableSummer_Touristpm25 = y_test_scaler_FullTableSummer_Touristpm25.fit_transform(pd.DataFrame(y_test_FullTableSummer_Touristpm25))"
      ],
      "metadata": {
        "id": "PV-7LFbnfC8M"
      },
      "execution_count": 490,
      "outputs": []
    },
    {
      "cell_type": "code",
      "source": [
        "from sklearn.linear_model import LinearRegression\n",
        "lm = LinearRegression()\n",
        "lm.fit(X_train_scaled_FullTableSummer_Touristpm25,y_train_scaled_FullTableSummer_Touristpm25)\n",
        "\n",
        "coeff = lm.coef_[0]\n",
        "intercept = lm.intercept_[0]\n",
        "print('Coefficients: \\n', \"coeff =\", coeff , \",  Intercept=\",intercept,\"\\n\" )\n",
        "print(\"The regression equation is:\" ,\"Tourist Visitors = \" ,intercept,\" + \",coeff[0],\" * \",correlated_FullTableSummerTouristpm25_df[0],\n",
        "      \" + \",coeff[1],\" * \",correlated_FullTableSummerTouristpm25_df[1],\" + \",coeff[2],\" * \",correlated_FullTableSummerTouristpm25_df[2],\" + \",coeff[3],\" * \",correlated_FullTableSummerTouristpm25_df[3],\" + \",coeff[4],\" * \",correlated_FullTableSummerTouristpm25_df[4],\" + \",coeff[5],\" * \",correlated_FullTableSummerTouristpm25_df[5],\" + \",coeff[6],\" * \",correlated_FullTableSummerTouristpm25_df[6],\" + \",coeff[7],\" * \",correlated_FullTableSummerTouristpm25_df[7],\" + \",coeff[8],\" * \",correlated_FullTableSummerTouristpm25_df[8],\" + \",coeff[9],\" * \",correlated_FullTableSummerTouristpm25_df[9],\" + \",coeff[10],\" * \",correlated_FullTableSummerTouristpm25_df[10],\" + \",coeff[11],\" * \",correlated_FullTableSummerTouristpm25_df[11],\" + \",coeff[12],\" * \",correlated_FullTableSummerTouristpm25_df[12],\" + \",coeff[13],\" * \",correlated_FullTableSummerTouristpm25_df[13])"
      ],
      "metadata": {
        "colab": {
          "base_uri": "https://localhost:8080/"
        },
        "id": "DtOWVTRdfC3L",
        "outputId": "9e0d6076-df50-447e-c09e-1ac39240bc7c"
      },
      "execution_count": 491,
      "outputs": [
        {
          "output_type": "stream",
          "name": "stdout",
          "text": [
            "Coefficients: \n",
            " coeff = [ 7.95898158e-02 -8.49038635e-02 -1.50630997e-02  7.28288942e-03\n",
            "  1.19167060e-03  1.38777878e-16 -2.62219279e-01  1.45910093e-01\n",
            "  3.19270603e-01  2.21066070e-01  3.26871477e-01  2.64052032e-02\n",
            "  3.04605438e-01  0.00000000e+00] ,  Intercept= -1.7513508971994533e-16 \n",
            "\n",
            "The regression equation is: Tourist Visitors =  -1.7513508971994533e-16  +  0.07958981584719516  *  Temp_C  +  -0.08490386354708745  *  pm25  +  -0.015063099677217695  *  Is_Weekend  +  0.007282889424667906  *  Is_Jewish_Holiday  +  0.001191670601806671  *  Is_Muslem_Holiday  +  1.3877787807814457e-16  *  Is_Christian_Holiday  +  -0.26221927853676563  *  Is_water_area  +  0.14591009341783634  *  Is_National_Park  +  0.31927060288857884  *  Is_Reserve  +  0.22106606951179084  *  Is_Jewish_Site  +  0.32687147749561285  *  Is_Christian_Site  +  0.026405203248392014  *  Camping  +  0.30460543776648885  *  Duration_Of_Visit  +  0.0  *  Summer\n"
          ]
        }
      ]
    },
    {
      "cell_type": "code",
      "source": [
        "fitted_scaled_visitors_FullTableSummer_Touristpm25 = lm.predict(X_train_scaled_FullTableSummer_Touristpm25)\n",
        "fitted_visitors_FullTableSummer_Touristpm25 = y_train_scaler_FullTableSummer_Touristpm25.inverse_transform(fitted_scaled_visitors_FullTableSummer_Touristpm25)\n",
        "predicted_train_visitors_Touristpm25 = round(pd.Series(fitted_visitors_FullTableSummer_Touristpm25[:,0], index= y_train_FullTableSummer_Touristpm25.index, name='predicted_train_Visitors'), ndigits =2)\n",
        "train_df_FullTableSummer_Touristpm25 = pd.merge(left=train_df_FullTableSummer_Touristpm25, right=predicted_train_visitors_Touristpm25 , left_index=True, right_index=True)\n",
        "\n",
        "#train_df_FullTableSummer_Touristpm25.head(10)"
      ],
      "metadata": {
        "id": "0Pst8pFmfCxT"
      },
      "execution_count": 492,
      "outputs": []
    },
    {
      "cell_type": "code",
      "source": [
        "fitted_scaled_visitors_FullTableSummer_Touristpm25 = lm.predict(X_test_scaled_FullTableSummer_Touristpm25)\n",
        "fitted_visitors_FullTableSummer_Touristpm25 = y_test_scaler_FullTableSummer_Touristpm25.inverse_transform(fitted_scaled_visitors_FullTableSummer_Touristpm25)\n",
        "predicted_test_visitors_Touristpm25 = round(pd.Series(fitted_visitors_FullTableSummer_Touristpm25[:,0], index= y_test_FullTableSummer_Touristpm25.index, name='predicted_test_Visitors'), ndigits =2)\n",
        "test_df_FullTableSummer_Touristpm25 = pd.merge(left=test_df_FullTableSummer_Touristpm25, right=predicted_test_visitors_Touristpm25 , left_index=True, right_index=True)\n",
        "\n",
        "#test_df_FullTableSummer_Touristpm25.head(10)"
      ],
      "metadata": {
        "id": "MKPj3MGNe36G"
      },
      "execution_count": 493,
      "outputs": []
    },
    {
      "cell_type": "code",
      "source": [
        "from sklearn import metrics\n",
        "print(\"std of the objective function: 310.03\")\n",
        "print(\"\")\n",
        "print(\"------ TRAIN DATA ------\")\n",
        "print(\"RMSE:\",np.sqrt(metrics.mean_squared_error(train_df_FullTableSummer_Touristpm25.Tourist_Visitors, train_df_FullTableSummer_Touristpm25.predicted_train_Visitors)))\n",
        "print(\"\")\n",
        "print(\"------ TEST DATA ------\")\n",
        "print(\"RMSE:\",np.sqrt(metrics.mean_squared_error(test_df_FullTableSummer_Touristpm25.Tourist_Visitors, test_df_FullTableSummer_Touristpm25.predicted_test_Visitors)))"
      ],
      "metadata": {
        "colab": {
          "base_uri": "https://localhost:8080/"
        },
        "id": "iwieFqE5qury",
        "outputId": "a8091bd4-07da-4477-b55a-40ebd8c7cbfd"
      },
      "execution_count": 494,
      "outputs": [
        {
          "output_type": "stream",
          "name": "stdout",
          "text": [
            "std of the objective function: 310.03\n",
            "\n",
            "------ TRAIN DATA ------\n",
            "RMSE: 280.9353366061304\n",
            "\n",
            "------ TEST DATA ------\n",
            "RMSE: 279.2604888112902\n"
          ]
        }
      ]
    },
    {
      "cell_type": "code",
      "source": [
        "from sklearn.metrics import r2_score\n",
        "r2_score(train_df_FullTableSummer_Touristpm25.Tourist_Visitors, train_df_FullTableSummer_Touristpm25.predicted_train_Visitors)"
      ],
      "metadata": {
        "colab": {
          "base_uri": "https://localhost:8080/"
        },
        "id": "J9inCAX9ZLy6",
        "outputId": "ec4a302b-10f9-4f2f-a4cc-eef2282db3e6"
      },
      "execution_count": 495,
      "outputs": [
        {
          "output_type": "execute_result",
          "data": {
            "text/plain": [
              "0.17669894258273766"
            ]
          },
          "metadata": {},
          "execution_count": 495
        }
      ]
    },
    {
      "cell_type": "code",
      "source": [
        "#get R2 for test set\n",
        "r2_score(test_df_FullTableSummer_Touristpm25.Tourist_Visitors, test_df_FullTableSummer_Touristpm25.predicted_test_Visitors)"
      ],
      "metadata": {
        "colab": {
          "base_uri": "https://localhost:8080/"
        },
        "id": "C9NjEyX_bQtm",
        "outputId": "6939fb3c-2793-4fd4-e417-ad43b1805052"
      },
      "execution_count": 496,
      "outputs": [
        {
          "output_type": "execute_result",
          "data": {
            "text/plain": [
              "0.19359087751184378"
            ]
          },
          "metadata": {},
          "execution_count": 496
        }
      ]
    },
    {
      "cell_type": "markdown",
      "source": [
        "**Full Table Summer Tourist no2**"
      ],
      "metadata": {
        "id": "QzMTWz40e4NE"
      }
    },
    {
      "cell_type": "code",
      "source": [
        "#FullTableSummerTouristno2_df"
      ],
      "metadata": {
        "id": "03UreuKxgyYK"
      },
      "execution_count": 497,
      "outputs": []
    },
    {
      "cell_type": "code",
      "source": [
        "FullTableSummerTouristno2_df.std()"
      ],
      "metadata": {
        "colab": {
          "base_uri": "https://localhost:8080/"
        },
        "id": "7Bs_-Js5fECb",
        "outputId": "c905bb58-2dfe-43a1-e0ca-da0530b205da"
      },
      "execution_count": 498,
      "outputs": [
        {
          "output_type": "execute_result",
          "data": {
            "text/plain": [
              "Tourist_Visitors        305.820388\n",
              "Temp_C                    3.661016\n",
              "no2                       8.529241\n",
              "Is_Weekend                0.452562\n",
              "Is_Jewish_Holiday         0.122296\n",
              "Is_Muslem_Holiday         0.279985\n",
              "Is_Christian_Holiday      0.000000\n",
              "Is_water_area             0.484632\n",
              "Is_National_Park          0.493680\n",
              "Is_Reserve                0.467164\n",
              "Is_Jewish_Site            0.430738\n",
              "Is_Christian_Site         0.402048\n",
              "Camping                   0.410754\n",
              "Duration_Of_Visit         0.599501\n",
              "Summer                    0.000000\n",
              "dtype: float64"
            ]
          },
          "metadata": {},
          "execution_count": 498
        }
      ]
    },
    {
      "cell_type": "code",
      "source": [
        "from sklearn.model_selection import train_test_split\n",
        "y_FullTableSummer_Touristno2 = FullTableSummerTouristno2_df.Tourist_Visitors\n",
        "X_FullTableSummer_Touristno2 = FullTableSummerTouristno2_df[correlated_FullTableSummerTouristno2_df]\n",
        "\n",
        "X_train_FullTableSummer_Touristno2, X_test_FullTableSummer_Touristno2, y_train_FullTableSummer_Touristno2, y_test_FullTableSummer_Touristno2 = train_test_split(X_FullTableSummer_Touristno2, y_FullTableSummer_Touristno2, test_size=0.3, random_state=1234)\n",
        "train_df_FullTableSummer_Touristno2 = pd.merge(left=X_train_FullTableSummer_Touristno2, right=y_train_FullTableSummer_Touristno2, left_index=True, right_index=True)\n",
        "test_df_FullTableSummer_Touristno2 = pd.merge(left=X_test_FullTableSummer_Touristno2, right=y_test_FullTableSummer_Touristno2, left_index=True, right_index=True)\n",
        "#test_df_FullTableSummer_Touristno2.head(10)"
      ],
      "metadata": {
        "id": "9jR0IZ1xfD-u"
      },
      "execution_count": 499,
      "outputs": []
    },
    {
      "cell_type": "code",
      "source": [
        "from sklearn.preprocessing import StandardScaler\n",
        "\n",
        "x_train_scaler_FullTableSummer_Touristno2 = StandardScaler()\n",
        "x_test_scaler_FullTableSummer_Touristno2 = StandardScaler()\n",
        "y_train_scaler_FullTableSummer_Touristno2 = StandardScaler()\n",
        "y_test_scaler_FullTableSummer_Touristno2 = StandardScaler()\n",
        "\n",
        "X_train_scaled_FullTableSummer_Touristno2 = x_train_scaler_FullTableSummer_Touristno2.fit_transform(X_train_FullTableSummer_Touristno2)\n",
        "X_test_scaled_FullTableSummer_Touristno2 = x_test_scaler_FullTableSummer_Touristno2.fit_transform(X_test_FullTableSummer_Touristno2)\n",
        "y_train_scaled_FullTableSummer_Touristno2 = y_train_scaler_FullTableSummer_Touristno2.fit_transform(pd.DataFrame(y_train_FullTableSummer_Touristno2))\n",
        "y_test_scaled_FullTableSummer_Touristno2 = y_test_scaler_FullTableSummer_Touristno2.fit_transform(pd.DataFrame(y_test_FullTableSummer_Touristno2))"
      ],
      "metadata": {
        "id": "mJFFVoQSfD6R"
      },
      "execution_count": 500,
      "outputs": []
    },
    {
      "cell_type": "code",
      "source": [
        "from sklearn.linear_model import LinearRegression\n",
        "lm = LinearRegression()\n",
        "lm.fit(X_train_scaled_FullTableSummer_Touristno2,y_train_scaled_FullTableSummer_Touristno2)\n",
        "\n",
        "coeff = lm.coef_[0]\n",
        "intercept = lm.intercept_[0]\n",
        "print('Coefficients: \\n', \"coeff =\", coeff , \",  Intercept=\",intercept,\"\\n\" )\n",
        "print(\"The regression equation is:\" ,\"Tourist Visitors = \" ,intercept,\" + \",coeff[0],\" * \",correlated_FullTableSummerTouristno2_df[0],\n",
        "      \" + \",coeff[1],\" * \",correlated_FullTableSummerTouristno2_df[1],\" + \",coeff[2],\" * \",correlated_FullTableSummerTouristno2_df[2],\" + \",coeff[3],\" * \",correlated_FullTableSummerTouristno2_df[3],\" + \",coeff[4],\" * \",correlated_FullTableSummerTouristno2_df[4],\" + \",coeff[5],\" * \",correlated_FullTableSummerTouristno2_df[5],\" + \",coeff[6],\" * \",correlated_FullTableSummerTouristno2_df[6],\" + \",coeff[7],\" * \",correlated_FullTableSummerTouristno2_df[7],\" + \",coeff[8],\" * \",correlated_FullTableSummerTouristno2_df[8],\" + \",coeff[9],\" * \",correlated_FullTableSummerTouristno2_df[9],\" + \",coeff[10],\" * \",correlated_FullTableSummerTouristno2_df[10],\" + \",coeff[11],\" * \",correlated_FullTableSummerTouristno2_df[11],\" + \",coeff[12],\" * \",correlated_FullTableSummerTouristno2_df[12],\" + \",coeff[13],\" * \",correlated_FullTableSummerTouristno2_df[13])"
      ],
      "metadata": {
        "colab": {
          "base_uri": "https://localhost:8080/"
        },
        "id": "RxvntNjkfD1s",
        "outputId": "201316d9-b75f-4869-a75f-93c1f2627665"
      },
      "execution_count": 507,
      "outputs": [
        {
          "output_type": "stream",
          "name": "stdout",
          "text": [
            "Coefficients: \n",
            " coeff = [ 4.66414277e-02 -8.49059213e-02 -2.55821173e-02  1.22921945e-02\n",
            "  1.16582948e-02 -1.38777878e-17 -2.59732335e-01  1.28320407e-01\n",
            "  3.16366873e-01  2.41444600e-01  3.31907483e-01  4.82040080e-02\n",
            "  3.08075906e-01  0.00000000e+00] ,  Intercept= -1.3610511450194231e-16 \n",
            "\n",
            "The regression equation is: Tourist Visitors =  -1.3610511450194231e-16  +  0.046641427729234304  *  Temp_C  +  -0.08490592129236137  *  no2  +  -0.0255821172852502  *  Is_Weekend  +  0.012292194472992672  *  Is_Jewish_Holiday  +  0.011658294809785329  *  Is_Muslem_Holiday  +  -1.3877787807814457e-17  *  Is_Christian_Holiday  +  -0.2597323354272429  *  Is_water_area  +  0.12832040661208782  *  Is_National_Park  +  0.3163668733085607  *  Is_Reserve  +  0.24144459990470338  *  Is_Jewish_Site  +  0.3319074826848118  *  Is_Christian_Site  +  0.04820400804115209  *  Camping  +  0.3080759058657815  *  Duration_Of_Visit  +  0.0  *  Summer\n"
          ]
        }
      ]
    },
    {
      "cell_type": "code",
      "source": [
        "fitted_scaled_visitors_FullTableSummer_Touristno2 = lm.predict(X_train_scaled_FullTableSummer_Touristno2)\n",
        "fitted_visitors_FullTableSummer_Touristno2 = y_train_scaler_FullTableSummer_Touristno2.inverse_transform(fitted_scaled_visitors_FullTableSummer_Touristno2)\n",
        "predicted_train_visitors_Touristno2 = round(pd.Series(fitted_visitors_FullTableSummer_Touristno2[:,0], index= y_train_FullTableSummer_Touristno2.index, name='predicted_train_Visitors'), ndigits =2)\n",
        "train_df_FullTableSummer_Touristno2 = pd.merge(left=train_df_FullTableSummer_Touristno2, right=predicted_train_visitors_Touristno2 , left_index=True, right_index=True)\n",
        "\n",
        "#train_df_FullTableSummer_Touristno2.head(10)"
      ],
      "metadata": {
        "id": "vdrfiyVYfDxV"
      },
      "execution_count": 502,
      "outputs": []
    },
    {
      "cell_type": "code",
      "source": [
        "fitted_scaled_visitors_FullTableSummer_Touristno2 = lm.predict(X_test_scaled_FullTableSummer_Touristno2)\n",
        "fitted_visitors_FullTableSummer_Touristno2 = y_test_scaler_FullTableSummer_Touristno2.inverse_transform(fitted_scaled_visitors_FullTableSummer_Touristno2)\n",
        "predicted_test_visitors_Touristno2 = round(pd.Series(fitted_visitors_FullTableSummer_Touristno2[:,0], index= y_test_FullTableSummer_Touristno2.index, name='predicted_test_Visitors'), ndigits =2)\n",
        "test_df_FullTableSummer_Touristno2 = pd.merge(left=test_df_FullTableSummer_Touristno2, right=predicted_test_visitors_Touristno2 , left_index=True, right_index=True)\n",
        "\n",
        "#test_df_FullTableSummer_Touristno2.head(10)"
      ],
      "metadata": {
        "id": "G3eR50C0fDsT"
      },
      "execution_count": 503,
      "outputs": []
    },
    {
      "cell_type": "code",
      "source": [
        "from sklearn import metrics\n",
        "print(\"std of the objective function: 305.82\")\n",
        "print(\"\")\n",
        "print(\"------ TRAIN DATA ------\")\n",
        "print(\"RMSE:\",np.sqrt(metrics.mean_squared_error(train_df_FullTableSummer_Touristno2.Tourist_Visitors, train_df_FullTableSummer_Touristno2.predicted_train_Visitors)))\n",
        "print(\"\")\n",
        "print(\"------ TEST DATA ------\")\n",
        "print(\"RMSE:\",np.sqrt(metrics.mean_squared_error(test_df_FullTableSummer_Touristno2.Tourist_Visitors, test_df_FullTableSummer_Touristno2.predicted_test_Visitors)))"
      ],
      "metadata": {
        "colab": {
          "base_uri": "https://localhost:8080/"
        },
        "id": "DQfZWpZRfDn-",
        "outputId": "43df9e92-aa82-4056-c075-58a1fd6f5ec4"
      },
      "execution_count": 504,
      "outputs": [
        {
          "output_type": "stream",
          "name": "stdout",
          "text": [
            "std of the objective function: 305.82\n",
            "\n",
            "------ TRAIN DATA ------\n",
            "RMSE: 287.4742830287953\n",
            "\n",
            "------ TEST DATA ------\n",
            "RMSE: 250.4648003747029\n"
          ]
        }
      ]
    },
    {
      "cell_type": "code",
      "source": [
        "from sklearn.metrics import r2_score\n",
        "r2_score(train_df_FullTableSummer_Touristno2.Tourist_Visitors, train_df_FullTableSummer_Touristno2.predicted_train_Visitors)"
      ],
      "metadata": {
        "colab": {
          "base_uri": "https://localhost:8080/"
        },
        "id": "BwZk2zH9ZOu3",
        "outputId": "bab91107-3aae-4b4d-d875-c95ca5800d66"
      },
      "execution_count": 505,
      "outputs": [
        {
          "output_type": "execute_result",
          "data": {
            "text/plain": [
              "0.17729107341651174"
            ]
          },
          "metadata": {},
          "execution_count": 505
        }
      ]
    },
    {
      "cell_type": "code",
      "source": [
        "#get R2 for test set\n",
        "r2_score(test_df_FullTableSummer_Touristno2.Tourist_Visitors, test_df_FullTableSummer_Touristno2.predicted_test_Visitors)"
      ],
      "metadata": {
        "colab": {
          "base_uri": "https://localhost:8080/"
        },
        "id": "rRBerDehZQ6M",
        "outputId": "481a1d2e-4601-41ad-c0d4-2933cc3e8029"
      },
      "execution_count": 506,
      "outputs": [
        {
          "output_type": "execute_result",
          "data": {
            "text/plain": [
              "0.18790260188025543"
            ]
          },
          "metadata": {},
          "execution_count": 506
        }
      ]
    }
  ]
}